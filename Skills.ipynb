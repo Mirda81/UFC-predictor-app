{
 "cells": [
  {
   "cell_type": "code",
   "execution_count": 20,
   "id": "3cb33ed1",
   "metadata": {},
   "outputs": [],
   "source": [
    "import pandas as pd\n",
    "\n",
    "df_skills = pd.read_csv('df_skills.csv')\n",
    "df_fight_stats = pd.read_csv('fight_with_stats.csv')\n",
    "df_precomp = pd.read_csv('fight_with_stats_precomp.csv')\n",
    "import numpy as np"
   ]
  },
  {
   "cell_type": "code",
   "execution_count": 21,
   "id": "3f99a461",
   "metadata": {
    "scrolled": true
   },
   "outputs": [
    {
     "name": "stdout",
     "output_type": "stream",
     "text": [
      "<class 'pandas.core.frame.DataFrame'>\n",
      "RangeIndex: 13784 entries, 0 to 13783\n",
      "Data columns (total 63 columns):\n",
      " #   Column                       Non-Null Count  Dtype  \n",
      "---  ------                       --------------  -----  \n",
      " 0   EVENT                        13784 non-null  object \n",
      " 1   BOUT                         13784 non-null  object \n",
      " 2   FIGHTER                      13784 non-null  object \n",
      " 3   OPPONENT                     13784 non-null  object \n",
      " 4   METHOD                       13784 non-null  object \n",
      " 5   Win                          13784 non-null  int64  \n",
      " 6   Women_fight                  13784 non-null  int64  \n",
      " 7   ROUND                        13784 non-null  int64  \n",
      " 8   HEIGHT_diff                  13784 non-null  float64\n",
      " 9   REACH_diff                   13784 non-null  float64\n",
      " 10  AGE_diff                     13784 non-null  float64\n",
      " 11  form_skore_fighter           13784 non-null  float64\n",
      " 12  form_skore_opponent          13784 non-null  float64\n",
      " 13  fightNo_fighter              13784 non-null  int64  \n",
      " 14  fightNo_opponent             13784 non-null  float64\n",
      " 15  Win_tot                      11478 non-null  float64\n",
      " 16  DRAW                         11478 non-null  float64\n",
      " 17  No_contest                   11478 non-null  float64\n",
      " 18  TotalTime                    11478 non-null  float64\n",
      " 19  KD_fighter                   11478 non-null  float64\n",
      " 20  SUB.ATT_fighter              11478 non-null  float64\n",
      " 21  REV._fighter                 11478 non-null  float64\n",
      " 22  CTRL_fighter                 11478 non-null  float64\n",
      " 23  SIG.STR._landed_fighter      11478 non-null  float64\n",
      " 24  SIG.STR._attemps_fighter     11478 non-null  float64\n",
      " 25  TOTAL STR._landed_fighter    11478 non-null  float64\n",
      " 26  TOTAL STR._attemps_fighter   11478 non-null  float64\n",
      " 27  TD_landed_fighter            11478 non-null  float64\n",
      " 28  TD_attemps_fighter           11478 non-null  float64\n",
      " 29  HEAD_landed_fighter          11478 non-null  float64\n",
      " 30  HEAD_attemps_fighter         11478 non-null  float64\n",
      " 31  BODY_landed_fighter          11478 non-null  float64\n",
      " 32  BODY_attemps_fighter         11478 non-null  float64\n",
      " 33  LEG_landed_fighter           11478 non-null  float64\n",
      " 34  LEG_attemps_fighter          11478 non-null  float64\n",
      " 35  DISTANCE_landed_fighter      11478 non-null  float64\n",
      " 36  DISTANCE_attemps_fighter     11478 non-null  float64\n",
      " 37  CLINCH_landed_fighter        11478 non-null  float64\n",
      " 38  CLINCH_attemps_fighter       11478 non-null  float64\n",
      " 39  GROUND_landed_fighter        11478 non-null  float64\n",
      " 40  GROUND_attemps_fighter       11478 non-null  float64\n",
      " 41  KD_opponent                  11478 non-null  float64\n",
      " 42  SUB.ATT_opponent             11478 non-null  float64\n",
      " 43  REV._opponent                11478 non-null  float64\n",
      " 44  CTRL_opponent                11478 non-null  float64\n",
      " 45  SIG.STR._landed_opponent     11478 non-null  float64\n",
      " 46  SIG.STR._attemps_opponent    11478 non-null  float64\n",
      " 47  TOTAL STR._landed_opponent   11478 non-null  float64\n",
      " 48  TOTAL STR._attemps_opponent  11478 non-null  float64\n",
      " 49  TD_landed_opponent           11478 non-null  float64\n",
      " 50  TD_attemps_opponent          11478 non-null  float64\n",
      " 51  HEAD_landed_opponent         11478 non-null  float64\n",
      " 52  HEAD_attemps_opponent        11478 non-null  float64\n",
      " 53  BODY_landed_opponent         11478 non-null  float64\n",
      " 54  BODY_attemps_opponent        11478 non-null  float64\n",
      " 55  LEG_landed_opponent          11478 non-null  float64\n",
      " 56  LEG_attemps_opponent         11478 non-null  float64\n",
      " 57  DISTANCE_landed_opponent     11478 non-null  float64\n",
      " 58  DISTANCE_attemps_opponent    11478 non-null  float64\n",
      " 59  CLINCH_landed_opponent       11478 non-null  float64\n",
      " 60  CLINCH_attemps_opponent      11478 non-null  float64\n",
      " 61  GROUND_landed_opponent       11478 non-null  float64\n",
      " 62  GROUND_attemps_opponent      11478 non-null  float64\n",
      "dtypes: float64(54), int64(4), object(5)\n",
      "memory usage: 6.6+ MB\n"
     ]
    }
   ],
   "source": [
    "df_precomp.info()"
   ]
  },
  {
   "cell_type": "code",
   "execution_count": 4,
   "id": "3ded4cc5",
   "metadata": {},
   "outputs": [],
   "source": [
    "percentil_fight =4\n",
    "df_skills['fights_coef'] = (df_skills['Fights'] - percentil_fight)/ (df_skills['Lost-ground']+1)\n",
    "df_skills['lost_ground_rat'] = (df_skills['Lost-ground']/df_skills['Fights'])\n",
    "df_skills['coef_zada'] = (df_skills['CTRL_opponent']/df_skills['TotalTime'])\n",
    "df_skills['ground_def_skill'] = (30*(1-df_skills['coef_zada']))+(30*(1-df_skills['lost_ground_rat']))+df_skills['fights_coef']+10"
   ]
  },
  {
   "cell_type": "code",
   "execution_count": 5,
   "id": "a422e711",
   "metadata": {},
   "outputs": [],
   "source": [
    "df_skills['fights_coef_gr_att'] = (df_skills['Fights'] - percentil_fight)/ (df_skills['Fights']  - df_skills['Win-ground']+1)\n",
    "df_skills['win_ground_rat'] = (df_skills['Win-ground']/df_skills['Fights'])\n",
    "df_skills['coef_kontrola'] = (df_skills['CTRL_fighter']/df_skills['TotalTime'])\n",
    "df_skills['ground_att_skill'] = (45*df_skills['coef_kontrola'])+(45*(df_skills['win_ground_rat']))+12*df_skills['fights_coef_gr_att']+20"
   ]
  },
  {
   "cell_type": "code",
   "execution_count": 6,
   "id": "dcdf2561",
   "metadata": {},
   "outputs": [],
   "source": [
    "df_skills['fights_coef_str_def'] = (df_skills['Fights'])/ (df_skills['Lost-striking']+1)\n",
    "df_skills['lost_str_rat'] = (df_skills['Lost-striking']/df_skills['Fights'])\n",
    "df_skills['coef_nohy'] = (df_skills['TotalTime'] - df_skills['CTRL_fighter'] - df_skills['CTRL_opponent'])/df_skills['TotalTime']\n",
    "df_skills['stand_def_skill'] = (40*(df_skills['coef_nohy']))+(40*(1-df_skills['lost_str_rat']))+df_skills['fights_coef_str_def']"
   ]
  },
  {
   "cell_type": "code",
   "execution_count": 7,
   "id": "b1e5d910",
   "metadata": {},
   "outputs": [],
   "source": [
    "df_skills['fights_coef_str_att'] = (df_skills['Fights'] - percentil_fight)/ (df_skills['Fights']  - df_skills['Win-striking']+1)\n",
    "df_skills['win_ground_rat'] = (df_skills['Win-striking']/df_skills['Fights'])\n",
    "df_skills['coef_nohy'] = (df_skills['TotalTime'] - df_skills['CTRL_fighter'] - df_skills['CTRL_opponent'])/df_skills['TotalTime']\n",
    "df_skills['stand_att_skill'] = (45*df_skills['coef_nohy'])+(45*(df_skills['win_ground_rat']))+12*df_skills['fights_coef_str_att']+20"
   ]
  },
  {
   "cell_type": "code",
   "execution_count": 8,
   "id": "40724261",
   "metadata": {},
   "outputs": [],
   "source": [
    "df_skills['fights_coef_stamina'] = (df_skills['Fights']-4)/ (df_skills['Lost']+1)\n",
    "df_skills['avg_time'] = (df_skills['TotalTime']/df_skills['Fights']/300)\n",
    "df_skills['win_dec_rat'] = (df_skills['Win_Decision']/df_skills['Fights'])\n",
    "df_skills['stamina'] = 5*df_skills['fights_coef_stamina'] + df_skills['avg_time'] +40*df_skills['win_dec_rat']+25"
   ]
  },
  {
   "cell_type": "code",
   "execution_count": 9,
   "id": "0606ea3a",
   "metadata": {},
   "outputs": [
    {
     "data": {
      "text/plain": [
       "count    2306.000000\n",
       "mean       33.591087\n",
       "std        12.252218\n",
       "min        10.063333\n",
       "25%        23.492500\n",
       "50%        34.726540\n",
       "75%        42.553138\n",
       "max        95.033889\n",
       "Name: stamina, dtype: float64"
      ]
     },
     "execution_count": 9,
     "metadata": {},
     "output_type": "execute_result"
    }
   ],
   "source": [
    "df_skills['stamina'].describe()"
   ]
  },
  {
   "cell_type": "code",
   "execution_count": 10,
   "id": "b773c907",
   "metadata": {},
   "outputs": [
    {
     "data": {
      "text/plain": [
       "<AxesSubplot:>"
      ]
     },
     "execution_count": 10,
     "metadata": {},
     "output_type": "execute_result"
    },
    {
     "data": {
      "image/png": "[encoded data removed]",
      "text/plain": [
       "<Figure size 640x480 with 1 Axes>"
      ]
     },
     "metadata": {},
     "output_type": "display_data"
    }
   ],
   "source": [
    "df_skills['stamina'].hist()"
   ]
  },
  {
   "cell_type": "code",
   "execution_count": 11,
   "id": "5a8a42c3",
   "metadata": {
    "scrolled": true
   },
   "outputs": [
    {
     "data": {
      "text/plain": [
       "count    2306.000000\n",
       "mean       33.591087\n",
       "std        12.252218\n",
       "min        10.063333\n",
       "25%        23.492500\n",
       "50%        34.726540\n",
       "75%        42.553138\n",
       "max        95.033889\n",
       "Name: stamina, dtype: float64"
      ]
     },
     "execution_count": 11,
     "metadata": {},
     "output_type": "execute_result"
    }
   ],
   "source": [
    "df_skills[\"stamina\"].describe()"
   ]
  },
  {
   "cell_type": "code",
   "execution_count": 12,
   "id": "a22d6a92",
   "metadata": {},
   "outputs": [
    {
     "data": {
      "text/html": [
       "<div>\n",
       "<style scoped>\n",
       "    .dataframe tbody tr th:only-of-type {\n",
       "        vertical-align: middle;\n",
       "    }\n",
       "\n",
       "    .dataframe tbody tr th {\n",
       "        vertical-align: top;\n",
       "    }\n",
       "\n",
       "    .dataframe thead th {\n",
       "        text-align: right;\n",
       "    }\n",
       "</style>\n",
       "<table border=\"1\" class=\"dataframe\">\n",
       "  <thead>\n",
       "    <tr style=\"text-align: right;\">\n",
       "      <th></th>\n",
       "      <th>ground_def_skill</th>\n",
       "      <th>ground_att_skill</th>\n",
       "      <th>stand_def_skill</th>\n",
       "      <th>stand_att_skill</th>\n",
       "      <th>stamina</th>\n",
       "    </tr>\n",
       "  </thead>\n",
       "  <tbody>\n",
       "    <tr>\n",
       "      <th>count</th>\n",
       "      <td>2306.000000</td>\n",
       "      <td>2306.000000</td>\n",
       "      <td>2306.000000</td>\n",
       "      <td>2306.000000</td>\n",
       "      <td>2306.000000</td>\n",
       "    </tr>\n",
       "    <tr>\n",
       "      <th>mean</th>\n",
       "      <td>51.964441</td>\n",
       "      <td>28.367736</td>\n",
       "      <td>56.984389</td>\n",
       "      <td>41.738942</td>\n",
       "      <td>30.550304</td>\n",
       "    </tr>\n",
       "    <tr>\n",
       "      <th>std</th>\n",
       "      <td>9.290750</td>\n",
       "      <td>13.637930</td>\n",
       "      <td>11.402162</td>\n",
       "      <td>10.400585</td>\n",
       "      <td>7.837744</td>\n",
       "    </tr>\n",
       "    <tr>\n",
       "      <th>min</th>\n",
       "      <td>21.000000</td>\n",
       "      <td>2.000000</td>\n",
       "      <td>7.000000</td>\n",
       "      <td>3.000000</td>\n",
       "      <td>8.000000</td>\n",
       "    </tr>\n",
       "    <tr>\n",
       "      <th>25%</th>\n",
       "      <td>47.000000</td>\n",
       "      <td>20.000000</td>\n",
       "      <td>50.000000</td>\n",
       "      <td>36.250000</td>\n",
       "      <td>25.000000</td>\n",
       "    </tr>\n",
       "    <tr>\n",
       "      <th>50%</th>\n",
       "      <td>52.000000</td>\n",
       "      <td>28.000000</td>\n",
       "      <td>56.000000</td>\n",
       "      <td>43.000000</td>\n",
       "      <td>31.000000</td>\n",
       "    </tr>\n",
       "    <tr>\n",
       "      <th>75%</th>\n",
       "      <td>57.000000</td>\n",
       "      <td>37.750000</td>\n",
       "      <td>63.000000</td>\n",
       "      <td>49.000000</td>\n",
       "      <td>36.000000</td>\n",
       "    </tr>\n",
       "    <tr>\n",
       "      <th>max</th>\n",
       "      <td>87.000000</td>\n",
       "      <td>74.000000</td>\n",
       "      <td>90.000000</td>\n",
       "      <td>68.000000</td>\n",
       "      <td>61.000000</td>\n",
       "    </tr>\n",
       "  </tbody>\n",
       "</table>\n",
       "</div>"
      ],
      "text/plain": [
       "       ground_def_skill  ground_att_skill  stand_def_skill  stand_att_skill  \\\n",
       "count       2306.000000       2306.000000      2306.000000      2306.000000   \n",
       "mean          51.964441         28.367736        56.984389        41.738942   \n",
       "std            9.290750         13.637930        11.402162        10.400585   \n",
       "min           21.000000          2.000000         7.000000         3.000000   \n",
       "25%           47.000000         20.000000        50.000000        36.250000   \n",
       "50%           52.000000         28.000000        56.000000        43.000000   \n",
       "75%           57.000000         37.750000        63.000000        49.000000   \n",
       "max           87.000000         74.000000        90.000000        68.000000   \n",
       "\n",
       "           stamina  \n",
       "count  2306.000000  \n",
       "mean     30.550304  \n",
       "std       7.837744  \n",
       "min       8.000000  \n",
       "25%      25.000000  \n",
       "50%      31.000000  \n",
       "75%      36.000000  \n",
       "max      61.000000  "
      ]
     },
     "execution_count": 12,
     "metadata": {},
     "output_type": "execute_result"
    }
   ],
   "source": [
    "from sklearn import preprocessing\n",
    "fighters_normalized = df_skills[['FIGHTER',\"ground_def_skill\",\"ground_att_skill\", \"stand_def_skill\",\"stand_att_skill\", \"stamina\"]].copy()\n",
    "fighters_normalized.iloc[:,1:] =  preprocessing.normalize(fighters_normalized.iloc[:,1:])\n",
    "fighters_normalized.iloc[:,1:]=fighters_normalized.iloc[:,1:].apply(lambda x:round(x*100,0)) \n",
    "fighters_normalized = fighters_normalized.set_index('FIGHTER')\n",
    "fighters_normalized.describe()"
   ]
  },
  {
   "cell_type": "code",
   "execution_count": 13,
   "id": "e7c6bf00",
   "metadata": {},
   "outputs": [],
   "source": [
    "skills_to_chart = df_skills[['FIGHTER',\"ground_def_skill\",\"ground_att_skill\", \"stand_def_skill\",\"stand_att_skill\", \"stamina\"]].copy().set_index('FIGHTER')"
   ]
  },
  {
   "cell_type": "code",
   "execution_count": 14,
   "id": "3fbcaa47",
   "metadata": {},
   "outputs": [],
   "source": [
    "fighter = 'Nate Diaz'\n",
    "opponent = 'Conor McGregor'"
   ]
  },
  {
   "cell_type": "code",
   "execution_count": 15,
   "id": "614affcf",
   "metadata": {},
   "outputs": [
    {
     "data": {
      "text/plain": [
       "[60.81127964291003,\n",
       " 37.33658056736688,\n",
       " 68.22696790844282,\n",
       " 84.59462461128388,\n",
       " 42.32214285714286]"
      ]
     },
     "execution_count": 15,
     "metadata": {},
     "output_type": "execute_result"
    }
   ],
   "source": [
    "skills_to_chart.loc[opponent].values.flatten().tolist()"
   ]
  },
  {
   "cell_type": "code",
   "execution_count": 16,
   "id": "a5e68de5",
   "metadata": {},
   "outputs": [
    {
     "data": {
      "text/plain": [
       "[84.30045950886901,\n",
       " 60.87427496320926,\n",
       " 74.81411118614044,\n",
       " 57.53393063996354,\n",
       " 43.0079012345679]"
      ]
     },
     "execution_count": 16,
     "metadata": {},
     "output_type": "execute_result"
    }
   ],
   "source": [
    "df_skills.loc[df_skills['FIGHTER']==fighter,[\"ground_def_skill\",\"ground_att_skill\", \"stand_def_skill\",\"stand_att_skill\", \"stamina\"]].values.flatten().tolist()"
   ]
  },
  {
   "cell_type": "code",
   "execution_count": 18,
   "id": "855357e5",
   "metadata": {},
   "outputs": [
    {
     "ename": "PermissionError",
     "evalue": "[Errno 13] Permission denied: 'df_skills.csv'",
     "output_type": "error",
     "traceback": [
      "\u001b[1;31m---------------------------------------------------------------------------\u001b[0m",
      "\u001b[1;31mPermissionError\u001b[0m                           Traceback (most recent call last)",
      "\u001b[1;32m~\\AppData\\Local\\Temp\\ipykernel_9756\\4268485709.py\u001b[0m in \u001b[0;36m<module>\u001b[1;34m\u001b[0m\n\u001b[1;32m----> 1\u001b[1;33m \u001b[0mdf_skills\u001b[0m\u001b[1;33m.\u001b[0m\u001b[0mto_csv\u001b[0m\u001b[1;33m(\u001b[0m\u001b[1;34m'df_skills.csv'\u001b[0m\u001b[1;33m,\u001b[0m\u001b[0mindex\u001b[0m\u001b[1;33m=\u001b[0m\u001b[1;32mFalse\u001b[0m\u001b[1;33m)\u001b[0m\u001b[1;33m\u001b[0m\u001b[1;33m\u001b[0m\u001b[0m\n\u001b[0m",
      "\u001b[1;32mD:\\anacinda\\lib\\site-packages\\pandas\\core\\generic.py\u001b[0m in \u001b[0;36mto_csv\u001b[1;34m(self, path_or_buf, sep, na_rep, float_format, columns, header, index, index_label, mode, encoding, compression, quoting, quotechar, line_terminator, chunksize, date_format, doublequote, escapechar, decimal, errors, storage_options)\u001b[0m\n\u001b[0;32m   3549\u001b[0m         )\n\u001b[0;32m   3550\u001b[0m \u001b[1;33m\u001b[0m\u001b[0m\n\u001b[1;32m-> 3551\u001b[1;33m         return DataFrameRenderer(formatter).to_csv(\n\u001b[0m\u001b[0;32m   3552\u001b[0m             \u001b[0mpath_or_buf\u001b[0m\u001b[1;33m,\u001b[0m\u001b[1;33m\u001b[0m\u001b[1;33m\u001b[0m\u001b[0m\n\u001b[0;32m   3553\u001b[0m             \u001b[0mline_terminator\u001b[0m\u001b[1;33m=\u001b[0m\u001b[0mline_terminator\u001b[0m\u001b[1;33m,\u001b[0m\u001b[1;33m\u001b[0m\u001b[1;33m\u001b[0m\u001b[0m\n",
      "\u001b[1;32mD:\\anacinda\\lib\\site-packages\\pandas\\io\\formats\\format.py\u001b[0m in \u001b[0;36mto_csv\u001b[1;34m(self, path_or_buf, encoding, sep, columns, index_label, mode, compression, quoting, quotechar, line_terminator, chunksize, date_format, doublequote, escapechar, errors, storage_options)\u001b[0m\n\u001b[0;32m   1178\u001b[0m             \u001b[0mformatter\u001b[0m\u001b[1;33m=\u001b[0m\u001b[0mself\u001b[0m\u001b[1;33m.\u001b[0m\u001b[0mfmt\u001b[0m\u001b[1;33m,\u001b[0m\u001b[1;33m\u001b[0m\u001b[1;33m\u001b[0m\u001b[0m\n\u001b[0;32m   1179\u001b[0m         )\n\u001b[1;32m-> 1180\u001b[1;33m         \u001b[0mcsv_formatter\u001b[0m\u001b[1;33m.\u001b[0m\u001b[0msave\u001b[0m\u001b[1;33m(\u001b[0m\u001b[1;33m)\u001b[0m\u001b[1;33m\u001b[0m\u001b[1;33m\u001b[0m\u001b[0m\n\u001b[0m\u001b[0;32m   1181\u001b[0m \u001b[1;33m\u001b[0m\u001b[0m\n\u001b[0;32m   1182\u001b[0m         \u001b[1;32mif\u001b[0m \u001b[0mcreated_buffer\u001b[0m\u001b[1;33m:\u001b[0m\u001b[1;33m\u001b[0m\u001b[1;33m\u001b[0m\u001b[0m\n",
      "\u001b[1;32mD:\\anacinda\\lib\\site-packages\\pandas\\io\\formats\\csvs.py\u001b[0m in \u001b[0;36msave\u001b[1;34m(self)\u001b[0m\n\u001b[0;32m    239\u001b[0m         \"\"\"\n\u001b[0;32m    240\u001b[0m         \u001b[1;31m# apply compression and byte/text conversion\u001b[0m\u001b[1;33m\u001b[0m\u001b[1;33m\u001b[0m\u001b[0m\n\u001b[1;32m--> 241\u001b[1;33m         with get_handle(\n\u001b[0m\u001b[0;32m    242\u001b[0m             \u001b[0mself\u001b[0m\u001b[1;33m.\u001b[0m\u001b[0mfilepath_or_buffer\u001b[0m\u001b[1;33m,\u001b[0m\u001b[1;33m\u001b[0m\u001b[1;33m\u001b[0m\u001b[0m\n\u001b[0;32m    243\u001b[0m             \u001b[0mself\u001b[0m\u001b[1;33m.\u001b[0m\u001b[0mmode\u001b[0m\u001b[1;33m,\u001b[0m\u001b[1;33m\u001b[0m\u001b[1;33m\u001b[0m\u001b[0m\n",
      "\u001b[1;32mD:\\anacinda\\lib\\site-packages\\pandas\\io\\common.py\u001b[0m in \u001b[0;36mget_handle\u001b[1;34m(path_or_buf, mode, encoding, compression, memory_map, is_text, errors, storage_options)\u001b[0m\n\u001b[0;32m    784\u001b[0m         \u001b[1;32mif\u001b[0m \u001b[0mioargs\u001b[0m\u001b[1;33m.\u001b[0m\u001b[0mencoding\u001b[0m \u001b[1;32mand\u001b[0m \u001b[1;34m\"b\"\u001b[0m \u001b[1;32mnot\u001b[0m \u001b[1;32min\u001b[0m \u001b[0mioargs\u001b[0m\u001b[1;33m.\u001b[0m\u001b[0mmode\u001b[0m\u001b[1;33m:\u001b[0m\u001b[1;33m\u001b[0m\u001b[1;33m\u001b[0m\u001b[0m\n\u001b[0;32m    785\u001b[0m             \u001b[1;31m# Encoding\u001b[0m\u001b[1;33m\u001b[0m\u001b[1;33m\u001b[0m\u001b[0m\n\u001b[1;32m--> 786\u001b[1;33m             handle = open(\n\u001b[0m\u001b[0;32m    787\u001b[0m                 \u001b[0mhandle\u001b[0m\u001b[1;33m,\u001b[0m\u001b[1;33m\u001b[0m\u001b[1;33m\u001b[0m\u001b[0m\n\u001b[0;32m    788\u001b[0m                 \u001b[0mioargs\u001b[0m\u001b[1;33m.\u001b[0m\u001b[0mmode\u001b[0m\u001b[1;33m,\u001b[0m\u001b[1;33m\u001b[0m\u001b[1;33m\u001b[0m\u001b[0m\n",
      "\u001b[1;31mPermissionError\u001b[0m: [Errno 13] Permission denied: 'df_skills.csv'"
     ]
    }
   ],
   "source": [
    "df_skills.to_csv('df_skills.csv',index=False)"
   ]
  },
  {
   "cell_type": "code",
   "execution_count": null,
   "id": "424355d4",
   "metadata": {},
   "outputs": [],
   "source": []
  }
 ],
 "metadata": {
  "kernelspec": {
   "display_name": "Python 3 (ipykernel)",
   "language": "python",
   "name": "python3"
  },
  "language_info": {
   "codemirror_mode": {
    "name": "ipython",
    "version": 3
   },
   "file_extension": ".py",
   "mimetype": "text/x-python",
   "name": "python",
   "nbconvert_exporter": "python",
   "pygments_lexer": "ipython3",
   "version": "3.9.13"
  }
 },
 "nbformat": 4,
 "nbformat_minor": 5
}
