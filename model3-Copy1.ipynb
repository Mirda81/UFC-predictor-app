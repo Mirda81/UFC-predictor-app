{
 "cells": [
  {
   "cell_type": "code",
   "execution_count": 1,
   "id": "6eda130d",
   "metadata": {},
   "outputs": [],
   "source": [
    "import pandas as pd\n",
    "import numpy as np\n",
    "from sklearn.model_selection import GridSearchCV, train_test_split"
   ]
  },
  {
   "cell_type": "code",
   "execution_count": 2,
   "id": "64504238",
   "metadata": {},
   "outputs": [],
   "source": [
    "from keras.models import Sequential\n",
    "from keras.layers import Dense, Activation, Dropout\n",
    "\n",
    "from keras import layers\n",
    "from sklearn.neural_network import MLPClassifier\n",
    "from sklearn.metrics import accuracy_score, f1_score, auc, roc_curve, roc_auc_score\n",
    "from sklearn.preprocessing import StandardScaler\n",
    "from keras.layers import Dense, LSTM, Dropout, GRU, Bidirectional\n",
    "import pandas as pd\n",
    "from keras.layers import LSTM, Dense\n",
    "from keras.models import Sequential\n",
    "from sklearn.preprocessing import MinMaxScaler\n",
    "from sklearn.model_selection import train_test_split\n"
   ]
  },
  {
   "cell_type": "code",
   "execution_count": 3,
   "id": "1160a496",
   "metadata": {},
   "outputs": [],
   "source": [
    "df = pd.read_csv('Preprocessing/fight_with_stats_precomp.csv')\n",
    "df_fighters = pd.read_csv('Preprocessing/fighter_total_stats.csv')"
   ]
  },
  {
   "cell_type": "code",
   "execution_count": 4,
   "id": "1313842b",
   "metadata": {},
   "outputs": [],
   "source": [
    "df_fighters_details = pd.read_csv('Preprocessing/fighter_details.csv', parse_dates=True)"
   ]
  },
  {
   "cell_type": "code",
   "execution_count": 5,
   "id": "cfad8be9",
   "metadata": {},
   "outputs": [],
   "source": [
    "df = df[(df['fightNo_fighter']>=3) & (df['fightNo_opponent']>=3) & (df['Women_fight']==0) & (df['ROUND']<4)]"
   ]
  },
  {
   "cell_type": "code",
   "execution_count": 6,
   "id": "6fbc9051",
   "metadata": {},
   "outputs": [],
   "source": [
    "df = df.fillna(0)\n"
   ]
  },
  {
   "cell_type": "code",
   "execution_count": 7,
   "id": "a380c164",
   "metadata": {},
   "outputs": [
    {
     "data": {
      "text/html": [
       "<div>\n",
       "<style scoped>\n",
       "    .dataframe tbody tr th:only-of-type {\n",
       "        vertical-align: middle;\n",
       "    }\n",
       "\n",
       "    .dataframe tbody tr th {\n",
       "        vertical-align: top;\n",
       "    }\n",
       "\n",
       "    .dataframe thead th {\n",
       "        text-align: right;\n",
       "    }\n",
       "</style>\n",
       "<table border=\"1\" class=\"dataframe\">\n",
       "  <thead>\n",
       "    <tr style=\"text-align: right;\">\n",
       "      <th></th>\n",
       "      <th>EVENT</th>\n",
       "      <th>BOUT</th>\n",
       "      <th>FIGHTER</th>\n",
       "      <th>OPPONENT</th>\n",
       "      <th>METHOD</th>\n",
       "      <th>Win</th>\n",
       "      <th>Women_fight</th>\n",
       "      <th>ROUND</th>\n",
       "      <th>HEIGHT_diff</th>\n",
       "      <th>REACH_diff</th>\n",
       "      <th>...</th>\n",
       "      <th>BODY_landed_opponent</th>\n",
       "      <th>BODY_attemps_opponent</th>\n",
       "      <th>LEG_landed_opponent</th>\n",
       "      <th>LEG_attemps_opponent</th>\n",
       "      <th>DISTANCE_landed_opponent</th>\n",
       "      <th>DISTANCE_attemps_opponent</th>\n",
       "      <th>CLINCH_landed_opponent</th>\n",
       "      <th>CLINCH_attemps_opponent</th>\n",
       "      <th>GROUND_landed_opponent</th>\n",
       "      <th>GROUND_attemps_opponent</th>\n",
       "    </tr>\n",
       "  </thead>\n",
       "  <tbody>\n",
       "    <tr>\n",
       "      <th>24</th>\n",
       "      <td>UFC 2: No Way Out</td>\n",
       "      <td>Royce Gracie vs. Patrick Smith</td>\n",
       "      <td>Patrick Smith</td>\n",
       "      <td>Royce Gracie</td>\n",
       "      <td>KO/TKO - ground</td>\n",
       "      <td>0</td>\n",
       "      <td>0</td>\n",
       "      <td>1</td>\n",
       "      <td>1.0</td>\n",
       "      <td>0.0</td>\n",
       "      <td>...</td>\n",
       "      <td>0.0</td>\n",
       "      <td>0.0</td>\n",
       "      <td>3.0</td>\n",
       "      <td>5.0</td>\n",
       "      <td>5.0</td>\n",
       "      <td>10.0</td>\n",
       "      <td>0.0</td>\n",
       "      <td>0.0</td>\n",
       "      <td>0.0</td>\n",
       "      <td>0.0</td>\n",
       "    </tr>\n",
       "    <tr>\n",
       "      <th>25</th>\n",
       "      <td>UFC 2: No Way Out</td>\n",
       "      <td>Royce Gracie vs. Patrick Smith</td>\n",
       "      <td>Royce Gracie</td>\n",
       "      <td>Patrick Smith</td>\n",
       "      <td>KO/TKO - ground</td>\n",
       "      <td>1</td>\n",
       "      <td>0</td>\n",
       "      <td>1</td>\n",
       "      <td>-1.0</td>\n",
       "      <td>0.0</td>\n",
       "      <td>...</td>\n",
       "      <td>0.0</td>\n",
       "      <td>0.0</td>\n",
       "      <td>0.0</td>\n",
       "      <td>1.0</td>\n",
       "      <td>0.0</td>\n",
       "      <td>2.0</td>\n",
       "      <td>0.0</td>\n",
       "      <td>0.0</td>\n",
       "      <td>3.0</td>\n",
       "      <td>5.0</td>\n",
       "    </tr>\n",
       "    <tr>\n",
       "      <th>26</th>\n",
       "      <td>UFC 2: No Way Out</td>\n",
       "      <td>Royce Gracie vs. Remco Pardoel</td>\n",
       "      <td>Remco Pardoel</td>\n",
       "      <td>Royce Gracie</td>\n",
       "      <td>Submission</td>\n",
       "      <td>0</td>\n",
       "      <td>0</td>\n",
       "      <td>1</td>\n",
       "      <td>2.0</td>\n",
       "      <td>0.0</td>\n",
       "      <td>...</td>\n",
       "      <td>0.0</td>\n",
       "      <td>0.0</td>\n",
       "      <td>1.0</td>\n",
       "      <td>1.0</td>\n",
       "      <td>2.0</td>\n",
       "      <td>3.0</td>\n",
       "      <td>0.0</td>\n",
       "      <td>0.0</td>\n",
       "      <td>0.0</td>\n",
       "      <td>2.0</td>\n",
       "    </tr>\n",
       "    <tr>\n",
       "      <th>27</th>\n",
       "      <td>UFC 2: No Way Out</td>\n",
       "      <td>Royce Gracie vs. Remco Pardoel</td>\n",
       "      <td>Royce Gracie</td>\n",
       "      <td>Remco Pardoel</td>\n",
       "      <td>Submission</td>\n",
       "      <td>1</td>\n",
       "      <td>0</td>\n",
       "      <td>1</td>\n",
       "      <td>-2.0</td>\n",
       "      <td>0.0</td>\n",
       "      <td>...</td>\n",
       "      <td>1.0</td>\n",
       "      <td>2.0</td>\n",
       "      <td>0.0</td>\n",
       "      <td>1.0</td>\n",
       "      <td>0.0</td>\n",
       "      <td>3.0</td>\n",
       "      <td>1.0</td>\n",
       "      <td>1.0</td>\n",
       "      <td>3.0</td>\n",
       "      <td>5.0</td>\n",
       "    </tr>\n",
       "    <tr>\n",
       "      <th>50</th>\n",
       "      <td>UFC 4: Revenge of the Warriors</td>\n",
       "      <td>Royce Gracie vs. Dan Severn</td>\n",
       "      <td>Dan Severn</td>\n",
       "      <td>Royce Gracie</td>\n",
       "      <td>Submission</td>\n",
       "      <td>0</td>\n",
       "      <td>0</td>\n",
       "      <td>1</td>\n",
       "      <td>1.0</td>\n",
       "      <td>0.0</td>\n",
       "      <td>...</td>\n",
       "      <td>3.0</td>\n",
       "      <td>4.0</td>\n",
       "      <td>2.0</td>\n",
       "      <td>3.0</td>\n",
       "      <td>3.0</td>\n",
       "      <td>5.0</td>\n",
       "      <td>3.0</td>\n",
       "      <td>3.0</td>\n",
       "      <td>3.0</td>\n",
       "      <td>3.0</td>\n",
       "    </tr>\n",
       "  </tbody>\n",
       "</table>\n",
       "<p>5 rows × 63 columns</p>\n",
       "</div>"
      ],
      "text/plain": [
       "                             EVENT                            BOUT  \\\n",
       "24               UFC 2: No Way Out  Royce Gracie vs. Patrick Smith   \n",
       "25               UFC 2: No Way Out  Royce Gracie vs. Patrick Smith   \n",
       "26               UFC 2: No Way Out  Royce Gracie vs. Remco Pardoel   \n",
       "27               UFC 2: No Way Out  Royce Gracie vs. Remco Pardoel   \n",
       "50  UFC 4: Revenge of the Warriors     Royce Gracie vs. Dan Severn   \n",
       "\n",
       "          FIGHTER       OPPONENT           METHOD  Win  Women_fight  ROUND  \\\n",
       "24  Patrick Smith   Royce Gracie  KO/TKO - ground    0            0      1   \n",
       "25   Royce Gracie  Patrick Smith  KO/TKO - ground    1            0      1   \n",
       "26  Remco Pardoel   Royce Gracie       Submission    0            0      1   \n",
       "27   Royce Gracie  Remco Pardoel       Submission    1            0      1   \n",
       "50     Dan Severn   Royce Gracie       Submission    0            0      1   \n",
       "\n",
       "    HEIGHT_diff  REACH_diff  ...  BODY_landed_opponent  BODY_attemps_opponent  \\\n",
       "24          1.0         0.0  ...                   0.0                    0.0   \n",
       "25         -1.0         0.0  ...                   0.0                    0.0   \n",
       "26          2.0         0.0  ...                   0.0                    0.0   \n",
       "27         -2.0         0.0  ...                   1.0                    2.0   \n",
       "50          1.0         0.0  ...                   3.0                    4.0   \n",
       "\n",
       "    LEG_landed_opponent  LEG_attemps_opponent  DISTANCE_landed_opponent  \\\n",
       "24                  3.0                   5.0                       5.0   \n",
       "25                  0.0                   1.0                       0.0   \n",
       "26                  1.0                   1.0                       2.0   \n",
       "27                  0.0                   1.0                       0.0   \n",
       "50                  2.0                   3.0                       3.0   \n",
       "\n",
       "    DISTANCE_attemps_opponent  CLINCH_landed_opponent  \\\n",
       "24                       10.0                     0.0   \n",
       "25                        2.0                     0.0   \n",
       "26                        3.0                     0.0   \n",
       "27                        3.0                     1.0   \n",
       "50                        5.0                     3.0   \n",
       "\n",
       "    CLINCH_attemps_opponent  GROUND_landed_opponent  GROUND_attemps_opponent  \n",
       "24                      0.0                     0.0                      0.0  \n",
       "25                      0.0                     3.0                      5.0  \n",
       "26                      0.0                     0.0                      2.0  \n",
       "27                      1.0                     3.0                      5.0  \n",
       "50                      3.0                     3.0                      3.0  \n",
       "\n",
       "[5 rows x 63 columns]"
      ]
     },
     "execution_count": 7,
     "metadata": {},
     "output_type": "execute_result"
    }
   ],
   "source": [
    "df.head()"
   ]
  },
  {
   "cell_type": "code",
   "execution_count": 8,
   "id": "3c83f881",
   "metadata": {},
   "outputs": [
    {
     "data": {
      "text/plain": [
       "(6361, 63)"
      ]
     },
     "execution_count": 8,
     "metadata": {},
     "output_type": "execute_result"
    }
   ],
   "source": [
    "df.shape"
   ]
  },
  {
   "cell_type": "code",
   "execution_count": 9,
   "id": "0b47cc75",
   "metadata": {
    "scrolled": true
   },
   "outputs": [
    {
     "data": {
      "text/plain": [
       "['KD_fighter',\n",
       " 'SUB.ATT_fighter',\n",
       " 'REV._fighter',\n",
       " 'CTRL_fighter',\n",
       " 'SIG.STR._landed_fighter',\n",
       " 'SIG.STR._attemps_fighter',\n",
       " 'TOTAL STR._landed_fighter',\n",
       " 'TOTAL STR._attemps_fighter',\n",
       " 'TD_landed_fighter',\n",
       " 'TD_attemps_fighter',\n",
       " 'HEAD_landed_fighter',\n",
       " 'HEAD_attemps_fighter',\n",
       " 'BODY_landed_fighter',\n",
       " 'BODY_attemps_fighter',\n",
       " 'LEG_landed_fighter',\n",
       " 'LEG_attemps_fighter',\n",
       " 'DISTANCE_landed_fighter',\n",
       " 'DISTANCE_attemps_fighter',\n",
       " 'CLINCH_landed_fighter',\n",
       " 'CLINCH_attemps_fighter',\n",
       " 'GROUND_landed_fighter',\n",
       " 'GROUND_attemps_fighter',\n",
       " 'KD_opponent',\n",
       " 'SUB.ATT_opponent',\n",
       " 'REV._opponent',\n",
       " 'CTRL_opponent',\n",
       " 'SIG.STR._landed_opponent',\n",
       " 'SIG.STR._attemps_opponent',\n",
       " 'TOTAL STR._landed_opponent',\n",
       " 'TOTAL STR._attemps_opponent',\n",
       " 'TD_landed_opponent',\n",
       " 'TD_attemps_opponent',\n",
       " 'HEAD_landed_opponent',\n",
       " 'HEAD_attemps_opponent',\n",
       " 'BODY_landed_opponent',\n",
       " 'BODY_attemps_opponent',\n",
       " 'LEG_landed_opponent',\n",
       " 'LEG_attemps_opponent',\n",
       " 'DISTANCE_landed_opponent',\n",
       " 'DISTANCE_attemps_opponent',\n",
       " 'CLINCH_landed_opponent',\n",
       " 'CLINCH_attemps_opponent',\n",
       " 'GROUND_landed_opponent',\n",
       " 'GROUND_attemps_opponent']"
      ]
     },
     "execution_count": 9,
     "metadata": {},
     "output_type": "execute_result"
    }
   ],
   "source": [
    "df.columns.tolist()[19:]"
   ]
  },
  {
   "cell_type": "code",
   "execution_count": 10,
   "id": "1bf9b2da",
   "metadata": {},
   "outputs": [],
   "source": [
    "df = df.merge(df[['EVENT', 'BOUT', 'FIGHTER']+df.columns.tolist()[15:]] ,how='left', left_on=['EVENT', 'BOUT', 'OPPONENT'], right_on=['EVENT', 'BOUT', 'FIGHTER'], suffixes=('_f1', '_f2'))"
   ]
  },
  {
   "cell_type": "code",
   "execution_count": 11,
   "id": "c8ce78f8",
   "metadata": {},
   "outputs": [
    {
     "name": "stdout",
     "output_type": "stream",
     "text": [
      "<class 'pandas.core.frame.DataFrame'>\n",
      "Int64Index: 6361 entries, 0 to 6360\n",
      "Data columns (total 112 columns):\n",
      " #    Column                          Non-Null Count  Dtype  \n",
      "---   ------                          --------------  -----  \n",
      " 0    EVENT                           6361 non-null   object \n",
      " 1    BOUT                            6361 non-null   object \n",
      " 2    FIGHTER_f1                      6361 non-null   object \n",
      " 3    OPPONENT                        6361 non-null   object \n",
      " 4    METHOD                          6361 non-null   object \n",
      " 5    Win                             6361 non-null   int64  \n",
      " 6    Women_fight                     6361 non-null   int64  \n",
      " 7    ROUND                           6361 non-null   int64  \n",
      " 8    HEIGHT_diff                     6361 non-null   float64\n",
      " 9    REACH_diff                      6361 non-null   float64\n",
      " 10   AGE_diff                        6361 non-null   float64\n",
      " 11   form_skore_fighter              6361 non-null   float64\n",
      " 12   form_skore_opponent             6361 non-null   float64\n",
      " 13   fightNo_fighter                 6361 non-null   int64  \n",
      " 14   fightNo_opponent                6361 non-null   float64\n",
      " 15   Win_tot_f1                      6361 non-null   float64\n",
      " 16   DRAW_f1                         6361 non-null   float64\n",
      " 17   No_contest_f1                   6361 non-null   float64\n",
      " 18   TotalTime_f1                    6361 non-null   float64\n",
      " 19   KD_fighter_f1                   6361 non-null   float64\n",
      " 20   SUB.ATT_fighter_f1              6361 non-null   float64\n",
      " 21   REV._fighter_f1                 6361 non-null   float64\n",
      " 22   CTRL_fighter_f1                 6361 non-null   float64\n",
      " 23   SIG.STR._landed_fighter_f1      6361 non-null   float64\n",
      " 24   SIG.STR._attemps_fighter_f1     6361 non-null   float64\n",
      " 25   TOTAL STR._landed_fighter_f1    6361 non-null   float64\n",
      " 26   TOTAL STR._attemps_fighter_f1   6361 non-null   float64\n",
      " 27   TD_landed_fighter_f1            6361 non-null   float64\n",
      " 28   TD_attemps_fighter_f1           6361 non-null   float64\n",
      " 29   HEAD_landed_fighter_f1          6361 non-null   float64\n",
      " 30   HEAD_attemps_fighter_f1         6361 non-null   float64\n",
      " 31   BODY_landed_fighter_f1          6361 non-null   float64\n",
      " 32   BODY_attemps_fighter_f1         6361 non-null   float64\n",
      " 33   LEG_landed_fighter_f1           6361 non-null   float64\n",
      " 34   LEG_attemps_fighter_f1          6361 non-null   float64\n",
      " 35   DISTANCE_landed_fighter_f1      6361 non-null   float64\n",
      " 36   DISTANCE_attemps_fighter_f1     6361 non-null   float64\n",
      " 37   CLINCH_landed_fighter_f1        6361 non-null   float64\n",
      " 38   CLINCH_attemps_fighter_f1       6361 non-null   float64\n",
      " 39   GROUND_landed_fighter_f1        6361 non-null   float64\n",
      " 40   GROUND_attemps_fighter_f1       6361 non-null   float64\n",
      " 41   KD_opponent_f1                  6361 non-null   float64\n",
      " 42   SUB.ATT_opponent_f1             6361 non-null   float64\n",
      " 43   REV._opponent_f1                6361 non-null   float64\n",
      " 44   CTRL_opponent_f1                6361 non-null   float64\n",
      " 45   SIG.STR._landed_opponent_f1     6361 non-null   float64\n",
      " 46   SIG.STR._attemps_opponent_f1    6361 non-null   float64\n",
      " 47   TOTAL STR._landed_opponent_f1   6361 non-null   float64\n",
      " 48   TOTAL STR._attemps_opponent_f1  6361 non-null   float64\n",
      " 49   TD_landed_opponent_f1           6361 non-null   float64\n",
      " 50   TD_attemps_opponent_f1          6361 non-null   float64\n",
      " 51   HEAD_landed_opponent_f1         6361 non-null   float64\n",
      " 52   HEAD_attemps_opponent_f1        6361 non-null   float64\n",
      " 53   BODY_landed_opponent_f1         6361 non-null   float64\n",
      " 54   BODY_attemps_opponent_f1        6361 non-null   float64\n",
      " 55   LEG_landed_opponent_f1          6361 non-null   float64\n",
      " 56   LEG_attemps_opponent_f1         6361 non-null   float64\n",
      " 57   DISTANCE_landed_opponent_f1     6361 non-null   float64\n",
      " 58   DISTANCE_attemps_opponent_f1    6361 non-null   float64\n",
      " 59   CLINCH_landed_opponent_f1       6361 non-null   float64\n",
      " 60   CLINCH_attemps_opponent_f1      6361 non-null   float64\n",
      " 61   GROUND_landed_opponent_f1       6361 non-null   float64\n",
      " 62   GROUND_attemps_opponent_f1      6361 non-null   float64\n",
      " 63   FIGHTER_f2                      6360 non-null   object \n",
      " 64   Win_tot_f2                      6360 non-null   float64\n",
      " 65   DRAW_f2                         6360 non-null   float64\n",
      " 66   No_contest_f2                   6360 non-null   float64\n",
      " 67   TotalTime_f2                    6360 non-null   float64\n",
      " 68   KD_fighter_f2                   6360 non-null   float64\n",
      " 69   SUB.ATT_fighter_f2              6360 non-null   float64\n",
      " 70   REV._fighter_f2                 6360 non-null   float64\n",
      " 71   CTRL_fighter_f2                 6360 non-null   float64\n",
      " 72   SIG.STR._landed_fighter_f2      6360 non-null   float64\n",
      " 73   SIG.STR._attemps_fighter_f2     6360 non-null   float64\n",
      " 74   TOTAL STR._landed_fighter_f2    6360 non-null   float64\n",
      " 75   TOTAL STR._attemps_fighter_f2   6360 non-null   float64\n",
      " 76   TD_landed_fighter_f2            6360 non-null   float64\n",
      " 77   TD_attemps_fighter_f2           6360 non-null   float64\n",
      " 78   HEAD_landed_fighter_f2          6360 non-null   float64\n",
      " 79   HEAD_attemps_fighter_f2         6360 non-null   float64\n",
      " 80   BODY_landed_fighter_f2          6360 non-null   float64\n",
      " 81   BODY_attemps_fighter_f2         6360 non-null   float64\n",
      " 82   LEG_landed_fighter_f2           6360 non-null   float64\n",
      " 83   LEG_attemps_fighter_f2          6360 non-null   float64\n",
      " 84   DISTANCE_landed_fighter_f2      6360 non-null   float64\n",
      " 85   DISTANCE_attemps_fighter_f2     6360 non-null   float64\n",
      " 86   CLINCH_landed_fighter_f2        6360 non-null   float64\n",
      " 87   CLINCH_attemps_fighter_f2       6360 non-null   float64\n",
      " 88   GROUND_landed_fighter_f2        6360 non-null   float64\n",
      " 89   GROUND_attemps_fighter_f2       6360 non-null   float64\n",
      " 90   KD_opponent_f2                  6360 non-null   float64\n",
      " 91   SUB.ATT_opponent_f2             6360 non-null   float64\n",
      " 92   REV._opponent_f2                6360 non-null   float64\n",
      " 93   CTRL_opponent_f2                6360 non-null   float64\n",
      " 94   SIG.STR._landed_opponent_f2     6360 non-null   float64\n",
      " 95   SIG.STR._attemps_opponent_f2    6360 non-null   float64\n",
      " 96   TOTAL STR._landed_opponent_f2   6360 non-null   float64\n",
      " 97   TOTAL STR._attemps_opponent_f2  6360 non-null   float64\n",
      " 98   TD_landed_opponent_f2           6360 non-null   float64\n",
      " 99   TD_attemps_opponent_f2          6360 non-null   float64\n",
      " 100  HEAD_landed_opponent_f2         6360 non-null   float64\n",
      " 101  HEAD_attemps_opponent_f2        6360 non-null   float64\n",
      " 102  BODY_landed_opponent_f2         6360 non-null   float64\n",
      " 103  BODY_attemps_opponent_f2        6360 non-null   float64\n",
      " 104  LEG_landed_opponent_f2          6360 non-null   float64\n",
      " 105  LEG_attemps_opponent_f2         6360 non-null   float64\n",
      " 106  DISTANCE_landed_opponent_f2     6360 non-null   float64\n",
      " 107  DISTANCE_attemps_opponent_f2    6360 non-null   float64\n",
      " 108  CLINCH_landed_opponent_f2       6360 non-null   float64\n",
      " 109  CLINCH_attemps_opponent_f2      6360 non-null   float64\n",
      " 110  GROUND_landed_opponent_f2       6360 non-null   float64\n",
      " 111  GROUND_attemps_opponent_f2      6360 non-null   float64\n",
      "dtypes: float64(102), int64(4), object(6)\n",
      "memory usage: 5.5+ MB\n"
     ]
    }
   ],
   "source": [
    "df.info(verbose=True, show_counts=True)"
   ]
  },
  {
   "cell_type": "code",
   "execution_count": 12,
   "id": "e911a19b",
   "metadata": {},
   "outputs": [],
   "source": [
    "df = df.drop('FIGHTER_f2',axis=1)"
   ]
  },
  {
   "cell_type": "code",
   "execution_count": 13,
   "id": "1458353b",
   "metadata": {},
   "outputs": [
    {
     "data": {
      "text/plain": [
       "['LEG', 'attemps', 'fighter', 'f1']"
      ]
     },
     "execution_count": 13,
     "metadata": {},
     "output_type": "execute_result"
    }
   ],
   "source": [
    "'LEG_attemps_fighter_f1'.split('_')"
   ]
  },
  {
   "cell_type": "code",
   "execution_count": 14,
   "id": "6ec0d15a",
   "metadata": {},
   "outputs": [],
   "source": [
    "sloupce1 = df.columns.tolist()[19:]\n",
    "vynechat = ['Win_tot_f2', 'DRAW_f2','No_contest_f2']\n",
    "sloupce = [x for x in sloupce1 if x not in vynechat]\n",
    "for sloupec in sloupce:    \n",
    "    splited = sloupec.split('_')\n",
    "    if 'CTRL' in splited:\n",
    "        df.loc[:,splited[0]+'_pct_'+splited[1]+splited[2]] = df[sloupec]/df['TotalTime'+'_'+splited[2]]\n",
    "    if 'attemps' in splited:\n",
    "        df.loc[:,splited[0]+'_acc_'+ splited[2] + splited[3]] = df[sloupec.replace('attemps', 'landed')]/df[sloupec]\n",
    "        df.loc[:,splited[0]+'_perRound_'+ splited[2] + splited[3]] = (df[sloupec.replace('attemps', 'landed')]/df['TotalTime'+'_'+splited[3]])*300\n",
    "        \n",
    "    "
   ]
  },
  {
   "cell_type": "code",
   "execution_count": 15,
   "id": "2417f114",
   "metadata": {},
   "outputs": [
    {
     "data": {
      "text/html": [
       "<div>\n",
       "<style scoped>\n",
       "    .dataframe tbody tr th:only-of-type {\n",
       "        vertical-align: middle;\n",
       "    }\n",
       "\n",
       "    .dataframe tbody tr th {\n",
       "        vertical-align: top;\n",
       "    }\n",
       "\n",
       "    .dataframe thead th {\n",
       "        text-align: right;\n",
       "    }\n",
       "</style>\n",
       "<table border=\"1\" class=\"dataframe\">\n",
       "  <thead>\n",
       "    <tr style=\"text-align: right;\">\n",
       "      <th></th>\n",
       "      <th>EVENT</th>\n",
       "      <th>BOUT</th>\n",
       "      <th>FIGHTER_f1</th>\n",
       "      <th>OPPONENT</th>\n",
       "      <th>METHOD</th>\n",
       "    </tr>\n",
       "  </thead>\n",
       "  <tbody>\n",
       "    <tr>\n",
       "      <th>0</th>\n",
       "      <td>UFC 2: No Way Out</td>\n",
       "      <td>Royce Gracie vs. Patrick Smith</td>\n",
       "      <td>Patrick Smith</td>\n",
       "      <td>Royce Gracie</td>\n",
       "      <td>KO/TKO - ground</td>\n",
       "    </tr>\n",
       "    <tr>\n",
       "      <th>1</th>\n",
       "      <td>UFC 2: No Way Out</td>\n",
       "      <td>Royce Gracie vs. Patrick Smith</td>\n",
       "      <td>Royce Gracie</td>\n",
       "      <td>Patrick Smith</td>\n",
       "      <td>KO/TKO - ground</td>\n",
       "    </tr>\n",
       "    <tr>\n",
       "      <th>2</th>\n",
       "      <td>UFC 2: No Way Out</td>\n",
       "      <td>Royce Gracie vs. Remco Pardoel</td>\n",
       "      <td>Remco Pardoel</td>\n",
       "      <td>Royce Gracie</td>\n",
       "      <td>Submission</td>\n",
       "    </tr>\n",
       "    <tr>\n",
       "      <th>3</th>\n",
       "      <td>UFC 2: No Way Out</td>\n",
       "      <td>Royce Gracie vs. Remco Pardoel</td>\n",
       "      <td>Royce Gracie</td>\n",
       "      <td>Remco Pardoel</td>\n",
       "      <td>Submission</td>\n",
       "    </tr>\n",
       "    <tr>\n",
       "      <th>4</th>\n",
       "      <td>UFC 4: Revenge of the Warriors</td>\n",
       "      <td>Royce Gracie vs. Dan Severn</td>\n",
       "      <td>Dan Severn</td>\n",
       "      <td>Royce Gracie</td>\n",
       "      <td>Submission</td>\n",
       "    </tr>\n",
       "    <tr>\n",
       "      <th>...</th>\n",
       "      <td>...</td>\n",
       "      <td>...</td>\n",
       "      <td>...</td>\n",
       "      <td>...</td>\n",
       "      <td>...</td>\n",
       "    </tr>\n",
       "    <tr>\n",
       "      <th>6356</th>\n",
       "      <td>UFC Fight Night: Lewis vs. Spivac</td>\n",
       "      <td>Derrick Lewis vs. Serghei Spivac</td>\n",
       "      <td>Serghei Spivac</td>\n",
       "      <td>Derrick Lewis</td>\n",
       "      <td>Submission</td>\n",
       "    </tr>\n",
       "    <tr>\n",
       "      <th>6357</th>\n",
       "      <td>UFC Fight Night: Lewis vs. Spivac</td>\n",
       "      <td>Dooho Choi vs. Kyle Nelson</td>\n",
       "      <td>Dooho Choi</td>\n",
       "      <td>Kyle Nelson</td>\n",
       "      <td>Decision</td>\n",
       "    </tr>\n",
       "    <tr>\n",
       "      <th>6358</th>\n",
       "      <td>UFC Fight Night: Lewis vs. Spivac</td>\n",
       "      <td>Dooho Choi vs. Kyle Nelson</td>\n",
       "      <td>Kyle Nelson</td>\n",
       "      <td>Dooho Choi</td>\n",
       "      <td>Decision</td>\n",
       "    </tr>\n",
       "    <tr>\n",
       "      <th>6359</th>\n",
       "      <td>UFC Fight Night: Lewis vs. Spivac</td>\n",
       "      <td>Marcin Tybura vs. Blagoy Ivanov</td>\n",
       "      <td>Blagoy Ivanov</td>\n",
       "      <td>Marcin Tybura</td>\n",
       "      <td>Decision</td>\n",
       "    </tr>\n",
       "    <tr>\n",
       "      <th>6360</th>\n",
       "      <td>UFC Fight Night: Lewis vs. Spivac</td>\n",
       "      <td>Marcin Tybura vs. Blagoy Ivanov</td>\n",
       "      <td>Marcin Tybura</td>\n",
       "      <td>Blagoy Ivanov</td>\n",
       "      <td>Decision</td>\n",
       "    </tr>\n",
       "  </tbody>\n",
       "</table>\n",
       "<p>6361 rows × 5 columns</p>\n",
       "</div>"
      ],
      "text/plain": [
       "                                  EVENT                              BOUT  \\\n",
       "0                     UFC 2: No Way Out    Royce Gracie vs. Patrick Smith   \n",
       "1                     UFC 2: No Way Out    Royce Gracie vs. Patrick Smith   \n",
       "2                     UFC 2: No Way Out    Royce Gracie vs. Remco Pardoel   \n",
       "3                     UFC 2: No Way Out    Royce Gracie vs. Remco Pardoel   \n",
       "4        UFC 4: Revenge of the Warriors       Royce Gracie vs. Dan Severn   \n",
       "...                                 ...                               ...   \n",
       "6356  UFC Fight Night: Lewis vs. Spivac  Derrick Lewis vs. Serghei Spivac   \n",
       "6357  UFC Fight Night: Lewis vs. Spivac        Dooho Choi vs. Kyle Nelson   \n",
       "6358  UFC Fight Night: Lewis vs. Spivac        Dooho Choi vs. Kyle Nelson   \n",
       "6359  UFC Fight Night: Lewis vs. Spivac   Marcin Tybura vs. Blagoy Ivanov   \n",
       "6360  UFC Fight Night: Lewis vs. Spivac   Marcin Tybura vs. Blagoy Ivanov   \n",
       "\n",
       "          FIGHTER_f1       OPPONENT           METHOD  \n",
       "0      Patrick Smith   Royce Gracie  KO/TKO - ground  \n",
       "1       Royce Gracie  Patrick Smith  KO/TKO - ground  \n",
       "2      Remco Pardoel   Royce Gracie       Submission  \n",
       "3       Royce Gracie  Remco Pardoel       Submission  \n",
       "4         Dan Severn   Royce Gracie       Submission  \n",
       "...              ...            ...              ...  \n",
       "6356  Serghei Spivac  Derrick Lewis       Submission  \n",
       "6357      Dooho Choi    Kyle Nelson         Decision  \n",
       "6358     Kyle Nelson     Dooho Choi         Decision  \n",
       "6359   Blagoy Ivanov  Marcin Tybura         Decision  \n",
       "6360   Marcin Tybura  Blagoy Ivanov         Decision  \n",
       "\n",
       "[6361 rows x 5 columns]"
      ]
     },
     "execution_count": 15,
     "metadata": {},
     "output_type": "execute_result"
    }
   ],
   "source": [
    "df.iloc[:,:5]"
   ]
  },
  {
   "cell_type": "code",
   "execution_count": 16,
   "id": "ff1c4ea0",
   "metadata": {},
   "outputs": [],
   "source": [
    "#df['Avg_time1'] = df['TotalTime_f1']/df['fightNo_fighter']\n",
    "#df['Avg_time2'] = df['TotalTime_f2']/df['fightNo_opponent']"
   ]
  },
  {
   "cell_type": "code",
   "execution_count": 17,
   "id": "4e6956bf",
   "metadata": {},
   "outputs": [],
   "source": [
    "df = df.drop(sloupce, axis=1)"
   ]
  },
  {
   "cell_type": "code",
   "execution_count": null,
   "id": "144b1ff1",
   "metadata": {},
   "outputs": [],
   "source": []
  },
  {
   "cell_type": "code",
   "execution_count": 18,
   "id": "eefa5d15",
   "metadata": {},
   "outputs": [],
   "source": [
    "df_model = df.drop(['EVENT','BOUT','FIGHTER_f1','OPPONENT','METHOD','Women_fight','TotalTime_f1', 'Win'],axis=1)"
   ]
  },
  {
   "cell_type": "code",
   "execution_count": 19,
   "id": "9b03af1f",
   "metadata": {},
   "outputs": [
    {
     "name": "stdout",
     "output_type": "stream",
     "text": [
      "<class 'pandas.core.frame.DataFrame'>\n",
      "Int64Index: 6361 entries, 0 to 6360\n",
      "Data columns (total 90 columns):\n",
      " #   Column                          Non-Null Count  Dtype  \n",
      "---  ------                          --------------  -----  \n",
      " 0   ROUND                           6361 non-null   int64  \n",
      " 1   HEIGHT_diff                     6361 non-null   float64\n",
      " 2   REACH_diff                      6361 non-null   float64\n",
      " 3   AGE_diff                        6361 non-null   float64\n",
      " 4   form_skore_fighter              6361 non-null   float64\n",
      " 5   form_skore_opponent             6361 non-null   float64\n",
      " 6   fightNo_fighter                 6361 non-null   int64  \n",
      " 7   fightNo_opponent                6361 non-null   float64\n",
      " 8   Win_tot_f1                      6361 non-null   float64\n",
      " 9   DRAW_f1                         6361 non-null   float64\n",
      " 10  No_contest_f1                   6361 non-null   float64\n",
      " 11  Win_tot_f2                      6361 non-null   float64\n",
      " 12  DRAW_f2                         6361 non-null   float64\n",
      " 13  No_contest_f2                   6361 non-null   float64\n",
      " 14  CTRL_pct_fighterf1              6361 non-null   float64\n",
      " 15  SIG.STR._acc_fighterf1          6361 non-null   float64\n",
      " 16  SIG.STR._perRound_fighterf1     6361 non-null   float64\n",
      " 17  TOTAL STR._acc_fighterf1        6361 non-null   float64\n",
      " 18  TOTAL STR._perRound_fighterf1   6361 non-null   float64\n",
      " 19  TD_acc_fighterf1                6361 non-null   float64\n",
      " 20  TD_perRound_fighterf1           6361 non-null   float64\n",
      " 21  HEAD_acc_fighterf1              6361 non-null   float64\n",
      " 22  HEAD_perRound_fighterf1         6361 non-null   float64\n",
      " 23  BODY_acc_fighterf1              6361 non-null   float64\n",
      " 24  BODY_perRound_fighterf1         6361 non-null   float64\n",
      " 25  LEG_acc_fighterf1               6361 non-null   float64\n",
      " 26  LEG_perRound_fighterf1          6361 non-null   float64\n",
      " 27  DISTANCE_acc_fighterf1          6361 non-null   float64\n",
      " 28  DISTANCE_perRound_fighterf1     6361 non-null   float64\n",
      " 29  CLINCH_acc_fighterf1            6361 non-null   float64\n",
      " 30  CLINCH_perRound_fighterf1       6361 non-null   float64\n",
      " 31  GROUND_acc_fighterf1            6361 non-null   float64\n",
      " 32  GROUND_perRound_fighterf1       6361 non-null   float64\n",
      " 33  CTRL_pct_opponentf1             6361 non-null   float64\n",
      " 34  SIG.STR._acc_opponentf1         6361 non-null   float64\n",
      " 35  SIG.STR._perRound_opponentf1    6361 non-null   float64\n",
      " 36  TOTAL STR._acc_opponentf1       6361 non-null   float64\n",
      " 37  TOTAL STR._perRound_opponentf1  6361 non-null   float64\n",
      " 38  TD_acc_opponentf1               6361 non-null   float64\n",
      " 39  TD_perRound_opponentf1          6361 non-null   float64\n",
      " 40  HEAD_acc_opponentf1             6361 non-null   float64\n",
      " 41  HEAD_perRound_opponentf1        6361 non-null   float64\n",
      " 42  BODY_acc_opponentf1             6361 non-null   float64\n",
      " 43  BODY_perRound_opponentf1        6361 non-null   float64\n",
      " 44  LEG_acc_opponentf1              6361 non-null   float64\n",
      " 45  LEG_perRound_opponentf1         6361 non-null   float64\n",
      " 46  DISTANCE_acc_opponentf1         6361 non-null   float64\n",
      " 47  DISTANCE_perRound_opponentf1    6361 non-null   float64\n",
      " 48  CLINCH_acc_opponentf1           6361 non-null   float64\n",
      " 49  CLINCH_perRound_opponentf1      6361 non-null   float64\n",
      " 50  GROUND_acc_opponentf1           6361 non-null   float64\n",
      " 51  GROUND_perRound_opponentf1      6361 non-null   float64\n",
      " 52  CTRL_pct_fighterf2              6361 non-null   float64\n",
      " 53  SIG.STR._acc_fighterf2          6361 non-null   float64\n",
      " 54  SIG.STR._perRound_fighterf2     6361 non-null   float64\n",
      " 55  TOTAL STR._acc_fighterf2        6361 non-null   float64\n",
      " 56  TOTAL STR._perRound_fighterf2   6361 non-null   float64\n",
      " 57  TD_acc_fighterf2                6361 non-null   float64\n",
      " 58  TD_perRound_fighterf2           6361 non-null   float64\n",
      " 59  HEAD_acc_fighterf2              6361 non-null   float64\n",
      " 60  HEAD_perRound_fighterf2         6361 non-null   float64\n",
      " 61  BODY_acc_fighterf2              6361 non-null   float64\n",
      " 62  BODY_perRound_fighterf2         6361 non-null   float64\n",
      " 63  LEG_acc_fighterf2               6361 non-null   float64\n",
      " 64  LEG_perRound_fighterf2          6361 non-null   float64\n",
      " 65  DISTANCE_acc_fighterf2          6361 non-null   float64\n",
      " 66  DISTANCE_perRound_fighterf2     6361 non-null   float64\n",
      " 67  CLINCH_acc_fighterf2            6361 non-null   float64\n",
      " 68  CLINCH_perRound_fighterf2       6361 non-null   float64\n",
      " 69  GROUND_acc_fighterf2            6361 non-null   float64\n",
      " 70  GROUND_perRound_fighterf2       6361 non-null   float64\n",
      " 71  CTRL_pct_opponentf2             6361 non-null   float64\n",
      " 72  SIG.STR._acc_opponentf2         6361 non-null   float64\n",
      " 73  SIG.STR._perRound_opponentf2    6361 non-null   float64\n",
      " 74  TOTAL STR._acc_opponentf2       6361 non-null   float64\n",
      " 75  TOTAL STR._perRound_opponentf2  6361 non-null   float64\n",
      " 76  TD_acc_opponentf2               6361 non-null   float64\n",
      " 77  TD_perRound_opponentf2          6361 non-null   float64\n",
      " 78  HEAD_acc_opponentf2             6361 non-null   float64\n",
      " 79  HEAD_perRound_opponentf2        6361 non-null   float64\n",
      " 80  BODY_acc_opponentf2             6361 non-null   float64\n",
      " 81  BODY_perRound_opponentf2        6361 non-null   float64\n",
      " 82  LEG_acc_opponentf2              6361 non-null   float64\n",
      " 83  LEG_perRound_opponentf2         6361 non-null   float64\n",
      " 84  DISTANCE_acc_opponentf2         6361 non-null   float64\n",
      " 85  DISTANCE_perRound_opponentf2    6361 non-null   float64\n",
      " 86  CLINCH_acc_opponentf2           6361 non-null   float64\n",
      " 87  CLINCH_perRound_opponentf2      6361 non-null   float64\n",
      " 88  GROUND_acc_opponentf2           6361 non-null   float64\n",
      " 89  GROUND_perRound_opponentf2      6361 non-null   float64\n",
      "dtypes: float64(88), int64(2)\n",
      "memory usage: 4.4 MB\n"
     ]
    }
   ],
   "source": [
    "df_model = df_model.fillna(0)\n",
    "df_model.info()"
   ]
  },
  {
   "cell_type": "code",
   "execution_count": 20,
   "id": "8ddca72b",
   "metadata": {},
   "outputs": [
    {
     "name": "stdout",
     "output_type": "stream",
     "text": [
      "0.5468258956631049 0.5468258956631049\n"
     ]
    }
   ],
   "source": [
    "X=df_model.loc[:, ~df_model.columns.isin(['ROUND'])]\n",
    "y=df_model['ROUND']\n",
    "y= np.array(y)-1\n",
    "scaler = StandardScaler()\n",
    "X_scaled = scaler.fit_transform(X)\n",
    "X_train, X_test, y_train, y_test = train_test_split(X_scaled, y, random_state = 0)\n",
    "from sklearn.linear_model import LogisticRegression\n",
    "logreg=LogisticRegression(multi_class='auto')\n",
    "logreg.fit(X_train,y_train)\n",
    "predictions = logreg.predict(X_test)\n",
    "acc = accuracy_score(y_test, predictions) \n",
    "f1 = f1_score(y_test, predictions,average='micro')\n",
    "print(f1, acc)"
   ]
  },
  {
   "cell_type": "code",
   "execution_count": 21,
   "id": "48680f39",
   "metadata": {},
   "outputs": [
    {
     "data": {
      "text/plain": [
       "(1, 89)"
      ]
     },
     "execution_count": 21,
     "metadata": {},
     "output_type": "execute_result"
    }
   ],
   "source": [
    "a = np.array(X.iloc[-20,:])\n",
    "a.reshape(1,-1).shape\n"
   ]
  },
  {
   "cell_type": "code",
   "execution_count": 22,
   "id": "f848b776",
   "metadata": {},
   "outputs": [
    {
     "data": {
      "text/plain": [
       "array([[2.83323795e-01, 1.43162110e-04, 7.16533043e-01]])"
      ]
     },
     "execution_count": 22,
     "metadata": {},
     "output_type": "execute_result"
    }
   ],
   "source": [
    "logreg.predict_proba(a.reshape(1,-1))"
   ]
  },
  {
   "cell_type": "code",
   "execution_count": 25,
   "id": "ef99e7ff",
   "metadata": {},
   "outputs": [
    {
     "data": {
      "text/plain": [
       "array([0, 1, 2], dtype=int64)"
      ]
     },
     "execution_count": 25,
     "metadata": {},
     "output_type": "execute_result"
    }
   ],
   "source": [
    "np.unique(predictions)"
   ]
  },
  {
   "cell_type": "code",
   "execution_count": 23,
   "id": "29922ad1",
   "metadata": {},
   "outputs": [
    {
     "data": {
      "text/plain": [
       "HEIGHT_diff                   0\n",
       "LEG_perRound_fighterf2        0\n",
       "LEG_acc_fighterf2             0\n",
       "BODY_perRound_fighterf2       0\n",
       "BODY_acc_fighterf2            0\n",
       "                             ..\n",
       "LEG_perRound_fighterf1        0\n",
       "LEG_acc_fighterf1             0\n",
       "BODY_perRound_fighterf1       0\n",
       "LEG_acc_opponentf1            0\n",
       "GROUND_perRound_opponentf2    0\n",
       "Length: 89, dtype: int64"
      ]
     },
     "execution_count": 23,
     "metadata": {},
     "output_type": "execute_result"
    }
   ],
   "source": [
    "X.isna().sum().sort_values()"
   ]
  },
  {
   "cell_type": "code",
   "execution_count": 115,
   "id": "699ccfcd",
   "metadata": {},
   "outputs": [
    {
     "data": {
      "text/plain": [
       "(4754, 89)"
      ]
     },
     "execution_count": 115,
     "metadata": {},
     "output_type": "execute_result"
    }
   ],
   "source": [
    "X_train.shape"
   ]
  },
  {
   "cell_type": "code",
   "execution_count": 116,
   "id": "cf247e8f",
   "metadata": {},
   "outputs": [],
   "source": [
    "train_y_one_hot = keras.utils.to_categorical(y_train)\n",
    "test_y_one_hot = keras.utils.to_categorical(y_test)"
   ]
  },
  {
   "cell_type": "code",
   "execution_count": 117,
   "id": "a4d5dda2",
   "metadata": {},
   "outputs": [
    {
     "data": {
      "text/plain": [
       "(1585, 3)"
      ]
     },
     "execution_count": 117,
     "metadata": {},
     "output_type": "execute_result"
    }
   ],
   "source": [
    "test_y_one_hot.shape"
   ]
  },
  {
   "cell_type": "code",
   "execution_count": 124,
   "id": "f6fc0f16",
   "metadata": {},
   "outputs": [
    {
     "name": "stdout",
     "output_type": "stream",
     "text": [
      "Epoch 1/50\n",
      "595/595 [==============================] - 2s 2ms/step - loss: 0.6342 - accuracy: 0.5011 - val_loss: 0.5997 - val_accuracy: 0.5249\n",
      "Epoch 2/50\n",
      "595/595 [==============================] - 1s 1ms/step - loss: 0.6022 - accuracy: 0.5322 - val_loss: 0.5947 - val_accuracy: 0.5249\n",
      "Epoch 3/50\n",
      "595/595 [==============================] - 1s 1ms/step - loss: 0.5933 - accuracy: 0.5358 - val_loss: 0.5913 - val_accuracy: 0.5287\n",
      "Epoch 4/50\n",
      "595/595 [==============================] - 1s 1ms/step - loss: 0.5879 - accuracy: 0.5370 - val_loss: 0.5889 - val_accuracy: 0.5300\n",
      "Epoch 5/50\n",
      "595/595 [==============================] - 1s 1ms/step - loss: 0.5836 - accuracy: 0.5408 - val_loss: 0.5876 - val_accuracy: 0.5331\n",
      "Epoch 6/50\n",
      "595/595 [==============================] - 1s 1ms/step - loss: 0.5847 - accuracy: 0.5379 - val_loss: 0.5863 - val_accuracy: 0.5350\n",
      "Epoch 7/50\n",
      "595/595 [==============================] - 1s 1ms/step - loss: 0.5811 - accuracy: 0.5448 - val_loss: 0.5847 - val_accuracy: 0.5344\n",
      "Epoch 8/50\n",
      "595/595 [==============================] - 1s 1ms/step - loss: 0.5778 - accuracy: 0.5520 - val_loss: 0.5825 - val_accuracy: 0.5388\n",
      "Epoch 9/50\n",
      "595/595 [==============================] - 1s 1ms/step - loss: 0.5744 - accuracy: 0.5477 - val_loss: 0.5829 - val_accuracy: 0.5375\n",
      "Epoch 10/50\n",
      "595/595 [==============================] - 1s 1ms/step - loss: 0.5764 - accuracy: 0.5480 - val_loss: 0.5832 - val_accuracy: 0.5356\n",
      "Epoch 11/50\n",
      "595/595 [==============================] - 1s 1ms/step - loss: 0.5753 - accuracy: 0.5477 - val_loss: 0.5824 - val_accuracy: 0.5350\n",
      "Epoch 12/50\n",
      "595/595 [==============================] - 1s 1ms/step - loss: 0.5769 - accuracy: 0.5482 - val_loss: 0.5831 - val_accuracy: 0.5356\n",
      "Epoch 13/50\n",
      "595/595 [==============================] - 1s 1ms/step - loss: 0.5745 - accuracy: 0.5536 - val_loss: 0.5833 - val_accuracy: 0.5388\n",
      "Epoch 14/50\n",
      "595/595 [==============================] - 1s 1ms/step - loss: 0.5723 - accuracy: 0.5501 - val_loss: 0.5828 - val_accuracy: 0.5401\n",
      "Epoch 15/50\n",
      "595/595 [==============================] - 1s 1ms/step - loss: 0.5741 - accuracy: 0.5526 - val_loss: 0.5828 - val_accuracy: 0.5407\n",
      "Epoch 16/50\n",
      "595/595 [==============================] - 1s 1ms/step - loss: 0.5721 - accuracy: 0.5538 - val_loss: 0.5820 - val_accuracy: 0.5394\n",
      "Epoch 17/50\n",
      "595/595 [==============================] - 1s 1ms/step - loss: 0.5723 - accuracy: 0.5536 - val_loss: 0.5824 - val_accuracy: 0.5407\n",
      "Epoch 18/50\n",
      "595/595 [==============================] - 1s 1ms/step - loss: 0.5711 - accuracy: 0.5503 - val_loss: 0.5817 - val_accuracy: 0.5369\n",
      "Epoch 19/50\n",
      "595/595 [==============================] - 1s 1ms/step - loss: 0.5733 - accuracy: 0.5534 - val_loss: 0.5829 - val_accuracy: 0.5388\n",
      "Epoch 20/50\n",
      "595/595 [==============================] - 1s 1ms/step - loss: 0.5696 - accuracy: 0.5560 - val_loss: 0.5826 - val_accuracy: 0.5382\n",
      "Epoch 21/50\n",
      "595/595 [==============================] - 1s 1ms/step - loss: 0.5719 - accuracy: 0.5496 - val_loss: 0.5833 - val_accuracy: 0.5394\n",
      "Epoch 22/50\n",
      "595/595 [==============================] - 1s 1ms/step - loss: 0.5708 - accuracy: 0.5553 - val_loss: 0.5833 - val_accuracy: 0.5407\n",
      "Epoch 23/50\n",
      "595/595 [==============================] - 1s 1ms/step - loss: 0.5677 - accuracy: 0.5612 - val_loss: 0.5836 - val_accuracy: 0.5382\n",
      "Epoch 24/50\n",
      "595/595 [==============================] - 1s 1ms/step - loss: 0.5695 - accuracy: 0.5572 - val_loss: 0.5831 - val_accuracy: 0.5356\n",
      "Epoch 25/50\n",
      "595/595 [==============================] - 1s 1ms/step - loss: 0.5679 - accuracy: 0.5608 - val_loss: 0.5832 - val_accuracy: 0.5331\n",
      "Epoch 26/50\n",
      "595/595 [==============================] - 1s 1ms/step - loss: 0.5689 - accuracy: 0.5551 - val_loss: 0.5828 - val_accuracy: 0.5356\n",
      "Epoch 27/50\n",
      "595/595 [==============================] - 1s 1ms/step - loss: 0.5702 - accuracy: 0.5553 - val_loss: 0.5834 - val_accuracy: 0.5394\n",
      "Epoch 28/50\n",
      "595/595 [==============================] - 1s 1ms/step - loss: 0.5694 - accuracy: 0.5547 - val_loss: 0.5828 - val_accuracy: 0.5388\n",
      "Epoch 29/50\n",
      "595/595 [==============================] - 1s 1ms/step - loss: 0.5681 - accuracy: 0.5583 - val_loss: 0.5823 - val_accuracy: 0.5401\n",
      "Epoch 30/50\n",
      "595/595 [==============================] - 1s 1ms/step - loss: 0.5675 - accuracy: 0.5578 - val_loss: 0.5835 - val_accuracy: 0.5382\n",
      "Epoch 31/50\n",
      "595/595 [==============================] - 1s 1ms/step - loss: 0.5665 - accuracy: 0.5574 - val_loss: 0.5835 - val_accuracy: 0.5394\n",
      "Epoch 32/50\n",
      "595/595 [==============================] - 1s 1ms/step - loss: 0.5675 - accuracy: 0.5574 - val_loss: 0.5821 - val_accuracy: 0.5350\n",
      "Epoch 33/50\n",
      "595/595 [==============================] - 1s 1ms/step - loss: 0.5688 - accuracy: 0.5517 - val_loss: 0.5831 - val_accuracy: 0.5363\n",
      "Epoch 34/50\n",
      "595/595 [==============================] - 1s 1ms/step - loss: 0.5652 - accuracy: 0.5585 - val_loss: 0.5824 - val_accuracy: 0.5375\n",
      "Epoch 35/50\n",
      "595/595 [==============================] - 1s 1ms/step - loss: 0.5668 - accuracy: 0.5612 - val_loss: 0.5825 - val_accuracy: 0.5369\n",
      "Epoch 36/50\n",
      "595/595 [==============================] - 1s 1ms/step - loss: 0.5647 - accuracy: 0.5616 - val_loss: 0.5843 - val_accuracy: 0.5407\n",
      "Epoch 37/50\n",
      "595/595 [==============================] - 1s 1ms/step - loss: 0.5655 - accuracy: 0.5564 - val_loss: 0.5865 - val_accuracy: 0.5401\n",
      "Epoch 38/50\n",
      "595/595 [==============================] - 1s 1ms/step - loss: 0.5656 - accuracy: 0.5593 - val_loss: 0.5842 - val_accuracy: 0.5363\n",
      "Epoch 39/50\n",
      "595/595 [==============================] - 1s 1ms/step - loss: 0.5662 - accuracy: 0.5593 - val_loss: 0.5840 - val_accuracy: 0.5388\n",
      "Epoch 40/50\n",
      "595/595 [==============================] - 1s 1ms/step - loss: 0.5673 - accuracy: 0.5595 - val_loss: 0.5838 - val_accuracy: 0.5350\n",
      "Epoch 41/50\n",
      "595/595 [==============================] - 1s 1ms/step - loss: 0.5655 - accuracy: 0.5599 - val_loss: 0.5836 - val_accuracy: 0.5363\n",
      "Epoch 42/50\n",
      "595/595 [==============================] - 1s 1ms/step - loss: 0.5634 - accuracy: 0.5595 - val_loss: 0.5846 - val_accuracy: 0.5394\n",
      "Epoch 43/50\n",
      "595/595 [==============================] - 1s 1ms/step - loss: 0.5642 - accuracy: 0.5597 - val_loss: 0.5851 - val_accuracy: 0.5350\n",
      "Epoch 44/50\n",
      "595/595 [==============================] - 1s 1ms/step - loss: 0.5622 - accuracy: 0.5631 - val_loss: 0.5845 - val_accuracy: 0.5331\n",
      "Epoch 45/50\n",
      "595/595 [==============================] - 1s 1ms/step - loss: 0.5662 - accuracy: 0.5599 - val_loss: 0.5831 - val_accuracy: 0.5375\n",
      "Epoch 46/50\n",
      "595/595 [==============================] - 1s 1ms/step - loss: 0.5664 - accuracy: 0.5627 - val_loss: 0.5843 - val_accuracy: 0.5375\n",
      "Epoch 47/50\n",
      "595/595 [==============================] - 1s 1ms/step - loss: 0.5661 - accuracy: 0.5570 - val_loss: 0.5826 - val_accuracy: 0.5331\n",
      "Epoch 48/50\n",
      "595/595 [==============================] - 1s 1ms/step - loss: 0.5667 - accuracy: 0.5581 - val_loss: 0.5841 - val_accuracy: 0.5363\n",
      "Epoch 49/50\n",
      "595/595 [==============================] - 1s 1ms/step - loss: 0.5629 - accuracy: 0.5665 - val_loss: 0.5838 - val_accuracy: 0.5356\n",
      "Epoch 50/50\n",
      "595/595 [==============================] - 1s 1ms/step - loss: 0.5607 - accuracy: 0.5614 - val_loss: 0.5834 - val_accuracy: 0.5401\n"
     ]
    }
   ],
   "source": [
    "class_neur = MLPClassifier(random_state=1, max_iter=100)\n",
    "model = Sequential()\n",
    "model.add(layers.Dense(10, activation='relu', input_dim=X_train.shape[1]))\n",
    "model.add(Dropout(0.4))\n",
    "model.add(layers.Dense(10, activation='relu'))\n",
    "model.add(Dropout(0.2))\n",
    "model.add(layers.Dense(3, activation='softmax'))\n",
    "model.compile(optimizer = 'adam',\n",
    "                loss='binary_crossentropy',\n",
    "                metrics=['accuracy'])  \n",
    "history =model.fit(X_train, train_y_one_hot, epochs=50, batch_size = 8, verbose=1,validation_data=(X_test, test_y_one_hot))\n"
   ]
  },
  {
   "cell_type": "code",
   "execution_count": 202,
   "id": "ec8edbbc",
   "metadata": {},
   "outputs": [
    {
     "name": "stdout",
     "output_type": "stream",
     "text": [
      "50/50 [==============================] - 0s 714us/step\n"
     ]
    }
   ],
   "source": [
    "y_pred=model.predict(X_test)"
   ]
  },
  {
   "cell_type": "code",
   "execution_count": 215,
   "id": "ce37a71b",
   "metadata": {},
   "outputs": [
    {
     "data": {
      "text/plain": [
       "array([2, 2, 0, ..., 0, 2, 1], dtype=int64)"
      ]
     },
     "execution_count": 215,
     "metadata": {},
     "output_type": "execute_result"
    }
   ],
   "source": [
    "y_test"
   ]
  },
  {
   "cell_type": "code",
   "execution_count": 213,
   "id": "db7f60ae",
   "metadata": {},
   "outputs": [
    {
     "data": {
      "text/plain": [
       "array([2, 2, 2, ..., 0, 2, 2], dtype=int64)"
      ]
     },
     "execution_count": 213,
     "metadata": {},
     "output_type": "execute_result"
    }
   ],
   "source": [
    "list_pred = np.array([np.argmax(proba) for proba in y_pred])\n",
    "list_pred"
   ]
  },
  {
   "cell_type": "code",
   "execution_count": 219,
   "id": "500b704f",
   "metadata": {},
   "outputs": [
    {
     "name": "stdout",
     "output_type": "stream",
     "text": [
      "              precision    recall  f1-score   support\n",
      "\n",
      "           0       0.48      0.16      0.24       448\n",
      "           1       0.00      0.00      0.00       301\n",
      "           2       0.55      0.94      0.69       836\n",
      "\n",
      "    accuracy                           0.54      1585\n",
      "   macro avg       0.34      0.37      0.31      1585\n",
      "weighted avg       0.42      0.54      0.43      1585\n",
      "\n"
     ]
    },
    {
     "name": "stderr",
     "output_type": "stream",
     "text": [
      "D:\\anacinda\\lib\\site-packages\\sklearn\\metrics\\_classification.py:1318: UndefinedMetricWarning: Precision and F-score are ill-defined and being set to 0.0 in labels with no predicted samples. Use `zero_division` parameter to control this behavior.\n",
      "  _warn_prf(average, modifier, msg_start, len(result))\n",
      "D:\\anacinda\\lib\\site-packages\\sklearn\\metrics\\_classification.py:1318: UndefinedMetricWarning: Precision and F-score are ill-defined and being set to 0.0 in labels with no predicted samples. Use `zero_division` parameter to control this behavior.\n",
      "  _warn_prf(average, modifier, msg_start, len(result))\n",
      "D:\\anacinda\\lib\\site-packages\\sklearn\\metrics\\_classification.py:1318: UndefinedMetricWarning: Precision and F-score are ill-defined and being set to 0.0 in labels with no predicted samples. Use `zero_division` parameter to control this behavior.\n",
      "  _warn_prf(average, modifier, msg_start, len(result))\n"
     ]
    }
   ],
   "source": [
    "import matplotlib.pyplot as plt\n",
    "from sklearn.metrics import plot_confusion_matrix\n",
    "print(classification_report(y_test, list_pred))"
   ]
  },
  {
   "cell_type": "code",
   "execution_count": 203,
   "id": "0415065d",
   "metadata": {},
   "outputs": [],
   "source": [
    "from sklearn.metrics import confusion_matrix"
   ]
  },
  {
   "cell_type": "code",
   "execution_count": 177,
   "id": "eb869463",
   "metadata": {},
   "outputs": [
    {
     "data": {
      "text/plain": [
       "(1585, 89)"
      ]
     },
     "execution_count": 177,
     "metadata": {},
     "output_type": "execute_result"
    }
   ],
   "source": [
    "X_test.shape"
   ]
  },
  {
   "cell_type": "code",
   "execution_count": 180,
   "id": "f8f65bf1",
   "metadata": {
    "scrolled": true
   },
   "outputs": [
    {
     "data": {
      "text/plain": [
       "0.33333334"
      ]
     },
     "execution_count": 180,
     "metadata": {},
     "output_type": "execute_result"
    }
   ],
   "source": [
    "np.mean(y_pred_proba)"
   ]
  },
  {
   "cell_type": "code",
   "execution_count": 181,
   "id": "4897ec9a",
   "metadata": {},
   "outputs": [],
   "source": [
    "model.save('model_round.h5')\n",
    "model.save_weights('model_round.h5')  # to store\n"
   ]
  },
  {
   "cell_type": "code",
   "execution_count": 200,
   "id": "977d1f7a",
   "metadata": {
    "scrolled": true
   },
   "outputs": [
    {
     "name": "stdout",
     "output_type": "stream",
     "text": [
      "1/1 [==============================] - 0s 23ms/step\n"
     ]
    }
   ],
   "source": [
    "y_pred = model.predict(a.reshape(1,-1))"
   ]
  },
  {
   "cell_type": "code",
   "execution_count": 221,
   "id": "1cc06bbf",
   "metadata": {},
   "outputs": [
    {
     "data": {
      "text/plain": [
       "array([[0.2560396 , 0.17478523, 0.5691751 ],\n",
       "       [0.18876061, 0.14398833, 0.66725105],\n",
       "       [0.17153977, 0.11897703, 0.70948315],\n",
       "       ...,\n",
       "       [0.39213213, 0.21862605, 0.38924184],\n",
       "       [0.16401476, 0.0974431 , 0.7385422 ],\n",
       "       [0.33668017, 0.21557921, 0.44774064]], dtype=float32)"
      ]
     },
     "execution_count": 221,
     "metadata": {},
     "output_type": "execute_result"
    }
   ],
   "source": [
    "y_pred"
   ]
  },
  {
   "cell_type": "code",
   "execution_count": 222,
   "id": "427be37d",
   "metadata": {},
   "outputs": [],
   "source": [
    "from datetime import date\n",
    "\n",
    "today = date.today()\n",
    "df_fighters_details['AGE'] = (pd.to_datetime(today) - pd.to_datetime(df_fighters_details['DOB'])).astype('<m8[Y]')"
   ]
  },
  {
   "cell_type": "code",
   "execution_count": 255,
   "id": "5975f89e",
   "metadata": {},
   "outputs": [],
   "source": [
    "fighter2 = \"Da-Un Jung\"\n",
    "fighter1= \"Devin Clark\"\n"
   ]
  },
  {
   "cell_type": "code",
   "execution_count": 256,
   "id": "cd180742",
   "metadata": {},
   "outputs": [],
   "source": [
    "f1_df = df_fighters.loc[df_fighters['FIGHTER']==fighter1]\n",
    "f2_df = df_fighters.loc[df_fighters['FIGHTER']==fighter2]"
   ]
  },
  {
   "cell_type": "code",
   "execution_count": 257,
   "id": "74302f5f",
   "metadata": {},
   "outputs": [
    {
     "data": {
      "text/html": [
       "<div>\n",
       "<style scoped>\n",
       "    .dataframe tbody tr th:only-of-type {\n",
       "        vertical-align: middle;\n",
       "    }\n",
       "\n",
       "    .dataframe tbody tr th {\n",
       "        vertical-align: top;\n",
       "    }\n",
       "\n",
       "    .dataframe thead th {\n",
       "        text-align: right;\n",
       "    }\n",
       "</style>\n",
       "<table border=\"1\" class=\"dataframe\">\n",
       "  <thead>\n",
       "    <tr style=\"text-align: right;\">\n",
       "      <th></th>\n",
       "      <th>FIGHTER</th>\n",
       "      <th>HEIGHT_fighter</th>\n",
       "      <th>WEIGHT_fighter</th>\n",
       "      <th>REACH_fighter</th>\n",
       "      <th>STANCE_fighter</th>\n",
       "      <th>Fights</th>\n",
       "      <th>Win</th>\n",
       "      <th>DRAW</th>\n",
       "      <th>Lost</th>\n",
       "      <th>No_contest</th>\n",
       "      <th>...</th>\n",
       "      <th>BODY_attemps_opponent</th>\n",
       "      <th>LEG_landed_opponent</th>\n",
       "      <th>LEG_attemps_opponent</th>\n",
       "      <th>DISTANCE_landed_opponent</th>\n",
       "      <th>DISTANCE_attemps_opponent</th>\n",
       "      <th>CLINCH_landed_opponent</th>\n",
       "      <th>CLINCH_attemps_opponent</th>\n",
       "      <th>GROUND_landed_opponent</th>\n",
       "      <th>GROUND_attemps_opponent</th>\n",
       "      <th>form_skore_fighter</th>\n",
       "    </tr>\n",
       "  </thead>\n",
       "  <tbody>\n",
       "    <tr>\n",
       "      <th>600</th>\n",
       "      <td>Devin Clark</td>\n",
       "      <td>72.0</td>\n",
       "      <td>205.0</td>\n",
       "      <td>75.0</td>\n",
       "      <td>Orthodox</td>\n",
       "      <td>14</td>\n",
       "      <td>7</td>\n",
       "      <td>0</td>\n",
       "      <td>7</td>\n",
       "      <td>0</td>\n",
       "      <td>...</td>\n",
       "      <td>141.0</td>\n",
       "      <td>54.0</td>\n",
       "      <td>62.0</td>\n",
       "      <td>175.0</td>\n",
       "      <td>447.0</td>\n",
       "      <td>155.0</td>\n",
       "      <td>198.0</td>\n",
       "      <td>117.0</td>\n",
       "      <td>155.0</td>\n",
       "      <td>-0.5</td>\n",
       "    </tr>\n",
       "  </tbody>\n",
       "</table>\n",
       "<p>1 rows × 56 columns</p>\n",
       "</div>"
      ],
      "text/plain": [
       "         FIGHTER  HEIGHT_fighter  WEIGHT_fighter  REACH_fighter  \\\n",
       "600  Devin Clark            72.0           205.0           75.0   \n",
       "\n",
       "    STANCE_fighter  Fights  Win  DRAW  Lost  No_contest  ...  \\\n",
       "600       Orthodox      14    7     0     7           0  ...   \n",
       "\n",
       "     BODY_attemps_opponent  LEG_landed_opponent  LEG_attemps_opponent  \\\n",
       "600                  141.0                 54.0                  62.0   \n",
       "\n",
       "     DISTANCE_landed_opponent  DISTANCE_attemps_opponent  \\\n",
       "600                     175.0                      447.0   \n",
       "\n",
       "     CLINCH_landed_opponent  CLINCH_attemps_opponent  GROUND_landed_opponent  \\\n",
       "600                   155.0                    198.0                   117.0   \n",
       "\n",
       "     GROUND_attemps_opponent  form_skore_fighter  \n",
       "600                    155.0                -0.5  \n",
       "\n",
       "[1 rows x 56 columns]"
      ]
     },
     "execution_count": 257,
     "metadata": {},
     "output_type": "execute_result"
    }
   ],
   "source": [
    "f1_df"
   ]
  },
  {
   "cell_type": "code",
   "execution_count": 258,
   "id": "2b4a9810",
   "metadata": {},
   "outputs": [
    {
     "data": {
      "text/plain": [
       "Index(['ROUND', 'HEIGHT_diff', 'REACH_diff', 'AGE_diff', 'form_skore_fighter',\n",
       "       'form_skore_opponent', 'fightNo_fighter', 'fightNo_opponent',\n",
       "       'Win_tot_f1', 'DRAW_f1', 'No_contest_f1', 'Win_tot_f2', 'DRAW_f2',\n",
       "       'No_contest_f2', 'CTRL_pct_fighterf1', 'SIG.STR._acc_fighterf1',\n",
       "       'SIG.STR._perRound_fighterf1', 'TOTAL STR._acc_fighterf1',\n",
       "       'TOTAL STR._perRound_fighterf1', 'TD_acc_fighterf1',\n",
       "       'TD_perRound_fighterf1', 'HEAD_acc_fighterf1',\n",
       "       'HEAD_perRound_fighterf1', 'BODY_acc_fighterf1',\n",
       "       'BODY_perRound_fighterf1', 'LEG_acc_fighterf1',\n",
       "       'LEG_perRound_fighterf1', 'DISTANCE_acc_fighterf1',\n",
       "       'DISTANCE_perRound_fighterf1', 'CLINCH_acc_fighterf1',\n",
       "       'CLINCH_perRound_fighterf1', 'GROUND_acc_fighterf1',\n",
       "       'GROUND_perRound_fighterf1', 'CTRL_pct_opponentf1',\n",
       "       'SIG.STR._acc_opponentf1', 'SIG.STR._perRound_opponentf1',\n",
       "       'TOTAL STR._acc_opponentf1', 'TOTAL STR._perRound_opponentf1',\n",
       "       'TD_acc_opponentf1', 'TD_perRound_opponentf1', 'HEAD_acc_opponentf1',\n",
       "       'HEAD_perRound_opponentf1', 'BODY_acc_opponentf1',\n",
       "       'BODY_perRound_opponentf1', 'LEG_acc_opponentf1',\n",
       "       'LEG_perRound_opponentf1', 'DISTANCE_acc_opponentf1',\n",
       "       'DISTANCE_perRound_opponentf1', 'CLINCH_acc_opponentf1',\n",
       "       'CLINCH_perRound_opponentf1', 'GROUND_acc_opponentf1',\n",
       "       'GROUND_perRound_opponentf1', 'CTRL_pct_fighterf2',\n",
       "       'SIG.STR._acc_fighterf2', 'SIG.STR._perRound_fighterf2',\n",
       "       'TOTAL STR._acc_fighterf2', 'TOTAL STR._perRound_fighterf2',\n",
       "       'TD_acc_fighterf2', 'TD_perRound_fighterf2', 'HEAD_acc_fighterf2',\n",
       "       'HEAD_perRound_fighterf2', 'BODY_acc_fighterf2',\n",
       "       'BODY_perRound_fighterf2', 'LEG_acc_fighterf2',\n",
       "       'LEG_perRound_fighterf2', 'DISTANCE_acc_fighterf2',\n",
       "       'DISTANCE_perRound_fighterf2', 'CLINCH_acc_fighterf2',\n",
       "       'CLINCH_perRound_fighterf2', 'GROUND_acc_fighterf2',\n",
       "       'GROUND_perRound_fighterf2', 'CTRL_pct_opponentf2',\n",
       "       'SIG.STR._acc_opponentf2', 'SIG.STR._perRound_opponentf2',\n",
       "       'TOTAL STR._acc_opponentf2', 'TOTAL STR._perRound_opponentf2',\n",
       "       'TD_acc_opponentf2', 'TD_perRound_opponentf2', 'HEAD_acc_opponentf2',\n",
       "       'HEAD_perRound_opponentf2', 'BODY_acc_opponentf2',\n",
       "       'BODY_perRound_opponentf2', 'LEG_acc_opponentf2',\n",
       "       'LEG_perRound_opponentf2', 'DISTANCE_acc_opponentf2',\n",
       "       'DISTANCE_perRound_opponentf2', 'CLINCH_acc_opponentf2',\n",
       "       'CLINCH_perRound_opponentf2', 'GROUND_acc_opponentf2',\n",
       "       'GROUND_perRound_opponentf2'],\n",
       "      dtype='object')"
      ]
     },
     "execution_count": 258,
     "metadata": {},
     "output_type": "execute_result"
    }
   ],
   "source": [
    "df_model.columns"
   ]
  },
  {
   "cell_type": "code",
   "execution_count": 259,
   "id": "2f5a3e74",
   "metadata": {},
   "outputs": [],
   "source": [
    "agediff = df_fighters_details[df_fighters_details['FIGHTER']==fighter1]['AGE'].values[0] - df_fighters_details[df_fighters_details['FIGHTER']==fighter2]['AGE'].values[0]\n",
    "formy = [f1_df['form_skore_fighter'].values[0], f2_df['form_skore_fighter'].values[0]]\n",
    "no_of_fights = [f1_df['Fights'].values[0],f2_df['Fights'].values[0]]\n",
    "W_D_NC = f1_df[['Win','DRAW', 'No_contest']].values.tolist()[0] + f2_df[['Win','DRAW', 'No_contest']].values.tolist()[0]"
   ]
  },
  {
   "cell_type": "code",
   "execution_count": 260,
   "id": "5473bec1",
   "metadata": {},
   "outputs": [],
   "source": [
    "sloupce2 = df_fighters.columns.tolist()[10:]\n",
    "stats_f1 = []\n",
    "stats_f2 = []\n",
    "for sloupec in sloupce2:    \n",
    "    splited = sloupec.split('_')\n",
    "    if 'CTRL' in splited:\n",
    "        stats_f1.append((f1_df[sloupec]/f1_df['TotalTime']).values[0])\n",
    "        stats_f2.append((f2_df[sloupec]/f2_df['TotalTime']).values[0])\n",
    "    if 'attemps' in splited:\n",
    "        stats_f1.append((f1_df[sloupec.replace('attemps', 'landed')]/f1_df[sloupec]).values[0])\n",
    "        stats_f1.append((f1_df[sloupec.replace('attemps', 'landed')]/f1_df['TotalTime']).values[0]*300)\n",
    "        \n",
    "        stats_f2.append((f2_df[sloupec.replace('attemps', 'landed')]/f2_df[sloupec]).values[0])\n",
    "        stats_f2.append((f2_df[sloupec.replace('attemps', 'landed')]/f2_df['TotalTime']).values[0]*300)\n",
    "stats_list = stats_f1 + stats_f2"
   ]
  },
  {
   "cell_type": "code",
   "execution_count": 261,
   "id": "bdff40e4",
   "metadata": {},
   "outputs": [],
   "source": [
    "vstup = np.array([1]+[f1_df.iloc[0][col] - f2_df.iloc[0][col] for col in ['HEIGHT_fighter','REACH_fighter']] + [agediff] + formy + no_of_fights + W_D_NC + stats_list)"
   ]
  },
  {
   "cell_type": "code",
   "execution_count": 262,
   "id": "1fdd596e",
   "metadata": {},
   "outputs": [
    {
     "name": "stderr",
     "output_type": "stream",
     "text": [
      "C:\\Users\\spravce\\AppData\\Local\\Temp\\ipykernel_175276\\1100220427.py:2: FutureWarning: The frame.append method is deprecated and will be removed from pandas in a future version. Use pandas.concat instead.\n",
      "  vstup_scaled = scaler.fit_transform(df_model.append(pd.DataFrame(vstup.reshape(1,-1), columns=list(df_model)), ignore_index=True))[-1:,1:]\n"
     ]
    }
   ],
   "source": [
    "scaler = MinMaxScaler(feature_range=(0, 1))\n",
    "vstup_scaled = scaler.fit_transform(df_model.append(pd.DataFrame(vstup.reshape(1,-1), columns=list(df_model)), ignore_index=True))[-1:,1:]"
   ]
  },
  {
   "cell_type": "code",
   "execution_count": 263,
   "id": "1f3ec277",
   "metadata": {},
   "outputs": [
    {
     "data": {
      "text/plain": [
       "(1, 89)"
      ]
     },
     "execution_count": 263,
     "metadata": {},
     "output_type": "execute_result"
    }
   ],
   "source": [
    "vstup_scaled.shape"
   ]
  },
  {
   "cell_type": "code",
   "execution_count": 264,
   "id": "96eda032",
   "metadata": {},
   "outputs": [],
   "source": [
    "from numpy import *\n",
    "where_are_NaNs = isnan(vstup_scaled)\n",
    "vstup_scaled[where_are_NaNs] = 0"
   ]
  },
  {
   "cell_type": "code",
   "execution_count": 265,
   "id": "b4ed6497",
   "metadata": {},
   "outputs": [
    {
     "data": {
      "text/plain": [
       "array([], shape=(0, 2), dtype=int64)"
      ]
     },
     "execution_count": 265,
     "metadata": {},
     "output_type": "execute_result"
    }
   ],
   "source": [
    "np.argwhere(np.isnan(vstup_scaled))"
   ]
  },
  {
   "cell_type": "code",
   "execution_count": 266,
   "id": "7bc04b75",
   "metadata": {},
   "outputs": [
    {
     "name": "stdout",
     "output_type": "stream",
     "text": [
      "1/1 [==============================] - 0s 20ms/step\n"
     ]
    },
    {
     "data": {
      "text/plain": [
       "array([[0.21610133, 0.14898303, 0.6349156 ]], dtype=float32)"
      ]
     },
     "execution_count": 266,
     "metadata": {},
     "output_type": "execute_result"
    }
   ],
   "source": [
    "y_pred = model.predict(vstup_scaled)\n",
    "y_pred"
   ]
  },
  {
   "cell_type": "code",
   "execution_count": null,
   "id": "0a3db91c",
   "metadata": {},
   "outputs": [],
   "source": []
  },
  {
   "cell_type": "code",
   "execution_count": null,
   "id": "a60c443e",
   "metadata": {},
   "outputs": [],
   "source": []
  }
 ],
 "metadata": {
  "kernelspec": {
   "display_name": "Python 3 (ipykernel)",
   "language": "python",
   "name": "python3"
  },
  "language_info": {
   "codemirror_mode": {
    "name": "ipython",
    "version": 3
   },
   "file_extension": ".py",
   "mimetype": "text/x-python",
   "name": "python",
   "nbconvert_exporter": "python",
   "pygments_lexer": "ipython3",
   "version": "3.9.13"
  }
 },
 "nbformat": 4,
 "nbformat_minor": 5
}
