{
 "cells": [
  {
   "cell_type": "code",
   "execution_count": 1,
   "id": "6eda130d",
   "metadata": {},
   "outputs": [],
   "source": [
    "import pandas as pd\n",
    "import numpy as np\n",
    "from sklearn.model_selection import GridSearchCV, train_test_split"
   ]
  },
  {
   "cell_type": "code",
   "execution_count": 2,
   "id": "64504238",
   "metadata": {},
   "outputs": [],
   "source": [
    "from keras.models import Sequential\n",
    "from keras.layers import Dense, Activation, Dropout\n",
    "\n",
    "from keras import layers\n",
    "from sklearn.neural_network import MLPClassifier\n",
    "from sklearn.metrics import accuracy_score, f1_score, auc, roc_curve, roc_auc_score\n",
    "from sklearn.preprocessing import StandardScaler"
   ]
  },
  {
   "cell_type": "code",
   "execution_count": 193,
   "id": "1160a496",
   "metadata": {},
   "outputs": [],
   "source": [
    "df = pd.read_csv('fight_with_stats_precomp.csv')\n",
    "df_fighters = pd.read_csv('fighter_total_stats.csv')"
   ]
  },
  {
   "cell_type": "code",
   "execution_count": 194,
   "id": "cfad8be9",
   "metadata": {},
   "outputs": [],
   "source": [
    "df = df[(df['fightNo_fighter']>=3) & (df['fightNo_opponent']>=3) & (df['Women_fight']==0)]"
   ]
  },
  {
   "cell_type": "code",
   "execution_count": 195,
   "id": "6fbc9051",
   "metadata": {},
   "outputs": [],
   "source": [
    "df = df.fillna(0)\n"
   ]
  },
  {
   "cell_type": "code",
   "execution_count": 196,
   "id": "a380c164",
   "metadata": {},
   "outputs": [
    {
     "data": {
      "text/html": [
       "<div>\n",
       "<style scoped>\n",
       "    .dataframe tbody tr th:only-of-type {\n",
       "        vertical-align: middle;\n",
       "    }\n",
       "\n",
       "    .dataframe tbody tr th {\n",
       "        vertical-align: top;\n",
       "    }\n",
       "\n",
       "    .dataframe thead th {\n",
       "        text-align: right;\n",
       "    }\n",
       "</style>\n",
       "<table border=\"1\" class=\"dataframe\">\n",
       "  <thead>\n",
       "    <tr style=\"text-align: right;\">\n",
       "      <th></th>\n",
       "      <th>EVENT</th>\n",
       "      <th>BOUT</th>\n",
       "      <th>FIGHTER</th>\n",
       "      <th>OPPONENT</th>\n",
       "      <th>METHOD</th>\n",
       "      <th>Win</th>\n",
       "      <th>Women_fight</th>\n",
       "      <th>ROUND</th>\n",
       "      <th>HEIGHT_diff</th>\n",
       "      <th>REACH_diff</th>\n",
       "      <th>...</th>\n",
       "      <th>BODY_landed_opponent</th>\n",
       "      <th>BODY_attemps_opponent</th>\n",
       "      <th>LEG_landed_opponent</th>\n",
       "      <th>LEG_attemps_opponent</th>\n",
       "      <th>DISTANCE_landed_opponent</th>\n",
       "      <th>DISTANCE_attemps_opponent</th>\n",
       "      <th>CLINCH_landed_opponent</th>\n",
       "      <th>CLINCH_attemps_opponent</th>\n",
       "      <th>GROUND_landed_opponent</th>\n",
       "      <th>GROUND_attemps_opponent</th>\n",
       "    </tr>\n",
       "  </thead>\n",
       "  <tbody>\n",
       "    <tr>\n",
       "      <th>24</th>\n",
       "      <td>UFC 2: No Way Out</td>\n",
       "      <td>Royce Gracie vs. Patrick Smith</td>\n",
       "      <td>Patrick Smith</td>\n",
       "      <td>Royce Gracie</td>\n",
       "      <td>KO/TKO - ground</td>\n",
       "      <td>0</td>\n",
       "      <td>0</td>\n",
       "      <td>1</td>\n",
       "      <td>1.0</td>\n",
       "      <td>0.0</td>\n",
       "      <td>...</td>\n",
       "      <td>0.0</td>\n",
       "      <td>0.0</td>\n",
       "      <td>3.0</td>\n",
       "      <td>5.0</td>\n",
       "      <td>5.0</td>\n",
       "      <td>10.0</td>\n",
       "      <td>0.0</td>\n",
       "      <td>0.0</td>\n",
       "      <td>0.0</td>\n",
       "      <td>0.0</td>\n",
       "    </tr>\n",
       "    <tr>\n",
       "      <th>25</th>\n",
       "      <td>UFC 2: No Way Out</td>\n",
       "      <td>Royce Gracie vs. Patrick Smith</td>\n",
       "      <td>Royce Gracie</td>\n",
       "      <td>Patrick Smith</td>\n",
       "      <td>KO/TKO - ground</td>\n",
       "      <td>1</td>\n",
       "      <td>0</td>\n",
       "      <td>1</td>\n",
       "      <td>-1.0</td>\n",
       "      <td>0.0</td>\n",
       "      <td>...</td>\n",
       "      <td>0.0</td>\n",
       "      <td>0.0</td>\n",
       "      <td>0.0</td>\n",
       "      <td>1.0</td>\n",
       "      <td>0.0</td>\n",
       "      <td>2.0</td>\n",
       "      <td>0.0</td>\n",
       "      <td>0.0</td>\n",
       "      <td>3.0</td>\n",
       "      <td>5.0</td>\n",
       "    </tr>\n",
       "    <tr>\n",
       "      <th>26</th>\n",
       "      <td>UFC 2: No Way Out</td>\n",
       "      <td>Royce Gracie vs. Remco Pardoel</td>\n",
       "      <td>Remco Pardoel</td>\n",
       "      <td>Royce Gracie</td>\n",
       "      <td>Submission</td>\n",
       "      <td>0</td>\n",
       "      <td>0</td>\n",
       "      <td>1</td>\n",
       "      <td>2.0</td>\n",
       "      <td>0.0</td>\n",
       "      <td>...</td>\n",
       "      <td>0.0</td>\n",
       "      <td>0.0</td>\n",
       "      <td>1.0</td>\n",
       "      <td>1.0</td>\n",
       "      <td>2.0</td>\n",
       "      <td>3.0</td>\n",
       "      <td>0.0</td>\n",
       "      <td>0.0</td>\n",
       "      <td>0.0</td>\n",
       "      <td>2.0</td>\n",
       "    </tr>\n",
       "    <tr>\n",
       "      <th>27</th>\n",
       "      <td>UFC 2: No Way Out</td>\n",
       "      <td>Royce Gracie vs. Remco Pardoel</td>\n",
       "      <td>Royce Gracie</td>\n",
       "      <td>Remco Pardoel</td>\n",
       "      <td>Submission</td>\n",
       "      <td>1</td>\n",
       "      <td>0</td>\n",
       "      <td>1</td>\n",
       "      <td>-2.0</td>\n",
       "      <td>0.0</td>\n",
       "      <td>...</td>\n",
       "      <td>1.0</td>\n",
       "      <td>2.0</td>\n",
       "      <td>0.0</td>\n",
       "      <td>1.0</td>\n",
       "      <td>0.0</td>\n",
       "      <td>3.0</td>\n",
       "      <td>1.0</td>\n",
       "      <td>1.0</td>\n",
       "      <td>3.0</td>\n",
       "      <td>5.0</td>\n",
       "    </tr>\n",
       "    <tr>\n",
       "      <th>50</th>\n",
       "      <td>UFC 4: Revenge of the Warriors</td>\n",
       "      <td>Royce Gracie vs. Dan Severn</td>\n",
       "      <td>Dan Severn</td>\n",
       "      <td>Royce Gracie</td>\n",
       "      <td>Submission</td>\n",
       "      <td>0</td>\n",
       "      <td>0</td>\n",
       "      <td>1</td>\n",
       "      <td>1.0</td>\n",
       "      <td>0.0</td>\n",
       "      <td>...</td>\n",
       "      <td>3.0</td>\n",
       "      <td>4.0</td>\n",
       "      <td>2.0</td>\n",
       "      <td>3.0</td>\n",
       "      <td>3.0</td>\n",
       "      <td>5.0</td>\n",
       "      <td>3.0</td>\n",
       "      <td>3.0</td>\n",
       "      <td>3.0</td>\n",
       "      <td>3.0</td>\n",
       "    </tr>\n",
       "  </tbody>\n",
       "</table>\n",
       "<p>5 rows × 63 columns</p>\n",
       "</div>"
      ],
      "text/plain": [
       "                             EVENT                            BOUT  \\\n",
       "24               UFC 2: No Way Out  Royce Gracie vs. Patrick Smith   \n",
       "25               UFC 2: No Way Out  Royce Gracie vs. Patrick Smith   \n",
       "26               UFC 2: No Way Out  Royce Gracie vs. Remco Pardoel   \n",
       "27               UFC 2: No Way Out  Royce Gracie vs. Remco Pardoel   \n",
       "50  UFC 4: Revenge of the Warriors     Royce Gracie vs. Dan Severn   \n",
       "\n",
       "          FIGHTER       OPPONENT           METHOD  Win  Women_fight  ROUND  \\\n",
       "24  Patrick Smith   Royce Gracie  KO/TKO - ground    0            0      1   \n",
       "25   Royce Gracie  Patrick Smith  KO/TKO - ground    1            0      1   \n",
       "26  Remco Pardoel   Royce Gracie       Submission    0            0      1   \n",
       "27   Royce Gracie  Remco Pardoel       Submission    1            0      1   \n",
       "50     Dan Severn   Royce Gracie       Submission    0            0      1   \n",
       "\n",
       "    HEIGHT_diff  REACH_diff  ...  BODY_landed_opponent  BODY_attemps_opponent  \\\n",
       "24          1.0         0.0  ...                   0.0                    0.0   \n",
       "25         -1.0         0.0  ...                   0.0                    0.0   \n",
       "26          2.0         0.0  ...                   0.0                    0.0   \n",
       "27         -2.0         0.0  ...                   1.0                    2.0   \n",
       "50          1.0         0.0  ...                   3.0                    4.0   \n",
       "\n",
       "    LEG_landed_opponent  LEG_attemps_opponent  DISTANCE_landed_opponent  \\\n",
       "24                  3.0                   5.0                       5.0   \n",
       "25                  0.0                   1.0                       0.0   \n",
       "26                  1.0                   1.0                       2.0   \n",
       "27                  0.0                   1.0                       0.0   \n",
       "50                  2.0                   3.0                       3.0   \n",
       "\n",
       "    DISTANCE_attemps_opponent  CLINCH_landed_opponent  \\\n",
       "24                       10.0                     0.0   \n",
       "25                        2.0                     0.0   \n",
       "26                        3.0                     0.0   \n",
       "27                        3.0                     1.0   \n",
       "50                        5.0                     3.0   \n",
       "\n",
       "    CLINCH_attemps_opponent  GROUND_landed_opponent  GROUND_attemps_opponent  \n",
       "24                      0.0                     0.0                      0.0  \n",
       "25                      0.0                     3.0                      5.0  \n",
       "26                      0.0                     0.0                      2.0  \n",
       "27                      1.0                     3.0                      5.0  \n",
       "50                      3.0                     3.0                      3.0  \n",
       "\n",
       "[5 rows x 63 columns]"
      ]
     },
     "execution_count": 196,
     "metadata": {},
     "output_type": "execute_result"
    }
   ],
   "source": [
    "df.head()"
   ]
  },
  {
   "cell_type": "code",
   "execution_count": 197,
   "id": "3c83f881",
   "metadata": {},
   "outputs": [
    {
     "data": {
      "text/plain": [
       "(6817, 63)"
      ]
     },
     "execution_count": 197,
     "metadata": {},
     "output_type": "execute_result"
    }
   ],
   "source": [
    "df.shape"
   ]
  },
  {
   "cell_type": "code",
   "execution_count": 198,
   "id": "0b47cc75",
   "metadata": {
    "scrolled": true
   },
   "outputs": [
    {
     "data": {
      "text/plain": [
       "['KD_fighter',\n",
       " 'SUB.ATT_fighter',\n",
       " 'REV._fighter',\n",
       " 'CTRL_fighter',\n",
       " 'SIG.STR._landed_fighter',\n",
       " 'SIG.STR._attemps_fighter',\n",
       " 'TOTAL STR._landed_fighter',\n",
       " 'TOTAL STR._attemps_fighter',\n",
       " 'TD_landed_fighter',\n",
       " 'TD_attemps_fighter',\n",
       " 'HEAD_landed_fighter',\n",
       " 'HEAD_attemps_fighter',\n",
       " 'BODY_landed_fighter',\n",
       " 'BODY_attemps_fighter',\n",
       " 'LEG_landed_fighter',\n",
       " 'LEG_attemps_fighter',\n",
       " 'DISTANCE_landed_fighter',\n",
       " 'DISTANCE_attemps_fighter',\n",
       " 'CLINCH_landed_fighter',\n",
       " 'CLINCH_attemps_fighter',\n",
       " 'GROUND_landed_fighter',\n",
       " 'GROUND_attemps_fighter',\n",
       " 'KD_opponent',\n",
       " 'SUB.ATT_opponent',\n",
       " 'REV._opponent',\n",
       " 'CTRL_opponent',\n",
       " 'SIG.STR._landed_opponent',\n",
       " 'SIG.STR._attemps_opponent',\n",
       " 'TOTAL STR._landed_opponent',\n",
       " 'TOTAL STR._attemps_opponent',\n",
       " 'TD_landed_opponent',\n",
       " 'TD_attemps_opponent',\n",
       " 'HEAD_landed_opponent',\n",
       " 'HEAD_attemps_opponent',\n",
       " 'BODY_landed_opponent',\n",
       " 'BODY_attemps_opponent',\n",
       " 'LEG_landed_opponent',\n",
       " 'LEG_attemps_opponent',\n",
       " 'DISTANCE_landed_opponent',\n",
       " 'DISTANCE_attemps_opponent',\n",
       " 'CLINCH_landed_opponent',\n",
       " 'CLINCH_attemps_opponent',\n",
       " 'GROUND_landed_opponent',\n",
       " 'GROUND_attemps_opponent']"
      ]
     },
     "execution_count": 198,
     "metadata": {},
     "output_type": "execute_result"
    }
   ],
   "source": [
    "df.columns.tolist()[19:]"
   ]
  },
  {
   "cell_type": "code",
   "execution_count": 199,
   "id": "1bf9b2da",
   "metadata": {},
   "outputs": [],
   "source": [
    "df = df.merge(df[['EVENT', 'BOUT', 'FIGHTER']+df.columns.tolist()[18:]] ,how='left', left_on=['EVENT', 'BOUT', 'OPPONENT'], right_on=['EVENT', 'BOUT', 'FIGHTER'], suffixes=('_f1', '_f2'))"
   ]
  },
  {
   "cell_type": "code",
   "execution_count": 204,
   "id": "c8ce78f8",
   "metadata": {},
   "outputs": [
    {
     "name": "stdout",
     "output_type": "stream",
     "text": [
      "<class 'pandas.core.frame.DataFrame'>\n",
      "Int64Index: 6817 entries, 0 to 6816\n",
      "Data columns (total 184 columns):\n",
      " #    Column                          Non-Null Count  Dtype  \n",
      "---   ------                          --------------  -----  \n",
      " 0    EVENT                           6817 non-null   object \n",
      " 1    BOUT                            6817 non-null   object \n",
      " 2    FIGHTER_f1                      6817 non-null   object \n",
      " 3    OPPONENT                        6817 non-null   object \n",
      " 4    METHOD                          6817 non-null   object \n",
      " 5    Win                             6817 non-null   int64  \n",
      " 6    Women_fight                     6817 non-null   int64  \n",
      " 7    ROUND                           6817 non-null   int64  \n",
      " 8    HEIGHT_diff                     6817 non-null   float64\n",
      " 9    REACH_diff                      6817 non-null   float64\n",
      " 10   AGE_diff                        6817 non-null   float64\n",
      " 11   form_skore_fighter              6817 non-null   float64\n",
      " 12   form_skore_opponent             6817 non-null   float64\n",
      " 13   fightNo_fighter                 6817 non-null   int64  \n",
      " 14   fightNo_opponent                6817 non-null   float64\n",
      " 15   Win_tot                         6817 non-null   float64\n",
      " 16   DRAW                            6817 non-null   float64\n",
      " 17   No_contest                      6817 non-null   float64\n",
      " 18   TotalTime_f1                    6817 non-null   float64\n",
      " 19   KD_fighter_f1                   6817 non-null   float64\n",
      " 20   SUB.ATT_fighter_f1              6817 non-null   float64\n",
      " 21   REV._fighter_f1                 6817 non-null   float64\n",
      " 22   CTRL_fighter_f1                 6817 non-null   float64\n",
      " 23   SIG.STR._landed_fighter_f1      6817 non-null   float64\n",
      " 24   SIG.STR._attemps_fighter_f1     6817 non-null   float64\n",
      " 25   TOTAL STR._landed_fighter_f1    6817 non-null   float64\n",
      " 26   TOTAL STR._attemps_fighter_f1   6817 non-null   float64\n",
      " 27   TD_landed_fighter_f1            6817 non-null   float64\n",
      " 28   TD_attemps_fighter_f1           6817 non-null   float64\n",
      " 29   HEAD_landed_fighter_f1          6817 non-null   float64\n",
      " 30   HEAD_attemps_fighter_f1         6817 non-null   float64\n",
      " 31   BODY_landed_fighter_f1          6817 non-null   float64\n",
      " 32   BODY_attemps_fighter_f1         6817 non-null   float64\n",
      " 33   LEG_landed_fighter_f1           6817 non-null   float64\n",
      " 34   LEG_attemps_fighter_f1          6817 non-null   float64\n",
      " 35   DISTANCE_landed_fighter_f1      6817 non-null   float64\n",
      " 36   DISTANCE_attemps_fighter_f1     6817 non-null   float64\n",
      " 37   CLINCH_landed_fighter_f1        6817 non-null   float64\n",
      " 38   CLINCH_attemps_fighter_f1       6817 non-null   float64\n",
      " 39   GROUND_landed_fighter_f1        6817 non-null   float64\n",
      " 40   GROUND_attemps_fighter_f1       6817 non-null   float64\n",
      " 41   KD_opponent_f1                  6817 non-null   float64\n",
      " 42   SUB.ATT_opponent_f1             6817 non-null   float64\n",
      " 43   REV._opponent_f1                6817 non-null   float64\n",
      " 44   CTRL_opponent_f1                6817 non-null   float64\n",
      " 45   SIG.STR._landed_opponent_f1     6817 non-null   float64\n",
      " 46   SIG.STR._attemps_opponent_f1    6817 non-null   float64\n",
      " 47   TOTAL STR._landed_opponent_f1   6817 non-null   float64\n",
      " 48   TOTAL STR._attemps_opponent_f1  6817 non-null   float64\n",
      " 49   TD_landed_opponent_f1           6817 non-null   float64\n",
      " 50   TD_attemps_opponent_f1          6817 non-null   float64\n",
      " 51   HEAD_landed_opponent_f1         6817 non-null   float64\n",
      " 52   HEAD_attemps_opponent_f1        6817 non-null   float64\n",
      " 53   BODY_landed_opponent_f1         6817 non-null   float64\n",
      " 54   BODY_attemps_opponent_f1        6817 non-null   float64\n",
      " 55   LEG_landed_opponent_f1          6817 non-null   float64\n",
      " 56   LEG_attemps_opponent_f1         6817 non-null   float64\n",
      " 57   DISTANCE_landed_opponent_f1     6817 non-null   float64\n",
      " 58   DISTANCE_attemps_opponent_f1    6817 non-null   float64\n",
      " 59   CLINCH_landed_opponent_f1       6817 non-null   float64\n",
      " 60   CLINCH_attemps_opponent_f1      6817 non-null   float64\n",
      " 61   GROUND_landed_opponent_f1       6817 non-null   float64\n",
      " 62   GROUND_attemps_opponent_f1      6817 non-null   float64\n",
      " 63   TotalTime_f2                    6816 non-null   float64\n",
      " 64   KD_fighter_f2                   6816 non-null   float64\n",
      " 65   SUB.ATT_fighter_f2              6816 non-null   float64\n",
      " 66   REV._fighter_f2                 6816 non-null   float64\n",
      " 67   CTRL_fighter_f2                 6816 non-null   float64\n",
      " 68   SIG.STR._landed_fighter_f2      6816 non-null   float64\n",
      " 69   SIG.STR._attemps_fighter_f2     6816 non-null   float64\n",
      " 70   TOTAL STR._landed_fighter_f2    6816 non-null   float64\n",
      " 71   TOTAL STR._attemps_fighter_f2   6816 non-null   float64\n",
      " 72   TD_landed_fighter_f2            6816 non-null   float64\n",
      " 73   TD_attemps_fighter_f2           6816 non-null   float64\n",
      " 74   HEAD_landed_fighter_f2          6816 non-null   float64\n",
      " 75   HEAD_attemps_fighter_f2         6816 non-null   float64\n",
      " 76   BODY_landed_fighter_f2          6816 non-null   float64\n",
      " 77   BODY_attemps_fighter_f2         6816 non-null   float64\n",
      " 78   LEG_landed_fighter_f2           6816 non-null   float64\n",
      " 79   LEG_attemps_fighter_f2          6816 non-null   float64\n",
      " 80   DISTANCE_landed_fighter_f2      6816 non-null   float64\n",
      " 81   DISTANCE_attemps_fighter_f2     6816 non-null   float64\n",
      " 82   CLINCH_landed_fighter_f2        6816 non-null   float64\n",
      " 83   CLINCH_attemps_fighter_f2       6816 non-null   float64\n",
      " 84   GROUND_landed_fighter_f2        6816 non-null   float64\n",
      " 85   GROUND_attemps_fighter_f2       6816 non-null   float64\n",
      " 86   KD_opponent_f2                  6816 non-null   float64\n",
      " 87   SUB.ATT_opponent_f2             6816 non-null   float64\n",
      " 88   REV._opponent_f2                6816 non-null   float64\n",
      " 89   CTRL_opponent_f2                6816 non-null   float64\n",
      " 90   SIG.STR._landed_opponent_f2     6816 non-null   float64\n",
      " 91   SIG.STR._attemps_opponent_f2    6816 non-null   float64\n",
      " 92   TOTAL STR._landed_opponent_f2   6816 non-null   float64\n",
      " 93   TOTAL STR._attemps_opponent_f2  6816 non-null   float64\n",
      " 94   TD_landed_opponent_f2           6816 non-null   float64\n",
      " 95   TD_attemps_opponent_f2          6816 non-null   float64\n",
      " 96   HEAD_landed_opponent_f2         6816 non-null   float64\n",
      " 97   HEAD_attemps_opponent_f2        6816 non-null   float64\n",
      " 98   BODY_landed_opponent_f2         6816 non-null   float64\n",
      " 99   BODY_attemps_opponent_f2        6816 non-null   float64\n",
      " 100  LEG_landed_opponent_f2          6816 non-null   float64\n",
      " 101  LEG_attemps_opponent_f2         6816 non-null   float64\n",
      " 102  DISTANCE_landed_opponent_f2     6816 non-null   float64\n",
      " 103  DISTANCE_attemps_opponent_f2    6816 non-null   float64\n",
      " 104  CLINCH_landed_opponent_f2       6816 non-null   float64\n",
      " 105  CLINCH_attemps_opponent_f2      6816 non-null   float64\n",
      " 106  GROUND_landed_opponent_f2       6816 non-null   float64\n",
      " 107  GROUND_attemps_opponent_f2      6816 non-null   float64\n",
      " 108  CTRL_pct_fighterf1              6817 non-null   float64\n",
      " 109  SIG.STR._acc_fighterf1          6815 non-null   float64\n",
      " 110  SIG.STR._perRound_fighterf1     6817 non-null   float64\n",
      " 111  TOTAL STR._acc_fighterf1        6815 non-null   float64\n",
      " 112  TOTAL STR._perRound_fighterf1   6817 non-null   float64\n",
      " 113  TD_acc_fighterf1                6473 non-null   float64\n",
      " 114  TD_perRound_fighterf1           6817 non-null   float64\n",
      " 115  HEAD_acc_fighterf1              6814 non-null   float64\n",
      " 116  HEAD_perRound_fighterf1         6817 non-null   float64\n",
      " 117  BODY_acc_fighterf1              6781 non-null   float64\n",
      " 118  BODY_perRound_fighterf1         6817 non-null   float64\n",
      " 119  LEG_acc_fighterf1               6684 non-null   float64\n",
      " 120  LEG_perRound_fighterf1          6817 non-null   float64\n",
      " 121  DISTANCE_acc_fighterf1          6812 non-null   float64\n",
      " 122  DISTANCE_perRound_fighterf1     6817 non-null   float64\n",
      " 123  CLINCH_acc_fighterf1            6744 non-null   float64\n",
      " 124  CLINCH_perRound_fighterf1       6817 non-null   float64\n",
      " 125  GROUND_acc_fighterf1            6650 non-null   float64\n",
      " 126  GROUND_perRound_fighterf1       6817 non-null   float64\n",
      " 127  CTRL_pct_opponentf1             6817 non-null   float64\n",
      " 128  SIG.STR._acc_opponentf1         6812 non-null   float64\n",
      " 129  SIG.STR._perRound_opponentf1    6817 non-null   float64\n",
      " 130  TOTAL STR._acc_opponentf1       6813 non-null   float64\n",
      " 131  TOTAL STR._perRound_opponentf1  6817 non-null   float64\n",
      " 132  TD_acc_opponentf1               6588 non-null   float64\n",
      " 133  TD_perRound_opponentf1          6817 non-null   float64\n",
      " 134  HEAD_acc_opponentf1             6810 non-null   float64\n",
      " 135  HEAD_perRound_opponentf1        6817 non-null   float64\n",
      " 136  BODY_acc_opponentf1             6762 non-null   float64\n",
      " 137  BODY_perRound_opponentf1        6817 non-null   float64\n",
      " 138  LEG_acc_opponentf1              6717 non-null   float64\n",
      " 139  LEG_perRound_opponentf1         6817 non-null   float64\n",
      " 140  DISTANCE_acc_opponentf1         6810 non-null   float64\n",
      " 141  DISTANCE_perRound_opponentf1    6817 non-null   float64\n",
      " 142  CLINCH_acc_opponentf1           6730 non-null   float64\n",
      " 143  CLINCH_perRound_opponentf1      6817 non-null   float64\n",
      " 144  GROUND_acc_opponentf1           6444 non-null   float64\n",
      " 145  GROUND_perRound_opponentf1      6817 non-null   float64\n",
      " 146  CTRL_pct_fighterf2              6816 non-null   float64\n",
      " 147  SIG.STR._acc_fighterf2          6814 non-null   float64\n",
      " 148  SIG.STR._perRound_fighterf2     6816 non-null   float64\n",
      " 149  TOTAL STR._acc_fighterf2        6814 non-null   float64\n",
      " 150  TOTAL STR._perRound_fighterf2   6816 non-null   float64\n",
      " 151  TD_acc_fighterf2                6472 non-null   float64\n",
      " 152  TD_perRound_fighterf2           6816 non-null   float64\n",
      " 153  HEAD_acc_fighterf2              6813 non-null   float64\n",
      " 154  HEAD_perRound_fighterf2         6816 non-null   float64\n",
      " 155  BODY_acc_fighterf2              6780 non-null   float64\n",
      " 156  BODY_perRound_fighterf2         6816 non-null   float64\n",
      " 157  LEG_acc_fighterf2               6683 non-null   float64\n",
      " 158  LEG_perRound_fighterf2          6816 non-null   float64\n",
      " 159  DISTANCE_acc_fighterf2          6811 non-null   float64\n",
      " 160  DISTANCE_perRound_fighterf2     6816 non-null   float64\n",
      " 161  CLINCH_acc_fighterf2            6743 non-null   float64\n",
      " 162  CLINCH_perRound_fighterf2       6816 non-null   float64\n",
      " 163  GROUND_acc_fighterf2            6649 non-null   float64\n",
      " 164  GROUND_perRound_fighterf2       6816 non-null   float64\n",
      " 165  CTRL_pct_opponentf2             6816 non-null   float64\n",
      " 166  SIG.STR._acc_opponentf2         6812 non-null   float64\n",
      " 167  SIG.STR._perRound_opponentf2    6816 non-null   float64\n",
      " 168  TOTAL STR._acc_opponentf2       6813 non-null   float64\n",
      " 169  TOTAL STR._perRound_opponentf2  6816 non-null   float64\n",
      " 170  TD_acc_opponentf2               6588 non-null   float64\n",
      " 171  TD_perRound_opponentf2          6816 non-null   float64\n",
      " 172  HEAD_acc_opponentf2             6810 non-null   float64\n",
      " 173  HEAD_perRound_opponentf2        6816 non-null   float64\n",
      " 174  BODY_acc_opponentf2             6762 non-null   float64\n",
      " 175  BODY_perRound_opponentf2        6816 non-null   float64\n",
      " 176  LEG_acc_opponentf2              6717 non-null   float64\n",
      " 177  LEG_perRound_opponentf2         6816 non-null   float64\n",
      " 178  DISTANCE_acc_opponentf2         6810 non-null   float64\n",
      " 179  DISTANCE_perRound_opponentf2    6816 non-null   float64\n",
      " 180  CLINCH_acc_opponentf2           6730 non-null   float64\n",
      " 181  CLINCH_perRound_opponentf2      6816 non-null   float64\n",
      " 182  GROUND_acc_opponentf2           6444 non-null   float64\n",
      " 183  GROUND_perRound_opponentf2      6816 non-null   float64\n",
      "dtypes: float64(175), int64(4), object(5)\n",
      "memory usage: 9.6+ MB\n"
     ]
    }
   ],
   "source": [
    "df.info(verbose=True, show_counts=True)"
   ]
  },
  {
   "cell_type": "code",
   "execution_count": 201,
   "id": "e911a19b",
   "metadata": {},
   "outputs": [],
   "source": [
    "df = df.drop('FIGHTER_f2',axis=1)"
   ]
  },
  {
   "cell_type": "code",
   "execution_count": 202,
   "id": "1458353b",
   "metadata": {},
   "outputs": [
    {
     "data": {
      "text/plain": [
       "['LEG', 'attemps', 'fighter', 'f1']"
      ]
     },
     "execution_count": 202,
     "metadata": {},
     "output_type": "execute_result"
    }
   ],
   "source": [
    "'LEG_attemps_fighter_f1'.split('_')"
   ]
  },
  {
   "cell_type": "code",
   "execution_count": 203,
   "id": "6ec0d15a",
   "metadata": {},
   "outputs": [],
   "source": [
    "sloupce = df.columns.tolist()[19:]\n",
    "\n",
    "for sloupec in sloupce:    \n",
    "    splited = sloupec.split('_')\n",
    "    if 'CTRL' in splited:\n",
    "        df.loc[:,splited[0]+'_pct_'+splited[1]+splited[2]] = df[sloupec]/df['TotalTime'+'_'+splited[2]]\n",
    "    if 'attemps' in splited:\n",
    "        df.loc[:,splited[0]+'_acc_'+ splited[2] + splited[3]] = df[sloupec.replace('attemps', 'landed')]/df[sloupec]\n",
    "        df.loc[:,splited[0]+'_perRound_'+ splited[2] + splited[3]] = (df[sloupec.replace('attemps', 'landed')]/df['TotalTime'+'_'+splited[3]])*300\n",
    "        \n",
    "    "
   ]
  },
  {
   "cell_type": "code",
   "execution_count": 206,
   "id": "4e6956bf",
   "metadata": {},
   "outputs": [],
   "source": [
    "df = df.drop(sloupce, axis=1)"
   ]
  },
  {
   "cell_type": "code",
   "execution_count": 207,
   "id": "eefa5d15",
   "metadata": {},
   "outputs": [],
   "source": [
    "df_model = df.drop(['EVENT','BOUT','FIGHTER_f1','OPPONENT','METHOD','Women_fight','ROUND','TotalTime_f1'],axis=1)"
   ]
  },
  {
   "cell_type": "code",
   "execution_count": 208,
   "id": "9b03af1f",
   "metadata": {},
   "outputs": [
    {
     "name": "stdout",
     "output_type": "stream",
     "text": [
      "<class 'pandas.core.frame.DataFrame'>\n",
      "Int64Index: 6817 entries, 0 to 6816\n",
      "Data columns (total 87 columns):\n",
      " #   Column                          Non-Null Count  Dtype  \n",
      "---  ------                          --------------  -----  \n",
      " 0   Win                             6817 non-null   int64  \n",
      " 1   HEIGHT_diff                     6817 non-null   float64\n",
      " 2   REACH_diff                      6817 non-null   float64\n",
      " 3   AGE_diff                        6817 non-null   float64\n",
      " 4   form_skore_fighter              6817 non-null   float64\n",
      " 5   form_skore_opponent             6817 non-null   float64\n",
      " 6   fightNo_fighter                 6817 non-null   int64  \n",
      " 7   fightNo_opponent                6817 non-null   float64\n",
      " 8   Win_tot                         6817 non-null   float64\n",
      " 9   DRAW                            6817 non-null   float64\n",
      " 10  No_contest                      6817 non-null   float64\n",
      " 11  CTRL_pct_fighterf1              6817 non-null   float64\n",
      " 12  SIG.STR._acc_fighterf1          6817 non-null   float64\n",
      " 13  SIG.STR._perRound_fighterf1     6817 non-null   float64\n",
      " 14  TOTAL STR._acc_fighterf1        6817 non-null   float64\n",
      " 15  TOTAL STR._perRound_fighterf1   6817 non-null   float64\n",
      " 16  TD_acc_fighterf1                6817 non-null   float64\n",
      " 17  TD_perRound_fighterf1           6817 non-null   float64\n",
      " 18  HEAD_acc_fighterf1              6817 non-null   float64\n",
      " 19  HEAD_perRound_fighterf1         6817 non-null   float64\n",
      " 20  BODY_acc_fighterf1              6817 non-null   float64\n",
      " 21  BODY_perRound_fighterf1         6817 non-null   float64\n",
      " 22  LEG_acc_fighterf1               6817 non-null   float64\n",
      " 23  LEG_perRound_fighterf1          6817 non-null   float64\n",
      " 24  DISTANCE_acc_fighterf1          6817 non-null   float64\n",
      " 25  DISTANCE_perRound_fighterf1     6817 non-null   float64\n",
      " 26  CLINCH_acc_fighterf1            6817 non-null   float64\n",
      " 27  CLINCH_perRound_fighterf1       6817 non-null   float64\n",
      " 28  GROUND_acc_fighterf1            6817 non-null   float64\n",
      " 29  GROUND_perRound_fighterf1       6817 non-null   float64\n",
      " 30  CTRL_pct_opponentf1             6817 non-null   float64\n",
      " 31  SIG.STR._acc_opponentf1         6817 non-null   float64\n",
      " 32  SIG.STR._perRound_opponentf1    6817 non-null   float64\n",
      " 33  TOTAL STR._acc_opponentf1       6817 non-null   float64\n",
      " 34  TOTAL STR._perRound_opponentf1  6817 non-null   float64\n",
      " 35  TD_acc_opponentf1               6817 non-null   float64\n",
      " 36  TD_perRound_opponentf1          6817 non-null   float64\n",
      " 37  HEAD_acc_opponentf1             6817 non-null   float64\n",
      " 38  HEAD_perRound_opponentf1        6817 non-null   float64\n",
      " 39  BODY_acc_opponentf1             6817 non-null   float64\n",
      " 40  BODY_perRound_opponentf1        6817 non-null   float64\n",
      " 41  LEG_acc_opponentf1              6817 non-null   float64\n",
      " 42  LEG_perRound_opponentf1         6817 non-null   float64\n",
      " 43  DISTANCE_acc_opponentf1         6817 non-null   float64\n",
      " 44  DISTANCE_perRound_opponentf1    6817 non-null   float64\n",
      " 45  CLINCH_acc_opponentf1           6817 non-null   float64\n",
      " 46  CLINCH_perRound_opponentf1      6817 non-null   float64\n",
      " 47  GROUND_acc_opponentf1           6817 non-null   float64\n",
      " 48  GROUND_perRound_opponentf1      6817 non-null   float64\n",
      " 49  CTRL_pct_fighterf2              6817 non-null   float64\n",
      " 50  SIG.STR._acc_fighterf2          6817 non-null   float64\n",
      " 51  SIG.STR._perRound_fighterf2     6817 non-null   float64\n",
      " 52  TOTAL STR._acc_fighterf2        6817 non-null   float64\n",
      " 53  TOTAL STR._perRound_fighterf2   6817 non-null   float64\n",
      " 54  TD_acc_fighterf2                6817 non-null   float64\n",
      " 55  TD_perRound_fighterf2           6817 non-null   float64\n",
      " 56  HEAD_acc_fighterf2              6817 non-null   float64\n",
      " 57  HEAD_perRound_fighterf2         6817 non-null   float64\n",
      " 58  BODY_acc_fighterf2              6817 non-null   float64\n",
      " 59  BODY_perRound_fighterf2         6817 non-null   float64\n",
      " 60  LEG_acc_fighterf2               6817 non-null   float64\n",
      " 61  LEG_perRound_fighterf2          6817 non-null   float64\n",
      " 62  DISTANCE_acc_fighterf2          6817 non-null   float64\n",
      " 63  DISTANCE_perRound_fighterf2     6817 non-null   float64\n",
      " 64  CLINCH_acc_fighterf2            6817 non-null   float64\n",
      " 65  CLINCH_perRound_fighterf2       6817 non-null   float64\n",
      " 66  GROUND_acc_fighterf2            6817 non-null   float64\n",
      " 67  GROUND_perRound_fighterf2       6817 non-null   float64\n",
      " 68  CTRL_pct_opponentf2             6817 non-null   float64\n",
      " 69  SIG.STR._acc_opponentf2         6817 non-null   float64\n",
      " 70  SIG.STR._perRound_opponentf2    6817 non-null   float64\n",
      " 71  TOTAL STR._acc_opponentf2       6817 non-null   float64\n",
      " 72  TOTAL STR._perRound_opponentf2  6817 non-null   float64\n",
      " 73  TD_acc_opponentf2               6817 non-null   float64\n",
      " 74  TD_perRound_opponentf2          6817 non-null   float64\n",
      " 75  HEAD_acc_opponentf2             6817 non-null   float64\n",
      " 76  HEAD_perRound_opponentf2        6817 non-null   float64\n",
      " 77  BODY_acc_opponentf2             6817 non-null   float64\n",
      " 78  BODY_perRound_opponentf2        6817 non-null   float64\n",
      " 79  LEG_acc_opponentf2              6817 non-null   float64\n",
      " 80  LEG_perRound_opponentf2         6817 non-null   float64\n",
      " 81  DISTANCE_acc_opponentf2         6817 non-null   float64\n",
      " 82  DISTANCE_perRound_opponentf2    6817 non-null   float64\n",
      " 83  CLINCH_acc_opponentf2           6817 non-null   float64\n",
      " 84  CLINCH_perRound_opponentf2      6817 non-null   float64\n",
      " 85  GROUND_acc_opponentf2           6817 non-null   float64\n",
      " 86  GROUND_perRound_opponentf2      6817 non-null   float64\n",
      "dtypes: float64(85), int64(2)\n",
      "memory usage: 4.6 MB\n"
     ]
    }
   ],
   "source": [
    "df_model = df_model.fillna(0)\n",
    "df_model.info()"
   ]
  },
  {
   "cell_type": "code",
   "execution_count": 209,
   "id": "a3834de4",
   "metadata": {},
   "outputs": [],
   "source": [
    "X=df_model.loc[:, ~df_model.columns.isin(['Win'])]\n",
    "y=df_model['Win']\n",
    "scaler = StandardScaler()\n",
    "X_scaled = scaler.fit_transform(X)\n",
    "X_train, X_test, y_train, y_test = train_test_split(X_scaled, y, random_state = 0)\n",
    "from sklearn.linear_model import LogisticRegression\n",
    "logreg=LogisticRegression(multi_class='ovr', max_iter=50000)\n",
    "logreg.fit(X_train,y_train)\n",
    "predictions = logreg.predict(X_test)\n",
    "acc = accuracy_score(y_test, predictions) \n",
    "f1 = f1_score(y_test, predictions,average='micro')\n",
    "print(f1, acc)"
   ]
  },
  {
   "cell_type": "code",
   "execution_count": 210,
   "id": "47676207",
   "metadata": {},
   "outputs": [],
   "source": []
  },
  {
   "cell_type": "code",
   "execution_count": 211,
   "id": "8c917231",
   "metadata": {},
   "outputs": [],
   "source": []
  },
  {
   "cell_type": "code",
   "execution_count": 212,
   "id": "c700838d",
   "metadata": {},
   "outputs": [
    {
     "name": "stdout",
     "output_type": "stream",
     "text": [
      "0.5888563049853373 0.5888563049853373\n"
     ]
    }
   ],
   "source": [
    "from sklearn.linear_model import LogisticRegression\n",
    "logreg=LogisticRegression(multi_class='ovr', max_iter=50000)\n",
    "logreg.fit(X_train,y_train)\n",
    "predictions = logreg.predict(X_test)\n",
    "acc = accuracy_score(y_test, predictions) \n",
    "f1 = f1_score(y_test, predictions,average='micro')\n",
    "print(f1, acc)"
   ]
  },
  {
   "cell_type": "code",
   "execution_count": 213,
   "id": "ee8538cd",
   "metadata": {},
   "outputs": [],
   "source": [
    "class_neur = MLPClassifier(random_state=1, max_iter=100)"
   ]
  },
  {
   "cell_type": "code",
   "execution_count": 244,
   "id": "2821fed3",
   "metadata": {},
   "outputs": [
    {
     "name": "stderr",
     "output_type": "stream",
     "text": [
      "D:\\anacinda\\lib\\site-packages\\keras\\optimizers\\optimizer_v2\\gradient_descent.py:114: UserWarning: The `lr` argument is deprecated, use `learning_rate` instead.\n",
      "  super().__init__(name, **kwargs)\n"
     ]
    }
   ],
   "source": [
    "from keras.optimizers import SGD\n",
    "\n",
    "opt = SGD(lr=0.01)"
   ]
  },
  {
   "cell_type": "code",
   "execution_count": 247,
   "id": "65b2955f",
   "metadata": {},
   "outputs": [],
   "source": [
    "class_neur = MLPClassifier(random_state=1, max_iter=100)\n",
    "model = Sequential()\n",
    "model.add(layers.Dense(4, activation='tanh', input_dim=X_train.shape[1]))\n",
    "model.add(Dropout(0.4))\n",
    "model.add(layers.Dense(8, activation='tanh'))\n",
    "model.add(Dropout(0.4))\n",
    "model.add(layers.Dense(4, activation='relu'))\n",
    "model.add(layers.Dense(2, activation='tanh'))\n",
    "model.add(Dropout(0.4))\n",
    "model.add(layers.Dense(1, activation='sigmoid'))\n",
    "model.compile(optimizer = opt,\n",
    "                loss='binary_crossentropy',\n",
    "                metrics=['accuracy'])  \n",
    "history =model.fit(X_train, y_train, epochs=40, batch_size = 4, verbose=1,validation_data=(X_test, y_test))"
   ]
  },
  {
   "cell_type": "code",
   "execution_count": 248,
   "id": "481dcd60",
   "metadata": {},
   "outputs": [
    {
     "name": "stdout",
     "output_type": "stream",
     "text": [
      "Epoch 1/40\n",
      "1278/1278 [==============================] - 2s 2ms/step - loss: 0.7103 - accuracy: 0.5063 - val_loss: 0.6929 - val_accuracy: 0.5173\n",
      "Epoch 2/40\n",
      "1278/1278 [==============================] - 2s 1ms/step - loss: 0.6985 - accuracy: 0.5106 - val_loss: 0.6931 - val_accuracy: 0.5079\n",
      "Epoch 3/40\n",
      "1278/1278 [==============================] - 1s 1ms/step - loss: 0.6952 - accuracy: 0.5068 - val_loss: 0.6929 - val_accuracy: 0.5161\n",
      "Epoch 4/40\n",
      "1278/1278 [==============================] - 1s 1ms/step - loss: 0.6935 - accuracy: 0.5135 - val_loss: 0.6928 - val_accuracy: 0.5173\n",
      "Epoch 5/40\n",
      "1278/1278 [==============================] - 2s 1ms/step - loss: 0.6952 - accuracy: 0.4984 - val_loss: 0.6942 - val_accuracy: 0.5073\n",
      "Epoch 6/40\n",
      "1278/1278 [==============================] - 2s 1ms/step - loss: 0.6933 - accuracy: 0.5194 - val_loss: 0.6922 - val_accuracy: 0.5255\n",
      "Epoch 7/40\n",
      "1278/1278 [==============================] - 1s 1ms/step - loss: 0.6925 - accuracy: 0.5117 - val_loss: 0.6920 - val_accuracy: 0.5109\n",
      "Epoch 8/40\n",
      "1278/1278 [==============================] - 2s 1ms/step - loss: 0.6896 - accuracy: 0.5266 - val_loss: 0.6896 - val_accuracy: 0.5419\n",
      "Epoch 9/40\n",
      "1278/1278 [==============================] - 2s 1ms/step - loss: 0.6893 - accuracy: 0.5333 - val_loss: 0.6872 - val_accuracy: 0.5472\n",
      "Epoch 10/40\n",
      "1278/1278 [==============================] - 2s 1ms/step - loss: 0.6880 - accuracy: 0.5393 - val_loss: 0.6847 - val_accuracy: 0.5548\n",
      "Epoch 11/40\n",
      "1278/1278 [==============================] - 2s 1ms/step - loss: 0.6854 - accuracy: 0.5454 - val_loss: 0.6819 - val_accuracy: 0.5636\n",
      "Epoch 12/40\n",
      "1278/1278 [==============================] - 1s 1ms/step - loss: 0.6828 - accuracy: 0.5610 - val_loss: 0.6795 - val_accuracy: 0.5765\n",
      "Epoch 13/40\n",
      "1278/1278 [==============================] - 1s 1ms/step - loss: 0.6817 - accuracy: 0.5620 - val_loss: 0.6792 - val_accuracy: 0.5836\n",
      "Epoch 14/40\n",
      "1278/1278 [==============================] - 1s 1ms/step - loss: 0.6759 - accuracy: 0.5708 - val_loss: 0.6778 - val_accuracy: 0.5707\n",
      "Epoch 15/40\n",
      "1278/1278 [==============================] - 2s 1ms/step - loss: 0.6809 - accuracy: 0.5802 - val_loss: 0.6766 - val_accuracy: 0.5812\n",
      "Epoch 16/40\n",
      "1278/1278 [==============================] - 1s 1ms/step - loss: 0.6800 - accuracy: 0.5736 - val_loss: 0.6775 - val_accuracy: 0.5824\n",
      "Epoch 17/40\n",
      "1278/1278 [==============================] - 1s 1ms/step - loss: 0.6726 - accuracy: 0.5812 - val_loss: 0.6751 - val_accuracy: 0.5806\n",
      "Epoch 18/40\n",
      "1278/1278 [==============================] - 1s 1ms/step - loss: 0.6770 - accuracy: 0.5839 - val_loss: 0.6743 - val_accuracy: 0.5859\n",
      "Epoch 19/40\n",
      "1278/1278 [==============================] - 2s 1ms/step - loss: 0.6677 - accuracy: 0.5896 - val_loss: 0.6740 - val_accuracy: 0.5806\n",
      "Epoch 20/40\n",
      "1278/1278 [==============================] - 2s 1ms/step - loss: 0.6743 - accuracy: 0.5968 - val_loss: 0.6732 - val_accuracy: 0.5853\n",
      "Epoch 21/40\n",
      "1278/1278 [==============================] - 1s 1ms/step - loss: 0.6724 - accuracy: 0.5871 - val_loss: 0.6730 - val_accuracy: 0.5842\n",
      "Epoch 22/40\n",
      "1278/1278 [==============================] - 1s 1ms/step - loss: 0.6718 - accuracy: 0.5964 - val_loss: 0.6717 - val_accuracy: 0.5877\n",
      "Epoch 23/40\n",
      "1278/1278 [==============================] - 1s 1ms/step - loss: 0.6727 - accuracy: 0.5855 - val_loss: 0.6728 - val_accuracy: 0.5848\n",
      "Epoch 24/40\n",
      "1278/1278 [==============================] - 2s 1ms/step - loss: 0.6696 - accuracy: 0.6015 - val_loss: 0.6723 - val_accuracy: 0.5894\n",
      "Epoch 25/40\n",
      "1278/1278 [==============================] - 1s 1ms/step - loss: 0.6716 - accuracy: 0.5863 - val_loss: 0.6724 - val_accuracy: 0.5865\n",
      "Epoch 26/40\n",
      "1278/1278 [==============================] - 1s 1ms/step - loss: 0.6707 - accuracy: 0.5853 - val_loss: 0.6709 - val_accuracy: 0.5859\n",
      "Epoch 27/40\n",
      "1278/1278 [==============================] - 1s 1ms/step - loss: 0.6701 - accuracy: 0.5957 - val_loss: 0.6709 - val_accuracy: 0.5871\n",
      "Epoch 28/40\n",
      "1278/1278 [==============================] - 2s 1ms/step - loss: 0.6679 - accuracy: 0.6099 - val_loss: 0.6714 - val_accuracy: 0.5918\n",
      "Epoch 29/40\n",
      "1278/1278 [==============================] - 1s 1ms/step - loss: 0.6665 - accuracy: 0.6056 - val_loss: 0.6718 - val_accuracy: 0.5924\n",
      "Epoch 30/40\n",
      "1278/1278 [==============================] - 2s 1ms/step - loss: 0.6713 - accuracy: 0.5917 - val_loss: 0.6714 - val_accuracy: 0.5924\n",
      "Epoch 31/40\n",
      "1278/1278 [==============================] - 2s 1ms/step - loss: 0.6687 - accuracy: 0.5925 - val_loss: 0.6736 - val_accuracy: 0.5818\n",
      "Epoch 32/40\n",
      "1278/1278 [==============================] - 1s 1ms/step - loss: 0.6729 - accuracy: 0.5968 - val_loss: 0.6722 - val_accuracy: 0.5865\n",
      "Epoch 33/40\n",
      "1278/1278 [==============================] - 2s 1ms/step - loss: 0.6652 - accuracy: 0.6086 - val_loss: 0.6729 - val_accuracy: 0.5853\n",
      "Epoch 34/40\n",
      "1278/1278 [==============================] - 1s 1ms/step - loss: 0.6657 - accuracy: 0.5970 - val_loss: 0.6704 - val_accuracy: 0.5953\n",
      "Epoch 35/40\n",
      "1278/1278 [==============================] - 1s 1ms/step - loss: 0.6675 - accuracy: 0.5966 - val_loss: 0.6711 - val_accuracy: 0.5912\n",
      "Epoch 36/40\n",
      "1278/1278 [==============================] - 2s 1ms/step - loss: 0.6655 - accuracy: 0.6078 - val_loss: 0.6706 - val_accuracy: 0.5941\n",
      "Epoch 37/40\n",
      "1278/1278 [==============================] - 2s 1ms/step - loss: 0.6649 - accuracy: 0.6025 - val_loss: 0.6719 - val_accuracy: 0.5918\n",
      "Epoch 38/40\n",
      "1278/1278 [==============================] - 2s 1ms/step - loss: 0.6654 - accuracy: 0.6058 - val_loss: 0.6717 - val_accuracy: 0.5918\n",
      "Epoch 39/40\n",
      "1278/1278 [==============================] - 1s 1ms/step - loss: 0.6692 - accuracy: 0.6025 - val_loss: 0.6716 - val_accuracy: 0.5918\n",
      "Epoch 40/40\n",
      "1278/1278 [==============================] - 2s 1ms/step - loss: 0.6690 - accuracy: 0.5972 - val_loss: 0.6713 - val_accuracy: 0.5930\n"
     ]
    }
   ],
   "source": []
  },
  {
   "cell_type": "code",
   "execution_count": 249,
   "id": "34988cae",
   "metadata": {},
   "outputs": [
    {
     "name": "stdout",
     "output_type": "stream",
     "text": [
      "54/54 [==============================] - 0s 811us/step - loss: 0.6713 - accuracy: 0.5930\n"
     ]
    }
   ],
   "source": [
    "test_loss, test_acc = model.evaluate(X_test, y_test)"
   ]
  },
  {
   "cell_type": "code",
   "execution_count": 250,
   "id": "2de87605",
   "metadata": {
    "scrolled": true
   },
   "outputs": [
    {
     "name": "stdout",
     "output_type": "stream",
     "text": [
      "54/54 [==============================] - 0s 711us/step\n"
     ]
    },
    {
     "data": {
      "image/png": "[encoded data removed]",
      "text/plain": [
       "<Figure size 640x480 with 1 Axes>"
      ]
     },
     "metadata": {},
     "output_type": "display_data"
    }
   ],
   "source": [
    "from sklearn.metrics import roc_curve\n",
    "import matplotlib.pyplot as plt\n",
    "\n",
    "y_pred_proba =model.predict(X_test)\n",
    "fpr, tpr, _ = roc_curve(y_test,  y_pred_proba)\n",
    "auc = roc_auc_score(y_test, y_pred_proba)\n",
    "plt.plot(fpr,tpr,label=\"data 1, auc=\"+str(auc))\n",
    "plt.legend(loc=4)\n",
    "plt.title(\"AUC ROC Curve\")\n",
    "plt.show()"
   ]
  },
  {
   "cell_type": "code",
   "execution_count": 251,
   "id": "dfb12560",
   "metadata": {},
   "outputs": [
    {
     "name": "stdout",
     "output_type": "stream",
     "text": [
      "0.6069992902957994\n",
      "{'max_depth': 8, 'min_samples_leaf': 5, 'min_samples_split': 9, 'n_estimators': 91}\n"
     ]
    }
   ],
   "source": [
    "from sklearn.ensemble import RandomForestClassifier\n",
    "from sklearn.model_selection import RandomizedSearchCV\n",
    "from scipy.stats import randint\n",
    "\n",
    "# Define the parameter distribution\n",
    "param_dist = {\"n_estimators\": randint(10, 100),\n",
    "              \"max_depth\": randint(1, 10),\n",
    "              \"min_samples_split\": randint(2, 10),\n",
    "              \"min_samples_leaf\": randint(1, 10)}\n",
    "\n",
    "# Instantiate the random forest classifier\n",
    "rf = RandomForestClassifier()\n",
    "\n",
    "# Instantiate the randomized search\n",
    "random_search = RandomizedSearchCV(rf, param_distributions=param_dist,\n",
    "                                   n_iter=100, cv=5, random_state=42)\n",
    "\n",
    "# Fit the randomized search on the data\n",
    "random_search.fit(X_train, y_train)\n",
    "\n",
    "# Print the best hyperparameters\n",
    "print(random_search.best_score_)\n",
    "print(random_search.best_params_)"
   ]
  },
  {
   "cell_type": "code",
   "execution_count": 67,
   "id": "5975f89e",
   "metadata": {},
   "outputs": [],
   "source": [
    "fighter1 = \"Nate Diaz\"\n",
    "fighter2 = \"Conor McGregor\""
   ]
  },
  {
   "cell_type": "code",
   "execution_count": 42,
   "id": "322698fb",
   "metadata": {},
   "outputs": [],
   "source": [
    "df_fighters.loc[:,'pct_of_control_fighter'] = df_fighters['CTRL_fighter']/df_fighters['TotalTime']\n",
    "df_fighters.loc[:,'strikes_fighter_f'] = (df_fighters['SIG.STR._landed_fighter']/df_fighters['TotalTime'])*60\n"
   ]
  },
  {
   "cell_type": "code",
   "execution_count": 57,
   "id": "8387a763",
   "metadata": {},
   "outputs": [],
   "source": [
    "df_fighters[['form_skore_fighter','pct_of_control_fighter', 'strikes_fighter_f']] = scaler.fit_transform(df_fighters[['form_skore_fighter','pct_of_control_fighter', 'strikes_fighter_f']])"
   ]
  },
  {
   "cell_type": "code",
   "execution_count": 68,
   "id": "04e2b1e2",
   "metadata": {},
   "outputs": [],
   "source": [
    "f1 = df_fighters.loc[df_fighters[\"FIGHTER\"]==fighter1 ,['form_skore_fighter','pct_of_control_fighter', 'strikes_fighter_f']].values.flatten().tolist()"
   ]
  },
  {
   "cell_type": "code",
   "execution_count": 69,
   "id": "13ff45a1",
   "metadata": {},
   "outputs": [],
   "source": [
    "f2 = df_fighters.loc[df_fighters[\"FIGHTER\"]==fighter2 ,['form_skore_fighter','pct_of_control_fighter', 'strikes_fighter_f']].values.flatten().tolist()"
   ]
  },
  {
   "cell_type": "code",
   "execution_count": 70,
   "id": "634aabc7",
   "metadata": {},
   "outputs": [
    {
     "data": {
      "text/plain": [
       "[0.39875325803342343,\n",
       " -0.45128862367049577,\n",
       " 0.8860974239040257,\n",
       " -0.45686035044738443,\n",
       " -0.5655206746811349,\n",
       " 1.4218252543277097]"
      ]
     },
     "execution_count": 70,
     "metadata": {},
     "output_type": "execute_result"
    }
   ],
   "source": [
    "f1+f2"
   ]
  },
  {
   "cell_type": "code",
   "execution_count": 71,
   "id": "057c0f6e",
   "metadata": {},
   "outputs": [
    {
     "name": "stdout",
     "output_type": "stream",
     "text": [
      "1/1 [==============================] - 0s 45ms/step\n"
     ]
    },
    {
     "data": {
      "text/plain": [
       "0.5540724"
      ]
     },
     "execution_count": 71,
     "metadata": {},
     "output_type": "execute_result"
    }
   ],
   "source": [
    "predikce = model.predict([f1+f2])\n",
    "predikce[0][0]"
   ]
  },
  {
   "cell_type": "code",
   "execution_count": 72,
   "id": "281d546f",
   "metadata": {},
   "outputs": [
    {
     "name": "stdout",
     "output_type": "stream",
     "text": [
      "Nate Diaz: 55.41%  vs Conor McGregor: 44.59\n"
     ]
    }
   ],
   "source": [
    "print(f\"{fighter1}: {round(predikce[0][0]*100,2)}%  vs {fighter2}: {round((1-predikce[0][0])*100,2)}\")"
   ]
  },
  {
   "cell_type": "code",
   "execution_count": 73,
   "id": "3c1d0f82",
   "metadata": {},
   "outputs": [
    {
     "data": {
      "text/plain": [
       "False"
      ]
     },
     "execution_count": 73,
     "metadata": {},
     "output_type": "execute_result"
    }
   ],
   "source": [
    "'McGr' in df_fighters['FIGHTER'].tolist()"
   ]
  },
  {
   "cell_type": "code",
   "execution_count": null,
   "id": "7bc04b75",
   "metadata": {},
   "outputs": [],
   "source": []
  }
 ],
 "metadata": {
  "kernelspec": {
   "display_name": "Python 3 (ipykernel)",
   "language": "python",
   "name": "python3"
  },
  "language_info": {
   "codemirror_mode": {
    "name": "ipython",
    "version": 3
   },
   "file_extension": ".py",
   "mimetype": "text/x-python",
   "name": "python",
   "nbconvert_exporter": "python",
   "pygments_lexer": "ipython3",
   "version": "3.9.13"
  }
 },
 "nbformat": 4,
 "nbformat_minor": 5
}
