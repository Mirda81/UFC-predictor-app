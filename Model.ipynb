{
 "cells": [
  {
   "cell_type": "code",
   "execution_count": 1,
   "id": "6eda130d",
   "metadata": {},
   "outputs": [],
   "source": [
    "import pandas as pd\n",
    "import numpy as np\n",
    "from sklearn.model_selection import GridSearchCV, train_test_split"
   ]
  },
  {
   "cell_type": "code",
   "execution_count": 2,
   "id": "64504238",
   "metadata": {},
   "outputs": [],
   "source": [
    "from keras.models import Sequential\n",
    "from keras.layers import Dense, Activation, Dropout\n",
    "\n",
    "from keras import layers\n",
    "from sklearn.neural_network import MLPClassifier\n",
    "from sklearn.metrics import accuracy_score, f1_score, auc, roc_curve, roc_auc_score\n",
    "from sklearn.preprocessing import StandardScaler"
   ]
  },
  {
   "cell_type": "code",
   "execution_count": 3,
   "id": "1160a496",
   "metadata": {},
   "outputs": [],
   "source": [
    "df = pd.read_csv('Preprocessing/fight_with_stats_precomp.csv')\n",
    "df_fighters = pd.read_csv('Preprocessing/fighter_total_stats.csv')"
   ]
  },
  {
   "cell_type": "code",
   "execution_count": 4,
   "id": "cfad8be9",
   "metadata": {},
   "outputs": [],
   "source": [
    "df = df[(df['fightNo_fighter']>=3) & (df['fightNo_opponent']>=3) & (df['Women_fight']==0)]"
   ]
  },
  {
   "cell_type": "code",
   "execution_count": 5,
   "id": "6fbc9051",
   "metadata": {},
   "outputs": [],
   "source": [
    "df = df.fillna(0)\n"
   ]
  },
  {
   "cell_type": "code",
   "execution_count": 6,
   "id": "a380c164",
   "metadata": {},
   "outputs": [
    {
     "data": {
      "text/html": [
       "<div>\n",
       "<style scoped>\n",
       "    .dataframe tbody tr th:only-of-type {\n",
       "        vertical-align: middle;\n",
       "    }\n",
       "\n",
       "    .dataframe tbody tr th {\n",
       "        vertical-align: top;\n",
       "    }\n",
       "\n",
       "    .dataframe thead th {\n",
       "        text-align: right;\n",
       "    }\n",
       "</style>\n",
       "<table border=\"1\" class=\"dataframe\">\n",
       "  <thead>\n",
       "    <tr style=\"text-align: right;\">\n",
       "      <th></th>\n",
       "      <th>EVENT</th>\n",
       "      <th>BOUT</th>\n",
       "      <th>FIGHTER</th>\n",
       "      <th>OPPONENT</th>\n",
       "      <th>METHOD</th>\n",
       "      <th>Win</th>\n",
       "      <th>Women_fight</th>\n",
       "      <th>ROUND</th>\n",
       "      <th>HEIGHT_diff</th>\n",
       "      <th>REACH_diff</th>\n",
       "      <th>...</th>\n",
       "      <th>BODY_landed_opponent</th>\n",
       "      <th>BODY_attemps_opponent</th>\n",
       "      <th>LEG_landed_opponent</th>\n",
       "      <th>LEG_attemps_opponent</th>\n",
       "      <th>DISTANCE_landed_opponent</th>\n",
       "      <th>DISTANCE_attemps_opponent</th>\n",
       "      <th>CLINCH_landed_opponent</th>\n",
       "      <th>CLINCH_attemps_opponent</th>\n",
       "      <th>GROUND_landed_opponent</th>\n",
       "      <th>GROUND_attemps_opponent</th>\n",
       "    </tr>\n",
       "  </thead>\n",
       "  <tbody>\n",
       "    <tr>\n",
       "      <th>24</th>\n",
       "      <td>UFC 2: No Way Out</td>\n",
       "      <td>Royce Gracie vs. Patrick Smith</td>\n",
       "      <td>Patrick Smith</td>\n",
       "      <td>Royce Gracie</td>\n",
       "      <td>KO/TKO - ground</td>\n",
       "      <td>0</td>\n",
       "      <td>0</td>\n",
       "      <td>1</td>\n",
       "      <td>1.0</td>\n",
       "      <td>0.0</td>\n",
       "      <td>...</td>\n",
       "      <td>0.0</td>\n",
       "      <td>0.0</td>\n",
       "      <td>3.0</td>\n",
       "      <td>5.0</td>\n",
       "      <td>5.0</td>\n",
       "      <td>10.0</td>\n",
       "      <td>0.0</td>\n",
       "      <td>0.0</td>\n",
       "      <td>0.0</td>\n",
       "      <td>0.0</td>\n",
       "    </tr>\n",
       "    <tr>\n",
       "      <th>25</th>\n",
       "      <td>UFC 2: No Way Out</td>\n",
       "      <td>Royce Gracie vs. Patrick Smith</td>\n",
       "      <td>Royce Gracie</td>\n",
       "      <td>Patrick Smith</td>\n",
       "      <td>KO/TKO - ground</td>\n",
       "      <td>1</td>\n",
       "      <td>0</td>\n",
       "      <td>1</td>\n",
       "      <td>-1.0</td>\n",
       "      <td>0.0</td>\n",
       "      <td>...</td>\n",
       "      <td>0.0</td>\n",
       "      <td>0.0</td>\n",
       "      <td>0.0</td>\n",
       "      <td>1.0</td>\n",
       "      <td>0.0</td>\n",
       "      <td>2.0</td>\n",
       "      <td>0.0</td>\n",
       "      <td>0.0</td>\n",
       "      <td>3.0</td>\n",
       "      <td>5.0</td>\n",
       "    </tr>\n",
       "    <tr>\n",
       "      <th>26</th>\n",
       "      <td>UFC 2: No Way Out</td>\n",
       "      <td>Royce Gracie vs. Remco Pardoel</td>\n",
       "      <td>Remco Pardoel</td>\n",
       "      <td>Royce Gracie</td>\n",
       "      <td>Submission</td>\n",
       "      <td>0</td>\n",
       "      <td>0</td>\n",
       "      <td>1</td>\n",
       "      <td>2.0</td>\n",
       "      <td>0.0</td>\n",
       "      <td>...</td>\n",
       "      <td>0.0</td>\n",
       "      <td>0.0</td>\n",
       "      <td>1.0</td>\n",
       "      <td>1.0</td>\n",
       "      <td>2.0</td>\n",
       "      <td>3.0</td>\n",
       "      <td>0.0</td>\n",
       "      <td>0.0</td>\n",
       "      <td>0.0</td>\n",
       "      <td>2.0</td>\n",
       "    </tr>\n",
       "    <tr>\n",
       "      <th>27</th>\n",
       "      <td>UFC 2: No Way Out</td>\n",
       "      <td>Royce Gracie vs. Remco Pardoel</td>\n",
       "      <td>Royce Gracie</td>\n",
       "      <td>Remco Pardoel</td>\n",
       "      <td>Submission</td>\n",
       "      <td>1</td>\n",
       "      <td>0</td>\n",
       "      <td>1</td>\n",
       "      <td>-2.0</td>\n",
       "      <td>0.0</td>\n",
       "      <td>...</td>\n",
       "      <td>1.0</td>\n",
       "      <td>2.0</td>\n",
       "      <td>0.0</td>\n",
       "      <td>1.0</td>\n",
       "      <td>0.0</td>\n",
       "      <td>3.0</td>\n",
       "      <td>1.0</td>\n",
       "      <td>1.0</td>\n",
       "      <td>3.0</td>\n",
       "      <td>5.0</td>\n",
       "    </tr>\n",
       "    <tr>\n",
       "      <th>50</th>\n",
       "      <td>UFC 4: Revenge of the Warriors</td>\n",
       "      <td>Royce Gracie vs. Dan Severn</td>\n",
       "      <td>Dan Severn</td>\n",
       "      <td>Royce Gracie</td>\n",
       "      <td>Submission</td>\n",
       "      <td>0</td>\n",
       "      <td>0</td>\n",
       "      <td>1</td>\n",
       "      <td>1.0</td>\n",
       "      <td>0.0</td>\n",
       "      <td>...</td>\n",
       "      <td>3.0</td>\n",
       "      <td>4.0</td>\n",
       "      <td>2.0</td>\n",
       "      <td>3.0</td>\n",
       "      <td>3.0</td>\n",
       "      <td>5.0</td>\n",
       "      <td>3.0</td>\n",
       "      <td>3.0</td>\n",
       "      <td>3.0</td>\n",
       "      <td>3.0</td>\n",
       "    </tr>\n",
       "  </tbody>\n",
       "</table>\n",
       "<p>5 rows × 63 columns</p>\n",
       "</div>"
      ],
      "text/plain": [
       "                             EVENT                            BOUT  \\\n",
       "24               UFC 2: No Way Out  Royce Gracie vs. Patrick Smith   \n",
       "25               UFC 2: No Way Out  Royce Gracie vs. Patrick Smith   \n",
       "26               UFC 2: No Way Out  Royce Gracie vs. Remco Pardoel   \n",
       "27               UFC 2: No Way Out  Royce Gracie vs. Remco Pardoel   \n",
       "50  UFC 4: Revenge of the Warriors     Royce Gracie vs. Dan Severn   \n",
       "\n",
       "          FIGHTER       OPPONENT           METHOD  Win  Women_fight  ROUND  \\\n",
       "24  Patrick Smith   Royce Gracie  KO/TKO - ground    0            0      1   \n",
       "25   Royce Gracie  Patrick Smith  KO/TKO - ground    1            0      1   \n",
       "26  Remco Pardoel   Royce Gracie       Submission    0            0      1   \n",
       "27   Royce Gracie  Remco Pardoel       Submission    1            0      1   \n",
       "50     Dan Severn   Royce Gracie       Submission    0            0      1   \n",
       "\n",
       "    HEIGHT_diff  REACH_diff  ...  BODY_landed_opponent  BODY_attemps_opponent  \\\n",
       "24          1.0         0.0  ...                   0.0                    0.0   \n",
       "25         -1.0         0.0  ...                   0.0                    0.0   \n",
       "26          2.0         0.0  ...                   0.0                    0.0   \n",
       "27         -2.0         0.0  ...                   1.0                    2.0   \n",
       "50          1.0         0.0  ...                   3.0                    4.0   \n",
       "\n",
       "    LEG_landed_opponent  LEG_attemps_opponent  DISTANCE_landed_opponent  \\\n",
       "24                  3.0                   5.0                       5.0   \n",
       "25                  0.0                   1.0                       0.0   \n",
       "26                  1.0                   1.0                       2.0   \n",
       "27                  0.0                   1.0                       0.0   \n",
       "50                  2.0                   3.0                       3.0   \n",
       "\n",
       "    DISTANCE_attemps_opponent  CLINCH_landed_opponent  \\\n",
       "24                       10.0                     0.0   \n",
       "25                        2.0                     0.0   \n",
       "26                        3.0                     0.0   \n",
       "27                        3.0                     1.0   \n",
       "50                        5.0                     3.0   \n",
       "\n",
       "    CLINCH_attemps_opponent  GROUND_landed_opponent  GROUND_attemps_opponent  \n",
       "24                      0.0                     0.0                      0.0  \n",
       "25                      0.0                     3.0                      5.0  \n",
       "26                      0.0                     0.0                      2.0  \n",
       "27                      1.0                     3.0                      5.0  \n",
       "50                      3.0                     3.0                      3.0  \n",
       "\n",
       "[5 rows x 63 columns]"
      ]
     },
     "execution_count": 6,
     "metadata": {},
     "output_type": "execute_result"
    }
   ],
   "source": [
    "df.head()"
   ]
  },
  {
   "cell_type": "code",
   "execution_count": 7,
   "id": "3c83f881",
   "metadata": {},
   "outputs": [
    {
     "data": {
      "text/plain": [
       "(6837, 63)"
      ]
     },
     "execution_count": 7,
     "metadata": {},
     "output_type": "execute_result"
    }
   ],
   "source": [
    "df.shape"
   ]
  },
  {
   "cell_type": "code",
   "execution_count": 8,
   "id": "0b47cc75",
   "metadata": {
    "scrolled": true
   },
   "outputs": [
    {
     "data": {
      "text/plain": [
       "['KD_fighter',\n",
       " 'SUB.ATT_fighter',\n",
       " 'REV._fighter',\n",
       " 'CTRL_fighter',\n",
       " 'SIG.STR._landed_fighter',\n",
       " 'SIG.STR._attemps_fighter',\n",
       " 'TOTAL STR._landed_fighter',\n",
       " 'TOTAL STR._attemps_fighter',\n",
       " 'TD_landed_fighter',\n",
       " 'TD_attemps_fighter',\n",
       " 'HEAD_landed_fighter',\n",
       " 'HEAD_attemps_fighter',\n",
       " 'BODY_landed_fighter',\n",
       " 'BODY_attemps_fighter',\n",
       " 'LEG_landed_fighter',\n",
       " 'LEG_attemps_fighter',\n",
       " 'DISTANCE_landed_fighter',\n",
       " 'DISTANCE_attemps_fighter',\n",
       " 'CLINCH_landed_fighter',\n",
       " 'CLINCH_attemps_fighter',\n",
       " 'GROUND_landed_fighter',\n",
       " 'GROUND_attemps_fighter',\n",
       " 'KD_opponent',\n",
       " 'SUB.ATT_opponent',\n",
       " 'REV._opponent',\n",
       " 'CTRL_opponent',\n",
       " 'SIG.STR._landed_opponent',\n",
       " 'SIG.STR._attemps_opponent',\n",
       " 'TOTAL STR._landed_opponent',\n",
       " 'TOTAL STR._attemps_opponent',\n",
       " 'TD_landed_opponent',\n",
       " 'TD_attemps_opponent',\n",
       " 'HEAD_landed_opponent',\n",
       " 'HEAD_attemps_opponent',\n",
       " 'BODY_landed_opponent',\n",
       " 'BODY_attemps_opponent',\n",
       " 'LEG_landed_opponent',\n",
       " 'LEG_attemps_opponent',\n",
       " 'DISTANCE_landed_opponent',\n",
       " 'DISTANCE_attemps_opponent',\n",
       " 'CLINCH_landed_opponent',\n",
       " 'CLINCH_attemps_opponent',\n",
       " 'GROUND_landed_opponent',\n",
       " 'GROUND_attemps_opponent']"
      ]
     },
     "execution_count": 8,
     "metadata": {},
     "output_type": "execute_result"
    }
   ],
   "source": [
    "df.columns.tolist()[19:]"
   ]
  },
  {
   "cell_type": "code",
   "execution_count": 9,
   "id": "1bf9b2da",
   "metadata": {},
   "outputs": [],
   "source": [
    "df = df.merge(df[['EVENT', 'BOUT', 'FIGHTER']+df.columns.tolist()[18:]] ,how='left', left_on=['EVENT', 'BOUT', 'OPPONENT'], right_on=['EVENT', 'BOUT', 'FIGHTER'], suffixes=('_f1', '_f2'))"
   ]
  },
  {
   "cell_type": "code",
   "execution_count": 10,
   "id": "c8ce78f8",
   "metadata": {},
   "outputs": [
    {
     "name": "stdout",
     "output_type": "stream",
     "text": [
      "<class 'pandas.core.frame.DataFrame'>\n",
      "Int64Index: 6837 entries, 0 to 6836\n",
      "Data columns (total 109 columns):\n",
      " #    Column                          Non-Null Count  Dtype  \n",
      "---   ------                          --------------  -----  \n",
      " 0    EVENT                           6837 non-null   object \n",
      " 1    BOUT                            6837 non-null   object \n",
      " 2    FIGHTER_f1                      6837 non-null   object \n",
      " 3    OPPONENT                        6837 non-null   object \n",
      " 4    METHOD                          6837 non-null   object \n",
      " 5    Win                             6837 non-null   int64  \n",
      " 6    Women_fight                     6837 non-null   int64  \n",
      " 7    ROUND                           6837 non-null   int64  \n",
      " 8    HEIGHT_diff                     6837 non-null   float64\n",
      " 9    REACH_diff                      6837 non-null   float64\n",
      " 10   AGE_diff                        6837 non-null   float64\n",
      " 11   form_skore_fighter              6837 non-null   float64\n",
      " 12   form_skore_opponent             6837 non-null   float64\n",
      " 13   fightNo_fighter                 6837 non-null   int64  \n",
      " 14   fightNo_opponent                6837 non-null   float64\n",
      " 15   Win_tot                         6837 non-null   float64\n",
      " 16   DRAW                            6837 non-null   float64\n",
      " 17   No_contest                      6837 non-null   float64\n",
      " 18   TotalTime_f1                    6837 non-null   float64\n",
      " 19   KD_fighter_f1                   6837 non-null   float64\n",
      " 20   SUB.ATT_fighter_f1              6837 non-null   float64\n",
      " 21   REV._fighter_f1                 6837 non-null   float64\n",
      " 22   CTRL_fighter_f1                 6837 non-null   float64\n",
      " 23   SIG.STR._landed_fighter_f1      6837 non-null   float64\n",
      " 24   SIG.STR._attemps_fighter_f1     6837 non-null   float64\n",
      " 25   TOTAL STR._landed_fighter_f1    6837 non-null   float64\n",
      " 26   TOTAL STR._attemps_fighter_f1   6837 non-null   float64\n",
      " 27   TD_landed_fighter_f1            6837 non-null   float64\n",
      " 28   TD_attemps_fighter_f1           6837 non-null   float64\n",
      " 29   HEAD_landed_fighter_f1          6837 non-null   float64\n",
      " 30   HEAD_attemps_fighter_f1         6837 non-null   float64\n",
      " 31   BODY_landed_fighter_f1          6837 non-null   float64\n",
      " 32   BODY_attemps_fighter_f1         6837 non-null   float64\n",
      " 33   LEG_landed_fighter_f1           6837 non-null   float64\n",
      " 34   LEG_attemps_fighter_f1          6837 non-null   float64\n",
      " 35   DISTANCE_landed_fighter_f1      6837 non-null   float64\n",
      " 36   DISTANCE_attemps_fighter_f1     6837 non-null   float64\n",
      " 37   CLINCH_landed_fighter_f1        6837 non-null   float64\n",
      " 38   CLINCH_attemps_fighter_f1       6837 non-null   float64\n",
      " 39   GROUND_landed_fighter_f1        6837 non-null   float64\n",
      " 40   GROUND_attemps_fighter_f1       6837 non-null   float64\n",
      " 41   KD_opponent_f1                  6837 non-null   float64\n",
      " 42   SUB.ATT_opponent_f1             6837 non-null   float64\n",
      " 43   REV._opponent_f1                6837 non-null   float64\n",
      " 44   CTRL_opponent_f1                6837 non-null   float64\n",
      " 45   SIG.STR._landed_opponent_f1     6837 non-null   float64\n",
      " 46   SIG.STR._attemps_opponent_f1    6837 non-null   float64\n",
      " 47   TOTAL STR._landed_opponent_f1   6837 non-null   float64\n",
      " 48   TOTAL STR._attemps_opponent_f1  6837 non-null   float64\n",
      " 49   TD_landed_opponent_f1           6837 non-null   float64\n",
      " 50   TD_attemps_opponent_f1          6837 non-null   float64\n",
      " 51   HEAD_landed_opponent_f1         6837 non-null   float64\n",
      " 52   HEAD_attemps_opponent_f1        6837 non-null   float64\n",
      " 53   BODY_landed_opponent_f1         6837 non-null   float64\n",
      " 54   BODY_attemps_opponent_f1        6837 non-null   float64\n",
      " 55   LEG_landed_opponent_f1          6837 non-null   float64\n",
      " 56   LEG_attemps_opponent_f1         6837 non-null   float64\n",
      " 57   DISTANCE_landed_opponent_f1     6837 non-null   float64\n",
      " 58   DISTANCE_attemps_opponent_f1    6837 non-null   float64\n",
      " 59   CLINCH_landed_opponent_f1       6837 non-null   float64\n",
      " 60   CLINCH_attemps_opponent_f1      6837 non-null   float64\n",
      " 61   GROUND_landed_opponent_f1       6837 non-null   float64\n",
      " 62   GROUND_attemps_opponent_f1      6837 non-null   float64\n",
      " 63   FIGHTER_f2                      6836 non-null   object \n",
      " 64   TotalTime_f2                    6836 non-null   float64\n",
      " 65   KD_fighter_f2                   6836 non-null   float64\n",
      " 66   SUB.ATT_fighter_f2              6836 non-null   float64\n",
      " 67   REV._fighter_f2                 6836 non-null   float64\n",
      " 68   CTRL_fighter_f2                 6836 non-null   float64\n",
      " 69   SIG.STR._landed_fighter_f2      6836 non-null   float64\n",
      " 70   SIG.STR._attemps_fighter_f2     6836 non-null   float64\n",
      " 71   TOTAL STR._landed_fighter_f2    6836 non-null   float64\n",
      " 72   TOTAL STR._attemps_fighter_f2   6836 non-null   float64\n",
      " 73   TD_landed_fighter_f2            6836 non-null   float64\n",
      " 74   TD_attemps_fighter_f2           6836 non-null   float64\n",
      " 75   HEAD_landed_fighter_f2          6836 non-null   float64\n",
      " 76   HEAD_attemps_fighter_f2         6836 non-null   float64\n",
      " 77   BODY_landed_fighter_f2          6836 non-null   float64\n",
      " 78   BODY_attemps_fighter_f2         6836 non-null   float64\n",
      " 79   LEG_landed_fighter_f2           6836 non-null   float64\n",
      " 80   LEG_attemps_fighter_f2          6836 non-null   float64\n",
      " 81   DISTANCE_landed_fighter_f2      6836 non-null   float64\n",
      " 82   DISTANCE_attemps_fighter_f2     6836 non-null   float64\n",
      " 83   CLINCH_landed_fighter_f2        6836 non-null   float64\n",
      " 84   CLINCH_attemps_fighter_f2       6836 non-null   float64\n",
      " 85   GROUND_landed_fighter_f2        6836 non-null   float64\n",
      " 86   GROUND_attemps_fighter_f2       6836 non-null   float64\n",
      " 87   KD_opponent_f2                  6836 non-null   float64\n",
      " 88   SUB.ATT_opponent_f2             6836 non-null   float64\n",
      " 89   REV._opponent_f2                6836 non-null   float64\n",
      " 90   CTRL_opponent_f2                6836 non-null   float64\n",
      " 91   SIG.STR._landed_opponent_f2     6836 non-null   float64\n",
      " 92   SIG.STR._attemps_opponent_f2    6836 non-null   float64\n",
      " 93   TOTAL STR._landed_opponent_f2   6836 non-null   float64\n",
      " 94   TOTAL STR._attemps_opponent_f2  6836 non-null   float64\n",
      " 95   TD_landed_opponent_f2           6836 non-null   float64\n",
      " 96   TD_attemps_opponent_f2          6836 non-null   float64\n",
      " 97   HEAD_landed_opponent_f2         6836 non-null   float64\n",
      " 98   HEAD_attemps_opponent_f2        6836 non-null   float64\n",
      " 99   BODY_landed_opponent_f2         6836 non-null   float64\n",
      " 100  BODY_attemps_opponent_f2        6836 non-null   float64\n",
      " 101  LEG_landed_opponent_f2          6836 non-null   float64\n",
      " 102  LEG_attemps_opponent_f2         6836 non-null   float64\n",
      " 103  DISTANCE_landed_opponent_f2     6836 non-null   float64\n",
      " 104  DISTANCE_attemps_opponent_f2    6836 non-null   float64\n",
      " 105  CLINCH_landed_opponent_f2       6836 non-null   float64\n",
      " 106  CLINCH_attemps_opponent_f2      6836 non-null   float64\n",
      " 107  GROUND_landed_opponent_f2       6836 non-null   float64\n",
      " 108  GROUND_attemps_opponent_f2      6836 non-null   float64\n",
      "dtypes: float64(99), int64(4), object(6)\n",
      "memory usage: 5.7+ MB\n"
     ]
    }
   ],
   "source": [
    "df.info(verbose=True, show_counts=True)"
   ]
  },
  {
   "cell_type": "code",
   "execution_count": 11,
   "id": "e911a19b",
   "metadata": {},
   "outputs": [],
   "source": [
    "df = df.drop('FIGHTER_f2',axis=1)"
   ]
  },
  {
   "cell_type": "code",
   "execution_count": 12,
   "id": "1458353b",
   "metadata": {},
   "outputs": [
    {
     "data": {
      "text/plain": [
       "['LEG', 'attemps', 'fighter', 'f1']"
      ]
     },
     "execution_count": 12,
     "metadata": {},
     "output_type": "execute_result"
    }
   ],
   "source": [
    "'LEG_attemps_fighter_f1'.split('_')"
   ]
  },
  {
   "cell_type": "code",
   "execution_count": 13,
   "id": "6ec0d15a",
   "metadata": {},
   "outputs": [],
   "source": [
    "sloupce = df.columns.tolist()[19:]\n",
    "\n",
    "for sloupec in sloupce:    \n",
    "    splited = sloupec.split('_')\n",
    "    if 'CTRL' in splited:\n",
    "        df.loc[:,splited[0]+'_pct_'+splited[1]+splited[2]] = df[sloupec]/df['TotalTime'+'_'+splited[2]]\n",
    "    if 'attemps' in splited:\n",
    "        df.loc[:,splited[0]+'_acc_'+ splited[2] + splited[3]] = df[sloupec.replace('attemps', 'landed')]/df[sloupec]\n",
    "        df.loc[:,splited[0]+'_perRound_'+ splited[2] + splited[3]] = (df[sloupec.replace('attemps', 'landed')]/df['TotalTime'+'_'+splited[3]])*300\n",
    "        \n",
    "    "
   ]
  },
  {
   "cell_type": "code",
   "execution_count": 14,
   "id": "4e6956bf",
   "metadata": {},
   "outputs": [],
   "source": [
    "df = df.drop(sloupce, axis=1)"
   ]
  },
  {
   "cell_type": "code",
   "execution_count": 15,
   "id": "eefa5d15",
   "metadata": {},
   "outputs": [],
   "source": [
    "df_model = df.drop(['EVENT','BOUT','FIGHTER_f1','OPPONENT','METHOD','Women_fight','ROUND','TotalTime_f1'],axis=1)"
   ]
  },
  {
   "cell_type": "code",
   "execution_count": 25,
   "id": "9b03af1f",
   "metadata": {},
   "outputs": [
    {
     "data": {
      "text/plain": [
       "(6837, 87)"
      ]
     },
     "execution_count": 25,
     "metadata": {},
     "output_type": "execute_result"
    }
   ],
   "source": [
    "df_model = df_model.fillna(0)\n",
    "df_model2 = df_model.iloc[-2000:,:]\n",
    "df_model2.shape"
   ]
  },
  {
   "cell_type": "code",
   "execution_count": 24,
   "id": "a3834de4",
   "metadata": {},
   "outputs": [
    {
     "name": "stdout",
     "output_type": "stream",
     "text": [
      "0.5982456140350877 0.5982456140350877\n"
     ]
    }
   ],
   "source": [
    "X=df_model.loc[:, ~df_model.columns.isin(['Win'])]\n",
    "y=df_model['Win']\n",
    "scaler = StandardScaler()\n",
    "X_scaled = scaler.fit_transform(X)\n",
    "X_train, X_test, y_train, y_test = train_test_split(X_scaled, y, random_state = 0)\n",
    "from sklearn.linear_model import LogisticRegression\n",
    "logreg=LogisticRegression(multi_class='ovr', max_iter=50000)\n",
    "logreg.fit(X_train,y_train)\n",
    "predictions = logreg.predict(X_test)\n",
    "acc = accuracy_score(y_test, predictions) \n",
    "f1 = f1_score(y_test, predictions,average='micro')\n",
    "print(f1, acc)"
   ]
  },
  {
   "cell_type": "code",
   "execution_count": null,
   "id": "47676207",
   "metadata": {},
   "outputs": [],
   "source": []
  },
  {
   "cell_type": "code",
   "execution_count": null,
   "id": "8c917231",
   "metadata": {},
   "outputs": [],
   "source": []
  },
  {
   "cell_type": "code",
   "execution_count": 20,
   "id": "c700838d",
   "metadata": {},
   "outputs": [
    {
     "name": "stdout",
     "output_type": "stream",
     "text": [
      "0.5982456140350877 0.5982456140350877\n"
     ]
    }
   ],
   "source": [
    "from sklearn.linear_model import LogisticRegression\n",
    "logreg=LogisticRegression(multi_class='ovr', max_iter=50000)\n",
    "logreg.fit(X_train,y_train)\n",
    "predictions = logreg.predict(X_test)\n",
    "acc = accuracy_score(y_test, predictions) \n",
    "f1 = f1_score(y_test, predictions,average='micro')\n",
    "print(f1, acc)"
   ]
  },
  {
   "cell_type": "code",
   "execution_count": 21,
   "id": "ee8538cd",
   "metadata": {},
   "outputs": [],
   "source": [
    "class_neur = MLPClassifier(random_state=1, max_iter=100)"
   ]
  },
  {
   "cell_type": "code",
   "execution_count": 22,
   "id": "2821fed3",
   "metadata": {},
   "outputs": [
    {
     "name": "stderr",
     "output_type": "stream",
     "text": [
      "D:\\anacinda\\lib\\site-packages\\keras\\optimizers\\optimizer_v2\\gradient_descent.py:114: UserWarning: The `lr` argument is deprecated, use `learning_rate` instead.\n",
      "  super().__init__(name, **kwargs)\n"
     ]
    }
   ],
   "source": [
    "from keras.optimizers import SGD\n",
    "\n",
    "opt = SGD(lr=0.01)"
   ]
  },
  {
   "cell_type": "code",
   "execution_count": null,
   "id": "65b2955f",
   "metadata": {},
   "outputs": [
    {
     "name": "stdout",
     "output_type": "stream",
     "text": [
      "Epoch 1/200\n",
      "321/321 [==============================] - 1s 2ms/step - loss: 0.7130 - accuracy: 0.5325 - val_loss: 0.6834 - val_accuracy: 0.5485\n",
      "Epoch 2/200\n",
      "321/321 [==============================] - 0s 1ms/step - loss: 0.6858 - accuracy: 0.5565 - val_loss: 0.6785 - val_accuracy: 0.5731\n",
      "Epoch 3/200\n",
      "321/321 [==============================] - 0s 1ms/step - loss: 0.6764 - accuracy: 0.5689 - val_loss: 0.6741 - val_accuracy: 0.5795\n",
      "Epoch 4/200\n",
      "321/321 [==============================] - 0s 1ms/step - loss: 0.6687 - accuracy: 0.5970 - val_loss: 0.6726 - val_accuracy: 0.5825\n",
      "Epoch 5/200\n",
      "321/321 [==============================] - 0s 1ms/step - loss: 0.6679 - accuracy: 0.5929 - val_loss: 0.6711 - val_accuracy: 0.5865\n",
      "Epoch 6/200\n",
      "321/321 [==============================] - 0s 1ms/step - loss: 0.6590 - accuracy: 0.6056 - val_loss: 0.6723 - val_accuracy: 0.5830\n",
      "Epoch 7/200\n",
      "321/321 [==============================] - 0s 1ms/step - loss: 0.6562 - accuracy: 0.6033 - val_loss: 0.6704 - val_accuracy: 0.5836\n",
      "Epoch 8/200\n",
      "321/321 [==============================] - 0s 1ms/step - loss: 0.6546 - accuracy: 0.6163 - val_loss: 0.6694 - val_accuracy: 0.5953\n",
      "Epoch 9/200\n",
      "321/321 [==============================] - 0s 2ms/step - loss: 0.6523 - accuracy: 0.6138 - val_loss: 0.6715 - val_accuracy: 0.5895\n",
      "Epoch 10/200\n",
      "321/321 [==============================] - 0s 1ms/step - loss: 0.6487 - accuracy: 0.6134 - val_loss: 0.6697 - val_accuracy: 0.5848\n",
      "Epoch 11/200\n",
      "321/321 [==============================] - 0s 1ms/step - loss: 0.6473 - accuracy: 0.6214 - val_loss: 0.6693 - val_accuracy: 0.5877\n",
      "Epoch 12/200\n",
      "321/321 [==============================] - 0s 1ms/step - loss: 0.6469 - accuracy: 0.6300 - val_loss: 0.6719 - val_accuracy: 0.5901\n",
      "Epoch 13/200\n",
      "321/321 [==============================] - 0s 1ms/step - loss: 0.6429 - accuracy: 0.6312 - val_loss: 0.6719 - val_accuracy: 0.5918\n",
      "Epoch 14/200\n",
      "321/321 [==============================] - 0s 1ms/step - loss: 0.6421 - accuracy: 0.6271 - val_loss: 0.6744 - val_accuracy: 0.5889\n",
      "Epoch 15/200\n",
      "321/321 [==============================] - 0s 1ms/step - loss: 0.6456 - accuracy: 0.6280 - val_loss: 0.6733 - val_accuracy: 0.5860\n",
      "Epoch 16/200\n",
      "321/321 [==============================] - 0s 1ms/step - loss: 0.6394 - accuracy: 0.6292 - val_loss: 0.6720 - val_accuracy: 0.5959\n",
      "Epoch 17/200\n",
      "321/321 [==============================] - 0s 1ms/step - loss: 0.6334 - accuracy: 0.6300 - val_loss: 0.6749 - val_accuracy: 0.5953\n",
      "Epoch 18/200\n",
      "321/321 [==============================] - 0s 1ms/step - loss: 0.6363 - accuracy: 0.6331 - val_loss: 0.6720 - val_accuracy: 0.5842\n",
      "Epoch 19/200\n",
      "321/321 [==============================] - 0s 1ms/step - loss: 0.6332 - accuracy: 0.6392 - val_loss: 0.6743 - val_accuracy: 0.5936\n",
      "Epoch 20/200\n",
      "321/321 [==============================] - 0s 1ms/step - loss: 0.6292 - accuracy: 0.6413 - val_loss: 0.6765 - val_accuracy: 0.5942\n",
      "Epoch 21/200\n",
      "321/321 [==============================] - 0s 1ms/step - loss: 0.6278 - accuracy: 0.6501 - val_loss: 0.6781 - val_accuracy: 0.5766\n",
      "Epoch 22/200\n",
      "321/321 [==============================] - 0s 1ms/step - loss: 0.6285 - accuracy: 0.6448 - val_loss: 0.6750 - val_accuracy: 0.5865\n",
      "Epoch 23/200\n",
      "321/321 [==============================] - 0s 1ms/step - loss: 0.6239 - accuracy: 0.6499 - val_loss: 0.6762 - val_accuracy: 0.5836\n",
      "Epoch 24/200\n",
      "321/321 [==============================] - 0s 1ms/step - loss: 0.6289 - accuracy: 0.6481 - val_loss: 0.6784 - val_accuracy: 0.5836\n",
      "Epoch 25/200\n",
      "321/321 [==============================] - 0s 1ms/step - loss: 0.6273 - accuracy: 0.6542 - val_loss: 0.6760 - val_accuracy: 0.5807\n",
      "Epoch 26/200\n",
      "321/321 [==============================] - 0s 1ms/step - loss: 0.6193 - accuracy: 0.6450 - val_loss: 0.6794 - val_accuracy: 0.5813\n",
      "Epoch 27/200\n",
      "321/321 [==============================] - 0s 1ms/step - loss: 0.6234 - accuracy: 0.6491 - val_loss: 0.6817 - val_accuracy: 0.5842\n",
      "Epoch 28/200\n",
      "321/321 [==============================] - 0s 1ms/step - loss: 0.6234 - accuracy: 0.6522 - val_loss: 0.6822 - val_accuracy: 0.5784\n",
      "Epoch 29/200\n",
      "321/321 [==============================] - 0s 1ms/step - loss: 0.6210 - accuracy: 0.6481 - val_loss: 0.6814 - val_accuracy: 0.5766\n",
      "Epoch 30/200\n",
      "321/321 [==============================] - 0s 1ms/step - loss: 0.6157 - accuracy: 0.6632 - val_loss: 0.6869 - val_accuracy: 0.5825\n",
      "Epoch 31/200\n",
      "321/321 [==============================] - 0s 1ms/step - loss: 0.6162 - accuracy: 0.6505 - val_loss: 0.6822 - val_accuracy: 0.5877\n",
      "Epoch 32/200\n",
      "321/321 [==============================] - 0s 1ms/step - loss: 0.6193 - accuracy: 0.6491 - val_loss: 0.6803 - val_accuracy: 0.5836\n",
      "Epoch 33/200\n",
      "321/321 [==============================] - 0s 1ms/step - loss: 0.6128 - accuracy: 0.6614 - val_loss: 0.6838 - val_accuracy: 0.5860\n",
      "Epoch 34/200\n",
      "321/321 [==============================] - 0s 1ms/step - loss: 0.6118 - accuracy: 0.6493 - val_loss: 0.6892 - val_accuracy: 0.5795\n",
      "Epoch 35/200\n",
      "321/321 [==============================] - 0s 1ms/step - loss: 0.6146 - accuracy: 0.6548 - val_loss: 0.6861 - val_accuracy: 0.5830\n",
      "Epoch 36/200\n",
      "321/321 [==============================] - 0s 1ms/step - loss: 0.6058 - accuracy: 0.6673 - val_loss: 0.6886 - val_accuracy: 0.5760\n",
      "Epoch 37/200\n",
      "321/321 [==============================] - 0s 1ms/step - loss: 0.6061 - accuracy: 0.6706 - val_loss: 0.6874 - val_accuracy: 0.5848\n",
      "Epoch 38/200\n",
      "321/321 [==============================] - 0s 1ms/step - loss: 0.6146 - accuracy: 0.6536 - val_loss: 0.6848 - val_accuracy: 0.5860\n",
      "Epoch 39/200\n",
      "321/321 [==============================] - 0s 1ms/step - loss: 0.6058 - accuracy: 0.6612 - val_loss: 0.6873 - val_accuracy: 0.5754\n",
      "Epoch 40/200\n",
      "321/321 [==============================] - 0s 1ms/step - loss: 0.6020 - accuracy: 0.6688 - val_loss: 0.6966 - val_accuracy: 0.5865\n",
      "Epoch 41/200\n",
      "321/321 [==============================] - 0s 1ms/step - loss: 0.6059 - accuracy: 0.6600 - val_loss: 0.6883 - val_accuracy: 0.5737\n",
      "Epoch 42/200\n",
      "321/321 [==============================] - 0s 1ms/step - loss: 0.6004 - accuracy: 0.6665 - val_loss: 0.6946 - val_accuracy: 0.5719\n",
      "Epoch 43/200\n",
      "321/321 [==============================] - 0s 1ms/step - loss: 0.5946 - accuracy: 0.6751 - val_loss: 0.6989 - val_accuracy: 0.5772\n",
      "Epoch 44/200\n",
      "321/321 [==============================] - 0s 1ms/step - loss: 0.6026 - accuracy: 0.6645 - val_loss: 0.7010 - val_accuracy: 0.5713\n",
      "Epoch 45/200\n",
      "321/321 [==============================] - 0s 1ms/step - loss: 0.5971 - accuracy: 0.6754 - val_loss: 0.6989 - val_accuracy: 0.5667\n",
      "Epoch 46/200\n",
      "321/321 [==============================] - 0s 1ms/step - loss: 0.5931 - accuracy: 0.6786 - val_loss: 0.6923 - val_accuracy: 0.5789\n",
      "Epoch 47/200\n",
      "321/321 [==============================] - 0s 1ms/step - loss: 0.5959 - accuracy: 0.6784 - val_loss: 0.6896 - val_accuracy: 0.5766\n",
      "Epoch 48/200\n",
      "321/321 [==============================] - 0s 1ms/step - loss: 0.5884 - accuracy: 0.6922 - val_loss: 0.6950 - val_accuracy: 0.5766\n",
      "Epoch 49/200\n",
      "321/321 [==============================] - 0s 1ms/step - loss: 0.5906 - accuracy: 0.6731 - val_loss: 0.7043 - val_accuracy: 0.5766\n",
      "Epoch 50/200\n",
      "321/321 [==============================] - 0s 1ms/step - loss: 0.5967 - accuracy: 0.6793 - val_loss: 0.6959 - val_accuracy: 0.5749\n",
      "Epoch 51/200\n",
      "321/321 [==============================] - 0s 1ms/step - loss: 0.5862 - accuracy: 0.6842 - val_loss: 0.7013 - val_accuracy: 0.5696\n",
      "Epoch 52/200\n",
      "321/321 [==============================] - 0s 1ms/step - loss: 0.5857 - accuracy: 0.6819 - val_loss: 0.6947 - val_accuracy: 0.5696\n",
      "Epoch 53/200\n",
      "321/321 [==============================] - 0s 1ms/step - loss: 0.5859 - accuracy: 0.6899 - val_loss: 0.6948 - val_accuracy: 0.5789\n",
      "Epoch 54/200\n",
      "321/321 [==============================] - 0s 1ms/step - loss: 0.5847 - accuracy: 0.6786 - val_loss: 0.7068 - val_accuracy: 0.5655\n",
      "Epoch 55/200\n",
      "321/321 [==============================] - 0s 1ms/step - loss: 0.5806 - accuracy: 0.6868 - val_loss: 0.7093 - val_accuracy: 0.5585\n",
      "Epoch 56/200\n",
      "321/321 [==============================] - 0s 1ms/step - loss: 0.5790 - accuracy: 0.6866 - val_loss: 0.7086 - val_accuracy: 0.5678\n",
      "Epoch 57/200\n",
      "321/321 [==============================] - 0s 1ms/step - loss: 0.5864 - accuracy: 0.6850 - val_loss: 0.7035 - val_accuracy: 0.5760\n"
     ]
    },
    {
     "name": "stdout",
     "output_type": "stream",
     "text": [
      "Epoch 58/200\n",
      "321/321 [==============================] - 0s 1ms/step - loss: 0.5874 - accuracy: 0.6780 - val_loss: 0.7047 - val_accuracy: 0.5690\n",
      "Epoch 59/200\n",
      "321/321 [==============================] - 0s 1ms/step - loss: 0.5875 - accuracy: 0.6831 - val_loss: 0.7064 - val_accuracy: 0.5754\n",
      "Epoch 60/200\n",
      "321/321 [==============================] - 0s 1ms/step - loss: 0.5759 - accuracy: 0.6903 - val_loss: 0.7104 - val_accuracy: 0.5637\n",
      "Epoch 61/200\n",
      "321/321 [==============================] - 0s 1ms/step - loss: 0.5792 - accuracy: 0.6829 - val_loss: 0.7075 - val_accuracy: 0.5684\n",
      "Epoch 62/200\n",
      "321/321 [==============================] - 0s 1ms/step - loss: 0.5775 - accuracy: 0.6870 - val_loss: 0.7105 - val_accuracy: 0.5690\n",
      "Epoch 63/200\n",
      "321/321 [==============================] - 0s 1ms/step - loss: 0.5805 - accuracy: 0.6912 - val_loss: 0.7094 - val_accuracy: 0.5550\n",
      "Epoch 64/200\n",
      "321/321 [==============================] - 0s 1ms/step - loss: 0.5755 - accuracy: 0.6914 - val_loss: 0.7202 - val_accuracy: 0.5591\n",
      "Epoch 65/200\n",
      "321/321 [==============================] - 0s 1ms/step - loss: 0.5691 - accuracy: 0.6955 - val_loss: 0.7257 - val_accuracy: 0.5649\n",
      "Epoch 66/200\n",
      "321/321 [==============================] - 0s 1ms/step - loss: 0.5715 - accuracy: 0.6920 - val_loss: 0.7195 - val_accuracy: 0.5731\n",
      "Epoch 67/200\n",
      "321/321 [==============================] - 0s 1ms/step - loss: 0.5641 - accuracy: 0.7029 - val_loss: 0.7136 - val_accuracy: 0.5713\n",
      "Epoch 68/200\n",
      "321/321 [==============================] - 0s 1ms/step - loss: 0.5768 - accuracy: 0.6901 - val_loss: 0.7220 - val_accuracy: 0.5661\n",
      "Epoch 69/200\n",
      "321/321 [==============================] - 0s 1ms/step - loss: 0.5706 - accuracy: 0.6981 - val_loss: 0.7207 - val_accuracy: 0.5661\n",
      "Epoch 70/200\n",
      "321/321 [==============================] - 0s 1ms/step - loss: 0.5668 - accuracy: 0.6955 - val_loss: 0.7249 - val_accuracy: 0.5632\n",
      "Epoch 71/200\n",
      "321/321 [==============================] - 0s 1ms/step - loss: 0.5645 - accuracy: 0.6996 - val_loss: 0.7135 - val_accuracy: 0.5708\n",
      "Epoch 72/200\n",
      "321/321 [==============================] - 0s 1ms/step - loss: 0.5818 - accuracy: 0.6891 - val_loss: 0.7091 - val_accuracy: 0.5719\n",
      "Epoch 73/200\n",
      "321/321 [==============================] - 0s 1ms/step - loss: 0.5638 - accuracy: 0.6977 - val_loss: 0.7112 - val_accuracy: 0.5725\n",
      "Epoch 74/200\n",
      "321/321 [==============================] - 0s 1ms/step - loss: 0.5653 - accuracy: 0.6932 - val_loss: 0.7253 - val_accuracy: 0.5760\n",
      "Epoch 75/200\n",
      "321/321 [==============================] - 0s 1ms/step - loss: 0.5549 - accuracy: 0.7014 - val_loss: 0.7307 - val_accuracy: 0.5708\n",
      "Epoch 76/200\n",
      "321/321 [==============================] - 0s 1ms/step - loss: 0.5663 - accuracy: 0.6969 - val_loss: 0.7171 - val_accuracy: 0.5632\n",
      "Epoch 77/200\n",
      "321/321 [==============================] - 0s 1ms/step - loss: 0.5567 - accuracy: 0.7137 - val_loss: 0.7248 - val_accuracy: 0.5684\n",
      "Epoch 78/200\n",
      "321/321 [==============================] - 0s 1ms/step - loss: 0.5616 - accuracy: 0.6967 - val_loss: 0.7196 - val_accuracy: 0.5690\n",
      "Epoch 79/200\n",
      "321/321 [==============================] - 0s 1ms/step - loss: 0.5612 - accuracy: 0.7033 - val_loss: 0.7291 - val_accuracy: 0.5684\n",
      "Epoch 80/200\n",
      "321/321 [==============================] - 0s 1ms/step - loss: 0.5598 - accuracy: 0.7065 - val_loss: 0.7164 - val_accuracy: 0.5766\n",
      "Epoch 81/200\n",
      "321/321 [==============================] - 0s 1ms/step - loss: 0.5607 - accuracy: 0.7094 - val_loss: 0.7308 - val_accuracy: 0.5632\n",
      "Epoch 82/200\n",
      "321/321 [==============================] - 0s 1ms/step - loss: 0.5624 - accuracy: 0.6998 - val_loss: 0.7291 - val_accuracy: 0.5503\n",
      "Epoch 83/200\n",
      "321/321 [==============================] - 0s 1ms/step - loss: 0.5557 - accuracy: 0.7026 - val_loss: 0.7349 - val_accuracy: 0.5550\n",
      "Epoch 84/200\n",
      "321/321 [==============================] - 0s 2ms/step - loss: 0.5675 - accuracy: 0.6938 - val_loss: 0.7307 - val_accuracy: 0.5561\n",
      "Epoch 85/200\n",
      "321/321 [==============================] - 0s 1ms/step - loss: 0.5595 - accuracy: 0.7010 - val_loss: 0.7339 - val_accuracy: 0.5544\n",
      "Epoch 86/200\n",
      "321/321 [==============================] - 0s 1ms/step - loss: 0.5648 - accuracy: 0.7002 - val_loss: 0.7191 - val_accuracy: 0.5614\n",
      "Epoch 87/200\n",
      "321/321 [==============================] - 0s 1ms/step - loss: 0.5520 - accuracy: 0.7129 - val_loss: 0.7204 - val_accuracy: 0.5632\n",
      "Epoch 88/200\n",
      "321/321 [==============================] - 0s 1ms/step - loss: 0.5555 - accuracy: 0.7098 - val_loss: 0.7178 - val_accuracy: 0.5620\n",
      "Epoch 89/200\n",
      "321/321 [==============================] - 0s 1ms/step - loss: 0.5577 - accuracy: 0.7010 - val_loss: 0.7283 - val_accuracy: 0.5579\n",
      "Epoch 90/200\n",
      "321/321 [==============================] - 0s 1ms/step - loss: 0.5512 - accuracy: 0.7109 - val_loss: 0.7300 - val_accuracy: 0.5596\n",
      "Epoch 91/200\n",
      "321/321 [==============================] - 0s 1ms/step - loss: 0.5531 - accuracy: 0.7074 - val_loss: 0.7211 - val_accuracy: 0.5626\n",
      "Epoch 92/200\n",
      "321/321 [==============================] - 0s 1ms/step - loss: 0.5581 - accuracy: 0.7059 - val_loss: 0.7368 - val_accuracy: 0.5614\n",
      "Epoch 93/200\n",
      "321/321 [==============================] - 0s 1ms/step - loss: 0.5422 - accuracy: 0.7162 - val_loss: 0.7516 - val_accuracy: 0.5585\n",
      "Epoch 94/200\n",
      "321/321 [==============================] - 0s 1ms/step - loss: 0.5489 - accuracy: 0.7152 - val_loss: 0.7447 - val_accuracy: 0.5567\n",
      "Epoch 95/200\n",
      "321/321 [==============================] - 0s 1ms/step - loss: 0.5550 - accuracy: 0.7113 - val_loss: 0.7325 - val_accuracy: 0.5608\n",
      "Epoch 96/200\n",
      "321/321 [==============================] - 0s 1ms/step - loss: 0.5447 - accuracy: 0.7187 - val_loss: 0.7417 - val_accuracy: 0.5515\n",
      "Epoch 97/200\n",
      "321/321 [==============================] - 0s 1ms/step - loss: 0.5577 - accuracy: 0.7076 - val_loss: 0.7366 - val_accuracy: 0.5579\n",
      "Epoch 98/200\n",
      "321/321 [==============================] - 0s 1ms/step - loss: 0.5509 - accuracy: 0.7104 - val_loss: 0.7398 - val_accuracy: 0.5526\n",
      "Epoch 99/200\n",
      "321/321 [==============================] - 0s 1ms/step - loss: 0.5424 - accuracy: 0.7178 - val_loss: 0.7402 - val_accuracy: 0.5614\n",
      "Epoch 100/200\n",
      "321/321 [==============================] - 0s 1ms/step - loss: 0.5489 - accuracy: 0.7141 - val_loss: 0.7452 - val_accuracy: 0.5561\n",
      "Epoch 101/200\n",
      "321/321 [==============================] - 0s 1ms/step - loss: 0.5469 - accuracy: 0.7158 - val_loss: 0.7433 - val_accuracy: 0.5585\n",
      "Epoch 102/200\n",
      "321/321 [==============================] - 0s 1ms/step - loss: 0.5417 - accuracy: 0.7187 - val_loss: 0.7537 - val_accuracy: 0.5544\n",
      "Epoch 103/200\n",
      "321/321 [==============================] - 0s 1ms/step - loss: 0.5372 - accuracy: 0.7199 - val_loss: 0.7642 - val_accuracy: 0.5550\n",
      "Epoch 104/200\n",
      "321/321 [==============================] - 0s 1ms/step - loss: 0.5415 - accuracy: 0.7252 - val_loss: 0.7558 - val_accuracy: 0.5550\n",
      "Epoch 105/200\n",
      "321/321 [==============================] - 0s 1ms/step - loss: 0.5353 - accuracy: 0.7215 - val_loss: 0.7430 - val_accuracy: 0.5596\n",
      "Epoch 106/200\n",
      "321/321 [==============================] - 0s 1ms/step - loss: 0.5437 - accuracy: 0.7139 - val_loss: 0.7513 - val_accuracy: 0.5515\n",
      "Epoch 107/200\n",
      "321/321 [==============================] - 0s 1ms/step - loss: 0.5474 - accuracy: 0.7139 - val_loss: 0.7538 - val_accuracy: 0.5509\n",
      "Epoch 108/200\n",
      "321/321 [==============================] - 0s 1ms/step - loss: 0.5405 - accuracy: 0.7246 - val_loss: 0.7438 - val_accuracy: 0.5480\n",
      "Epoch 109/200\n",
      "321/321 [==============================] - 0s 1ms/step - loss: 0.5375 - accuracy: 0.7264 - val_loss: 0.7619 - val_accuracy: 0.5591\n",
      "Epoch 110/200\n",
      "321/321 [==============================] - 0s 1ms/step - loss: 0.5411 - accuracy: 0.7213 - val_loss: 0.7481 - val_accuracy: 0.5520\n",
      "Epoch 111/200\n",
      "321/321 [==============================] - 0s 1ms/step - loss: 0.5401 - accuracy: 0.7193 - val_loss: 0.7613 - val_accuracy: 0.5544\n",
      "Epoch 112/200\n",
      "321/321 [==============================] - 0s 1ms/step - loss: 0.5334 - accuracy: 0.7293 - val_loss: 0.7699 - val_accuracy: 0.5573\n",
      "Epoch 113/200\n",
      "321/321 [==============================] - 0s 1ms/step - loss: 0.5412 - accuracy: 0.7191 - val_loss: 0.7732 - val_accuracy: 0.5515\n",
      "Epoch 114/200\n",
      "321/321 [==============================] - 0s 1ms/step - loss: 0.5414 - accuracy: 0.7211 - val_loss: 0.7701 - val_accuracy: 0.5427\n"
     ]
    },
    {
     "name": "stdout",
     "output_type": "stream",
     "text": [
      "Epoch 115/200\n",
      "321/321 [==============================] - 0s 1ms/step - loss: 0.5306 - accuracy: 0.7306 - val_loss: 0.7672 - val_accuracy: 0.5643\n",
      "Epoch 116/200\n",
      "321/321 [==============================] - 0s 1ms/step - loss: 0.5378 - accuracy: 0.7250 - val_loss: 0.7665 - val_accuracy: 0.5608\n",
      "Epoch 117/200\n",
      "321/321 [==============================] - 0s 1ms/step - loss: 0.5309 - accuracy: 0.7287 - val_loss: 0.7696 - val_accuracy: 0.5520\n",
      "Epoch 118/200\n",
      "321/321 [==============================] - 0s 1ms/step - loss: 0.5322 - accuracy: 0.7306 - val_loss: 0.7566 - val_accuracy: 0.5567\n",
      "Epoch 119/200\n",
      "321/321 [==============================] - 0s 1ms/step - loss: 0.5382 - accuracy: 0.7189 - val_loss: 0.7582 - val_accuracy: 0.5538\n",
      "Epoch 120/200\n",
      "321/321 [==============================] - 0s 1ms/step - loss: 0.5342 - accuracy: 0.7203 - val_loss: 0.7651 - val_accuracy: 0.5632\n",
      "Epoch 121/200\n",
      "321/321 [==============================] - 0s 1ms/step - loss: 0.5309 - accuracy: 0.7310 - val_loss: 0.7652 - val_accuracy: 0.5596\n",
      "Epoch 122/200\n",
      "321/321 [==============================] - 0s 1ms/step - loss: 0.5329 - accuracy: 0.7258 - val_loss: 0.7640 - val_accuracy: 0.5614\n",
      "Epoch 123/200\n",
      "321/321 [==============================] - 0s 1ms/step - loss: 0.5332 - accuracy: 0.7273 - val_loss: 0.7630 - val_accuracy: 0.5556\n",
      "Epoch 124/200\n",
      "321/321 [==============================] - 0s 1ms/step - loss: 0.5249 - accuracy: 0.7299 - val_loss: 0.7866 - val_accuracy: 0.5480\n",
      "Epoch 125/200\n",
      "321/321 [==============================] - 0s 1ms/step - loss: 0.5261 - accuracy: 0.7336 - val_loss: 0.7837 - val_accuracy: 0.5602\n",
      "Epoch 126/200\n",
      "321/321 [==============================] - 0s 1ms/step - loss: 0.5291 - accuracy: 0.7308 - val_loss: 0.7875 - val_accuracy: 0.5485\n",
      "Epoch 127/200\n",
      "321/321 [==============================] - 0s 1ms/step - loss: 0.5271 - accuracy: 0.7297 - val_loss: 0.7823 - val_accuracy: 0.5585\n",
      "Epoch 128/200\n",
      "321/321 [==============================] - 0s 1ms/step - loss: 0.5251 - accuracy: 0.7340 - val_loss: 0.7860 - val_accuracy: 0.5608\n",
      "Epoch 129/200\n",
      "321/321 [==============================] - 0s 1ms/step - loss: 0.5315 - accuracy: 0.7303 - val_loss: 0.7790 - val_accuracy: 0.5556\n",
      "Epoch 130/200\n",
      "321/321 [==============================] - 0s 1ms/step - loss: 0.5259 - accuracy: 0.7312 - val_loss: 0.7756 - val_accuracy: 0.5538\n",
      "Epoch 131/200\n",
      "321/321 [==============================] - 0s 1ms/step - loss: 0.5234 - accuracy: 0.7343 - val_loss: 0.7886 - val_accuracy: 0.5544\n",
      "Epoch 132/200\n",
      "321/321 [==============================] - 0s 1ms/step - loss: 0.5225 - accuracy: 0.7322 - val_loss: 0.7820 - val_accuracy: 0.5620\n",
      "Epoch 133/200\n",
      "321/321 [==============================] - 0s 1ms/step - loss: 0.5161 - accuracy: 0.7412 - val_loss: 0.8070 - val_accuracy: 0.5491\n",
      "Epoch 134/200\n",
      "321/321 [==============================] - 0s 1ms/step - loss: 0.5253 - accuracy: 0.7421 - val_loss: 0.7866 - val_accuracy: 0.5602\n",
      "Epoch 135/200\n",
      "321/321 [==============================] - 0s 1ms/step - loss: 0.5204 - accuracy: 0.7457 - val_loss: 0.7863 - val_accuracy: 0.5538\n",
      "Epoch 136/200\n",
      "321/321 [==============================] - 0s 1ms/step - loss: 0.5171 - accuracy: 0.7418 - val_loss: 0.7949 - val_accuracy: 0.5596\n",
      "Epoch 137/200\n",
      "321/321 [==============================] - 0s 1ms/step - loss: 0.5227 - accuracy: 0.7410 - val_loss: 0.7861 - val_accuracy: 0.5678\n",
      "Epoch 138/200\n",
      "321/321 [==============================] - 0s 1ms/step - loss: 0.5243 - accuracy: 0.7345 - val_loss: 0.7890 - val_accuracy: 0.5515\n",
      "Epoch 139/200\n",
      "321/321 [==============================] - 0s 1ms/step - loss: 0.5187 - accuracy: 0.7336 - val_loss: 0.7906 - val_accuracy: 0.5526\n",
      "Epoch 140/200\n",
      "321/321 [==============================] - 0s 1ms/step - loss: 0.5157 - accuracy: 0.7394 - val_loss: 0.7914 - val_accuracy: 0.5509\n",
      "Epoch 141/200\n",
      "321/321 [==============================] - 1s 2ms/step - loss: 0.5107 - accuracy: 0.7435 - val_loss: 0.8110 - val_accuracy: 0.5468\n",
      "Epoch 142/200\n",
      "321/321 [==============================] - 0s 1ms/step - loss: 0.5118 - accuracy: 0.7461 - val_loss: 0.8011 - val_accuracy: 0.5567\n",
      "Epoch 143/200\n",
      "321/321 [==============================] - 0s 1ms/step - loss: 0.5173 - accuracy: 0.7416 - val_loss: 0.8018 - val_accuracy: 0.5485\n",
      "Epoch 144/200\n",
      "321/321 [==============================] - 0s 1ms/step - loss: 0.5224 - accuracy: 0.7363 - val_loss: 0.7778 - val_accuracy: 0.5556\n",
      "Epoch 145/200\n",
      "321/321 [==============================] - 0s 1ms/step - loss: 0.5171 - accuracy: 0.7449 - val_loss: 0.8154 - val_accuracy: 0.5520\n",
      "Epoch 146/200\n",
      "321/321 [==============================] - 0s 1ms/step - loss: 0.5265 - accuracy: 0.7340 - val_loss: 0.8104 - val_accuracy: 0.5532\n",
      "Epoch 147/200\n",
      "321/321 [==============================] - 0s 1ms/step - loss: 0.5155 - accuracy: 0.7396 - val_loss: 0.8262 - val_accuracy: 0.5503\n",
      "Epoch 148/200\n",
      "321/321 [==============================] - 0s 1ms/step - loss: 0.5211 - accuracy: 0.7345 - val_loss: 0.8138 - val_accuracy: 0.5462\n",
      "Epoch 149/200\n",
      "321/321 [==============================] - 0s 1ms/step - loss: 0.5170 - accuracy: 0.7365 - val_loss: 0.8141 - val_accuracy: 0.5456\n",
      "Epoch 150/200\n",
      "321/321 [==============================] - 0s 1ms/step - loss: 0.5136 - accuracy: 0.7420 - val_loss: 0.8400 - val_accuracy: 0.5480\n",
      "Epoch 151/200\n",
      "321/321 [==============================] - 0s 1ms/step - loss: 0.5107 - accuracy: 0.7470 - val_loss: 0.8321 - val_accuracy: 0.5368\n",
      "Epoch 152/200\n",
      "321/321 [==============================] - 0s 1ms/step - loss: 0.5140 - accuracy: 0.7414 - val_loss: 0.8061 - val_accuracy: 0.5585\n",
      "Epoch 153/200\n",
      "321/321 [==============================] - 0s 1ms/step - loss: 0.5067 - accuracy: 0.7501 - val_loss: 0.8074 - val_accuracy: 0.5573\n",
      "Epoch 154/200\n",
      "321/321 [==============================] - 0s 1ms/step - loss: 0.5017 - accuracy: 0.7521 - val_loss: 0.8159 - val_accuracy: 0.5444\n",
      "Epoch 155/200\n",
      "321/321 [==============================] - 0s 1ms/step - loss: 0.5203 - accuracy: 0.7404 - val_loss: 0.8106 - val_accuracy: 0.5561\n",
      "Epoch 156/200\n",
      "321/321 [==============================] - 1s 2ms/step - loss: 0.5103 - accuracy: 0.7427 - val_loss: 0.8274 - val_accuracy: 0.5433\n",
      "Epoch 157/200\n",
      "321/321 [==============================] - 0s 1ms/step - loss: 0.5082 - accuracy: 0.7459 - val_loss: 0.8375 - val_accuracy: 0.5462\n",
      "Epoch 158/200\n",
      "321/321 [==============================] - 0s 1ms/step - loss: 0.5205 - accuracy: 0.7375 - val_loss: 0.8168 - val_accuracy: 0.5433\n",
      "Epoch 159/200\n",
      "321/321 [==============================] - 0s 1ms/step - loss: 0.5122 - accuracy: 0.7418 - val_loss: 0.8225 - val_accuracy: 0.5474\n",
      "Epoch 160/200\n",
      "321/321 [==============================] - 0s 1ms/step - loss: 0.4955 - accuracy: 0.7542 - val_loss: 0.8270 - val_accuracy: 0.5450\n",
      "Epoch 161/200\n",
      "321/321 [==============================] - 0s 1ms/step - loss: 0.5090 - accuracy: 0.7431 - val_loss: 0.8254 - val_accuracy: 0.5509\n",
      "Epoch 162/200\n",
      "321/321 [==============================] - 0s 1ms/step - loss: 0.5125 - accuracy: 0.7414 - val_loss: 0.8262 - val_accuracy: 0.5456\n",
      "Epoch 163/200\n",
      "321/321 [==============================] - 0s 1ms/step - loss: 0.5040 - accuracy: 0.7492 - val_loss: 0.8344 - val_accuracy: 0.5532\n",
      "Epoch 164/200\n",
      "321/321 [==============================] - 0s 1ms/step - loss: 0.5054 - accuracy: 0.7576 - val_loss: 0.8276 - val_accuracy: 0.5491\n",
      "Epoch 165/200\n",
      "321/321 [==============================] - 0s 1ms/step - loss: 0.4938 - accuracy: 0.7501 - val_loss: 0.8331 - val_accuracy: 0.5491\n",
      "Epoch 166/200\n",
      "321/321 [==============================] - 0s 1ms/step - loss: 0.5126 - accuracy: 0.7431 - val_loss: 0.8465 - val_accuracy: 0.5544\n",
      "Epoch 167/200\n",
      "321/321 [==============================] - 0s 1ms/step - loss: 0.4946 - accuracy: 0.7550 - val_loss: 0.8475 - val_accuracy: 0.5561\n",
      "Epoch 168/200\n",
      "321/321 [==============================] - 0s 1ms/step - loss: 0.5029 - accuracy: 0.7496 - val_loss: 0.8645 - val_accuracy: 0.5421\n",
      "Epoch 169/200\n",
      "321/321 [==============================] - 0s 1ms/step - loss: 0.5030 - accuracy: 0.7527 - val_loss: 0.8555 - val_accuracy: 0.5456\n",
      "Epoch 170/200\n",
      "321/321 [==============================] - 0s 1ms/step - loss: 0.5030 - accuracy: 0.7546 - val_loss: 0.8454 - val_accuracy: 0.5474\n",
      "Epoch 171/200\n",
      "321/321 [==============================] - 0s 1ms/step - loss: 0.4952 - accuracy: 0.7564 - val_loss: 0.8607 - val_accuracy: 0.5450\n",
      "Epoch 172/200\n",
      "243/321 [=====================>........] - ETA: 0s - loss: 0.5018 - accuracy: 0.7505"
     ]
    }
   ],
   "source": [
    "class_neur = MLPClassifier(random_state=1, max_iter=100)\n",
    "model = Sequential()\n",
    "model.add(layers.Dense(32, activation='relu', input_dim=X_train.shape[1]))\n",
    "model.add(Dropout(0.4))\n",
    "model.add(layers.Dense(32, activation='relu'))\n",
    "model.add(layers.Dense(16, activation='relu'))\n",
    "model.add(Dropout(0.2))\n",
    "model.add(layers.Dense(1, activation='sigmoid'))\n",
    "model.compile(optimizer = 'adam',\n",
    "                loss='categorical_crossentropy',\n",
    "                metrics=['accuracy'])  \n",
    "history =model.fit(X_train, y_train, epochs=200, batch_size = 16, verbose=1,validation_data=(X_test, y_test))"
   ]
  },
  {
   "cell_type": "code",
   "execution_count": 248,
   "id": "481dcd60",
   "metadata": {},
   "outputs": [
    {
     "name": "stdout",
     "output_type": "stream",
     "text": [
      "Epoch 1/40\n",
      "1278/1278 [==============================] - 2s 2ms/step - loss: 0.7103 - accuracy: 0.5063 - val_loss: 0.6929 - val_accuracy: 0.5173\n",
      "Epoch 2/40\n",
      "1278/1278 [==============================] - 2s 1ms/step - loss: 0.6985 - accuracy: 0.5106 - val_loss: 0.6931 - val_accuracy: 0.5079\n",
      "Epoch 3/40\n",
      "1278/1278 [==============================] - 1s 1ms/step - loss: 0.6952 - accuracy: 0.5068 - val_loss: 0.6929 - val_accuracy: 0.5161\n",
      "Epoch 4/40\n",
      "1278/1278 [==============================] - 1s 1ms/step - loss: 0.6935 - accuracy: 0.5135 - val_loss: 0.6928 - val_accuracy: 0.5173\n",
      "Epoch 5/40\n",
      "1278/1278 [==============================] - 2s 1ms/step - loss: 0.6952 - accuracy: 0.4984 - val_loss: 0.6942 - val_accuracy: 0.5073\n",
      "Epoch 6/40\n",
      "1278/1278 [==============================] - 2s 1ms/step - loss: 0.6933 - accuracy: 0.5194 - val_loss: 0.6922 - val_accuracy: 0.5255\n",
      "Epoch 7/40\n",
      "1278/1278 [==============================] - 1s 1ms/step - loss: 0.6925 - accuracy: 0.5117 - val_loss: 0.6920 - val_accuracy: 0.5109\n",
      "Epoch 8/40\n",
      "1278/1278 [==============================] - 2s 1ms/step - loss: 0.6896 - accuracy: 0.5266 - val_loss: 0.6896 - val_accuracy: 0.5419\n",
      "Epoch 9/40\n",
      "1278/1278 [==============================] - 2s 1ms/step - loss: 0.6893 - accuracy: 0.5333 - val_loss: 0.6872 - val_accuracy: 0.5472\n",
      "Epoch 10/40\n",
      "1278/1278 [==============================] - 2s 1ms/step - loss: 0.6880 - accuracy: 0.5393 - val_loss: 0.6847 - val_accuracy: 0.5548\n",
      "Epoch 11/40\n",
      "1278/1278 [==============================] - 2s 1ms/step - loss: 0.6854 - accuracy: 0.5454 - val_loss: 0.6819 - val_accuracy: 0.5636\n",
      "Epoch 12/40\n",
      "1278/1278 [==============================] - 1s 1ms/step - loss: 0.6828 - accuracy: 0.5610 - val_loss: 0.6795 - val_accuracy: 0.5765\n",
      "Epoch 13/40\n",
      "1278/1278 [==============================] - 1s 1ms/step - loss: 0.6817 - accuracy: 0.5620 - val_loss: 0.6792 - val_accuracy: 0.5836\n",
      "Epoch 14/40\n",
      "1278/1278 [==============================] - 1s 1ms/step - loss: 0.6759 - accuracy: 0.5708 - val_loss: 0.6778 - val_accuracy: 0.5707\n",
      "Epoch 15/40\n",
      "1278/1278 [==============================] - 2s 1ms/step - loss: 0.6809 - accuracy: 0.5802 - val_loss: 0.6766 - val_accuracy: 0.5812\n",
      "Epoch 16/40\n",
      "1278/1278 [==============================] - 1s 1ms/step - loss: 0.6800 - accuracy: 0.5736 - val_loss: 0.6775 - val_accuracy: 0.5824\n",
      "Epoch 17/40\n",
      "1278/1278 [==============================] - 1s 1ms/step - loss: 0.6726 - accuracy: 0.5812 - val_loss: 0.6751 - val_accuracy: 0.5806\n",
      "Epoch 18/40\n",
      "1278/1278 [==============================] - 1s 1ms/step - loss: 0.6770 - accuracy: 0.5839 - val_loss: 0.6743 - val_accuracy: 0.5859\n",
      "Epoch 19/40\n",
      "1278/1278 [==============================] - 2s 1ms/step - loss: 0.6677 - accuracy: 0.5896 - val_loss: 0.6740 - val_accuracy: 0.5806\n",
      "Epoch 20/40\n",
      "1278/1278 [==============================] - 2s 1ms/step - loss: 0.6743 - accuracy: 0.5968 - val_loss: 0.6732 - val_accuracy: 0.5853\n",
      "Epoch 21/40\n",
      "1278/1278 [==============================] - 1s 1ms/step - loss: 0.6724 - accuracy: 0.5871 - val_loss: 0.6730 - val_accuracy: 0.5842\n",
      "Epoch 22/40\n",
      "1278/1278 [==============================] - 1s 1ms/step - loss: 0.6718 - accuracy: 0.5964 - val_loss: 0.6717 - val_accuracy: 0.5877\n",
      "Epoch 23/40\n",
      "1278/1278 [==============================] - 1s 1ms/step - loss: 0.6727 - accuracy: 0.5855 - val_loss: 0.6728 - val_accuracy: 0.5848\n",
      "Epoch 24/40\n",
      "1278/1278 [==============================] - 2s 1ms/step - loss: 0.6696 - accuracy: 0.6015 - val_loss: 0.6723 - val_accuracy: 0.5894\n",
      "Epoch 25/40\n",
      "1278/1278 [==============================] - 1s 1ms/step - loss: 0.6716 - accuracy: 0.5863 - val_loss: 0.6724 - val_accuracy: 0.5865\n",
      "Epoch 26/40\n",
      "1278/1278 [==============================] - 1s 1ms/step - loss: 0.6707 - accuracy: 0.5853 - val_loss: 0.6709 - val_accuracy: 0.5859\n",
      "Epoch 27/40\n",
      "1278/1278 [==============================] - 1s 1ms/step - loss: 0.6701 - accuracy: 0.5957 - val_loss: 0.6709 - val_accuracy: 0.5871\n",
      "Epoch 28/40\n",
      "1278/1278 [==============================] - 2s 1ms/step - loss: 0.6679 - accuracy: 0.6099 - val_loss: 0.6714 - val_accuracy: 0.5918\n",
      "Epoch 29/40\n",
      "1278/1278 [==============================] - 1s 1ms/step - loss: 0.6665 - accuracy: 0.6056 - val_loss: 0.6718 - val_accuracy: 0.5924\n",
      "Epoch 30/40\n",
      "1278/1278 [==============================] - 2s 1ms/step - loss: 0.6713 - accuracy: 0.5917 - val_loss: 0.6714 - val_accuracy: 0.5924\n",
      "Epoch 31/40\n",
      "1278/1278 [==============================] - 2s 1ms/step - loss: 0.6687 - accuracy: 0.5925 - val_loss: 0.6736 - val_accuracy: 0.5818\n",
      "Epoch 32/40\n",
      "1278/1278 [==============================] - 1s 1ms/step - loss: 0.6729 - accuracy: 0.5968 - val_loss: 0.6722 - val_accuracy: 0.5865\n",
      "Epoch 33/40\n",
      "1278/1278 [==============================] - 2s 1ms/step - loss: 0.6652 - accuracy: 0.6086 - val_loss: 0.6729 - val_accuracy: 0.5853\n",
      "Epoch 34/40\n",
      "1278/1278 [==============================] - 1s 1ms/step - loss: 0.6657 - accuracy: 0.5970 - val_loss: 0.6704 - val_accuracy: 0.5953\n",
      "Epoch 35/40\n",
      "1278/1278 [==============================] - 1s 1ms/step - loss: 0.6675 - accuracy: 0.5966 - val_loss: 0.6711 - val_accuracy: 0.5912\n",
      "Epoch 36/40\n",
      "1278/1278 [==============================] - 2s 1ms/step - loss: 0.6655 - accuracy: 0.6078 - val_loss: 0.6706 - val_accuracy: 0.5941\n",
      "Epoch 37/40\n",
      "1278/1278 [==============================] - 2s 1ms/step - loss: 0.6649 - accuracy: 0.6025 - val_loss: 0.6719 - val_accuracy: 0.5918\n",
      "Epoch 38/40\n",
      "1278/1278 [==============================] - 2s 1ms/step - loss: 0.6654 - accuracy: 0.6058 - val_loss: 0.6717 - val_accuracy: 0.5918\n",
      "Epoch 39/40\n",
      "1278/1278 [==============================] - 1s 1ms/step - loss: 0.6692 - accuracy: 0.6025 - val_loss: 0.6716 - val_accuracy: 0.5918\n",
      "Epoch 40/40\n",
      "1278/1278 [==============================] - 2s 1ms/step - loss: 0.6690 - accuracy: 0.5972 - val_loss: 0.6713 - val_accuracy: 0.5930\n"
     ]
    }
   ],
   "source": []
  },
  {
   "cell_type": "code",
   "execution_count": 24,
   "id": "34988cae",
   "metadata": {},
   "outputs": [
    {
     "name": "stdout",
     "output_type": "stream",
     "text": [
      "54/54 [==============================] - 0s 829us/step - loss: 0.6730 - accuracy: 0.5830\n"
     ]
    }
   ],
   "source": [
    "test_loss, test_acc = model.evaluate(X_test, y_test)"
   ]
  },
  {
   "cell_type": "code",
   "execution_count": 25,
   "id": "2de87605",
   "metadata": {
    "scrolled": true
   },
   "outputs": [
    {
     "name": "stdout",
     "output_type": "stream",
     "text": [
      "54/54 [==============================] - 0s 743us/step\n"
     ]
    },
    {
     "data": {
      "image/png": "[encoded data removed]",
      "text/plain": [
       "<Figure size 640x480 with 1 Axes>"
      ]
     },
     "metadata": {},
     "output_type": "display_data"
    }
   ],
   "source": [
    "from sklearn.metrics import roc_curve\n",
    "import matplotlib.pyplot as plt\n",
    "\n",
    "y_pred_proba =model.predict(X_test)\n",
    "fpr, tpr, _ = roc_curve(y_test,  y_pred_proba)\n",
    "auc = roc_auc_score(y_test, y_pred_proba)\n",
    "plt.plot(fpr,tpr,label=\"data 1, auc=\"+str(auc))\n",
    "plt.legend(loc=4)\n",
    "plt.title(\"AUC ROC Curve\")\n",
    "plt.show()"
   ]
  },
  {
   "cell_type": "code",
   "execution_count": 251,
   "id": "dfb12560",
   "metadata": {},
   "outputs": [
    {
     "name": "stdout",
     "output_type": "stream",
     "text": [
      "0.6069992902957994\n",
      "{'max_depth': 8, 'min_samples_leaf': 5, 'min_samples_split': 9, 'n_estimators': 91}\n"
     ]
    }
   ],
   "source": [
    "from sklearn.ensemble import RandomForestClassifier\n",
    "from sklearn.model_selection import RandomizedSearchCV\n",
    "from scipy.stats import randint\n",
    "\n",
    "# Define the parameter distribution\n",
    "param_dist = {\"n_estimators\": randint(10, 100),\n",
    "              \"max_depth\": randint(1, 10),\n",
    "              \"min_samples_split\": randint(2, 10),\n",
    "              \"min_samples_leaf\": randint(1, 10)}\n",
    "\n",
    "# Instantiate the random forest classifier\n",
    "rf = RandomForestClassifier()\n",
    "\n",
    "# Instantiate the randomized search\n",
    "random_search = RandomizedSearchCV(rf, param_distributions=param_dist,\n",
    "                                   n_iter=100, cv=5, random_state=42)\n",
    "\n",
    "# Fit the randomized search on the data\n",
    "random_search.fit(X_train, y_train)\n",
    "\n",
    "# Print the best hyperparameters\n",
    "print(random_search.best_score_)\n",
    "print(random_search.best_params_)"
   ]
  },
  {
   "cell_type": "code",
   "execution_count": 67,
   "id": "5975f89e",
   "metadata": {},
   "outputs": [],
   "source": [
    "fighter1 = \"Nate Diaz\"\n",
    "fighter2 = \"Conor McGregor\""
   ]
  },
  {
   "cell_type": "code",
   "execution_count": 42,
   "id": "322698fb",
   "metadata": {},
   "outputs": [],
   "source": [
    "df_fighters.loc[:,'pct_of_control_fighter'] = df_fighters['CTRL_fighter']/df_fighters['TotalTime']\n",
    "df_fighters.loc[:,'strikes_fighter_f'] = (df_fighters['SIG.STR._landed_fighter']/df_fighters['TotalTime'])*60\n"
   ]
  },
  {
   "cell_type": "code",
   "execution_count": 57,
   "id": "8387a763",
   "metadata": {},
   "outputs": [],
   "source": [
    "df_fighters[['form_skore_fighter','pct_of_control_fighter', 'strikes_fighter_f']] = scaler.fit_transform(df_fighters[['form_skore_fighter','pct_of_control_fighter', 'strikes_fighter_f']])"
   ]
  },
  {
   "cell_type": "code",
   "execution_count": 68,
   "id": "04e2b1e2",
   "metadata": {},
   "outputs": [],
   "source": [
    "f1 = df_fighters.loc[df_fighters[\"FIGHTER\"]==fighter1 ,['form_skore_fighter','pct_of_control_fighter', 'strikes_fighter_f']].values.flatten().tolist()"
   ]
  },
  {
   "cell_type": "code",
   "execution_count": 69,
   "id": "13ff45a1",
   "metadata": {},
   "outputs": [],
   "source": [
    "f2 = df_fighters.loc[df_fighters[\"FIGHTER\"]==fighter2 ,['form_skore_fighter','pct_of_control_fighter', 'strikes_fighter_f']].values.flatten().tolist()"
   ]
  },
  {
   "cell_type": "code",
   "execution_count": 70,
   "id": "634aabc7",
   "metadata": {},
   "outputs": [
    {
     "data": {
      "text/plain": [
       "[0.39875325803342343,\n",
       " -0.45128862367049577,\n",
       " 0.8860974239040257,\n",
       " -0.45686035044738443,\n",
       " -0.5655206746811349,\n",
       " 1.4218252543277097]"
      ]
     },
     "execution_count": 70,
     "metadata": {},
     "output_type": "execute_result"
    }
   ],
   "source": [
    "f1+f2"
   ]
  },
  {
   "cell_type": "code",
   "execution_count": 71,
   "id": "057c0f6e",
   "metadata": {},
   "outputs": [
    {
     "name": "stdout",
     "output_type": "stream",
     "text": [
      "1/1 [==============================] - 0s 45ms/step\n"
     ]
    },
    {
     "data": {
      "text/plain": [
       "0.5540724"
      ]
     },
     "execution_count": 71,
     "metadata": {},
     "output_type": "execute_result"
    }
   ],
   "source": [
    "predikce = model.predict([f1+f2])\n",
    "predikce[0][0]"
   ]
  },
  {
   "cell_type": "code",
   "execution_count": 72,
   "id": "281d546f",
   "metadata": {},
   "outputs": [
    {
     "name": "stdout",
     "output_type": "stream",
     "text": [
      "Nate Diaz: 55.41%  vs Conor McGregor: 44.59\n"
     ]
    }
   ],
   "source": [
    "print(f\"{fighter1}: {round(predikce[0][0]*100,2)}%  vs {fighter2}: {round((1-predikce[0][0])*100,2)}\")"
   ]
  },
  {
   "cell_type": "code",
   "execution_count": 73,
   "id": "3c1d0f82",
   "metadata": {},
   "outputs": [
    {
     "data": {
      "text/plain": [
       "False"
      ]
     },
     "execution_count": 73,
     "metadata": {},
     "output_type": "execute_result"
    }
   ],
   "source": [
    "'McGr' in df_fighters['FIGHTER'].tolist()"
   ]
  },
  {
   "cell_type": "code",
   "execution_count": null,
   "id": "7bc04b75",
   "metadata": {},
   "outputs": [],
   "source": []
  }
 ],
 "metadata": {
  "kernelspec": {
   "display_name": "Python 3 (ipykernel)",
   "language": "python",
   "name": "python3"
  },
  "language_info": {
   "codemirror_mode": {
    "name": "ipython",
    "version": 3
   },
   "file_extension": ".py",
   "mimetype": "text/x-python",
   "name": "python",
   "nbconvert_exporter": "python",
   "pygments_lexer": "ipython3",
   "version": "3.9.13"
  }
 },
 "nbformat": 4,
 "nbformat_minor": 5
}
