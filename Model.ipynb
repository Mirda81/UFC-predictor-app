{
 "cells": [
  {
   "cell_type": "code",
   "execution_count": 16,
   "id": "6eda130d",
   "metadata": {},
   "outputs": [],
   "source": [
    "import pandas as pd\n",
    "import numpy as np\n",
    "from sklearn.model_selection import GridSearchCV, train_test_split"
   ]
  },
  {
   "cell_type": "code",
   "execution_count": 17,
   "id": "64504238",
   "metadata": {},
   "outputs": [],
   "source": [
    "from keras.models import Sequential\n",
    "from keras.layers import Dense, Activation, Dropout\n",
    "from keras import layers\n",
    "from sklearn.neural_network import MLPClassifier\n",
    "from sklearn.metrics import accuracy_score, f1_score, auc, roc_curve, roc_auc_score\n",
    "from sklearn.preprocessing import StandardScaler"
   ]
  },
  {
   "cell_type": "code",
   "execution_count": 18,
   "id": "1160a496",
   "metadata": {},
   "outputs": [],
   "source": [
    "df = pd.read_csv('fight_with_stats_precomp.csv')\n",
    "df_fighters = pd.read_csv('fighter_total_stats.csv')"
   ]
  },
  {
   "cell_type": "code",
   "execution_count": 19,
   "id": "cfad8be9",
   "metadata": {},
   "outputs": [],
   "source": [
    "df = df[(df['fightNo_fighter']>=3) & (df['fightNo_opponent']>=3) & (df['Women_fight']==0)]"
   ]
  },
  {
   "cell_type": "code",
   "execution_count": 20,
   "id": "6fbc9051",
   "metadata": {},
   "outputs": [],
   "source": [
    "df = df.fillna(0)\n"
   ]
  },
  {
   "cell_type": "code",
   "execution_count": 21,
   "id": "a380c164",
   "metadata": {},
   "outputs": [
    {
     "data": {
      "text/html": [
       "<div>\n",
       "<style scoped>\n",
       "    .dataframe tbody tr th:only-of-type {\n",
       "        vertical-align: middle;\n",
       "    }\n",
       "\n",
       "    .dataframe tbody tr th {\n",
       "        vertical-align: top;\n",
       "    }\n",
       "\n",
       "    .dataframe thead th {\n",
       "        text-align: right;\n",
       "    }\n",
       "</style>\n",
       "<table border=\"1\" class=\"dataframe\">\n",
       "  <thead>\n",
       "    <tr style=\"text-align: right;\">\n",
       "      <th></th>\n",
       "      <th>EVENT</th>\n",
       "      <th>BOUT</th>\n",
       "      <th>FIGHTER</th>\n",
       "      <th>OPPONENT</th>\n",
       "      <th>METHOD</th>\n",
       "      <th>Win</th>\n",
       "      <th>Women_fight</th>\n",
       "      <th>ROUND</th>\n",
       "      <th>HEIGHT_diff</th>\n",
       "      <th>REACH_diff</th>\n",
       "      <th>...</th>\n",
       "      <th>BODY_landed_opponent</th>\n",
       "      <th>BODY_attemps_opponent</th>\n",
       "      <th>LEG_landed_opponent</th>\n",
       "      <th>LEG_attemps_opponent</th>\n",
       "      <th>DISTANCE_landed_opponent</th>\n",
       "      <th>DISTANCE_attemps_opponent</th>\n",
       "      <th>CLINCH_landed_opponent</th>\n",
       "      <th>CLINCH_attemps_opponent</th>\n",
       "      <th>GROUND_landed_opponent</th>\n",
       "      <th>GROUND_attemps_opponent</th>\n",
       "    </tr>\n",
       "  </thead>\n",
       "  <tbody>\n",
       "    <tr>\n",
       "      <th>24</th>\n",
       "      <td>UFC 2: No Way Out</td>\n",
       "      <td>Royce Gracie vs. Patrick Smith</td>\n",
       "      <td>Patrick Smith</td>\n",
       "      <td>Royce Gracie</td>\n",
       "      <td>KO/TKO - ground</td>\n",
       "      <td>0</td>\n",
       "      <td>0</td>\n",
       "      <td>1</td>\n",
       "      <td>1.0</td>\n",
       "      <td>0.0</td>\n",
       "      <td>...</td>\n",
       "      <td>0.0</td>\n",
       "      <td>0.0</td>\n",
       "      <td>3.0</td>\n",
       "      <td>5.0</td>\n",
       "      <td>5.0</td>\n",
       "      <td>10.0</td>\n",
       "      <td>0.0</td>\n",
       "      <td>0.0</td>\n",
       "      <td>0.0</td>\n",
       "      <td>0.0</td>\n",
       "    </tr>\n",
       "    <tr>\n",
       "      <th>25</th>\n",
       "      <td>UFC 2: No Way Out</td>\n",
       "      <td>Royce Gracie vs. Patrick Smith</td>\n",
       "      <td>Royce Gracie</td>\n",
       "      <td>Patrick Smith</td>\n",
       "      <td>KO/TKO - ground</td>\n",
       "      <td>1</td>\n",
       "      <td>0</td>\n",
       "      <td>1</td>\n",
       "      <td>-1.0</td>\n",
       "      <td>0.0</td>\n",
       "      <td>...</td>\n",
       "      <td>0.0</td>\n",
       "      <td>0.0</td>\n",
       "      <td>0.0</td>\n",
       "      <td>1.0</td>\n",
       "      <td>0.0</td>\n",
       "      <td>2.0</td>\n",
       "      <td>0.0</td>\n",
       "      <td>0.0</td>\n",
       "      <td>3.0</td>\n",
       "      <td>5.0</td>\n",
       "    </tr>\n",
       "    <tr>\n",
       "      <th>26</th>\n",
       "      <td>UFC 2: No Way Out</td>\n",
       "      <td>Royce Gracie vs. Remco Pardoel</td>\n",
       "      <td>Remco Pardoel</td>\n",
       "      <td>Royce Gracie</td>\n",
       "      <td>Submission</td>\n",
       "      <td>0</td>\n",
       "      <td>0</td>\n",
       "      <td>1</td>\n",
       "      <td>2.0</td>\n",
       "      <td>0.0</td>\n",
       "      <td>...</td>\n",
       "      <td>0.0</td>\n",
       "      <td>0.0</td>\n",
       "      <td>1.0</td>\n",
       "      <td>1.0</td>\n",
       "      <td>2.0</td>\n",
       "      <td>3.0</td>\n",
       "      <td>0.0</td>\n",
       "      <td>0.0</td>\n",
       "      <td>0.0</td>\n",
       "      <td>2.0</td>\n",
       "    </tr>\n",
       "    <tr>\n",
       "      <th>27</th>\n",
       "      <td>UFC 2: No Way Out</td>\n",
       "      <td>Royce Gracie vs. Remco Pardoel</td>\n",
       "      <td>Royce Gracie</td>\n",
       "      <td>Remco Pardoel</td>\n",
       "      <td>Submission</td>\n",
       "      <td>1</td>\n",
       "      <td>0</td>\n",
       "      <td>1</td>\n",
       "      <td>-2.0</td>\n",
       "      <td>0.0</td>\n",
       "      <td>...</td>\n",
       "      <td>1.0</td>\n",
       "      <td>2.0</td>\n",
       "      <td>0.0</td>\n",
       "      <td>1.0</td>\n",
       "      <td>0.0</td>\n",
       "      <td>3.0</td>\n",
       "      <td>1.0</td>\n",
       "      <td>1.0</td>\n",
       "      <td>3.0</td>\n",
       "      <td>5.0</td>\n",
       "    </tr>\n",
       "    <tr>\n",
       "      <th>50</th>\n",
       "      <td>UFC 4: Revenge of the Warriors</td>\n",
       "      <td>Royce Gracie vs. Dan Severn</td>\n",
       "      <td>Dan Severn</td>\n",
       "      <td>Royce Gracie</td>\n",
       "      <td>Submission</td>\n",
       "      <td>0</td>\n",
       "      <td>0</td>\n",
       "      <td>1</td>\n",
       "      <td>1.0</td>\n",
       "      <td>0.0</td>\n",
       "      <td>...</td>\n",
       "      <td>3.0</td>\n",
       "      <td>4.0</td>\n",
       "      <td>2.0</td>\n",
       "      <td>3.0</td>\n",
       "      <td>3.0</td>\n",
       "      <td>5.0</td>\n",
       "      <td>3.0</td>\n",
       "      <td>3.0</td>\n",
       "      <td>3.0</td>\n",
       "      <td>3.0</td>\n",
       "    </tr>\n",
       "  </tbody>\n",
       "</table>\n",
       "<p>5 rows × 63 columns</p>\n",
       "</div>"
      ],
      "text/plain": [
       "                             EVENT                            BOUT  \\\n",
       "24               UFC 2: No Way Out  Royce Gracie vs. Patrick Smith   \n",
       "25               UFC 2: No Way Out  Royce Gracie vs. Patrick Smith   \n",
       "26               UFC 2: No Way Out  Royce Gracie vs. Remco Pardoel   \n",
       "27               UFC 2: No Way Out  Royce Gracie vs. Remco Pardoel   \n",
       "50  UFC 4: Revenge of the Warriors     Royce Gracie vs. Dan Severn   \n",
       "\n",
       "          FIGHTER       OPPONENT           METHOD  Win  Women_fight  ROUND  \\\n",
       "24  Patrick Smith   Royce Gracie  KO/TKO - ground    0            0      1   \n",
       "25   Royce Gracie  Patrick Smith  KO/TKO - ground    1            0      1   \n",
       "26  Remco Pardoel   Royce Gracie       Submission    0            0      1   \n",
       "27   Royce Gracie  Remco Pardoel       Submission    1            0      1   \n",
       "50     Dan Severn   Royce Gracie       Submission    0            0      1   \n",
       "\n",
       "    HEIGHT_diff  REACH_diff  ...  BODY_landed_opponent  BODY_attemps_opponent  \\\n",
       "24          1.0         0.0  ...                   0.0                    0.0   \n",
       "25         -1.0         0.0  ...                   0.0                    0.0   \n",
       "26          2.0         0.0  ...                   0.0                    0.0   \n",
       "27         -2.0         0.0  ...                   1.0                    2.0   \n",
       "50          1.0         0.0  ...                   3.0                    4.0   \n",
       "\n",
       "    LEG_landed_opponent  LEG_attemps_opponent  DISTANCE_landed_opponent  \\\n",
       "24                  3.0                   5.0                       5.0   \n",
       "25                  0.0                   1.0                       0.0   \n",
       "26                  1.0                   1.0                       2.0   \n",
       "27                  0.0                   1.0                       0.0   \n",
       "50                  2.0                   3.0                       3.0   \n",
       "\n",
       "    DISTANCE_attemps_opponent  CLINCH_landed_opponent  \\\n",
       "24                       10.0                     0.0   \n",
       "25                        2.0                     0.0   \n",
       "26                        3.0                     0.0   \n",
       "27                        3.0                     1.0   \n",
       "50                        5.0                     3.0   \n",
       "\n",
       "    CLINCH_attemps_opponent  GROUND_landed_opponent  GROUND_attemps_opponent  \n",
       "24                      0.0                     0.0                      0.0  \n",
       "25                      0.0                     3.0                      5.0  \n",
       "26                      0.0                     0.0                      2.0  \n",
       "27                      1.0                     3.0                      5.0  \n",
       "50                      3.0                     3.0                      3.0  \n",
       "\n",
       "[5 rows x 63 columns]"
      ]
     },
     "execution_count": 21,
     "metadata": {},
     "output_type": "execute_result"
    }
   ],
   "source": [
    "df.head()"
   ]
  },
  {
   "cell_type": "code",
   "execution_count": 22,
   "id": "3c83f881",
   "metadata": {},
   "outputs": [
    {
     "data": {
      "text/plain": [
       "(6817, 63)"
      ]
     },
     "execution_count": 22,
     "metadata": {},
     "output_type": "execute_result"
    }
   ],
   "source": [
    "df.shape"
   ]
  },
  {
   "cell_type": "code",
   "execution_count": 23,
   "id": "0b47cc75",
   "metadata": {
    "scrolled": true
   },
   "outputs": [
    {
     "data": {
      "text/plain": [
       "['KD_fighter',\n",
       " 'SUB.ATT_fighter',\n",
       " 'REV._fighter',\n",
       " 'CTRL_fighter',\n",
       " 'SIG.STR._landed_fighter',\n",
       " 'SIG.STR._attemps_fighter',\n",
       " 'TOTAL STR._landed_fighter',\n",
       " 'TOTAL STR._attemps_fighter',\n",
       " 'TD_landed_fighter',\n",
       " 'TD_attemps_fighter',\n",
       " 'HEAD_landed_fighter',\n",
       " 'HEAD_attemps_fighter',\n",
       " 'BODY_landed_fighter',\n",
       " 'BODY_attemps_fighter',\n",
       " 'LEG_landed_fighter',\n",
       " 'LEG_attemps_fighter',\n",
       " 'DISTANCE_landed_fighter',\n",
       " 'DISTANCE_attemps_fighter',\n",
       " 'CLINCH_landed_fighter',\n",
       " 'CLINCH_attemps_fighter',\n",
       " 'GROUND_landed_fighter',\n",
       " 'GROUND_attemps_fighter',\n",
       " 'KD_opponent',\n",
       " 'SUB.ATT_opponent',\n",
       " 'REV._opponent',\n",
       " 'CTRL_opponent',\n",
       " 'SIG.STR._landed_opponent',\n",
       " 'SIG.STR._attemps_opponent',\n",
       " 'TOTAL STR._landed_opponent',\n",
       " 'TOTAL STR._attemps_opponent',\n",
       " 'TD_landed_opponent',\n",
       " 'TD_attemps_opponent',\n",
       " 'HEAD_landed_opponent',\n",
       " 'HEAD_attemps_opponent',\n",
       " 'BODY_landed_opponent',\n",
       " 'BODY_attemps_opponent',\n",
       " 'LEG_landed_opponent',\n",
       " 'LEG_attemps_opponent',\n",
       " 'DISTANCE_landed_opponent',\n",
       " 'DISTANCE_attemps_opponent',\n",
       " 'CLINCH_landed_opponent',\n",
       " 'CLINCH_attemps_opponent',\n",
       " 'GROUND_landed_opponent']"
      ]
     },
     "execution_count": 23,
     "metadata": {},
     "output_type": "execute_result"
    }
   ],
   "source": [
    "df.columns.tolist()[19:62]"
   ]
  },
  {
   "cell_type": "code",
   "execution_count": 24,
   "id": "1bf9b2da",
   "metadata": {},
   "outputs": [],
   "source": [
    "df = df.merge(df[['EVENT', 'BOUT', 'FIGHTER']+df.columns.tolist()[18:62]] ,how='left', left_on=['EVENT', 'BOUT', 'OPPONENT'], right_on=['EVENT', 'BOUT', 'FIGHTER'], suffixes=('_f1', '_f2'))"
   ]
  },
  {
   "cell_type": "code",
   "execution_count": 25,
   "id": "325168d8",
   "metadata": {},
   "outputs": [
    {
     "name": "stdout",
     "output_type": "stream",
     "text": [
      "<class 'pandas.core.frame.DataFrame'>\n",
      "Int64Index: 6817 entries, 0 to 6816\n",
      "Data columns (total 108 columns):\n",
      " #    Column                          Non-Null Count  Dtype  \n",
      "---   ------                          --------------  -----  \n",
      " 0    EVENT                           6817 non-null   object \n",
      " 1    BOUT                            6817 non-null   object \n",
      " 2    FIGHTER_f1                      6817 non-null   object \n",
      " 3    OPPONENT                        6817 non-null   object \n",
      " 4    METHOD                          6817 non-null   object \n",
      " 5    Win                             6817 non-null   int64  \n",
      " 6    Women_fight                     6817 non-null   int64  \n",
      " 7    ROUND                           6817 non-null   int64  \n",
      " 8    HEIGHT_diff                     6817 non-null   float64\n",
      " 9    REACH_diff                      6817 non-null   float64\n",
      " 10   AGE_diff                        6817 non-null   float64\n",
      " 11   form_skore_fighter              6817 non-null   float64\n",
      " 12   form_skore_opponent             6817 non-null   float64\n",
      " 13   fightNo_fighter                 6817 non-null   int64  \n",
      " 14   fightNo_opponent                6817 non-null   float64\n",
      " 15   Win_tot                         6817 non-null   float64\n",
      " 16   DRAW                            6817 non-null   float64\n",
      " 17   No_contest                      6817 non-null   float64\n",
      " 18   TotalTime_f1                    6817 non-null   float64\n",
      " 19   KD_fighter_f1                   6817 non-null   float64\n",
      " 20   SUB.ATT_fighter_f1              6817 non-null   float64\n",
      " 21   REV._fighter_f1                 6817 non-null   float64\n",
      " 22   CTRL_fighter_f1                 6817 non-null   float64\n",
      " 23   SIG.STR._landed_fighter_f1      6817 non-null   float64\n",
      " 24   SIG.STR._attemps_fighter_f1     6817 non-null   float64\n",
      " 25   TOTAL STR._landed_fighter_f1    6817 non-null   float64\n",
      " 26   TOTAL STR._attemps_fighter_f1   6817 non-null   float64\n",
      " 27   TD_landed_fighter_f1            6817 non-null   float64\n",
      " 28   TD_attemps_fighter_f1           6817 non-null   float64\n",
      " 29   HEAD_landed_fighter_f1          6817 non-null   float64\n",
      " 30   HEAD_attemps_fighter_f1         6817 non-null   float64\n",
      " 31   BODY_landed_fighter_f1          6817 non-null   float64\n",
      " 32   BODY_attemps_fighter_f1         6817 non-null   float64\n",
      " 33   LEG_landed_fighter_f1           6817 non-null   float64\n",
      " 34   LEG_attemps_fighter_f1          6817 non-null   float64\n",
      " 35   DISTANCE_landed_fighter_f1      6817 non-null   float64\n",
      " 36   DISTANCE_attemps_fighter_f1     6817 non-null   float64\n",
      " 37   CLINCH_landed_fighter_f1        6817 non-null   float64\n",
      " 38   CLINCH_attemps_fighter_f1       6817 non-null   float64\n",
      " 39   GROUND_landed_fighter_f1        6817 non-null   float64\n",
      " 40   GROUND_attemps_fighter_f1       6817 non-null   float64\n",
      " 41   KD_opponent_f1                  6817 non-null   float64\n",
      " 42   SUB.ATT_opponent_f1             6817 non-null   float64\n",
      " 43   REV._opponent_f1                6817 non-null   float64\n",
      " 44   CTRL_opponent_f1                6817 non-null   float64\n",
      " 45   SIG.STR._landed_opponent_f1     6817 non-null   float64\n",
      " 46   SIG.STR._attemps_opponent_f1    6817 non-null   float64\n",
      " 47   TOTAL STR._landed_opponent_f1   6817 non-null   float64\n",
      " 48   TOTAL STR._attemps_opponent_f1  6817 non-null   float64\n",
      " 49   TD_landed_opponent_f1           6817 non-null   float64\n",
      " 50   TD_attemps_opponent_f1          6817 non-null   float64\n",
      " 51   HEAD_landed_opponent_f1         6817 non-null   float64\n",
      " 52   HEAD_attemps_opponent_f1        6817 non-null   float64\n",
      " 53   BODY_landed_opponent_f1         6817 non-null   float64\n",
      " 54   BODY_attemps_opponent_f1        6817 non-null   float64\n",
      " 55   LEG_landed_opponent_f1          6817 non-null   float64\n",
      " 56   LEG_attemps_opponent_f1         6817 non-null   float64\n",
      " 57   DISTANCE_landed_opponent_f1     6817 non-null   float64\n",
      " 58   DISTANCE_attemps_opponent_f1    6817 non-null   float64\n",
      " 59   CLINCH_landed_opponent_f1       6817 non-null   float64\n",
      " 60   CLINCH_attemps_opponent_f1      6817 non-null   float64\n",
      " 61   GROUND_landed_opponent_f1       6817 non-null   float64\n",
      " 62   GROUND_attemps_opponent         6817 non-null   float64\n",
      " 63   FIGHTER_f2                      6816 non-null   object \n",
      " 64   TotalTime_f2                    6816 non-null   float64\n",
      " 65   KD_fighter_f2                   6816 non-null   float64\n",
      " 66   SUB.ATT_fighter_f2              6816 non-null   float64\n",
      " 67   REV._fighter_f2                 6816 non-null   float64\n",
      " 68   CTRL_fighter_f2                 6816 non-null   float64\n",
      " 69   SIG.STR._landed_fighter_f2      6816 non-null   float64\n",
      " 70   SIG.STR._attemps_fighter_f2     6816 non-null   float64\n",
      " 71   TOTAL STR._landed_fighter_f2    6816 non-null   float64\n",
      " 72   TOTAL STR._attemps_fighter_f2   6816 non-null   float64\n",
      " 73   TD_landed_fighter_f2            6816 non-null   float64\n",
      " 74   TD_attemps_fighter_f2           6816 non-null   float64\n",
      " 75   HEAD_landed_fighter_f2          6816 non-null   float64\n",
      " 76   HEAD_attemps_fighter_f2         6816 non-null   float64\n",
      " 77   BODY_landed_fighter_f2          6816 non-null   float64\n",
      " 78   BODY_attemps_fighter_f2         6816 non-null   float64\n",
      " 79   LEG_landed_fighter_f2           6816 non-null   float64\n",
      " 80   LEG_attemps_fighter_f2          6816 non-null   float64\n",
      " 81   DISTANCE_landed_fighter_f2      6816 non-null   float64\n",
      " 82   DISTANCE_attemps_fighter_f2     6816 non-null   float64\n",
      " 83   CLINCH_landed_fighter_f2        6816 non-null   float64\n",
      " 84   CLINCH_attemps_fighter_f2       6816 non-null   float64\n",
      " 85   GROUND_landed_fighter_f2        6816 non-null   float64\n",
      " 86   GROUND_attemps_fighter_f2       6816 non-null   float64\n",
      " 87   KD_opponent_f2                  6816 non-null   float64\n",
      " 88   SUB.ATT_opponent_f2             6816 non-null   float64\n",
      " 89   REV._opponent_f2                6816 non-null   float64\n",
      " 90   CTRL_opponent_f2                6816 non-null   float64\n",
      " 91   SIG.STR._landed_opponent_f2     6816 non-null   float64\n",
      " 92   SIG.STR._attemps_opponent_f2    6816 non-null   float64\n",
      " 93   TOTAL STR._landed_opponent_f2   6816 non-null   float64\n",
      " 94   TOTAL STR._attemps_opponent_f2  6816 non-null   float64\n",
      " 95   TD_landed_opponent_f2           6816 non-null   float64\n",
      " 96   TD_attemps_opponent_f2          6816 non-null   float64\n",
      " 97   HEAD_landed_opponent_f2         6816 non-null   float64\n",
      " 98   HEAD_attemps_opponent_f2        6816 non-null   float64\n",
      " 99   BODY_landed_opponent_f2         6816 non-null   float64\n",
      " 100  BODY_attemps_opponent_f2        6816 non-null   float64\n",
      " 101  LEG_landed_opponent_f2          6816 non-null   float64\n",
      " 102  LEG_attemps_opponent_f2         6816 non-null   float64\n",
      " 103  DISTANCE_landed_opponent_f2     6816 non-null   float64\n",
      " 104  DISTANCE_attemps_opponent_f2    6816 non-null   float64\n",
      " 105  CLINCH_landed_opponent_f2       6816 non-null   float64\n",
      " 106  CLINCH_attemps_opponent_f2      6816 non-null   float64\n",
      " 107  GROUND_landed_opponent_f2       6816 non-null   float64\n",
      "dtypes: float64(98), int64(4), object(6)\n",
      "memory usage: 5.7+ MB\n"
     ]
    }
   ],
   "source": [
    "df.info(verbose=True, show_counts=True)"
   ]
  },
  {
   "cell_type": "code",
   "execution_count": 26,
   "id": "ed5bacb3",
   "metadata": {},
   "outputs": [],
   "source": [
    "cols_to_model = ['TotalTime_f1','TotalTime_f2','CTRL_fighter_f1','CTRL_fighter_f2','SIG.STR._landed_fighter_f1','SIG.STR._landed_fighter_f2','Win','form_skore_fighter', 'form_skore_opponent']"
   ]
  },
  {
   "cell_type": "code",
   "execution_count": 27,
   "id": "0ee47e58",
   "metadata": {},
   "outputs": [],
   "source": [
    "def prepare(df,cols_to_model):\n",
    "    df_model = df[cols_to_model]\n",
    "    df_model.loc[:,'pct_of_control_fighter1'] = df_model['CTRL_fighter_f1']/df_model['TotalTime_f1']\n",
    "    df_model.loc[:,'pct_of_control_fighter2'] = df_model['CTRL_fighter_f2']/df_model['TotalTime_f2']\n",
    "    df_model.loc[:,'strikes_fighter_f1'] = (df_model['SIG.STR._landed_fighter_f1']/df_model['TotalTime_f1'])*60\n",
    "    df_model.loc[:,'strikes_fighter_f2'] = (df_model['SIG.STR._landed_fighter_f2']/df_model['TotalTime_f2'])*60\n",
    "    df_model = df_model.drop(['TotalTime_f1','TotalTime_f2','CTRL_fighter_f1','CTRL_fighter_f2','SIG.STR._landed_fighter_f1','SIG.STR._landed_fighter_f2'],axis=1)\n",
    "    df_model = df_model[['form_skore_fighter', 'pct_of_control_fighter1',\n",
    "       'strikes_fighter_f1', 'form_skore_opponent','pct_of_control_fighter2','strikes_fighter_f2','Win']]\n",
    "    df_model = df_model.fillna(0)\n",
    "    return df_model"
   ]
  },
  {
   "cell_type": "code",
   "execution_count": 28,
   "id": "34284da1",
   "metadata": {},
   "outputs": [
    {
     "name": "stderr",
     "output_type": "stream",
     "text": [
      "C:\\Users\\spravce\\AppData\\Local\\Temp\\ipykernel_24428\\1830687690.py:3: SettingWithCopyWarning: \n",
      "A value is trying to be set on a copy of a slice from a DataFrame.\n",
      "Try using .loc[row_indexer,col_indexer] = value instead\n",
      "\n",
      "See the caveats in the documentation: https://pandas.pydata.org/pandas-docs/stable/user_guide/indexing.html#returning-a-view-versus-a-copy\n",
      "  df_model.loc[:,'pct_of_control_fighter1'] = df_model['CTRL_fighter_f1']/df_model['TotalTime_f1']\n",
      "C:\\Users\\spravce\\AppData\\Local\\Temp\\ipykernel_24428\\1830687690.py:4: SettingWithCopyWarning: \n",
      "A value is trying to be set on a copy of a slice from a DataFrame.\n",
      "Try using .loc[row_indexer,col_indexer] = value instead\n",
      "\n",
      "See the caveats in the documentation: https://pandas.pydata.org/pandas-docs/stable/user_guide/indexing.html#returning-a-view-versus-a-copy\n",
      "  df_model.loc[:,'pct_of_control_fighter2'] = df_model['CTRL_fighter_f2']/df_model['TotalTime_f2']\n",
      "C:\\Users\\spravce\\AppData\\Local\\Temp\\ipykernel_24428\\1830687690.py:5: SettingWithCopyWarning: \n",
      "A value is trying to be set on a copy of a slice from a DataFrame.\n",
      "Try using .loc[row_indexer,col_indexer] = value instead\n",
      "\n",
      "See the caveats in the documentation: https://pandas.pydata.org/pandas-docs/stable/user_guide/indexing.html#returning-a-view-versus-a-copy\n",
      "  df_model.loc[:,'strikes_fighter_f1'] = (df_model['SIG.STR._landed_fighter_f1']/df_model['TotalTime_f1'])*60\n",
      "C:\\Users\\spravce\\AppData\\Local\\Temp\\ipykernel_24428\\1830687690.py:6: SettingWithCopyWarning: \n",
      "A value is trying to be set on a copy of a slice from a DataFrame.\n",
      "Try using .loc[row_indexer,col_indexer] = value instead\n",
      "\n",
      "See the caveats in the documentation: https://pandas.pydata.org/pandas-docs/stable/user_guide/indexing.html#returning-a-view-versus-a-copy\n",
      "  df_model.loc[:,'strikes_fighter_f2'] = (df_model['SIG.STR._landed_fighter_f2']/df_model['TotalTime_f2'])*60\n"
     ]
    }
   ],
   "source": [
    "df_model= prepare(df, cols_to_model)"
   ]
  },
  {
   "cell_type": "code",
   "execution_count": 29,
   "id": "f3f8455e",
   "metadata": {},
   "outputs": [],
   "source": [
    "#prepare(df_fighters,cols_to_model)"
   ]
  },
  {
   "cell_type": "code",
   "execution_count": 30,
   "id": "7e040124",
   "metadata": {},
   "outputs": [
    {
     "ename": "NameError",
     "evalue": "name 'X' is not defined",
     "output_type": "error",
     "traceback": [
      "\u001b[1;31m---------------------------------------------------------------------------\u001b[0m",
      "\u001b[1;31mNameError\u001b[0m                                 Traceback (most recent call last)",
      "\u001b[1;32m~\\AppData\\Local\\Temp\\ipykernel_24428\\3777217377.py\u001b[0m in \u001b[0;36m<module>\u001b[1;34m\u001b[0m\n\u001b[1;32m----> 1\u001b[1;33m \u001b[0mX\u001b[0m\u001b[1;33m\u001b[0m\u001b[1;33m\u001b[0m\u001b[0m\n\u001b[0m",
      "\u001b[1;31mNameError\u001b[0m: name 'X' is not defined"
     ]
    }
   ],
   "source": [
    "X"
   ]
  },
  {
   "cell_type": "code",
   "execution_count": 31,
   "id": "a3834de4",
   "metadata": {},
   "outputs": [],
   "source": [
    "X=df_model.loc[:, ~df_model.columns.isin(['Win'])]\n",
    "y=df_model['Win']"
   ]
  },
  {
   "cell_type": "code",
   "execution_count": 32,
   "id": "47676207",
   "metadata": {},
   "outputs": [],
   "source": [
    "scaler = StandardScaler()\n",
    "X_scaled = scaler.fit_transform(X)"
   ]
  },
  {
   "cell_type": "code",
   "execution_count": 33,
   "id": "8c917231",
   "metadata": {},
   "outputs": [],
   "source": [
    "X_train, X_test, y_train, y_test = train_test_split(X_scaled, y, random_state = 0)"
   ]
  },
  {
   "cell_type": "code",
   "execution_count": 34,
   "id": "c700838d",
   "metadata": {},
   "outputs": [
    {
     "name": "stdout",
     "output_type": "stream",
     "text": [
      "0.5583577712609971 0.5583577712609971\n"
     ]
    }
   ],
   "source": [
    "from sklearn.linear_model import LogisticRegression\n",
    "logreg=LogisticRegression(multi_class='ovr', max_iter=50000)\n",
    "logreg.fit(X_train,y_train)\n",
    "predictions = logreg.predict(X_test)\n",
    "acc = accuracy_score(y_test, predictions) \n",
    "f1 = f1_score(y_test, predictions,average='micro')\n",
    "print(f1, acc)"
   ]
  },
  {
   "cell_type": "code",
   "execution_count": 35,
   "id": "ee8538cd",
   "metadata": {},
   "outputs": [],
   "source": [
    "class_neur = MLPClassifier(random_state=1, max_iter=100)"
   ]
  },
  {
   "cell_type": "code",
   "execution_count": 36,
   "id": "2821fed3",
   "metadata": {},
   "outputs": [
    {
     "name": "stderr",
     "output_type": "stream",
     "text": [
      "D:\\anacinda\\lib\\site-packages\\keras\\optimizers\\optimizer_v2\\gradient_descent.py:114: UserWarning: The `lr` argument is deprecated, use `learning_rate` instead.\n",
      "  super().__init__(name, **kwargs)\n"
     ]
    }
   ],
   "source": [
    "from keras.optimizers import SGD\n",
    "opt = SGD(lr=0.001)"
   ]
  },
  {
   "cell_type": "code",
   "execution_count": 37,
   "id": "65b2955f",
   "metadata": {},
   "outputs": [],
   "source": [
    "model = Sequential()\n",
    "model.add(layers.Dense(8, activation='relu', input_dim=X_train.shape[1]))\n",
    "model.add(layers.Dense(4, activation='tanh'))\n",
    "model.add(layers.Dense(1, activation='sigmoid'))\n",
    "model.compile(optimizer = 'adam',\n",
    "                loss='binary_crossentropy',\n",
    "                metrics=['accuracy'])  "
   ]
  },
  {
   "cell_type": "code",
   "execution_count": 38,
   "id": "481dcd60",
   "metadata": {},
   "outputs": [
    {
     "name": "stdout",
     "output_type": "stream",
     "text": [
      "Epoch 1/50\n",
      "320/320 [==============================] - 1s 2ms/step - loss: 0.6995 - accuracy: 0.4879 - val_loss: 0.6922 - val_accuracy: 0.5296\n",
      "Epoch 2/50\n",
      "320/320 [==============================] - 0s 1ms/step - loss: 0.6902 - accuracy: 0.5252 - val_loss: 0.6881 - val_accuracy: 0.5572\n",
      "Epoch 3/50\n",
      "320/320 [==============================] - 0s 1ms/step - loss: 0.6851 - accuracy: 0.5561 - val_loss: 0.6862 - val_accuracy: 0.5578\n",
      "Epoch 4/50\n",
      "320/320 [==============================] - 0s 1ms/step - loss: 0.6828 - accuracy: 0.5493 - val_loss: 0.6856 - val_accuracy: 0.5584\n",
      "Epoch 5/50\n",
      "320/320 [==============================] - 0s 2ms/step - loss: 0.6813 - accuracy: 0.5624 - val_loss: 0.6860 - val_accuracy: 0.5554\n",
      "Epoch 6/50\n",
      "320/320 [==============================] - 1s 2ms/step - loss: 0.6807 - accuracy: 0.5640 - val_loss: 0.6854 - val_accuracy: 0.5554\n",
      "Epoch 7/50\n",
      "320/320 [==============================] - 0s 1ms/step - loss: 0.6796 - accuracy: 0.5673 - val_loss: 0.6853 - val_accuracy: 0.5525\n",
      "Epoch 8/50\n",
      "320/320 [==============================] - 0s 1ms/step - loss: 0.6793 - accuracy: 0.5702 - val_loss: 0.6852 - val_accuracy: 0.5519\n",
      "Epoch 9/50\n",
      "320/320 [==============================] - 0s 1ms/step - loss: 0.6787 - accuracy: 0.5737 - val_loss: 0.6855 - val_accuracy: 0.5466\n",
      "Epoch 10/50\n",
      "320/320 [==============================] - 0s 1ms/step - loss: 0.6782 - accuracy: 0.5759 - val_loss: 0.6858 - val_accuracy: 0.5525\n",
      "Epoch 11/50\n",
      "320/320 [==============================] - 0s 1ms/step - loss: 0.6780 - accuracy: 0.5790 - val_loss: 0.6850 - val_accuracy: 0.5554\n",
      "Epoch 12/50\n",
      "320/320 [==============================] - 0s 1ms/step - loss: 0.6775 - accuracy: 0.5763 - val_loss: 0.6849 - val_accuracy: 0.5642\n",
      "Epoch 13/50\n",
      "320/320 [==============================] - 0s 1ms/step - loss: 0.6772 - accuracy: 0.5777 - val_loss: 0.6848 - val_accuracy: 0.5560\n",
      "Epoch 14/50\n",
      "320/320 [==============================] - 0s 1ms/step - loss: 0.6769 - accuracy: 0.5798 - val_loss: 0.6852 - val_accuracy: 0.5519\n",
      "Epoch 15/50\n",
      "320/320 [==============================] - 0s 2ms/step - loss: 0.6770 - accuracy: 0.5802 - val_loss: 0.6850 - val_accuracy: 0.5566\n",
      "Epoch 16/50\n",
      "320/320 [==============================] - 0s 1ms/step - loss: 0.6766 - accuracy: 0.5816 - val_loss: 0.6846 - val_accuracy: 0.5601\n",
      "Epoch 17/50\n",
      "320/320 [==============================] - 0s 1ms/step - loss: 0.6760 - accuracy: 0.5833 - val_loss: 0.6861 - val_accuracy: 0.5560\n",
      "Epoch 18/50\n",
      "320/320 [==============================] - 1s 2ms/step - loss: 0.6761 - accuracy: 0.5802 - val_loss: 0.6847 - val_accuracy: 0.5601\n",
      "Epoch 19/50\n",
      "320/320 [==============================] - 0s 1ms/step - loss: 0.6759 - accuracy: 0.5804 - val_loss: 0.6852 - val_accuracy: 0.5554\n",
      "Epoch 20/50\n",
      "320/320 [==============================] - 0s 1ms/step - loss: 0.6758 - accuracy: 0.5788 - val_loss: 0.6846 - val_accuracy: 0.5619\n",
      "Epoch 21/50\n",
      "320/320 [==============================] - 0s 1ms/step - loss: 0.6758 - accuracy: 0.5814 - val_loss: 0.6848 - val_accuracy: 0.5619\n",
      "Epoch 22/50\n",
      "320/320 [==============================] - 0s 1ms/step - loss: 0.6756 - accuracy: 0.5835 - val_loss: 0.6849 - val_accuracy: 0.5660\n",
      "Epoch 23/50\n",
      "320/320 [==============================] - 0s 1ms/step - loss: 0.6755 - accuracy: 0.5822 - val_loss: 0.6848 - val_accuracy: 0.5601\n",
      "Epoch 24/50\n",
      "320/320 [==============================] - 0s 1ms/step - loss: 0.6754 - accuracy: 0.5804 - val_loss: 0.6851 - val_accuracy: 0.5589\n",
      "Epoch 25/50\n",
      "320/320 [==============================] - 0s 1ms/step - loss: 0.6752 - accuracy: 0.5806 - val_loss: 0.6851 - val_accuracy: 0.5630\n",
      "Epoch 26/50\n",
      "320/320 [==============================] - 0s 1ms/step - loss: 0.6753 - accuracy: 0.5829 - val_loss: 0.6855 - val_accuracy: 0.5566\n",
      "Epoch 27/50\n",
      "320/320 [==============================] - 0s 2ms/step - loss: 0.6753 - accuracy: 0.5818 - val_loss: 0.6843 - val_accuracy: 0.5636\n",
      "Epoch 28/50\n",
      "320/320 [==============================] - 0s 2ms/step - loss: 0.6746 - accuracy: 0.5800 - val_loss: 0.6842 - val_accuracy: 0.5589\n",
      "Epoch 29/50\n",
      "320/320 [==============================] - 0s 2ms/step - loss: 0.6747 - accuracy: 0.5818 - val_loss: 0.6846 - val_accuracy: 0.5484\n",
      "Epoch 30/50\n",
      "320/320 [==============================] - 0s 2ms/step - loss: 0.6747 - accuracy: 0.5826 - val_loss: 0.6849 - val_accuracy: 0.5654\n",
      "Epoch 31/50\n",
      "320/320 [==============================] - 1s 2ms/step - loss: 0.6748 - accuracy: 0.5822 - val_loss: 0.6849 - val_accuracy: 0.5601\n",
      "Epoch 32/50\n",
      "320/320 [==============================] - 0s 1ms/step - loss: 0.6744 - accuracy: 0.5827 - val_loss: 0.6842 - val_accuracy: 0.5648\n",
      "Epoch 33/50\n",
      "320/320 [==============================] - 1s 2ms/step - loss: 0.6744 - accuracy: 0.5831 - val_loss: 0.6852 - val_accuracy: 0.5531\n",
      "Epoch 34/50\n",
      "320/320 [==============================] - 0s 2ms/step - loss: 0.6746 - accuracy: 0.5806 - val_loss: 0.6850 - val_accuracy: 0.5537\n",
      "Epoch 35/50\n",
      "320/320 [==============================] - 0s 1ms/step - loss: 0.6742 - accuracy: 0.5796 - val_loss: 0.6859 - val_accuracy: 0.5537\n",
      "Epoch 36/50\n",
      "320/320 [==============================] - 0s 1ms/step - loss: 0.6742 - accuracy: 0.5863 - val_loss: 0.6852 - val_accuracy: 0.5607\n",
      "Epoch 37/50\n",
      "320/320 [==============================] - 0s 1ms/step - loss: 0.6742 - accuracy: 0.5810 - val_loss: 0.6850 - val_accuracy: 0.5636\n",
      "Epoch 38/50\n",
      "320/320 [==============================] - 0s 2ms/step - loss: 0.6741 - accuracy: 0.5871 - val_loss: 0.6850 - val_accuracy: 0.5625\n",
      "Epoch 39/50\n",
      "320/320 [==============================] - 1s 2ms/step - loss: 0.6740 - accuracy: 0.5806 - val_loss: 0.6856 - val_accuracy: 0.5572\n",
      "Epoch 40/50\n",
      "320/320 [==============================] - 0s 1ms/step - loss: 0.6740 - accuracy: 0.5804 - val_loss: 0.6852 - val_accuracy: 0.5531\n",
      "Epoch 41/50\n",
      "320/320 [==============================] - 0s 1ms/step - loss: 0.6738 - accuracy: 0.5839 - val_loss: 0.6858 - val_accuracy: 0.5578\n",
      "Epoch 42/50\n",
      "320/320 [==============================] - 0s 1ms/step - loss: 0.6737 - accuracy: 0.5812 - val_loss: 0.6863 - val_accuracy: 0.5525\n",
      "Epoch 43/50\n",
      "320/320 [==============================] - 0s 1ms/step - loss: 0.6738 - accuracy: 0.5849 - val_loss: 0.6851 - val_accuracy: 0.5543\n",
      "Epoch 44/50\n",
      "320/320 [==============================] - 0s 2ms/step - loss: 0.6734 - accuracy: 0.5810 - val_loss: 0.6853 - val_accuracy: 0.5525\n",
      "Epoch 45/50\n",
      "320/320 [==============================] - 0s 2ms/step - loss: 0.6736 - accuracy: 0.5839 - val_loss: 0.6852 - val_accuracy: 0.5501\n",
      "Epoch 46/50\n",
      "320/320 [==============================] - 0s 1ms/step - loss: 0.6733 - accuracy: 0.5822 - val_loss: 0.6854 - val_accuracy: 0.5460\n",
      "Epoch 47/50\n",
      "320/320 [==============================] - 0s 2ms/step - loss: 0.6734 - accuracy: 0.5853 - val_loss: 0.6851 - val_accuracy: 0.5472\n",
      "Epoch 48/50\n",
      "320/320 [==============================] - 0s 1ms/step - loss: 0.6733 - accuracy: 0.5822 - val_loss: 0.6855 - val_accuracy: 0.5566\n",
      "Epoch 49/50\n",
      "320/320 [==============================] - 0s 1ms/step - loss: 0.6731 - accuracy: 0.5835 - val_loss: 0.6857 - val_accuracy: 0.5543\n",
      "Epoch 50/50\n",
      "320/320 [==============================] - 0s 2ms/step - loss: 0.6732 - accuracy: 0.5869 - val_loss: 0.6859 - val_accuracy: 0.5519\n"
     ]
    }
   ],
   "source": [
    "history =model.fit(X_train, y_train, epochs=50, batch_size = 16, verbose=1,validation_data=(X_test, y_test))"
   ]
  },
  {
   "cell_type": "code",
   "execution_count": 39,
   "id": "34988cae",
   "metadata": {},
   "outputs": [
    {
     "name": "stdout",
     "output_type": "stream",
     "text": [
      "54/54 [==============================] - 0s 943us/step - loss: 0.6859 - accuracy: 0.5519\n"
     ]
    }
   ],
   "source": [
    "test_loss, test_acc = model.evaluate(X_test, y_test)"
   ]
  },
  {
   "cell_type": "code",
   "execution_count": 40,
   "id": "2de87605",
   "metadata": {
    "scrolled": true
   },
   "outputs": [
    {
     "name": "stdout",
     "output_type": "stream",
     "text": [
      "54/54 [==============================] - 0s 717us/step\n"
     ]
    },
    {
     "data": {
      "image/png": "[encoded data removed]",
      "text/plain": [
       "<Figure size 640x480 with 1 Axes>"
      ]
     },
     "metadata": {},
     "output_type": "display_data"
    }
   ],
   "source": [
    "from sklearn.metrics import roc_curve\n",
    "import matplotlib.pyplot as plt\n",
    "\n",
    "y_pred_proba =model.predict(X_test)\n",
    "fpr, tpr, _ = roc_curve(y_test,  y_pred_proba)\n",
    "auc = roc_auc_score(y_test, y_pred_proba)\n",
    "plt.plot(fpr,tpr,label=\"data 1, auc=\"+str(auc))\n",
    "plt.legend(loc=4)\n",
    "plt.title(\"AUC ROC Curve\")\n",
    "plt.show()"
   ]
  },
  {
   "cell_type": "code",
   "execution_count": 67,
   "id": "5975f89e",
   "metadata": {},
   "outputs": [],
   "source": [
    "fighter1 = \"Nate Diaz\"\n",
    "fighter2 = \"Conor McGregor\""
   ]
  },
  {
   "cell_type": "code",
   "execution_count": 42,
   "id": "322698fb",
   "metadata": {},
   "outputs": [],
   "source": [
    "df_fighters.loc[:,'pct_of_control_fighter'] = df_fighters['CTRL_fighter']/df_fighters['TotalTime']\n",
    "df_fighters.loc[:,'strikes_fighter_f'] = (df_fighters['SIG.STR._landed_fighter']/df_fighters['TotalTime'])*60\n"
   ]
  },
  {
   "cell_type": "code",
   "execution_count": 57,
   "id": "8387a763",
   "metadata": {},
   "outputs": [],
   "source": [
    "df_fighters[['form_skore_fighter','pct_of_control_fighter', 'strikes_fighter_f']] = scaler.fit_transform(df_fighters[['form_skore_fighter','pct_of_control_fighter', 'strikes_fighter_f']])"
   ]
  },
  {
   "cell_type": "code",
   "execution_count": 68,
   "id": "04e2b1e2",
   "metadata": {},
   "outputs": [],
   "source": [
    "f1 = df_fighters.loc[df_fighters[\"FIGHTER\"]==fighter1 ,['form_skore_fighter','pct_of_control_fighter', 'strikes_fighter_f']].values.flatten().tolist()"
   ]
  },
  {
   "cell_type": "code",
   "execution_count": 69,
   "id": "13ff45a1",
   "metadata": {},
   "outputs": [],
   "source": [
    "f2 = df_fighters.loc[df_fighters[\"FIGHTER\"]==fighter2 ,['form_skore_fighter','pct_of_control_fighter', 'strikes_fighter_f']].values.flatten().tolist()"
   ]
  },
  {
   "cell_type": "code",
   "execution_count": 70,
   "id": "634aabc7",
   "metadata": {},
   "outputs": [
    {
     "data": {
      "text/plain": [
       "[0.39875325803342343,\n",
       " -0.45128862367049577,\n",
       " 0.8860974239040257,\n",
       " -0.45686035044738443,\n",
       " -0.5655206746811349,\n",
       " 1.4218252543277097]"
      ]
     },
     "execution_count": 70,
     "metadata": {},
     "output_type": "execute_result"
    }
   ],
   "source": [
    "f1+f2"
   ]
  },
  {
   "cell_type": "code",
   "execution_count": 71,
   "id": "057c0f6e",
   "metadata": {},
   "outputs": [
    {
     "name": "stdout",
     "output_type": "stream",
     "text": [
      "1/1 [==============================] - 0s 45ms/step\n"
     ]
    },
    {
     "data": {
      "text/plain": [
       "0.5540724"
      ]
     },
     "execution_count": 71,
     "metadata": {},
     "output_type": "execute_result"
    }
   ],
   "source": [
    "predikce = model.predict([f1+f2])\n",
    "predikce[0][0]"
   ]
  },
  {
   "cell_type": "code",
   "execution_count": 72,
   "id": "281d546f",
   "metadata": {},
   "outputs": [
    {
     "name": "stdout",
     "output_type": "stream",
     "text": [
      "Nate Diaz: 55.41%  vs Conor McGregor: 44.59\n"
     ]
    }
   ],
   "source": [
    "print(f\"{fighter1}: {round(predikce[0][0]*100,2)}%  vs {fighter2}: {round((1-predikce[0][0])*100,2)}\")"
   ]
  },
  {
   "cell_type": "code",
   "execution_count": 73,
   "id": "3c1d0f82",
   "metadata": {},
   "outputs": [
    {
     "data": {
      "text/plain": [
       "False"
      ]
     },
     "execution_count": 73,
     "metadata": {},
     "output_type": "execute_result"
    }
   ],
   "source": [
    "'McGr' in df_fighters['FIGHTER'].tolist()"
   ]
  },
  {
   "cell_type": "code",
   "execution_count": null,
   "id": "7bc04b75",
   "metadata": {},
   "outputs": [],
   "source": []
  }
 ],
 "metadata": {
  "kernelspec": {
   "display_name": "Python 3 (ipykernel)",
   "language": "python",
   "name": "python3"
  },
  "language_info": {
   "codemirror_mode": {
    "name": "ipython",
    "version": 3
   },
   "file_extension": ".py",
   "mimetype": "text/x-python",
   "name": "python",
   "nbconvert_exporter": "python",
   "pygments_lexer": "ipython3",
   "version": "3.9.13"
  }
 },
 "nbformat": 4,
 "nbformat_minor": 5
}
