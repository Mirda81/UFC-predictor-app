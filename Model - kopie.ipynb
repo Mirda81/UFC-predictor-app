{
 "cells": [
  {
   "cell_type": "code",
   "execution_count": 1,
   "id": "6eda130d",
   "metadata": {},
   "outputs": [],
   "source": [
    "import pandas as pd\n",
    "import numpy as np\n",
    "from sklearn.model_selection import GridSearchCV, train_test_split"
   ]
  },
  {
   "cell_type": "code",
   "execution_count": 2,
   "id": "64504238",
   "metadata": {},
   "outputs": [],
   "source": [
    "from keras.models import Sequential\n",
    "from keras.layers import Dense, Activation, Dropout\n",
    "\n",
    "from keras import layers\n",
    "from sklearn.neural_network import MLPClassifier\n",
    "from sklearn.metrics import accuracy_score, f1_score, auc, roc_curve, roc_auc_score\n",
    "from sklearn.preprocessing import StandardScaler"
   ]
  },
  {
   "cell_type": "code",
   "execution_count": 3,
   "id": "1160a496",
   "metadata": {},
   "outputs": [],
   "source": [
    "df = pd.read_csv('fight_with_stats_precomp.csv')\n",
    "df_fighters = pd.read_csv('fighter_total_stats.csv')"
   ]
  },
  {
   "cell_type": "code",
   "execution_count": 4,
   "id": "cfad8be9",
   "metadata": {},
   "outputs": [],
   "source": [
    "df = df[(df['fightNo_fighter']>=3) & (df['fightNo_opponent']>=3) & (df['Women_fight']==0)]"
   ]
  },
  {
   "cell_type": "code",
   "execution_count": 5,
   "id": "6fbc9051",
   "metadata": {},
   "outputs": [],
   "source": [
    "df = df.fillna(0)\n"
   ]
  },
  {
   "cell_type": "code",
   "execution_count": 6,
   "id": "a380c164",
   "metadata": {},
   "outputs": [
    {
     "data": {
      "text/html": [
       "<div>\n",
       "<style scoped>\n",
       "    .dataframe tbody tr th:only-of-type {\n",
       "        vertical-align: middle;\n",
       "    }\n",
       "\n",
       "    .dataframe tbody tr th {\n",
       "        vertical-align: top;\n",
       "    }\n",
       "\n",
       "    .dataframe thead th {\n",
       "        text-align: right;\n",
       "    }\n",
       "</style>\n",
       "<table border=\"1\" class=\"dataframe\">\n",
       "  <thead>\n",
       "    <tr style=\"text-align: right;\">\n",
       "      <th></th>\n",
       "      <th>EVENT</th>\n",
       "      <th>BOUT</th>\n",
       "      <th>FIGHTER</th>\n",
       "      <th>OPPONENT</th>\n",
       "      <th>METHOD</th>\n",
       "      <th>Win</th>\n",
       "      <th>Women_fight</th>\n",
       "      <th>ROUND</th>\n",
       "      <th>HEIGHT_diff</th>\n",
       "      <th>REACH_diff</th>\n",
       "      <th>...</th>\n",
       "      <th>BODY_landed_opponent</th>\n",
       "      <th>BODY_attemps_opponent</th>\n",
       "      <th>LEG_landed_opponent</th>\n",
       "      <th>LEG_attemps_opponent</th>\n",
       "      <th>DISTANCE_landed_opponent</th>\n",
       "      <th>DISTANCE_attemps_opponent</th>\n",
       "      <th>CLINCH_landed_opponent</th>\n",
       "      <th>CLINCH_attemps_opponent</th>\n",
       "      <th>GROUND_landed_opponent</th>\n",
       "      <th>GROUND_attemps_opponent</th>\n",
       "    </tr>\n",
       "  </thead>\n",
       "  <tbody>\n",
       "    <tr>\n",
       "      <th>24</th>\n",
       "      <td>UFC 2: No Way Out</td>\n",
       "      <td>Royce Gracie vs. Patrick Smith</td>\n",
       "      <td>Patrick Smith</td>\n",
       "      <td>Royce Gracie</td>\n",
       "      <td>KO/TKO - ground</td>\n",
       "      <td>0</td>\n",
       "      <td>0</td>\n",
       "      <td>1</td>\n",
       "      <td>1.0</td>\n",
       "      <td>0.0</td>\n",
       "      <td>...</td>\n",
       "      <td>0.0</td>\n",
       "      <td>0.0</td>\n",
       "      <td>3.0</td>\n",
       "      <td>5.0</td>\n",
       "      <td>5.0</td>\n",
       "      <td>10.0</td>\n",
       "      <td>0.0</td>\n",
       "      <td>0.0</td>\n",
       "      <td>0.0</td>\n",
       "      <td>0.0</td>\n",
       "    </tr>\n",
       "    <tr>\n",
       "      <th>25</th>\n",
       "      <td>UFC 2: No Way Out</td>\n",
       "      <td>Royce Gracie vs. Patrick Smith</td>\n",
       "      <td>Royce Gracie</td>\n",
       "      <td>Patrick Smith</td>\n",
       "      <td>KO/TKO - ground</td>\n",
       "      <td>1</td>\n",
       "      <td>0</td>\n",
       "      <td>1</td>\n",
       "      <td>-1.0</td>\n",
       "      <td>0.0</td>\n",
       "      <td>...</td>\n",
       "      <td>0.0</td>\n",
       "      <td>0.0</td>\n",
       "      <td>0.0</td>\n",
       "      <td>1.0</td>\n",
       "      <td>0.0</td>\n",
       "      <td>2.0</td>\n",
       "      <td>0.0</td>\n",
       "      <td>0.0</td>\n",
       "      <td>3.0</td>\n",
       "      <td>5.0</td>\n",
       "    </tr>\n",
       "    <tr>\n",
       "      <th>26</th>\n",
       "      <td>UFC 2: No Way Out</td>\n",
       "      <td>Royce Gracie vs. Remco Pardoel</td>\n",
       "      <td>Remco Pardoel</td>\n",
       "      <td>Royce Gracie</td>\n",
       "      <td>Submission</td>\n",
       "      <td>0</td>\n",
       "      <td>0</td>\n",
       "      <td>1</td>\n",
       "      <td>2.0</td>\n",
       "      <td>0.0</td>\n",
       "      <td>...</td>\n",
       "      <td>0.0</td>\n",
       "      <td>0.0</td>\n",
       "      <td>1.0</td>\n",
       "      <td>1.0</td>\n",
       "      <td>2.0</td>\n",
       "      <td>3.0</td>\n",
       "      <td>0.0</td>\n",
       "      <td>0.0</td>\n",
       "      <td>0.0</td>\n",
       "      <td>2.0</td>\n",
       "    </tr>\n",
       "    <tr>\n",
       "      <th>27</th>\n",
       "      <td>UFC 2: No Way Out</td>\n",
       "      <td>Royce Gracie vs. Remco Pardoel</td>\n",
       "      <td>Royce Gracie</td>\n",
       "      <td>Remco Pardoel</td>\n",
       "      <td>Submission</td>\n",
       "      <td>1</td>\n",
       "      <td>0</td>\n",
       "      <td>1</td>\n",
       "      <td>-2.0</td>\n",
       "      <td>0.0</td>\n",
       "      <td>...</td>\n",
       "      <td>1.0</td>\n",
       "      <td>2.0</td>\n",
       "      <td>0.0</td>\n",
       "      <td>1.0</td>\n",
       "      <td>0.0</td>\n",
       "      <td>3.0</td>\n",
       "      <td>1.0</td>\n",
       "      <td>1.0</td>\n",
       "      <td>3.0</td>\n",
       "      <td>5.0</td>\n",
       "    </tr>\n",
       "    <tr>\n",
       "      <th>50</th>\n",
       "      <td>UFC 4: Revenge of the Warriors</td>\n",
       "      <td>Royce Gracie vs. Dan Severn</td>\n",
       "      <td>Dan Severn</td>\n",
       "      <td>Royce Gracie</td>\n",
       "      <td>Submission</td>\n",
       "      <td>0</td>\n",
       "      <td>0</td>\n",
       "      <td>1</td>\n",
       "      <td>1.0</td>\n",
       "      <td>0.0</td>\n",
       "      <td>...</td>\n",
       "      <td>3.0</td>\n",
       "      <td>4.0</td>\n",
       "      <td>2.0</td>\n",
       "      <td>3.0</td>\n",
       "      <td>3.0</td>\n",
       "      <td>5.0</td>\n",
       "      <td>3.0</td>\n",
       "      <td>3.0</td>\n",
       "      <td>3.0</td>\n",
       "      <td>3.0</td>\n",
       "    </tr>\n",
       "  </tbody>\n",
       "</table>\n",
       "<p>5 rows × 63 columns</p>\n",
       "</div>"
      ],
      "text/plain": [
       "                             EVENT                            BOUT  \\\n",
       "24               UFC 2: No Way Out  Royce Gracie vs. Patrick Smith   \n",
       "25               UFC 2: No Way Out  Royce Gracie vs. Patrick Smith   \n",
       "26               UFC 2: No Way Out  Royce Gracie vs. Remco Pardoel   \n",
       "27               UFC 2: No Way Out  Royce Gracie vs. Remco Pardoel   \n",
       "50  UFC 4: Revenge of the Warriors     Royce Gracie vs. Dan Severn   \n",
       "\n",
       "          FIGHTER       OPPONENT           METHOD  Win  Women_fight  ROUND  \\\n",
       "24  Patrick Smith   Royce Gracie  KO/TKO - ground    0            0      1   \n",
       "25   Royce Gracie  Patrick Smith  KO/TKO - ground    1            0      1   \n",
       "26  Remco Pardoel   Royce Gracie       Submission    0            0      1   \n",
       "27   Royce Gracie  Remco Pardoel       Submission    1            0      1   \n",
       "50     Dan Severn   Royce Gracie       Submission    0            0      1   \n",
       "\n",
       "    HEIGHT_diff  REACH_diff  ...  BODY_landed_opponent  BODY_attemps_opponent  \\\n",
       "24          1.0         0.0  ...                   0.0                    0.0   \n",
       "25         -1.0         0.0  ...                   0.0                    0.0   \n",
       "26          2.0         0.0  ...                   0.0                    0.0   \n",
       "27         -2.0         0.0  ...                   1.0                    2.0   \n",
       "50          1.0         0.0  ...                   3.0                    4.0   \n",
       "\n",
       "    LEG_landed_opponent  LEG_attemps_opponent  DISTANCE_landed_opponent  \\\n",
       "24                  3.0                   5.0                       5.0   \n",
       "25                  0.0                   1.0                       0.0   \n",
       "26                  1.0                   1.0                       2.0   \n",
       "27                  0.0                   1.0                       0.0   \n",
       "50                  2.0                   3.0                       3.0   \n",
       "\n",
       "    DISTANCE_attemps_opponent  CLINCH_landed_opponent  \\\n",
       "24                       10.0                     0.0   \n",
       "25                        2.0                     0.0   \n",
       "26                        3.0                     0.0   \n",
       "27                        3.0                     1.0   \n",
       "50                        5.0                     3.0   \n",
       "\n",
       "    CLINCH_attemps_opponent  GROUND_landed_opponent  GROUND_attemps_opponent  \n",
       "24                      0.0                     0.0                      0.0  \n",
       "25                      0.0                     3.0                      5.0  \n",
       "26                      0.0                     0.0                      2.0  \n",
       "27                      1.0                     3.0                      5.0  \n",
       "50                      3.0                     3.0                      3.0  \n",
       "\n",
       "[5 rows x 63 columns]"
      ]
     },
     "execution_count": 6,
     "metadata": {},
     "output_type": "execute_result"
    }
   ],
   "source": [
    "df.head()"
   ]
  },
  {
   "cell_type": "code",
   "execution_count": 7,
   "id": "3c83f881",
   "metadata": {},
   "outputs": [
    {
     "data": {
      "text/plain": [
       "(6817, 63)"
      ]
     },
     "execution_count": 7,
     "metadata": {},
     "output_type": "execute_result"
    }
   ],
   "source": [
    "df.shape"
   ]
  },
  {
   "cell_type": "code",
   "execution_count": 8,
   "id": "0b47cc75",
   "metadata": {
    "scrolled": true
   },
   "outputs": [
    {
     "data": {
      "text/plain": [
       "['KD_fighter',\n",
       " 'SUB.ATT_fighter',\n",
       " 'REV._fighter',\n",
       " 'CTRL_fighter',\n",
       " 'SIG.STR._landed_fighter',\n",
       " 'SIG.STR._attemps_fighter',\n",
       " 'TOTAL STR._landed_fighter',\n",
       " 'TOTAL STR._attemps_fighter',\n",
       " 'TD_landed_fighter',\n",
       " 'TD_attemps_fighter',\n",
       " 'HEAD_landed_fighter',\n",
       " 'HEAD_attemps_fighter',\n",
       " 'BODY_landed_fighter',\n",
       " 'BODY_attemps_fighter',\n",
       " 'LEG_landed_fighter',\n",
       " 'LEG_attemps_fighter',\n",
       " 'DISTANCE_landed_fighter',\n",
       " 'DISTANCE_attemps_fighter',\n",
       " 'CLINCH_landed_fighter',\n",
       " 'CLINCH_attemps_fighter',\n",
       " 'GROUND_landed_fighter',\n",
       " 'GROUND_attemps_fighter',\n",
       " 'KD_opponent',\n",
       " 'SUB.ATT_opponent',\n",
       " 'REV._opponent',\n",
       " 'CTRL_opponent',\n",
       " 'SIG.STR._landed_opponent',\n",
       " 'SIG.STR._attemps_opponent',\n",
       " 'TOTAL STR._landed_opponent',\n",
       " 'TOTAL STR._attemps_opponent',\n",
       " 'TD_landed_opponent',\n",
       " 'TD_attemps_opponent',\n",
       " 'HEAD_landed_opponent',\n",
       " 'HEAD_attemps_opponent',\n",
       " 'BODY_landed_opponent',\n",
       " 'BODY_attemps_opponent',\n",
       " 'LEG_landed_opponent',\n",
       " 'LEG_attemps_opponent',\n",
       " 'DISTANCE_landed_opponent',\n",
       " 'DISTANCE_attemps_opponent',\n",
       " 'CLINCH_landed_opponent',\n",
       " 'CLINCH_attemps_opponent',\n",
       " 'GROUND_landed_opponent',\n",
       " 'GROUND_attemps_opponent']"
      ]
     },
     "execution_count": 8,
     "metadata": {},
     "output_type": "execute_result"
    }
   ],
   "source": [
    "df.columns.tolist()[19:]"
   ]
  },
  {
   "cell_type": "code",
   "execution_count": 9,
   "id": "1bf9b2da",
   "metadata": {},
   "outputs": [],
   "source": [
    "df = df.merge(df[['EVENT', 'BOUT', 'FIGHTER']+df.columns.tolist()[18:]] ,how='left', left_on=['EVENT', 'BOUT', 'OPPONENT'], right_on=['EVENT', 'BOUT', 'FIGHTER'], suffixes=('_f1', '_f2'))"
   ]
  },
  {
   "cell_type": "code",
   "execution_count": 10,
   "id": "c8ce78f8",
   "metadata": {},
   "outputs": [
    {
     "name": "stdout",
     "output_type": "stream",
     "text": [
      "<class 'pandas.core.frame.DataFrame'>\n",
      "Int64Index: 6817 entries, 0 to 6816\n",
      "Data columns (total 109 columns):\n",
      " #    Column                          Non-Null Count  Dtype  \n",
      "---   ------                          --------------  -----  \n",
      " 0    EVENT                           6817 non-null   object \n",
      " 1    BOUT                            6817 non-null   object \n",
      " 2    FIGHTER_f1                      6817 non-null   object \n",
      " 3    OPPONENT                        6817 non-null   object \n",
      " 4    METHOD                          6817 non-null   object \n",
      " 5    Win                             6817 non-null   int64  \n",
      " 6    Women_fight                     6817 non-null   int64  \n",
      " 7    ROUND                           6817 non-null   int64  \n",
      " 8    HEIGHT_diff                     6817 non-null   float64\n",
      " 9    REACH_diff                      6817 non-null   float64\n",
      " 10   AGE_diff                        6817 non-null   float64\n",
      " 11   form_skore_fighter              6817 non-null   float64\n",
      " 12   form_skore_opponent             6817 non-null   float64\n",
      " 13   fightNo_fighter                 6817 non-null   int64  \n",
      " 14   fightNo_opponent                6817 non-null   float64\n",
      " 15   Win_tot                         6817 non-null   float64\n",
      " 16   DRAW                            6817 non-null   float64\n",
      " 17   No_contest                      6817 non-null   float64\n",
      " 18   TotalTime_f1                    6817 non-null   float64\n",
      " 19   KD_fighter_f1                   6817 non-null   float64\n",
      " 20   SUB.ATT_fighter_f1              6817 non-null   float64\n",
      " 21   REV._fighter_f1                 6817 non-null   float64\n",
      " 22   CTRL_fighter_f1                 6817 non-null   float64\n",
      " 23   SIG.STR._landed_fighter_f1      6817 non-null   float64\n",
      " 24   SIG.STR._attemps_fighter_f1     6817 non-null   float64\n",
      " 25   TOTAL STR._landed_fighter_f1    6817 non-null   float64\n",
      " 26   TOTAL STR._attemps_fighter_f1   6817 non-null   float64\n",
      " 27   TD_landed_fighter_f1            6817 non-null   float64\n",
      " 28   TD_attemps_fighter_f1           6817 non-null   float64\n",
      " 29   HEAD_landed_fighter_f1          6817 non-null   float64\n",
      " 30   HEAD_attemps_fighter_f1         6817 non-null   float64\n",
      " 31   BODY_landed_fighter_f1          6817 non-null   float64\n",
      " 32   BODY_attemps_fighter_f1         6817 non-null   float64\n",
      " 33   LEG_landed_fighter_f1           6817 non-null   float64\n",
      " 34   LEG_attemps_fighter_f1          6817 non-null   float64\n",
      " 35   DISTANCE_landed_fighter_f1      6817 non-null   float64\n",
      " 36   DISTANCE_attemps_fighter_f1     6817 non-null   float64\n",
      " 37   CLINCH_landed_fighter_f1        6817 non-null   float64\n",
      " 38   CLINCH_attemps_fighter_f1       6817 non-null   float64\n",
      " 39   GROUND_landed_fighter_f1        6817 non-null   float64\n",
      " 40   GROUND_attemps_fighter_f1       6817 non-null   float64\n",
      " 41   KD_opponent_f1                  6817 non-null   float64\n",
      " 42   SUB.ATT_opponent_f1             6817 non-null   float64\n",
      " 43   REV._opponent_f1                6817 non-null   float64\n",
      " 44   CTRL_opponent_f1                6817 non-null   float64\n",
      " 45   SIG.STR._landed_opponent_f1     6817 non-null   float64\n",
      " 46   SIG.STR._attemps_opponent_f1    6817 non-null   float64\n",
      " 47   TOTAL STR._landed_opponent_f1   6817 non-null   float64\n",
      " 48   TOTAL STR._attemps_opponent_f1  6817 non-null   float64\n",
      " 49   TD_landed_opponent_f1           6817 non-null   float64\n",
      " 50   TD_attemps_opponent_f1          6817 non-null   float64\n",
      " 51   HEAD_landed_opponent_f1         6817 non-null   float64\n",
      " 52   HEAD_attemps_opponent_f1        6817 non-null   float64\n",
      " 53   BODY_landed_opponent_f1         6817 non-null   float64\n",
      " 54   BODY_attemps_opponent_f1        6817 non-null   float64\n",
      " 55   LEG_landed_opponent_f1          6817 non-null   float64\n",
      " 56   LEG_attemps_opponent_f1         6817 non-null   float64\n",
      " 57   DISTANCE_landed_opponent_f1     6817 non-null   float64\n",
      " 58   DISTANCE_attemps_opponent_f1    6817 non-null   float64\n",
      " 59   CLINCH_landed_opponent_f1       6817 non-null   float64\n",
      " 60   CLINCH_attemps_opponent_f1      6817 non-null   float64\n",
      " 61   GROUND_landed_opponent_f1       6817 non-null   float64\n",
      " 62   GROUND_attemps_opponent_f1      6817 non-null   float64\n",
      " 63   FIGHTER_f2                      6816 non-null   object \n",
      " 64   TotalTime_f2                    6816 non-null   float64\n",
      " 65   KD_fighter_f2                   6816 non-null   float64\n",
      " 66   SUB.ATT_fighter_f2              6816 non-null   float64\n",
      " 67   REV._fighter_f2                 6816 non-null   float64\n",
      " 68   CTRL_fighter_f2                 6816 non-null   float64\n",
      " 69   SIG.STR._landed_fighter_f2      6816 non-null   float64\n",
      " 70   SIG.STR._attemps_fighter_f2     6816 non-null   float64\n",
      " 71   TOTAL STR._landed_fighter_f2    6816 non-null   float64\n",
      " 72   TOTAL STR._attemps_fighter_f2   6816 non-null   float64\n",
      " 73   TD_landed_fighter_f2            6816 non-null   float64\n",
      " 74   TD_attemps_fighter_f2           6816 non-null   float64\n",
      " 75   HEAD_landed_fighter_f2          6816 non-null   float64\n",
      " 76   HEAD_attemps_fighter_f2         6816 non-null   float64\n",
      " 77   BODY_landed_fighter_f2          6816 non-null   float64\n",
      " 78   BODY_attemps_fighter_f2         6816 non-null   float64\n",
      " 79   LEG_landed_fighter_f2           6816 non-null   float64\n",
      " 80   LEG_attemps_fighter_f2          6816 non-null   float64\n",
      " 81   DISTANCE_landed_fighter_f2      6816 non-null   float64\n",
      " 82   DISTANCE_attemps_fighter_f2     6816 non-null   float64\n",
      " 83   CLINCH_landed_fighter_f2        6816 non-null   float64\n",
      " 84   CLINCH_attemps_fighter_f2       6816 non-null   float64\n",
      " 85   GROUND_landed_fighter_f2        6816 non-null   float64\n",
      " 86   GROUND_attemps_fighter_f2       6816 non-null   float64\n",
      " 87   KD_opponent_f2                  6816 non-null   float64\n",
      " 88   SUB.ATT_opponent_f2             6816 non-null   float64\n",
      " 89   REV._opponent_f2                6816 non-null   float64\n",
      " 90   CTRL_opponent_f2                6816 non-null   float64\n",
      " 91   SIG.STR._landed_opponent_f2     6816 non-null   float64\n",
      " 92   SIG.STR._attemps_opponent_f2    6816 non-null   float64\n",
      " 93   TOTAL STR._landed_opponent_f2   6816 non-null   float64\n",
      " 94   TOTAL STR._attemps_opponent_f2  6816 non-null   float64\n",
      " 95   TD_landed_opponent_f2           6816 non-null   float64\n",
      " 96   TD_attemps_opponent_f2          6816 non-null   float64\n",
      " 97   HEAD_landed_opponent_f2         6816 non-null   float64\n",
      " 98   HEAD_attemps_opponent_f2        6816 non-null   float64\n",
      " 99   BODY_landed_opponent_f2         6816 non-null   float64\n",
      " 100  BODY_attemps_opponent_f2        6816 non-null   float64\n",
      " 101  LEG_landed_opponent_f2          6816 non-null   float64\n",
      " 102  LEG_attemps_opponent_f2         6816 non-null   float64\n",
      " 103  DISTANCE_landed_opponent_f2     6816 non-null   float64\n",
      " 104  DISTANCE_attemps_opponent_f2    6816 non-null   float64\n",
      " 105  CLINCH_landed_opponent_f2       6816 non-null   float64\n",
      " 106  CLINCH_attemps_opponent_f2      6816 non-null   float64\n",
      " 107  GROUND_landed_opponent_f2       6816 non-null   float64\n",
      " 108  GROUND_attemps_opponent_f2      6816 non-null   float64\n",
      "dtypes: float64(99), int64(4), object(6)\n",
      "memory usage: 5.7+ MB\n"
     ]
    }
   ],
   "source": [
    "df.info(verbose=True, show_counts=True)"
   ]
  },
  {
   "cell_type": "code",
   "execution_count": 11,
   "id": "e911a19b",
   "metadata": {},
   "outputs": [],
   "source": [
    "df = df.drop('FIGHTER_f2',axis=1)"
   ]
  },
  {
   "cell_type": "code",
   "execution_count": 12,
   "id": "1458353b",
   "metadata": {},
   "outputs": [
    {
     "data": {
      "text/plain": [
       "['LEG', 'attemps', 'fighter', 'f1']"
      ]
     },
     "execution_count": 12,
     "metadata": {},
     "output_type": "execute_result"
    }
   ],
   "source": [
    "'LEG_attemps_fighter_f1'.split('_')"
   ]
  },
  {
   "cell_type": "code",
   "execution_count": 13,
   "id": "6ec0d15a",
   "metadata": {},
   "outputs": [],
   "source": [
    "sloupce = df.columns.tolist()[19:]\n",
    "\n",
    "for sloupec in sloupce:    \n",
    "    splited = sloupec.split('_')\n",
    "    if 'CTRL' in splited:\n",
    "        df.loc[:,splited[0]+'_pct_'+splited[1]+splited[2]] = df[sloupec]/df['TotalTime'+'_'+splited[2]]\n",
    "    if 'attemps' in splited:\n",
    "        df.loc[:,splited[0]+'_acc_'+ splited[2] + splited[3]] = df[sloupec.replace('attemps', 'landed')]/df[sloupec]\n",
    "        df.loc[:,splited[0]+'_perRound_'+ splited[2] + splited[3]] = (df[sloupec.replace('attemps', 'landed')]/df['TotalTime'+'_'+splited[3]])*300\n",
    "        \n",
    "    "
   ]
  },
  {
   "cell_type": "code",
   "execution_count": 14,
   "id": "4e6956bf",
   "metadata": {},
   "outputs": [],
   "source": [
    "df = df.drop(sloupce, axis=1)"
   ]
  },
  {
   "cell_type": "code",
   "execution_count": 15,
   "id": "eefa5d15",
   "metadata": {},
   "outputs": [],
   "source": [
    "df_model = df.drop(['EVENT','BOUT','FIGHTER_f1','OPPONENT','METHOD','Women_fight','ROUND','TotalTime_f1'],axis=1)"
   ]
  },
  {
   "cell_type": "code",
   "execution_count": 16,
   "id": "9b03af1f",
   "metadata": {},
   "outputs": [
    {
     "name": "stdout",
     "output_type": "stream",
     "text": [
      "<class 'pandas.core.frame.DataFrame'>\n",
      "Int64Index: 6817 entries, 0 to 6816\n",
      "Data columns (total 87 columns):\n",
      " #   Column                          Non-Null Count  Dtype  \n",
      "---  ------                          --------------  -----  \n",
      " 0   Win                             6817 non-null   int64  \n",
      " 1   HEIGHT_diff                     6817 non-null   float64\n",
      " 2   REACH_diff                      6817 non-null   float64\n",
      " 3   AGE_diff                        6817 non-null   float64\n",
      " 4   form_skore_fighter              6817 non-null   float64\n",
      " 5   form_skore_opponent             6817 non-null   float64\n",
      " 6   fightNo_fighter                 6817 non-null   int64  \n",
      " 7   fightNo_opponent                6817 non-null   float64\n",
      " 8   Win_tot                         6817 non-null   float64\n",
      " 9   DRAW                            6817 non-null   float64\n",
      " 10  No_contest                      6817 non-null   float64\n",
      " 11  CTRL_pct_fighterf1              6817 non-null   float64\n",
      " 12  SIG.STR._acc_fighterf1          6817 non-null   float64\n",
      " 13  SIG.STR._perRound_fighterf1     6817 non-null   float64\n",
      " 14  TOTAL STR._acc_fighterf1        6817 non-null   float64\n",
      " 15  TOTAL STR._perRound_fighterf1   6817 non-null   float64\n",
      " 16  TD_acc_fighterf1                6817 non-null   float64\n",
      " 17  TD_perRound_fighterf1           6817 non-null   float64\n",
      " 18  HEAD_acc_fighterf1              6817 non-null   float64\n",
      " 19  HEAD_perRound_fighterf1         6817 non-null   float64\n",
      " 20  BODY_acc_fighterf1              6817 non-null   float64\n",
      " 21  BODY_perRound_fighterf1         6817 non-null   float64\n",
      " 22  LEG_acc_fighterf1               6817 non-null   float64\n",
      " 23  LEG_perRound_fighterf1          6817 non-null   float64\n",
      " 24  DISTANCE_acc_fighterf1          6817 non-null   float64\n",
      " 25  DISTANCE_perRound_fighterf1     6817 non-null   float64\n",
      " 26  CLINCH_acc_fighterf1            6817 non-null   float64\n",
      " 27  CLINCH_perRound_fighterf1       6817 non-null   float64\n",
      " 28  GROUND_acc_fighterf1            6817 non-null   float64\n",
      " 29  GROUND_perRound_fighterf1       6817 non-null   float64\n",
      " 30  CTRL_pct_opponentf1             6817 non-null   float64\n",
      " 31  SIG.STR._acc_opponentf1         6817 non-null   float64\n",
      " 32  SIG.STR._perRound_opponentf1    6817 non-null   float64\n",
      " 33  TOTAL STR._acc_opponentf1       6817 non-null   float64\n",
      " 34  TOTAL STR._perRound_opponentf1  6817 non-null   float64\n",
      " 35  TD_acc_opponentf1               6817 non-null   float64\n",
      " 36  TD_perRound_opponentf1          6817 non-null   float64\n",
      " 37  HEAD_acc_opponentf1             6817 non-null   float64\n",
      " 38  HEAD_perRound_opponentf1        6817 non-null   float64\n",
      " 39  BODY_acc_opponentf1             6817 non-null   float64\n",
      " 40  BODY_perRound_opponentf1        6817 non-null   float64\n",
      " 41  LEG_acc_opponentf1              6817 non-null   float64\n",
      " 42  LEG_perRound_opponentf1         6817 non-null   float64\n",
      " 43  DISTANCE_acc_opponentf1         6817 non-null   float64\n",
      " 44  DISTANCE_perRound_opponentf1    6817 non-null   float64\n",
      " 45  CLINCH_acc_opponentf1           6817 non-null   float64\n",
      " 46  CLINCH_perRound_opponentf1      6817 non-null   float64\n",
      " 47  GROUND_acc_opponentf1           6817 non-null   float64\n",
      " 48  GROUND_perRound_opponentf1      6817 non-null   float64\n",
      " 49  CTRL_pct_fighterf2              6817 non-null   float64\n",
      " 50  SIG.STR._acc_fighterf2          6817 non-null   float64\n",
      " 51  SIG.STR._perRound_fighterf2     6817 non-null   float64\n",
      " 52  TOTAL STR._acc_fighterf2        6817 non-null   float64\n",
      " 53  TOTAL STR._perRound_fighterf2   6817 non-null   float64\n",
      " 54  TD_acc_fighterf2                6817 non-null   float64\n",
      " 55  TD_perRound_fighterf2           6817 non-null   float64\n",
      " 56  HEAD_acc_fighterf2              6817 non-null   float64\n",
      " 57  HEAD_perRound_fighterf2         6817 non-null   float64\n",
      " 58  BODY_acc_fighterf2              6817 non-null   float64\n",
      " 59  BODY_perRound_fighterf2         6817 non-null   float64\n",
      " 60  LEG_acc_fighterf2               6817 non-null   float64\n",
      " 61  LEG_perRound_fighterf2          6817 non-null   float64\n",
      " 62  DISTANCE_acc_fighterf2          6817 non-null   float64\n",
      " 63  DISTANCE_perRound_fighterf2     6817 non-null   float64\n",
      " 64  CLINCH_acc_fighterf2            6817 non-null   float64\n",
      " 65  CLINCH_perRound_fighterf2       6817 non-null   float64\n",
      " 66  GROUND_acc_fighterf2            6817 non-null   float64\n",
      " 67  GROUND_perRound_fighterf2       6817 non-null   float64\n",
      " 68  CTRL_pct_opponentf2             6817 non-null   float64\n",
      " 69  SIG.STR._acc_opponentf2         6817 non-null   float64\n",
      " 70  SIG.STR._perRound_opponentf2    6817 non-null   float64\n",
      " 71  TOTAL STR._acc_opponentf2       6817 non-null   float64\n",
      " 72  TOTAL STR._perRound_opponentf2  6817 non-null   float64\n",
      " 73  TD_acc_opponentf2               6817 non-null   float64\n",
      " 74  TD_perRound_opponentf2          6817 non-null   float64\n",
      " 75  HEAD_acc_opponentf2             6817 non-null   float64\n",
      " 76  HEAD_perRound_opponentf2        6817 non-null   float64\n",
      " 77  BODY_acc_opponentf2             6817 non-null   float64\n",
      " 78  BODY_perRound_opponentf2        6817 non-null   float64\n",
      " 79  LEG_acc_opponentf2              6817 non-null   float64\n",
      " 80  LEG_perRound_opponentf2         6817 non-null   float64\n",
      " 81  DISTANCE_acc_opponentf2         6817 non-null   float64\n",
      " 82  DISTANCE_perRound_opponentf2    6817 non-null   float64\n",
      " 83  CLINCH_acc_opponentf2           6817 non-null   float64\n",
      " 84  CLINCH_perRound_opponentf2      6817 non-null   float64\n",
      " 85  GROUND_acc_opponentf2           6817 non-null   float64\n",
      " 86  GROUND_perRound_opponentf2      6817 non-null   float64\n",
      "dtypes: float64(85), int64(2)\n",
      "memory usage: 4.6 MB\n"
     ]
    }
   ],
   "source": [
    "df_model = df_model.fillna(0)\n",
    "df_model.info()"
   ]
  },
  {
   "cell_type": "code",
   "execution_count": 17,
   "id": "a3834de4",
   "metadata": {},
   "outputs": [],
   "source": [
    "X=df_model.loc[:, ~df_model.columns.isin(['Win'])]\n",
    "y=df_model.loc[:,'Win']"
   ]
  },
  {
   "cell_type": "code",
   "execution_count": 18,
   "id": "47676207",
   "metadata": {},
   "outputs": [],
   "source": [
    "scaler = StandardScaler()\n",
    "X_scaled = scaler.fit_transform(X)"
   ]
  },
  {
   "cell_type": "code",
   "execution_count": 19,
   "id": "febc1098",
   "metadata": {},
   "outputs": [
    {
     "data": {
      "text/plain": [
       "0       0\n",
       "1       1\n",
       "2       0\n",
       "3       1\n",
       "4       0\n",
       "       ..\n",
       "6812    0\n",
       "6813    1\n",
       "6814    0\n",
       "6815    0\n",
       "6816    1\n",
       "Name: Win, Length: 6817, dtype: int64"
      ]
     },
     "execution_count": 19,
     "metadata": {},
     "output_type": "execute_result"
    }
   ],
   "source": [
    "y"
   ]
  },
  {
   "cell_type": "code",
   "execution_count": 20,
   "id": "a06141ba",
   "metadata": {},
   "outputs": [],
   "source": [
    "X_train = X_scaled[:1000,:]\n",
    "X_test= X_scaled[1000:,:]\n",
    "y_train = y[:1000]\n",
    "y_test = y[1000:]"
   ]
  },
  {
   "cell_type": "code",
   "execution_count": 21,
   "id": "8c917231",
   "metadata": {},
   "outputs": [],
   "source": [
    "X_train, X_test, y_train, y_test = train_test_split(X_scaled, y, random_state = 0)"
   ]
  },
  {
   "cell_type": "code",
   "execution_count": 22,
   "id": "03d469b2",
   "metadata": {},
   "outputs": [
    {
     "data": {
      "text/plain": [
       "(6817, 86)"
      ]
     },
     "execution_count": 22,
     "metadata": {},
     "output_type": "execute_result"
    }
   ],
   "source": [
    "X.shape"
   ]
  },
  {
   "cell_type": "code",
   "execution_count": 23,
   "id": "982e16f1",
   "metadata": {},
   "outputs": [
    {
     "data": {
      "text/plain": [
       "(5112,)"
      ]
     },
     "execution_count": 23,
     "metadata": {},
     "output_type": "execute_result"
    }
   ],
   "source": [
    "y_train.shape"
   ]
  },
  {
   "cell_type": "code",
   "execution_count": 24,
   "id": "c700838d",
   "metadata": {},
   "outputs": [
    {
     "name": "stdout",
     "output_type": "stream",
     "text": [
      "0.5888563049853373 0.5888563049853373\n"
     ]
    }
   ],
   "source": [
    "from sklearn.linear_model import LogisticRegression\n",
    "logreg=LogisticRegression(multi_class='ovr', max_iter=50000)\n",
    "logreg.fit(X_train,y_train)\n",
    "predictions = logreg.predict(X_test)\n",
    "acc = accuracy_score(y_test, predictions) \n",
    "f1 = f1_score(y_test, predictions,average='micro')\n",
    "print(f1, acc)"
   ]
  },
  {
   "cell_type": "code",
   "execution_count": 26,
   "id": "ee8538cd",
   "metadata": {},
   "outputs": [],
   "source": [
    "class_neur = MLPClassifier(random_state=1, max_iter=100)"
   ]
  },
  {
   "cell_type": "code",
   "execution_count": 27,
   "id": "2821fed3",
   "metadata": {},
   "outputs": [
    {
     "name": "stderr",
     "output_type": "stream",
     "text": [
      "D:\\anacinda\\lib\\site-packages\\keras\\optimizers\\optimizer_v2\\gradient_descent.py:114: UserWarning: The `lr` argument is deprecated, use `learning_rate` instead.\n",
      "  super().__init__(name, **kwargs)\n"
     ]
    }
   ],
   "source": [
    "from keras.optimizers import SGD\n",
    "\n",
    "opt = SGD(lr=0.01)"
   ]
  },
  {
   "cell_type": "code",
   "execution_count": 32,
   "id": "65b2955f",
   "metadata": {},
   "outputs": [],
   "source": [
    "model = Sequential()\n",
    "model.add(layers.Dense(100, activation='relu', input_dim=X_train.shape[1]))\n",
    "model.add(Dropout(0.4))\n",
    "model.add(layers.Dense(1, activation='sigmoid'))\n",
    "model.compile(optimizer = \"adam\",\n",
    "                loss='binary_crossentropy',\n",
    "                metrics=['accuracy'])  "
   ]
  },
  {
   "cell_type": "code",
   "execution_count": 33,
   "id": "481dcd60",
   "metadata": {},
   "outputs": [
    {
     "name": "stdout",
     "output_type": "stream",
     "text": [
      "Epoch 1/100\n",
      "160/160 [==============================] - 1s 2ms/step - loss: 0.7564 - accuracy: 0.5473 - val_loss: 0.6949 - val_accuracy: 0.5701\n",
      "Epoch 2/100\n",
      "160/160 [==============================] - 0s 1ms/step - loss: 0.6875 - accuracy: 0.5808 - val_loss: 0.6849 - val_accuracy: 0.5871\n",
      "Epoch 3/100\n",
      "160/160 [==============================] - 0s 1ms/step - loss: 0.6682 - accuracy: 0.6054 - val_loss: 0.6828 - val_accuracy: 0.5848\n",
      "Epoch 4/100\n",
      "160/160 [==============================] - 0s 1ms/step - loss: 0.6527 - accuracy: 0.6174 - val_loss: 0.6831 - val_accuracy: 0.5801\n",
      "Epoch 5/100\n",
      "160/160 [==============================] - 0s 1ms/step - loss: 0.6514 - accuracy: 0.6160 - val_loss: 0.6854 - val_accuracy: 0.5765\n",
      "Epoch 6/100\n",
      "160/160 [==============================] - 0s 2ms/step - loss: 0.6412 - accuracy: 0.6350 - val_loss: 0.6809 - val_accuracy: 0.5736\n",
      "Epoch 7/100\n",
      "160/160 [==============================] - 0s 1ms/step - loss: 0.6294 - accuracy: 0.6438 - val_loss: 0.6821 - val_accuracy: 0.5842\n",
      "Epoch 8/100\n",
      "160/160 [==============================] - 0s 1ms/step - loss: 0.6294 - accuracy: 0.6428 - val_loss: 0.6827 - val_accuracy: 0.5947\n",
      "Epoch 9/100\n",
      "160/160 [==============================] - 0s 1ms/step - loss: 0.6283 - accuracy: 0.6397 - val_loss: 0.6861 - val_accuracy: 0.5912\n",
      "Epoch 10/100\n",
      "160/160 [==============================] - 0s 1ms/step - loss: 0.6214 - accuracy: 0.6495 - val_loss: 0.6864 - val_accuracy: 0.5836\n",
      "Epoch 11/100\n",
      "160/160 [==============================] - 0s 1ms/step - loss: 0.6152 - accuracy: 0.6602 - val_loss: 0.6877 - val_accuracy: 0.5889\n",
      "Epoch 12/100\n",
      "160/160 [==============================] - 0s 1ms/step - loss: 0.6111 - accuracy: 0.6649 - val_loss: 0.6873 - val_accuracy: 0.5883\n",
      "Epoch 13/100\n",
      "160/160 [==============================] - 0s 1ms/step - loss: 0.6103 - accuracy: 0.6673 - val_loss: 0.6882 - val_accuracy: 0.5760\n",
      "Epoch 14/100\n",
      "160/160 [==============================] - 0s 1ms/step - loss: 0.6119 - accuracy: 0.6696 - val_loss: 0.6959 - val_accuracy: 0.5865\n",
      "Epoch 15/100\n",
      "160/160 [==============================] - 0s 2ms/step - loss: 0.6057 - accuracy: 0.6712 - val_loss: 0.6981 - val_accuracy: 0.5836\n",
      "Epoch 16/100\n",
      "160/160 [==============================] - 0s 1ms/step - loss: 0.6033 - accuracy: 0.6716 - val_loss: 0.6921 - val_accuracy: 0.5836\n",
      "Epoch 17/100\n",
      "160/160 [==============================] - 0s 1ms/step - loss: 0.5956 - accuracy: 0.6776 - val_loss: 0.6996 - val_accuracy: 0.5853\n",
      "Epoch 18/100\n",
      "160/160 [==============================] - 0s 1ms/step - loss: 0.5965 - accuracy: 0.6792 - val_loss: 0.7008 - val_accuracy: 0.5795\n",
      "Epoch 19/100\n",
      "160/160 [==============================] - 0s 1ms/step - loss: 0.5907 - accuracy: 0.6845 - val_loss: 0.7038 - val_accuracy: 0.5736\n",
      "Epoch 20/100\n",
      "160/160 [==============================] - 0s 2ms/step - loss: 0.5956 - accuracy: 0.6829 - val_loss: 0.7011 - val_accuracy: 0.5889\n",
      "Epoch 21/100\n",
      "160/160 [==============================] - 0s 1ms/step - loss: 0.5946 - accuracy: 0.6772 - val_loss: 0.7060 - val_accuracy: 0.5824\n",
      "Epoch 22/100\n",
      "160/160 [==============================] - 0s 1ms/step - loss: 0.5881 - accuracy: 0.6851 - val_loss: 0.7060 - val_accuracy: 0.5824\n",
      "Epoch 23/100\n",
      "160/160 [==============================] - 0s 1ms/step - loss: 0.5822 - accuracy: 0.6915 - val_loss: 0.7041 - val_accuracy: 0.5818\n",
      "Epoch 24/100\n",
      "160/160 [==============================] - 0s 1ms/step - loss: 0.5802 - accuracy: 0.6942 - val_loss: 0.7081 - val_accuracy: 0.5754\n",
      "Epoch 25/100\n",
      "160/160 [==============================] - 0s 1ms/step - loss: 0.5767 - accuracy: 0.6909 - val_loss: 0.7139 - val_accuracy: 0.5812\n",
      "Epoch 26/100\n",
      "160/160 [==============================] - 0s 1ms/step - loss: 0.5776 - accuracy: 0.6880 - val_loss: 0.7141 - val_accuracy: 0.5760\n",
      "Epoch 27/100\n",
      "160/160 [==============================] - 0s 1ms/step - loss: 0.5795 - accuracy: 0.6925 - val_loss: 0.7115 - val_accuracy: 0.5824\n",
      "Epoch 28/100\n",
      "160/160 [==============================] - 0s 1ms/step - loss: 0.5675 - accuracy: 0.7036 - val_loss: 0.7144 - val_accuracy: 0.5795\n",
      "Epoch 29/100\n",
      "160/160 [==============================] - 0s 1ms/step - loss: 0.5635 - accuracy: 0.7103 - val_loss: 0.7262 - val_accuracy: 0.5701\n",
      "Epoch 30/100\n",
      "160/160 [==============================] - 0s 1ms/step - loss: 0.5700 - accuracy: 0.6976 - val_loss: 0.7150 - val_accuracy: 0.5713\n",
      "Epoch 31/100\n",
      "160/160 [==============================] - 0s 1ms/step - loss: 0.5681 - accuracy: 0.6948 - val_loss: 0.7220 - val_accuracy: 0.5754\n",
      "Epoch 32/100\n",
      "160/160 [==============================] - 0s 2ms/step - loss: 0.5551 - accuracy: 0.7148 - val_loss: 0.7266 - val_accuracy: 0.5695\n",
      "Epoch 33/100\n",
      "160/160 [==============================] - 0s 1ms/step - loss: 0.5605 - accuracy: 0.7070 - val_loss: 0.7258 - val_accuracy: 0.5695\n",
      "Epoch 34/100\n",
      "160/160 [==============================] - 0s 1ms/step - loss: 0.5557 - accuracy: 0.7074 - val_loss: 0.7263 - val_accuracy: 0.5718\n",
      "Epoch 35/100\n",
      "160/160 [==============================] - 0s 1ms/step - loss: 0.5589 - accuracy: 0.7097 - val_loss: 0.7303 - val_accuracy: 0.5666\n",
      "Epoch 36/100\n",
      "160/160 [==============================] - 0s 1ms/step - loss: 0.5558 - accuracy: 0.7093 - val_loss: 0.7311 - val_accuracy: 0.5695\n",
      "Epoch 37/100\n",
      "160/160 [==============================] - 0s 1ms/step - loss: 0.5558 - accuracy: 0.7148 - val_loss: 0.7427 - val_accuracy: 0.5677\n",
      "Epoch 38/100\n",
      "160/160 [==============================] - 0s 1ms/step - loss: 0.5503 - accuracy: 0.7122 - val_loss: 0.7379 - val_accuracy: 0.5689\n",
      "Epoch 39/100\n",
      "160/160 [==============================] - 0s 2ms/step - loss: 0.5484 - accuracy: 0.7162 - val_loss: 0.7454 - val_accuracy: 0.5660\n",
      "Epoch 40/100\n",
      "160/160 [==============================] - 0s 2ms/step - loss: 0.5450 - accuracy: 0.7164 - val_loss: 0.7437 - val_accuracy: 0.5848\n",
      "Epoch 41/100\n",
      "160/160 [==============================] - 0s 2ms/step - loss: 0.5467 - accuracy: 0.7160 - val_loss: 0.7533 - val_accuracy: 0.5689\n",
      "Epoch 42/100\n",
      "160/160 [==============================] - 0s 2ms/step - loss: 0.5439 - accuracy: 0.7246 - val_loss: 0.7489 - val_accuracy: 0.5648\n",
      "Epoch 43/100\n",
      "160/160 [==============================] - 0s 2ms/step - loss: 0.5386 - accuracy: 0.7297 - val_loss: 0.7553 - val_accuracy: 0.5683\n",
      "Epoch 44/100\n",
      "160/160 [==============================] - 0s 2ms/step - loss: 0.5356 - accuracy: 0.7299 - val_loss: 0.7547 - val_accuracy: 0.5607\n",
      "Epoch 45/100\n",
      "160/160 [==============================] - 0s 2ms/step - loss: 0.5330 - accuracy: 0.7281 - val_loss: 0.7552 - val_accuracy: 0.5648\n",
      "Epoch 46/100\n",
      "160/160 [==============================] - 0s 2ms/step - loss: 0.5317 - accuracy: 0.7242 - val_loss: 0.7532 - val_accuracy: 0.5695\n",
      "Epoch 47/100\n",
      "160/160 [==============================] - 0s 1ms/step - loss: 0.5381 - accuracy: 0.7254 - val_loss: 0.7651 - val_accuracy: 0.5689\n",
      "Epoch 48/100\n",
      "160/160 [==============================] - 0s 1ms/step - loss: 0.5329 - accuracy: 0.7281 - val_loss: 0.7587 - val_accuracy: 0.5636\n",
      "Epoch 49/100\n",
      "160/160 [==============================] - 0s 1ms/step - loss: 0.5323 - accuracy: 0.7248 - val_loss: 0.7686 - val_accuracy: 0.5666\n",
      "Epoch 50/100\n",
      "160/160 [==============================] - 0s 1ms/step - loss: 0.5303 - accuracy: 0.7299 - val_loss: 0.7663 - val_accuracy: 0.5560\n",
      "Epoch 51/100\n",
      "160/160 [==============================] - 0s 1ms/step - loss: 0.5278 - accuracy: 0.7349 - val_loss: 0.7629 - val_accuracy: 0.5589\n",
      "Epoch 52/100\n",
      "160/160 [==============================] - 0s 1ms/step - loss: 0.5332 - accuracy: 0.7295 - val_loss: 0.7668 - val_accuracy: 0.5607\n",
      "Epoch 53/100\n",
      "160/160 [==============================] - 0s 1ms/step - loss: 0.5265 - accuracy: 0.7300 - val_loss: 0.7703 - val_accuracy: 0.5554\n",
      "Epoch 54/100\n",
      "160/160 [==============================] - 0s 1ms/step - loss: 0.5228 - accuracy: 0.7373 - val_loss: 0.7792 - val_accuracy: 0.5654\n",
      "Epoch 55/100\n",
      "160/160 [==============================] - 0s 1ms/step - loss: 0.5165 - accuracy: 0.7426 - val_loss: 0.7859 - val_accuracy: 0.5683\n",
      "Epoch 56/100\n",
      "160/160 [==============================] - 0s 2ms/step - loss: 0.5208 - accuracy: 0.7353 - val_loss: 0.7755 - val_accuracy: 0.5630\n",
      "Epoch 57/100\n",
      "160/160 [==============================] - 0s 1ms/step - loss: 0.5177 - accuracy: 0.7445 - val_loss: 0.7750 - val_accuracy: 0.5660\n"
     ]
    },
    {
     "name": "stdout",
     "output_type": "stream",
     "text": [
      "Epoch 58/100\n",
      "160/160 [==============================] - 0s 1ms/step - loss: 0.5151 - accuracy: 0.7428 - val_loss: 0.7830 - val_accuracy: 0.5589\n",
      "Epoch 59/100\n",
      "160/160 [==============================] - 0s 1ms/step - loss: 0.5128 - accuracy: 0.7473 - val_loss: 0.7831 - val_accuracy: 0.5607\n",
      "Epoch 60/100\n",
      "160/160 [==============================] - 0s 1ms/step - loss: 0.5101 - accuracy: 0.7478 - val_loss: 0.7862 - val_accuracy: 0.5636\n",
      "Epoch 61/100\n",
      "160/160 [==============================] - 0s 2ms/step - loss: 0.5102 - accuracy: 0.7435 - val_loss: 0.7841 - val_accuracy: 0.5607\n",
      "Epoch 62/100\n",
      "160/160 [==============================] - 0s 1ms/step - loss: 0.5085 - accuracy: 0.7394 - val_loss: 0.7898 - val_accuracy: 0.5672\n",
      "Epoch 63/100\n",
      "160/160 [==============================] - 0s 1ms/step - loss: 0.5044 - accuracy: 0.7488 - val_loss: 0.7848 - val_accuracy: 0.5513\n",
      "Epoch 64/100\n",
      "160/160 [==============================] - 0s 1ms/step - loss: 0.5173 - accuracy: 0.7449 - val_loss: 0.7964 - val_accuracy: 0.5648\n",
      "Epoch 65/100\n",
      "160/160 [==============================] - 0s 1ms/step - loss: 0.5086 - accuracy: 0.7424 - val_loss: 0.7981 - val_accuracy: 0.5501\n",
      "Epoch 66/100\n",
      "160/160 [==============================] - 0s 1ms/step - loss: 0.5016 - accuracy: 0.7523 - val_loss: 0.7954 - val_accuracy: 0.5543\n",
      "Epoch 67/100\n",
      "160/160 [==============================] - 0s 1ms/step - loss: 0.4997 - accuracy: 0.7490 - val_loss: 0.8063 - val_accuracy: 0.5572\n",
      "Epoch 68/100\n",
      "160/160 [==============================] - 0s 1ms/step - loss: 0.4971 - accuracy: 0.7516 - val_loss: 0.8032 - val_accuracy: 0.5713\n",
      "Epoch 69/100\n",
      "160/160 [==============================] - 0s 1ms/step - loss: 0.5022 - accuracy: 0.7549 - val_loss: 0.8046 - val_accuracy: 0.5595\n",
      "Epoch 70/100\n",
      "160/160 [==============================] - 0s 1ms/step - loss: 0.5004 - accuracy: 0.7494 - val_loss: 0.7987 - val_accuracy: 0.5537\n",
      "Epoch 71/100\n",
      "160/160 [==============================] - 0s 1ms/step - loss: 0.4984 - accuracy: 0.7572 - val_loss: 0.8096 - val_accuracy: 0.5595\n",
      "Epoch 72/100\n",
      "160/160 [==============================] - 0s 1ms/step - loss: 0.4969 - accuracy: 0.7574 - val_loss: 0.8028 - val_accuracy: 0.5548\n",
      "Epoch 73/100\n",
      "160/160 [==============================] - 0s 1ms/step - loss: 0.4941 - accuracy: 0.7604 - val_loss: 0.8027 - val_accuracy: 0.5537\n",
      "Epoch 74/100\n",
      "160/160 [==============================] - 0s 1ms/step - loss: 0.4962 - accuracy: 0.7612 - val_loss: 0.8056 - val_accuracy: 0.5601\n",
      "Epoch 75/100\n",
      "160/160 [==============================] - 0s 1ms/step - loss: 0.4901 - accuracy: 0.7615 - val_loss: 0.8145 - val_accuracy: 0.5578\n",
      "Epoch 76/100\n",
      "160/160 [==============================] - 0s 1ms/step - loss: 0.4980 - accuracy: 0.7477 - val_loss: 0.8158 - val_accuracy: 0.5554\n",
      "Epoch 77/100\n",
      "160/160 [==============================] - 0s 1ms/step - loss: 0.4789 - accuracy: 0.7705 - val_loss: 0.8170 - val_accuracy: 0.5478\n",
      "Epoch 78/100\n",
      "160/160 [==============================] - 0s 1ms/step - loss: 0.4855 - accuracy: 0.7613 - val_loss: 0.8125 - val_accuracy: 0.5595\n",
      "Epoch 79/100\n",
      "160/160 [==============================] - 0s 1ms/step - loss: 0.4907 - accuracy: 0.7572 - val_loss: 0.8153 - val_accuracy: 0.5625\n",
      "Epoch 80/100\n",
      "160/160 [==============================] - 0s 1ms/step - loss: 0.4917 - accuracy: 0.7572 - val_loss: 0.8212 - val_accuracy: 0.5466\n",
      "Epoch 81/100\n",
      "160/160 [==============================] - 0s 1ms/step - loss: 0.4815 - accuracy: 0.7639 - val_loss: 0.8271 - val_accuracy: 0.5589\n",
      "Epoch 82/100\n",
      "160/160 [==============================] - 0s 1ms/step - loss: 0.4833 - accuracy: 0.7662 - val_loss: 0.8337 - val_accuracy: 0.5525\n",
      "Epoch 83/100\n",
      "160/160 [==============================] - 0s 1ms/step - loss: 0.4880 - accuracy: 0.7602 - val_loss: 0.8341 - val_accuracy: 0.5413\n",
      "Epoch 84/100\n",
      "160/160 [==============================] - 0s 1ms/step - loss: 0.4933 - accuracy: 0.7572 - val_loss: 0.8377 - val_accuracy: 0.5513\n",
      "Epoch 85/100\n",
      "160/160 [==============================] - 0s 1ms/step - loss: 0.4902 - accuracy: 0.7612 - val_loss: 0.8382 - val_accuracy: 0.5525\n",
      "Epoch 86/100\n",
      "160/160 [==============================] - 0s 1ms/step - loss: 0.4776 - accuracy: 0.7612 - val_loss: 0.8267 - val_accuracy: 0.5507\n",
      "Epoch 87/100\n",
      "160/160 [==============================] - 0s 1ms/step - loss: 0.4748 - accuracy: 0.7760 - val_loss: 0.8296 - val_accuracy: 0.5496\n",
      "Epoch 88/100\n",
      "160/160 [==============================] - 0s 2ms/step - loss: 0.4775 - accuracy: 0.7658 - val_loss: 0.8321 - val_accuracy: 0.5543\n",
      "Epoch 89/100\n",
      "160/160 [==============================] - 0s 1ms/step - loss: 0.4774 - accuracy: 0.7672 - val_loss: 0.8338 - val_accuracy: 0.5478\n",
      "Epoch 90/100\n",
      "160/160 [==============================] - 0s 1ms/step - loss: 0.4811 - accuracy: 0.7688 - val_loss: 0.8423 - val_accuracy: 0.5472\n",
      "Epoch 91/100\n",
      "160/160 [==============================] - 0s 1ms/step - loss: 0.4743 - accuracy: 0.7748 - val_loss: 0.8440 - val_accuracy: 0.5584\n",
      "Epoch 92/100\n",
      "160/160 [==============================] - 0s 1ms/step - loss: 0.4784 - accuracy: 0.7608 - val_loss: 0.8540 - val_accuracy: 0.5589\n",
      "Epoch 93/100\n",
      "160/160 [==============================] - 0s 1ms/step - loss: 0.4701 - accuracy: 0.7723 - val_loss: 0.8419 - val_accuracy: 0.5531\n",
      "Epoch 94/100\n",
      "160/160 [==============================] - 0s 1ms/step - loss: 0.4732 - accuracy: 0.7735 - val_loss: 0.8390 - val_accuracy: 0.5589\n",
      "Epoch 95/100\n",
      "160/160 [==============================] - 0s 1ms/step - loss: 0.4645 - accuracy: 0.7772 - val_loss: 0.8599 - val_accuracy: 0.5513\n",
      "Epoch 96/100\n",
      "160/160 [==============================] - 0s 1ms/step - loss: 0.4705 - accuracy: 0.7764 - val_loss: 0.8496 - val_accuracy: 0.5513\n",
      "Epoch 97/100\n",
      "160/160 [==============================] - 0s 2ms/step - loss: 0.4720 - accuracy: 0.7735 - val_loss: 0.8436 - val_accuracy: 0.5554\n",
      "Epoch 98/100\n",
      "160/160 [==============================] - 0s 2ms/step - loss: 0.4697 - accuracy: 0.7701 - val_loss: 0.8464 - val_accuracy: 0.5496\n",
      "Epoch 99/100\n",
      "160/160 [==============================] - 0s 2ms/step - loss: 0.4662 - accuracy: 0.7758 - val_loss: 0.8704 - val_accuracy: 0.5519\n",
      "Epoch 100/100\n",
      "160/160 [==============================] - 0s 1ms/step - loss: 0.4686 - accuracy: 0.7700 - val_loss: 0.8521 - val_accuracy: 0.5531\n"
     ]
    }
   ],
   "source": [
    "history = model.fit(X_train, y_train, epochs=100, batch_size = 32, verbose=1,validation_data=(X_test, y_test))"
   ]
  },
  {
   "cell_type": "code",
   "execution_count": 117,
   "id": "34988cae",
   "metadata": {},
   "outputs": [
    {
     "name": "stdout",
     "output_type": "stream",
     "text": [
      "54/54 [==============================] - 0s 848us/step - loss: 0.6870 - accuracy: 0.5736\n"
     ]
    }
   ],
   "source": [
    "test_loss, test_acc = model.evaluate(X_test, y_test)"
   ]
  },
  {
   "cell_type": "code",
   "execution_count": 118,
   "id": "2de87605",
   "metadata": {
    "scrolled": false
   },
   "outputs": [
    {
     "name": "stdout",
     "output_type": "stream",
     "text": [
      "54/54 [==============================] - 0s 698us/step\n"
     ]
    },
    {
     "data": {
      "image/png": "[encoded data removed]",
      "text/plain": [
       "<Figure size 640x480 with 1 Axes>"
      ]
     },
     "metadata": {},
     "output_type": "display_data"
    }
   ],
   "source": [
    "from sklearn.metrics import roc_curve\n",
    "import matplotlib.pyplot as plt\n",
    "\n",
    "y_pred_proba =model.predict(X_test)\n",
    "fpr, tpr, _ = roc_curve(y_test,  y_pred_proba)\n",
    "auc = roc_auc_score(y_test, y_pred_proba)\n",
    "plt.plot(fpr,tpr,label=\"data 1, auc=\"+str(auc))\n",
    "plt.legend(loc=4)\n",
    "plt.title(\"AUC ROC Curve\")\n",
    "plt.show()"
   ]
  },
  {
   "cell_type": "code",
   "execution_count": null,
   "id": "dfb12560",
   "metadata": {},
   "outputs": [],
   "source": [
    "from sklearn.ensemble import RandomForestClassifier\n",
    "from sklearn.model_selection import RandomizedSearchCV\n",
    "from scipy.stats import randint\n",
    "\n",
    "# Define the parameter distribution\n",
    "param_dist = {\"n_estimators\": randint(10, 100),\n",
    "              \"max_depth\": randint(1, 10),\n",
    "              \"min_samples_split\": randint(2, 10),\n",
    "              \"min_samples_leaf\": randint(1, 10)}\n",
    "\n",
    "# Instantiate the random forest classifier\n",
    "rf = RandomForestClassifier()\n",
    "\n",
    "# Instantiate the randomized search\n",
    "random_search = RandomizedSearchCV(rf, param_distributions=param_dist,\n",
    "                                   n_iter=100, cv=5, random_state=42)\n",
    "\n",
    "# Fit the randomized search on the data\n",
    "random_search.fit(X_train, y_train)\n",
    "\n",
    "# Print the best hyperparameters\n",
    "print(random_search.best_score_)\n",
    "print(random_search.best_params_)"
   ]
  },
  {
   "cell_type": "code",
   "execution_count": 202,
   "id": "a5e47b50",
   "metadata": {},
   "outputs": [
    {
     "name": "stdout",
     "output_type": "stream",
     "text": [
      "[1. 0. 1. ... 0. 0. 1.]\n",
      "Epoch 1/2\n"
     ]
    },
    {
     "ename": "ValueError",
     "evalue": "in user code:\n\n    File \"D:\\anacinda\\lib\\site-packages\\keras\\engine\\training.py\", line 1249, in train_function  *\n        return step_function(self, iterator)\n    File \"D:\\anacinda\\lib\\site-packages\\keras\\engine\\training.py\", line 1233, in step_function  **\n        outputs = model.distribute_strategy.run(run_step, args=(data,))\n    File \"D:\\anacinda\\lib\\site-packages\\keras\\engine\\training.py\", line 1222, in run_step  **\n        outputs = model.train_step(data)\n    File \"D:\\anacinda\\lib\\site-packages\\keras\\engine\\training.py\", line 1024, in train_step\n        loss = self.compute_loss(x, y, y_pred, sample_weight)\n    File \"D:\\anacinda\\lib\\site-packages\\keras\\engine\\training.py\", line 1082, in compute_loss\n        return self.compiled_loss(\n    File \"D:\\anacinda\\lib\\site-packages\\keras\\engine\\compile_utils.py\", line 265, in __call__\n        loss_value = loss_obj(y_t, y_p, sample_weight=sw)\n    File \"D:\\anacinda\\lib\\site-packages\\keras\\losses.py\", line 152, in __call__\n        losses = call_fn(y_true, y_pred)\n    File \"D:\\anacinda\\lib\\site-packages\\keras\\losses.py\", line 284, in call  **\n        return ag_fn(y_true, y_pred, **self._fn_kwargs)\n    File \"D:\\anacinda\\lib\\site-packages\\keras\\losses.py\", line 2176, in binary_crossentropy\n        backend.binary_crossentropy(y_true, y_pred, from_logits=from_logits),\n    File \"D:\\anacinda\\lib\\site-packages\\keras\\backend.py\", line 5680, in binary_crossentropy\n        return tf.nn.sigmoid_cross_entropy_with_logits(\n\n    ValueError: `logits` and `labels` must have the same shape, received ((None, 2) vs (None, 1)).\n",
     "output_type": "error",
     "traceback": [
      "\u001b[1;31m---------------------------------------------------------------------------\u001b[0m",
      "\u001b[1;31mValueError\u001b[0m                                Traceback (most recent call last)",
      "\u001b[1;32m~\\AppData\\Local\\Temp\\ipykernel_19432\\3859299336.py\u001b[0m in \u001b[0;36m<module>\u001b[1;34m\u001b[0m\n\u001b[0;32m     34\u001b[0m \u001b[1;33m\u001b[0m\u001b[0m\n\u001b[0;32m     35\u001b[0m \u001b[1;31m# natrénování modelu na trénovacích datech\u001b[0m\u001b[1;33m\u001b[0m\u001b[1;33m\u001b[0m\u001b[0m\n\u001b[1;32m---> 36\u001b[1;33m \u001b[0mmodel\u001b[0m\u001b[1;33m.\u001b[0m\u001b[0mfit\u001b[0m\u001b[1;33m(\u001b[0m\u001b[0mX_train\u001b[0m\u001b[1;33m,\u001b[0m \u001b[0my_train\u001b[0m\u001b[1;33m,\u001b[0m \u001b[0mepochs\u001b[0m\u001b[1;33m=\u001b[0m\u001b[1;36m2\u001b[0m\u001b[1;33m,\u001b[0m \u001b[0mbatch_size\u001b[0m\u001b[1;33m=\u001b[0m\u001b[1;36m32\u001b[0m\u001b[1;33m,\u001b[0m\u001b[0mvalidation_data\u001b[0m\u001b[1;33m=\u001b[0m\u001b[1;33m(\u001b[0m\u001b[0mX_test\u001b[0m\u001b[1;33m,\u001b[0m \u001b[0my_test\u001b[0m\u001b[1;33m)\u001b[0m\u001b[1;33m)\u001b[0m\u001b[1;33m\u001b[0m\u001b[1;33m\u001b[0m\u001b[0m\n\u001b[0m\u001b[0;32m     37\u001b[0m \u001b[1;33m\u001b[0m\u001b[0m\n\u001b[0;32m     38\u001b[0m \u001b[1;31m# hodnocení modelu na testovacích datech\u001b[0m\u001b[1;33m\u001b[0m\u001b[1;33m\u001b[0m\u001b[0m\n",
      "\u001b[1;32mD:\\anacinda\\lib\\site-packages\\keras\\utils\\traceback_utils.py\u001b[0m in \u001b[0;36merror_handler\u001b[1;34m(*args, **kwargs)\u001b[0m\n\u001b[0;32m     68\u001b[0m             \u001b[1;31m# To get the full stack trace, call:\u001b[0m\u001b[1;33m\u001b[0m\u001b[1;33m\u001b[0m\u001b[0m\n\u001b[0;32m     69\u001b[0m             \u001b[1;31m# `tf.debugging.disable_traceback_filtering()`\u001b[0m\u001b[1;33m\u001b[0m\u001b[1;33m\u001b[0m\u001b[0m\n\u001b[1;32m---> 70\u001b[1;33m             \u001b[1;32mraise\u001b[0m \u001b[0me\u001b[0m\u001b[1;33m.\u001b[0m\u001b[0mwith_traceback\u001b[0m\u001b[1;33m(\u001b[0m\u001b[0mfiltered_tb\u001b[0m\u001b[1;33m)\u001b[0m \u001b[1;32mfrom\u001b[0m \u001b[1;32mNone\u001b[0m\u001b[1;33m\u001b[0m\u001b[1;33m\u001b[0m\u001b[0m\n\u001b[0m\u001b[0;32m     71\u001b[0m         \u001b[1;32mfinally\u001b[0m\u001b[1;33m:\u001b[0m\u001b[1;33m\u001b[0m\u001b[1;33m\u001b[0m\u001b[0m\n\u001b[0;32m     72\u001b[0m             \u001b[1;32mdel\u001b[0m \u001b[0mfiltered_tb\u001b[0m\u001b[1;33m\u001b[0m\u001b[1;33m\u001b[0m\u001b[0m\n",
      "\u001b[1;32mD:\\anacinda\\lib\\site-packages\\keras\\engine\\training.py\u001b[0m in \u001b[0;36mtf__train_function\u001b[1;34m(iterator)\u001b[0m\n\u001b[0;32m     13\u001b[0m                 \u001b[1;32mtry\u001b[0m\u001b[1;33m:\u001b[0m\u001b[1;33m\u001b[0m\u001b[1;33m\u001b[0m\u001b[0m\n\u001b[0;32m     14\u001b[0m                     \u001b[0mdo_return\u001b[0m \u001b[1;33m=\u001b[0m \u001b[1;32mTrue\u001b[0m\u001b[1;33m\u001b[0m\u001b[1;33m\u001b[0m\u001b[0m\n\u001b[1;32m---> 15\u001b[1;33m                     \u001b[0mretval_\u001b[0m \u001b[1;33m=\u001b[0m \u001b[0mag__\u001b[0m\u001b[1;33m.\u001b[0m\u001b[0mconverted_call\u001b[0m\u001b[1;33m(\u001b[0m\u001b[0mag__\u001b[0m\u001b[1;33m.\u001b[0m\u001b[0mld\u001b[0m\u001b[1;33m(\u001b[0m\u001b[0mstep_function\u001b[0m\u001b[1;33m)\u001b[0m\u001b[1;33m,\u001b[0m \u001b[1;33m(\u001b[0m\u001b[0mag__\u001b[0m\u001b[1;33m.\u001b[0m\u001b[0mld\u001b[0m\u001b[1;33m(\u001b[0m\u001b[0mself\u001b[0m\u001b[1;33m)\u001b[0m\u001b[1;33m,\u001b[0m \u001b[0mag__\u001b[0m\u001b[1;33m.\u001b[0m\u001b[0mld\u001b[0m\u001b[1;33m(\u001b[0m\u001b[0miterator\u001b[0m\u001b[1;33m)\u001b[0m\u001b[1;33m)\u001b[0m\u001b[1;33m,\u001b[0m \u001b[1;32mNone\u001b[0m\u001b[1;33m,\u001b[0m \u001b[0mfscope\u001b[0m\u001b[1;33m)\u001b[0m\u001b[1;33m\u001b[0m\u001b[1;33m\u001b[0m\u001b[0m\n\u001b[0m\u001b[0;32m     16\u001b[0m                 \u001b[1;32mexcept\u001b[0m\u001b[1;33m:\u001b[0m\u001b[1;33m\u001b[0m\u001b[1;33m\u001b[0m\u001b[0m\n\u001b[0;32m     17\u001b[0m                     \u001b[0mdo_return\u001b[0m \u001b[1;33m=\u001b[0m \u001b[1;32mFalse\u001b[0m\u001b[1;33m\u001b[0m\u001b[1;33m\u001b[0m\u001b[0m\n",
      "\u001b[1;31mValueError\u001b[0m: in user code:\n\n    File \"D:\\anacinda\\lib\\site-packages\\keras\\engine\\training.py\", line 1249, in train_function  *\n        return step_function(self, iterator)\n    File \"D:\\anacinda\\lib\\site-packages\\keras\\engine\\training.py\", line 1233, in step_function  **\n        outputs = model.distribute_strategy.run(run_step, args=(data,))\n    File \"D:\\anacinda\\lib\\site-packages\\keras\\engine\\training.py\", line 1222, in run_step  **\n        outputs = model.train_step(data)\n    File \"D:\\anacinda\\lib\\site-packages\\keras\\engine\\training.py\", line 1024, in train_step\n        loss = self.compute_loss(x, y, y_pred, sample_weight)\n    File \"D:\\anacinda\\lib\\site-packages\\keras\\engine\\training.py\", line 1082, in compute_loss\n        return self.compiled_loss(\n    File \"D:\\anacinda\\lib\\site-packages\\keras\\engine\\compile_utils.py\", line 265, in __call__\n        loss_value = loss_obj(y_t, y_p, sample_weight=sw)\n    File \"D:\\anacinda\\lib\\site-packages\\keras\\losses.py\", line 152, in __call__\n        losses = call_fn(y_true, y_pred)\n    File \"D:\\anacinda\\lib\\site-packages\\keras\\losses.py\", line 284, in call  **\n        return ag_fn(y_true, y_pred, **self._fn_kwargs)\n    File \"D:\\anacinda\\lib\\site-packages\\keras\\losses.py\", line 2176, in binary_crossentropy\n        backend.binary_crossentropy(y_true, y_pred, from_logits=from_logits),\n    File \"D:\\anacinda\\lib\\site-packages\\keras\\backend.py\", line 5680, in binary_crossentropy\n        return tf.nn.sigmoid_cross_entropy_with_logits(\n\n    ValueError: `logits` and `labels` must have the same shape, received ((None, 2) vs (None, 1)).\n"
     ]
    }
   ],
   "source": [
    "import pandas as pd\n",
    "from keras.layers import LSTM, Dense\n",
    "from keras.models import Sequential\n",
    "from sklearn.preprocessing import MinMaxScaler\n",
    "from sklearn.model_selection import train_test_split\n",
    "\n",
    "# načtení dat\n",
    "\n",
    "# definice lookback\n",
    "lookback = 200\n",
    "\n",
    "# převod dat na numpy array\n",
    "data = df_model.values\n",
    "scaler = MinMaxScaler(feature_range=(0, 1))\n",
    "data = scaler.fit_transform(data)\n",
    "\n",
    "# rozdělení dat na trénovací a testovací\n",
    "X = []\n",
    "y = []\n",
    "for i in range(lookback, len(data)):\n",
    "    X.append(data[i-lookback:i, 1:])\n",
    "    y.append(data[i, 0])\n",
    "X = np.array(X)\n",
    "y = np.array(y)\n",
    "print(y)\n",
    "X_train, X_test, y_train, y_test = train_test_split(X, y, test_size=0.2)\n",
    "\n",
    "# vytvoření modelu\n",
    "model = Sequential()\n",
    "model.add(LSTM(units=100, input_shape=(lookback, data.shape[1]-1)))\n",
    "model.add(Dropout(0.3))\n",
    "model.add(Dense(1, activation='sigmoid'))\n",
    "model.compile(loss=\"binary_crossentropy\", optimizer=\"adam\", metrics=['accuracy'])\n",
    "\n",
    "# natrénování modelu na trénovacích datech\n",
    "model.fit(X_train, y_train, epochs=70, batch_size=32,validation_data=(X_test, y_test))\n",
    "\n",
    "# hodnocení modelu na testovacích datech\n",
    "test_loss, test_acc = model.evaluate(X_test, y_test)\n",
    "print('Test accuracy:', test_acc)\n"
   ]
  },
  {
   "cell_type": "code",
   "execution_count": 159,
   "id": "ab1f765c",
   "metadata": {},
   "outputs": [
    {
     "name": "stdout",
     "output_type": "stream",
     "text": [
      "42/42 [==============================] - 2s 38ms/step\n"
     ]
    },
    {
     "data": {
      "image/png": "[encoded data removed]",
      "text/plain": [
       "<Figure size 640x480 with 1 Axes>"
      ]
     },
     "metadata": {},
     "output_type": "display_data"
    }
   ],
   "source": [
    "from sklearn.metrics import roc_curve\n",
    "import matplotlib.pyplot as plt\n",
    "y_pred_proba =model.predict(X_test)\n",
    "fpr, tpr, _ = roc_curve(y_test,  y_pred_proba)\n",
    "auc = roc_auc_score(y_test, y_pred_proba)\n",
    "plt.plot(fpr,tpr,label=\"data 1, auc=\"+str(auc))\n",
    "plt.legend(loc=4)\n",
    "plt.title(\"AUC ROC Curve\")\n",
    "plt.show()"
   ]
  },
  {
   "cell_type": "code",
   "execution_count": 160,
   "id": "6d6dc1f6",
   "metadata": {},
   "outputs": [],
   "source": [
    "model.save('model.h5')"
   ]
  },
  {
   "cell_type": "code",
   "execution_count": 185,
   "id": "aae91800",
   "metadata": {},
   "outputs": [
    {
     "data": {
      "text/plain": [
       "[array([[0.46153846, 0.5       , 0.41176471, 0.5       , 0.5       ,\n",
       "         0.        , 0.02702703, 0.08695652, 0.        , 0.        ,\n",
       "         0.        , 0.54166667, 0.01660952, 0.99681021, 0.78148428,\n",
       "         1.        , 0.11333333, 0.        , 0.        , 0.        ,\n",
       "         0.        , 0.5       , 0.08290909, 0.5       , 0.03221769,\n",
       "         0.        , 0.        , 0.        , 0.        , 0.        ,\n",
       "         0.42857143, 0.04494444, 0.75      , 0.08823529, 1.        ,\n",
       "         0.17333333, 0.5       , 0.0557931 , 0.        , 0.        ,\n",
       "         0.        , 0.        , 0.        , 0.        , 0.        ,\n",
       "         0.        , 0.6       , 0.07428571, 0.        , 0.68611111,\n",
       "         0.38175115, 0.67964332, 0.42970177, 0.        , 0.        ,\n",
       "         0.65      , 0.29490114, 1.        , 0.25582048, 0.33333333,\n",
       "         0.20058651, 0.3       , 0.11691903, 1.        , 0.1654649 ,\n",
       "         0.75      , 0.48709677, 0.        , 0.5       , 0.1812276 ,\n",
       "         0.54545455, 0.10673624, 0.        , 0.        , 0.4       ,\n",
       "         0.08998888, 0.        , 0.        , 0.6       , 0.34475806,\n",
       "         0.5       , 0.20687237, 0.        , 0.        , 0.        ,\n",
       "         0.        ]])]"
      ]
     },
     "execution_count": 185,
     "metadata": {},
     "output_type": "execute_result"
    }
   ],
   "source": [
    "new_data"
   ]
  },
  {
   "cell_type": "code",
   "execution_count": 1,
   "id": "cec45d57",
   "metadata": {},
   "outputs": [
    {
     "ename": "NameError",
     "evalue": "name 'data' is not defined",
     "output_type": "error",
     "traceback": [
      "\u001b[1;31m---------------------------------------------------------------------------\u001b[0m",
      "\u001b[1;31mNameError\u001b[0m                                 Traceback (most recent call last)",
      "\u001b[1;32m~\\AppData\\Local\\Temp\\ipykernel_5956\\2595560709.py\u001b[0m in \u001b[0;36m<module>\u001b[1;34m\u001b[0m\n\u001b[1;32m----> 1\u001b[1;33m \u001b[0mnew_data\u001b[0m  \u001b[1;33m=\u001b[0m\u001b[0mdata\u001b[0m\u001b[1;33m[\u001b[0m\u001b[1;36m4\u001b[0m\u001b[1;33m,\u001b[0m\u001b[1;33m:\u001b[0m\u001b[1;33m]\u001b[0m\u001b[1;33m\u001b[0m\u001b[1;33m\u001b[0m\u001b[0m\n\u001b[0m\u001b[0;32m      2\u001b[0m \u001b[0mnew_data\u001b[0m \u001b[1;33m=\u001b[0m \u001b[0mnew_data\u001b[0m\u001b[1;33m[\u001b[0m\u001b[1;36m1\u001b[0m\u001b[1;33m:\u001b[0m\u001b[1;33m]\u001b[0m\u001b[1;33m\u001b[0m\u001b[1;33m\u001b[0m\u001b[0m\n\u001b[0;32m      3\u001b[0m \u001b[0mnew_data\u001b[0m \u001b[1;33m=\u001b[0m \u001b[0mnp\u001b[0m\u001b[1;33m.\u001b[0m\u001b[0mreshape\u001b[0m\u001b[1;33m(\u001b[0m\u001b[0mnew_data\u001b[0m\u001b[1;33m,\u001b[0m \u001b[1;33m(\u001b[0m\u001b[1;36m1\u001b[0m\u001b[1;33m,\u001b[0m\u001b[1;36m1\u001b[0m\u001b[1;33m,\u001b[0m\u001b[0mnew_data\u001b[0m\u001b[1;33m.\u001b[0m\u001b[0mshape\u001b[0m\u001b[1;33m[\u001b[0m\u001b[1;36m0\u001b[0m\u001b[1;33m]\u001b[0m\u001b[1;33m)\u001b[0m\u001b[1;33m)\u001b[0m\u001b[1;33m\u001b[0m\u001b[1;33m\u001b[0m\u001b[0m\n\u001b[0;32m      4\u001b[0m \u001b[0mnew_data\u001b[0m\u001b[1;33m\u001b[0m\u001b[1;33m\u001b[0m\u001b[0m\n",
      "\u001b[1;31mNameError\u001b[0m: name 'data' is not defined"
     ]
    }
   ],
   "source": [
    "new_data  =data[4,:]\n",
    "new_data = new_data[1:]\n",
    "new_data = np.reshape(new_data, (1,1,new_data.shape[0]))\n",
    "new_data"
   ]
  },
  {
   "cell_type": "code",
   "execution_count": 200,
   "id": "edcf296a",
   "metadata": {
    "scrolled": true
   },
   "outputs": [
    {
     "name": "stdout",
     "output_type": "stream",
     "text": [
      "1/1 [==============================] - 0s 17ms/step\n"
     ]
    }
   ],
   "source": [
    "y_pred = model.predict(new_data)"
   ]
  },
  {
   "cell_type": "code",
   "execution_count": 201,
   "id": "fe0a2e15",
   "metadata": {},
   "outputs": [
    {
     "data": {
      "text/plain": [
       "array([[0.51924735]], dtype=float32)"
      ]
     },
     "execution_count": 201,
     "metadata": {},
     "output_type": "execute_result"
    }
   ],
   "source": [
    "y_pred"
   ]
  },
  {
   "cell_type": "code",
   "execution_count": 67,
   "id": "5975f89e",
   "metadata": {},
   "outputs": [],
   "source": [
    "fighter1 = \"Nate Diaz\"\n",
    "fighter2 = \"Conor McGregor\""
   ]
  },
  {
   "cell_type": "code",
   "execution_count": 42,
   "id": "322698fb",
   "metadata": {},
   "outputs": [],
   "source": [
    "df_fighters.loc[:,'pct_of_control_fighter'] = df_fighters['CTRL_fighter']/df_fighters['TotalTime']\n",
    "df_fighters.loc[:,'strikes_fighter_f'] = (df_fighters['SIG.STR._landed_fighter']/df_fighters['TotalTime'])*60\n"
   ]
  },
  {
   "cell_type": "code",
   "execution_count": 57,
   "id": "8387a763",
   "metadata": {},
   "outputs": [],
   "source": [
    "df_fighters[['form_skore_fighter','pct_of_control_fighter', 'strikes_fighter_f']] = scaler.fit_transform(df_fighters[['form_skore_fighter','pct_of_control_fighter', 'strikes_fighter_f']])"
   ]
  },
  {
   "cell_type": "code",
   "execution_count": 68,
   "id": "04e2b1e2",
   "metadata": {},
   "outputs": [],
   "source": [
    "f1 = df_fighters.loc[df_fighters[\"FIGHTER\"]==fighter1 ,['form_skore_fighter','pct_of_control_fighter', 'strikes_fighter_f']].values.flatten().tolist()"
   ]
  },
  {
   "cell_type": "code",
   "execution_count": 69,
   "id": "13ff45a1",
   "metadata": {},
   "outputs": [],
   "source": [
    "f2 = df_fighters.loc[df_fighters[\"FIGHTER\"]==fighter2 ,['form_skore_fighter','pct_of_control_fighter', 'strikes_fighter_f']].values.flatten().tolist()"
   ]
  },
  {
   "cell_type": "code",
   "execution_count": 70,
   "id": "634aabc7",
   "metadata": {},
   "outputs": [
    {
     "data": {
      "text/plain": [
       "[0.39875325803342343,\n",
       " -0.45128862367049577,\n",
       " 0.8860974239040257,\n",
       " -0.45686035044738443,\n",
       " -0.5655206746811349,\n",
       " 1.4218252543277097]"
      ]
     },
     "execution_count": 70,
     "metadata": {},
     "output_type": "execute_result"
    }
   ],
   "source": [
    "f1+f2"
   ]
  },
  {
   "cell_type": "code",
   "execution_count": 71,
   "id": "057c0f6e",
   "metadata": {},
   "outputs": [
    {
     "name": "stdout",
     "output_type": "stream",
     "text": [
      "1/1 [==============================] - 0s 45ms/step\n"
     ]
    },
    {
     "data": {
      "text/plain": [
       "0.5540724"
      ]
     },
     "execution_count": 71,
     "metadata": {},
     "output_type": "execute_result"
    }
   ],
   "source": [
    "predikce = model.predict([f1+f2])\n",
    "predikce[0][0]"
   ]
  },
  {
   "cell_type": "code",
   "execution_count": 72,
   "id": "281d546f",
   "metadata": {},
   "outputs": [
    {
     "name": "stdout",
     "output_type": "stream",
     "text": [
      "Nate Diaz: 55.41%  vs Conor McGregor: 44.59\n"
     ]
    }
   ],
   "source": [
    "print(f\"{fighter1}: {round(predikce[0][0]*100,2)}%  vs {fighter2}: {round((1-predikce[0][0])*100,2)}\")"
   ]
  },
  {
   "cell_type": "code",
   "execution_count": 73,
   "id": "3c1d0f82",
   "metadata": {},
   "outputs": [
    {
     "data": {
      "text/plain": [
       "False"
      ]
     },
     "execution_count": 73,
     "metadata": {},
     "output_type": "execute_result"
    }
   ],
   "source": [
    "'McGr' in df_fighters['FIGHTER'].tolist()"
   ]
  },
  {
   "cell_type": "code",
   "execution_count": null,
   "id": "7bc04b75",
   "metadata": {},
   "outputs": [],
   "source": []
  }
 ],
 "metadata": {
  "kernelspec": {
   "display_name": "Python 3 (ipykernel)",
   "language": "python",
   "name": "python3"
  },
  "language_info": {
   "codemirror_mode": {
    "name": "ipython",
    "version": 3
   },
   "file_extension": ".py",
   "mimetype": "text/x-python",
   "name": "python",
   "nbconvert_exporter": "python",
   "pygments_lexer": "ipython3",
   "version": "3.9.13"
  }
 },
 "nbformat": 4,
 "nbformat_minor": 5
}
