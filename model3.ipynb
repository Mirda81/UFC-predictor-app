{
 "cells": [
  {
   "cell_type": "code",
   "execution_count": 293,
   "id": "6eda130d",
   "metadata": {},
   "outputs": [],
   "source": [
    "import pandas as pd\n",
    "import numpy as np\n",
    "from sklearn.model_selection import GridSearchCV, train_test_split"
   ]
  },
  {
   "cell_type": "code",
   "execution_count": 294,
   "id": "64504238",
   "metadata": {},
   "outputs": [],
   "source": [
    "from keras.models import Sequential\n",
    "from keras.layers import Dense, Activation, Dropout\n",
    "\n",
    "from keras import layers\n",
    "from sklearn.neural_network import MLPClassifier\n",
    "from sklearn.metrics import accuracy_score, f1_score, auc, roc_curve, roc_auc_score\n",
    "from sklearn.preprocessing import StandardScaler\n",
    "from keras.layers import Dense, LSTM, Dropout, GRU, Bidirectional"
   ]
  },
  {
   "cell_type": "code",
   "execution_count": 295,
   "id": "1160a496",
   "metadata": {},
   "outputs": [],
   "source": [
    "df = pd.read_csv('fight_with_stats_precomp.csv')\n",
    "df_fighters = pd.read_csv('fighter_total_stats.csv')"
   ]
  },
  {
   "cell_type": "code",
   "execution_count": 296,
   "id": "1313842b",
   "metadata": {},
   "outputs": [],
   "source": [
    "df_fighters_details = pd.read_csv('fighter_details.csv', parse_dates=True)"
   ]
  },
  {
   "cell_type": "code",
   "execution_count": 297,
   "id": "cfad8be9",
   "metadata": {},
   "outputs": [],
   "source": [
    "df = df[(df['fightNo_fighter']>=3) & (df['fightNo_opponent']>=3) & (df['Women_fight']==0)]"
   ]
  },
  {
   "cell_type": "code",
   "execution_count": 298,
   "id": "6fbc9051",
   "metadata": {},
   "outputs": [],
   "source": [
    "df = df.fillna(0)\n"
   ]
  },
  {
   "cell_type": "code",
   "execution_count": 299,
   "id": "a380c164",
   "metadata": {},
   "outputs": [
    {
     "data": {
      "text/html": [
       "<div>\n",
       "<style scoped>\n",
       "    .dataframe tbody tr th:only-of-type {\n",
       "        vertical-align: middle;\n",
       "    }\n",
       "\n",
       "    .dataframe tbody tr th {\n",
       "        vertical-align: top;\n",
       "    }\n",
       "\n",
       "    .dataframe thead th {\n",
       "        text-align: right;\n",
       "    }\n",
       "</style>\n",
       "<table border=\"1\" class=\"dataframe\">\n",
       "  <thead>\n",
       "    <tr style=\"text-align: right;\">\n",
       "      <th></th>\n",
       "      <th>EVENT</th>\n",
       "      <th>BOUT</th>\n",
       "      <th>FIGHTER</th>\n",
       "      <th>OPPONENT</th>\n",
       "      <th>METHOD</th>\n",
       "      <th>Win</th>\n",
       "      <th>Women_fight</th>\n",
       "      <th>ROUND</th>\n",
       "      <th>HEIGHT_diff</th>\n",
       "      <th>REACH_diff</th>\n",
       "      <th>...</th>\n",
       "      <th>BODY_landed_opponent</th>\n",
       "      <th>BODY_attemps_opponent</th>\n",
       "      <th>LEG_landed_opponent</th>\n",
       "      <th>LEG_attemps_opponent</th>\n",
       "      <th>DISTANCE_landed_opponent</th>\n",
       "      <th>DISTANCE_attemps_opponent</th>\n",
       "      <th>CLINCH_landed_opponent</th>\n",
       "      <th>CLINCH_attemps_opponent</th>\n",
       "      <th>GROUND_landed_opponent</th>\n",
       "      <th>GROUND_attemps_opponent</th>\n",
       "    </tr>\n",
       "  </thead>\n",
       "  <tbody>\n",
       "    <tr>\n",
       "      <th>24</th>\n",
       "      <td>UFC 2: No Way Out</td>\n",
       "      <td>Royce Gracie vs. Patrick Smith</td>\n",
       "      <td>Patrick Smith</td>\n",
       "      <td>Royce Gracie</td>\n",
       "      <td>KO/TKO - ground</td>\n",
       "      <td>0</td>\n",
       "      <td>0</td>\n",
       "      <td>1</td>\n",
       "      <td>1.0</td>\n",
       "      <td>0.0</td>\n",
       "      <td>...</td>\n",
       "      <td>0.0</td>\n",
       "      <td>0.0</td>\n",
       "      <td>3.0</td>\n",
       "      <td>5.0</td>\n",
       "      <td>5.0</td>\n",
       "      <td>10.0</td>\n",
       "      <td>0.0</td>\n",
       "      <td>0.0</td>\n",
       "      <td>0.0</td>\n",
       "      <td>0.0</td>\n",
       "    </tr>\n",
       "    <tr>\n",
       "      <th>25</th>\n",
       "      <td>UFC 2: No Way Out</td>\n",
       "      <td>Royce Gracie vs. Patrick Smith</td>\n",
       "      <td>Royce Gracie</td>\n",
       "      <td>Patrick Smith</td>\n",
       "      <td>KO/TKO - ground</td>\n",
       "      <td>1</td>\n",
       "      <td>0</td>\n",
       "      <td>1</td>\n",
       "      <td>-1.0</td>\n",
       "      <td>0.0</td>\n",
       "      <td>...</td>\n",
       "      <td>0.0</td>\n",
       "      <td>0.0</td>\n",
       "      <td>0.0</td>\n",
       "      <td>1.0</td>\n",
       "      <td>0.0</td>\n",
       "      <td>2.0</td>\n",
       "      <td>0.0</td>\n",
       "      <td>0.0</td>\n",
       "      <td>3.0</td>\n",
       "      <td>5.0</td>\n",
       "    </tr>\n",
       "    <tr>\n",
       "      <th>26</th>\n",
       "      <td>UFC 2: No Way Out</td>\n",
       "      <td>Royce Gracie vs. Remco Pardoel</td>\n",
       "      <td>Remco Pardoel</td>\n",
       "      <td>Royce Gracie</td>\n",
       "      <td>Submission</td>\n",
       "      <td>0</td>\n",
       "      <td>0</td>\n",
       "      <td>1</td>\n",
       "      <td>2.0</td>\n",
       "      <td>0.0</td>\n",
       "      <td>...</td>\n",
       "      <td>0.0</td>\n",
       "      <td>0.0</td>\n",
       "      <td>1.0</td>\n",
       "      <td>1.0</td>\n",
       "      <td>2.0</td>\n",
       "      <td>3.0</td>\n",
       "      <td>0.0</td>\n",
       "      <td>0.0</td>\n",
       "      <td>0.0</td>\n",
       "      <td>2.0</td>\n",
       "    </tr>\n",
       "    <tr>\n",
       "      <th>27</th>\n",
       "      <td>UFC 2: No Way Out</td>\n",
       "      <td>Royce Gracie vs. Remco Pardoel</td>\n",
       "      <td>Royce Gracie</td>\n",
       "      <td>Remco Pardoel</td>\n",
       "      <td>Submission</td>\n",
       "      <td>1</td>\n",
       "      <td>0</td>\n",
       "      <td>1</td>\n",
       "      <td>-2.0</td>\n",
       "      <td>0.0</td>\n",
       "      <td>...</td>\n",
       "      <td>1.0</td>\n",
       "      <td>2.0</td>\n",
       "      <td>0.0</td>\n",
       "      <td>1.0</td>\n",
       "      <td>0.0</td>\n",
       "      <td>3.0</td>\n",
       "      <td>1.0</td>\n",
       "      <td>1.0</td>\n",
       "      <td>3.0</td>\n",
       "      <td>5.0</td>\n",
       "    </tr>\n",
       "    <tr>\n",
       "      <th>50</th>\n",
       "      <td>UFC 4: Revenge of the Warriors</td>\n",
       "      <td>Royce Gracie vs. Dan Severn</td>\n",
       "      <td>Dan Severn</td>\n",
       "      <td>Royce Gracie</td>\n",
       "      <td>Submission</td>\n",
       "      <td>0</td>\n",
       "      <td>0</td>\n",
       "      <td>1</td>\n",
       "      <td>1.0</td>\n",
       "      <td>0.0</td>\n",
       "      <td>...</td>\n",
       "      <td>3.0</td>\n",
       "      <td>4.0</td>\n",
       "      <td>2.0</td>\n",
       "      <td>3.0</td>\n",
       "      <td>3.0</td>\n",
       "      <td>5.0</td>\n",
       "      <td>3.0</td>\n",
       "      <td>3.0</td>\n",
       "      <td>3.0</td>\n",
       "      <td>3.0</td>\n",
       "    </tr>\n",
       "  </tbody>\n",
       "</table>\n",
       "<p>5 rows × 63 columns</p>\n",
       "</div>"
      ],
      "text/plain": [
       "                             EVENT                            BOUT  \\\n",
       "24               UFC 2: No Way Out  Royce Gracie vs. Patrick Smith   \n",
       "25               UFC 2: No Way Out  Royce Gracie vs. Patrick Smith   \n",
       "26               UFC 2: No Way Out  Royce Gracie vs. Remco Pardoel   \n",
       "27               UFC 2: No Way Out  Royce Gracie vs. Remco Pardoel   \n",
       "50  UFC 4: Revenge of the Warriors     Royce Gracie vs. Dan Severn   \n",
       "\n",
       "          FIGHTER       OPPONENT           METHOD  Win  Women_fight  ROUND  \\\n",
       "24  Patrick Smith   Royce Gracie  KO/TKO - ground    0            0      1   \n",
       "25   Royce Gracie  Patrick Smith  KO/TKO - ground    1            0      1   \n",
       "26  Remco Pardoel   Royce Gracie       Submission    0            0      1   \n",
       "27   Royce Gracie  Remco Pardoel       Submission    1            0      1   \n",
       "50     Dan Severn   Royce Gracie       Submission    0            0      1   \n",
       "\n",
       "    HEIGHT_diff  REACH_diff  ...  BODY_landed_opponent  BODY_attemps_opponent  \\\n",
       "24          1.0         0.0  ...                   0.0                    0.0   \n",
       "25         -1.0         0.0  ...                   0.0                    0.0   \n",
       "26          2.0         0.0  ...                   0.0                    0.0   \n",
       "27         -2.0         0.0  ...                   1.0                    2.0   \n",
       "50          1.0         0.0  ...                   3.0                    4.0   \n",
       "\n",
       "    LEG_landed_opponent  LEG_attemps_opponent  DISTANCE_landed_opponent  \\\n",
       "24                  3.0                   5.0                       5.0   \n",
       "25                  0.0                   1.0                       0.0   \n",
       "26                  1.0                   1.0                       2.0   \n",
       "27                  0.0                   1.0                       0.0   \n",
       "50                  2.0                   3.0                       3.0   \n",
       "\n",
       "    DISTANCE_attemps_opponent  CLINCH_landed_opponent  \\\n",
       "24                       10.0                     0.0   \n",
       "25                        2.0                     0.0   \n",
       "26                        3.0                     0.0   \n",
       "27                        3.0                     1.0   \n",
       "50                        5.0                     3.0   \n",
       "\n",
       "    CLINCH_attemps_opponent  GROUND_landed_opponent  GROUND_attemps_opponent  \n",
       "24                      0.0                     0.0                      0.0  \n",
       "25                      0.0                     3.0                      5.0  \n",
       "26                      0.0                     0.0                      2.0  \n",
       "27                      1.0                     3.0                      5.0  \n",
       "50                      3.0                     3.0                      3.0  \n",
       "\n",
       "[5 rows x 63 columns]"
      ]
     },
     "execution_count": 299,
     "metadata": {},
     "output_type": "execute_result"
    }
   ],
   "source": [
    "df.head()"
   ]
  },
  {
   "cell_type": "code",
   "execution_count": 300,
   "id": "3c83f881",
   "metadata": {},
   "outputs": [
    {
     "data": {
      "text/plain": [
       "(6817, 63)"
      ]
     },
     "execution_count": 300,
     "metadata": {},
     "output_type": "execute_result"
    }
   ],
   "source": [
    "df.shape"
   ]
  },
  {
   "cell_type": "code",
   "execution_count": 301,
   "id": "0b47cc75",
   "metadata": {
    "scrolled": true
   },
   "outputs": [
    {
     "data": {
      "text/plain": [
       "['KD_fighter',\n",
       " 'SUB.ATT_fighter',\n",
       " 'REV._fighter',\n",
       " 'CTRL_fighter',\n",
       " 'SIG.STR._landed_fighter',\n",
       " 'SIG.STR._attemps_fighter',\n",
       " 'TOTAL STR._landed_fighter',\n",
       " 'TOTAL STR._attemps_fighter',\n",
       " 'TD_landed_fighter',\n",
       " 'TD_attemps_fighter',\n",
       " 'HEAD_landed_fighter',\n",
       " 'HEAD_attemps_fighter',\n",
       " 'BODY_landed_fighter',\n",
       " 'BODY_attemps_fighter',\n",
       " 'LEG_landed_fighter',\n",
       " 'LEG_attemps_fighter',\n",
       " 'DISTANCE_landed_fighter',\n",
       " 'DISTANCE_attemps_fighter',\n",
       " 'CLINCH_landed_fighter',\n",
       " 'CLINCH_attemps_fighter',\n",
       " 'GROUND_landed_fighter',\n",
       " 'GROUND_attemps_fighter',\n",
       " 'KD_opponent',\n",
       " 'SUB.ATT_opponent',\n",
       " 'REV._opponent',\n",
       " 'CTRL_opponent',\n",
       " 'SIG.STR._landed_opponent',\n",
       " 'SIG.STR._attemps_opponent',\n",
       " 'TOTAL STR._landed_opponent',\n",
       " 'TOTAL STR._attemps_opponent',\n",
       " 'TD_landed_opponent',\n",
       " 'TD_attemps_opponent',\n",
       " 'HEAD_landed_opponent',\n",
       " 'HEAD_attemps_opponent',\n",
       " 'BODY_landed_opponent',\n",
       " 'BODY_attemps_opponent',\n",
       " 'LEG_landed_opponent',\n",
       " 'LEG_attemps_opponent',\n",
       " 'DISTANCE_landed_opponent',\n",
       " 'DISTANCE_attemps_opponent',\n",
       " 'CLINCH_landed_opponent',\n",
       " 'CLINCH_attemps_opponent',\n",
       " 'GROUND_landed_opponent',\n",
       " 'GROUND_attemps_opponent']"
      ]
     },
     "execution_count": 301,
     "metadata": {},
     "output_type": "execute_result"
    }
   ],
   "source": [
    "df.columns.tolist()[19:]"
   ]
  },
  {
   "cell_type": "code",
   "execution_count": 302,
   "id": "1bf9b2da",
   "metadata": {},
   "outputs": [],
   "source": [
    "df = df.merge(df[['EVENT', 'BOUT', 'FIGHTER']+df.columns.tolist()[15:]] ,how='left', left_on=['EVENT', 'BOUT', 'OPPONENT'], right_on=['EVENT', 'BOUT', 'FIGHTER'], suffixes=('_f1', '_f2'))"
   ]
  },
  {
   "cell_type": "code",
   "execution_count": 303,
   "id": "c8ce78f8",
   "metadata": {},
   "outputs": [
    {
     "name": "stdout",
     "output_type": "stream",
     "text": [
      "<class 'pandas.core.frame.DataFrame'>\n",
      "Int64Index: 6817 entries, 0 to 6816\n",
      "Data columns (total 112 columns):\n",
      " #    Column                          Non-Null Count  Dtype  \n",
      "---   ------                          --------------  -----  \n",
      " 0    EVENT                           6817 non-null   object \n",
      " 1    BOUT                            6817 non-null   object \n",
      " 2    FIGHTER_f1                      6817 non-null   object \n",
      " 3    OPPONENT                        6817 non-null   object \n",
      " 4    METHOD                          6817 non-null   object \n",
      " 5    Win                             6817 non-null   int64  \n",
      " 6    Women_fight                     6817 non-null   int64  \n",
      " 7    ROUND                           6817 non-null   int64  \n",
      " 8    HEIGHT_diff                     6817 non-null   float64\n",
      " 9    REACH_diff                      6817 non-null   float64\n",
      " 10   AGE_diff                        6817 non-null   float64\n",
      " 11   form_skore_fighter              6817 non-null   float64\n",
      " 12   form_skore_opponent             6817 non-null   float64\n",
      " 13   fightNo_fighter                 6817 non-null   int64  \n",
      " 14   fightNo_opponent                6817 non-null   float64\n",
      " 15   Win_tot_f1                      6817 non-null   float64\n",
      " 16   DRAW_f1                         6817 non-null   float64\n",
      " 17   No_contest_f1                   6817 non-null   float64\n",
      " 18   TotalTime_f1                    6817 non-null   float64\n",
      " 19   KD_fighter_f1                   6817 non-null   float64\n",
      " 20   SUB.ATT_fighter_f1              6817 non-null   float64\n",
      " 21   REV._fighter_f1                 6817 non-null   float64\n",
      " 22   CTRL_fighter_f1                 6817 non-null   float64\n",
      " 23   SIG.STR._landed_fighter_f1      6817 non-null   float64\n",
      " 24   SIG.STR._attemps_fighter_f1     6817 non-null   float64\n",
      " 25   TOTAL STR._landed_fighter_f1    6817 non-null   float64\n",
      " 26   TOTAL STR._attemps_fighter_f1   6817 non-null   float64\n",
      " 27   TD_landed_fighter_f1            6817 non-null   float64\n",
      " 28   TD_attemps_fighter_f1           6817 non-null   float64\n",
      " 29   HEAD_landed_fighter_f1          6817 non-null   float64\n",
      " 30   HEAD_attemps_fighter_f1         6817 non-null   float64\n",
      " 31   BODY_landed_fighter_f1          6817 non-null   float64\n",
      " 32   BODY_attemps_fighter_f1         6817 non-null   float64\n",
      " 33   LEG_landed_fighter_f1           6817 non-null   float64\n",
      " 34   LEG_attemps_fighter_f1          6817 non-null   float64\n",
      " 35   DISTANCE_landed_fighter_f1      6817 non-null   float64\n",
      " 36   DISTANCE_attemps_fighter_f1     6817 non-null   float64\n",
      " 37   CLINCH_landed_fighter_f1        6817 non-null   float64\n",
      " 38   CLINCH_attemps_fighter_f1       6817 non-null   float64\n",
      " 39   GROUND_landed_fighter_f1        6817 non-null   float64\n",
      " 40   GROUND_attemps_fighter_f1       6817 non-null   float64\n",
      " 41   KD_opponent_f1                  6817 non-null   float64\n",
      " 42   SUB.ATT_opponent_f1             6817 non-null   float64\n",
      " 43   REV._opponent_f1                6817 non-null   float64\n",
      " 44   CTRL_opponent_f1                6817 non-null   float64\n",
      " 45   SIG.STR._landed_opponent_f1     6817 non-null   float64\n",
      " 46   SIG.STR._attemps_opponent_f1    6817 non-null   float64\n",
      " 47   TOTAL STR._landed_opponent_f1   6817 non-null   float64\n",
      " 48   TOTAL STR._attemps_opponent_f1  6817 non-null   float64\n",
      " 49   TD_landed_opponent_f1           6817 non-null   float64\n",
      " 50   TD_attemps_opponent_f1          6817 non-null   float64\n",
      " 51   HEAD_landed_opponent_f1         6817 non-null   float64\n",
      " 52   HEAD_attemps_opponent_f1        6817 non-null   float64\n",
      " 53   BODY_landed_opponent_f1         6817 non-null   float64\n",
      " 54   BODY_attemps_opponent_f1        6817 non-null   float64\n",
      " 55   LEG_landed_opponent_f1          6817 non-null   float64\n",
      " 56   LEG_attemps_opponent_f1         6817 non-null   float64\n",
      " 57   DISTANCE_landed_opponent_f1     6817 non-null   float64\n",
      " 58   DISTANCE_attemps_opponent_f1    6817 non-null   float64\n",
      " 59   CLINCH_landed_opponent_f1       6817 non-null   float64\n",
      " 60   CLINCH_attemps_opponent_f1      6817 non-null   float64\n",
      " 61   GROUND_landed_opponent_f1       6817 non-null   float64\n",
      " 62   GROUND_attemps_opponent_f1      6817 non-null   float64\n",
      " 63   FIGHTER_f2                      6816 non-null   object \n",
      " 64   Win_tot_f2                      6816 non-null   float64\n",
      " 65   DRAW_f2                         6816 non-null   float64\n",
      " 66   No_contest_f2                   6816 non-null   float64\n",
      " 67   TotalTime_f2                    6816 non-null   float64\n",
      " 68   KD_fighter_f2                   6816 non-null   float64\n",
      " 69   SUB.ATT_fighter_f2              6816 non-null   float64\n",
      " 70   REV._fighter_f2                 6816 non-null   float64\n",
      " 71   CTRL_fighter_f2                 6816 non-null   float64\n",
      " 72   SIG.STR._landed_fighter_f2      6816 non-null   float64\n",
      " 73   SIG.STR._attemps_fighter_f2     6816 non-null   float64\n",
      " 74   TOTAL STR._landed_fighter_f2    6816 non-null   float64\n",
      " 75   TOTAL STR._attemps_fighter_f2   6816 non-null   float64\n",
      " 76   TD_landed_fighter_f2            6816 non-null   float64\n",
      " 77   TD_attemps_fighter_f2           6816 non-null   float64\n",
      " 78   HEAD_landed_fighter_f2          6816 non-null   float64\n",
      " 79   HEAD_attemps_fighter_f2         6816 non-null   float64\n",
      " 80   BODY_landed_fighter_f2          6816 non-null   float64\n",
      " 81   BODY_attemps_fighter_f2         6816 non-null   float64\n",
      " 82   LEG_landed_fighter_f2           6816 non-null   float64\n",
      " 83   LEG_attemps_fighter_f2          6816 non-null   float64\n",
      " 84   DISTANCE_landed_fighter_f2      6816 non-null   float64\n",
      " 85   DISTANCE_attemps_fighter_f2     6816 non-null   float64\n",
      " 86   CLINCH_landed_fighter_f2        6816 non-null   float64\n",
      " 87   CLINCH_attemps_fighter_f2       6816 non-null   float64\n",
      " 88   GROUND_landed_fighter_f2        6816 non-null   float64\n",
      " 89   GROUND_attemps_fighter_f2       6816 non-null   float64\n",
      " 90   KD_opponent_f2                  6816 non-null   float64\n",
      " 91   SUB.ATT_opponent_f2             6816 non-null   float64\n",
      " 92   REV._opponent_f2                6816 non-null   float64\n",
      " 93   CTRL_opponent_f2                6816 non-null   float64\n",
      " 94   SIG.STR._landed_opponent_f2     6816 non-null   float64\n",
      " 95   SIG.STR._attemps_opponent_f2    6816 non-null   float64\n",
      " 96   TOTAL STR._landed_opponent_f2   6816 non-null   float64\n",
      " 97   TOTAL STR._attemps_opponent_f2  6816 non-null   float64\n",
      " 98   TD_landed_opponent_f2           6816 non-null   float64\n",
      " 99   TD_attemps_opponent_f2          6816 non-null   float64\n",
      " 100  HEAD_landed_opponent_f2         6816 non-null   float64\n",
      " 101  HEAD_attemps_opponent_f2        6816 non-null   float64\n",
      " 102  BODY_landed_opponent_f2         6816 non-null   float64\n",
      " 103  BODY_attemps_opponent_f2        6816 non-null   float64\n",
      " 104  LEG_landed_opponent_f2          6816 non-null   float64\n",
      " 105  LEG_attemps_opponent_f2         6816 non-null   float64\n",
      " 106  DISTANCE_landed_opponent_f2     6816 non-null   float64\n",
      " 107  DISTANCE_attemps_opponent_f2    6816 non-null   float64\n",
      " 108  CLINCH_landed_opponent_f2       6816 non-null   float64\n",
      " 109  CLINCH_attemps_opponent_f2      6816 non-null   float64\n",
      " 110  GROUND_landed_opponent_f2       6816 non-null   float64\n",
      " 111  GROUND_attemps_opponent_f2      6816 non-null   float64\n",
      "dtypes: float64(102), int64(4), object(6)\n",
      "memory usage: 5.9+ MB\n"
     ]
    }
   ],
   "source": [
    "df.info(verbose=True, show_counts=True)"
   ]
  },
  {
   "cell_type": "code",
   "execution_count": 304,
   "id": "e911a19b",
   "metadata": {},
   "outputs": [],
   "source": [
    "df = df.drop('FIGHTER_f2',axis=1)"
   ]
  },
  {
   "cell_type": "code",
   "execution_count": 305,
   "id": "1458353b",
   "metadata": {},
   "outputs": [
    {
     "data": {
      "text/plain": [
       "['LEG', 'attemps', 'fighter', 'f1']"
      ]
     },
     "execution_count": 305,
     "metadata": {},
     "output_type": "execute_result"
    }
   ],
   "source": [
    "'LEG_attemps_fighter_f1'.split('_')"
   ]
  },
  {
   "cell_type": "code",
   "execution_count": 306,
   "id": "6ec0d15a",
   "metadata": {},
   "outputs": [],
   "source": [
    "sloupce1 = df.columns.tolist()[19:]\n",
    "vynechat = ['Win_tot_f2', 'DRAW_f2','No_contest_f2']\n",
    "sloupce = [x for x in sloupce1 if x not in vynechat]\n",
    "for sloupec in sloupce:    \n",
    "    splited = sloupec.split('_')\n",
    "    if 'CTRL' in splited:\n",
    "        df.loc[:,splited[0]+'_pct_'+splited[1]+splited[2]] = df[sloupec]/df['TotalTime'+'_'+splited[2]]\n",
    "    if 'attemps' in splited:\n",
    "        df.loc[:,splited[0]+'_acc_'+ splited[2] + splited[3]] = df[sloupec.replace('attemps', 'landed')]/df[sloupec]\n",
    "        df.loc[:,splited[0]+'_perRound_'+ splited[2] + splited[3]] = (df[sloupec.replace('attemps', 'landed')]/df['TotalTime'+'_'+splited[3]])*300\n",
    "        \n",
    "    "
   ]
  },
  {
   "cell_type": "code",
   "execution_count": 307,
   "id": "2417f114",
   "metadata": {},
   "outputs": [
    {
     "data": {
      "text/html": [
       "<div>\n",
       "<style scoped>\n",
       "    .dataframe tbody tr th:only-of-type {\n",
       "        vertical-align: middle;\n",
       "    }\n",
       "\n",
       "    .dataframe tbody tr th {\n",
       "        vertical-align: top;\n",
       "    }\n",
       "\n",
       "    .dataframe thead th {\n",
       "        text-align: right;\n",
       "    }\n",
       "</style>\n",
       "<table border=\"1\" class=\"dataframe\">\n",
       "  <thead>\n",
       "    <tr style=\"text-align: right;\">\n",
       "      <th></th>\n",
       "      <th>EVENT</th>\n",
       "      <th>BOUT</th>\n",
       "      <th>FIGHTER_f1</th>\n",
       "      <th>OPPONENT</th>\n",
       "      <th>METHOD</th>\n",
       "    </tr>\n",
       "  </thead>\n",
       "  <tbody>\n",
       "    <tr>\n",
       "      <th>0</th>\n",
       "      <td>UFC 2: No Way Out</td>\n",
       "      <td>Royce Gracie vs. Patrick Smith</td>\n",
       "      <td>Patrick Smith</td>\n",
       "      <td>Royce Gracie</td>\n",
       "      <td>KO/TKO - ground</td>\n",
       "    </tr>\n",
       "    <tr>\n",
       "      <th>1</th>\n",
       "      <td>UFC 2: No Way Out</td>\n",
       "      <td>Royce Gracie vs. Patrick Smith</td>\n",
       "      <td>Royce Gracie</td>\n",
       "      <td>Patrick Smith</td>\n",
       "      <td>KO/TKO - ground</td>\n",
       "    </tr>\n",
       "    <tr>\n",
       "      <th>2</th>\n",
       "      <td>UFC 2: No Way Out</td>\n",
       "      <td>Royce Gracie vs. Remco Pardoel</td>\n",
       "      <td>Remco Pardoel</td>\n",
       "      <td>Royce Gracie</td>\n",
       "      <td>Submission</td>\n",
       "    </tr>\n",
       "    <tr>\n",
       "      <th>3</th>\n",
       "      <td>UFC 2: No Way Out</td>\n",
       "      <td>Royce Gracie vs. Remco Pardoel</td>\n",
       "      <td>Royce Gracie</td>\n",
       "      <td>Remco Pardoel</td>\n",
       "      <td>Submission</td>\n",
       "    </tr>\n",
       "    <tr>\n",
       "      <th>4</th>\n",
       "      <td>UFC 4: Revenge of the Warriors</td>\n",
       "      <td>Royce Gracie vs. Dan Severn</td>\n",
       "      <td>Dan Severn</td>\n",
       "      <td>Royce Gracie</td>\n",
       "      <td>Submission</td>\n",
       "    </tr>\n",
       "    <tr>\n",
       "      <th>...</th>\n",
       "      <td>...</td>\n",
       "      <td>...</td>\n",
       "      <td>...</td>\n",
       "      <td>...</td>\n",
       "      <td>...</td>\n",
       "    </tr>\n",
       "    <tr>\n",
       "      <th>6812</th>\n",
       "      <td>UFC Fight Night: Cannonier vs. Strickland</td>\n",
       "      <td>Jared Cannonier vs. Sean Strickland</td>\n",
       "      <td>Sean Strickland</td>\n",
       "      <td>Jared Cannonier</td>\n",
       "      <td>Decision</td>\n",
       "    </tr>\n",
       "    <tr>\n",
       "      <th>6813</th>\n",
       "      <td>UFC Fight Night: Cannonier vs. Strickland</td>\n",
       "      <td>Said Nurmagomedov vs. Saidyokub Kakhramonov</td>\n",
       "      <td>Said Nurmagomedov</td>\n",
       "      <td>Saidyokub Kakhramonov</td>\n",
       "      <td>Submission</td>\n",
       "    </tr>\n",
       "    <tr>\n",
       "      <th>6814</th>\n",
       "      <td>UFC Fight Night: Cannonier vs. Strickland</td>\n",
       "      <td>Said Nurmagomedov vs. Saidyokub Kakhramonov</td>\n",
       "      <td>Saidyokub Kakhramonov</td>\n",
       "      <td>Said Nurmagomedov</td>\n",
       "      <td>Submission</td>\n",
       "    </tr>\n",
       "    <tr>\n",
       "      <th>6815</th>\n",
       "      <td>UFC Fight Night: Cannonier vs. Strickland</td>\n",
       "      <td>Sergey Morozov vs. Journey Newson</td>\n",
       "      <td>Journey Newson</td>\n",
       "      <td>Sergey Morozov</td>\n",
       "      <td>Decision</td>\n",
       "    </tr>\n",
       "    <tr>\n",
       "      <th>6816</th>\n",
       "      <td>UFC Fight Night: Cannonier vs. Strickland</td>\n",
       "      <td>Sergey Morozov vs. Journey Newson</td>\n",
       "      <td>Sergey Morozov</td>\n",
       "      <td>Journey Newson</td>\n",
       "      <td>Decision</td>\n",
       "    </tr>\n",
       "  </tbody>\n",
       "</table>\n",
       "<p>6817 rows × 5 columns</p>\n",
       "</div>"
      ],
      "text/plain": [
       "                                          EVENT  \\\n",
       "0                             UFC 2: No Way Out   \n",
       "1                             UFC 2: No Way Out   \n",
       "2                             UFC 2: No Way Out   \n",
       "3                             UFC 2: No Way Out   \n",
       "4                UFC 4: Revenge of the Warriors   \n",
       "...                                         ...   \n",
       "6812  UFC Fight Night: Cannonier vs. Strickland   \n",
       "6813  UFC Fight Night: Cannonier vs. Strickland   \n",
       "6814  UFC Fight Night: Cannonier vs. Strickland   \n",
       "6815  UFC Fight Night: Cannonier vs. Strickland   \n",
       "6816  UFC Fight Night: Cannonier vs. Strickland   \n",
       "\n",
       "                                             BOUT             FIGHTER_f1  \\\n",
       "0                  Royce Gracie vs. Patrick Smith          Patrick Smith   \n",
       "1                  Royce Gracie vs. Patrick Smith           Royce Gracie   \n",
       "2                  Royce Gracie vs. Remco Pardoel          Remco Pardoel   \n",
       "3                  Royce Gracie vs. Remco Pardoel           Royce Gracie   \n",
       "4                     Royce Gracie vs. Dan Severn             Dan Severn   \n",
       "...                                           ...                    ...   \n",
       "6812          Jared Cannonier vs. Sean Strickland        Sean Strickland   \n",
       "6813  Said Nurmagomedov vs. Saidyokub Kakhramonov      Said Nurmagomedov   \n",
       "6814  Said Nurmagomedov vs. Saidyokub Kakhramonov  Saidyokub Kakhramonov   \n",
       "6815            Sergey Morozov vs. Journey Newson         Journey Newson   \n",
       "6816            Sergey Morozov vs. Journey Newson         Sergey Morozov   \n",
       "\n",
       "                   OPPONENT           METHOD  \n",
       "0              Royce Gracie  KO/TKO - ground  \n",
       "1             Patrick Smith  KO/TKO - ground  \n",
       "2              Royce Gracie       Submission  \n",
       "3             Remco Pardoel       Submission  \n",
       "4              Royce Gracie       Submission  \n",
       "...                     ...              ...  \n",
       "6812        Jared Cannonier         Decision  \n",
       "6813  Saidyokub Kakhramonov       Submission  \n",
       "6814      Said Nurmagomedov       Submission  \n",
       "6815         Sergey Morozov         Decision  \n",
       "6816         Journey Newson         Decision  \n",
       "\n",
       "[6817 rows x 5 columns]"
      ]
     },
     "execution_count": 307,
     "metadata": {},
     "output_type": "execute_result"
    }
   ],
   "source": [
    "df.iloc[:,:5]"
   ]
  },
  {
   "cell_type": "code",
   "execution_count": 308,
   "id": "4e6956bf",
   "metadata": {},
   "outputs": [],
   "source": [
    "df = df.drop(sloupce, axis=1)"
   ]
  },
  {
   "cell_type": "code",
   "execution_count": 309,
   "id": "eefa5d15",
   "metadata": {},
   "outputs": [],
   "source": [
    "df_model = df.drop(['EVENT','BOUT','FIGHTER_f1','OPPONENT','METHOD','Women_fight','ROUND','TotalTime_f1'],axis=1)"
   ]
  },
  {
   "cell_type": "code",
   "execution_count": 310,
   "id": "9b03af1f",
   "metadata": {},
   "outputs": [
    {
     "name": "stdout",
     "output_type": "stream",
     "text": [
      "<class 'pandas.core.frame.DataFrame'>\n",
      "Int64Index: 6817 entries, 0 to 6816\n",
      "Data columns (total 90 columns):\n",
      " #   Column                          Non-Null Count  Dtype  \n",
      "---  ------                          --------------  -----  \n",
      " 0   Win                             6817 non-null   int64  \n",
      " 1   HEIGHT_diff                     6817 non-null   float64\n",
      " 2   REACH_diff                      6817 non-null   float64\n",
      " 3   AGE_diff                        6817 non-null   float64\n",
      " 4   form_skore_fighter              6817 non-null   float64\n",
      " 5   form_skore_opponent             6817 non-null   float64\n",
      " 6   fightNo_fighter                 6817 non-null   int64  \n",
      " 7   fightNo_opponent                6817 non-null   float64\n",
      " 8   Win_tot_f1                      6817 non-null   float64\n",
      " 9   DRAW_f1                         6817 non-null   float64\n",
      " 10  No_contest_f1                   6817 non-null   float64\n",
      " 11  Win_tot_f2                      6817 non-null   float64\n",
      " 12  DRAW_f2                         6817 non-null   float64\n",
      " 13  No_contest_f2                   6817 non-null   float64\n",
      " 14  CTRL_pct_fighterf1              6817 non-null   float64\n",
      " 15  SIG.STR._acc_fighterf1          6817 non-null   float64\n",
      " 16  SIG.STR._perRound_fighterf1     6817 non-null   float64\n",
      " 17  TOTAL STR._acc_fighterf1        6817 non-null   float64\n",
      " 18  TOTAL STR._perRound_fighterf1   6817 non-null   float64\n",
      " 19  TD_acc_fighterf1                6817 non-null   float64\n",
      " 20  TD_perRound_fighterf1           6817 non-null   float64\n",
      " 21  HEAD_acc_fighterf1              6817 non-null   float64\n",
      " 22  HEAD_perRound_fighterf1         6817 non-null   float64\n",
      " 23  BODY_acc_fighterf1              6817 non-null   float64\n",
      " 24  BODY_perRound_fighterf1         6817 non-null   float64\n",
      " 25  LEG_acc_fighterf1               6817 non-null   float64\n",
      " 26  LEG_perRound_fighterf1          6817 non-null   float64\n",
      " 27  DISTANCE_acc_fighterf1          6817 non-null   float64\n",
      " 28  DISTANCE_perRound_fighterf1     6817 non-null   float64\n",
      " 29  CLINCH_acc_fighterf1            6817 non-null   float64\n",
      " 30  CLINCH_perRound_fighterf1       6817 non-null   float64\n",
      " 31  GROUND_acc_fighterf1            6817 non-null   float64\n",
      " 32  GROUND_perRound_fighterf1       6817 non-null   float64\n",
      " 33  CTRL_pct_opponentf1             6817 non-null   float64\n",
      " 34  SIG.STR._acc_opponentf1         6817 non-null   float64\n",
      " 35  SIG.STR._perRound_opponentf1    6817 non-null   float64\n",
      " 36  TOTAL STR._acc_opponentf1       6817 non-null   float64\n",
      " 37  TOTAL STR._perRound_opponentf1  6817 non-null   float64\n",
      " 38  TD_acc_opponentf1               6817 non-null   float64\n",
      " 39  TD_perRound_opponentf1          6817 non-null   float64\n",
      " 40  HEAD_acc_opponentf1             6817 non-null   float64\n",
      " 41  HEAD_perRound_opponentf1        6817 non-null   float64\n",
      " 42  BODY_acc_opponentf1             6817 non-null   float64\n",
      " 43  BODY_perRound_opponentf1        6817 non-null   float64\n",
      " 44  LEG_acc_opponentf1              6817 non-null   float64\n",
      " 45  LEG_perRound_opponentf1         6817 non-null   float64\n",
      " 46  DISTANCE_acc_opponentf1         6817 non-null   float64\n",
      " 47  DISTANCE_perRound_opponentf1    6817 non-null   float64\n",
      " 48  CLINCH_acc_opponentf1           6817 non-null   float64\n",
      " 49  CLINCH_perRound_opponentf1      6817 non-null   float64\n",
      " 50  GROUND_acc_opponentf1           6817 non-null   float64\n",
      " 51  GROUND_perRound_opponentf1      6817 non-null   float64\n",
      " 52  CTRL_pct_fighterf2              6817 non-null   float64\n",
      " 53  SIG.STR._acc_fighterf2          6817 non-null   float64\n",
      " 54  SIG.STR._perRound_fighterf2     6817 non-null   float64\n",
      " 55  TOTAL STR._acc_fighterf2        6817 non-null   float64\n",
      " 56  TOTAL STR._perRound_fighterf2   6817 non-null   float64\n",
      " 57  TD_acc_fighterf2                6817 non-null   float64\n",
      " 58  TD_perRound_fighterf2           6817 non-null   float64\n",
      " 59  HEAD_acc_fighterf2              6817 non-null   float64\n",
      " 60  HEAD_perRound_fighterf2         6817 non-null   float64\n",
      " 61  BODY_acc_fighterf2              6817 non-null   float64\n",
      " 62  BODY_perRound_fighterf2         6817 non-null   float64\n",
      " 63  LEG_acc_fighterf2               6817 non-null   float64\n",
      " 64  LEG_perRound_fighterf2          6817 non-null   float64\n",
      " 65  DISTANCE_acc_fighterf2          6817 non-null   float64\n",
      " 66  DISTANCE_perRound_fighterf2     6817 non-null   float64\n",
      " 67  CLINCH_acc_fighterf2            6817 non-null   float64\n",
      " 68  CLINCH_perRound_fighterf2       6817 non-null   float64\n",
      " 69  GROUND_acc_fighterf2            6817 non-null   float64\n",
      " 70  GROUND_perRound_fighterf2       6817 non-null   float64\n",
      " 71  CTRL_pct_opponentf2             6817 non-null   float64\n",
      " 72  SIG.STR._acc_opponentf2         6817 non-null   float64\n",
      " 73  SIG.STR._perRound_opponentf2    6817 non-null   float64\n",
      " 74  TOTAL STR._acc_opponentf2       6817 non-null   float64\n",
      " 75  TOTAL STR._perRound_opponentf2  6817 non-null   float64\n",
      " 76  TD_acc_opponentf2               6817 non-null   float64\n",
      " 77  TD_perRound_opponentf2          6817 non-null   float64\n",
      " 78  HEAD_acc_opponentf2             6817 non-null   float64\n",
      " 79  HEAD_perRound_opponentf2        6817 non-null   float64\n",
      " 80  BODY_acc_opponentf2             6817 non-null   float64\n",
      " 81  BODY_perRound_opponentf2        6817 non-null   float64\n",
      " 82  LEG_acc_opponentf2              6817 non-null   float64\n",
      " 83  LEG_perRound_opponentf2         6817 non-null   float64\n",
      " 84  DISTANCE_acc_opponentf2         6817 non-null   float64\n",
      " 85  DISTANCE_perRound_opponentf2    6817 non-null   float64\n",
      " 86  CLINCH_acc_opponentf2           6817 non-null   float64\n",
      " 87  CLINCH_perRound_opponentf2      6817 non-null   float64\n",
      " 88  GROUND_acc_opponentf2           6817 non-null   float64\n",
      " 89  GROUND_perRound_opponentf2      6817 non-null   float64\n",
      "dtypes: float64(88), int64(2)\n",
      "memory usage: 4.7 MB\n"
     ]
    }
   ],
   "source": [
    "df_model = df_model.fillna(0)\n",
    "df_model.info()"
   ]
  },
  {
   "cell_type": "code",
   "execution_count": 311,
   "id": "f6fc0f16",
   "metadata": {},
   "outputs": [
    {
     "name": "stdout",
     "output_type": "stream",
     "text": [
      "(6617, 200, 89)\n",
      "Epoch 1/50\n",
      "166/166 [==============================] - 18s 98ms/step - loss: 0.7008 - accuracy: 0.5014 - val_loss: 0.6956 - val_accuracy: 0.4924\n",
      "Epoch 2/50\n",
      "166/166 [==============================] - 16s 95ms/step - loss: 0.6968 - accuracy: 0.5088 - val_loss: 0.6913 - val_accuracy: 0.5219\n",
      "Epoch 3/50\n",
      "166/166 [==============================] - 15s 93ms/step - loss: 0.6932 - accuracy: 0.5135 - val_loss: 0.6973 - val_accuracy: 0.4940\n",
      "Epoch 4/50\n",
      "166/166 [==============================] - 15s 91ms/step - loss: 0.6924 - accuracy: 0.5256 - val_loss: 0.6969 - val_accuracy: 0.5091\n",
      "Epoch 5/50\n",
      "166/166 [==============================] - 15s 92ms/step - loss: 0.6906 - accuracy: 0.5277 - val_loss: 0.6886 - val_accuracy: 0.5559\n",
      "Epoch 6/50\n",
      "166/166 [==============================] - 16s 96ms/step - loss: 0.6908 - accuracy: 0.5324 - val_loss: 0.6881 - val_accuracy: 0.5332\n",
      "Epoch 7/50\n",
      "166/166 [==============================] - 15s 91ms/step - loss: 0.6892 - accuracy: 0.5341 - val_loss: 0.6856 - val_accuracy: 0.5544\n",
      "Epoch 8/50\n",
      "166/166 [==============================] - 15s 92ms/step - loss: 0.6869 - accuracy: 0.5505 - val_loss: 0.6849 - val_accuracy: 0.5483\n",
      "Epoch 9/50\n",
      "166/166 [==============================] - 15s 92ms/step - loss: 0.6868 - accuracy: 0.5503 - val_loss: 0.6846 - val_accuracy: 0.5476\n",
      "Epoch 10/50\n",
      "166/166 [==============================] - 15s 92ms/step - loss: 0.6857 - accuracy: 0.5415 - val_loss: 0.6885 - val_accuracy: 0.5332\n",
      "Epoch 11/50\n",
      "166/166 [==============================] - 15s 91ms/step - loss: 0.6845 - accuracy: 0.5534 - val_loss: 0.6840 - val_accuracy: 0.5566\n",
      "Epoch 12/50\n",
      "166/166 [==============================] - 16s 94ms/step - loss: 0.6853 - accuracy: 0.5496 - val_loss: 0.6864 - val_accuracy: 0.5438\n",
      "Epoch 13/50\n",
      "166/166 [==============================] - 16s 95ms/step - loss: 0.6843 - accuracy: 0.5507 - val_loss: 0.6893 - val_accuracy: 0.5227\n",
      "Epoch 14/50\n",
      "166/166 [==============================] - 15s 93ms/step - loss: 0.6831 - accuracy: 0.5585 - val_loss: 0.6852 - val_accuracy: 0.5544\n",
      "Epoch 15/50\n",
      "166/166 [==============================] - 16s 94ms/step - loss: 0.6827 - accuracy: 0.5598 - val_loss: 0.6853 - val_accuracy: 0.5438\n",
      "Epoch 16/50\n",
      "166/166 [==============================] - 15s 93ms/step - loss: 0.6822 - accuracy: 0.5624 - val_loss: 0.6862 - val_accuracy: 0.5393\n",
      "Epoch 17/50\n",
      "166/166 [==============================] - 15s 92ms/step - loss: 0.6792 - accuracy: 0.5641 - val_loss: 0.6956 - val_accuracy: 0.5363\n",
      "Epoch 18/50\n",
      "166/166 [==============================] - 15s 92ms/step - loss: 0.6791 - accuracy: 0.5617 - val_loss: 0.6880 - val_accuracy: 0.5431\n",
      "Epoch 19/50\n",
      "166/166 [==============================] - 15s 93ms/step - loss: 0.6779 - accuracy: 0.5611 - val_loss: 0.6900 - val_accuracy: 0.5415\n",
      "Epoch 20/50\n",
      "166/166 [==============================] - 16s 96ms/step - loss: 0.6771 - accuracy: 0.5634 - val_loss: 0.6888 - val_accuracy: 0.5347\n",
      "Epoch 21/50\n",
      "166/166 [==============================] - 16s 94ms/step - loss: 0.6767 - accuracy: 0.5691 - val_loss: 0.6886 - val_accuracy: 0.5446\n",
      "Epoch 22/50\n",
      "166/166 [==============================] - 16s 94ms/step - loss: 0.6749 - accuracy: 0.5762 - val_loss: 0.6889 - val_accuracy: 0.5393\n",
      "Epoch 23/50\n",
      "166/166 [==============================] - 16s 95ms/step - loss: 0.6737 - accuracy: 0.5749 - val_loss: 0.6900 - val_accuracy: 0.5332\n",
      "Epoch 24/50\n",
      "166/166 [==============================] - 16s 94ms/step - loss: 0.6731 - accuracy: 0.5802 - val_loss: 0.6914 - val_accuracy: 0.5461\n",
      "Epoch 25/50\n",
      "166/166 [==============================] - 15s 93ms/step - loss: 0.6709 - accuracy: 0.5919 - val_loss: 0.6904 - val_accuracy: 0.5483\n",
      "Epoch 26/50\n",
      "166/166 [==============================] - 15s 91ms/step - loss: 0.6692 - accuracy: 0.5874 - val_loss: 0.6887 - val_accuracy: 0.5468\n",
      "Epoch 27/50\n",
      "166/166 [==============================] - 15s 91ms/step - loss: 0.6689 - accuracy: 0.5895 - val_loss: 0.6898 - val_accuracy: 0.5385\n",
      "Epoch 28/50\n",
      "166/166 [==============================] - 15s 93ms/step - loss: 0.6668 - accuracy: 0.5919 - val_loss: 0.6920 - val_accuracy: 0.5317\n",
      "Epoch 29/50\n",
      "166/166 [==============================] - 16s 97ms/step - loss: 0.6627 - accuracy: 0.6042 - val_loss: 0.7018 - val_accuracy: 0.5317\n",
      "Epoch 30/50\n",
      "166/166 [==============================] - 16s 95ms/step - loss: 0.6609 - accuracy: 0.6048 - val_loss: 0.7036 - val_accuracy: 0.5476\n",
      "Epoch 31/50\n",
      "166/166 [==============================] - 16s 94ms/step - loss: 0.6559 - accuracy: 0.6076 - val_loss: 0.7182 - val_accuracy: 0.5574\n",
      "Epoch 32/50\n",
      "166/166 [==============================] - 16s 94ms/step - loss: 0.6568 - accuracy: 0.6036 - val_loss: 0.7016 - val_accuracy: 0.5385\n",
      "Epoch 33/50\n",
      "166/166 [==============================] - 16s 94ms/step - loss: 0.6493 - accuracy: 0.6167 - val_loss: 0.6979 - val_accuracy: 0.5461\n",
      "Epoch 34/50\n",
      "166/166 [==============================] - 16s 95ms/step - loss: 0.6431 - accuracy: 0.6272 - val_loss: 0.7039 - val_accuracy: 0.5385\n",
      "Epoch 35/50\n",
      "166/166 [==============================] - 16s 95ms/step - loss: 0.6350 - accuracy: 0.6354 - val_loss: 0.6977 - val_accuracy: 0.5378\n",
      "Epoch 36/50\n",
      "166/166 [==============================] - 15s 93ms/step - loss: 0.6290 - accuracy: 0.6465 - val_loss: 0.7103 - val_accuracy: 0.5385\n",
      "Epoch 37/50\n",
      "166/166 [==============================] - 16s 94ms/step - loss: 0.6201 - accuracy: 0.6599 - val_loss: 0.7092 - val_accuracy: 0.5438\n",
      "Epoch 38/50\n",
      "166/166 [==============================] - 15s 93ms/step - loss: 0.6086 - accuracy: 0.6686 - val_loss: 0.7353 - val_accuracy: 0.5385\n",
      "Epoch 39/50\n",
      "166/166 [==============================] - 15s 93ms/step - loss: 0.5988 - accuracy: 0.6786 - val_loss: 0.7251 - val_accuracy: 0.5657\n",
      "Epoch 40/50\n",
      "166/166 [==============================] - 16s 94ms/step - loss: 0.5868 - accuracy: 0.6834 - val_loss: 0.7392 - val_accuracy: 0.5483\n",
      "Epoch 41/50\n",
      "166/166 [==============================] - 15s 93ms/step - loss: 0.5757 - accuracy: 0.6960 - val_loss: 0.7210 - val_accuracy: 0.5680\n",
      "Epoch 42/50\n",
      "166/166 [==============================] - 16s 94ms/step - loss: 0.5570 - accuracy: 0.7143 - val_loss: 0.7476 - val_accuracy: 0.5733\n",
      "Epoch 43/50\n",
      "166/166 [==============================] - 15s 93ms/step - loss: 0.5487 - accuracy: 0.7215 - val_loss: 0.7235 - val_accuracy: 0.5861\n",
      "Epoch 44/50\n",
      "166/166 [==============================] - 16s 94ms/step - loss: 0.5344 - accuracy: 0.7293 - val_loss: 0.7458 - val_accuracy: 0.5816\n",
      "Epoch 45/50\n",
      "166/166 [==============================] - 17s 100ms/step - loss: 0.5230 - accuracy: 0.7414 - val_loss: 0.7321 - val_accuracy: 0.5899\n",
      "Epoch 46/50\n",
      "166/166 [==============================] - 16s 95ms/step - loss: 0.5152 - accuracy: 0.7442 - val_loss: 0.7370 - val_accuracy: 0.5989\n",
      "Epoch 47/50\n",
      "166/166 [==============================] - 15s 93ms/step - loss: 0.4958 - accuracy: 0.7576 - val_loss: 0.7625 - val_accuracy: 0.6095\n",
      "Epoch 48/50\n",
      "166/166 [==============================] - 16s 93ms/step - loss: 0.4831 - accuracy: 0.7680 - val_loss: 0.7478 - val_accuracy: 0.5959\n",
      "Epoch 49/50\n",
      "166/166 [==============================] - 16s 95ms/step - loss: 0.4669 - accuracy: 0.7837 - val_loss: 0.7626 - val_accuracy: 0.6307\n",
      "Epoch 50/50\n",
      "166/166 [==============================] - 15s 93ms/step - loss: 0.4544 - accuracy: 0.7854 - val_loss: 0.7555 - val_accuracy: 0.6178\n",
      "42/42 [==============================] - 2s 36ms/step - loss: 0.7555 - accuracy: 0.6178\n",
      "Test accuracy: 0.6178247928619385\n"
     ]
    }
   ],
   "source": [
    "import pandas as pd\n",
    "from keras.layers import LSTM, Dense\n",
    "from keras.models import Sequential\n",
    "from sklearn.preprocessing import MinMaxScaler\n",
    "from sklearn.model_selection import train_test_split\n",
    "\n",
    "# načtení dat\n",
    "\n",
    "# definice lookback\n",
    "lookback = 200\n",
    "\n",
    "# převod dat na numpy array\n",
    "data = df_model.values\n",
    "scaler = MinMaxScaler(feature_range=(0, 1))\n",
    "data_scaled = scaler.fit_transform(data)\n",
    "\n",
    "# rozdělení dat na trénovací a testovací\n",
    "X = []\n",
    "y = []\n",
    "for i in range(lookback, len(data)):\n",
    "    X.append(data_scaled[i-lookback:i, 1:])\n",
    "    y.append(data_scaled[i, 0])\n",
    "X = np.array(X)\n",
    "y = np.array(y)\n",
    "print(X.shape)\n",
    "X_train, X_test, y_train, y_test = train_test_split(X, y, test_size=0.2)\n",
    "\n",
    "# vytvoření modelu\n",
    "model = Sequential()\n",
    "model.add(LSTM(units=100, input_shape=(lookback, data.shape[1]-1)))\n",
    "model.add(Dropout(0.3))\n",
    "model.add(Dense(1, activation='sigmoid'))\n",
    "model.compile(loss=\"binary_crossentropy\", optimizer=\"adam\", metrics=['accuracy'])\n",
    "\n",
    "# natrénování modelu na trénovacích datech\n",
    "model.fit(X_train, y_train, epochs=50, batch_size=32,validation_data=(X_test, y_test))\n",
    "\n",
    "# hodnocení modelu na testovacích datech\n",
    "test_loss, test_acc = model.evaluate(X_test, y_test)\n",
    "print('Test accuracy:', test_acc)\n"
   ]
  },
  {
   "cell_type": "code",
   "execution_count": 312,
   "id": "44f54321",
   "metadata": {},
   "outputs": [
    {
     "name": "stdout",
     "output_type": "stream",
     "text": [
      "42/42 [==============================] - 3s 35ms/step\n"
     ]
    },
    {
     "data": {
      "image/png": "[encoded data removed]",
      "text/plain": [
       "<Figure size 640x480 with 1 Axes>"
      ]
     },
     "metadata": {},
     "output_type": "display_data"
    }
   ],
   "source": [
    "from sklearn.metrics import roc_curve\n",
    "import matplotlib.pyplot as plt\n",
    "y_pred_proba =model.predict(X_test)\n",
    "fpr, tpr, _ = roc_curve(y_test,  y_pred_proba)\n",
    "auc = roc_auc_score(y_test, y_pred_proba)\n",
    "plt.plot(fpr,tpr,label=\"data 1, auc=\"+str(auc))\n",
    "plt.legend(loc=4)\n",
    "plt.title(\"AUC ROC Curve\")\n",
    "plt.show()"
   ]
  },
  {
   "cell_type": "code",
   "execution_count": 313,
   "id": "0c206b68",
   "metadata": {},
   "outputs": [
    {
     "name": "stdout",
     "output_type": "stream",
     "text": [
      "              precision    recall  f1-score   support\n",
      "\n",
      "         0.0       0.62      0.64      0.63       673\n",
      "         1.0       0.61      0.60      0.61       651\n",
      "\n",
      "    accuracy                           0.62      1324\n",
      "   macro avg       0.62      0.62      0.62      1324\n",
      "weighted avg       0.62      0.62      0.62      1324\n",
      "\n",
      "AUC-ROC score:  0.6580800368846191\n"
     ]
    }
   ],
   "source": [
    "from sklearn.metrics import classification_report\n",
    "auc = roc_auc_score(y_test, y_pred_proba) \n",
    "y_pred_binary = (y_pred_proba > 0.5).astype(int)\n",
    "print(classification_report(y_test, y_pred_binary))\n",
    "print('AUC-ROC score: ', auc)"
   ]
  },
  {
   "cell_type": "code",
   "execution_count": 280,
   "id": "f8f65bf1",
   "metadata": {
    "scrolled": true
   },
   "outputs": [
    {
     "data": {
      "text/plain": [
       "0.006957125"
      ]
     },
     "execution_count": 280,
     "metadata": {},
     "output_type": "execute_result"
    }
   ],
   "source": [
    "np.min(y_pred_proba)"
   ]
  },
  {
   "cell_type": "code",
   "execution_count": 23,
   "id": "4897ec9a",
   "metadata": {},
   "outputs": [],
   "source": [
    "model.save('model2.h5')\n",
    "model.save_weights('my_model_weights.h5')  # to store\n"
   ]
  },
  {
   "cell_type": "code",
   "execution_count": 150,
   "id": "450f5d2e",
   "metadata": {},
   "outputs": [
    {
     "data": {
      "text/plain": [
       "array([0.53846154, 0.5       , 0.20588235, 0.63333333, 0.2       ,\n",
       "       0.02702703, 0.        , 0.08695652, 0.        , 0.        ,\n",
       "       0.        , 0.        , 0.5       , 0.22091126, 0.50352113,\n",
       "       0.147237  , 0.58873189, 0.20229226, 1.        , 0.06088825,\n",
       "       0.34259259, 0.09319253, 0.78571429, 0.07811137, 0.9       ,\n",
       "       0.20044282, 0.36144578, 0.12981697, 0.53333333, 0.07348727,\n",
       "       0.68965517, 0.09013849, 0.38252811, 0.38888889, 0.16902459,\n",
       "       0.48091603, 0.12443641, 0.4       , 0.09312321, 0.31034483,\n",
       "       0.13488662, 1.        , 0.02826134, 0.66666667, 0.15311605,\n",
       "       0.33783784, 0.11484677, 0.58823529, 0.0847063 , 0.41176471,\n",
       "       0.0465616 , 0.46874317, 0.48507463, 0.08439799, 0.67340067,\n",
       "       0.21178436, 1.        , 0.1535682 , 0.25531915, 0.03811522,\n",
       "       0.9       , 0.1611877 , 0.        , 0.        , 0.        ,\n",
       "       0.        , 0.70588235, 0.13900845, 0.31578947, 0.03410117,\n",
       "       0.5189535 , 0.76785714, 0.21822619, 0.87      , 0.21670253,\n",
       "       0.        , 0.        , 0.61290323, 0.11970065, 1.        ,\n",
       "       0.24947589, 0.75      , 0.04827236, 0.75      , 0.01737952,\n",
       "       0.76923077, 0.42728094, 0.        , 0.        ])"
      ]
     },
     "execution_count": 150,
     "metadata": {},
     "output_type": "execute_result"
    }
   ],
   "source": [
    "new_data  =data_scaled[105,:]\n",
    "new_data = new_data[1:]\n",
    "new_data"
   ]
  },
  {
   "cell_type": "code",
   "execution_count": 151,
   "id": "2b919261",
   "metadata": {},
   "outputs": [
    {
     "data": {
      "text/plain": [
       "array([[0.53846154, 0.5       , 0.20588235, 0.63333333, 0.2       ,\n",
       "        0.02702703, 0.        , 0.08695652, 0.        , 0.        ,\n",
       "        0.        , 0.        , 0.5       , 0.22091126, 0.50352113,\n",
       "        0.147237  , 0.58873189, 0.20229226, 1.        , 0.06088825,\n",
       "        0.34259259, 0.09319253, 0.78571429, 0.07811137, 0.9       ,\n",
       "        0.20044282, 0.36144578, 0.12981697, 0.53333333, 0.07348727,\n",
       "        0.68965517, 0.09013849, 0.38252811, 0.38888889, 0.16902459,\n",
       "        0.48091603, 0.12443641, 0.4       , 0.09312321, 0.31034483,\n",
       "        0.13488662, 1.        , 0.02826134, 0.66666667, 0.15311605,\n",
       "        0.33783784, 0.11484677, 0.58823529, 0.0847063 , 0.41176471,\n",
       "        0.0465616 , 0.46874317, 0.48507463, 0.08439799, 0.67340067,\n",
       "        0.21178436, 1.        , 0.1535682 , 0.25531915, 0.03811522,\n",
       "        0.9       , 0.1611877 , 0.        , 0.        , 0.        ,\n",
       "        0.        , 0.70588235, 0.13900845, 0.31578947, 0.03410117,\n",
       "        0.5189535 , 0.76785714, 0.21822619, 0.87      , 0.21670253,\n",
       "        0.        , 0.        , 0.61290323, 0.11970065, 1.        ,\n",
       "        0.24947589, 0.75      , 0.04827236, 0.75      , 0.01737952,\n",
       "        0.76923077, 0.42728094, 0.        , 0.        ]])"
      ]
     },
     "execution_count": 151,
     "metadata": {},
     "output_type": "execute_result"
    }
   ],
   "source": [
    "\n",
    "new_data = np.reshape(new_data, (1,1,new_data.shape[0]))\n",
    "new_data"
   ]
  },
  {
   "cell_type": "code",
   "execution_count": 152,
   "id": "977d1f7a",
   "metadata": {
    "scrolled": true
   },
   "outputs": [
    {
     "name": "stdout",
     "output_type": "stream",
     "text": [
      "1/1 [==============================] - 0s 23ms/step\n"
     ]
    }
   ],
   "source": [
    "y_pred = model.predict(new_data)"
   ]
  },
  {
   "cell_type": "code",
   "execution_count": 27,
   "id": "1cc06bbf",
   "metadata": {},
   "outputs": [
    {
     "data": {
      "text/plain": [
       "array([[0.04545613]], dtype=float32)"
      ]
     },
     "execution_count": 27,
     "metadata": {},
     "output_type": "execute_result"
    }
   ],
   "source": [
    "y_pred"
   ]
  },
  {
   "cell_type": "code",
   "execution_count": 384,
   "id": "427be37d",
   "metadata": {},
   "outputs": [],
   "source": [
    "from datetime import date\n",
    "\n",
    "today = date.today()\n",
    "df_fighters_details['AGE'] = (pd.to_datetime(today) - pd.to_datetime(df_fighters_details['DOB'])).astype('<m8[Y]')"
   ]
  },
  {
   "cell_type": "code",
   "execution_count": 385,
   "id": "5975f89e",
   "metadata": {},
   "outputs": [],
   "source": [
    "fighter2 = \"Kamaru Usman\"\n",
    "fighter1= \"Leon Edwards\"\n"
   ]
  },
  {
   "cell_type": "code",
   "execution_count": 386,
   "id": "cd180742",
   "metadata": {},
   "outputs": [],
   "source": [
    "f1_df = df_fighters.loc[df_fighters['FIGHTER']==fighter1]\n",
    "f2_df = df_fighters.loc[df_fighters['FIGHTER']==fighter2]"
   ]
  },
  {
   "cell_type": "code",
   "execution_count": 387,
   "id": "2b4a9810",
   "metadata": {},
   "outputs": [
    {
     "data": {
      "text/plain": [
       "Index(['Win', 'HEIGHT_diff', 'REACH_diff', 'AGE_diff', 'form_skore_fighter',\n",
       "       'form_skore_opponent', 'fightNo_fighter', 'fightNo_opponent',\n",
       "       'Win_tot_f1', 'DRAW_f1', 'No_contest_f1', 'Win_tot_f2', 'DRAW_f2',\n",
       "       'No_contest_f2', 'CTRL_pct_fighterf1', 'SIG.STR._acc_fighterf1',\n",
       "       'SIG.STR._perRound_fighterf1', 'TOTAL STR._acc_fighterf1',\n",
       "       'TOTAL STR._perRound_fighterf1', 'TD_acc_fighterf1',\n",
       "       'TD_perRound_fighterf1', 'HEAD_acc_fighterf1',\n",
       "       'HEAD_perRound_fighterf1', 'BODY_acc_fighterf1',\n",
       "       'BODY_perRound_fighterf1', 'LEG_acc_fighterf1',\n",
       "       'LEG_perRound_fighterf1', 'DISTANCE_acc_fighterf1',\n",
       "       'DISTANCE_perRound_fighterf1', 'CLINCH_acc_fighterf1',\n",
       "       'CLINCH_perRound_fighterf1', 'GROUND_acc_fighterf1',\n",
       "       'GROUND_perRound_fighterf1', 'CTRL_pct_opponentf1',\n",
       "       'SIG.STR._acc_opponentf1', 'SIG.STR._perRound_opponentf1',\n",
       "       'TOTAL STR._acc_opponentf1', 'TOTAL STR._perRound_opponentf1',\n",
       "       'TD_acc_opponentf1', 'TD_perRound_opponentf1', 'HEAD_acc_opponentf1',\n",
       "       'HEAD_perRound_opponentf1', 'BODY_acc_opponentf1',\n",
       "       'BODY_perRound_opponentf1', 'LEG_acc_opponentf1',\n",
       "       'LEG_perRound_opponentf1', 'DISTANCE_acc_opponentf1',\n",
       "       'DISTANCE_perRound_opponentf1', 'CLINCH_acc_opponentf1',\n",
       "       'CLINCH_perRound_opponentf1', 'GROUND_acc_opponentf1',\n",
       "       'GROUND_perRound_opponentf1', 'CTRL_pct_fighterf2',\n",
       "       'SIG.STR._acc_fighterf2', 'SIG.STR._perRound_fighterf2',\n",
       "       'TOTAL STR._acc_fighterf2', 'TOTAL STR._perRound_fighterf2',\n",
       "       'TD_acc_fighterf2', 'TD_perRound_fighterf2', 'HEAD_acc_fighterf2',\n",
       "       'HEAD_perRound_fighterf2', 'BODY_acc_fighterf2',\n",
       "       'BODY_perRound_fighterf2', 'LEG_acc_fighterf2',\n",
       "       'LEG_perRound_fighterf2', 'DISTANCE_acc_fighterf2',\n",
       "       'DISTANCE_perRound_fighterf2', 'CLINCH_acc_fighterf2',\n",
       "       'CLINCH_perRound_fighterf2', 'GROUND_acc_fighterf2',\n",
       "       'GROUND_perRound_fighterf2', 'CTRL_pct_opponentf2',\n",
       "       'SIG.STR._acc_opponentf2', 'SIG.STR._perRound_opponentf2',\n",
       "       'TOTAL STR._acc_opponentf2', 'TOTAL STR._perRound_opponentf2',\n",
       "       'TD_acc_opponentf2', 'TD_perRound_opponentf2', 'HEAD_acc_opponentf2',\n",
       "       'HEAD_perRound_opponentf2', 'BODY_acc_opponentf2',\n",
       "       'BODY_perRound_opponentf2', 'LEG_acc_opponentf2',\n",
       "       'LEG_perRound_opponentf2', 'DISTANCE_acc_opponentf2',\n",
       "       'DISTANCE_perRound_opponentf2', 'CLINCH_acc_opponentf2',\n",
       "       'CLINCH_perRound_opponentf2', 'GROUND_acc_opponentf2',\n",
       "       'GROUND_perRound_opponentf2'],\n",
       "      dtype='object')"
      ]
     },
     "execution_count": 387,
     "metadata": {},
     "output_type": "execute_result"
    }
   ],
   "source": [
    "df_model.columns"
   ]
  },
  {
   "cell_type": "code",
   "execution_count": 388,
   "id": "2f5a3e74",
   "metadata": {},
   "outputs": [],
   "source": [
    "agediff = df_fighters_details[df_fighters_details['FIGHTER']==fighter1]['AGE'].values[0] - df_fighters_details[df_fighters_details['FIGHTER']==fighter2]['AGE'].values[0]\n",
    "formy = [f1_df['form_skore_fighter'].values[0], f2_df['form_skore_fighter'].values[0]]\n",
    "no_of_fights = [f1_df['Fights'].values[0],f2_df['Fights'].values[0]]\n",
    "W_D_NC = f1_df[['Win','DRAW', 'No_contest']].values.tolist()[0] + f2_df[['Win','DRAW', 'No_contest']].values.tolist()[0]"
   ]
  },
  {
   "cell_type": "code",
   "execution_count": 389,
   "id": "5473bec1",
   "metadata": {},
   "outputs": [],
   "source": [
    "sloupce2 = df_fighters.columns.tolist()[10:]\n",
    "stats_f1 = []\n",
    "stats_f2 = []\n",
    "for sloupec in sloupce2:    \n",
    "    splited = sloupec.split('_')\n",
    "    if 'CTRL' in splited:\n",
    "        stats_f1.append((f1_df[sloupec]/f1_df['TotalTime']).values[0])\n",
    "        stats_f2.append((f2_df[sloupec]/f2_df['TotalTime']).values[0])\n",
    "    if 'attemps' in splited:\n",
    "        stats_f1.append((f1_df[sloupec.replace('attemps', 'landed')]/f1_df[sloupec]).values[0])\n",
    "        stats_f1.append((f1_df[sloupec.replace('attemps', 'landed')]/f1_df['TotalTime']).values[0]*300)\n",
    "        \n",
    "        stats_f2.append((f2_df[sloupec.replace('attemps', 'landed')]/f2_df[sloupec]).values[0])\n",
    "        stats_f2.append((f2_df[sloupec.replace('attemps', 'landed')]/f2_df['TotalTime']).values[0]*300)\n",
    "stats_list = stats_f1 + stats_f2"
   ]
  },
  {
   "cell_type": "code",
   "execution_count": 390,
   "id": "bdff40e4",
   "metadata": {},
   "outputs": [],
   "source": [
    "vstup = np.array([1]+[f1_df.iloc[0][col] - f2_df.iloc[0][col] for col in ['HEIGHT_fighter','REACH_fighter']] + [agediff] + formy + no_of_fights + W_D_NC + stats_list)"
   ]
  },
  {
   "cell_type": "code",
   "execution_count": 391,
   "id": "1fdd596e",
   "metadata": {},
   "outputs": [
    {
     "name": "stderr",
     "output_type": "stream",
     "text": [
      "C:\\Users\\spravce\\AppData\\Local\\Temp\\ipykernel_20476\\2424742869.py:2: FutureWarning: The frame.append method is deprecated and will be removed from pandas in a future version. Use pandas.concat instead.\n",
      "  vstup_scaled = scaler.fit_transform(df_model.append(pd.DataFrame(vstup.reshape(1,-1), columns=list(df_model)), ignore_index=True))[-1,:][1:]\n"
     ]
    }
   ],
   "source": [
    "scaler = MinMaxScaler(feature_range=(0, 1))\n",
    "vstup_scaled = scaler.fit_transform(df_model.append(pd.DataFrame(vstup.reshape(1,-1), columns=list(df_model)), ignore_index=True))[-1,:][1:]"
   ]
  },
  {
   "cell_type": "code",
   "execution_count": 392,
   "id": "1f3ec277",
   "metadata": {},
   "outputs": [
    {
     "data": {
      "text/plain": [
       "89"
      ]
     },
     "execution_count": 392,
     "metadata": {},
     "output_type": "execute_result"
    }
   ],
   "source": [
    "vstup_scaled.shape[0]"
   ]
  },
  {
   "cell_type": "code",
   "execution_count": 393,
   "id": "a5702284",
   "metadata": {},
   "outputs": [],
   "source": [
    "new_data = np.reshape(vstup_scaled, (1,1,vstup_scaled.shape[0]))"
   ]
  },
  {
   "cell_type": "code",
   "execution_count": 394,
   "id": "ff2a2884",
   "metadata": {},
   "outputs": [
    {
     "data": {
      "text/plain": [
       "array([[[0.57692308, 0.41666667, 0.38235294, 0.8       , 0.66666667,\n",
       "         0.32432432, 0.35135135, 0.52173913, 0.        , 0.5       ,\n",
       "         0.65217391, 0.        , 0.        , 0.25947704, 0.54791323,\n",
       "         0.13418747, 0.59833834, 0.16340126, 0.33846154, 0.06561404,\n",
       "         0.41738197, 0.09598415, 0.74301676, 0.09252174, 0.89320388,\n",
       "         0.10036364, 0.4419778 , 0.18567562, 0.8125    , 0.0409453 ,\n",
       "         0.76576577, 0.03752924, 0.26476602, 0.4684529 , 0.21368324,\n",
       "         0.62798445, 0.21884675, 0.3164557 , 0.11403509, 0.37322275,\n",
       "         0.15416515, 0.73958333, 0.131048  , 0.70247934, 0.10625   ,\n",
       "         0.41044776, 0.17326468, 0.76724138, 0.07385439, 0.66019417,\n",
       "         0.04431078, 0.49536984, 0.57510288, 0.23626661, 0.67513862,\n",
       "         0.36565824, 0.48245614, 0.14220965, 0.43813273, 0.16664017,\n",
       "         0.8043956 , 0.22073212, 0.87931034, 0.0964675 , 0.42089188,\n",
       "         0.25321667, 0.81992337, 0.08347738, 0.76274945, 0.13167447,\n",
       "         0.03235145, 0.42830995, 0.23993886, 0.48226575, 0.15282281,\n",
       "         0.02777778, 0.00395449, 0.31875   , 0.17311239, 0.79324895,\n",
       "         0.15041537, 0.86885246, 0.11487041, 0.38414634, 0.22122015,\n",
       "         0.8359375 , 0.07697725, 0.8       , 0.01581797]]])"
      ]
     },
     "execution_count": 394,
     "metadata": {},
     "output_type": "execute_result"
    }
   ],
   "source": [
    "new_data"
   ]
  },
  {
   "cell_type": "code",
   "execution_count": 395,
   "id": "23f96f1d",
   "metadata": {},
   "outputs": [
    {
     "name": "stdout",
     "output_type": "stream",
     "text": [
      "1/1 [==============================] - 0s 18ms/step\n"
     ]
    },
    {
     "data": {
      "text/plain": [
       "array([[0.53495103]], dtype=float32)"
      ]
     },
     "execution_count": 395,
     "metadata": {},
     "output_type": "execute_result"
    }
   ],
   "source": [
    "from keras.models import load_model\n",
    "#model.load_weights('my_model_weights.h5')  # to load\n",
    "y_pred = model.predict(new_data)\n",
    "y_pred"
   ]
  },
  {
   "cell_type": "code",
   "execution_count": null,
   "id": "7bc04b75",
   "metadata": {},
   "outputs": [],
   "source": []
  },
  {
   "cell_type": "code",
   "execution_count": null,
   "id": "0a3db91c",
   "metadata": {},
   "outputs": [],
   "source": []
  },
  {
   "cell_type": "code",
   "execution_count": null,
   "id": "d24ec294",
   "metadata": {},
   "outputs": [],
   "source": []
  }
 ],
 "metadata": {
  "kernelspec": {
   "display_name": "Python 3 (ipykernel)",
   "language": "python",
   "name": "python3"
  },
  "language_info": {
   "codemirror_mode": {
    "name": "ipython",
    "version": 3
   },
   "file_extension": ".py",
   "mimetype": "text/x-python",
   "name": "python",
   "nbconvert_exporter": "python",
   "pygments_lexer": "ipython3",
   "version": "3.9.13"
  }
 },
 "nbformat": 4,
 "nbformat_minor": 5
}
