{
 "cells": [
  {
   "cell_type": "code",
   "execution_count": 1,
   "id": "6eda130d",
   "metadata": {},
   "outputs": [],
   "source": [
    "import pandas as pd\n",
    "import numpy as np\n",
    "from sklearn.model_selection import GridSearchCV, train_test_split"
   ]
  },
  {
   "cell_type": "code",
   "execution_count": 2,
   "id": "64504238",
   "metadata": {},
   "outputs": [],
   "source": [
    "from keras.models import Sequential\n",
    "from keras.layers import Dense, Activation, Dropout\n",
    "\n",
    "from keras import layers\n",
    "from sklearn.neural_network import MLPClassifier\n",
    "from sklearn.metrics import accuracy_score, f1_score, auc, roc_curve, roc_auc_score\n",
    "from sklearn.preprocessing import StandardScaler\n",
    "from keras.layers import Dense, LSTM, Dropout, GRU, Bidirectional\n",
    "import pandas as pd\n",
    "from keras.layers import LSTM, Dense\n",
    "from keras.models import Sequential\n",
    "from sklearn.preprocessing import MinMaxScaler\n",
    "from sklearn.model_selection import train_test_split\n"
   ]
  },
  {
   "cell_type": "code",
   "execution_count": 3,
   "id": "1160a496",
   "metadata": {},
   "outputs": [],
   "source": [
    "df = pd.read_csv('../Preprocessing/fight_with_stats_precomp.csv')\n",
    "df_fighters = pd.read_csv('../Preprocessing/fighter_total_stats.csv')"
   ]
  },
  {
   "cell_type": "code",
   "execution_count": 4,
   "id": "1313842b",
   "metadata": {},
   "outputs": [],
   "source": [
    "df_fighters_details = pd.read_csv('../Preprocessing/fighter_details.csv', parse_dates=True)"
   ]
  },
  {
   "cell_type": "code",
   "execution_count": 5,
   "id": "cfad8be9",
   "metadata": {},
   "outputs": [],
   "source": [
    "df = df[(df['fightNo_fighter']>=3) & (df['fightNo_opponent']>=3) & (df['Women_fight']==0)]"
   ]
  },
  {
   "cell_type": "code",
   "execution_count": 6,
   "id": "6fbc9051",
   "metadata": {},
   "outputs": [],
   "source": [
    "df = df.fillna(0)\n"
   ]
  },
  {
   "cell_type": "code",
   "execution_count": 7,
   "id": "a380c164",
   "metadata": {},
   "outputs": [
    {
     "data": {
      "text/html": [
       "<div>\n",
       "<style scoped>\n",
       "    .dataframe tbody tr th:only-of-type {\n",
       "        vertical-align: middle;\n",
       "    }\n",
       "\n",
       "    .dataframe tbody tr th {\n",
       "        vertical-align: top;\n",
       "    }\n",
       "\n",
       "    .dataframe thead th {\n",
       "        text-align: right;\n",
       "    }\n",
       "</style>\n",
       "<table border=\"1\" class=\"dataframe\">\n",
       "  <thead>\n",
       "    <tr style=\"text-align: right;\">\n",
       "      <th></th>\n",
       "      <th>EVENT</th>\n",
       "      <th>BOUT</th>\n",
       "      <th>FIGHTER</th>\n",
       "      <th>OPPONENT</th>\n",
       "      <th>METHOD</th>\n",
       "      <th>Win</th>\n",
       "      <th>Women_fight</th>\n",
       "      <th>ROUND</th>\n",
       "      <th>HEIGHT_diff</th>\n",
       "      <th>REACH_diff</th>\n",
       "      <th>...</th>\n",
       "      <th>BODY_landed_opponent</th>\n",
       "      <th>BODY_attemps_opponent</th>\n",
       "      <th>LEG_landed_opponent</th>\n",
       "      <th>LEG_attemps_opponent</th>\n",
       "      <th>DISTANCE_landed_opponent</th>\n",
       "      <th>DISTANCE_attemps_opponent</th>\n",
       "      <th>CLINCH_landed_opponent</th>\n",
       "      <th>CLINCH_attemps_opponent</th>\n",
       "      <th>GROUND_landed_opponent</th>\n",
       "      <th>GROUND_attemps_opponent</th>\n",
       "    </tr>\n",
       "  </thead>\n",
       "  <tbody>\n",
       "    <tr>\n",
       "      <th>13777</th>\n",
       "      <td>UFC Fight Night: Cannonier vs. Strickland</td>\n",
       "      <td>Jared Cannonier vs. Sean Strickland</td>\n",
       "      <td>Sean Strickland</td>\n",
       "      <td>Jared Cannonier</td>\n",
       "      <td>Decision</td>\n",
       "      <td>0</td>\n",
       "      <td>0</td>\n",
       "      <td>5</td>\n",
       "      <td>2.0</td>\n",
       "      <td>-1.0</td>\n",
       "      <td>...</td>\n",
       "      <td>267.0</td>\n",
       "      <td>516.0</td>\n",
       "      <td>213.0</td>\n",
       "      <td>270.0</td>\n",
       "      <td>763.0</td>\n",
       "      <td>2303.0</td>\n",
       "      <td>25.0</td>\n",
       "      <td>45.0</td>\n",
       "      <td>54.0</td>\n",
       "      <td>86.0</td>\n",
       "    </tr>\n",
       "    <tr>\n",
       "      <th>13780</th>\n",
       "      <td>UFC Fight Night: Cannonier vs. Strickland</td>\n",
       "      <td>Said Nurmagomedov vs. Saidyokub Kakhramonov</td>\n",
       "      <td>Said Nurmagomedov</td>\n",
       "      <td>Saidyokub Kakhramonov</td>\n",
       "      <td>Submission</td>\n",
       "      <td>1</td>\n",
       "      <td>0</td>\n",
       "      <td>2</td>\n",
       "      <td>0.0</td>\n",
       "      <td>1.0</td>\n",
       "      <td>...</td>\n",
       "      <td>24.0</td>\n",
       "      <td>51.0</td>\n",
       "      <td>43.0</td>\n",
       "      <td>58.0</td>\n",
       "      <td>91.0</td>\n",
       "      <td>253.0</td>\n",
       "      <td>9.0</td>\n",
       "      <td>14.0</td>\n",
       "      <td>8.0</td>\n",
       "      <td>13.0</td>\n",
       "    </tr>\n",
       "    <tr>\n",
       "      <th>13781</th>\n",
       "      <td>UFC Fight Night: Cannonier vs. Strickland</td>\n",
       "      <td>Said Nurmagomedov vs. Saidyokub Kakhramonov</td>\n",
       "      <td>Saidyokub Kakhramonov</td>\n",
       "      <td>Said Nurmagomedov</td>\n",
       "      <td>Submission</td>\n",
       "      <td>0</td>\n",
       "      <td>0</td>\n",
       "      <td>2</td>\n",
       "      <td>0.0</td>\n",
       "      <td>-1.0</td>\n",
       "      <td>...</td>\n",
       "      <td>9.0</td>\n",
       "      <td>16.0</td>\n",
       "      <td>4.0</td>\n",
       "      <td>4.0</td>\n",
       "      <td>19.0</td>\n",
       "      <td>53.0</td>\n",
       "      <td>6.0</td>\n",
       "      <td>6.0</td>\n",
       "      <td>2.0</td>\n",
       "      <td>5.0</td>\n",
       "    </tr>\n",
       "    <tr>\n",
       "      <th>13782</th>\n",
       "      <td>UFC Fight Night: Cannonier vs. Strickland</td>\n",
       "      <td>Sergey Morozov vs. Journey Newson</td>\n",
       "      <td>Journey Newson</td>\n",
       "      <td>Sergey Morozov</td>\n",
       "      <td>Decision</td>\n",
       "      <td>0</td>\n",
       "      <td>0</td>\n",
       "      <td>3</td>\n",
       "      <td>-1.0</td>\n",
       "      <td>0.0</td>\n",
       "      <td>...</td>\n",
       "      <td>15.0</td>\n",
       "      <td>30.0</td>\n",
       "      <td>16.0</td>\n",
       "      <td>20.0</td>\n",
       "      <td>76.0</td>\n",
       "      <td>224.0</td>\n",
       "      <td>2.0</td>\n",
       "      <td>5.0</td>\n",
       "      <td>4.0</td>\n",
       "      <td>4.0</td>\n",
       "    </tr>\n",
       "    <tr>\n",
       "      <th>13783</th>\n",
       "      <td>UFC Fight Night: Cannonier vs. Strickland</td>\n",
       "      <td>Sergey Morozov vs. Journey Newson</td>\n",
       "      <td>Sergey Morozov</td>\n",
       "      <td>Journey Newson</td>\n",
       "      <td>Decision</td>\n",
       "      <td>1</td>\n",
       "      <td>0</td>\n",
       "      <td>3</td>\n",
       "      <td>1.0</td>\n",
       "      <td>0.0</td>\n",
       "      <td>...</td>\n",
       "      <td>38.0</td>\n",
       "      <td>68.0</td>\n",
       "      <td>30.0</td>\n",
       "      <td>35.0</td>\n",
       "      <td>141.0</td>\n",
       "      <td>347.0</td>\n",
       "      <td>16.0</td>\n",
       "      <td>19.0</td>\n",
       "      <td>1.0</td>\n",
       "      <td>4.0</td>\n",
       "    </tr>\n",
       "  </tbody>\n",
       "</table>\n",
       "<p>5 rows × 63 columns</p>\n",
       "</div>"
      ],
      "text/plain": [
       "                                           EVENT  \\\n",
       "13777  UFC Fight Night: Cannonier vs. Strickland   \n",
       "13780  UFC Fight Night: Cannonier vs. Strickland   \n",
       "13781  UFC Fight Night: Cannonier vs. Strickland   \n",
       "13782  UFC Fight Night: Cannonier vs. Strickland   \n",
       "13783  UFC Fight Night: Cannonier vs. Strickland   \n",
       "\n",
       "                                              BOUT                FIGHTER  \\\n",
       "13777          Jared Cannonier vs. Sean Strickland        Sean Strickland   \n",
       "13780  Said Nurmagomedov vs. Saidyokub Kakhramonov      Said Nurmagomedov   \n",
       "13781  Said Nurmagomedov vs. Saidyokub Kakhramonov  Saidyokub Kakhramonov   \n",
       "13782            Sergey Morozov vs. Journey Newson         Journey Newson   \n",
       "13783            Sergey Morozov vs. Journey Newson         Sergey Morozov   \n",
       "\n",
       "                    OPPONENT      METHOD  Win  Women_fight  ROUND  \\\n",
       "13777        Jared Cannonier    Decision    0            0      5   \n",
       "13780  Saidyokub Kakhramonov  Submission    1            0      2   \n",
       "13781      Said Nurmagomedov  Submission    0            0      2   \n",
       "13782         Sergey Morozov    Decision    0            0      3   \n",
       "13783         Journey Newson    Decision    1            0      3   \n",
       "\n",
       "       HEIGHT_diff  REACH_diff  ...  BODY_landed_opponent  \\\n",
       "13777          2.0        -1.0  ...                 267.0   \n",
       "13780          0.0         1.0  ...                  24.0   \n",
       "13781          0.0        -1.0  ...                   9.0   \n",
       "13782         -1.0         0.0  ...                  15.0   \n",
       "13783          1.0         0.0  ...                  38.0   \n",
       "\n",
       "       BODY_attemps_opponent  LEG_landed_opponent  LEG_attemps_opponent  \\\n",
       "13777                  516.0                213.0                 270.0   \n",
       "13780                   51.0                 43.0                  58.0   \n",
       "13781                   16.0                  4.0                   4.0   \n",
       "13782                   30.0                 16.0                  20.0   \n",
       "13783                   68.0                 30.0                  35.0   \n",
       "\n",
       "       DISTANCE_landed_opponent  DISTANCE_attemps_opponent  \\\n",
       "13777                     763.0                     2303.0   \n",
       "13780                      91.0                      253.0   \n",
       "13781                      19.0                       53.0   \n",
       "13782                      76.0                      224.0   \n",
       "13783                     141.0                      347.0   \n",
       "\n",
       "       CLINCH_landed_opponent  CLINCH_attemps_opponent  \\\n",
       "13777                    25.0                     45.0   \n",
       "13780                     9.0                     14.0   \n",
       "13781                     6.0                      6.0   \n",
       "13782                     2.0                      5.0   \n",
       "13783                    16.0                     19.0   \n",
       "\n",
       "       GROUND_landed_opponent  GROUND_attemps_opponent  \n",
       "13777                    54.0                     86.0  \n",
       "13780                     8.0                     13.0  \n",
       "13781                     2.0                      5.0  \n",
       "13782                     4.0                      4.0  \n",
       "13783                     1.0                      4.0  \n",
       "\n",
       "[5 rows x 63 columns]"
      ]
     },
     "execution_count": 7,
     "metadata": {},
     "output_type": "execute_result"
    }
   ],
   "source": [
    "df.tail()"
   ]
  },
  {
   "cell_type": "code",
   "execution_count": 8,
   "id": "3c83f881",
   "metadata": {},
   "outputs": [
    {
     "data": {
      "text/plain": [
       "(6817, 63)"
      ]
     },
     "execution_count": 8,
     "metadata": {},
     "output_type": "execute_result"
    }
   ],
   "source": [
    "df.shape"
   ]
  },
  {
   "cell_type": "code",
   "execution_count": 9,
   "id": "0b47cc75",
   "metadata": {
    "scrolled": true
   },
   "outputs": [
    {
     "data": {
      "text/plain": [
       "['KD_fighter',\n",
       " 'SUB.ATT_fighter',\n",
       " 'REV._fighter',\n",
       " 'CTRL_fighter',\n",
       " 'SIG.STR._landed_fighter',\n",
       " 'SIG.STR._attemps_fighter',\n",
       " 'TOTAL STR._landed_fighter',\n",
       " 'TOTAL STR._attemps_fighter',\n",
       " 'TD_landed_fighter',\n",
       " 'TD_attemps_fighter',\n",
       " 'HEAD_landed_fighter',\n",
       " 'HEAD_attemps_fighter',\n",
       " 'BODY_landed_fighter',\n",
       " 'BODY_attemps_fighter',\n",
       " 'LEG_landed_fighter',\n",
       " 'LEG_attemps_fighter',\n",
       " 'DISTANCE_landed_fighter',\n",
       " 'DISTANCE_attemps_fighter',\n",
       " 'CLINCH_landed_fighter',\n",
       " 'CLINCH_attemps_fighter',\n",
       " 'GROUND_landed_fighter',\n",
       " 'GROUND_attemps_fighter',\n",
       " 'KD_opponent',\n",
       " 'SUB.ATT_opponent',\n",
       " 'REV._opponent',\n",
       " 'CTRL_opponent',\n",
       " 'SIG.STR._landed_opponent',\n",
       " 'SIG.STR._attemps_opponent',\n",
       " 'TOTAL STR._landed_opponent',\n",
       " 'TOTAL STR._attemps_opponent',\n",
       " 'TD_landed_opponent',\n",
       " 'TD_attemps_opponent',\n",
       " 'HEAD_landed_opponent',\n",
       " 'HEAD_attemps_opponent',\n",
       " 'BODY_landed_opponent',\n",
       " 'BODY_attemps_opponent',\n",
       " 'LEG_landed_opponent',\n",
       " 'LEG_attemps_opponent',\n",
       " 'DISTANCE_landed_opponent',\n",
       " 'DISTANCE_attemps_opponent',\n",
       " 'CLINCH_landed_opponent',\n",
       " 'CLINCH_attemps_opponent',\n",
       " 'GROUND_landed_opponent',\n",
       " 'GROUND_attemps_opponent']"
      ]
     },
     "execution_count": 9,
     "metadata": {},
     "output_type": "execute_result"
    }
   ],
   "source": [
    "df.columns.tolist()[19:]"
   ]
  },
  {
   "cell_type": "code",
   "execution_count": 10,
   "id": "1bf9b2da",
   "metadata": {},
   "outputs": [],
   "source": [
    "df = df.merge(df[['EVENT', 'BOUT', 'FIGHTER']+df.columns.tolist()[15:]] ,how='left', left_on=['EVENT', 'BOUT', 'OPPONENT'], right_on=['EVENT', 'BOUT', 'FIGHTER'], suffixes=('_f1', '_f2'))"
   ]
  },
  {
   "cell_type": "code",
   "execution_count": 11,
   "id": "c8ce78f8",
   "metadata": {},
   "outputs": [
    {
     "name": "stdout",
     "output_type": "stream",
     "text": [
      "<class 'pandas.core.frame.DataFrame'>\n",
      "Int64Index: 6817 entries, 0 to 6816\n",
      "Data columns (total 112 columns):\n",
      " #    Column                          Non-Null Count  Dtype  \n",
      "---   ------                          --------------  -----  \n",
      " 0    EVENT                           6817 non-null   object \n",
      " 1    BOUT                            6817 non-null   object \n",
      " 2    FIGHTER_f1                      6817 non-null   object \n",
      " 3    OPPONENT                        6817 non-null   object \n",
      " 4    METHOD                          6817 non-null   object \n",
      " 5    Win                             6817 non-null   int64  \n",
      " 6    Women_fight                     6817 non-null   int64  \n",
      " 7    ROUND                           6817 non-null   int64  \n",
      " 8    HEIGHT_diff                     6817 non-null   float64\n",
      " 9    REACH_diff                      6817 non-null   float64\n",
      " 10   AGE_diff                        6817 non-null   float64\n",
      " 11   form_skore_fighter              6817 non-null   float64\n",
      " 12   form_skore_opponent             6817 non-null   float64\n",
      " 13   fightNo_fighter                 6817 non-null   int64  \n",
      " 14   fightNo_opponent                6817 non-null   float64\n",
      " 15   Win_tot_f1                      6817 non-null   float64\n",
      " 16   DRAW_f1                         6817 non-null   float64\n",
      " 17   No_contest_f1                   6817 non-null   float64\n",
      " 18   TotalTime_f1                    6817 non-null   float64\n",
      " 19   KD_fighter_f1                   6817 non-null   float64\n",
      " 20   SUB.ATT_fighter_f1              6817 non-null   float64\n",
      " 21   REV._fighter_f1                 6817 non-null   float64\n",
      " 22   CTRL_fighter_f1                 6817 non-null   float64\n",
      " 23   SIG.STR._landed_fighter_f1      6817 non-null   float64\n",
      " 24   SIG.STR._attemps_fighter_f1     6817 non-null   float64\n",
      " 25   TOTAL STR._landed_fighter_f1    6817 non-null   float64\n",
      " 26   TOTAL STR._attemps_fighter_f1   6817 non-null   float64\n",
      " 27   TD_landed_fighter_f1            6817 non-null   float64\n",
      " 28   TD_attemps_fighter_f1           6817 non-null   float64\n",
      " 29   HEAD_landed_fighter_f1          6817 non-null   float64\n",
      " 30   HEAD_attemps_fighter_f1         6817 non-null   float64\n",
      " 31   BODY_landed_fighter_f1          6817 non-null   float64\n",
      " 32   BODY_attemps_fighter_f1         6817 non-null   float64\n",
      " 33   LEG_landed_fighter_f1           6817 non-null   float64\n",
      " 34   LEG_attemps_fighter_f1          6817 non-null   float64\n",
      " 35   DISTANCE_landed_fighter_f1      6817 non-null   float64\n",
      " 36   DISTANCE_attemps_fighter_f1     6817 non-null   float64\n",
      " 37   CLINCH_landed_fighter_f1        6817 non-null   float64\n",
      " 38   CLINCH_attemps_fighter_f1       6817 non-null   float64\n",
      " 39   GROUND_landed_fighter_f1        6817 non-null   float64\n",
      " 40   GROUND_attemps_fighter_f1       6817 non-null   float64\n",
      " 41   KD_opponent_f1                  6817 non-null   float64\n",
      " 42   SUB.ATT_opponent_f1             6817 non-null   float64\n",
      " 43   REV._opponent_f1                6817 non-null   float64\n",
      " 44   CTRL_opponent_f1                6817 non-null   float64\n",
      " 45   SIG.STR._landed_opponent_f1     6817 non-null   float64\n",
      " 46   SIG.STR._attemps_opponent_f1    6817 non-null   float64\n",
      " 47   TOTAL STR._landed_opponent_f1   6817 non-null   float64\n",
      " 48   TOTAL STR._attemps_opponent_f1  6817 non-null   float64\n",
      " 49   TD_landed_opponent_f1           6817 non-null   float64\n",
      " 50   TD_attemps_opponent_f1          6817 non-null   float64\n",
      " 51   HEAD_landed_opponent_f1         6817 non-null   float64\n",
      " 52   HEAD_attemps_opponent_f1        6817 non-null   float64\n",
      " 53   BODY_landed_opponent_f1         6817 non-null   float64\n",
      " 54   BODY_attemps_opponent_f1        6817 non-null   float64\n",
      " 55   LEG_landed_opponent_f1          6817 non-null   float64\n",
      " 56   LEG_attemps_opponent_f1         6817 non-null   float64\n",
      " 57   DISTANCE_landed_opponent_f1     6817 non-null   float64\n",
      " 58   DISTANCE_attemps_opponent_f1    6817 non-null   float64\n",
      " 59   CLINCH_landed_opponent_f1       6817 non-null   float64\n",
      " 60   CLINCH_attemps_opponent_f1      6817 non-null   float64\n",
      " 61   GROUND_landed_opponent_f1       6817 non-null   float64\n",
      " 62   GROUND_attemps_opponent_f1      6817 non-null   float64\n",
      " 63   FIGHTER_f2                      6816 non-null   object \n",
      " 64   Win_tot_f2                      6816 non-null   float64\n",
      " 65   DRAW_f2                         6816 non-null   float64\n",
      " 66   No_contest_f2                   6816 non-null   float64\n",
      " 67   TotalTime_f2                    6816 non-null   float64\n",
      " 68   KD_fighter_f2                   6816 non-null   float64\n",
      " 69   SUB.ATT_fighter_f2              6816 non-null   float64\n",
      " 70   REV._fighter_f2                 6816 non-null   float64\n",
      " 71   CTRL_fighter_f2                 6816 non-null   float64\n",
      " 72   SIG.STR._landed_fighter_f2      6816 non-null   float64\n",
      " 73   SIG.STR._attemps_fighter_f2     6816 non-null   float64\n",
      " 74   TOTAL STR._landed_fighter_f2    6816 non-null   float64\n",
      " 75   TOTAL STR._attemps_fighter_f2   6816 non-null   float64\n",
      " 76   TD_landed_fighter_f2            6816 non-null   float64\n",
      " 77   TD_attemps_fighter_f2           6816 non-null   float64\n",
      " 78   HEAD_landed_fighter_f2          6816 non-null   float64\n",
      " 79   HEAD_attemps_fighter_f2         6816 non-null   float64\n",
      " 80   BODY_landed_fighter_f2          6816 non-null   float64\n",
      " 81   BODY_attemps_fighter_f2         6816 non-null   float64\n",
      " 82   LEG_landed_fighter_f2           6816 non-null   float64\n",
      " 83   LEG_attemps_fighter_f2          6816 non-null   float64\n",
      " 84   DISTANCE_landed_fighter_f2      6816 non-null   float64\n",
      " 85   DISTANCE_attemps_fighter_f2     6816 non-null   float64\n",
      " 86   CLINCH_landed_fighter_f2        6816 non-null   float64\n",
      " 87   CLINCH_attemps_fighter_f2       6816 non-null   float64\n",
      " 88   GROUND_landed_fighter_f2        6816 non-null   float64\n",
      " 89   GROUND_attemps_fighter_f2       6816 non-null   float64\n",
      " 90   KD_opponent_f2                  6816 non-null   float64\n",
      " 91   SUB.ATT_opponent_f2             6816 non-null   float64\n",
      " 92   REV._opponent_f2                6816 non-null   float64\n",
      " 93   CTRL_opponent_f2                6816 non-null   float64\n",
      " 94   SIG.STR._landed_opponent_f2     6816 non-null   float64\n",
      " 95   SIG.STR._attemps_opponent_f2    6816 non-null   float64\n",
      " 96   TOTAL STR._landed_opponent_f2   6816 non-null   float64\n",
      " 97   TOTAL STR._attemps_opponent_f2  6816 non-null   float64\n",
      " 98   TD_landed_opponent_f2           6816 non-null   float64\n",
      " 99   TD_attemps_opponent_f2          6816 non-null   float64\n",
      " 100  HEAD_landed_opponent_f2         6816 non-null   float64\n",
      " 101  HEAD_attemps_opponent_f2        6816 non-null   float64\n",
      " 102  BODY_landed_opponent_f2         6816 non-null   float64\n",
      " 103  BODY_attemps_opponent_f2        6816 non-null   float64\n",
      " 104  LEG_landed_opponent_f2          6816 non-null   float64\n",
      " 105  LEG_attemps_opponent_f2         6816 non-null   float64\n",
      " 106  DISTANCE_landed_opponent_f2     6816 non-null   float64\n",
      " 107  DISTANCE_attemps_opponent_f2    6816 non-null   float64\n",
      " 108  CLINCH_landed_opponent_f2       6816 non-null   float64\n",
      " 109  CLINCH_attemps_opponent_f2      6816 non-null   float64\n",
      " 110  GROUND_landed_opponent_f2       6816 non-null   float64\n",
      " 111  GROUND_attemps_opponent_f2      6816 non-null   float64\n",
      "dtypes: float64(102), int64(4), object(6)\n",
      "memory usage: 5.9+ MB\n"
     ]
    }
   ],
   "source": [
    "df.info(verbose=True, show_counts=True)"
   ]
  },
  {
   "cell_type": "code",
   "execution_count": 12,
   "id": "e911a19b",
   "metadata": {},
   "outputs": [],
   "source": [
    "df = df.drop('FIGHTER_f2',axis=1)"
   ]
  },
  {
   "cell_type": "code",
   "execution_count": 13,
   "id": "1458353b",
   "metadata": {},
   "outputs": [
    {
     "data": {
      "text/plain": [
       "['LEG', 'attemps', 'fighter', 'f1']"
      ]
     },
     "execution_count": 13,
     "metadata": {},
     "output_type": "execute_result"
    }
   ],
   "source": [
    "'LEG_attemps_fighter_f1'.split('_')"
   ]
  },
  {
   "cell_type": "code",
   "execution_count": 14,
   "id": "6ec0d15a",
   "metadata": {},
   "outputs": [],
   "source": [
    "sloupce1 = df.columns.tolist()[19:]\n",
    "vynechat = ['Win_tot_f2', 'DRAW_f2','No_contest_f2']\n",
    "sloupce = [x for x in sloupce1 if x not in vynechat]\n",
    "for sloupec in sloupce:    \n",
    "    splited = sloupec.split('_')\n",
    "    if 'CTRL' in splited:\n",
    "        df.loc[:,splited[0]+'_pct_'+splited[1]+splited[2]] = df[sloupec]/df['TotalTime'+'_'+splited[2]]\n",
    "    if 'attemps' in splited:\n",
    "        df.loc[:,splited[0]+'_acc_'+ splited[2] + splited[3]] = df[sloupec.replace('attemps', 'landed')]/df[sloupec]\n",
    "        df.loc[:,splited[0]+'_perRound_'+ splited[2] + splited[3]] = (df[sloupec.replace('attemps', 'landed')]/df['TotalTime'+'_'+splited[3]])*300\n",
    "        \n",
    "    "
   ]
  },
  {
   "cell_type": "code",
   "execution_count": 15,
   "id": "2417f114",
   "metadata": {},
   "outputs": [
    {
     "data": {
      "text/html": [
       "<div>\n",
       "<style scoped>\n",
       "    .dataframe tbody tr th:only-of-type {\n",
       "        vertical-align: middle;\n",
       "    }\n",
       "\n",
       "    .dataframe tbody tr th {\n",
       "        vertical-align: top;\n",
       "    }\n",
       "\n",
       "    .dataframe thead th {\n",
       "        text-align: right;\n",
       "    }\n",
       "</style>\n",
       "<table border=\"1\" class=\"dataframe\">\n",
       "  <thead>\n",
       "    <tr style=\"text-align: right;\">\n",
       "      <th></th>\n",
       "      <th>EVENT</th>\n",
       "      <th>BOUT</th>\n",
       "      <th>FIGHTER_f1</th>\n",
       "      <th>OPPONENT</th>\n",
       "      <th>METHOD</th>\n",
       "    </tr>\n",
       "  </thead>\n",
       "  <tbody>\n",
       "    <tr>\n",
       "      <th>0</th>\n",
       "      <td>UFC 2: No Way Out</td>\n",
       "      <td>Royce Gracie vs. Patrick Smith</td>\n",
       "      <td>Patrick Smith</td>\n",
       "      <td>Royce Gracie</td>\n",
       "      <td>KO/TKO - ground</td>\n",
       "    </tr>\n",
       "    <tr>\n",
       "      <th>1</th>\n",
       "      <td>UFC 2: No Way Out</td>\n",
       "      <td>Royce Gracie vs. Patrick Smith</td>\n",
       "      <td>Royce Gracie</td>\n",
       "      <td>Patrick Smith</td>\n",
       "      <td>KO/TKO - ground</td>\n",
       "    </tr>\n",
       "    <tr>\n",
       "      <th>2</th>\n",
       "      <td>UFC 2: No Way Out</td>\n",
       "      <td>Royce Gracie vs. Remco Pardoel</td>\n",
       "      <td>Remco Pardoel</td>\n",
       "      <td>Royce Gracie</td>\n",
       "      <td>Submission</td>\n",
       "    </tr>\n",
       "    <tr>\n",
       "      <th>3</th>\n",
       "      <td>UFC 2: No Way Out</td>\n",
       "      <td>Royce Gracie vs. Remco Pardoel</td>\n",
       "      <td>Royce Gracie</td>\n",
       "      <td>Remco Pardoel</td>\n",
       "      <td>Submission</td>\n",
       "    </tr>\n",
       "    <tr>\n",
       "      <th>4</th>\n",
       "      <td>UFC 4: Revenge of the Warriors</td>\n",
       "      <td>Royce Gracie vs. Dan Severn</td>\n",
       "      <td>Dan Severn</td>\n",
       "      <td>Royce Gracie</td>\n",
       "      <td>Submission</td>\n",
       "    </tr>\n",
       "    <tr>\n",
       "      <th>...</th>\n",
       "      <td>...</td>\n",
       "      <td>...</td>\n",
       "      <td>...</td>\n",
       "      <td>...</td>\n",
       "      <td>...</td>\n",
       "    </tr>\n",
       "    <tr>\n",
       "      <th>6812</th>\n",
       "      <td>UFC Fight Night: Cannonier vs. Strickland</td>\n",
       "      <td>Jared Cannonier vs. Sean Strickland</td>\n",
       "      <td>Sean Strickland</td>\n",
       "      <td>Jared Cannonier</td>\n",
       "      <td>Decision</td>\n",
       "    </tr>\n",
       "    <tr>\n",
       "      <th>6813</th>\n",
       "      <td>UFC Fight Night: Cannonier vs. Strickland</td>\n",
       "      <td>Said Nurmagomedov vs. Saidyokub Kakhramonov</td>\n",
       "      <td>Said Nurmagomedov</td>\n",
       "      <td>Saidyokub Kakhramonov</td>\n",
       "      <td>Submission</td>\n",
       "    </tr>\n",
       "    <tr>\n",
       "      <th>6814</th>\n",
       "      <td>UFC Fight Night: Cannonier vs. Strickland</td>\n",
       "      <td>Said Nurmagomedov vs. Saidyokub Kakhramonov</td>\n",
       "      <td>Saidyokub Kakhramonov</td>\n",
       "      <td>Said Nurmagomedov</td>\n",
       "      <td>Submission</td>\n",
       "    </tr>\n",
       "    <tr>\n",
       "      <th>6815</th>\n",
       "      <td>UFC Fight Night: Cannonier vs. Strickland</td>\n",
       "      <td>Sergey Morozov vs. Journey Newson</td>\n",
       "      <td>Journey Newson</td>\n",
       "      <td>Sergey Morozov</td>\n",
       "      <td>Decision</td>\n",
       "    </tr>\n",
       "    <tr>\n",
       "      <th>6816</th>\n",
       "      <td>UFC Fight Night: Cannonier vs. Strickland</td>\n",
       "      <td>Sergey Morozov vs. Journey Newson</td>\n",
       "      <td>Sergey Morozov</td>\n",
       "      <td>Journey Newson</td>\n",
       "      <td>Decision</td>\n",
       "    </tr>\n",
       "  </tbody>\n",
       "</table>\n",
       "<p>6817 rows × 5 columns</p>\n",
       "</div>"
      ],
      "text/plain": [
       "                                          EVENT  \\\n",
       "0                             UFC 2: No Way Out   \n",
       "1                             UFC 2: No Way Out   \n",
       "2                             UFC 2: No Way Out   \n",
       "3                             UFC 2: No Way Out   \n",
       "4                UFC 4: Revenge of the Warriors   \n",
       "...                                         ...   \n",
       "6812  UFC Fight Night: Cannonier vs. Strickland   \n",
       "6813  UFC Fight Night: Cannonier vs. Strickland   \n",
       "6814  UFC Fight Night: Cannonier vs. Strickland   \n",
       "6815  UFC Fight Night: Cannonier vs. Strickland   \n",
       "6816  UFC Fight Night: Cannonier vs. Strickland   \n",
       "\n",
       "                                             BOUT             FIGHTER_f1  \\\n",
       "0                  Royce Gracie vs. Patrick Smith          Patrick Smith   \n",
       "1                  Royce Gracie vs. Patrick Smith           Royce Gracie   \n",
       "2                  Royce Gracie vs. Remco Pardoel          Remco Pardoel   \n",
       "3                  Royce Gracie vs. Remco Pardoel           Royce Gracie   \n",
       "4                     Royce Gracie vs. Dan Severn             Dan Severn   \n",
       "...                                           ...                    ...   \n",
       "6812          Jared Cannonier vs. Sean Strickland        Sean Strickland   \n",
       "6813  Said Nurmagomedov vs. Saidyokub Kakhramonov      Said Nurmagomedov   \n",
       "6814  Said Nurmagomedov vs. Saidyokub Kakhramonov  Saidyokub Kakhramonov   \n",
       "6815            Sergey Morozov vs. Journey Newson         Journey Newson   \n",
       "6816            Sergey Morozov vs. Journey Newson         Sergey Morozov   \n",
       "\n",
       "                   OPPONENT           METHOD  \n",
       "0              Royce Gracie  KO/TKO - ground  \n",
       "1             Patrick Smith  KO/TKO - ground  \n",
       "2              Royce Gracie       Submission  \n",
       "3             Remco Pardoel       Submission  \n",
       "4              Royce Gracie       Submission  \n",
       "...                     ...              ...  \n",
       "6812        Jared Cannonier         Decision  \n",
       "6813  Saidyokub Kakhramonov       Submission  \n",
       "6814      Said Nurmagomedov       Submission  \n",
       "6815         Sergey Morozov         Decision  \n",
       "6816         Journey Newson         Decision  \n",
       "\n",
       "[6817 rows x 5 columns]"
      ]
     },
     "execution_count": 15,
     "metadata": {},
     "output_type": "execute_result"
    }
   ],
   "source": [
    "df.iloc[:,:5]"
   ]
  },
  {
   "cell_type": "code",
   "execution_count": 16,
   "id": "4e6956bf",
   "metadata": {},
   "outputs": [],
   "source": [
    "df = df.drop(sloupce, axis=1)"
   ]
  },
  {
   "cell_type": "code",
   "execution_count": 17,
   "id": "eefa5d15",
   "metadata": {},
   "outputs": [],
   "source": [
    "df_model = df.drop(['EVENT','BOUT','FIGHTER_f1','OPPONENT','METHOD','Women_fight','ROUND','TotalTime_f1'],axis=1)\n",
    "#df_model = df.drop(['EVENT','BOUT','FIGHTER_f1','OPPONENT','METHOD','Women_fight','TotalTime_f1'],axis=1)"
   ]
  },
  {
   "cell_type": "code",
   "execution_count": 18,
   "id": "9b03af1f",
   "metadata": {},
   "outputs": [
    {
     "name": "stdout",
     "output_type": "stream",
     "text": [
      "<class 'pandas.core.frame.DataFrame'>\n",
      "Int64Index: 6817 entries, 0 to 6816\n",
      "Data columns (total 90 columns):\n",
      " #   Column                          Non-Null Count  Dtype  \n",
      "---  ------                          --------------  -----  \n",
      " 0   Win                             6817 non-null   int64  \n",
      " 1   HEIGHT_diff                     6817 non-null   float64\n",
      " 2   REACH_diff                      6817 non-null   float64\n",
      " 3   AGE_diff                        6817 non-null   float64\n",
      " 4   form_skore_fighter              6817 non-null   float64\n",
      " 5   form_skore_opponent             6817 non-null   float64\n",
      " 6   fightNo_fighter                 6817 non-null   int64  \n",
      " 7   fightNo_opponent                6817 non-null   float64\n",
      " 8   Win_tot_f1                      6817 non-null   float64\n",
      " 9   DRAW_f1                         6817 non-null   float64\n",
      " 10  No_contest_f1                   6817 non-null   float64\n",
      " 11  Win_tot_f2                      6817 non-null   float64\n",
      " 12  DRAW_f2                         6817 non-null   float64\n",
      " 13  No_contest_f2                   6817 non-null   float64\n",
      " 14  CTRL_pct_fighterf1              6817 non-null   float64\n",
      " 15  SIG.STR._acc_fighterf1          6817 non-null   float64\n",
      " 16  SIG.STR._perRound_fighterf1     6817 non-null   float64\n",
      " 17  TOTAL STR._acc_fighterf1        6817 non-null   float64\n",
      " 18  TOTAL STR._perRound_fighterf1   6817 non-null   float64\n",
      " 19  TD_acc_fighterf1                6817 non-null   float64\n",
      " 20  TD_perRound_fighterf1           6817 non-null   float64\n",
      " 21  HEAD_acc_fighterf1              6817 non-null   float64\n",
      " 22  HEAD_perRound_fighterf1         6817 non-null   float64\n",
      " 23  BODY_acc_fighterf1              6817 non-null   float64\n",
      " 24  BODY_perRound_fighterf1         6817 non-null   float64\n",
      " 25  LEG_acc_fighterf1               6817 non-null   float64\n",
      " 26  LEG_perRound_fighterf1          6817 non-null   float64\n",
      " 27  DISTANCE_acc_fighterf1          6817 non-null   float64\n",
      " 28  DISTANCE_perRound_fighterf1     6817 non-null   float64\n",
      " 29  CLINCH_acc_fighterf1            6817 non-null   float64\n",
      " 30  CLINCH_perRound_fighterf1       6817 non-null   float64\n",
      " 31  GROUND_acc_fighterf1            6817 non-null   float64\n",
      " 32  GROUND_perRound_fighterf1       6817 non-null   float64\n",
      " 33  CTRL_pct_opponentf1             6817 non-null   float64\n",
      " 34  SIG.STR._acc_opponentf1         6817 non-null   float64\n",
      " 35  SIG.STR._perRound_opponentf1    6817 non-null   float64\n",
      " 36  TOTAL STR._acc_opponentf1       6817 non-null   float64\n",
      " 37  TOTAL STR._perRound_opponentf1  6817 non-null   float64\n",
      " 38  TD_acc_opponentf1               6817 non-null   float64\n",
      " 39  TD_perRound_opponentf1          6817 non-null   float64\n",
      " 40  HEAD_acc_opponentf1             6817 non-null   float64\n",
      " 41  HEAD_perRound_opponentf1        6817 non-null   float64\n",
      " 42  BODY_acc_opponentf1             6817 non-null   float64\n",
      " 43  BODY_perRound_opponentf1        6817 non-null   float64\n",
      " 44  LEG_acc_opponentf1              6817 non-null   float64\n",
      " 45  LEG_perRound_opponentf1         6817 non-null   float64\n",
      " 46  DISTANCE_acc_opponentf1         6817 non-null   float64\n",
      " 47  DISTANCE_perRound_opponentf1    6817 non-null   float64\n",
      " 48  CLINCH_acc_opponentf1           6817 non-null   float64\n",
      " 49  CLINCH_perRound_opponentf1      6817 non-null   float64\n",
      " 50  GROUND_acc_opponentf1           6817 non-null   float64\n",
      " 51  GROUND_perRound_opponentf1      6817 non-null   float64\n",
      " 52  CTRL_pct_fighterf2              6817 non-null   float64\n",
      " 53  SIG.STR._acc_fighterf2          6817 non-null   float64\n",
      " 54  SIG.STR._perRound_fighterf2     6817 non-null   float64\n",
      " 55  TOTAL STR._acc_fighterf2        6817 non-null   float64\n",
      " 56  TOTAL STR._perRound_fighterf2   6817 non-null   float64\n",
      " 57  TD_acc_fighterf2                6817 non-null   float64\n",
      " 58  TD_perRound_fighterf2           6817 non-null   float64\n",
      " 59  HEAD_acc_fighterf2              6817 non-null   float64\n",
      " 60  HEAD_perRound_fighterf2         6817 non-null   float64\n",
      " 61  BODY_acc_fighterf2              6817 non-null   float64\n",
      " 62  BODY_perRound_fighterf2         6817 non-null   float64\n",
      " 63  LEG_acc_fighterf2               6817 non-null   float64\n",
      " 64  LEG_perRound_fighterf2          6817 non-null   float64\n",
      " 65  DISTANCE_acc_fighterf2          6817 non-null   float64\n",
      " 66  DISTANCE_perRound_fighterf2     6817 non-null   float64\n",
      " 67  CLINCH_acc_fighterf2            6817 non-null   float64\n",
      " 68  CLINCH_perRound_fighterf2       6817 non-null   float64\n",
      " 69  GROUND_acc_fighterf2            6817 non-null   float64\n",
      " 70  GROUND_perRound_fighterf2       6817 non-null   float64\n",
      " 71  CTRL_pct_opponentf2             6817 non-null   float64\n",
      " 72  SIG.STR._acc_opponentf2         6817 non-null   float64\n",
      " 73  SIG.STR._perRound_opponentf2    6817 non-null   float64\n",
      " 74  TOTAL STR._acc_opponentf2       6817 non-null   float64\n",
      " 75  TOTAL STR._perRound_opponentf2  6817 non-null   float64\n",
      " 76  TD_acc_opponentf2               6817 non-null   float64\n",
      " 77  TD_perRound_opponentf2          6817 non-null   float64\n",
      " 78  HEAD_acc_opponentf2             6817 non-null   float64\n",
      " 79  HEAD_perRound_opponentf2        6817 non-null   float64\n",
      " 80  BODY_acc_opponentf2             6817 non-null   float64\n",
      " 81  BODY_perRound_opponentf2        6817 non-null   float64\n",
      " 82  LEG_acc_opponentf2              6817 non-null   float64\n",
      " 83  LEG_perRound_opponentf2         6817 non-null   float64\n",
      " 84  DISTANCE_acc_opponentf2         6817 non-null   float64\n",
      " 85  DISTANCE_perRound_opponentf2    6817 non-null   float64\n",
      " 86  CLINCH_acc_opponentf2           6817 non-null   float64\n",
      " 87  CLINCH_perRound_opponentf2      6817 non-null   float64\n",
      " 88  GROUND_acc_opponentf2           6817 non-null   float64\n",
      " 89  GROUND_perRound_opponentf2      6817 non-null   float64\n",
      "dtypes: float64(88), int64(2)\n",
      "memory usage: 4.7 MB\n"
     ]
    }
   ],
   "source": [
    "df_model = df_model.fillna(0)\n",
    "df_model.info()"
   ]
  },
  {
   "cell_type": "code",
   "execution_count": 19,
   "id": "8ddca72b",
   "metadata": {},
   "outputs": [
    {
     "name": "stdout",
     "output_type": "stream",
     "text": [
      "0.5941348973607038 0.5941348973607038\n"
     ]
    }
   ],
   "source": [
    "X=df_model.loc[:, ~df_model.columns.isin(['Win'])]\n",
    "y=df_model['Win']\n",
    "scaler = StandardScaler()\n",
    "X_scaled = scaler.fit_transform(X)\n",
    "X_train, X_test, y_train, y_test = train_test_split(X_scaled, y, random_state = 0)\n",
    "from sklearn.linear_model import LogisticRegression\n",
    "logreg=LogisticRegression(max_iter=50000)\n",
    "logreg.fit(X_train,y_train)\n",
    "predictions = logreg.predict(X_test)\n",
    "acc = accuracy_score(y_test, predictions) \n",
    "f1 = f1_score(y_test, predictions,average='micro')\n",
    "print(f1, acc)"
   ]
  },
  {
   "cell_type": "code",
   "execution_count": 20,
   "id": "003fe608",
   "metadata": {},
   "outputs": [
    {
     "data": {
      "text/plain": [
       "(6817, 89)"
      ]
     },
     "execution_count": 20,
     "metadata": {},
     "output_type": "execute_result"
    }
   ],
   "source": [
    "X.shape"
   ]
  },
  {
   "cell_type": "code",
   "execution_count": 21,
   "id": "f6fc0f16",
   "metadata": {},
   "outputs": [
    {
     "name": "stdout",
     "output_type": "stream",
     "text": [
      "(6617, 200, 89)\n",
      "Epoch 1/120\n",
      "166/166 [==============================] - 19s 100ms/step - loss: 0.6994 - accuracy: 0.5052 - val_loss: 0.7025 - val_accuracy: 0.5015\n",
      "Epoch 2/120\n",
      "166/166 [==============================] - 16s 99ms/step - loss: 0.6938 - accuracy: 0.5077 - val_loss: 0.6977 - val_accuracy: 0.4985\n",
      "Epoch 3/120\n",
      "166/166 [==============================] - 17s 101ms/step - loss: 0.6920 - accuracy: 0.5245 - val_loss: 0.6904 - val_accuracy: 0.5415\n",
      "Epoch 4/120\n",
      "166/166 [==============================] - 16s 96ms/step - loss: 0.6908 - accuracy: 0.5347 - val_loss: 0.6895 - val_accuracy: 0.5521\n",
      "Epoch 5/120\n",
      "166/166 [==============================] - 16s 96ms/step - loss: 0.6896 - accuracy: 0.5362 - val_loss: 0.6888 - val_accuracy: 0.5408\n",
      "Epoch 6/120\n",
      "166/166 [==============================] - 16s 94ms/step - loss: 0.6875 - accuracy: 0.5362 - val_loss: 0.6877 - val_accuracy: 0.5506\n",
      "Epoch 7/120\n",
      "166/166 [==============================] - 15s 93ms/step - loss: 0.6863 - accuracy: 0.5475 - val_loss: 0.6906 - val_accuracy: 0.5279\n",
      "Epoch 8/120\n",
      "166/166 [==============================] - 15s 91ms/step - loss: 0.6851 - accuracy: 0.5468 - val_loss: 0.6868 - val_accuracy: 0.5574\n",
      "Epoch 9/120\n",
      "166/166 [==============================] - 16s 95ms/step - loss: 0.6839 - accuracy: 0.5539 - val_loss: 0.6928 - val_accuracy: 0.5219\n",
      "Epoch 10/120\n",
      "166/166 [==============================] - 17s 103ms/step - loss: 0.6845 - accuracy: 0.5568 - val_loss: 0.6878 - val_accuracy: 0.5453\n",
      "Epoch 11/120\n",
      "166/166 [==============================] - 17s 100ms/step - loss: 0.6824 - accuracy: 0.5624 - val_loss: 0.6940 - val_accuracy: 0.5204\n",
      "Epoch 12/120\n",
      "166/166 [==============================] - 16s 97ms/step - loss: 0.6807 - accuracy: 0.5651 - val_loss: 0.6879 - val_accuracy: 0.5476\n",
      "Epoch 13/120\n",
      "166/166 [==============================] - 17s 101ms/step - loss: 0.6813 - accuracy: 0.5609 - val_loss: 0.6884 - val_accuracy: 0.5483\n",
      "Epoch 14/120\n",
      "166/166 [==============================] - 16s 97ms/step - loss: 0.6809 - accuracy: 0.5583 - val_loss: 0.6953 - val_accuracy: 0.5249\n",
      "Epoch 15/120\n",
      "166/166 [==============================] - 16s 96ms/step - loss: 0.6807 - accuracy: 0.5609 - val_loss: 0.6893 - val_accuracy: 0.5446\n",
      "Epoch 16/120\n",
      "166/166 [==============================] - 16s 95ms/step - loss: 0.6795 - accuracy: 0.5577 - val_loss: 0.6908 - val_accuracy: 0.5355\n",
      "Epoch 17/120\n",
      "166/166 [==============================] - 16s 95ms/step - loss: 0.6778 - accuracy: 0.5755 - val_loss: 0.6945 - val_accuracy: 0.5332\n",
      "Epoch 18/120\n",
      "166/166 [==============================] - 16s 95ms/step - loss: 0.6777 - accuracy: 0.5787 - val_loss: 0.6928 - val_accuracy: 0.5302\n",
      "Epoch 19/120\n",
      "166/166 [==============================] - 17s 102ms/step - loss: 0.6768 - accuracy: 0.5651 - val_loss: 0.6930 - val_accuracy: 0.5431\n",
      "Epoch 20/120\n",
      "166/166 [==============================] - 16s 99ms/step - loss: 0.6743 - accuracy: 0.5777 - val_loss: 0.6952 - val_accuracy: 0.5302\n",
      "Epoch 21/120\n",
      "166/166 [==============================] - 16s 96ms/step - loss: 0.6730 - accuracy: 0.5813 - val_loss: 0.6955 - val_accuracy: 0.5347\n",
      "Epoch 22/120\n",
      "166/166 [==============================] - 16s 99ms/step - loss: 0.6753 - accuracy: 0.5734 - val_loss: 0.6928 - val_accuracy: 0.5378\n",
      "Epoch 23/120\n",
      "166/166 [==============================] - 16s 98ms/step - loss: 0.6730 - accuracy: 0.5832 - val_loss: 0.6932 - val_accuracy: 0.5272\n",
      "Epoch 24/120\n",
      "166/166 [==============================] - 16s 97ms/step - loss: 0.6713 - accuracy: 0.5764 - val_loss: 0.6932 - val_accuracy: 0.5408\n",
      "Epoch 25/120\n",
      "166/166 [==============================] - 16s 97ms/step - loss: 0.6703 - accuracy: 0.5834 - val_loss: 0.6931 - val_accuracy: 0.5529\n",
      "Epoch 26/120\n",
      "166/166 [==============================] - 17s 104ms/step - loss: 0.6702 - accuracy: 0.5866 - val_loss: 0.6953 - val_accuracy: 0.5536\n",
      "Epoch 27/120\n",
      "166/166 [==============================] - 16s 94ms/step - loss: 0.6666 - accuracy: 0.5868 - val_loss: 0.6942 - val_accuracy: 0.5483\n",
      "Epoch 28/120\n",
      "166/166 [==============================] - 15s 91ms/step - loss: 0.6627 - accuracy: 0.5981 - val_loss: 0.6999 - val_accuracy: 0.5536\n",
      "Epoch 29/120\n",
      "166/166 [==============================] - 15s 92ms/step - loss: 0.6613 - accuracy: 0.5981 - val_loss: 0.6961 - val_accuracy: 0.5453\n",
      "Epoch 30/120\n",
      "166/166 [==============================] - 15s 92ms/step - loss: 0.6557 - accuracy: 0.6119 - val_loss: 0.7033 - val_accuracy: 0.5582\n",
      "Epoch 31/120\n",
      "166/166 [==============================] - 15s 93ms/step - loss: 0.6520 - accuracy: 0.6161 - val_loss: 0.7062 - val_accuracy: 0.5453\n",
      "Epoch 32/120\n",
      "166/166 [==============================] - 15s 92ms/step - loss: 0.6396 - accuracy: 0.6271 - val_loss: 0.7384 - val_accuracy: 0.5461\n",
      "Epoch 33/120\n",
      "166/166 [==============================] - 15s 92ms/step - loss: 0.6389 - accuracy: 0.6348 - val_loss: 0.7043 - val_accuracy: 0.5559\n",
      "Epoch 34/120\n",
      "166/166 [==============================] - 15s 92ms/step - loss: 0.6253 - accuracy: 0.6446 - val_loss: 0.7146 - val_accuracy: 0.5672\n",
      "Epoch 35/120\n",
      "166/166 [==============================] - 15s 93ms/step - loss: 0.6202 - accuracy: 0.6486 - val_loss: 0.7025 - val_accuracy: 0.5733\n",
      "Epoch 36/120\n",
      "166/166 [==============================] - 16s 95ms/step - loss: 0.6106 - accuracy: 0.6616 - val_loss: 0.7103 - val_accuracy: 0.5695\n",
      "Epoch 37/120\n",
      "166/166 [==============================] - 17s 103ms/step - loss: 0.5969 - accuracy: 0.6726 - val_loss: 0.7329 - val_accuracy: 0.5604\n",
      "Epoch 38/120\n",
      "166/166 [==============================] - 17s 102ms/step - loss: 0.5917 - accuracy: 0.6798 - val_loss: 0.7251 - val_accuracy: 0.5740\n",
      "Epoch 39/120\n",
      "166/166 [==============================] - 16s 97ms/step - loss: 0.5710 - accuracy: 0.6998 - val_loss: 0.7837 - val_accuracy: 0.5536\n",
      "Epoch 40/120\n",
      "166/166 [==============================] - 15s 93ms/step - loss: 0.5703 - accuracy: 0.6966 - val_loss: 0.7193 - val_accuracy: 0.5846\n",
      "Epoch 41/120\n",
      "166/166 [==============================] - 15s 92ms/step - loss: 0.5518 - accuracy: 0.7138 - val_loss: 0.7475 - val_accuracy: 0.5816\n",
      "Epoch 42/120\n",
      "166/166 [==============================] - 16s 97ms/step - loss: 0.5458 - accuracy: 0.7189 - val_loss: 0.7412 - val_accuracy: 0.5755\n",
      "Epoch 43/120\n",
      "166/166 [==============================] - 16s 95ms/step - loss: 0.5380 - accuracy: 0.7296 - val_loss: 0.7273 - val_accuracy: 0.5823\n",
      "Epoch 44/120\n",
      "166/166 [==============================] - 15s 91ms/step - loss: 0.5247 - accuracy: 0.7361 - val_loss: 0.7466 - val_accuracy: 0.5921\n",
      "Epoch 45/120\n",
      "166/166 [==============================] - 15s 92ms/step - loss: 0.5122 - accuracy: 0.7480 - val_loss: 0.7996 - val_accuracy: 0.5899\n",
      "Epoch 46/120\n",
      "166/166 [==============================] - 15s 92ms/step - loss: 0.4956 - accuracy: 0.7625 - val_loss: 0.7597 - val_accuracy: 0.5921\n",
      "Epoch 47/120\n",
      "166/166 [==============================] - 15s 92ms/step - loss: 0.4897 - accuracy: 0.7640 - val_loss: 0.7452 - val_accuracy: 0.6057\n",
      "Epoch 48/120\n",
      "166/166 [==============================] - 15s 93ms/step - loss: 0.4775 - accuracy: 0.7793 - val_loss: 0.7477 - val_accuracy: 0.6088\n",
      "Epoch 49/120\n",
      "166/166 [==============================] - 15s 92ms/step - loss: 0.4511 - accuracy: 0.7882 - val_loss: 0.8015 - val_accuracy: 0.5921\n",
      "Epoch 50/120\n",
      "166/166 [==============================] - 15s 92ms/step - loss: 0.4598 - accuracy: 0.7739 - val_loss: 0.7928 - val_accuracy: 0.5997\n",
      "Epoch 51/120\n",
      "166/166 [==============================] - 15s 93ms/step - loss: 0.4376 - accuracy: 0.7986 - val_loss: 0.8313 - val_accuracy: 0.6208\n",
      "Epoch 52/120\n",
      "166/166 [==============================] - 15s 93ms/step - loss: 0.4256 - accuracy: 0.8001 - val_loss: 0.8052 - val_accuracy: 0.6110\n",
      "Epoch 53/120\n",
      "166/166 [==============================] - 15s 93ms/step - loss: 0.4094 - accuracy: 0.8169 - val_loss: 0.7868 - val_accuracy: 0.6314\n",
      "Epoch 54/120\n",
      "166/166 [==============================] - 15s 92ms/step - loss: 0.4022 - accuracy: 0.8188 - val_loss: 0.7724 - val_accuracy: 0.6178\n",
      "Epoch 55/120\n",
      "166/166 [==============================] - 16s 99ms/step - loss: 0.3836 - accuracy: 0.8296 - val_loss: 0.7973 - val_accuracy: 0.6299\n",
      "Epoch 56/120\n",
      "166/166 [==============================] - 16s 98ms/step - loss: 0.3643 - accuracy: 0.8436 - val_loss: 0.8193 - val_accuracy: 0.6382\n",
      "Epoch 57/120\n"
     ]
    },
    {
     "name": "stdout",
     "output_type": "stream",
     "text": [
      "166/166 [==============================] - 15s 92ms/step - loss: 0.3570 - accuracy: 0.8468 - val_loss: 0.8335 - val_accuracy: 0.6390\n",
      "Epoch 58/120\n",
      "166/166 [==============================] - 15s 92ms/step - loss: 0.3475 - accuracy: 0.8481 - val_loss: 0.8122 - val_accuracy: 0.6254\n",
      "Epoch 59/120\n",
      "166/166 [==============================] - 15s 92ms/step - loss: 0.3320 - accuracy: 0.8568 - val_loss: 0.8246 - val_accuracy: 0.6254\n",
      "Epoch 60/120\n",
      "166/166 [==============================] - 15s 92ms/step - loss: 0.3279 - accuracy: 0.8596 - val_loss: 0.8379 - val_accuracy: 0.6382\n",
      "Epoch 61/120\n",
      "166/166 [==============================] - 15s 91ms/step - loss: 0.3066 - accuracy: 0.8679 - val_loss: 0.8712 - val_accuracy: 0.6322\n",
      "Epoch 62/120\n",
      "166/166 [==============================] - 15s 91ms/step - loss: 0.2972 - accuracy: 0.8778 - val_loss: 0.8765 - val_accuracy: 0.6556\n",
      "Epoch 63/120\n",
      "166/166 [==============================] - 15s 90ms/step - loss: 0.2794 - accuracy: 0.8855 - val_loss: 0.8888 - val_accuracy: 0.6412\n",
      "Epoch 64/120\n",
      "166/166 [==============================] - 15s 91ms/step - loss: 0.2717 - accuracy: 0.8870 - val_loss: 0.8707 - val_accuracy: 0.6616\n",
      "Epoch 65/120\n",
      "166/166 [==============================] - 15s 91ms/step - loss: 0.2481 - accuracy: 0.9027 - val_loss: 0.9451 - val_accuracy: 0.6443\n",
      "Epoch 66/120\n",
      "166/166 [==============================] - 15s 91ms/step - loss: 0.2438 - accuracy: 0.8985 - val_loss: 0.9310 - val_accuracy: 0.6601\n",
      "Epoch 67/120\n",
      "166/166 [==============================] - 15s 91ms/step - loss: 0.2429 - accuracy: 0.9019 - val_loss: 0.9513 - val_accuracy: 0.6488\n",
      "Epoch 68/120\n",
      "166/166 [==============================] - 15s 91ms/step - loss: 0.2180 - accuracy: 0.9123 - val_loss: 0.9224 - val_accuracy: 0.6639\n",
      "Epoch 69/120\n",
      "166/166 [==============================] - 15s 91ms/step - loss: 0.2053 - accuracy: 0.9210 - val_loss: 0.9745 - val_accuracy: 0.6586\n",
      "Epoch 70/120\n",
      "166/166 [==============================] - 15s 92ms/step - loss: 0.1937 - accuracy: 0.9259 - val_loss: 0.9804 - val_accuracy: 0.6609\n",
      "Epoch 71/120\n",
      "166/166 [==============================] - 15s 91ms/step - loss: 0.1911 - accuracy: 0.9259 - val_loss: 1.0090 - val_accuracy: 0.6692\n",
      "Epoch 72/120\n",
      "166/166 [==============================] - 15s 91ms/step - loss: 0.1683 - accuracy: 0.9343 - val_loss: 0.9756 - val_accuracy: 0.6760\n",
      "Epoch 73/120\n",
      "166/166 [==============================] - 15s 91ms/step - loss: 0.1602 - accuracy: 0.9384 - val_loss: 1.0009 - val_accuracy: 0.6654\n",
      "Epoch 74/120\n",
      "166/166 [==============================] - 15s 92ms/step - loss: 0.1499 - accuracy: 0.9411 - val_loss: 1.0601 - val_accuracy: 0.6752\n",
      "Epoch 75/120\n",
      "166/166 [==============================] - 15s 91ms/step - loss: 0.1386 - accuracy: 0.9511 - val_loss: 1.0837 - val_accuracy: 0.6964\n",
      "Epoch 76/120\n",
      "166/166 [==============================] - 15s 91ms/step - loss: 0.1504 - accuracy: 0.9395 - val_loss: 1.0422 - val_accuracy: 0.6828\n",
      "Epoch 77/120\n",
      "166/166 [==============================] - 16s 96ms/step - loss: 0.1298 - accuracy: 0.9494 - val_loss: 1.1151 - val_accuracy: 0.6926\n",
      "Epoch 78/120\n",
      "166/166 [==============================] - 15s 91ms/step - loss: 0.1363 - accuracy: 0.9469 - val_loss: 1.1188 - val_accuracy: 0.6934\n",
      "Epoch 79/120\n",
      "166/166 [==============================] - 15s 91ms/step - loss: 0.1087 - accuracy: 0.9613 - val_loss: 1.1764 - val_accuracy: 0.6881\n",
      "Epoch 80/120\n",
      "166/166 [==============================] - 15s 90ms/step - loss: 0.1111 - accuracy: 0.9579 - val_loss: 1.1839 - val_accuracy: 0.7047\n",
      "Epoch 81/120\n",
      "166/166 [==============================] - 17s 100ms/step - loss: 0.1099 - accuracy: 0.9554 - val_loss: 1.1656 - val_accuracy: 0.6903\n",
      "Epoch 82/120\n",
      "166/166 [==============================] - 16s 96ms/step - loss: 0.0954 - accuracy: 0.9664 - val_loss: 1.2296 - val_accuracy: 0.6956\n",
      "Epoch 83/120\n",
      "166/166 [==============================] - 16s 95ms/step - loss: 0.0960 - accuracy: 0.9641 - val_loss: 1.1802 - val_accuracy: 0.6911\n",
      "Epoch 84/120\n",
      "166/166 [==============================] - 16s 96ms/step - loss: 0.0827 - accuracy: 0.9709 - val_loss: 1.2027 - val_accuracy: 0.6971\n",
      "Epoch 85/120\n",
      "166/166 [==============================] - 16s 95ms/step - loss: 0.0733 - accuracy: 0.9734 - val_loss: 1.2311 - val_accuracy: 0.7047\n",
      "Epoch 86/120\n",
      "166/166 [==============================] - 16s 95ms/step - loss: 0.0695 - accuracy: 0.9754 - val_loss: 1.3710 - val_accuracy: 0.7032\n",
      "Epoch 87/120\n",
      "166/166 [==============================] - 16s 95ms/step - loss: 0.0785 - accuracy: 0.9728 - val_loss: 1.2191 - val_accuracy: 0.7130\n",
      "Epoch 88/120\n",
      "166/166 [==============================] - 16s 94ms/step - loss: 0.0643 - accuracy: 0.9762 - val_loss: 1.3200 - val_accuracy: 0.7107\n",
      "Epoch 89/120\n",
      "166/166 [==============================] - 16s 94ms/step - loss: 0.0777 - accuracy: 0.9728 - val_loss: 1.3024 - val_accuracy: 0.6986\n",
      "Epoch 90/120\n",
      "166/166 [==============================] - 16s 94ms/step - loss: 0.0823 - accuracy: 0.9698 - val_loss: 1.3243 - val_accuracy: 0.6850\n",
      "Epoch 91/120\n",
      "166/166 [==============================] - 16s 94ms/step - loss: 0.0748 - accuracy: 0.9715 - val_loss: 1.2222 - val_accuracy: 0.7190\n",
      "Epoch 92/120\n",
      "166/166 [==============================] - 16s 95ms/step - loss: 0.0412 - accuracy: 0.9894 - val_loss: 1.3428 - val_accuracy: 0.7183\n",
      "Epoch 93/120\n",
      "166/166 [==============================] - 16s 97ms/step - loss: 0.0419 - accuracy: 0.9873 - val_loss: 1.4071 - val_accuracy: 0.7122\n",
      "Epoch 94/120\n",
      "166/166 [==============================] - 16s 98ms/step - loss: 0.0707 - accuracy: 0.9728 - val_loss: 1.3140 - val_accuracy: 0.7032\n",
      "Epoch 95/120\n",
      "166/166 [==============================] - 16s 96ms/step - loss: 0.0709 - accuracy: 0.9728 - val_loss: 1.3007 - val_accuracy: 0.7115\n",
      "Epoch 96/120\n",
      "166/166 [==============================] - 16s 96ms/step - loss: 0.0559 - accuracy: 0.9813 - val_loss: 1.3645 - val_accuracy: 0.7107\n",
      "Epoch 97/120\n",
      "166/166 [==============================] - 16s 97ms/step - loss: 0.0526 - accuracy: 0.9821 - val_loss: 1.4318 - val_accuracy: 0.6911\n",
      "Epoch 98/120\n",
      "166/166 [==============================] - 16s 96ms/step - loss: 0.0528 - accuracy: 0.9811 - val_loss: 1.3890 - val_accuracy: 0.7077\n",
      "Epoch 99/120\n",
      "166/166 [==============================] - 16s 96ms/step - loss: 0.0410 - accuracy: 0.9873 - val_loss: 1.4500 - val_accuracy: 0.7228\n",
      "Epoch 100/120\n",
      "166/166 [==============================] - 16s 96ms/step - loss: 0.0439 - accuracy: 0.9853 - val_loss: 1.3942 - val_accuracy: 0.7069\n",
      "Epoch 101/120\n",
      "166/166 [==============================] - 16s 97ms/step - loss: 0.0471 - accuracy: 0.9851 - val_loss: 1.4105 - val_accuracy: 0.7092\n",
      "Epoch 102/120\n",
      "166/166 [==============================] - 16s 98ms/step - loss: 0.0560 - accuracy: 0.9779 - val_loss: 1.4342 - val_accuracy: 0.7092\n",
      "Epoch 103/120\n",
      "166/166 [==============================] - 17s 100ms/step - loss: 0.0505 - accuracy: 0.9807 - val_loss: 1.5104 - val_accuracy: 0.7002\n",
      "Epoch 104/120\n",
      "166/166 [==============================] - 16s 97ms/step - loss: 0.0625 - accuracy: 0.9781 - val_loss: 1.4378 - val_accuracy: 0.7281\n",
      "Epoch 105/120\n",
      "166/166 [==============================] - 16s 97ms/step - loss: 0.0482 - accuracy: 0.9838 - val_loss: 1.4477 - val_accuracy: 0.7069\n",
      "Epoch 106/120\n",
      "166/166 [==============================] - 16s 96ms/step - loss: 0.0296 - accuracy: 0.9915 - val_loss: 1.5017 - val_accuracy: 0.7190\n",
      "Epoch 107/120\n",
      "166/166 [==============================] - 16s 96ms/step - loss: 0.0357 - accuracy: 0.9887 - val_loss: 1.4341 - val_accuracy: 0.7281\n",
      "Epoch 108/120\n",
      "166/166 [==============================] - 16s 96ms/step - loss: 0.0374 - accuracy: 0.9856 - val_loss: 1.5128 - val_accuracy: 0.7221\n",
      "Epoch 109/120\n",
      "166/166 [==============================] - 16s 96ms/step - loss: 0.0449 - accuracy: 0.9838 - val_loss: 1.4628 - val_accuracy: 0.7205\n",
      "Epoch 110/120\n",
      "166/166 [==============================] - 16s 94ms/step - loss: 0.0415 - accuracy: 0.9851 - val_loss: 1.4585 - val_accuracy: 0.7205\n",
      "Epoch 111/120\n",
      "166/166 [==============================] - 16s 97ms/step - loss: 0.0453 - accuracy: 0.9824 - val_loss: 1.5194 - val_accuracy: 0.7160\n",
      "Epoch 112/120\n",
      "166/166 [==============================] - 16s 95ms/step - loss: 0.0428 - accuracy: 0.9845 - val_loss: 1.4295 - val_accuracy: 0.7198\n",
      "Epoch 113/120\n"
     ]
    },
    {
     "name": "stdout",
     "output_type": "stream",
     "text": [
      "166/166 [==============================] - 16s 95ms/step - loss: 0.0172 - accuracy: 0.9953 - val_loss: 1.5194 - val_accuracy: 0.7326\n",
      "Epoch 114/120\n",
      "166/166 [==============================] - 16s 94ms/step - loss: 0.0406 - accuracy: 0.9868 - val_loss: 1.4640 - val_accuracy: 0.7304\n",
      "Epoch 115/120\n",
      "166/166 [==============================] - 17s 102ms/step - loss: 0.0381 - accuracy: 0.9866 - val_loss: 1.4871 - val_accuracy: 0.7100\n",
      "Epoch 116/120\n",
      "166/166 [==============================] - 16s 95ms/step - loss: 0.0469 - accuracy: 0.9832 - val_loss: 1.5798 - val_accuracy: 0.7221\n",
      "Epoch 117/120\n",
      "166/166 [==============================] - 16s 94ms/step - loss: 0.0316 - accuracy: 0.9887 - val_loss: 1.4768 - val_accuracy: 0.7319\n",
      "Epoch 118/120\n",
      "166/166 [==============================] - 16s 94ms/step - loss: 0.0366 - accuracy: 0.9879 - val_loss: 1.4511 - val_accuracy: 0.7251\n",
      "Epoch 119/120\n",
      "166/166 [==============================] - 16s 94ms/step - loss: 0.0230 - accuracy: 0.9945 - val_loss: 1.4546 - val_accuracy: 0.7304\n",
      "Epoch 120/120\n",
      "166/166 [==============================] - 16s 94ms/step - loss: 0.0131 - accuracy: 0.9960 - val_loss: 1.5568 - val_accuracy: 0.7341\n",
      "42/42 [==============================] - 1s 34ms/step - loss: 1.5568 - accuracy: 0.7341\n",
      "Test accuracy: 0.7341389656066895\n"
     ]
    }
   ],
   "source": [
    "import pandas as pd\n",
    "from keras.layers import LSTM, Dense\n",
    "from keras.models import Sequential\n",
    "from sklearn.preprocessing import MinMaxScaler\n",
    "from sklearn.model_selection import train_test_split\n",
    "\n",
    "# načtení dat\n",
    "\n",
    "# definice lookback\n",
    "lookback = 200\n",
    "\n",
    "# převod dat na numpy array\n",
    "data = df_model.values\n",
    "scaler = MinMaxScaler(feature_range=(0, 1))\n",
    "data_scaled = scaler.fit_transform(data)\n",
    "\n",
    "# rozdělení dat na trénovací a testovací\n",
    "X = []\n",
    "y = []\n",
    "for i in range(lookback, len(data)):\n",
    "    X.append(data_scaled[i-lookback:i, 1:])\n",
    "    y.append(data_scaled[i, 0])\n",
    "X = np.array(X)\n",
    "y = np.array(y)\n",
    "print(X.shape)\n",
    "X_train, X_test, y_train, y_test = train_test_split(X, y, test_size=0.2)\n",
    "\n",
    "# vytvoření modelu\n",
    "model = Sequential()\n",
    "model.add(LSTM(units=100, input_shape=(lookback, data.shape[1]-1)))\n",
    "model.add(Dropout(0.3))\n",
    "model.add(Dense(1, activation='sigmoid'))\n",
    "model.compile(loss=\"binary_crossentropy\", optimizer=\"adam\", metrics=['accuracy'])\n",
    "\n",
    "# natrénování modelu na trénovacích datech\n",
    "history = model.fit(X_train, y_train, epochs=120, batch_size=32,validation_data=(X_test, y_test))\n",
    "\n",
    "# hodnocení modelu na testovacích datech\n",
    "test_loss, test_acc = model.evaluate(X_test, y_test)\n",
    "print('Test accuracy:', test_acc)\n"
   ]
  },
  {
   "cell_type": "code",
   "execution_count": 51,
   "id": "96bc4d52",
   "metadata": {},
   "outputs": [
    {
     "name": "stdout",
     "output_type": "stream",
     "text": [
      "Model: \"sequential\"\n",
      "_________________________________________________________________\n",
      " Layer (type)                Output Shape              Param #   \n",
      "=================================================================\n",
      " lstm (LSTM)                 (None, 100)               76000     \n",
      "                                                                 \n",
      " dropout (Dropout)           (None, 100)               0         \n",
      "                                                                 \n",
      " dense (Dense)               (None, 1)                 101       \n",
      "                                                                 \n",
      "=================================================================\n",
      "Total params: 76,101\n",
      "Trainable params: 76,101\n",
      "Non-trainable params: 0\n",
      "_________________________________________________________________\n"
     ]
    }
   ],
   "source": [
    "model.summary()"
   ]
  },
  {
   "cell_type": "code",
   "execution_count": 52,
   "id": "44f54321",
   "metadata": {},
   "outputs": [
    {
     "name": "stdout",
     "output_type": "stream",
     "text": [
      "42/42 [==============================] - 1s 34ms/step\n"
     ]
    },
    {
     "data": {
      "image/png": "[encoded data removed]",
      "text/plain": [
       "<Figure size 640x480 with 1 Axes>"
      ]
     },
     "metadata": {},
     "output_type": "display_data"
    }
   ],
   "source": [
    "from sklearn.metrics import roc_curve\n",
    "import matplotlib.pyplot as plt\n",
    "y_pred_proba =model.predict(X_test)\n",
    "fpr, tpr, _ = roc_curve(y_test,  y_pred_proba)\n",
    "auc = roc_auc_score(y_test, y_pred_proba)\n",
    "plt.plot(fpr,tpr,label=\"data 1, auc=\"+str(auc))\n",
    "plt.legend(loc=4)\n",
    "plt.title(\"AUC ROC Curve\")\n",
    "plt.show()"
   ]
  },
  {
   "cell_type": "code",
   "execution_count": 53,
   "id": "cabdd1e1",
   "metadata": {},
   "outputs": [
    {
     "data": {
      "image/png": "[encoded data removed]",
      "text/plain": [
       "<Figure size 640x480 with 1 Axes>"
      ]
     },
     "metadata": {},
     "output_type": "display_data"
    },
    {
     "data": {
      "image/png": "[encoded data removed]",
      "text/plain": [
       "<Figure size 640x480 with 1 Axes>"
      ]
     },
     "metadata": {},
     "output_type": "display_data"
    }
   ],
   "source": [
    "acc = history.history['accuracy']\n",
    "val_acc = history.history['val_accuracy']\n",
    "loss = history.history['loss']\n",
    "val_loss = history.history['val_loss']\n",
    "\n",
    "# Plot the accuracy\n",
    "plt.plot(acc, label='Training Accuracy')\n",
    "plt.plot(val_acc, label='Validation Accuracy')\n",
    "plt.legend(loc='lower right')\n",
    "plt.title('Accuracy')\n",
    "plt.show()\n",
    "\n",
    "# Plot the loss\n",
    "plt.plot(loss, label='Training Loss')\n",
    "plt.plot(val_loss, label='Validation Loss')\n",
    "plt.legend(loc='upper right')\n",
    "plt.title('Loss')\n",
    "plt.show()"
   ]
  },
  {
   "cell_type": "code",
   "execution_count": 54,
   "id": "0c206b68",
   "metadata": {
    "scrolled": true
   },
   "outputs": [
    {
     "name": "stdout",
     "output_type": "stream",
     "text": [
      "              precision    recall  f1-score   support\n",
      "\n",
      "         0.0       0.72      0.77      0.74       664\n",
      "         1.0       0.75      0.70      0.72       660\n",
      "\n",
      "    accuracy                           0.73      1324\n",
      "   macro avg       0.74      0.73      0.73      1324\n",
      "weighted avg       0.74      0.73      0.73      1324\n",
      "\n",
      "AUC-ROC score:  0.7980490142387733\n"
     ]
    }
   ],
   "source": [
    "from sklearn.metrics import classification_report\n",
    "auc = roc_auc_score(y_test, y_pred_proba) \n",
    "y_pred_binary = (y_pred_proba > 0.5).astype(int)\n",
    "print(classification_report(y_test, y_pred_binary))\n",
    "print('AUC-ROC score: ', auc)"
   ]
  },
  {
   "cell_type": "code",
   "execution_count": 26,
   "id": "f8f65bf1",
   "metadata": {
    "scrolled": true
   },
   "outputs": [
    {
     "data": {
      "text/plain": [
       "0.46871647"
      ]
     },
     "execution_count": 26,
     "metadata": {},
     "output_type": "execute_result"
    }
   ],
   "source": [
    "np.mean(y_pred_proba)"
   ]
  },
  {
   "cell_type": "code",
   "execution_count": 105,
   "id": "4897ec9a",
   "metadata": {},
   "outputs": [],
   "source": [
    "model.save('model3.h5')\n",
    "model.save_weights('my_model_weights3.h5')  # to store\n"
   ]
  },
  {
   "cell_type": "code",
   "execution_count": 28,
   "id": "450f5d2e",
   "metadata": {},
   "outputs": [
    {
     "data": {
      "text/plain": [
       "array([0.53846154, 0.5       , 0.5       , 0.56666667, 0.36666667,\n",
       "       0.05405405, 0.05405405, 0.08695652, 0.        , 0.        ,\n",
       "       0.04347826, 0.        , 0.5       , 0.35308133, 0.52333333,\n",
       "       0.17319974, 0.60022574, 0.23687633, 0.26470588, 0.13549416,\n",
       "       0.44876325, 0.15818221, 0.67857143, 0.06671903, 0.78571429,\n",
       "       0.06057386, 0.45804196, 0.28032127, 0.66666667, 0.01817007,\n",
       "       0.66666667, 0.0401169 , 0.09756867, 0.42702703, 0.31443598,\n",
       "       0.50230415, 0.21293055, 0.35294118, 0.1381509 , 0.33707865,\n",
       "       0.22234234, 0.55882353, 0.17702297, 0.85714286, 0.1892933 ,\n",
       "       0.40634006, 0.32031142, 0.84210526, 0.0670209 , 0.25      ,\n",
       "       0.00328931, 0.03192888, 0.39323843, 0.16905649, 0.39221179,\n",
       "       0.15879984, 0.5       , 0.04523683, 0.20967742, 0.07297979,\n",
       "       0.6122449 , 0.15827105, 0.7173913 , 0.27301756, 0.33703704,\n",
       "       0.29255683, 1.        , 0.00682466, 1.        , 0.03013571,\n",
       "       0.1017132 , 0.35193133, 0.24517326, 0.3744856 , 0.13353865,\n",
       "       1.        , 0.10377861, 0.27868852, 0.18929273, 0.5       ,\n",
       "       0.10498358, 0.8       , 0.15167642, 0.33928571, 0.25938867,\n",
       "       0.4       , 0.01258648, 1.        , 0.01976735])"
      ]
     },
     "execution_count": 28,
     "metadata": {},
     "output_type": "execute_result"
    }
   ],
   "source": [
    "new_data  =data_scaled[-1,:]\n",
    "new_data = new_data[1:]\n",
    "new_data"
   ]
  },
  {
   "cell_type": "code",
   "execution_count": 29,
   "id": "2b919261",
   "metadata": {},
   "outputs": [
    {
     "data": {
      "text/plain": [
       "array([[[0.53846154, 0.5       , 0.5       , 0.56666667, 0.36666667,\n",
       "         0.05405405, 0.05405405, 0.08695652, 0.        , 0.        ,\n",
       "         0.04347826, 0.        , 0.5       , 0.35308133, 0.52333333,\n",
       "         0.17319974, 0.60022574, 0.23687633, 0.26470588, 0.13549416,\n",
       "         0.44876325, 0.15818221, 0.67857143, 0.06671903, 0.78571429,\n",
       "         0.06057386, 0.45804196, 0.28032127, 0.66666667, 0.01817007,\n",
       "         0.66666667, 0.0401169 , 0.09756867, 0.42702703, 0.31443598,\n",
       "         0.50230415, 0.21293055, 0.35294118, 0.1381509 , 0.33707865,\n",
       "         0.22234234, 0.55882353, 0.17702297, 0.85714286, 0.1892933 ,\n",
       "         0.40634006, 0.32031142, 0.84210526, 0.0670209 , 0.25      ,\n",
       "         0.00328931, 0.03192888, 0.39323843, 0.16905649, 0.39221179,\n",
       "         0.15879984, 0.5       , 0.04523683, 0.20967742, 0.07297979,\n",
       "         0.6122449 , 0.15827105, 0.7173913 , 0.27301756, 0.33703704,\n",
       "         0.29255683, 1.        , 0.00682466, 1.        , 0.03013571,\n",
       "         0.1017132 , 0.35193133, 0.24517326, 0.3744856 , 0.13353865,\n",
       "         1.        , 0.10377861, 0.27868852, 0.18929273, 0.5       ,\n",
       "         0.10498358, 0.8       , 0.15167642, 0.33928571, 0.25938867,\n",
       "         0.4       , 0.01258648, 1.        , 0.01976735]]])"
      ]
     },
     "execution_count": 29,
     "metadata": {},
     "output_type": "execute_result"
    }
   ],
   "source": [
    "\n",
    "new_data = np.reshape(new_data, (1,1,new_data.shape[0]))\n",
    "new_data"
   ]
  },
  {
   "cell_type": "code",
   "execution_count": 30,
   "id": "977d1f7a",
   "metadata": {
    "scrolled": true
   },
   "outputs": [
    {
     "name": "stdout",
     "output_type": "stream",
     "text": [
      "1/1 [==============================] - 0s 369ms/step\n"
     ]
    }
   ],
   "source": [
    "y_pred = model.predict(new_data)"
   ]
  },
  {
   "cell_type": "code",
   "execution_count": 31,
   "id": "1cc06bbf",
   "metadata": {},
   "outputs": [
    {
     "data": {
      "text/plain": [
       "array([[0.2638105]], dtype=float32)"
      ]
     },
     "execution_count": 31,
     "metadata": {},
     "output_type": "execute_result"
    }
   ],
   "source": [
    "y_pred"
   ]
  },
  {
   "cell_type": "code",
   "execution_count": 83,
   "id": "427be37d",
   "metadata": {},
   "outputs": [],
   "source": [
    "from datetime import date\n",
    "\n",
    "today = date.today()\n",
    "df_fighters_details['AGE'] = (pd.to_datetime(today) - pd.to_datetime(df_fighters_details['DOB'])).astype('<m8[Y]')"
   ]
  },
  {
   "cell_type": "code",
   "execution_count": 84,
   "id": "5975f89e",
   "metadata": {},
   "outputs": [],
   "source": [
    "fighter2 = \"Derrick Lewis\"\n",
    "fighter1= \"Serghei Spivac\"\n"
   ]
  },
  {
   "cell_type": "code",
   "execution_count": 85,
   "id": "cd180742",
   "metadata": {},
   "outputs": [],
   "source": [
    "f1_df = df_fighters.loc[df_fighters['FIGHTER']==fighter1]\n",
    "f2_df = df_fighters.loc[df_fighters['FIGHTER']==fighter2]"
   ]
  },
  {
   "cell_type": "code",
   "execution_count": 86,
   "id": "74302f5f",
   "metadata": {},
   "outputs": [
    {
     "data": {
      "text/html": [
       "<div>\n",
       "<style scoped>\n",
       "    .dataframe tbody tr th:only-of-type {\n",
       "        vertical-align: middle;\n",
       "    }\n",
       "\n",
       "    .dataframe tbody tr th {\n",
       "        vertical-align: top;\n",
       "    }\n",
       "\n",
       "    .dataframe thead th {\n",
       "        text-align: right;\n",
       "    }\n",
       "</style>\n",
       "<table border=\"1\" class=\"dataframe\">\n",
       "  <thead>\n",
       "    <tr style=\"text-align: right;\">\n",
       "      <th></th>\n",
       "      <th>FIGHTER</th>\n",
       "      <th>HEIGHT_fighter</th>\n",
       "      <th>WEIGHT_fighter</th>\n",
       "      <th>REACH_fighter</th>\n",
       "      <th>STANCE_fighter</th>\n",
       "      <th>Fights</th>\n",
       "      <th>Win</th>\n",
       "      <th>DRAW</th>\n",
       "      <th>Lost</th>\n",
       "      <th>No_contest</th>\n",
       "      <th>...</th>\n",
       "      <th>BODY_attemps_opponent</th>\n",
       "      <th>LEG_landed_opponent</th>\n",
       "      <th>LEG_attemps_opponent</th>\n",
       "      <th>DISTANCE_landed_opponent</th>\n",
       "      <th>DISTANCE_attemps_opponent</th>\n",
       "      <th>CLINCH_landed_opponent</th>\n",
       "      <th>CLINCH_attemps_opponent</th>\n",
       "      <th>GROUND_landed_opponent</th>\n",
       "      <th>GROUND_attemps_opponent</th>\n",
       "      <th>form_skore_fighter</th>\n",
       "    </tr>\n",
       "  </thead>\n",
       "  <tbody>\n",
       "    <tr>\n",
       "      <th>2003</th>\n",
       "      <td>Serghei Spivac</td>\n",
       "      <td>75.0</td>\n",
       "      <td>260.0</td>\n",
       "      <td>78.0</td>\n",
       "      <td>Orthodox</td>\n",
       "      <td>9</td>\n",
       "      <td>6</td>\n",
       "      <td>0</td>\n",
       "      <td>3</td>\n",
       "      <td>0</td>\n",
       "      <td>...</td>\n",
       "      <td>71.0</td>\n",
       "      <td>28.0</td>\n",
       "      <td>29.0</td>\n",
       "      <td>164.0</td>\n",
       "      <td>415.0</td>\n",
       "      <td>27.0</td>\n",
       "      <td>38.0</td>\n",
       "      <td>37.0</td>\n",
       "      <td>58.0</td>\n",
       "      <td>0.9</td>\n",
       "    </tr>\n",
       "  </tbody>\n",
       "</table>\n",
       "<p>1 rows × 56 columns</p>\n",
       "</div>"
      ],
      "text/plain": [
       "             FIGHTER  HEIGHT_fighter  WEIGHT_fighter  REACH_fighter  \\\n",
       "2003  Serghei Spivac            75.0           260.0           78.0   \n",
       "\n",
       "     STANCE_fighter  Fights  Win  DRAW  Lost  No_contest  ...  \\\n",
       "2003       Orthodox       9    6     0     3           0  ...   \n",
       "\n",
       "      BODY_attemps_opponent  LEG_landed_opponent  LEG_attemps_opponent  \\\n",
       "2003                   71.0                 28.0                  29.0   \n",
       "\n",
       "      DISTANCE_landed_opponent  DISTANCE_attemps_opponent  \\\n",
       "2003                     164.0                      415.0   \n",
       "\n",
       "      CLINCH_landed_opponent  CLINCH_attemps_opponent  GROUND_landed_opponent  \\\n",
       "2003                    27.0                     38.0                    37.0   \n",
       "\n",
       "      GROUND_attemps_opponent  form_skore_fighter  \n",
       "2003                     58.0                 0.9  \n",
       "\n",
       "[1 rows x 56 columns]"
      ]
     },
     "execution_count": 86,
     "metadata": {},
     "output_type": "execute_result"
    }
   ],
   "source": [
    "f1_df"
   ]
  },
  {
   "cell_type": "code",
   "execution_count": 87,
   "id": "2b4a9810",
   "metadata": {},
   "outputs": [
    {
     "data": {
      "text/plain": [
       "Index(['Win', 'HEIGHT_diff', 'REACH_diff', 'AGE_diff', 'form_skore_fighter',\n",
       "       'form_skore_opponent', 'fightNo_fighter', 'fightNo_opponent',\n",
       "       'Win_tot_f1', 'DRAW_f1', 'No_contest_f1', 'Win_tot_f2', 'DRAW_f2',\n",
       "       'No_contest_f2', 'CTRL_pct_fighterf1', 'SIG.STR._acc_fighterf1',\n",
       "       'SIG.STR._perRound_fighterf1', 'TOTAL STR._acc_fighterf1',\n",
       "       'TOTAL STR._perRound_fighterf1', 'TD_acc_fighterf1',\n",
       "       'TD_perRound_fighterf1', 'HEAD_acc_fighterf1',\n",
       "       'HEAD_perRound_fighterf1', 'BODY_acc_fighterf1',\n",
       "       'BODY_perRound_fighterf1', 'LEG_acc_fighterf1',\n",
       "       'LEG_perRound_fighterf1', 'DISTANCE_acc_fighterf1',\n",
       "       'DISTANCE_perRound_fighterf1', 'CLINCH_acc_fighterf1',\n",
       "       'CLINCH_perRound_fighterf1', 'GROUND_acc_fighterf1',\n",
       "       'GROUND_perRound_fighterf1', 'CTRL_pct_opponentf1',\n",
       "       'SIG.STR._acc_opponentf1', 'SIG.STR._perRound_opponentf1',\n",
       "       'TOTAL STR._acc_opponentf1', 'TOTAL STR._perRound_opponentf1',\n",
       "       'TD_acc_opponentf1', 'TD_perRound_opponentf1', 'HEAD_acc_opponentf1',\n",
       "       'HEAD_perRound_opponentf1', 'BODY_acc_opponentf1',\n",
       "       'BODY_perRound_opponentf1', 'LEG_acc_opponentf1',\n",
       "       'LEG_perRound_opponentf1', 'DISTANCE_acc_opponentf1',\n",
       "       'DISTANCE_perRound_opponentf1', 'CLINCH_acc_opponentf1',\n",
       "       'CLINCH_perRound_opponentf1', 'GROUND_acc_opponentf1',\n",
       "       'GROUND_perRound_opponentf1', 'CTRL_pct_fighterf2',\n",
       "       'SIG.STR._acc_fighterf2', 'SIG.STR._perRound_fighterf2',\n",
       "       'TOTAL STR._acc_fighterf2', 'TOTAL STR._perRound_fighterf2',\n",
       "       'TD_acc_fighterf2', 'TD_perRound_fighterf2', 'HEAD_acc_fighterf2',\n",
       "       'HEAD_perRound_fighterf2', 'BODY_acc_fighterf2',\n",
       "       'BODY_perRound_fighterf2', 'LEG_acc_fighterf2',\n",
       "       'LEG_perRound_fighterf2', 'DISTANCE_acc_fighterf2',\n",
       "       'DISTANCE_perRound_fighterf2', 'CLINCH_acc_fighterf2',\n",
       "       'CLINCH_perRound_fighterf2', 'GROUND_acc_fighterf2',\n",
       "       'GROUND_perRound_fighterf2', 'CTRL_pct_opponentf2',\n",
       "       'SIG.STR._acc_opponentf2', 'SIG.STR._perRound_opponentf2',\n",
       "       'TOTAL STR._acc_opponentf2', 'TOTAL STR._perRound_opponentf2',\n",
       "       'TD_acc_opponentf2', 'TD_perRound_opponentf2', 'HEAD_acc_opponentf2',\n",
       "       'HEAD_perRound_opponentf2', 'BODY_acc_opponentf2',\n",
       "       'BODY_perRound_opponentf2', 'LEG_acc_opponentf2',\n",
       "       'LEG_perRound_opponentf2', 'DISTANCE_acc_opponentf2',\n",
       "       'DISTANCE_perRound_opponentf2', 'CLINCH_acc_opponentf2',\n",
       "       'CLINCH_perRound_opponentf2', 'GROUND_acc_opponentf2',\n",
       "       'GROUND_perRound_opponentf2'],\n",
       "      dtype='object')"
      ]
     },
     "execution_count": 87,
     "metadata": {},
     "output_type": "execute_result"
    }
   ],
   "source": [
    "df_model.columns"
   ]
  },
  {
   "cell_type": "code",
   "execution_count": 88,
   "id": "2f5a3e74",
   "metadata": {},
   "outputs": [],
   "source": [
    "agediff = df_fighters_details[df_fighters_details['FIGHTER']==fighter1]['AGE'].values[0] - df_fighters_details[df_fighters_details['FIGHTER']==fighter2]['AGE'].values[0]\n",
    "formy = [f1_df['form_skore_fighter'].values[0], f2_df['form_skore_fighter'].values[0]]\n",
    "no_of_fights = [f1_df['Fights'].values[0],f2_df['Fights'].values[0]]\n",
    "W_D_NC = f1_df[['Win','DRAW', 'No_contest']].values.tolist()[0] + f2_df[['Win','DRAW', 'No_contest']].values.tolist()[0]"
   ]
  },
  {
   "cell_type": "code",
   "execution_count": 89,
   "id": "5473bec1",
   "metadata": {},
   "outputs": [],
   "source": [
    "sloupce2 = df_fighters.columns.tolist()[10:]\n",
    "stats_f1 = []\n",
    "stats_f2 = []\n",
    "for sloupec in sloupce2:    \n",
    "    splited = sloupec.split('_')\n",
    "    if 'CTRL' in splited:\n",
    "        stats_f1.append((f1_df[sloupec]/f1_df['TotalTime']).values[0])\n",
    "        stats_f2.append((f2_df[sloupec]/f2_df['TotalTime']).values[0])\n",
    "    if 'attemps' in splited:\n",
    "        stats_f1.append((f1_df[sloupec.replace('attemps', 'landed')]/f1_df[sloupec]).values[0])\n",
    "        stats_f1.append((f1_df[sloupec.replace('attemps', 'landed')]/f1_df['TotalTime']).values[0]*300)\n",
    "        \n",
    "        stats_f2.append((f2_df[sloupec.replace('attemps', 'landed')]/f2_df[sloupec]).values[0])\n",
    "        stats_f2.append((f2_df[sloupec.replace('attemps', 'landed')]/f2_df['TotalTime']).values[0]*300)\n",
    "stats_list = stats_f1 + stats_f2"
   ]
  },
  {
   "cell_type": "code",
   "execution_count": 90,
   "id": "bdff40e4",
   "metadata": {},
   "outputs": [],
   "source": [
    "vstup = np.array([1]+[f1_df.iloc[0][col] - f2_df.iloc[0][col] for col in ['HEIGHT_fighter','REACH_fighter']] + [agediff] + formy + no_of_fights + W_D_NC + stats_list)"
   ]
  },
  {
   "cell_type": "code",
   "execution_count": 91,
   "id": "1fdd596e",
   "metadata": {},
   "outputs": [
    {
     "name": "stderr",
     "output_type": "stream",
     "text": [
      "C:\\Users\\spravce\\AppData\\Local\\Temp\\ipykernel_30416\\2024273010.py:2: FutureWarning: The frame.append method is deprecated and will be removed from pandas in a future version. Use pandas.concat instead.\n",
      "  vstup_scaled = scaler.fit_transform(df_model.append(pd.DataFrame(vstup.reshape(1,-1), columns=list(df_model)), ignore_index=True))[-200:,1:]\n"
     ]
    }
   ],
   "source": [
    "scaler = MinMaxScaler(feature_range=(0, 1))\n",
    "vstup_scaled = scaler.fit_transform(df_model.append(pd.DataFrame(vstup.reshape(1,-1), columns=list(df_model)), ignore_index=True))[-200:,1:]"
   ]
  },
  {
   "cell_type": "code",
   "execution_count": 92,
   "id": "1f3ec277",
   "metadata": {},
   "outputs": [
    {
     "data": {
      "text/plain": [
       "(200, 89)"
      ]
     },
     "execution_count": 92,
     "metadata": {},
     "output_type": "execute_result"
    }
   ],
   "source": [
    "vstup_scaled.shape"
   ]
  },
  {
   "cell_type": "code",
   "execution_count": 93,
   "id": "96eda032",
   "metadata": {},
   "outputs": [],
   "source": [
    "from numpy import *\n",
    "where_are_NaNs = isnan(vstup_scaled)\n",
    "vstup_scaled[where_are_NaNs] = 0"
   ]
  },
  {
   "cell_type": "code",
   "execution_count": 94,
   "id": "b4ed6497",
   "metadata": {},
   "outputs": [
    {
     "data": {
      "text/plain": [
       "array([], shape=(0, 2), dtype=int64)"
      ]
     },
     "execution_count": 94,
     "metadata": {},
     "output_type": "execute_result"
    }
   ],
   "source": [
    "np.argwhere(np.isnan(vstup_scaled))"
   ]
  },
  {
   "cell_type": "code",
   "execution_count": 95,
   "id": "a5702284",
   "metadata": {},
   "outputs": [],
   "source": [
    "new_data = np.reshape(vstup_scaled, (1,200,vstup_scaled.shape[1]))"
   ]
  },
  {
   "cell_type": "code",
   "execution_count": 96,
   "id": "ff2a2884",
   "metadata": {},
   "outputs": [
    {
     "data": {
      "text/plain": [
       "array([[[0.46153846, 0.375     , 0.47058824, ..., 0.        ,\n",
       "         0.        , 0.        ],\n",
       "        [0.73076923, 0.79166667, 0.41176471, ..., 0.05888578,\n",
       "         0.66153846, 0.06213597],\n",
       "        [0.26923077, 0.20833333, 0.58823529, ..., 0.02074561,\n",
       "         0.7826087 , 0.58646617],\n",
       "        ...,\n",
       "        [0.46153846, 0.5       , 0.5       , ..., 0.0670209 ,\n",
       "         0.25      , 0.00328931],\n",
       "        [0.53846154, 0.5       , 0.5       , ..., 0.01258648,\n",
       "         1.        , 0.01976735],\n",
       "        [0.5       , 0.45833333, 0.23529412, ..., 0.0916802 ,\n",
       "         0.75342466, 0.07542115]]])"
      ]
     },
     "execution_count": 96,
     "metadata": {},
     "output_type": "execute_result"
    }
   ],
   "source": [
    "new_data"
   ]
  },
  {
   "cell_type": "code",
   "execution_count": null,
   "id": "66110573",
   "metadata": {},
   "outputs": [],
   "source": [
    "\n"
   ]
  },
  {
   "cell_type": "code",
   "execution_count": 97,
   "id": "b71d6fd0",
   "metadata": {},
   "outputs": [
    {
     "data": {
      "text/plain": [
       "(1, 89)"
      ]
     },
     "execution_count": 97,
     "metadata": {},
     "output_type": "execute_result"
    }
   ],
   "source": [
    "np.array(new_data[-1][-1]).reshape(1,-1).shape"
   ]
  },
  {
   "cell_type": "code",
   "execution_count": 102,
   "id": "23f96f1d",
   "metadata": {},
   "outputs": [],
   "source": [
    "from keras.models import load_model\n",
    "model = load_model('model3.h5')\n",
    "model.load_weights('my_model_weights.h5')  # to load"
   ]
  },
  {
   "cell_type": "code",
   "execution_count": 103,
   "id": "b5fa7a9f",
   "metadata": {},
   "outputs": [
    {
     "data": {
      "text/plain": [
       "array([[0.51083056, 0.48916944]])"
      ]
     },
     "execution_count": 103,
     "metadata": {},
     "output_type": "execute_result"
    }
   ],
   "source": [
    "logreg.predict_proba(np.array(new_data[-1][-1]).reshape(1,-1))"
   ]
  },
  {
   "cell_type": "code",
   "execution_count": 104,
   "id": "7bc04b75",
   "metadata": {},
   "outputs": [
    {
     "name": "stdout",
     "output_type": "stream",
     "text": [
      "WARNING:tensorflow:5 out of the last 48 calls to <function Model.make_predict_function.<locals>.predict_function at 0x000001889A896670> triggered tf.function retracing. Tracing is expensive and the excessive number of tracings could be due to (1) creating @tf.function repeatedly in a loop, (2) passing tensors with different shapes, (3) passing Python objects instead of tensors. For (1), please define your @tf.function outside of the loop. For (2), @tf.function has reduce_retracing=True option that can avoid unnecessary retracing. For (3), please refer to https://www.tensorflow.org/guide/function#controlling_retracing and https://www.tensorflow.org/api_docs/python/tf/function for  more details.\n",
      "1/1 [==============================] - 0s 351ms/step\n"
     ]
    },
    {
     "data": {
      "text/plain": [
       "array([[0.2637663]], dtype=float32)"
      ]
     },
     "execution_count": 104,
     "metadata": {},
     "output_type": "execute_result"
    }
   ],
   "source": [
    "y_pred = model.predict(new_data)\n",
    "y_pred"
   ]
  },
  {
   "cell_type": "code",
   "execution_count": 50,
   "id": "348db2cf",
   "metadata": {},
   "outputs": [],
   "source": [
    "df_model.to_csv('df_model.csv',index=False)"
   ]
  },
  {
   "cell_type": "code",
   "execution_count": null,
   "id": "0a3db91c",
   "metadata": {},
   "outputs": [],
   "source": []
  },
  {
   "cell_type": "code",
   "execution_count": null,
   "id": "a60c443e",
   "metadata": {},
   "outputs": [],
   "source": []
  },
  {
   "cell_type": "code",
   "execution_count": null,
   "id": "155452b6",
   "metadata": {},
   "outputs": [],
   "source": []
  }
 ],
 "metadata": {
  "kernelspec": {
   "display_name": "Python 3 (ipykernel)",
   "language": "python",
   "name": "python3"
  },
  "language_info": {
   "codemirror_mode": {
    "name": "ipython",
    "version": 3
   },
   "file_extension": ".py",
   "mimetype": "text/x-python",
   "name": "python",
   "nbconvert_exporter": "python",
   "pygments_lexer": "ipython3",
   "version": "3.9.13"
  }
 },
 "nbformat": 4,
 "nbformat_minor": 5
}
