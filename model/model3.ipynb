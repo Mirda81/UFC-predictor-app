{
 "cells": [
  {
   "cell_type": "code",
   "execution_count": 44,
   "id": "6eda130d",
   "metadata": {},
   "outputs": [],
   "source": [
    "import pandas as pd\n",
    "import numpy as np\n",
    "from sklearn.model_selection import GridSearchCV, train_test_split"
   ]
  },
  {
   "cell_type": "code",
   "execution_count": 45,
   "id": "64504238",
   "metadata": {},
   "outputs": [],
   "source": [
    "from keras.models import Sequential\n",
    "from keras.layers import Dense, Activation, Dropout\n",
    "\n",
    "from keras import layers\n",
    "from sklearn.neural_network import MLPClassifier\n",
    "from sklearn.metrics import accuracy_score, f1_score, auc, roc_curve, roc_auc_score\n",
    "from sklearn.preprocessing import StandardScaler\n",
    "from keras.layers import Dense, LSTM, Dropout, GRU, Bidirectional\n",
    "import pandas as pd\n",
    "from keras.layers import LSTM, Dense\n",
    "from keras.models import Sequential\n",
    "from sklearn.preprocessing import MinMaxScaler\n",
    "from sklearn.model_selection import train_test_split\n"
   ]
  },
  {
   "cell_type": "code",
   "execution_count": 46,
   "id": "1160a496",
   "metadata": {},
   "outputs": [],
   "source": [
    "df = pd.read_csv('fight_with_stats_precomp.csv')\n",
    "df_fighters = pd.read_csv('fighter_total_stats.csv')"
   ]
  },
  {
   "cell_type": "code",
   "execution_count": 47,
   "id": "1313842b",
   "metadata": {},
   "outputs": [],
   "source": [
    "df_fighters_details = pd.read_csv('fighter_details.csv', parse_dates=True)"
   ]
  },
  {
   "cell_type": "code",
   "execution_count": 48,
   "id": "cfad8be9",
   "metadata": {},
   "outputs": [],
   "source": [
    "df = df[(df['fightNo_fighter']>=3) & (df['fightNo_opponent']>=3) & (df['Women_fight']==0)]"
   ]
  },
  {
   "cell_type": "code",
   "execution_count": 49,
   "id": "6fbc9051",
   "metadata": {},
   "outputs": [],
   "source": [
    "df = df.fillna(0)\n"
   ]
  },
  {
   "cell_type": "code",
   "execution_count": 50,
   "id": "a380c164",
   "metadata": {},
   "outputs": [
    {
     "data": {
      "text/html": [
       "<div>\n",
       "<style scoped>\n",
       "    .dataframe tbody tr th:only-of-type {\n",
       "        vertical-align: middle;\n",
       "    }\n",
       "\n",
       "    .dataframe tbody tr th {\n",
       "        vertical-align: top;\n",
       "    }\n",
       "\n",
       "    .dataframe thead th {\n",
       "        text-align: right;\n",
       "    }\n",
       "</style>\n",
       "<table border=\"1\" class=\"dataframe\">\n",
       "  <thead>\n",
       "    <tr style=\"text-align: right;\">\n",
       "      <th></th>\n",
       "      <th>EVENT</th>\n",
       "      <th>BOUT</th>\n",
       "      <th>FIGHTER</th>\n",
       "      <th>OPPONENT</th>\n",
       "      <th>METHOD</th>\n",
       "      <th>Win</th>\n",
       "      <th>Women_fight</th>\n",
       "      <th>ROUND</th>\n",
       "      <th>HEIGHT_diff</th>\n",
       "      <th>REACH_diff</th>\n",
       "      <th>...</th>\n",
       "      <th>BODY_landed_opponent</th>\n",
       "      <th>BODY_attemps_opponent</th>\n",
       "      <th>LEG_landed_opponent</th>\n",
       "      <th>LEG_attemps_opponent</th>\n",
       "      <th>DISTANCE_landed_opponent</th>\n",
       "      <th>DISTANCE_attemps_opponent</th>\n",
       "      <th>CLINCH_landed_opponent</th>\n",
       "      <th>CLINCH_attemps_opponent</th>\n",
       "      <th>GROUND_landed_opponent</th>\n",
       "      <th>GROUND_attemps_opponent</th>\n",
       "    </tr>\n",
       "  </thead>\n",
       "  <tbody>\n",
       "    <tr>\n",
       "      <th>24</th>\n",
       "      <td>UFC 2: No Way Out</td>\n",
       "      <td>Royce Gracie vs. Patrick Smith</td>\n",
       "      <td>Patrick Smith</td>\n",
       "      <td>Royce Gracie</td>\n",
       "      <td>KO/TKO - ground</td>\n",
       "      <td>0</td>\n",
       "      <td>0</td>\n",
       "      <td>1</td>\n",
       "      <td>1.0</td>\n",
       "      <td>0.0</td>\n",
       "      <td>...</td>\n",
       "      <td>0.0</td>\n",
       "      <td>0.0</td>\n",
       "      <td>3.0</td>\n",
       "      <td>5.0</td>\n",
       "      <td>5.0</td>\n",
       "      <td>10.0</td>\n",
       "      <td>0.0</td>\n",
       "      <td>0.0</td>\n",
       "      <td>0.0</td>\n",
       "      <td>0.0</td>\n",
       "    </tr>\n",
       "    <tr>\n",
       "      <th>25</th>\n",
       "      <td>UFC 2: No Way Out</td>\n",
       "      <td>Royce Gracie vs. Patrick Smith</td>\n",
       "      <td>Royce Gracie</td>\n",
       "      <td>Patrick Smith</td>\n",
       "      <td>KO/TKO - ground</td>\n",
       "      <td>1</td>\n",
       "      <td>0</td>\n",
       "      <td>1</td>\n",
       "      <td>-1.0</td>\n",
       "      <td>0.0</td>\n",
       "      <td>...</td>\n",
       "      <td>0.0</td>\n",
       "      <td>0.0</td>\n",
       "      <td>0.0</td>\n",
       "      <td>1.0</td>\n",
       "      <td>0.0</td>\n",
       "      <td>2.0</td>\n",
       "      <td>0.0</td>\n",
       "      <td>0.0</td>\n",
       "      <td>3.0</td>\n",
       "      <td>5.0</td>\n",
       "    </tr>\n",
       "    <tr>\n",
       "      <th>26</th>\n",
       "      <td>UFC 2: No Way Out</td>\n",
       "      <td>Royce Gracie vs. Remco Pardoel</td>\n",
       "      <td>Remco Pardoel</td>\n",
       "      <td>Royce Gracie</td>\n",
       "      <td>Submission</td>\n",
       "      <td>0</td>\n",
       "      <td>0</td>\n",
       "      <td>1</td>\n",
       "      <td>2.0</td>\n",
       "      <td>0.0</td>\n",
       "      <td>...</td>\n",
       "      <td>0.0</td>\n",
       "      <td>0.0</td>\n",
       "      <td>1.0</td>\n",
       "      <td>1.0</td>\n",
       "      <td>2.0</td>\n",
       "      <td>3.0</td>\n",
       "      <td>0.0</td>\n",
       "      <td>0.0</td>\n",
       "      <td>0.0</td>\n",
       "      <td>2.0</td>\n",
       "    </tr>\n",
       "    <tr>\n",
       "      <th>27</th>\n",
       "      <td>UFC 2: No Way Out</td>\n",
       "      <td>Royce Gracie vs. Remco Pardoel</td>\n",
       "      <td>Royce Gracie</td>\n",
       "      <td>Remco Pardoel</td>\n",
       "      <td>Submission</td>\n",
       "      <td>1</td>\n",
       "      <td>0</td>\n",
       "      <td>1</td>\n",
       "      <td>-2.0</td>\n",
       "      <td>0.0</td>\n",
       "      <td>...</td>\n",
       "      <td>1.0</td>\n",
       "      <td>2.0</td>\n",
       "      <td>0.0</td>\n",
       "      <td>1.0</td>\n",
       "      <td>0.0</td>\n",
       "      <td>3.0</td>\n",
       "      <td>1.0</td>\n",
       "      <td>1.0</td>\n",
       "      <td>3.0</td>\n",
       "      <td>5.0</td>\n",
       "    </tr>\n",
       "    <tr>\n",
       "      <th>50</th>\n",
       "      <td>UFC 4: Revenge of the Warriors</td>\n",
       "      <td>Royce Gracie vs. Dan Severn</td>\n",
       "      <td>Dan Severn</td>\n",
       "      <td>Royce Gracie</td>\n",
       "      <td>Submission</td>\n",
       "      <td>0</td>\n",
       "      <td>0</td>\n",
       "      <td>1</td>\n",
       "      <td>1.0</td>\n",
       "      <td>0.0</td>\n",
       "      <td>...</td>\n",
       "      <td>3.0</td>\n",
       "      <td>4.0</td>\n",
       "      <td>2.0</td>\n",
       "      <td>3.0</td>\n",
       "      <td>3.0</td>\n",
       "      <td>5.0</td>\n",
       "      <td>3.0</td>\n",
       "      <td>3.0</td>\n",
       "      <td>3.0</td>\n",
       "      <td>3.0</td>\n",
       "    </tr>\n",
       "  </tbody>\n",
       "</table>\n",
       "<p>5 rows × 63 columns</p>\n",
       "</div>"
      ],
      "text/plain": [
       "                             EVENT                            BOUT  \\\n",
       "24               UFC 2: No Way Out  Royce Gracie vs. Patrick Smith   \n",
       "25               UFC 2: No Way Out  Royce Gracie vs. Patrick Smith   \n",
       "26               UFC 2: No Way Out  Royce Gracie vs. Remco Pardoel   \n",
       "27               UFC 2: No Way Out  Royce Gracie vs. Remco Pardoel   \n",
       "50  UFC 4: Revenge of the Warriors     Royce Gracie vs. Dan Severn   \n",
       "\n",
       "          FIGHTER       OPPONENT           METHOD  Win  Women_fight  ROUND  \\\n",
       "24  Patrick Smith   Royce Gracie  KO/TKO - ground    0            0      1   \n",
       "25   Royce Gracie  Patrick Smith  KO/TKO - ground    1            0      1   \n",
       "26  Remco Pardoel   Royce Gracie       Submission    0            0      1   \n",
       "27   Royce Gracie  Remco Pardoel       Submission    1            0      1   \n",
       "50     Dan Severn   Royce Gracie       Submission    0            0      1   \n",
       "\n",
       "    HEIGHT_diff  REACH_diff  ...  BODY_landed_opponent  BODY_attemps_opponent  \\\n",
       "24          1.0         0.0  ...                   0.0                    0.0   \n",
       "25         -1.0         0.0  ...                   0.0                    0.0   \n",
       "26          2.0         0.0  ...                   0.0                    0.0   \n",
       "27         -2.0         0.0  ...                   1.0                    2.0   \n",
       "50          1.0         0.0  ...                   3.0                    4.0   \n",
       "\n",
       "    LEG_landed_opponent  LEG_attemps_opponent  DISTANCE_landed_opponent  \\\n",
       "24                  3.0                   5.0                       5.0   \n",
       "25                  0.0                   1.0                       0.0   \n",
       "26                  1.0                   1.0                       2.0   \n",
       "27                  0.0                   1.0                       0.0   \n",
       "50                  2.0                   3.0                       3.0   \n",
       "\n",
       "    DISTANCE_attemps_opponent  CLINCH_landed_opponent  \\\n",
       "24                       10.0                     0.0   \n",
       "25                        2.0                     0.0   \n",
       "26                        3.0                     0.0   \n",
       "27                        3.0                     1.0   \n",
       "50                        5.0                     3.0   \n",
       "\n",
       "    CLINCH_attemps_opponent  GROUND_landed_opponent  GROUND_attemps_opponent  \n",
       "24                      0.0                     0.0                      0.0  \n",
       "25                      0.0                     3.0                      5.0  \n",
       "26                      0.0                     0.0                      2.0  \n",
       "27                      1.0                     3.0                      5.0  \n",
       "50                      3.0                     3.0                      3.0  \n",
       "\n",
       "[5 rows x 63 columns]"
      ]
     },
     "execution_count": 50,
     "metadata": {},
     "output_type": "execute_result"
    }
   ],
   "source": [
    "df.head()"
   ]
  },
  {
   "cell_type": "code",
   "execution_count": 51,
   "id": "3c83f881",
   "metadata": {},
   "outputs": [
    {
     "data": {
      "text/plain": [
       "(6817, 63)"
      ]
     },
     "execution_count": 51,
     "metadata": {},
     "output_type": "execute_result"
    }
   ],
   "source": [
    "df.shape"
   ]
  },
  {
   "cell_type": "code",
   "execution_count": 52,
   "id": "0b47cc75",
   "metadata": {
    "scrolled": true
   },
   "outputs": [
    {
     "data": {
      "text/plain": [
       "['KD_fighter',\n",
       " 'SUB.ATT_fighter',\n",
       " 'REV._fighter',\n",
       " 'CTRL_fighter',\n",
       " 'SIG.STR._landed_fighter',\n",
       " 'SIG.STR._attemps_fighter',\n",
       " 'TOTAL STR._landed_fighter',\n",
       " 'TOTAL STR._attemps_fighter',\n",
       " 'TD_landed_fighter',\n",
       " 'TD_attemps_fighter',\n",
       " 'HEAD_landed_fighter',\n",
       " 'HEAD_attemps_fighter',\n",
       " 'BODY_landed_fighter',\n",
       " 'BODY_attemps_fighter',\n",
       " 'LEG_landed_fighter',\n",
       " 'LEG_attemps_fighter',\n",
       " 'DISTANCE_landed_fighter',\n",
       " 'DISTANCE_attemps_fighter',\n",
       " 'CLINCH_landed_fighter',\n",
       " 'CLINCH_attemps_fighter',\n",
       " 'GROUND_landed_fighter',\n",
       " 'GROUND_attemps_fighter',\n",
       " 'KD_opponent',\n",
       " 'SUB.ATT_opponent',\n",
       " 'REV._opponent',\n",
       " 'CTRL_opponent',\n",
       " 'SIG.STR._landed_opponent',\n",
       " 'SIG.STR._attemps_opponent',\n",
       " 'TOTAL STR._landed_opponent',\n",
       " 'TOTAL STR._attemps_opponent',\n",
       " 'TD_landed_opponent',\n",
       " 'TD_attemps_opponent',\n",
       " 'HEAD_landed_opponent',\n",
       " 'HEAD_attemps_opponent',\n",
       " 'BODY_landed_opponent',\n",
       " 'BODY_attemps_opponent',\n",
       " 'LEG_landed_opponent',\n",
       " 'LEG_attemps_opponent',\n",
       " 'DISTANCE_landed_opponent',\n",
       " 'DISTANCE_attemps_opponent',\n",
       " 'CLINCH_landed_opponent',\n",
       " 'CLINCH_attemps_opponent',\n",
       " 'GROUND_landed_opponent',\n",
       " 'GROUND_attemps_opponent']"
      ]
     },
     "execution_count": 52,
     "metadata": {},
     "output_type": "execute_result"
    }
   ],
   "source": [
    "df.columns.tolist()[19:]"
   ]
  },
  {
   "cell_type": "code",
   "execution_count": 53,
   "id": "1bf9b2da",
   "metadata": {},
   "outputs": [],
   "source": [
    "df = df.merge(df[['EVENT', 'BOUT', 'FIGHTER']+df.columns.tolist()[15:]] ,how='left', left_on=['EVENT', 'BOUT', 'OPPONENT'], right_on=['EVENT', 'BOUT', 'FIGHTER'], suffixes=('_f1', '_f2'))"
   ]
  },
  {
   "cell_type": "code",
   "execution_count": 54,
   "id": "c8ce78f8",
   "metadata": {},
   "outputs": [
    {
     "name": "stdout",
     "output_type": "stream",
     "text": [
      "<class 'pandas.core.frame.DataFrame'>\n",
      "Int64Index: 6817 entries, 0 to 6816\n",
      "Data columns (total 112 columns):\n",
      " #    Column                          Non-Null Count  Dtype  \n",
      "---   ------                          --------------  -----  \n",
      " 0    EVENT                           6817 non-null   object \n",
      " 1    BOUT                            6817 non-null   object \n",
      " 2    FIGHTER_f1                      6817 non-null   object \n",
      " 3    OPPONENT                        6817 non-null   object \n",
      " 4    METHOD                          6817 non-null   object \n",
      " 5    Win                             6817 non-null   int64  \n",
      " 6    Women_fight                     6817 non-null   int64  \n",
      " 7    ROUND                           6817 non-null   int64  \n",
      " 8    HEIGHT_diff                     6817 non-null   float64\n",
      " 9    REACH_diff                      6817 non-null   float64\n",
      " 10   AGE_diff                        6817 non-null   float64\n",
      " 11   form_skore_fighter              6817 non-null   float64\n",
      " 12   form_skore_opponent             6817 non-null   float64\n",
      " 13   fightNo_fighter                 6817 non-null   int64  \n",
      " 14   fightNo_opponent                6817 non-null   float64\n",
      " 15   Win_tot_f1                      6817 non-null   float64\n",
      " 16   DRAW_f1                         6817 non-null   float64\n",
      " 17   No_contest_f1                   6817 non-null   float64\n",
      " 18   TotalTime_f1                    6817 non-null   float64\n",
      " 19   KD_fighter_f1                   6817 non-null   float64\n",
      " 20   SUB.ATT_fighter_f1              6817 non-null   float64\n",
      " 21   REV._fighter_f1                 6817 non-null   float64\n",
      " 22   CTRL_fighter_f1                 6817 non-null   float64\n",
      " 23   SIG.STR._landed_fighter_f1      6817 non-null   float64\n",
      " 24   SIG.STR._attemps_fighter_f1     6817 non-null   float64\n",
      " 25   TOTAL STR._landed_fighter_f1    6817 non-null   float64\n",
      " 26   TOTAL STR._attemps_fighter_f1   6817 non-null   float64\n",
      " 27   TD_landed_fighter_f1            6817 non-null   float64\n",
      " 28   TD_attemps_fighter_f1           6817 non-null   float64\n",
      " 29   HEAD_landed_fighter_f1          6817 non-null   float64\n",
      " 30   HEAD_attemps_fighter_f1         6817 non-null   float64\n",
      " 31   BODY_landed_fighter_f1          6817 non-null   float64\n",
      " 32   BODY_attemps_fighter_f1         6817 non-null   float64\n",
      " 33   LEG_landed_fighter_f1           6817 non-null   float64\n",
      " 34   LEG_attemps_fighter_f1          6817 non-null   float64\n",
      " 35   DISTANCE_landed_fighter_f1      6817 non-null   float64\n",
      " 36   DISTANCE_attemps_fighter_f1     6817 non-null   float64\n",
      " 37   CLINCH_landed_fighter_f1        6817 non-null   float64\n",
      " 38   CLINCH_attemps_fighter_f1       6817 non-null   float64\n",
      " 39   GROUND_landed_fighter_f1        6817 non-null   float64\n",
      " 40   GROUND_attemps_fighter_f1       6817 non-null   float64\n",
      " 41   KD_opponent_f1                  6817 non-null   float64\n",
      " 42   SUB.ATT_opponent_f1             6817 non-null   float64\n",
      " 43   REV._opponent_f1                6817 non-null   float64\n",
      " 44   CTRL_opponent_f1                6817 non-null   float64\n",
      " 45   SIG.STR._landed_opponent_f1     6817 non-null   float64\n",
      " 46   SIG.STR._attemps_opponent_f1    6817 non-null   float64\n",
      " 47   TOTAL STR._landed_opponent_f1   6817 non-null   float64\n",
      " 48   TOTAL STR._attemps_opponent_f1  6817 non-null   float64\n",
      " 49   TD_landed_opponent_f1           6817 non-null   float64\n",
      " 50   TD_attemps_opponent_f1          6817 non-null   float64\n",
      " 51   HEAD_landed_opponent_f1         6817 non-null   float64\n",
      " 52   HEAD_attemps_opponent_f1        6817 non-null   float64\n",
      " 53   BODY_landed_opponent_f1         6817 non-null   float64\n",
      " 54   BODY_attemps_opponent_f1        6817 non-null   float64\n",
      " 55   LEG_landed_opponent_f1          6817 non-null   float64\n",
      " 56   LEG_attemps_opponent_f1         6817 non-null   float64\n",
      " 57   DISTANCE_landed_opponent_f1     6817 non-null   float64\n",
      " 58   DISTANCE_attemps_opponent_f1    6817 non-null   float64\n",
      " 59   CLINCH_landed_opponent_f1       6817 non-null   float64\n",
      " 60   CLINCH_attemps_opponent_f1      6817 non-null   float64\n",
      " 61   GROUND_landed_opponent_f1       6817 non-null   float64\n",
      " 62   GROUND_attemps_opponent_f1      6817 non-null   float64\n",
      " 63   FIGHTER_f2                      6816 non-null   object \n",
      " 64   Win_tot_f2                      6816 non-null   float64\n",
      " 65   DRAW_f2                         6816 non-null   float64\n",
      " 66   No_contest_f2                   6816 non-null   float64\n",
      " 67   TotalTime_f2                    6816 non-null   float64\n",
      " 68   KD_fighter_f2                   6816 non-null   float64\n",
      " 69   SUB.ATT_fighter_f2              6816 non-null   float64\n",
      " 70   REV._fighter_f2                 6816 non-null   float64\n",
      " 71   CTRL_fighter_f2                 6816 non-null   float64\n",
      " 72   SIG.STR._landed_fighter_f2      6816 non-null   float64\n",
      " 73   SIG.STR._attemps_fighter_f2     6816 non-null   float64\n",
      " 74   TOTAL STR._landed_fighter_f2    6816 non-null   float64\n",
      " 75   TOTAL STR._attemps_fighter_f2   6816 non-null   float64\n",
      " 76   TD_landed_fighter_f2            6816 non-null   float64\n",
      " 77   TD_attemps_fighter_f2           6816 non-null   float64\n",
      " 78   HEAD_landed_fighter_f2          6816 non-null   float64\n",
      " 79   HEAD_attemps_fighter_f2         6816 non-null   float64\n",
      " 80   BODY_landed_fighter_f2          6816 non-null   float64\n",
      " 81   BODY_attemps_fighter_f2         6816 non-null   float64\n",
      " 82   LEG_landed_fighter_f2           6816 non-null   float64\n",
      " 83   LEG_attemps_fighter_f2          6816 non-null   float64\n",
      " 84   DISTANCE_landed_fighter_f2      6816 non-null   float64\n",
      " 85   DISTANCE_attemps_fighter_f2     6816 non-null   float64\n",
      " 86   CLINCH_landed_fighter_f2        6816 non-null   float64\n",
      " 87   CLINCH_attemps_fighter_f2       6816 non-null   float64\n",
      " 88   GROUND_landed_fighter_f2        6816 non-null   float64\n",
      " 89   GROUND_attemps_fighter_f2       6816 non-null   float64\n",
      " 90   KD_opponent_f2                  6816 non-null   float64\n",
      " 91   SUB.ATT_opponent_f2             6816 non-null   float64\n",
      " 92   REV._opponent_f2                6816 non-null   float64\n",
      " 93   CTRL_opponent_f2                6816 non-null   float64\n",
      " 94   SIG.STR._landed_opponent_f2     6816 non-null   float64\n",
      " 95   SIG.STR._attemps_opponent_f2    6816 non-null   float64\n",
      " 96   TOTAL STR._landed_opponent_f2   6816 non-null   float64\n",
      " 97   TOTAL STR._attemps_opponent_f2  6816 non-null   float64\n",
      " 98   TD_landed_opponent_f2           6816 non-null   float64\n",
      " 99   TD_attemps_opponent_f2          6816 non-null   float64\n",
      " 100  HEAD_landed_opponent_f2         6816 non-null   float64\n",
      " 101  HEAD_attemps_opponent_f2        6816 non-null   float64\n",
      " 102  BODY_landed_opponent_f2         6816 non-null   float64\n",
      " 103  BODY_attemps_opponent_f2        6816 non-null   float64\n",
      " 104  LEG_landed_opponent_f2          6816 non-null   float64\n",
      " 105  LEG_attemps_opponent_f2         6816 non-null   float64\n",
      " 106  DISTANCE_landed_opponent_f2     6816 non-null   float64\n",
      " 107  DISTANCE_attemps_opponent_f2    6816 non-null   float64\n",
      " 108  CLINCH_landed_opponent_f2       6816 non-null   float64\n",
      " 109  CLINCH_attemps_opponent_f2      6816 non-null   float64\n",
      " 110  GROUND_landed_opponent_f2       6816 non-null   float64\n",
      " 111  GROUND_attemps_opponent_f2      6816 non-null   float64\n",
      "dtypes: float64(102), int64(4), object(6)\n",
      "memory usage: 5.9+ MB\n"
     ]
    }
   ],
   "source": [
    "df.info(verbose=True, show_counts=True)"
   ]
  },
  {
   "cell_type": "code",
   "execution_count": 55,
   "id": "e911a19b",
   "metadata": {},
   "outputs": [],
   "source": [
    "df = df.drop('FIGHTER_f2',axis=1)"
   ]
  },
  {
   "cell_type": "code",
   "execution_count": 56,
   "id": "1458353b",
   "metadata": {},
   "outputs": [
    {
     "data": {
      "text/plain": [
       "['LEG', 'attemps', 'fighter', 'f1']"
      ]
     },
     "execution_count": 56,
     "metadata": {},
     "output_type": "execute_result"
    }
   ],
   "source": [
    "'LEG_attemps_fighter_f1'.split('_')"
   ]
  },
  {
   "cell_type": "code",
   "execution_count": 57,
   "id": "6ec0d15a",
   "metadata": {},
   "outputs": [],
   "source": [
    "sloupce1 = df.columns.tolist()[19:]\n",
    "vynechat = ['Win_tot_f2', 'DRAW_f2','No_contest_f2']\n",
    "sloupce = [x for x in sloupce1 if x not in vynechat]\n",
    "for sloupec in sloupce:    \n",
    "    splited = sloupec.split('_')\n",
    "    if 'CTRL' in splited:\n",
    "        df.loc[:,splited[0]+'_pct_'+splited[1]+splited[2]] = df[sloupec]/df['TotalTime'+'_'+splited[2]]\n",
    "    if 'attemps' in splited:\n",
    "        df.loc[:,splited[0]+'_acc_'+ splited[2] + splited[3]] = df[sloupec.replace('attemps', 'landed')]/df[sloupec]\n",
    "        df.loc[:,splited[0]+'_perRound_'+ splited[2] + splited[3]] = (df[sloupec.replace('attemps', 'landed')]/df['TotalTime'+'_'+splited[3]])*300\n",
    "        \n",
    "    "
   ]
  },
  {
   "cell_type": "code",
   "execution_count": 58,
   "id": "2417f114",
   "metadata": {},
   "outputs": [
    {
     "data": {
      "text/html": [
       "<div>\n",
       "<style scoped>\n",
       "    .dataframe tbody tr th:only-of-type {\n",
       "        vertical-align: middle;\n",
       "    }\n",
       "\n",
       "    .dataframe tbody tr th {\n",
       "        vertical-align: top;\n",
       "    }\n",
       "\n",
       "    .dataframe thead th {\n",
       "        text-align: right;\n",
       "    }\n",
       "</style>\n",
       "<table border=\"1\" class=\"dataframe\">\n",
       "  <thead>\n",
       "    <tr style=\"text-align: right;\">\n",
       "      <th></th>\n",
       "      <th>EVENT</th>\n",
       "      <th>BOUT</th>\n",
       "      <th>FIGHTER_f1</th>\n",
       "      <th>OPPONENT</th>\n",
       "      <th>METHOD</th>\n",
       "    </tr>\n",
       "  </thead>\n",
       "  <tbody>\n",
       "    <tr>\n",
       "      <th>0</th>\n",
       "      <td>UFC 2: No Way Out</td>\n",
       "      <td>Royce Gracie vs. Patrick Smith</td>\n",
       "      <td>Patrick Smith</td>\n",
       "      <td>Royce Gracie</td>\n",
       "      <td>KO/TKO - ground</td>\n",
       "    </tr>\n",
       "    <tr>\n",
       "      <th>1</th>\n",
       "      <td>UFC 2: No Way Out</td>\n",
       "      <td>Royce Gracie vs. Patrick Smith</td>\n",
       "      <td>Royce Gracie</td>\n",
       "      <td>Patrick Smith</td>\n",
       "      <td>KO/TKO - ground</td>\n",
       "    </tr>\n",
       "    <tr>\n",
       "      <th>2</th>\n",
       "      <td>UFC 2: No Way Out</td>\n",
       "      <td>Royce Gracie vs. Remco Pardoel</td>\n",
       "      <td>Remco Pardoel</td>\n",
       "      <td>Royce Gracie</td>\n",
       "      <td>Submission</td>\n",
       "    </tr>\n",
       "    <tr>\n",
       "      <th>3</th>\n",
       "      <td>UFC 2: No Way Out</td>\n",
       "      <td>Royce Gracie vs. Remco Pardoel</td>\n",
       "      <td>Royce Gracie</td>\n",
       "      <td>Remco Pardoel</td>\n",
       "      <td>Submission</td>\n",
       "    </tr>\n",
       "    <tr>\n",
       "      <th>4</th>\n",
       "      <td>UFC 4: Revenge of the Warriors</td>\n",
       "      <td>Royce Gracie vs. Dan Severn</td>\n",
       "      <td>Dan Severn</td>\n",
       "      <td>Royce Gracie</td>\n",
       "      <td>Submission</td>\n",
       "    </tr>\n",
       "    <tr>\n",
       "      <th>...</th>\n",
       "      <td>...</td>\n",
       "      <td>...</td>\n",
       "      <td>...</td>\n",
       "      <td>...</td>\n",
       "      <td>...</td>\n",
       "    </tr>\n",
       "    <tr>\n",
       "      <th>6812</th>\n",
       "      <td>UFC Fight Night: Cannonier vs. Strickland</td>\n",
       "      <td>Jared Cannonier vs. Sean Strickland</td>\n",
       "      <td>Sean Strickland</td>\n",
       "      <td>Jared Cannonier</td>\n",
       "      <td>Decision</td>\n",
       "    </tr>\n",
       "    <tr>\n",
       "      <th>6813</th>\n",
       "      <td>UFC Fight Night: Cannonier vs. Strickland</td>\n",
       "      <td>Said Nurmagomedov vs. Saidyokub Kakhramonov</td>\n",
       "      <td>Said Nurmagomedov</td>\n",
       "      <td>Saidyokub Kakhramonov</td>\n",
       "      <td>Submission</td>\n",
       "    </tr>\n",
       "    <tr>\n",
       "      <th>6814</th>\n",
       "      <td>UFC Fight Night: Cannonier vs. Strickland</td>\n",
       "      <td>Said Nurmagomedov vs. Saidyokub Kakhramonov</td>\n",
       "      <td>Saidyokub Kakhramonov</td>\n",
       "      <td>Said Nurmagomedov</td>\n",
       "      <td>Submission</td>\n",
       "    </tr>\n",
       "    <tr>\n",
       "      <th>6815</th>\n",
       "      <td>UFC Fight Night: Cannonier vs. Strickland</td>\n",
       "      <td>Sergey Morozov vs. Journey Newson</td>\n",
       "      <td>Journey Newson</td>\n",
       "      <td>Sergey Morozov</td>\n",
       "      <td>Decision</td>\n",
       "    </tr>\n",
       "    <tr>\n",
       "      <th>6816</th>\n",
       "      <td>UFC Fight Night: Cannonier vs. Strickland</td>\n",
       "      <td>Sergey Morozov vs. Journey Newson</td>\n",
       "      <td>Sergey Morozov</td>\n",
       "      <td>Journey Newson</td>\n",
       "      <td>Decision</td>\n",
       "    </tr>\n",
       "  </tbody>\n",
       "</table>\n",
       "<p>6817 rows × 5 columns</p>\n",
       "</div>"
      ],
      "text/plain": [
       "                                          EVENT  \\\n",
       "0                             UFC 2: No Way Out   \n",
       "1                             UFC 2: No Way Out   \n",
       "2                             UFC 2: No Way Out   \n",
       "3                             UFC 2: No Way Out   \n",
       "4                UFC 4: Revenge of the Warriors   \n",
       "...                                         ...   \n",
       "6812  UFC Fight Night: Cannonier vs. Strickland   \n",
       "6813  UFC Fight Night: Cannonier vs. Strickland   \n",
       "6814  UFC Fight Night: Cannonier vs. Strickland   \n",
       "6815  UFC Fight Night: Cannonier vs. Strickland   \n",
       "6816  UFC Fight Night: Cannonier vs. Strickland   \n",
       "\n",
       "                                             BOUT             FIGHTER_f1  \\\n",
       "0                  Royce Gracie vs. Patrick Smith          Patrick Smith   \n",
       "1                  Royce Gracie vs. Patrick Smith           Royce Gracie   \n",
       "2                  Royce Gracie vs. Remco Pardoel          Remco Pardoel   \n",
       "3                  Royce Gracie vs. Remco Pardoel           Royce Gracie   \n",
       "4                     Royce Gracie vs. Dan Severn             Dan Severn   \n",
       "...                                           ...                    ...   \n",
       "6812          Jared Cannonier vs. Sean Strickland        Sean Strickland   \n",
       "6813  Said Nurmagomedov vs. Saidyokub Kakhramonov      Said Nurmagomedov   \n",
       "6814  Said Nurmagomedov vs. Saidyokub Kakhramonov  Saidyokub Kakhramonov   \n",
       "6815            Sergey Morozov vs. Journey Newson         Journey Newson   \n",
       "6816            Sergey Morozov vs. Journey Newson         Sergey Morozov   \n",
       "\n",
       "                   OPPONENT           METHOD  \n",
       "0              Royce Gracie  KO/TKO - ground  \n",
       "1             Patrick Smith  KO/TKO - ground  \n",
       "2              Royce Gracie       Submission  \n",
       "3             Remco Pardoel       Submission  \n",
       "4              Royce Gracie       Submission  \n",
       "...                     ...              ...  \n",
       "6812        Jared Cannonier         Decision  \n",
       "6813  Saidyokub Kakhramonov       Submission  \n",
       "6814      Said Nurmagomedov       Submission  \n",
       "6815         Sergey Morozov         Decision  \n",
       "6816         Journey Newson         Decision  \n",
       "\n",
       "[6817 rows x 5 columns]"
      ]
     },
     "execution_count": 58,
     "metadata": {},
     "output_type": "execute_result"
    }
   ],
   "source": [
    "df.iloc[:,:5]"
   ]
  },
  {
   "cell_type": "code",
   "execution_count": 59,
   "id": "4e6956bf",
   "metadata": {},
   "outputs": [],
   "source": [
    "df = df.drop(sloupce, axis=1)"
   ]
  },
  {
   "cell_type": "code",
   "execution_count": 60,
   "id": "eefa5d15",
   "metadata": {},
   "outputs": [],
   "source": [
    "df_model = df.drop(['EVENT','BOUT','FIGHTER_f1','OPPONENT','METHOD','Women_fight','ROUND','TotalTime_f1'],axis=1)"
   ]
  },
  {
   "cell_type": "code",
   "execution_count": 61,
   "id": "9b03af1f",
   "metadata": {},
   "outputs": [
    {
     "name": "stdout",
     "output_type": "stream",
     "text": [
      "<class 'pandas.core.frame.DataFrame'>\n",
      "Int64Index: 6817 entries, 0 to 6816\n",
      "Data columns (total 90 columns):\n",
      " #   Column                          Non-Null Count  Dtype  \n",
      "---  ------                          --------------  -----  \n",
      " 0   Win                             6817 non-null   int64  \n",
      " 1   HEIGHT_diff                     6817 non-null   float64\n",
      " 2   REACH_diff                      6817 non-null   float64\n",
      " 3   AGE_diff                        6817 non-null   float64\n",
      " 4   form_skore_fighter              6817 non-null   float64\n",
      " 5   form_skore_opponent             6817 non-null   float64\n",
      " 6   fightNo_fighter                 6817 non-null   int64  \n",
      " 7   fightNo_opponent                6817 non-null   float64\n",
      " 8   Win_tot_f1                      6817 non-null   float64\n",
      " 9   DRAW_f1                         6817 non-null   float64\n",
      " 10  No_contest_f1                   6817 non-null   float64\n",
      " 11  Win_tot_f2                      6817 non-null   float64\n",
      " 12  DRAW_f2                         6817 non-null   float64\n",
      " 13  No_contest_f2                   6817 non-null   float64\n",
      " 14  CTRL_pct_fighterf1              6817 non-null   float64\n",
      " 15  SIG.STR._acc_fighterf1          6817 non-null   float64\n",
      " 16  SIG.STR._perRound_fighterf1     6817 non-null   float64\n",
      " 17  TOTAL STR._acc_fighterf1        6817 non-null   float64\n",
      " 18  TOTAL STR._perRound_fighterf1   6817 non-null   float64\n",
      " 19  TD_acc_fighterf1                6817 non-null   float64\n",
      " 20  TD_perRound_fighterf1           6817 non-null   float64\n",
      " 21  HEAD_acc_fighterf1              6817 non-null   float64\n",
      " 22  HEAD_perRound_fighterf1         6817 non-null   float64\n",
      " 23  BODY_acc_fighterf1              6817 non-null   float64\n",
      " 24  BODY_perRound_fighterf1         6817 non-null   float64\n",
      " 25  LEG_acc_fighterf1               6817 non-null   float64\n",
      " 26  LEG_perRound_fighterf1          6817 non-null   float64\n",
      " 27  DISTANCE_acc_fighterf1          6817 non-null   float64\n",
      " 28  DISTANCE_perRound_fighterf1     6817 non-null   float64\n",
      " 29  CLINCH_acc_fighterf1            6817 non-null   float64\n",
      " 30  CLINCH_perRound_fighterf1       6817 non-null   float64\n",
      " 31  GROUND_acc_fighterf1            6817 non-null   float64\n",
      " 32  GROUND_perRound_fighterf1       6817 non-null   float64\n",
      " 33  CTRL_pct_opponentf1             6817 non-null   float64\n",
      " 34  SIG.STR._acc_opponentf1         6817 non-null   float64\n",
      " 35  SIG.STR._perRound_opponentf1    6817 non-null   float64\n",
      " 36  TOTAL STR._acc_opponentf1       6817 non-null   float64\n",
      " 37  TOTAL STR._perRound_opponentf1  6817 non-null   float64\n",
      " 38  TD_acc_opponentf1               6817 non-null   float64\n",
      " 39  TD_perRound_opponentf1          6817 non-null   float64\n",
      " 40  HEAD_acc_opponentf1             6817 non-null   float64\n",
      " 41  HEAD_perRound_opponentf1        6817 non-null   float64\n",
      " 42  BODY_acc_opponentf1             6817 non-null   float64\n",
      " 43  BODY_perRound_opponentf1        6817 non-null   float64\n",
      " 44  LEG_acc_opponentf1              6817 non-null   float64\n",
      " 45  LEG_perRound_opponentf1         6817 non-null   float64\n",
      " 46  DISTANCE_acc_opponentf1         6817 non-null   float64\n",
      " 47  DISTANCE_perRound_opponentf1    6817 non-null   float64\n",
      " 48  CLINCH_acc_opponentf1           6817 non-null   float64\n",
      " 49  CLINCH_perRound_opponentf1      6817 non-null   float64\n",
      " 50  GROUND_acc_opponentf1           6817 non-null   float64\n",
      " 51  GROUND_perRound_opponentf1      6817 non-null   float64\n",
      " 52  CTRL_pct_fighterf2              6817 non-null   float64\n",
      " 53  SIG.STR._acc_fighterf2          6817 non-null   float64\n",
      " 54  SIG.STR._perRound_fighterf2     6817 non-null   float64\n",
      " 55  TOTAL STR._acc_fighterf2        6817 non-null   float64\n",
      " 56  TOTAL STR._perRound_fighterf2   6817 non-null   float64\n",
      " 57  TD_acc_fighterf2                6817 non-null   float64\n",
      " 58  TD_perRound_fighterf2           6817 non-null   float64\n",
      " 59  HEAD_acc_fighterf2              6817 non-null   float64\n",
      " 60  HEAD_perRound_fighterf2         6817 non-null   float64\n",
      " 61  BODY_acc_fighterf2              6817 non-null   float64\n",
      " 62  BODY_perRound_fighterf2         6817 non-null   float64\n",
      " 63  LEG_acc_fighterf2               6817 non-null   float64\n",
      " 64  LEG_perRound_fighterf2          6817 non-null   float64\n",
      " 65  DISTANCE_acc_fighterf2          6817 non-null   float64\n",
      " 66  DISTANCE_perRound_fighterf2     6817 non-null   float64\n",
      " 67  CLINCH_acc_fighterf2            6817 non-null   float64\n",
      " 68  CLINCH_perRound_fighterf2       6817 non-null   float64\n",
      " 69  GROUND_acc_fighterf2            6817 non-null   float64\n",
      " 70  GROUND_perRound_fighterf2       6817 non-null   float64\n",
      " 71  CTRL_pct_opponentf2             6817 non-null   float64\n",
      " 72  SIG.STR._acc_opponentf2         6817 non-null   float64\n",
      " 73  SIG.STR._perRound_opponentf2    6817 non-null   float64\n",
      " 74  TOTAL STR._acc_opponentf2       6817 non-null   float64\n",
      " 75  TOTAL STR._perRound_opponentf2  6817 non-null   float64\n",
      " 76  TD_acc_opponentf2               6817 non-null   float64\n",
      " 77  TD_perRound_opponentf2          6817 non-null   float64\n",
      " 78  HEAD_acc_opponentf2             6817 non-null   float64\n",
      " 79  HEAD_perRound_opponentf2        6817 non-null   float64\n",
      " 80  BODY_acc_opponentf2             6817 non-null   float64\n",
      " 81  BODY_perRound_opponentf2        6817 non-null   float64\n",
      " 82  LEG_acc_opponentf2              6817 non-null   float64\n",
      " 83  LEG_perRound_opponentf2         6817 non-null   float64\n",
      " 84  DISTANCE_acc_opponentf2         6817 non-null   float64\n",
      " 85  DISTANCE_perRound_opponentf2    6817 non-null   float64\n",
      " 86  CLINCH_acc_opponentf2           6817 non-null   float64\n",
      " 87  CLINCH_perRound_opponentf2      6817 non-null   float64\n",
      " 88  GROUND_acc_opponentf2           6817 non-null   float64\n",
      " 89  GROUND_perRound_opponentf2      6817 non-null   float64\n",
      "dtypes: float64(88), int64(2)\n",
      "memory usage: 4.7 MB\n"
     ]
    }
   ],
   "source": [
    "df_model = df_model.fillna(0)\n",
    "df_model.info()"
   ]
  },
  {
   "cell_type": "code",
   "execution_count": 62,
   "id": "8ddca72b",
   "metadata": {},
   "outputs": [
    {
     "name": "stdout",
     "output_type": "stream",
     "text": [
      "0.5941348973607038 0.5941348973607038\n"
     ]
    }
   ],
   "source": [
    "X=df_model.loc[:, ~df_model.columns.isin(['Win'])]\n",
    "y=df_model['Win']\n",
    "scaler = StandardScaler()\n",
    "X_scaled = scaler.fit_transform(X)\n",
    "X_train, X_test, y_train, y_test = train_test_split(X_scaled, y, random_state = 0)\n",
    "from sklearn.linear_model import LogisticRegression\n",
    "logreg=LogisticRegression(max_iter=50000)\n",
    "logreg.fit(X_train,y_train)\n",
    "predictions = logreg.predict(X_test)\n",
    "acc = accuracy_score(y_test, predictions) \n",
    "f1 = f1_score(y_test, predictions,average='micro')\n",
    "print(f1, acc)"
   ]
  },
  {
   "cell_type": "code",
   "execution_count": 63,
   "id": "f6fc0f16",
   "metadata": {},
   "outputs": [
    {
     "name": "stdout",
     "output_type": "stream",
     "text": [
      "(6617, 200, 89)\n",
      "Epoch 1/100\n",
      "207/207 [==============================] - 22s 98ms/step - loss: 0.7008 - accuracy: 0.5039 - val_loss: 0.6925 - val_accuracy: 0.5053\n",
      "Epoch 2/100\n",
      "207/207 [==============================] - 20s 97ms/step - loss: 0.6930 - accuracy: 0.5200 - val_loss: 0.6913 - val_accuracy: 0.5295\n",
      "Epoch 3/100\n",
      "207/207 [==============================] - 20s 94ms/step - loss: 0.6920 - accuracy: 0.5185 - val_loss: 0.6905 - val_accuracy: 0.5393\n",
      "Epoch 4/100\n",
      "207/207 [==============================] - 20s 97ms/step - loss: 0.6915 - accuracy: 0.5226 - val_loss: 0.6898 - val_accuracy: 0.5529\n",
      "Epoch 5/100\n",
      "207/207 [==============================] - 21s 103ms/step - loss: 0.6885 - accuracy: 0.5324 - val_loss: 0.6915 - val_accuracy: 0.5151\n",
      "Epoch 6/100\n",
      "207/207 [==============================] - 20s 96ms/step - loss: 0.6895 - accuracy: 0.5395 - val_loss: 0.6887 - val_accuracy: 0.5536\n",
      "Epoch 7/100\n",
      "207/207 [==============================] - 19s 90ms/step - loss: 0.6871 - accuracy: 0.5418 - val_loss: 0.6874 - val_accuracy: 0.5566\n",
      "Epoch 8/100\n",
      "207/207 [==============================] - 19s 91ms/step - loss: 0.6872 - accuracy: 0.5406 - val_loss: 0.6886 - val_accuracy: 0.5378\n",
      "Epoch 9/100\n",
      "207/207 [==============================] - 19s 93ms/step - loss: 0.6851 - accuracy: 0.5481 - val_loss: 0.6870 - val_accuracy: 0.5544\n",
      "Epoch 10/100\n",
      "207/207 [==============================] - 19s 93ms/step - loss: 0.6849 - accuracy: 0.5610 - val_loss: 0.6866 - val_accuracy: 0.5566\n",
      "Epoch 11/100\n",
      "207/207 [==============================] - 21s 99ms/step - loss: 0.6852 - accuracy: 0.5472 - val_loss: 0.6859 - val_accuracy: 0.5597\n",
      "Epoch 12/100\n",
      "207/207 [==============================] - 20s 95ms/step - loss: 0.6828 - accuracy: 0.5575 - val_loss: 0.6850 - val_accuracy: 0.5604\n",
      "Epoch 13/100\n",
      "207/207 [==============================] - 21s 103ms/step - loss: 0.6810 - accuracy: 0.5645 - val_loss: 0.6840 - val_accuracy: 0.5680\n",
      "Epoch 14/100\n",
      "207/207 [==============================] - 19s 92ms/step - loss: 0.6813 - accuracy: 0.5667 - val_loss: 0.6862 - val_accuracy: 0.5521\n",
      "Epoch 15/100\n",
      "207/207 [==============================] - 19s 94ms/step - loss: 0.6804 - accuracy: 0.5655 - val_loss: 0.6867 - val_accuracy: 0.5385\n",
      "Epoch 16/100\n",
      "207/207 [==============================] - 20s 98ms/step - loss: 0.6793 - accuracy: 0.5649 - val_loss: 0.6842 - val_accuracy: 0.5491\n",
      "Epoch 17/100\n",
      "207/207 [==============================] - 20s 97ms/step - loss: 0.6794 - accuracy: 0.5631 - val_loss: 0.6843 - val_accuracy: 0.5514\n",
      "Epoch 18/100\n",
      "207/207 [==============================] - 22s 109ms/step - loss: 0.6768 - accuracy: 0.5723 - val_loss: 0.6794 - val_accuracy: 0.5861\n",
      "Epoch 19/100\n",
      "207/207 [==============================] - 21s 100ms/step - loss: 0.6769 - accuracy: 0.5755 - val_loss: 0.6851 - val_accuracy: 0.5393\n",
      "Epoch 20/100\n",
      "207/207 [==============================] - 21s 102ms/step - loss: 0.6759 - accuracy: 0.5841 - val_loss: 0.6780 - val_accuracy: 0.5921\n",
      "Epoch 21/100\n",
      "207/207 [==============================] - 19s 91ms/step - loss: 0.6763 - accuracy: 0.5714 - val_loss: 0.6777 - val_accuracy: 0.5748\n",
      "Epoch 22/100\n",
      "207/207 [==============================] - 20s 97ms/step - loss: 0.6745 - accuracy: 0.5767 - val_loss: 0.6758 - val_accuracy: 0.5876\n",
      "Epoch 23/100\n",
      "207/207 [==============================] - 23s 113ms/step - loss: 0.6738 - accuracy: 0.5770 - val_loss: 0.6733 - val_accuracy: 0.5959\n",
      "Epoch 24/100\n",
      "207/207 [==============================] - 21s 103ms/step - loss: 0.6724 - accuracy: 0.5821 - val_loss: 0.6746 - val_accuracy: 0.5906\n",
      "Epoch 25/100\n",
      "207/207 [==============================] - 20s 99ms/step - loss: 0.6703 - accuracy: 0.5865 - val_loss: 0.6780 - val_accuracy: 0.5604\n",
      "Epoch 26/100\n",
      "207/207 [==============================] - 20s 97ms/step - loss: 0.6696 - accuracy: 0.5920 - val_loss: 0.6713 - val_accuracy: 0.5884\n",
      "Epoch 27/100\n",
      "207/207 [==============================] - 24s 116ms/step - loss: 0.6663 - accuracy: 0.5880 - val_loss: 0.6635 - val_accuracy: 0.5899\n",
      "Epoch 28/100\n",
      "207/207 [==============================] - 19s 93ms/step - loss: 0.6612 - accuracy: 0.6015 - val_loss: 0.6642 - val_accuracy: 0.5891\n",
      "Epoch 29/100\n",
      "207/207 [==============================] - 21s 99ms/step - loss: 0.6573 - accuracy: 0.6072 - val_loss: 0.6538 - val_accuracy: 0.6027\n",
      "Epoch 30/100\n",
      "207/207 [==============================] - 20s 97ms/step - loss: 0.6517 - accuracy: 0.6107 - val_loss: 0.6391 - val_accuracy: 0.6292\n",
      "Epoch 31/100\n",
      "207/207 [==============================] - 20s 96ms/step - loss: 0.6419 - accuracy: 0.6272 - val_loss: 0.6284 - val_accuracy: 0.6269\n",
      "Epoch 32/100\n",
      "207/207 [==============================] - 19s 93ms/step - loss: 0.6314 - accuracy: 0.6381 - val_loss: 0.6098 - val_accuracy: 0.6707\n",
      "Epoch 33/100\n",
      "207/207 [==============================] - 19s 90ms/step - loss: 0.6218 - accuracy: 0.6517 - val_loss: 0.6270 - val_accuracy: 0.6450\n",
      "Epoch 34/100\n",
      "207/207 [==============================] - 19s 91ms/step - loss: 0.6158 - accuracy: 0.6536 - val_loss: 0.5844 - val_accuracy: 0.7002\n",
      "Epoch 35/100\n",
      "207/207 [==============================] - 19s 91ms/step - loss: 0.5980 - accuracy: 0.6804 - val_loss: 0.5745 - val_accuracy: 0.6820\n",
      "Epoch 36/100\n",
      "207/207 [==============================] - 19s 91ms/step - loss: 0.5840 - accuracy: 0.6919 - val_loss: 0.5587 - val_accuracy: 0.7168\n",
      "Epoch 37/100\n",
      "207/207 [==============================] - 19s 92ms/step - loss: 0.5702 - accuracy: 0.7026 - val_loss: 0.5455 - val_accuracy: 0.7304\n",
      "Epoch 38/100\n",
      "207/207 [==============================] - 20s 96ms/step - loss: 0.5599 - accuracy: 0.7064 - val_loss: 0.5133 - val_accuracy: 0.7553\n",
      "Epoch 39/100\n",
      "207/207 [==============================] - 20s 97ms/step - loss: 0.5421 - accuracy: 0.7260 - val_loss: 0.5177 - val_accuracy: 0.7462\n",
      "Epoch 40/100\n",
      "207/207 [==============================] - 20s 97ms/step - loss: 0.5226 - accuracy: 0.7376 - val_loss: 0.4872 - val_accuracy: 0.7757\n",
      "Epoch 41/100\n",
      "207/207 [==============================] - 21s 102ms/step - loss: 0.5129 - accuracy: 0.7485 - val_loss: 0.4700 - val_accuracy: 0.7704\n",
      "Epoch 42/100\n",
      "207/207 [==============================] - 21s 102ms/step - loss: 0.5008 - accuracy: 0.7511 - val_loss: 0.4841 - val_accuracy: 0.7711\n",
      "Epoch 43/100\n",
      "207/207 [==============================] - 19s 91ms/step - loss: 0.4905 - accuracy: 0.7599 - val_loss: 0.4414 - val_accuracy: 0.7976\n",
      "Epoch 44/100\n",
      "207/207 [==============================] - 19s 90ms/step - loss: 0.4661 - accuracy: 0.7757 - val_loss: 0.4266 - val_accuracy: 0.8074\n",
      "Epoch 45/100\n",
      "207/207 [==============================] - 19s 90ms/step - loss: 0.4541 - accuracy: 0.7877 - val_loss: 0.3923 - val_accuracy: 0.8255\n",
      "Epoch 46/100\n",
      "207/207 [==============================] - 19s 91ms/step - loss: 0.4382 - accuracy: 0.7966 - val_loss: 0.3894 - val_accuracy: 0.8399\n",
      "Epoch 47/100\n",
      "207/207 [==============================] - 20s 96ms/step - loss: 0.4260 - accuracy: 0.8031 - val_loss: 0.3820 - val_accuracy: 0.8369\n",
      "Epoch 48/100\n",
      "207/207 [==============================] - 21s 100ms/step - loss: 0.4005 - accuracy: 0.8150 - val_loss: 0.3793 - val_accuracy: 0.8361\n",
      "Epoch 49/100\n",
      "207/207 [==============================] - 20s 96ms/step - loss: 0.3851 - accuracy: 0.8304 - val_loss: 0.3408 - val_accuracy: 0.8550\n",
      "Epoch 50/100\n",
      "207/207 [==============================] - 21s 102ms/step - loss: 0.3700 - accuracy: 0.8378 - val_loss: 0.3208 - val_accuracy: 0.8746\n",
      "Epoch 51/100\n",
      "207/207 [==============================] - 21s 103ms/step - loss: 0.3534 - accuracy: 0.8466 - val_loss: 0.3175 - val_accuracy: 0.8724\n",
      "Epoch 52/100\n",
      "207/207 [==============================] - 20s 98ms/step - loss: 0.3382 - accuracy: 0.8567 - val_loss: 0.2855 - val_accuracy: 0.8897\n",
      "Epoch 53/100\n",
      "207/207 [==============================] - 19s 94ms/step - loss: 0.3215 - accuracy: 0.8596 - val_loss: 0.2783 - val_accuracy: 0.8912\n",
      "Epoch 54/100\n",
      "207/207 [==============================] - 19s 93ms/step - loss: 0.2966 - accuracy: 0.8718 - val_loss: 0.2344 - val_accuracy: 0.9199\n",
      "Epoch 55/100\n",
      "207/207 [==============================] - 19s 94ms/step - loss: 0.2816 - accuracy: 0.8820 - val_loss: 0.2659 - val_accuracy: 0.8935\n",
      "Epoch 56/100\n",
      "207/207 [==============================] - 21s 101ms/step - loss: 0.2808 - accuracy: 0.8836 - val_loss: 0.2385 - val_accuracy: 0.9071\n"
     ]
    },
    {
     "name": "stdout",
     "output_type": "stream",
     "text": [
      "Epoch 57/100\n",
      "207/207 [==============================] - 21s 101ms/step - loss: 0.2593 - accuracy: 0.8939 - val_loss: 0.2156 - val_accuracy: 0.9252\n",
      "Epoch 58/100\n",
      "207/207 [==============================] - 21s 104ms/step - loss: 0.2400 - accuracy: 0.9010 - val_loss: 0.1813 - val_accuracy: 0.9313\n",
      "Epoch 59/100\n",
      "207/207 [==============================] - 20s 98ms/step - loss: 0.2321 - accuracy: 0.9055 - val_loss: 0.1697 - val_accuracy: 0.9388\n",
      "Epoch 60/100\n",
      "207/207 [==============================] - 21s 101ms/step - loss: 0.2094 - accuracy: 0.9154 - val_loss: 0.1452 - val_accuracy: 0.9494\n",
      "Epoch 61/100\n",
      "207/207 [==============================] - 22s 104ms/step - loss: 0.1950 - accuracy: 0.9222 - val_loss: 0.1641 - val_accuracy: 0.9426\n",
      "Epoch 62/100\n",
      "207/207 [==============================] - 21s 100ms/step - loss: 0.1865 - accuracy: 0.9266 - val_loss: 0.1507 - val_accuracy: 0.9418\n",
      "Epoch 63/100\n",
      "207/207 [==============================] - 20s 97ms/step - loss: 0.1743 - accuracy: 0.9296 - val_loss: 0.1270 - val_accuracy: 0.9517\n",
      "Epoch 64/100\n",
      "207/207 [==============================] - 22s 105ms/step - loss: 0.1575 - accuracy: 0.9424 - val_loss: 0.1456 - val_accuracy: 0.9449\n",
      "Epoch 65/100\n",
      "207/207 [==============================] - 20s 99ms/step - loss: 0.1494 - accuracy: 0.9438 - val_loss: 0.1037 - val_accuracy: 0.9630\n",
      "Epoch 66/100\n",
      "207/207 [==============================] - 20s 97ms/step - loss: 0.1373 - accuracy: 0.9459 - val_loss: 0.0956 - val_accuracy: 0.9683\n",
      "Epoch 67/100\n",
      "207/207 [==============================] - 21s 99ms/step - loss: 0.1246 - accuracy: 0.9538 - val_loss: 0.0705 - val_accuracy: 0.9796\n",
      "Epoch 68/100\n",
      "207/207 [==============================] - 21s 102ms/step - loss: 0.1311 - accuracy: 0.9519 - val_loss: 0.0663 - val_accuracy: 0.9796\n",
      "Epoch 69/100\n",
      "207/207 [==============================] - 20s 99ms/step - loss: 0.1141 - accuracy: 0.9574 - val_loss: 0.0723 - val_accuracy: 0.9773\n",
      "Epoch 70/100\n",
      "207/207 [==============================] - 20s 96ms/step - loss: 0.1076 - accuracy: 0.9603 - val_loss: 0.0674 - val_accuracy: 0.9789\n",
      "Epoch 71/100\n",
      "207/207 [==============================] - 20s 97ms/step - loss: 0.1057 - accuracy: 0.9587 - val_loss: 0.0798 - val_accuracy: 0.9713\n",
      "Epoch 72/100\n",
      "207/207 [==============================] - 21s 100ms/step - loss: 0.0937 - accuracy: 0.9680 - val_loss: 0.0767 - val_accuracy: 0.9743\n",
      "Epoch 73/100\n",
      "207/207 [==============================] - 19s 90ms/step - loss: 0.1046 - accuracy: 0.9622 - val_loss: 0.0882 - val_accuracy: 0.9653\n",
      "Epoch 74/100\n",
      "207/207 [==============================] - 19s 92ms/step - loss: 0.0984 - accuracy: 0.9645 - val_loss: 0.0630 - val_accuracy: 0.9796\n",
      "Epoch 75/100\n",
      "207/207 [==============================] - 19s 94ms/step - loss: 0.0779 - accuracy: 0.9725 - val_loss: 0.0281 - val_accuracy: 0.9940\n",
      "Epoch 76/100\n",
      "207/207 [==============================] - 20s 95ms/step - loss: 0.0932 - accuracy: 0.9668 - val_loss: 0.0565 - val_accuracy: 0.9804\n",
      "Epoch 77/100\n",
      "207/207 [==============================] - 19s 94ms/step - loss: 0.0654 - accuracy: 0.9764 - val_loss: 0.0387 - val_accuracy: 0.9894\n",
      "Epoch 78/100\n",
      "207/207 [==============================] - 21s 101ms/step - loss: 0.0646 - accuracy: 0.9796 - val_loss: 0.0333 - val_accuracy: 0.9932\n",
      "Epoch 79/100\n",
      "207/207 [==============================] - 24s 116ms/step - loss: 0.0805 - accuracy: 0.9699 - val_loss: 0.0317 - val_accuracy: 0.9909\n",
      "Epoch 80/100\n",
      "207/207 [==============================] - 20s 98ms/step - loss: 0.0561 - accuracy: 0.9808 - val_loss: 0.0298 - val_accuracy: 0.9924\n",
      "Epoch 81/100\n",
      "207/207 [==============================] - 20s 99ms/step - loss: 0.0752 - accuracy: 0.9733 - val_loss: 0.0484 - val_accuracy: 0.9834\n",
      "Epoch 82/100\n",
      "207/207 [==============================] - 21s 102ms/step - loss: 0.0724 - accuracy: 0.9757 - val_loss: 0.0338 - val_accuracy: 0.9902\n",
      "Epoch 83/100\n",
      "207/207 [==============================] - 20s 97ms/step - loss: 0.0720 - accuracy: 0.9733 - val_loss: 0.0453 - val_accuracy: 0.9841\n",
      "Epoch 84/100\n",
      "207/207 [==============================] - 19s 94ms/step - loss: 0.0499 - accuracy: 0.9852 - val_loss: 0.0209 - val_accuracy: 0.9970\n",
      "Epoch 85/100\n",
      "207/207 [==============================] - 19s 94ms/step - loss: 0.0550 - accuracy: 0.9802 - val_loss: 0.0365 - val_accuracy: 0.9864\n",
      "Epoch 86/100\n",
      "207/207 [==============================] - 20s 94ms/step - loss: 0.0577 - accuracy: 0.9828 - val_loss: 0.0636 - val_accuracy: 0.9819\n",
      "Epoch 87/100\n",
      "207/207 [==============================] - 22s 104ms/step - loss: 0.0796 - accuracy: 0.9708 - val_loss: 0.0603 - val_accuracy: 0.9804\n",
      "Epoch 88/100\n",
      "207/207 [==============================] - 19s 92ms/step - loss: 0.0453 - accuracy: 0.9853 - val_loss: 0.0245 - val_accuracy: 0.9917\n",
      "Epoch 89/100\n",
      "207/207 [==============================] - 20s 95ms/step - loss: 0.0348 - accuracy: 0.9893 - val_loss: 0.0174 - val_accuracy: 0.9947\n",
      "Epoch 90/100\n",
      "207/207 [==============================] - 20s 97ms/step - loss: 0.0426 - accuracy: 0.9873 - val_loss: 0.0235 - val_accuracy: 0.9924\n",
      "Epoch 91/100\n",
      "207/207 [==============================] - 21s 100ms/step - loss: 0.0677 - accuracy: 0.9755 - val_loss: 0.0270 - val_accuracy: 0.9932\n",
      "Epoch 92/100\n",
      "207/207 [==============================] - 24s 114ms/step - loss: 0.0508 - accuracy: 0.9838 - val_loss: 0.0226 - val_accuracy: 0.9940\n",
      "Epoch 93/100\n",
      "207/207 [==============================] - 23s 113ms/step - loss: 0.0442 - accuracy: 0.9837 - val_loss: 0.0210 - val_accuracy: 0.9917\n",
      "Epoch 94/100\n",
      "207/207 [==============================] - 20s 95ms/step - loss: 0.0350 - accuracy: 0.9881 - val_loss: 0.0313 - val_accuracy: 0.9894\n",
      "Epoch 95/100\n",
      "207/207 [==============================] - 23s 110ms/step - loss: 0.0527 - accuracy: 0.9828 - val_loss: 0.0280 - val_accuracy: 0.9947\n",
      "Epoch 96/100\n",
      "207/207 [==============================] - 22s 106ms/step - loss: 0.0505 - accuracy: 0.9832 - val_loss: 0.0162 - val_accuracy: 0.9970\n",
      "Epoch 97/100\n",
      "207/207 [==============================] - 20s 97ms/step - loss: 0.0428 - accuracy: 0.9852 - val_loss: 0.0355 - val_accuracy: 0.9879\n",
      "Epoch 98/100\n",
      "207/207 [==============================] - 20s 99ms/step - loss: 0.0501 - accuracy: 0.9797 - val_loss: 0.0341 - val_accuracy: 0.9902\n",
      "Epoch 99/100\n",
      "207/207 [==============================] - 21s 103ms/step - loss: 0.0433 - accuracy: 0.9862 - val_loss: 0.0160 - val_accuracy: 0.9970\n",
      "Epoch 100/100\n",
      "207/207 [==============================] - 21s 101ms/step - loss: 0.0312 - accuracy: 0.9906 - val_loss: 0.0164 - val_accuracy: 0.9940\n",
      "42/42 [==============================] - 2s 38ms/step - loss: 0.0164 - accuracy: 0.9940\n",
      "Test accuracy: 0.9939576983451843\n"
     ]
    }
   ],
   "source": [
    "import pandas as pd\n",
    "from keras.layers import LSTM, Dense\n",
    "from keras.models import Sequential\n",
    "from sklearn.preprocessing import MinMaxScaler\n",
    "from sklearn.model_selection import train_test_split\n",
    "\n",
    "# načtení dat\n",
    "\n",
    "# definice lookback\n",
    "lookback = 200\n",
    "\n",
    "# převod dat na numpy array\n",
    "data = df_model.values\n",
    "scaler = MinMaxScaler(feature_range=(0, 1))\n",
    "data_scaled = scaler.fit_transform(data)\n",
    "\n",
    "# rozdělení dat na trénovací a testovací\n",
    "X = []\n",
    "y = []\n",
    "for i in range(lookback, len(data)):\n",
    "    X.append(data_scaled[i-lookback:i, 1:])\n",
    "    y.append(data_scaled[i, 0])\n",
    "X = np.array(X)\n",
    "y = np.array(y)\n",
    "print(X.shape)\n",
    "X_train, X_test, y_train, y_test = train_test_split(X, y, test_size=0.2)\n",
    "\n",
    "# vytvoření modelu\n",
    "model = Sequential()\n",
    "model.add(LSTM(units=100, input_shape=(lookback, data.shape[1]-1)))\n",
    "model.add(Dropout(0.3))\n",
    "model.add(Dense(1, activation='sigmoid'))\n",
    "model.compile(loss=\"binary_crossentropy\", optimizer=\"adam\", metrics=['accuracy'])\n",
    "\n",
    "# natrénování modelu na trénovacích datech\n",
    "model.fit(X, y, epochs=100, batch_size=32,validation_data=(X_test, y_test))\n",
    "\n",
    "# hodnocení modelu na testovacích datech\n",
    "test_loss, test_acc = model.evaluate(X_test, y_test)\n",
    "print('Test accuracy:', test_acc)\n"
   ]
  },
  {
   "cell_type": "code",
   "execution_count": 64,
   "id": "44f54321",
   "metadata": {},
   "outputs": [
    {
     "name": "stdout",
     "output_type": "stream",
     "text": [
      "42/42 [==============================] - 2s 41ms/step\n"
     ]
    },
    {
     "data": {
      "image/png": "[encoded data removed]",
      "text/plain": [
       "<Figure size 640x480 with 1 Axes>"
      ]
     },
     "metadata": {},
     "output_type": "display_data"
    }
   ],
   "source": [
    "from sklearn.metrics import roc_curve\n",
    "import matplotlib.pyplot as plt\n",
    "y_pred_proba =model.predict(X_test)\n",
    "fpr, tpr, _ = roc_curve(y_test,  y_pred_proba)\n",
    "auc = roc_auc_score(y_test, y_pred_proba)\n",
    "plt.plot(fpr,tpr,label=\"data 1, auc=\"+str(auc))\n",
    "plt.legend(loc=4)\n",
    "plt.title(\"AUC ROC Curve\")\n",
    "plt.show()"
   ]
  },
  {
   "cell_type": "code",
   "execution_count": 65,
   "id": "0c206b68",
   "metadata": {
    "scrolled": true
   },
   "outputs": [
    {
     "name": "stdout",
     "output_type": "stream",
     "text": [
      "              precision    recall  f1-score   support\n",
      "\n",
      "         0.0       1.00      0.99      0.99       665\n",
      "         1.0       0.99      1.00      0.99       659\n",
      "\n",
      "    accuracy                           0.99      1324\n",
      "   macro avg       0.99      0.99      0.99      1324\n",
      "weighted avg       0.99      0.99      0.99      1324\n",
      "\n",
      "AUC-ROC score:  0.9999201341745867\n"
     ]
    }
   ],
   "source": [
    "from sklearn.metrics import classification_report\n",
    "auc = roc_auc_score(y_test, y_pred_proba) \n",
    "y_pred_binary = (y_pred_proba > 0.5).astype(int)\n",
    "print(classification_report(y_test, y_pred_binary))\n",
    "print('AUC-ROC score: ', auc)"
   ]
  },
  {
   "cell_type": "code",
   "execution_count": 66,
   "id": "f8f65bf1",
   "metadata": {
    "scrolled": true
   },
   "outputs": [
    {
     "data": {
      "text/plain": [
       "0.5008051"
      ]
     },
     "execution_count": 66,
     "metadata": {},
     "output_type": "execute_result"
    }
   ],
   "source": [
    "np.mean(y_pred_proba)"
   ]
  },
  {
   "cell_type": "code",
   "execution_count": 67,
   "id": "4897ec9a",
   "metadata": {},
   "outputs": [],
   "source": [
    "model.save('model2.h5')\n",
    "model.save_weights('my_model_weights2.h5')  # to store\n"
   ]
  },
  {
   "cell_type": "code",
   "execution_count": 25,
   "id": "450f5d2e",
   "metadata": {},
   "outputs": [
    {
     "data": {
      "text/plain": [
       "array([0.30769231, 0.5       , 0.5       , 0.2       , 0.66666667,\n",
       "       0.        , 0.13513514, 0.        , 0.        , 0.        ,\n",
       "       0.17391304, 0.        , 0.        , 0.        , 0.77380952,\n",
       "       0.0572479 , 0.71022727, 0.0538707 , 1.        , 0.078125  ,\n",
       "       0.6       , 0.03878083, 1.        , 0.05466752, 1.        ,\n",
       "       0.0285762 , 0.5       , 0.01110444, 1.        , 0.035359  ,\n",
       "       0.66666667, 0.06939338, 0.        , 0.28571429, 0.02065462,\n",
       "       0.85714286, 0.1520599 , 0.33333333, 0.11948529, 0.5       ,\n",
       "       0.01282011, 0.        , 0.        , 0.33333333, 0.03274357,\n",
       "       0.        , 0.        , 0.33333333, 0.04347426, 0.        ,\n",
       "       0.        , 0.        , 0.37916667, 0.06196703, 0.61983471,\n",
       "       0.18174992, 1.        , 0.04832291, 0.26923077, 0.04197766,\n",
       "       0.66666667, 0.02254245, 0.625     , 0.08837666, 0.24285714,\n",
       "       0.05838197, 0.5       , 0.04374143, 1.        , 0.02146106,\n",
       "       0.        , 0.47945205, 0.22357242, 0.55307263, 0.15518928,\n",
       "       0.33333333, 0.07390563, 0.40659341, 0.14669875, 0.42857143,\n",
       "       0.02242912, 0.625     , 0.30379477, 0.53012048, 0.16041723,\n",
       "       0.25      , 0.06050313, 0.62962963, 0.08974255])"
      ]
     },
     "execution_count": 25,
     "metadata": {},
     "output_type": "execute_result"
    }
   ],
   "source": [
    "new_data  =data_scaled[50,:]\n",
    "new_data = new_data[1:]\n",
    "new_data"
   ]
  },
  {
   "cell_type": "code",
   "execution_count": 26,
   "id": "2b919261",
   "metadata": {},
   "outputs": [
    {
     "data": {
      "text/plain": [
       "array([[[0.30769231, 0.5       , 0.5       , 0.2       , 0.66666667,\n",
       "         0.        , 0.13513514, 0.        , 0.        , 0.        ,\n",
       "         0.17391304, 0.        , 0.        , 0.        , 0.77380952,\n",
       "         0.0572479 , 0.71022727, 0.0538707 , 1.        , 0.078125  ,\n",
       "         0.6       , 0.03878083, 1.        , 0.05466752, 1.        ,\n",
       "         0.0285762 , 0.5       , 0.01110444, 1.        , 0.035359  ,\n",
       "         0.66666667, 0.06939338, 0.        , 0.28571429, 0.02065462,\n",
       "         0.85714286, 0.1520599 , 0.33333333, 0.11948529, 0.5       ,\n",
       "         0.01282011, 0.        , 0.        , 0.33333333, 0.03274357,\n",
       "         0.        , 0.        , 0.33333333, 0.04347426, 0.        ,\n",
       "         0.        , 0.        , 0.37916667, 0.06196703, 0.61983471,\n",
       "         0.18174992, 1.        , 0.04832291, 0.26923077, 0.04197766,\n",
       "         0.66666667, 0.02254245, 0.625     , 0.08837666, 0.24285714,\n",
       "         0.05838197, 0.5       , 0.04374143, 1.        , 0.02146106,\n",
       "         0.        , 0.47945205, 0.22357242, 0.55307263, 0.15518928,\n",
       "         0.33333333, 0.07390563, 0.40659341, 0.14669875, 0.42857143,\n",
       "         0.02242912, 0.625     , 0.30379477, 0.53012048, 0.16041723,\n",
       "         0.25      , 0.06050313, 0.62962963, 0.08974255]]])"
      ]
     },
     "execution_count": 26,
     "metadata": {},
     "output_type": "execute_result"
    }
   ],
   "source": [
    "\n",
    "new_data = np.reshape(new_data, (1,1,new_data.shape[0]))\n",
    "new_data"
   ]
  },
  {
   "cell_type": "code",
   "execution_count": 27,
   "id": "977d1f7a",
   "metadata": {
    "scrolled": true
   },
   "outputs": [
    {
     "name": "stdout",
     "output_type": "stream",
     "text": [
      "1/1 [==============================] - 0s 362ms/step\n"
     ]
    }
   ],
   "source": [
    "y_pred = model.predict(new_data)"
   ]
  },
  {
   "cell_type": "code",
   "execution_count": 28,
   "id": "1cc06bbf",
   "metadata": {},
   "outputs": [
    {
     "data": {
      "text/plain": [
       "array([[0.77386403]], dtype=float32)"
      ]
     },
     "execution_count": 28,
     "metadata": {},
     "output_type": "execute_result"
    }
   ],
   "source": [
    "y_pred"
   ]
  },
  {
   "cell_type": "code",
   "execution_count": 29,
   "id": "427be37d",
   "metadata": {},
   "outputs": [],
   "source": [
    "from datetime import date\n",
    "\n",
    "today = date.today()\n",
    "df_fighters_details['AGE'] = (pd.to_datetime(today) - pd.to_datetime(df_fighters_details['DOB'])).astype('<m8[Y]')"
   ]
  },
  {
   "cell_type": "code",
   "execution_count": 30,
   "id": "5975f89e",
   "metadata": {},
   "outputs": [],
   "source": [
    "fighter1 = \"Derrick Lewis\"\n",
    "fighter2= \"Serghei Spivac\"\n"
   ]
  },
  {
   "cell_type": "code",
   "execution_count": 31,
   "id": "cd180742",
   "metadata": {},
   "outputs": [],
   "source": [
    "f1_df = df_fighters.loc[df_fighters['FIGHTER']==fighter1]\n",
    "f2_df = df_fighters.loc[df_fighters['FIGHTER']==fighter2]"
   ]
  },
  {
   "cell_type": "code",
   "execution_count": 32,
   "id": "74302f5f",
   "metadata": {},
   "outputs": [
    {
     "data": {
      "text/html": [
       "<div>\n",
       "<style scoped>\n",
       "    .dataframe tbody tr th:only-of-type {\n",
       "        vertical-align: middle;\n",
       "    }\n",
       "\n",
       "    .dataframe tbody tr th {\n",
       "        vertical-align: top;\n",
       "    }\n",
       "\n",
       "    .dataframe thead th {\n",
       "        text-align: right;\n",
       "    }\n",
       "</style>\n",
       "<table border=\"1\" class=\"dataframe\">\n",
       "  <thead>\n",
       "    <tr style=\"text-align: right;\">\n",
       "      <th></th>\n",
       "      <th>FIGHTER</th>\n",
       "      <th>HEIGHT_fighter</th>\n",
       "      <th>WEIGHT_fighter</th>\n",
       "      <th>REACH_fighter</th>\n",
       "      <th>STANCE_fighter</th>\n",
       "      <th>Fights</th>\n",
       "      <th>Win</th>\n",
       "      <th>DRAW</th>\n",
       "      <th>Lost</th>\n",
       "      <th>No_contest</th>\n",
       "      <th>...</th>\n",
       "      <th>BODY_attemps_opponent</th>\n",
       "      <th>LEG_landed_opponent</th>\n",
       "      <th>LEG_attemps_opponent</th>\n",
       "      <th>DISTANCE_landed_opponent</th>\n",
       "      <th>DISTANCE_attemps_opponent</th>\n",
       "      <th>CLINCH_landed_opponent</th>\n",
       "      <th>CLINCH_attemps_opponent</th>\n",
       "      <th>GROUND_landed_opponent</th>\n",
       "      <th>GROUND_attemps_opponent</th>\n",
       "      <th>form_skore_fighter</th>\n",
       "    </tr>\n",
       "  </thead>\n",
       "  <tbody>\n",
       "    <tr>\n",
       "      <th>594</th>\n",
       "      <td>Derrick Lewis</td>\n",
       "      <td>75.0</td>\n",
       "      <td>260.0</td>\n",
       "      <td>79.0</td>\n",
       "      <td>Orthodox</td>\n",
       "      <td>25</td>\n",
       "      <td>17</td>\n",
       "      <td>0</td>\n",
       "      <td>8</td>\n",
       "      <td>0</td>\n",
       "      <td>...</td>\n",
       "      <td>179.0</td>\n",
       "      <td>115.0</td>\n",
       "      <td>130.0</td>\n",
       "      <td>365.0</td>\n",
       "      <td>694.0</td>\n",
       "      <td>105.0</td>\n",
       "      <td>148.0</td>\n",
       "      <td>110.0</td>\n",
       "      <td>146.0</td>\n",
       "      <td>-0.7</td>\n",
       "    </tr>\n",
       "  </tbody>\n",
       "</table>\n",
       "<p>1 rows × 56 columns</p>\n",
       "</div>"
      ],
      "text/plain": [
       "           FIGHTER  HEIGHT_fighter  WEIGHT_fighter  REACH_fighter  \\\n",
       "594  Derrick Lewis            75.0           260.0           79.0   \n",
       "\n",
       "    STANCE_fighter  Fights  Win  DRAW  Lost  No_contest  ...  \\\n",
       "594       Orthodox      25   17     0     8           0  ...   \n",
       "\n",
       "     BODY_attemps_opponent  LEG_landed_opponent  LEG_attemps_opponent  \\\n",
       "594                  179.0                115.0                 130.0   \n",
       "\n",
       "     DISTANCE_landed_opponent  DISTANCE_attemps_opponent  \\\n",
       "594                     365.0                      694.0   \n",
       "\n",
       "     CLINCH_landed_opponent  CLINCH_attemps_opponent  GROUND_landed_opponent  \\\n",
       "594                   105.0                    148.0                   110.0   \n",
       "\n",
       "     GROUND_attemps_opponent  form_skore_fighter  \n",
       "594                    146.0                -0.7  \n",
       "\n",
       "[1 rows x 56 columns]"
      ]
     },
     "execution_count": 32,
     "metadata": {},
     "output_type": "execute_result"
    }
   ],
   "source": [
    "f1_df"
   ]
  },
  {
   "cell_type": "code",
   "execution_count": 33,
   "id": "2b4a9810",
   "metadata": {},
   "outputs": [
    {
     "data": {
      "text/plain": [
       "Index(['Win', 'HEIGHT_diff', 'REACH_diff', 'AGE_diff', 'form_skore_fighter',\n",
       "       'form_skore_opponent', 'fightNo_fighter', 'fightNo_opponent',\n",
       "       'Win_tot_f1', 'DRAW_f1', 'No_contest_f1', 'Win_tot_f2', 'DRAW_f2',\n",
       "       'No_contest_f2', 'CTRL_pct_fighterf1', 'SIG.STR._acc_fighterf1',\n",
       "       'SIG.STR._perRound_fighterf1', 'TOTAL STR._acc_fighterf1',\n",
       "       'TOTAL STR._perRound_fighterf1', 'TD_acc_fighterf1',\n",
       "       'TD_perRound_fighterf1', 'HEAD_acc_fighterf1',\n",
       "       'HEAD_perRound_fighterf1', 'BODY_acc_fighterf1',\n",
       "       'BODY_perRound_fighterf1', 'LEG_acc_fighterf1',\n",
       "       'LEG_perRound_fighterf1', 'DISTANCE_acc_fighterf1',\n",
       "       'DISTANCE_perRound_fighterf1', 'CLINCH_acc_fighterf1',\n",
       "       'CLINCH_perRound_fighterf1', 'GROUND_acc_fighterf1',\n",
       "       'GROUND_perRound_fighterf1', 'CTRL_pct_opponentf1',\n",
       "       'SIG.STR._acc_opponentf1', 'SIG.STR._perRound_opponentf1',\n",
       "       'TOTAL STR._acc_opponentf1', 'TOTAL STR._perRound_opponentf1',\n",
       "       'TD_acc_opponentf1', 'TD_perRound_opponentf1', 'HEAD_acc_opponentf1',\n",
       "       'HEAD_perRound_opponentf1', 'BODY_acc_opponentf1',\n",
       "       'BODY_perRound_opponentf1', 'LEG_acc_opponentf1',\n",
       "       'LEG_perRound_opponentf1', 'DISTANCE_acc_opponentf1',\n",
       "       'DISTANCE_perRound_opponentf1', 'CLINCH_acc_opponentf1',\n",
       "       'CLINCH_perRound_opponentf1', 'GROUND_acc_opponentf1',\n",
       "       'GROUND_perRound_opponentf1', 'CTRL_pct_fighterf2',\n",
       "       'SIG.STR._acc_fighterf2', 'SIG.STR._perRound_fighterf2',\n",
       "       'TOTAL STR._acc_fighterf2', 'TOTAL STR._perRound_fighterf2',\n",
       "       'TD_acc_fighterf2', 'TD_perRound_fighterf2', 'HEAD_acc_fighterf2',\n",
       "       'HEAD_perRound_fighterf2', 'BODY_acc_fighterf2',\n",
       "       'BODY_perRound_fighterf2', 'LEG_acc_fighterf2',\n",
       "       'LEG_perRound_fighterf2', 'DISTANCE_acc_fighterf2',\n",
       "       'DISTANCE_perRound_fighterf2', 'CLINCH_acc_fighterf2',\n",
       "       'CLINCH_perRound_fighterf2', 'GROUND_acc_fighterf2',\n",
       "       'GROUND_perRound_fighterf2', 'CTRL_pct_opponentf2',\n",
       "       'SIG.STR._acc_opponentf2', 'SIG.STR._perRound_opponentf2',\n",
       "       'TOTAL STR._acc_opponentf2', 'TOTAL STR._perRound_opponentf2',\n",
       "       'TD_acc_opponentf2', 'TD_perRound_opponentf2', 'HEAD_acc_opponentf2',\n",
       "       'HEAD_perRound_opponentf2', 'BODY_acc_opponentf2',\n",
       "       'BODY_perRound_opponentf2', 'LEG_acc_opponentf2',\n",
       "       'LEG_perRound_opponentf2', 'DISTANCE_acc_opponentf2',\n",
       "       'DISTANCE_perRound_opponentf2', 'CLINCH_acc_opponentf2',\n",
       "       'CLINCH_perRound_opponentf2', 'GROUND_acc_opponentf2',\n",
       "       'GROUND_perRound_opponentf2'],\n",
       "      dtype='object')"
      ]
     },
     "execution_count": 33,
     "metadata": {},
     "output_type": "execute_result"
    }
   ],
   "source": [
    "df_model.columns"
   ]
  },
  {
   "cell_type": "code",
   "execution_count": 34,
   "id": "2f5a3e74",
   "metadata": {},
   "outputs": [],
   "source": [
    "agediff = df_fighters_details[df_fighters_details['FIGHTER']==fighter1]['AGE'].values[0] - df_fighters_details[df_fighters_details['FIGHTER']==fighter2]['AGE'].values[0]\n",
    "formy = [f1_df['form_skore_fighter'].values[0], f2_df['form_skore_fighter'].values[0]]\n",
    "no_of_fights = [f1_df['Fights'].values[0],f2_df['Fights'].values[0]]\n",
    "W_D_NC = f1_df[['Win','DRAW', 'No_contest']].values.tolist()[0] + f2_df[['Win','DRAW', 'No_contest']].values.tolist()[0]"
   ]
  },
  {
   "cell_type": "code",
   "execution_count": 35,
   "id": "5473bec1",
   "metadata": {},
   "outputs": [],
   "source": [
    "sloupce2 = df_fighters.columns.tolist()[10:]\n",
    "stats_f1 = []\n",
    "stats_f2 = []\n",
    "for sloupec in sloupce2:    \n",
    "    splited = sloupec.split('_')\n",
    "    if 'CTRL' in splited:\n",
    "        stats_f1.append((f1_df[sloupec]/f1_df['TotalTime']).values[0])\n",
    "        stats_f2.append((f2_df[sloupec]/f2_df['TotalTime']).values[0])\n",
    "    if 'attemps' in splited:\n",
    "        stats_f1.append((f1_df[sloupec.replace('attemps', 'landed')]/f1_df[sloupec]).values[0])\n",
    "        stats_f1.append((f1_df[sloupec.replace('attemps', 'landed')]/f1_df['TotalTime']).values[0]*300)\n",
    "        \n",
    "        stats_f2.append((f2_df[sloupec.replace('attemps', 'landed')]/f2_df[sloupec]).values[0])\n",
    "        stats_f2.append((f2_df[sloupec.replace('attemps', 'landed')]/f2_df['TotalTime']).values[0]*300)\n",
    "stats_list = stats_f1 + stats_f2"
   ]
  },
  {
   "cell_type": "code",
   "execution_count": 36,
   "id": "bdff40e4",
   "metadata": {},
   "outputs": [],
   "source": [
    "vstup = np.array([1]+[f1_df.iloc[0][col] - f2_df.iloc[0][col] for col in ['HEIGHT_fighter','REACH_fighter']] + [agediff] + formy + no_of_fights + W_D_NC + stats_list)"
   ]
  },
  {
   "cell_type": "code",
   "execution_count": 37,
   "id": "1fdd596e",
   "metadata": {},
   "outputs": [
    {
     "name": "stderr",
     "output_type": "stream",
     "text": [
      "C:\\Users\\spravce\\AppData\\Local\\Temp\\ipykernel_11120\\2024273010.py:2: FutureWarning: The frame.append method is deprecated and will be removed from pandas in a future version. Use pandas.concat instead.\n",
      "  vstup_scaled = scaler.fit_transform(df_model.append(pd.DataFrame(vstup.reshape(1,-1), columns=list(df_model)), ignore_index=True))[-200:,1:]\n"
     ]
    }
   ],
   "source": [
    "scaler = MinMaxScaler(feature_range=(0, 1))\n",
    "vstup_scaled = scaler.fit_transform(df_model.append(pd.DataFrame(vstup.reshape(1,-1), columns=list(df_model)), ignore_index=True))[-200:,1:]"
   ]
  },
  {
   "cell_type": "code",
   "execution_count": 38,
   "id": "1f3ec277",
   "metadata": {},
   "outputs": [
    {
     "data": {
      "text/plain": [
       "(200, 89)"
      ]
     },
     "execution_count": 38,
     "metadata": {},
     "output_type": "execute_result"
    }
   ],
   "source": [
    "vstup_scaled.shape"
   ]
  },
  {
   "cell_type": "code",
   "execution_count": 39,
   "id": "96eda032",
   "metadata": {},
   "outputs": [],
   "source": [
    "from numpy import *\n",
    "where_are_NaNs = isnan(vstup_scaled)\n",
    "vstup_scaled[where_are_NaNs] = 0"
   ]
  },
  {
   "cell_type": "code",
   "execution_count": 40,
   "id": "b4ed6497",
   "metadata": {},
   "outputs": [
    {
     "data": {
      "text/plain": [
       "array([], shape=(0, 2), dtype=int64)"
      ]
     },
     "execution_count": 40,
     "metadata": {},
     "output_type": "execute_result"
    }
   ],
   "source": [
    "np.argwhere(np.isnan(vstup_scaled))"
   ]
  },
  {
   "cell_type": "code",
   "execution_count": 41,
   "id": "a5702284",
   "metadata": {},
   "outputs": [],
   "source": [
    "new_data = np.reshape(vstup_scaled, (1,200,vstup_scaled.shape[1]))"
   ]
  },
  {
   "cell_type": "code",
   "execution_count": 42,
   "id": "ff2a2884",
   "metadata": {},
   "outputs": [
    {
     "data": {
      "text/plain": [
       "array([[[0.46153846, 0.375     , 0.47058824, ..., 0.        ,\n",
       "         0.        , 0.        ],\n",
       "        [0.73076923, 0.79166667, 0.41176471, ..., 0.05888578,\n",
       "         0.66153846, 0.06213597],\n",
       "        [0.26923077, 0.20833333, 0.58823529, ..., 0.02074561,\n",
       "         0.7826087 , 0.58646617],\n",
       "        ...,\n",
       "        [0.46153846, 0.5       , 0.5       , ..., 0.0670209 ,\n",
       "         0.25      , 0.00328931],\n",
       "        [0.53846154, 0.5       , 0.5       , ..., 0.01258648,\n",
       "         1.        , 0.01976735],\n",
       "        [0.5       , 0.54166667, 0.76470588, ..., 0.06904736,\n",
       "         0.63793103, 0.07430178]]])"
      ]
     },
     "execution_count": 42,
     "metadata": {},
     "output_type": "execute_result"
    }
   ],
   "source": [
    "new_data"
   ]
  },
  {
   "cell_type": "code",
   "execution_count": null,
   "id": "66110573",
   "metadata": {},
   "outputs": [],
   "source": [
    "\n"
   ]
  },
  {
   "cell_type": "code",
   "execution_count": null,
   "id": "b71d6fd0",
   "metadata": {},
   "outputs": [],
   "source": []
  },
  {
   "cell_type": "code",
   "execution_count": 43,
   "id": "23f96f1d",
   "metadata": {},
   "outputs": [],
   "source": [
    "from keras.models import load_model\n",
    "model = load_model('model.h5')\n",
    "model.load_weights('my_model_weights.h5')  # to load"
   ]
  },
  {
   "cell_type": "code",
   "execution_count": 44,
   "id": "7bc04b75",
   "metadata": {},
   "outputs": [
    {
     "name": "stdout",
     "output_type": "stream",
     "text": [
      "1/1 [==============================] - 0s 335ms/step\n"
     ]
    },
    {
     "data": {
      "text/plain": [
       "array([[0.9648369]], dtype=float32)"
      ]
     },
     "execution_count": 44,
     "metadata": {},
     "output_type": "execute_result"
    }
   ],
   "source": [
    "y_pred = model.predict(new_data)\n",
    "y_pred"
   ]
  },
  {
   "cell_type": "code",
   "execution_count": 69,
   "id": "348db2cf",
   "metadata": {},
   "outputs": [],
   "source": [
    "df_model.to_csv('model/df_model.csv',index=False)"
   ]
  },
  {
   "cell_type": "code",
   "execution_count": null,
   "id": "0a3db91c",
   "metadata": {},
   "outputs": [],
   "source": []
  },
  {
   "cell_type": "code",
   "execution_count": null,
   "id": "a60c443e",
   "metadata": {},
   "outputs": [],
   "source": []
  }
 ],
 "metadata": {
  "kernelspec": {
   "display_name": "Python 3 (ipykernel)",
   "language": "python",
   "name": "python3"
  },
  "language_info": {
   "codemirror_mode": {
    "name": "ipython",
    "version": 3
   },
   "file_extension": ".py",
   "mimetype": "text/x-python",
   "name": "python",
   "nbconvert_exporter": "python",
   "pygments_lexer": "ipython3",
   "version": "3.9.13"
  }
 },
 "nbformat": 4,
 "nbformat_minor": 5
}
