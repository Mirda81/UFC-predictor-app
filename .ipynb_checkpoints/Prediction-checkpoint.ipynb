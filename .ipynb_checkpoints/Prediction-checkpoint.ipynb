{
 "cells": [
  {
   "cell_type": "code",
   "execution_count": 1,
   "id": "6219f8cc",
   "metadata": {},
   "outputs": [],
   "source": [
    "from sklearn.preprocessing import MinMaxScaler\n",
    "import pandas as pd\n",
    "import numpy as np\n",
    "from numpy import *"
   ]
  },
  {
   "cell_type": "code",
   "execution_count": 2,
   "id": "38114864",
   "metadata": {},
   "outputs": [],
   "source": [
    "df = pd.read_csv('fight_with_stats_precomp.csv')\n",
    "df_fighters = pd.read_csv('fighter_total_stats.csv')"
   ]
  },
  {
   "cell_type": "code",
   "execution_count": 3,
   "id": "65ea876a",
   "metadata": {},
   "outputs": [],
   "source": [
    "df_fighters_details = pd.read_csv('fighter_details.csv', parse_dates=True)\n",
    "df_model = pd.read_csv('df_model.csv', parse_dates=True)"
   ]
  },
  {
   "cell_type": "code",
   "execution_count": 4,
   "id": "7607dc03",
   "metadata": {},
   "outputs": [],
   "source": [
    "from keras.models import load_model\n",
    "model = load_model('model.h5')\n",
    "model.load_weights('my_model_weights.h5')  # to load"
   ]
  },
  {
   "cell_type": "code",
   "execution_count": 5,
   "id": "d9c32ad9",
   "metadata": {},
   "outputs": [],
   "source": [
    "from datetime import date\n",
    "\n",
    "today = date.today()\n",
    "df_fighters_details['AGE'] = (pd.to_datetime(today) - pd.to_datetime(df_fighters_details['DOB'])).astype('<m8[Y]')"
   ]
  },
  {
   "cell_type": "code",
   "execution_count": 38,
   "id": "d3bc66ab",
   "metadata": {},
   "outputs": [],
   "source": [
    "def prediction(f1,f2):\n",
    "    f1_proba = float(((1-predict(f1,f2))+ predict(f2,f1))/2)\n",
    "    return round(f1_proba*100,2), round((1-f1_proba)*100,2)\n",
    "    \n",
    "def predict(f1,f2):\n",
    "    f1_df = df_fighters.loc[df_fighters['FIGHTER']==f1]\n",
    "    f2_df = df_fighters.loc[df_fighters['FIGHTER']==f2]\n",
    "    agediff = df_fighters_details[df_fighters_details['FIGHTER']==f1]['AGE'].values[0] - df_fighters_details[df_fighters_details['FIGHTER']==f2]['AGE'].values[0]\n",
    "    formy = [f1_df['form_skore_fighter'].values[0], f2_df['form_skore_fighter'].values[0]]\n",
    "    no_of_fights = [f1_df['Fights'].values[0],f2_df['Fights'].values[0]]\n",
    "    W_D_NC = f1_df[['Win','DRAW', 'No_contest']].values.tolist()[0] + f2_df[['Win','DRAW', 'No_contest']].values.tolist()[0]\n",
    "\n",
    "    sloupce2 = df_fighters.columns.tolist()[10:]\n",
    "    stats_f1 = []\n",
    "    stats_f2 = []\n",
    "    for sloupec in sloupce2:    \n",
    "        splited = sloupec.split('_')\n",
    "        if 'CTRL' in splited:\n",
    "            stats_f1.append((f1_df[sloupec]/f1_df['TotalTime']).values[0])\n",
    "            stats_f2.append((f2_df[sloupec]/f2_df['TotalTime']).values[0])\n",
    "        if 'attemps' in splited:\n",
    "            stats_f1.append((f1_df[sloupec.replace('attemps', 'landed')]/f1_df[sloupec]).values[0])\n",
    "            stats_f1.append((f1_df[sloupec.replace('attemps', 'landed')]/f1_df['TotalTime']).values[0]*300)\n",
    "\n",
    "            stats_f2.append((f2_df[sloupec.replace('attemps', 'landed')]/f2_df[sloupec]).values[0])\n",
    "            stats_f2.append((f2_df[sloupec.replace('attemps', 'landed')]/f2_df['TotalTime']).values[0]*300)\n",
    "    stats_list = stats_f1 + stats_f2\n",
    "    vstup = np.array([1]+[f1_df.iloc[0][col] - f2_df.iloc[0][col] for col in ['HEIGHT_fighter','REACH_fighter']] + [agediff] + formy + no_of_fights + W_D_NC + stats_list)\n",
    "    scaler = MinMaxScaler(feature_range=(0, 1))\n",
    "    vstup_scaled = scaler.fit_transform(df_model.append(pd.DataFrame(vstup.reshape(1,-1), columns=list(df_model)), ignore_index=True))[-200:,1:]\n",
    "    where_are_NaNs = isnan(vstup_scaled)\n",
    "    vstup_scaled[where_are_NaNs] = 0\n",
    "    new_data = np.reshape(vstup_scaled, (1,200,vstup_scaled.shape[1]))\n",
    "    y_pred = model.predict(new_data)\n",
    "    return y_pred"
   ]
  },
  {
   "cell_type": "code",
   "execution_count": 41,
   "id": "f4319da4",
   "metadata": {},
   "outputs": [],
   "source": [
    "fighter1 = \"Glover Teixeira\"\n",
    "fighter2= \"Jamahal Hill\""
   ]
  },
  {
   "cell_type": "code",
   "execution_count": 42,
   "id": "a7cfa5db",
   "metadata": {},
   "outputs": [
    {
     "name": "stdout",
     "output_type": "stream",
     "text": [
      "1/1 [==============================] - 0s 23ms/step\n",
      "1/1 [==============================] - 0s 17ms/step\n"
     ]
    },
    {
     "name": "stderr",
     "output_type": "stream",
     "text": [
      "C:\\Users\\spravce\\AppData\\Local\\Temp\\ipykernel_21700\\3820526178.py:30: FutureWarning: The frame.append method is deprecated and will be removed from pandas in a future version. Use pandas.concat instead.\n",
      "  vstup_scaled = scaler.fit_transform(df_model.append(pd.DataFrame(vstup.reshape(1,-1), columns=list(df_model)), ignore_index=True))[-200:,1:]\n",
      "C:\\Users\\spravce\\AppData\\Local\\Temp\\ipykernel_21700\\3820526178.py:30: FutureWarning: The frame.append method is deprecated and will be removed from pandas in a future version. Use pandas.concat instead.\n",
      "  vstup_scaled = scaler.fit_transform(df_model.append(pd.DataFrame(vstup.reshape(1,-1), columns=list(df_model)), ignore_index=True))[-200:,1:]\n"
     ]
    },
    {
     "data": {
      "text/plain": [
       "(25.13, 74.87)"
      ]
     },
     "execution_count": 42,
     "metadata": {},
     "output_type": "execute_result"
    }
   ],
   "source": [
    "prediction(fighter1,fighter2)"
   ]
  },
  {
   "cell_type": "code",
   "execution_count": null,
   "id": "30374567",
   "metadata": {},
   "outputs": [],
   "source": []
  },
  {
   "cell_type": "code",
   "execution_count": null,
   "id": "ad2701a7",
   "metadata": {},
   "outputs": [],
   "source": []
  }
 ],
 "metadata": {
  "kernelspec": {
   "display_name": "Python 3 (ipykernel)",
   "language": "python",
   "name": "python3"
  },
  "language_info": {
   "codemirror_mode": {
    "name": "ipython",
    "version": 3
   },
   "file_extension": ".py",
   "mimetype": "text/x-python",
   "name": "python",
   "nbconvert_exporter": "python",
   "pygments_lexer": "ipython3",
   "version": "3.9.13"
  }
 },
 "nbformat": 4,
 "nbformat_minor": 5
}
