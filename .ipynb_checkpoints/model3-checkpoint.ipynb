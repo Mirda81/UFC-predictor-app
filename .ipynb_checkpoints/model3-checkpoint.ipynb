{
 "cells": [
  {
   "cell_type": "code",
   "execution_count": 21,
   "id": "6eda130d",
   "metadata": {},
   "outputs": [],
   "source": [
    "import pandas as pd\n",
    "import numpy as np\n",
    "from sklearn.model_selection import GridSearchCV, train_test_split"
   ]
  },
  {
   "cell_type": "code",
   "execution_count": 22,
   "id": "64504238",
   "metadata": {},
   "outputs": [],
   "source": [
    "from keras.models import Sequential\n",
    "from keras.layers import Dense, Activation, Dropout\n",
    "\n",
    "from keras import layers\n",
    "from sklearn.neural_network import MLPClassifier\n",
    "from sklearn.metrics import accuracy_score, f1_score, auc, roc_curve, roc_auc_score\n",
    "from sklearn.preprocessing import StandardScaler\n",
    "from keras.layers import Dense, LSTM, Dropout, GRU, Bidirectional\n",
    "import pandas as pd\n",
    "from keras.layers import LSTM, Dense\n",
    "from keras.models import Sequential\n",
    "from sklearn.preprocessing import MinMaxScaler\n",
    "from sklearn.model_selection import train_test_split\n"
   ]
  },
  {
   "cell_type": "code",
   "execution_count": 23,
   "id": "1160a496",
   "metadata": {},
   "outputs": [],
   "source": [
    "df = pd.read_csv('Preprocessing/fight_with_stats_precomp.csv')\n",
    "df_fighters = pd.read_csv('Preprocessing/fighter_total_stats.csv')"
   ]
  },
  {
   "cell_type": "code",
   "execution_count": 24,
   "id": "1313842b",
   "metadata": {},
   "outputs": [],
   "source": [
    "df_fighters_details = pd.read_csv('Preprocessing/fighter_details.csv', parse_dates=True)"
   ]
  },
  {
   "cell_type": "code",
   "execution_count": 25,
   "id": "cfad8be9",
   "metadata": {},
   "outputs": [],
   "source": [
    "df = df[(df['fightNo_fighter']>=3) & (df['fightNo_opponent']>=3) & (df['Women_fight']==0)]"
   ]
  },
  {
   "cell_type": "code",
   "execution_count": 26,
   "id": "6fbc9051",
   "metadata": {},
   "outputs": [],
   "source": [
    "df = df.fillna(0)\n"
   ]
  },
  {
   "cell_type": "code",
   "execution_count": 27,
   "id": "a380c164",
   "metadata": {},
   "outputs": [
    {
     "data": {
      "text/html": [
       "<div>\n",
       "<style scoped>\n",
       "    .dataframe tbody tr th:only-of-type {\n",
       "        vertical-align: middle;\n",
       "    }\n",
       "\n",
       "    .dataframe tbody tr th {\n",
       "        vertical-align: top;\n",
       "    }\n",
       "\n",
       "    .dataframe thead th {\n",
       "        text-align: right;\n",
       "    }\n",
       "</style>\n",
       "<table border=\"1\" class=\"dataframe\">\n",
       "  <thead>\n",
       "    <tr style=\"text-align: right;\">\n",
       "      <th></th>\n",
       "      <th>EVENT</th>\n",
       "      <th>BOUT</th>\n",
       "      <th>FIGHTER</th>\n",
       "      <th>OPPONENT</th>\n",
       "      <th>METHOD</th>\n",
       "      <th>Win</th>\n",
       "      <th>Women_fight</th>\n",
       "      <th>ROUND</th>\n",
       "      <th>HEIGHT_diff</th>\n",
       "      <th>REACH_diff</th>\n",
       "      <th>...</th>\n",
       "      <th>BODY_landed_opponent</th>\n",
       "      <th>BODY_attemps_opponent</th>\n",
       "      <th>LEG_landed_opponent</th>\n",
       "      <th>LEG_attemps_opponent</th>\n",
       "      <th>DISTANCE_landed_opponent</th>\n",
       "      <th>DISTANCE_attemps_opponent</th>\n",
       "      <th>CLINCH_landed_opponent</th>\n",
       "      <th>CLINCH_attemps_opponent</th>\n",
       "      <th>GROUND_landed_opponent</th>\n",
       "      <th>GROUND_attemps_opponent</th>\n",
       "    </tr>\n",
       "  </thead>\n",
       "  <tbody>\n",
       "    <tr>\n",
       "      <th>24</th>\n",
       "      <td>UFC 2: No Way Out</td>\n",
       "      <td>Royce Gracie vs. Patrick Smith</td>\n",
       "      <td>Patrick Smith</td>\n",
       "      <td>Royce Gracie</td>\n",
       "      <td>KO/TKO - ground</td>\n",
       "      <td>0</td>\n",
       "      <td>0</td>\n",
       "      <td>1</td>\n",
       "      <td>1.0</td>\n",
       "      <td>0.0</td>\n",
       "      <td>...</td>\n",
       "      <td>0.0</td>\n",
       "      <td>0.0</td>\n",
       "      <td>3.0</td>\n",
       "      <td>5.0</td>\n",
       "      <td>5.0</td>\n",
       "      <td>10.0</td>\n",
       "      <td>0.0</td>\n",
       "      <td>0.0</td>\n",
       "      <td>0.0</td>\n",
       "      <td>0.0</td>\n",
       "    </tr>\n",
       "    <tr>\n",
       "      <th>25</th>\n",
       "      <td>UFC 2: No Way Out</td>\n",
       "      <td>Royce Gracie vs. Patrick Smith</td>\n",
       "      <td>Royce Gracie</td>\n",
       "      <td>Patrick Smith</td>\n",
       "      <td>KO/TKO - ground</td>\n",
       "      <td>1</td>\n",
       "      <td>0</td>\n",
       "      <td>1</td>\n",
       "      <td>-1.0</td>\n",
       "      <td>0.0</td>\n",
       "      <td>...</td>\n",
       "      <td>0.0</td>\n",
       "      <td>0.0</td>\n",
       "      <td>0.0</td>\n",
       "      <td>1.0</td>\n",
       "      <td>0.0</td>\n",
       "      <td>2.0</td>\n",
       "      <td>0.0</td>\n",
       "      <td>0.0</td>\n",
       "      <td>3.0</td>\n",
       "      <td>5.0</td>\n",
       "    </tr>\n",
       "    <tr>\n",
       "      <th>26</th>\n",
       "      <td>UFC 2: No Way Out</td>\n",
       "      <td>Royce Gracie vs. Remco Pardoel</td>\n",
       "      <td>Remco Pardoel</td>\n",
       "      <td>Royce Gracie</td>\n",
       "      <td>Submission</td>\n",
       "      <td>0</td>\n",
       "      <td>0</td>\n",
       "      <td>1</td>\n",
       "      <td>2.0</td>\n",
       "      <td>0.0</td>\n",
       "      <td>...</td>\n",
       "      <td>0.0</td>\n",
       "      <td>0.0</td>\n",
       "      <td>1.0</td>\n",
       "      <td>1.0</td>\n",
       "      <td>2.0</td>\n",
       "      <td>3.0</td>\n",
       "      <td>0.0</td>\n",
       "      <td>0.0</td>\n",
       "      <td>0.0</td>\n",
       "      <td>2.0</td>\n",
       "    </tr>\n",
       "    <tr>\n",
       "      <th>27</th>\n",
       "      <td>UFC 2: No Way Out</td>\n",
       "      <td>Royce Gracie vs. Remco Pardoel</td>\n",
       "      <td>Royce Gracie</td>\n",
       "      <td>Remco Pardoel</td>\n",
       "      <td>Submission</td>\n",
       "      <td>1</td>\n",
       "      <td>0</td>\n",
       "      <td>1</td>\n",
       "      <td>-2.0</td>\n",
       "      <td>0.0</td>\n",
       "      <td>...</td>\n",
       "      <td>1.0</td>\n",
       "      <td>2.0</td>\n",
       "      <td>0.0</td>\n",
       "      <td>1.0</td>\n",
       "      <td>0.0</td>\n",
       "      <td>3.0</td>\n",
       "      <td>1.0</td>\n",
       "      <td>1.0</td>\n",
       "      <td>3.0</td>\n",
       "      <td>5.0</td>\n",
       "    </tr>\n",
       "    <tr>\n",
       "      <th>50</th>\n",
       "      <td>UFC 4: Revenge of the Warriors</td>\n",
       "      <td>Royce Gracie vs. Dan Severn</td>\n",
       "      <td>Dan Severn</td>\n",
       "      <td>Royce Gracie</td>\n",
       "      <td>Submission</td>\n",
       "      <td>0</td>\n",
       "      <td>0</td>\n",
       "      <td>1</td>\n",
       "      <td>1.0</td>\n",
       "      <td>0.0</td>\n",
       "      <td>...</td>\n",
       "      <td>3.0</td>\n",
       "      <td>4.0</td>\n",
       "      <td>2.0</td>\n",
       "      <td>3.0</td>\n",
       "      <td>3.0</td>\n",
       "      <td>5.0</td>\n",
       "      <td>3.0</td>\n",
       "      <td>3.0</td>\n",
       "      <td>3.0</td>\n",
       "      <td>3.0</td>\n",
       "    </tr>\n",
       "  </tbody>\n",
       "</table>\n",
       "<p>5 rows × 63 columns</p>\n",
       "</div>"
      ],
      "text/plain": [
       "                             EVENT                            BOUT  \\\n",
       "24               UFC 2: No Way Out  Royce Gracie vs. Patrick Smith   \n",
       "25               UFC 2: No Way Out  Royce Gracie vs. Patrick Smith   \n",
       "26               UFC 2: No Way Out  Royce Gracie vs. Remco Pardoel   \n",
       "27               UFC 2: No Way Out  Royce Gracie vs. Remco Pardoel   \n",
       "50  UFC 4: Revenge of the Warriors     Royce Gracie vs. Dan Severn   \n",
       "\n",
       "          FIGHTER       OPPONENT           METHOD  Win  Women_fight  ROUND  \\\n",
       "24  Patrick Smith   Royce Gracie  KO/TKO - ground    0            0      1   \n",
       "25   Royce Gracie  Patrick Smith  KO/TKO - ground    1            0      1   \n",
       "26  Remco Pardoel   Royce Gracie       Submission    0            0      1   \n",
       "27   Royce Gracie  Remco Pardoel       Submission    1            0      1   \n",
       "50     Dan Severn   Royce Gracie       Submission    0            0      1   \n",
       "\n",
       "    HEIGHT_diff  REACH_diff  ...  BODY_landed_opponent  BODY_attemps_opponent  \\\n",
       "24          1.0         0.0  ...                   0.0                    0.0   \n",
       "25         -1.0         0.0  ...                   0.0                    0.0   \n",
       "26          2.0         0.0  ...                   0.0                    0.0   \n",
       "27         -2.0         0.0  ...                   1.0                    2.0   \n",
       "50          1.0         0.0  ...                   3.0                    4.0   \n",
       "\n",
       "    LEG_landed_opponent  LEG_attemps_opponent  DISTANCE_landed_opponent  \\\n",
       "24                  3.0                   5.0                       5.0   \n",
       "25                  0.0                   1.0                       0.0   \n",
       "26                  1.0                   1.0                       2.0   \n",
       "27                  0.0                   1.0                       0.0   \n",
       "50                  2.0                   3.0                       3.0   \n",
       "\n",
       "    DISTANCE_attemps_opponent  CLINCH_landed_opponent  \\\n",
       "24                       10.0                     0.0   \n",
       "25                        2.0                     0.0   \n",
       "26                        3.0                     0.0   \n",
       "27                        3.0                     1.0   \n",
       "50                        5.0                     3.0   \n",
       "\n",
       "    CLINCH_attemps_opponent  GROUND_landed_opponent  GROUND_attemps_opponent  \n",
       "24                      0.0                     0.0                      0.0  \n",
       "25                      0.0                     3.0                      5.0  \n",
       "26                      0.0                     0.0                      2.0  \n",
       "27                      1.0                     3.0                      5.0  \n",
       "50                      3.0                     3.0                      3.0  \n",
       "\n",
       "[5 rows x 63 columns]"
      ]
     },
     "execution_count": 27,
     "metadata": {},
     "output_type": "execute_result"
    }
   ],
   "source": [
    "df.head()"
   ]
  },
  {
   "cell_type": "code",
   "execution_count": 28,
   "id": "3c83f881",
   "metadata": {},
   "outputs": [
    {
     "data": {
      "text/plain": [
       "(6837, 63)"
      ]
     },
     "execution_count": 28,
     "metadata": {},
     "output_type": "execute_result"
    }
   ],
   "source": [
    "df.shape"
   ]
  },
  {
   "cell_type": "code",
   "execution_count": 29,
   "id": "0b47cc75",
   "metadata": {
    "scrolled": true
   },
   "outputs": [
    {
     "data": {
      "text/plain": [
       "['KD_fighter',\n",
       " 'SUB.ATT_fighter',\n",
       " 'REV._fighter',\n",
       " 'CTRL_fighter',\n",
       " 'SIG.STR._landed_fighter',\n",
       " 'SIG.STR._attemps_fighter',\n",
       " 'TOTAL STR._landed_fighter',\n",
       " 'TOTAL STR._attemps_fighter',\n",
       " 'TD_landed_fighter',\n",
       " 'TD_attemps_fighter',\n",
       " 'HEAD_landed_fighter',\n",
       " 'HEAD_attemps_fighter',\n",
       " 'BODY_landed_fighter',\n",
       " 'BODY_attemps_fighter',\n",
       " 'LEG_landed_fighter',\n",
       " 'LEG_attemps_fighter',\n",
       " 'DISTANCE_landed_fighter',\n",
       " 'DISTANCE_attemps_fighter',\n",
       " 'CLINCH_landed_fighter',\n",
       " 'CLINCH_attemps_fighter',\n",
       " 'GROUND_landed_fighter',\n",
       " 'GROUND_attemps_fighter',\n",
       " 'KD_opponent',\n",
       " 'SUB.ATT_opponent',\n",
       " 'REV._opponent',\n",
       " 'CTRL_opponent',\n",
       " 'SIG.STR._landed_opponent',\n",
       " 'SIG.STR._attemps_opponent',\n",
       " 'TOTAL STR._landed_opponent',\n",
       " 'TOTAL STR._attemps_opponent',\n",
       " 'TD_landed_opponent',\n",
       " 'TD_attemps_opponent',\n",
       " 'HEAD_landed_opponent',\n",
       " 'HEAD_attemps_opponent',\n",
       " 'BODY_landed_opponent',\n",
       " 'BODY_attemps_opponent',\n",
       " 'LEG_landed_opponent',\n",
       " 'LEG_attemps_opponent',\n",
       " 'DISTANCE_landed_opponent',\n",
       " 'DISTANCE_attemps_opponent',\n",
       " 'CLINCH_landed_opponent',\n",
       " 'CLINCH_attemps_opponent',\n",
       " 'GROUND_landed_opponent',\n",
       " 'GROUND_attemps_opponent']"
      ]
     },
     "execution_count": 29,
     "metadata": {},
     "output_type": "execute_result"
    }
   ],
   "source": [
    "df.columns.tolist()[19:]"
   ]
  },
  {
   "cell_type": "code",
   "execution_count": 30,
   "id": "1bf9b2da",
   "metadata": {},
   "outputs": [],
   "source": [
    "df = df.merge(df[['EVENT', 'BOUT', 'FIGHTER']+df.columns.tolist()[15:]] ,how='left', left_on=['EVENT', 'BOUT', 'OPPONENT'], right_on=['EVENT', 'BOUT', 'FIGHTER'], suffixes=('_f1', '_f2'))"
   ]
  },
  {
   "cell_type": "code",
   "execution_count": 31,
   "id": "c8ce78f8",
   "metadata": {},
   "outputs": [
    {
     "name": "stdout",
     "output_type": "stream",
     "text": [
      "<class 'pandas.core.frame.DataFrame'>\n",
      "Int64Index: 6837 entries, 0 to 6836\n",
      "Data columns (total 112 columns):\n",
      " #    Column                          Non-Null Count  Dtype  \n",
      "---   ------                          --------------  -----  \n",
      " 0    EVENT                           6837 non-null   object \n",
      " 1    BOUT                            6837 non-null   object \n",
      " 2    FIGHTER_f1                      6837 non-null   object \n",
      " 3    OPPONENT                        6837 non-null   object \n",
      " 4    METHOD                          6837 non-null   object \n",
      " 5    Win                             6837 non-null   int64  \n",
      " 6    Women_fight                     6837 non-null   int64  \n",
      " 7    ROUND                           6837 non-null   int64  \n",
      " 8    HEIGHT_diff                     6837 non-null   float64\n",
      " 9    REACH_diff                      6837 non-null   float64\n",
      " 10   AGE_diff                        6837 non-null   float64\n",
      " 11   form_skore_fighter              6837 non-null   float64\n",
      " 12   form_skore_opponent             6837 non-null   float64\n",
      " 13   fightNo_fighter                 6837 non-null   int64  \n",
      " 14   fightNo_opponent                6837 non-null   float64\n",
      " 15   Win_tot_f1                      6837 non-null   float64\n",
      " 16   DRAW_f1                         6837 non-null   float64\n",
      " 17   No_contest_f1                   6837 non-null   float64\n",
      " 18   TotalTime_f1                    6837 non-null   float64\n",
      " 19   KD_fighter_f1                   6837 non-null   float64\n",
      " 20   SUB.ATT_fighter_f1              6837 non-null   float64\n",
      " 21   REV._fighter_f1                 6837 non-null   float64\n",
      " 22   CTRL_fighter_f1                 6837 non-null   float64\n",
      " 23   SIG.STR._landed_fighter_f1      6837 non-null   float64\n",
      " 24   SIG.STR._attemps_fighter_f1     6837 non-null   float64\n",
      " 25   TOTAL STR._landed_fighter_f1    6837 non-null   float64\n",
      " 26   TOTAL STR._attemps_fighter_f1   6837 non-null   float64\n",
      " 27   TD_landed_fighter_f1            6837 non-null   float64\n",
      " 28   TD_attemps_fighter_f1           6837 non-null   float64\n",
      " 29   HEAD_landed_fighter_f1          6837 non-null   float64\n",
      " 30   HEAD_attemps_fighter_f1         6837 non-null   float64\n",
      " 31   BODY_landed_fighter_f1          6837 non-null   float64\n",
      " 32   BODY_attemps_fighter_f1         6837 non-null   float64\n",
      " 33   LEG_landed_fighter_f1           6837 non-null   float64\n",
      " 34   LEG_attemps_fighter_f1          6837 non-null   float64\n",
      " 35   DISTANCE_landed_fighter_f1      6837 non-null   float64\n",
      " 36   DISTANCE_attemps_fighter_f1     6837 non-null   float64\n",
      " 37   CLINCH_landed_fighter_f1        6837 non-null   float64\n",
      " 38   CLINCH_attemps_fighter_f1       6837 non-null   float64\n",
      " 39   GROUND_landed_fighter_f1        6837 non-null   float64\n",
      " 40   GROUND_attemps_fighter_f1       6837 non-null   float64\n",
      " 41   KD_opponent_f1                  6837 non-null   float64\n",
      " 42   SUB.ATT_opponent_f1             6837 non-null   float64\n",
      " 43   REV._opponent_f1                6837 non-null   float64\n",
      " 44   CTRL_opponent_f1                6837 non-null   float64\n",
      " 45   SIG.STR._landed_opponent_f1     6837 non-null   float64\n",
      " 46   SIG.STR._attemps_opponent_f1    6837 non-null   float64\n",
      " 47   TOTAL STR._landed_opponent_f1   6837 non-null   float64\n",
      " 48   TOTAL STR._attemps_opponent_f1  6837 non-null   float64\n",
      " 49   TD_landed_opponent_f1           6837 non-null   float64\n",
      " 50   TD_attemps_opponent_f1          6837 non-null   float64\n",
      " 51   HEAD_landed_opponent_f1         6837 non-null   float64\n",
      " 52   HEAD_attemps_opponent_f1        6837 non-null   float64\n",
      " 53   BODY_landed_opponent_f1         6837 non-null   float64\n",
      " 54   BODY_attemps_opponent_f1        6837 non-null   float64\n",
      " 55   LEG_landed_opponent_f1          6837 non-null   float64\n",
      " 56   LEG_attemps_opponent_f1         6837 non-null   float64\n",
      " 57   DISTANCE_landed_opponent_f1     6837 non-null   float64\n",
      " 58   DISTANCE_attemps_opponent_f1    6837 non-null   float64\n",
      " 59   CLINCH_landed_opponent_f1       6837 non-null   float64\n",
      " 60   CLINCH_attemps_opponent_f1      6837 non-null   float64\n",
      " 61   GROUND_landed_opponent_f1       6837 non-null   float64\n",
      " 62   GROUND_attemps_opponent_f1      6837 non-null   float64\n",
      " 63   FIGHTER_f2                      6836 non-null   object \n",
      " 64   Win_tot_f2                      6836 non-null   float64\n",
      " 65   DRAW_f2                         6836 non-null   float64\n",
      " 66   No_contest_f2                   6836 non-null   float64\n",
      " 67   TotalTime_f2                    6836 non-null   float64\n",
      " 68   KD_fighter_f2                   6836 non-null   float64\n",
      " 69   SUB.ATT_fighter_f2              6836 non-null   float64\n",
      " 70   REV._fighter_f2                 6836 non-null   float64\n",
      " 71   CTRL_fighter_f2                 6836 non-null   float64\n",
      " 72   SIG.STR._landed_fighter_f2      6836 non-null   float64\n",
      " 73   SIG.STR._attemps_fighter_f2     6836 non-null   float64\n",
      " 74   TOTAL STR._landed_fighter_f2    6836 non-null   float64\n",
      " 75   TOTAL STR._attemps_fighter_f2   6836 non-null   float64\n",
      " 76   TD_landed_fighter_f2            6836 non-null   float64\n",
      " 77   TD_attemps_fighter_f2           6836 non-null   float64\n",
      " 78   HEAD_landed_fighter_f2          6836 non-null   float64\n",
      " 79   HEAD_attemps_fighter_f2         6836 non-null   float64\n",
      " 80   BODY_landed_fighter_f2          6836 non-null   float64\n",
      " 81   BODY_attemps_fighter_f2         6836 non-null   float64\n",
      " 82   LEG_landed_fighter_f2           6836 non-null   float64\n",
      " 83   LEG_attemps_fighter_f2          6836 non-null   float64\n",
      " 84   DISTANCE_landed_fighter_f2      6836 non-null   float64\n",
      " 85   DISTANCE_attemps_fighter_f2     6836 non-null   float64\n",
      " 86   CLINCH_landed_fighter_f2        6836 non-null   float64\n",
      " 87   CLINCH_attemps_fighter_f2       6836 non-null   float64\n",
      " 88   GROUND_landed_fighter_f2        6836 non-null   float64\n",
      " 89   GROUND_attemps_fighter_f2       6836 non-null   float64\n",
      " 90   KD_opponent_f2                  6836 non-null   float64\n",
      " 91   SUB.ATT_opponent_f2             6836 non-null   float64\n",
      " 92   REV._opponent_f2                6836 non-null   float64\n",
      " 93   CTRL_opponent_f2                6836 non-null   float64\n",
      " 94   SIG.STR._landed_opponent_f2     6836 non-null   float64\n",
      " 95   SIG.STR._attemps_opponent_f2    6836 non-null   float64\n",
      " 96   TOTAL STR._landed_opponent_f2   6836 non-null   float64\n",
      " 97   TOTAL STR._attemps_opponent_f2  6836 non-null   float64\n",
      " 98   TD_landed_opponent_f2           6836 non-null   float64\n",
      " 99   TD_attemps_opponent_f2          6836 non-null   float64\n",
      " 100  HEAD_landed_opponent_f2         6836 non-null   float64\n",
      " 101  HEAD_attemps_opponent_f2        6836 non-null   float64\n",
      " 102  BODY_landed_opponent_f2         6836 non-null   float64\n",
      " 103  BODY_attemps_opponent_f2        6836 non-null   float64\n",
      " 104  LEG_landed_opponent_f2          6836 non-null   float64\n",
      " 105  LEG_attemps_opponent_f2         6836 non-null   float64\n",
      " 106  DISTANCE_landed_opponent_f2     6836 non-null   float64\n",
      " 107  DISTANCE_attemps_opponent_f2    6836 non-null   float64\n",
      " 108  CLINCH_landed_opponent_f2       6836 non-null   float64\n",
      " 109  CLINCH_attemps_opponent_f2      6836 non-null   float64\n",
      " 110  GROUND_landed_opponent_f2       6836 non-null   float64\n",
      " 111  GROUND_attemps_opponent_f2      6836 non-null   float64\n",
      "dtypes: float64(102), int64(4), object(6)\n",
      "memory usage: 5.9+ MB\n"
     ]
    }
   ],
   "source": [
    "df.info(verbose=True, show_counts=True)"
   ]
  },
  {
   "cell_type": "code",
   "execution_count": 32,
   "id": "e911a19b",
   "metadata": {},
   "outputs": [],
   "source": [
    "df = df.drop('FIGHTER_f2',axis=1)"
   ]
  },
  {
   "cell_type": "code",
   "execution_count": 33,
   "id": "1458353b",
   "metadata": {},
   "outputs": [
    {
     "data": {
      "text/plain": [
       "['LEG', 'attemps', 'fighter', 'f1']"
      ]
     },
     "execution_count": 33,
     "metadata": {},
     "output_type": "execute_result"
    }
   ],
   "source": [
    "'LEG_attemps_fighter_f1'.split('_')"
   ]
  },
  {
   "cell_type": "code",
   "execution_count": 34,
   "id": "6ec0d15a",
   "metadata": {},
   "outputs": [],
   "source": [
    "sloupce1 = df.columns.tolist()[19:]\n",
    "vynechat = ['Win_tot_f2', 'DRAW_f2','No_contest_f2']\n",
    "sloupce = [x for x in sloupce1 if x not in vynechat]\n",
    "for sloupec in sloupce:    \n",
    "    splited = sloupec.split('_')\n",
    "    if 'CTRL' in splited:\n",
    "        df.loc[:,splited[0]+'_pct_'+splited[1]+splited[2]] = df[sloupec]/df['TotalTime'+'_'+splited[2]]\n",
    "    if 'attemps' in splited:\n",
    "        df.loc[:,splited[0]+'_acc_'+ splited[2] + splited[3]] = df[sloupec.replace('attemps', 'landed')]/df[sloupec]\n",
    "        df.loc[:,splited[0]+'_perRound_'+ splited[2] + splited[3]] = (df[sloupec.replace('attemps', 'landed')]/df['TotalTime'+'_'+splited[3]])*300\n",
    "        \n",
    "    "
   ]
  },
  {
   "cell_type": "code",
   "execution_count": 35,
   "id": "2417f114",
   "metadata": {},
   "outputs": [
    {
     "data": {
      "text/html": [
       "<div>\n",
       "<style scoped>\n",
       "    .dataframe tbody tr th:only-of-type {\n",
       "        vertical-align: middle;\n",
       "    }\n",
       "\n",
       "    .dataframe tbody tr th {\n",
       "        vertical-align: top;\n",
       "    }\n",
       "\n",
       "    .dataframe thead th {\n",
       "        text-align: right;\n",
       "    }\n",
       "</style>\n",
       "<table border=\"1\" class=\"dataframe\">\n",
       "  <thead>\n",
       "    <tr style=\"text-align: right;\">\n",
       "      <th></th>\n",
       "      <th>EVENT</th>\n",
       "      <th>BOUT</th>\n",
       "      <th>FIGHTER_f1</th>\n",
       "      <th>OPPONENT</th>\n",
       "      <th>METHOD</th>\n",
       "    </tr>\n",
       "  </thead>\n",
       "  <tbody>\n",
       "    <tr>\n",
       "      <th>0</th>\n",
       "      <td>UFC 2: No Way Out</td>\n",
       "      <td>Royce Gracie vs. Patrick Smith</td>\n",
       "      <td>Patrick Smith</td>\n",
       "      <td>Royce Gracie</td>\n",
       "      <td>KO/TKO - ground</td>\n",
       "    </tr>\n",
       "    <tr>\n",
       "      <th>1</th>\n",
       "      <td>UFC 2: No Way Out</td>\n",
       "      <td>Royce Gracie vs. Patrick Smith</td>\n",
       "      <td>Royce Gracie</td>\n",
       "      <td>Patrick Smith</td>\n",
       "      <td>KO/TKO - ground</td>\n",
       "    </tr>\n",
       "    <tr>\n",
       "      <th>2</th>\n",
       "      <td>UFC 2: No Way Out</td>\n",
       "      <td>Royce Gracie vs. Remco Pardoel</td>\n",
       "      <td>Remco Pardoel</td>\n",
       "      <td>Royce Gracie</td>\n",
       "      <td>Submission</td>\n",
       "    </tr>\n",
       "    <tr>\n",
       "      <th>3</th>\n",
       "      <td>UFC 2: No Way Out</td>\n",
       "      <td>Royce Gracie vs. Remco Pardoel</td>\n",
       "      <td>Royce Gracie</td>\n",
       "      <td>Remco Pardoel</td>\n",
       "      <td>Submission</td>\n",
       "    </tr>\n",
       "    <tr>\n",
       "      <th>4</th>\n",
       "      <td>UFC 4: Revenge of the Warriors</td>\n",
       "      <td>Royce Gracie vs. Dan Severn</td>\n",
       "      <td>Dan Severn</td>\n",
       "      <td>Royce Gracie</td>\n",
       "      <td>Submission</td>\n",
       "    </tr>\n",
       "    <tr>\n",
       "      <th>...</th>\n",
       "      <td>...</td>\n",
       "      <td>...</td>\n",
       "      <td>...</td>\n",
       "      <td>...</td>\n",
       "      <td>...</td>\n",
       "    </tr>\n",
       "    <tr>\n",
       "      <th>6832</th>\n",
       "      <td>UFC 283: Teixeira vs. Hill</td>\n",
       "      <td>Paul Craig vs. Johnny Walker</td>\n",
       "      <td>Paul Craig</td>\n",
       "      <td>Johnny Walker</td>\n",
       "      <td>KO/TKO - clinch</td>\n",
       "    </tr>\n",
       "    <tr>\n",
       "      <th>6833</th>\n",
       "      <td>UFC 283: Teixeira vs. Hill</td>\n",
       "      <td>Shamil Abdurakhimov vs. Jailton Almeida</td>\n",
       "      <td>Jailton Almeida</td>\n",
       "      <td>Shamil Abdurakhimov</td>\n",
       "      <td>KO/TKO - ground</td>\n",
       "    </tr>\n",
       "    <tr>\n",
       "      <th>6834</th>\n",
       "      <td>UFC 283: Teixeira vs. Hill</td>\n",
       "      <td>Shamil Abdurakhimov vs. Jailton Almeida</td>\n",
       "      <td>Shamil Abdurakhimov</td>\n",
       "      <td>Jailton Almeida</td>\n",
       "      <td>KO/TKO - ground</td>\n",
       "    </tr>\n",
       "    <tr>\n",
       "      <th>6835</th>\n",
       "      <td>UFC 283: Teixeira vs. Hill</td>\n",
       "      <td>Warlley Alves vs. Nicolas Dalby</td>\n",
       "      <td>Nicolas Dalby</td>\n",
       "      <td>Warlley Alves</td>\n",
       "      <td>Decision</td>\n",
       "    </tr>\n",
       "    <tr>\n",
       "      <th>6836</th>\n",
       "      <td>UFC 283: Teixeira vs. Hill</td>\n",
       "      <td>Warlley Alves vs. Nicolas Dalby</td>\n",
       "      <td>Warlley Alves</td>\n",
       "      <td>Nicolas Dalby</td>\n",
       "      <td>Decision</td>\n",
       "    </tr>\n",
       "  </tbody>\n",
       "</table>\n",
       "<p>6837 rows × 5 columns</p>\n",
       "</div>"
      ],
      "text/plain": [
       "                               EVENT                                     BOUT  \\\n",
       "0                  UFC 2: No Way Out           Royce Gracie vs. Patrick Smith   \n",
       "1                  UFC 2: No Way Out           Royce Gracie vs. Patrick Smith   \n",
       "2                  UFC 2: No Way Out           Royce Gracie vs. Remco Pardoel   \n",
       "3                  UFC 2: No Way Out           Royce Gracie vs. Remco Pardoel   \n",
       "4     UFC 4: Revenge of the Warriors              Royce Gracie vs. Dan Severn   \n",
       "...                              ...                                      ...   \n",
       "6832      UFC 283: Teixeira vs. Hill             Paul Craig vs. Johnny Walker   \n",
       "6833      UFC 283: Teixeira vs. Hill  Shamil Abdurakhimov vs. Jailton Almeida   \n",
       "6834      UFC 283: Teixeira vs. Hill  Shamil Abdurakhimov vs. Jailton Almeida   \n",
       "6835      UFC 283: Teixeira vs. Hill          Warlley Alves vs. Nicolas Dalby   \n",
       "6836      UFC 283: Teixeira vs. Hill          Warlley Alves vs. Nicolas Dalby   \n",
       "\n",
       "               FIGHTER_f1             OPPONENT           METHOD  \n",
       "0           Patrick Smith         Royce Gracie  KO/TKO - ground  \n",
       "1            Royce Gracie        Patrick Smith  KO/TKO - ground  \n",
       "2           Remco Pardoel         Royce Gracie       Submission  \n",
       "3            Royce Gracie        Remco Pardoel       Submission  \n",
       "4              Dan Severn         Royce Gracie       Submission  \n",
       "...                   ...                  ...              ...  \n",
       "6832           Paul Craig        Johnny Walker  KO/TKO - clinch  \n",
       "6833      Jailton Almeida  Shamil Abdurakhimov  KO/TKO - ground  \n",
       "6834  Shamil Abdurakhimov      Jailton Almeida  KO/TKO - ground  \n",
       "6835        Nicolas Dalby        Warlley Alves         Decision  \n",
       "6836        Warlley Alves        Nicolas Dalby         Decision  \n",
       "\n",
       "[6837 rows x 5 columns]"
      ]
     },
     "execution_count": 35,
     "metadata": {},
     "output_type": "execute_result"
    }
   ],
   "source": [
    "df.iloc[:,:5]"
   ]
  },
  {
   "cell_type": "code",
   "execution_count": 36,
   "id": "4e6956bf",
   "metadata": {},
   "outputs": [],
   "source": [
    "df = df.drop(sloupce, axis=1)"
   ]
  },
  {
   "cell_type": "code",
   "execution_count": 37,
   "id": "eefa5d15",
   "metadata": {},
   "outputs": [],
   "source": [
    "df_model = df.drop(['EVENT','BOUT','FIGHTER_f1','OPPONENT','METHOD','Women_fight','ROUND','TotalTime_f1'],axis=1)"
   ]
  },
  {
   "cell_type": "code",
   "execution_count": 38,
   "id": "9b03af1f",
   "metadata": {},
   "outputs": [
    {
     "name": "stdout",
     "output_type": "stream",
     "text": [
      "<class 'pandas.core.frame.DataFrame'>\n",
      "Int64Index: 6837 entries, 0 to 6836\n",
      "Data columns (total 90 columns):\n",
      " #   Column                          Non-Null Count  Dtype  \n",
      "---  ------                          --------------  -----  \n",
      " 0   Win                             6837 non-null   int64  \n",
      " 1   HEIGHT_diff                     6837 non-null   float64\n",
      " 2   REACH_diff                      6837 non-null   float64\n",
      " 3   AGE_diff                        6837 non-null   float64\n",
      " 4   form_skore_fighter              6837 non-null   float64\n",
      " 5   form_skore_opponent             6837 non-null   float64\n",
      " 6   fightNo_fighter                 6837 non-null   int64  \n",
      " 7   fightNo_opponent                6837 non-null   float64\n",
      " 8   Win_tot_f1                      6837 non-null   float64\n",
      " 9   DRAW_f1                         6837 non-null   float64\n",
      " 10  No_contest_f1                   6837 non-null   float64\n",
      " 11  Win_tot_f2                      6837 non-null   float64\n",
      " 12  DRAW_f2                         6837 non-null   float64\n",
      " 13  No_contest_f2                   6837 non-null   float64\n",
      " 14  CTRL_pct_fighterf1              6837 non-null   float64\n",
      " 15  SIG.STR._acc_fighterf1          6837 non-null   float64\n",
      " 16  SIG.STR._perRound_fighterf1     6837 non-null   float64\n",
      " 17  TOTAL STR._acc_fighterf1        6837 non-null   float64\n",
      " 18  TOTAL STR._perRound_fighterf1   6837 non-null   float64\n",
      " 19  TD_acc_fighterf1                6837 non-null   float64\n",
      " 20  TD_perRound_fighterf1           6837 non-null   float64\n",
      " 21  HEAD_acc_fighterf1              6837 non-null   float64\n",
      " 22  HEAD_perRound_fighterf1         6837 non-null   float64\n",
      " 23  BODY_acc_fighterf1              6837 non-null   float64\n",
      " 24  BODY_perRound_fighterf1         6837 non-null   float64\n",
      " 25  LEG_acc_fighterf1               6837 non-null   float64\n",
      " 26  LEG_perRound_fighterf1          6837 non-null   float64\n",
      " 27  DISTANCE_acc_fighterf1          6837 non-null   float64\n",
      " 28  DISTANCE_perRound_fighterf1     6837 non-null   float64\n",
      " 29  CLINCH_acc_fighterf1            6837 non-null   float64\n",
      " 30  CLINCH_perRound_fighterf1       6837 non-null   float64\n",
      " 31  GROUND_acc_fighterf1            6837 non-null   float64\n",
      " 32  GROUND_perRound_fighterf1       6837 non-null   float64\n",
      " 33  CTRL_pct_opponentf1             6837 non-null   float64\n",
      " 34  SIG.STR._acc_opponentf1         6837 non-null   float64\n",
      " 35  SIG.STR._perRound_opponentf1    6837 non-null   float64\n",
      " 36  TOTAL STR._acc_opponentf1       6837 non-null   float64\n",
      " 37  TOTAL STR._perRound_opponentf1  6837 non-null   float64\n",
      " 38  TD_acc_opponentf1               6837 non-null   float64\n",
      " 39  TD_perRound_opponentf1          6837 non-null   float64\n",
      " 40  HEAD_acc_opponentf1             6837 non-null   float64\n",
      " 41  HEAD_perRound_opponentf1        6837 non-null   float64\n",
      " 42  BODY_acc_opponentf1             6837 non-null   float64\n",
      " 43  BODY_perRound_opponentf1        6837 non-null   float64\n",
      " 44  LEG_acc_opponentf1              6837 non-null   float64\n",
      " 45  LEG_perRound_opponentf1         6837 non-null   float64\n",
      " 46  DISTANCE_acc_opponentf1         6837 non-null   float64\n",
      " 47  DISTANCE_perRound_opponentf1    6837 non-null   float64\n",
      " 48  CLINCH_acc_opponentf1           6837 non-null   float64\n",
      " 49  CLINCH_perRound_opponentf1      6837 non-null   float64\n",
      " 50  GROUND_acc_opponentf1           6837 non-null   float64\n",
      " 51  GROUND_perRound_opponentf1      6837 non-null   float64\n",
      " 52  CTRL_pct_fighterf2              6837 non-null   float64\n",
      " 53  SIG.STR._acc_fighterf2          6837 non-null   float64\n",
      " 54  SIG.STR._perRound_fighterf2     6837 non-null   float64\n",
      " 55  TOTAL STR._acc_fighterf2        6837 non-null   float64\n",
      " 56  TOTAL STR._perRound_fighterf2   6837 non-null   float64\n",
      " 57  TD_acc_fighterf2                6837 non-null   float64\n",
      " 58  TD_perRound_fighterf2           6837 non-null   float64\n",
      " 59  HEAD_acc_fighterf2              6837 non-null   float64\n",
      " 60  HEAD_perRound_fighterf2         6837 non-null   float64\n",
      " 61  BODY_acc_fighterf2              6837 non-null   float64\n",
      " 62  BODY_perRound_fighterf2         6837 non-null   float64\n",
      " 63  LEG_acc_fighterf2               6837 non-null   float64\n",
      " 64  LEG_perRound_fighterf2          6837 non-null   float64\n",
      " 65  DISTANCE_acc_fighterf2          6837 non-null   float64\n",
      " 66  DISTANCE_perRound_fighterf2     6837 non-null   float64\n",
      " 67  CLINCH_acc_fighterf2            6837 non-null   float64\n",
      " 68  CLINCH_perRound_fighterf2       6837 non-null   float64\n",
      " 69  GROUND_acc_fighterf2            6837 non-null   float64\n",
      " 70  GROUND_perRound_fighterf2       6837 non-null   float64\n",
      " 71  CTRL_pct_opponentf2             6837 non-null   float64\n",
      " 72  SIG.STR._acc_opponentf2         6837 non-null   float64\n",
      " 73  SIG.STR._perRound_opponentf2    6837 non-null   float64\n",
      " 74  TOTAL STR._acc_opponentf2       6837 non-null   float64\n",
      " 75  TOTAL STR._perRound_opponentf2  6837 non-null   float64\n",
      " 76  TD_acc_opponentf2               6837 non-null   float64\n",
      " 77  TD_perRound_opponentf2          6837 non-null   float64\n",
      " 78  HEAD_acc_opponentf2             6837 non-null   float64\n",
      " 79  HEAD_perRound_opponentf2        6837 non-null   float64\n",
      " 80  BODY_acc_opponentf2             6837 non-null   float64\n",
      " 81  BODY_perRound_opponentf2        6837 non-null   float64\n",
      " 82  LEG_acc_opponentf2              6837 non-null   float64\n",
      " 83  LEG_perRound_opponentf2         6837 non-null   float64\n",
      " 84  DISTANCE_acc_opponentf2         6837 non-null   float64\n",
      " 85  DISTANCE_perRound_opponentf2    6837 non-null   float64\n",
      " 86  CLINCH_acc_opponentf2           6837 non-null   float64\n",
      " 87  CLINCH_perRound_opponentf2      6837 non-null   float64\n",
      " 88  GROUND_acc_opponentf2           6837 non-null   float64\n",
      " 89  GROUND_perRound_opponentf2      6837 non-null   float64\n",
      "dtypes: float64(88), int64(2)\n",
      "memory usage: 4.7 MB\n"
     ]
    }
   ],
   "source": [
    "df_model = df_model.fillna(0)\n",
    "df_model.info()"
   ]
  },
  {
   "cell_type": "code",
   "execution_count": 39,
   "id": "8ddca72b",
   "metadata": {},
   "outputs": [
    {
     "name": "stdout",
     "output_type": "stream",
     "text": [
      "0.5888888888888889 0.5888888888888889\n"
     ]
    }
   ],
   "source": [
    "X=df_model.loc[:, ~df_model.columns.isin(['Win'])]\n",
    "y=df_model['Win']\n",
    "scaler = StandardScaler()\n",
    "X_scaled = scaler.fit_transform(X)\n",
    "X_train, X_test, y_train, y_test = train_test_split(X_scaled, y, random_state = 0)\n",
    "from sklearn.linear_model import LogisticRegression\n",
    "logreg=LogisticRegression(max_iter=50000)\n",
    "logreg.fit(X_train,y_train)\n",
    "predictions = logreg.predict(X_test)\n",
    "acc = accuracy_score(y_test, predictions) \n",
    "f1 = f1_score(y_test, predictions,average='micro')\n",
    "print(f1, acc)"
   ]
  },
  {
   "cell_type": "code",
   "execution_count": 40,
   "id": "f6fc0f16",
   "metadata": {},
   "outputs": [
    {
     "name": "stdout",
     "output_type": "stream",
     "text": [
      "(6637, 200, 89)\n",
      "Epoch 1/100\n",
      "166/166 [==============================] - 23s 120ms/step - loss: 0.7005 - accuracy: 0.4971 - val_loss: 0.6923 - val_accuracy: 0.5053\n",
      "Epoch 2/100\n",
      "166/166 [==============================] - 22s 135ms/step - loss: 0.6945 - accuracy: 0.5105 - val_loss: 0.6917 - val_accuracy: 0.5075\n",
      "Epoch 3/100\n",
      "166/166 [==============================] - 22s 130ms/step - loss: 0.6928 - accuracy: 0.5174 - val_loss: 0.6918 - val_accuracy: 0.5068\n",
      "Epoch 4/100\n",
      "166/166 [==============================] - 18s 108ms/step - loss: 0.6912 - accuracy: 0.5218 - val_loss: 0.6885 - val_accuracy: 0.5542\n",
      "Epoch 5/100\n",
      "166/166 [==============================] - 18s 107ms/step - loss: 0.6892 - accuracy: 0.5363 - val_loss: 0.6912 - val_accuracy: 0.5271\n",
      "Epoch 6/100\n",
      "166/166 [==============================] - 16s 95ms/step - loss: 0.6886 - accuracy: 0.5370 - val_loss: 0.6859 - val_accuracy: 0.5392\n",
      "Epoch 7/100\n",
      "166/166 [==============================] - 16s 99ms/step - loss: 0.6866 - accuracy: 0.5464 - val_loss: 0.6855 - val_accuracy: 0.5399\n",
      "Epoch 8/100\n",
      "166/166 [==============================] - 16s 99ms/step - loss: 0.6859 - accuracy: 0.5461 - val_loss: 0.6860 - val_accuracy: 0.5429\n",
      "Epoch 9/100\n",
      "166/166 [==============================] - 16s 94ms/step - loss: 0.6837 - accuracy: 0.5506 - val_loss: 0.6885 - val_accuracy: 0.5467\n",
      "Epoch 10/100\n",
      "166/166 [==============================] - 16s 94ms/step - loss: 0.6836 - accuracy: 0.5606 - val_loss: 0.6877 - val_accuracy: 0.5497\n",
      "Epoch 11/100\n",
      "166/166 [==============================] - 15s 92ms/step - loss: 0.6821 - accuracy: 0.5596 - val_loss: 0.6884 - val_accuracy: 0.5512\n",
      "Epoch 12/100\n",
      "166/166 [==============================] - 15s 93ms/step - loss: 0.6805 - accuracy: 0.5679 - val_loss: 0.6876 - val_accuracy: 0.5324\n",
      "Epoch 13/100\n",
      "166/166 [==============================] - 16s 98ms/step - loss: 0.6792 - accuracy: 0.5760 - val_loss: 0.6887 - val_accuracy: 0.5429\n",
      "Epoch 14/100\n",
      "166/166 [==============================] - 15s 91ms/step - loss: 0.6786 - accuracy: 0.5643 - val_loss: 0.6940 - val_accuracy: 0.5444\n",
      "Epoch 15/100\n",
      "166/166 [==============================] - 16s 94ms/step - loss: 0.6780 - accuracy: 0.5679 - val_loss: 0.6932 - val_accuracy: 0.5324\n",
      "Epoch 16/100\n",
      "166/166 [==============================] - 16s 95ms/step - loss: 0.6769 - accuracy: 0.5694 - val_loss: 0.6909 - val_accuracy: 0.5256\n",
      "Epoch 17/100\n",
      "166/166 [==============================] - 16s 96ms/step - loss: 0.6762 - accuracy: 0.5762 - val_loss: 0.7016 - val_accuracy: 0.5399\n",
      "Epoch 18/100\n",
      "166/166 [==============================] - 15s 92ms/step - loss: 0.6754 - accuracy: 0.5747 - val_loss: 0.6939 - val_accuracy: 0.5339\n",
      "Epoch 19/100\n",
      "166/166 [==============================] - 15s 92ms/step - loss: 0.6731 - accuracy: 0.5828 - val_loss: 0.6970 - val_accuracy: 0.5399\n",
      "Epoch 20/100\n",
      "166/166 [==============================] - 15s 91ms/step - loss: 0.6732 - accuracy: 0.5835 - val_loss: 0.6937 - val_accuracy: 0.5512\n",
      "Epoch 21/100\n",
      "166/166 [==============================] - 15s 92ms/step - loss: 0.6713 - accuracy: 0.5924 - val_loss: 0.6947 - val_accuracy: 0.5264\n",
      "Epoch 22/100\n",
      "166/166 [==============================] - 16s 95ms/step - loss: 0.6711 - accuracy: 0.5858 - val_loss: 0.6931 - val_accuracy: 0.5309\n",
      "Epoch 23/100\n",
      "166/166 [==============================] - 16s 95ms/step - loss: 0.6697 - accuracy: 0.5894 - val_loss: 0.6942 - val_accuracy: 0.5211\n",
      "Epoch 24/100\n",
      "166/166 [==============================] - 15s 93ms/step - loss: 0.6683 - accuracy: 0.5882 - val_loss: 0.6934 - val_accuracy: 0.5279\n",
      "Epoch 25/100\n",
      "166/166 [==============================] - 15s 90ms/step - loss: 0.6656 - accuracy: 0.5950 - val_loss: 0.6937 - val_accuracy: 0.5346\n",
      "Epoch 26/100\n",
      "166/166 [==============================] - 15s 93ms/step - loss: 0.6625 - accuracy: 0.5984 - val_loss: 0.6954 - val_accuracy: 0.5625\n",
      "Epoch 27/100\n",
      "166/166 [==============================] - 15s 92ms/step - loss: 0.6595 - accuracy: 0.6018 - val_loss: 0.6970 - val_accuracy: 0.5489\n",
      "Epoch 28/100\n",
      "166/166 [==============================] - 15s 93ms/step - loss: 0.6531 - accuracy: 0.6148 - val_loss: 0.7007 - val_accuracy: 0.5429\n",
      "Epoch 29/100\n",
      "166/166 [==============================] - 15s 93ms/step - loss: 0.6466 - accuracy: 0.6191 - val_loss: 0.7039 - val_accuracy: 0.5497\n",
      "Epoch 30/100\n",
      "166/166 [==============================] - 16s 96ms/step - loss: 0.6414 - accuracy: 0.6287 - val_loss: 0.6891 - val_accuracy: 0.5768\n",
      "Epoch 31/100\n",
      "166/166 [==============================] - 16s 94ms/step - loss: 0.6324 - accuracy: 0.6464 - val_loss: 0.6910 - val_accuracy: 0.5663\n",
      "Epoch 32/100\n",
      "166/166 [==============================] - 16s 98ms/step - loss: 0.6212 - accuracy: 0.6572 - val_loss: 0.6960 - val_accuracy: 0.5633\n",
      "Epoch 33/100\n",
      "166/166 [==============================] - 16s 96ms/step - loss: 0.6184 - accuracy: 0.6557 - val_loss: 0.6860 - val_accuracy: 0.5881\n",
      "Epoch 34/100\n",
      "166/166 [==============================] - 15s 92ms/step - loss: 0.6049 - accuracy: 0.6691 - val_loss: 0.6972 - val_accuracy: 0.5783\n",
      "Epoch 35/100\n",
      "166/166 [==============================] - 15s 91ms/step - loss: 0.5914 - accuracy: 0.6796 - val_loss: 0.6851 - val_accuracy: 0.5821\n",
      "Epoch 36/100\n",
      "166/166 [==============================] - 16s 94ms/step - loss: 0.5841 - accuracy: 0.6907 - val_loss: 0.6888 - val_accuracy: 0.5843\n",
      "Epoch 37/100\n",
      "166/166 [==============================] - 17s 101ms/step - loss: 0.5703 - accuracy: 0.7016 - val_loss: 0.6827 - val_accuracy: 0.6069\n",
      "Epoch 38/100\n",
      "166/166 [==============================] - 16s 96ms/step - loss: 0.5577 - accuracy: 0.7109 - val_loss: 0.6999 - val_accuracy: 0.6002\n",
      "Epoch 39/100\n",
      "166/166 [==============================] - 15s 92ms/step - loss: 0.5533 - accuracy: 0.7114 - val_loss: 0.7081 - val_accuracy: 0.6205\n",
      "Epoch 40/100\n",
      "166/166 [==============================] - 16s 94ms/step - loss: 0.5353 - accuracy: 0.7241 - val_loss: 0.7220 - val_accuracy: 0.6002\n",
      "Epoch 41/100\n",
      "166/166 [==============================] - 16s 99ms/step - loss: 0.5255 - accuracy: 0.7386 - val_loss: 0.6860 - val_accuracy: 0.6212\n",
      "Epoch 42/100\n",
      "166/166 [==============================] - 16s 95ms/step - loss: 0.5098 - accuracy: 0.7489 - val_loss: 0.6799 - val_accuracy: 0.6212\n",
      "Epoch 43/100\n",
      "166/166 [==============================] - 16s 94ms/step - loss: 0.4935 - accuracy: 0.7678 - val_loss: 0.6854 - val_accuracy: 0.6280\n",
      "Epoch 44/100\n",
      "166/166 [==============================] - 16s 95ms/step - loss: 0.4802 - accuracy: 0.7738 - val_loss: 0.6957 - val_accuracy: 0.6303\n",
      "Epoch 45/100\n",
      "166/166 [==============================] - 15s 92ms/step - loss: 0.4663 - accuracy: 0.7802 - val_loss: 0.7018 - val_accuracy: 0.6273\n",
      "Epoch 46/100\n",
      "166/166 [==============================] - 16s 94ms/step - loss: 0.4556 - accuracy: 0.7853 - val_loss: 0.7055 - val_accuracy: 0.6386\n",
      "Epoch 47/100\n",
      "166/166 [==============================] - 16s 98ms/step - loss: 0.4427 - accuracy: 0.7941 - val_loss: 0.7093 - val_accuracy: 0.6416\n",
      "Epoch 48/100\n",
      "166/166 [==============================] - 17s 100ms/step - loss: 0.4236 - accuracy: 0.8066 - val_loss: 0.7371 - val_accuracy: 0.6340\n",
      "Epoch 49/100\n",
      "166/166 [==============================] - 16s 94ms/step - loss: 0.4242 - accuracy: 0.8026 - val_loss: 0.7125 - val_accuracy: 0.6453\n",
      "Epoch 50/100\n",
      "166/166 [==============================] - 15s 93ms/step - loss: 0.3994 - accuracy: 0.8190 - val_loss: 0.7240 - val_accuracy: 0.6574\n",
      "Epoch 51/100\n",
      "166/166 [==============================] - 15s 93ms/step - loss: 0.3954 - accuracy: 0.8237 - val_loss: 0.7304 - val_accuracy: 0.6476\n",
      "Epoch 52/100\n",
      "166/166 [==============================] - 16s 95ms/step - loss: 0.3759 - accuracy: 0.8284 - val_loss: 0.7285 - val_accuracy: 0.6521\n",
      "Epoch 53/100\n",
      "166/166 [==============================] - 16s 94ms/step - loss: 0.3580 - accuracy: 0.8401 - val_loss: 0.7050 - val_accuracy: 0.6702\n",
      "Epoch 54/100\n",
      "166/166 [==============================] - 16s 95ms/step - loss: 0.3402 - accuracy: 0.8465 - val_loss: 0.7633 - val_accuracy: 0.6642\n",
      "Epoch 55/100\n",
      "166/166 [==============================] - 16s 96ms/step - loss: 0.3283 - accuracy: 0.8604 - val_loss: 0.7645 - val_accuracy: 0.6687\n",
      "Epoch 56/100\n",
      "166/166 [==============================] - 16s 94ms/step - loss: 0.3179 - accuracy: 0.8612 - val_loss: 0.7618 - val_accuracy: 0.6867\n",
      "Epoch 57/100\n"
     ]
    },
    {
     "name": "stdout",
     "output_type": "stream",
     "text": [
      "166/166 [==============================] - 15s 93ms/step - loss: 0.2992 - accuracy: 0.8723 - val_loss: 0.7466 - val_accuracy: 0.6822\n",
      "Epoch 58/100\n",
      "166/166 [==============================] - 16s 94ms/step - loss: 0.2772 - accuracy: 0.8853 - val_loss: 0.7836 - val_accuracy: 0.6792\n",
      "Epoch 59/100\n",
      "166/166 [==============================] - 16s 94ms/step - loss: 0.2789 - accuracy: 0.8889 - val_loss: 0.7499 - val_accuracy: 0.6770\n",
      "Epoch 60/100\n",
      "166/166 [==============================] - 16s 94ms/step - loss: 0.2542 - accuracy: 0.8981 - val_loss: 0.8000 - val_accuracy: 0.6965\n",
      "Epoch 61/100\n",
      "166/166 [==============================] - 15s 91ms/step - loss: 0.2518 - accuracy: 0.8994 - val_loss: 0.8072 - val_accuracy: 0.7011\n",
      "Epoch 62/100\n",
      "166/166 [==============================] - 15s 93ms/step - loss: 0.2427 - accuracy: 0.8998 - val_loss: 0.8179 - val_accuracy: 0.7026\n",
      "Epoch 63/100\n",
      "166/166 [==============================] - 16s 97ms/step - loss: 0.2141 - accuracy: 0.9164 - val_loss: 0.7983 - val_accuracy: 0.7176\n",
      "Epoch 64/100\n",
      "166/166 [==============================] - 16s 95ms/step - loss: 0.2079 - accuracy: 0.9177 - val_loss: 0.8054 - val_accuracy: 0.7078\n",
      "Epoch 65/100\n",
      "166/166 [==============================] - 16s 94ms/step - loss: 0.1910 - accuracy: 0.9277 - val_loss: 0.8381 - val_accuracy: 0.7056\n",
      "Epoch 66/100\n",
      "166/166 [==============================] - 15s 91ms/step - loss: 0.1792 - accuracy: 0.9312 - val_loss: 0.8356 - val_accuracy: 0.7199\n",
      "Epoch 67/100\n",
      "166/166 [==============================] - 16s 98ms/step - loss: 0.1743 - accuracy: 0.9292 - val_loss: 0.9001 - val_accuracy: 0.6988\n",
      "Epoch 68/100\n",
      "166/166 [==============================] - 17s 105ms/step - loss: 0.1684 - accuracy: 0.9331 - val_loss: 0.8796 - val_accuracy: 0.7131\n",
      "Epoch 69/100\n",
      "166/166 [==============================] - 16s 94ms/step - loss: 0.1578 - accuracy: 0.9388 - val_loss: 0.9132 - val_accuracy: 0.7154\n",
      "Epoch 70/100\n",
      "166/166 [==============================] - 17s 105ms/step - loss: 0.1536 - accuracy: 0.9405 - val_loss: 0.8300 - val_accuracy: 0.7229\n",
      "Epoch 71/100\n",
      "166/166 [==============================] - 16s 97ms/step - loss: 0.1308 - accuracy: 0.9518 - val_loss: 0.9358 - val_accuracy: 0.7327\n",
      "Epoch 72/100\n",
      "166/166 [==============================] - 15s 93ms/step - loss: 0.1265 - accuracy: 0.9535 - val_loss: 0.9694 - val_accuracy: 0.7214\n",
      "Epoch 73/100\n",
      "166/166 [==============================] - 16s 96ms/step - loss: 0.1157 - accuracy: 0.9520 - val_loss: 0.9411 - val_accuracy: 0.7199\n",
      "Epoch 74/100\n",
      "166/166 [==============================] - 15s 92ms/step - loss: 0.1128 - accuracy: 0.9591 - val_loss: 0.9405 - val_accuracy: 0.7297\n",
      "Epoch 75/100\n",
      "166/166 [==============================] - 16s 97ms/step - loss: 0.1135 - accuracy: 0.9565 - val_loss: 1.0086 - val_accuracy: 0.7078\n",
      "Epoch 76/100\n",
      "166/166 [==============================] - 16s 96ms/step - loss: 0.1087 - accuracy: 0.9593 - val_loss: 0.9344 - val_accuracy: 0.7425\n",
      "Epoch 77/100\n",
      "166/166 [==============================] - 16s 95ms/step - loss: 0.0884 - accuracy: 0.9676 - val_loss: 0.9762 - val_accuracy: 0.7477\n",
      "Epoch 78/100\n",
      "166/166 [==============================] - 16s 96ms/step - loss: 0.0694 - accuracy: 0.9768 - val_loss: 0.9696 - val_accuracy: 0.7410\n",
      "Epoch 79/100\n",
      "166/166 [==============================] - 16s 94ms/step - loss: 0.0862 - accuracy: 0.9672 - val_loss: 0.9294 - val_accuracy: 0.7447\n",
      "Epoch 80/100\n",
      "166/166 [==============================] - 15s 93ms/step - loss: 0.0885 - accuracy: 0.9684 - val_loss: 1.0508 - val_accuracy: 0.7372\n",
      "Epoch 81/100\n",
      "166/166 [==============================] - 16s 94ms/step - loss: 0.0830 - accuracy: 0.9693 - val_loss: 0.9901 - val_accuracy: 0.7447\n",
      "Epoch 82/100\n",
      "166/166 [==============================] - 16s 96ms/step - loss: 0.0711 - accuracy: 0.9727 - val_loss: 1.0484 - val_accuracy: 0.7455\n",
      "Epoch 83/100\n",
      "166/166 [==============================] - 16s 99ms/step - loss: 0.0703 - accuracy: 0.9757 - val_loss: 1.0439 - val_accuracy: 0.7455\n",
      "Epoch 84/100\n",
      "166/166 [==============================] - 17s 102ms/step - loss: 0.0471 - accuracy: 0.9847 - val_loss: 0.9916 - val_accuracy: 0.7538\n",
      "Epoch 85/100\n",
      "166/166 [==============================] - 16s 98ms/step - loss: 0.0532 - accuracy: 0.9815 - val_loss: 1.1084 - val_accuracy: 0.7470\n",
      "Epoch 86/100\n",
      "166/166 [==============================] - 15s 91ms/step - loss: 0.0677 - accuracy: 0.9759 - val_loss: 1.0786 - val_accuracy: 0.7485\n",
      "Epoch 87/100\n",
      "166/166 [==============================] - 15s 93ms/step - loss: 0.0671 - accuracy: 0.9763 - val_loss: 1.0318 - val_accuracy: 0.7485\n",
      "Epoch 88/100\n",
      "166/166 [==============================] - 16s 98ms/step - loss: 0.0507 - accuracy: 0.9812 - val_loss: 1.0951 - val_accuracy: 0.7500\n",
      "Epoch 89/100\n",
      "166/166 [==============================] - 20s 120ms/step - loss: 0.0640 - accuracy: 0.9753 - val_loss: 1.1219 - val_accuracy: 0.7485\n",
      "Epoch 90/100\n",
      "166/166 [==============================] - 21s 124ms/step - loss: 0.0503 - accuracy: 0.9819 - val_loss: 1.1443 - val_accuracy: 0.7357\n",
      "Epoch 91/100\n",
      "166/166 [==============================] - 20s 121ms/step - loss: 0.0465 - accuracy: 0.9861 - val_loss: 1.1328 - val_accuracy: 0.7545\n",
      "Epoch 92/100\n",
      "166/166 [==============================] - 17s 104ms/step - loss: 0.0488 - accuracy: 0.9832 - val_loss: 1.1073 - val_accuracy: 0.7568\n",
      "Epoch 93/100\n",
      "166/166 [==============================] - 18s 106ms/step - loss: 0.0579 - accuracy: 0.9819 - val_loss: 1.0354 - val_accuracy: 0.7583\n",
      "Epoch 94/100\n",
      "166/166 [==============================] - 16s 99ms/step - loss: 0.0543 - accuracy: 0.9800 - val_loss: 1.0969 - val_accuracy: 0.7598\n",
      "Epoch 95/100\n",
      "166/166 [==============================] - 17s 102ms/step - loss: 0.0382 - accuracy: 0.9868 - val_loss: 1.1083 - val_accuracy: 0.7553\n",
      "Epoch 96/100\n",
      "166/166 [==============================] - 18s 110ms/step - loss: 0.0313 - accuracy: 0.9917 - val_loss: 1.1459 - val_accuracy: 0.7560\n",
      "Epoch 97/100\n",
      "166/166 [==============================] - 17s 105ms/step - loss: 0.0287 - accuracy: 0.9911 - val_loss: 1.1673 - val_accuracy: 0.7658\n",
      "Epoch 98/100\n",
      "166/166 [==============================] - 16s 98ms/step - loss: 0.0258 - accuracy: 0.9919 - val_loss: 1.2264 - val_accuracy: 0.7703\n",
      "Epoch 99/100\n",
      "166/166 [==============================] - 16s 99ms/step - loss: 0.0581 - accuracy: 0.9783 - val_loss: 1.1426 - val_accuracy: 0.7492\n",
      "Epoch 100/100\n",
      "166/166 [==============================] - 16s 95ms/step - loss: 0.0646 - accuracy: 0.9755 - val_loss: 1.1810 - val_accuracy: 0.7410\n",
      "42/42 [==============================] - 1s 34ms/step - loss: 1.1810 - accuracy: 0.7410\n",
      "Test accuracy: 0.740963876247406\n"
     ]
    }
   ],
   "source": [
    "import pandas as pd\n",
    "from keras.layers import LSTM, Dense\n",
    "from keras.models import Sequential\n",
    "from sklearn.preprocessing import MinMaxScaler\n",
    "from sklearn.model_selection import train_test_split\n",
    "\n",
    "# načtení dat\n",
    "\n",
    "# definice lookback\n",
    "lookback = 200\n",
    "\n",
    "# převod dat na numpy array\n",
    "data = df_model.values\n",
    "scaler = MinMaxScaler(feature_range=(0, 1))\n",
    "data_scaled = scaler.fit_transform(data)\n",
    "\n",
    "# rozdělení dat na trénovací a testovací\n",
    "X = []\n",
    "y = []\n",
    "for i in range(lookback, len(data)):\n",
    "    X.append(data_scaled[i-lookback:i, 1:])\n",
    "    y.append(data_scaled[i, 0])\n",
    "X = np.array(X)\n",
    "y = np.array(y)\n",
    "print(X.shape)\n",
    "X_train, X_test, y_train, y_test = train_test_split(X, y, test_size=0.2)\n",
    "\n",
    "# vytvoření modelu\n",
    "model = Sequential()\n",
    "model.add(LSTM(units=100, input_shape=(lookback, data.shape[1]-1)))\n",
    "model.add(Dropout(0.3))\n",
    "model.add(Dense(1, activation='sigmoid'))\n",
    "model.compile(loss=\"binary_crossentropy\", optimizer=\"adam\", metrics=['accuracy'])\n",
    "\n",
    "# natrénování modelu na trénovacích datech\n",
    "model.fit(X_train, y_train, epochs=100, batch_size=32,validation_data=(X_test, y_test))\n",
    "\n",
    "# hodnocení modelu na testovacích datech\n",
    "test_loss, test_acc = model.evaluate(X_test, y_test)\n",
    "print('Test accuracy:', test_acc)\n"
   ]
  },
  {
   "cell_type": "code",
   "execution_count": 41,
   "id": "44f54321",
   "metadata": {},
   "outputs": [
    {
     "name": "stdout",
     "output_type": "stream",
     "text": [
      "42/42 [==============================] - 3s 34ms/step\n"
     ]
    },
    {
     "data": {
      "image/png": "[encoded data removed]",
      "text/plain": [
       "<Figure size 640x480 with 1 Axes>"
      ]
     },
     "metadata": {},
     "output_type": "display_data"
    }
   ],
   "source": [
    "from sklearn.metrics import roc_curve\n",
    "import matplotlib.pyplot as plt\n",
    "y_pred_proba =model.predict(X_test)\n",
    "fpr, tpr, _ = roc_curve(y_test,  y_pred_proba)\n",
    "auc = roc_auc_score(y_test, y_pred_proba)\n",
    "plt.plot(fpr,tpr,label=\"data 1, auc=\"+str(auc))\n",
    "plt.legend(loc=4)\n",
    "plt.title(\"AUC ROC Curve\")\n",
    "plt.show()"
   ]
  },
  {
   "cell_type": "code",
   "execution_count": 42,
   "id": "0c206b68",
   "metadata": {
    "scrolled": true
   },
   "outputs": [
    {
     "name": "stdout",
     "output_type": "stream",
     "text": [
      "              precision    recall  f1-score   support\n",
      "\n",
      "         0.0       0.73      0.76      0.74       659\n",
      "         1.0       0.75      0.72      0.74       669\n",
      "\n",
      "    accuracy                           0.74      1328\n",
      "   macro avg       0.74      0.74      0.74      1328\n",
      "weighted avg       0.74      0.74      0.74      1328\n",
      "\n",
      "AUC-ROC score:  0.8144139668973465\n"
     ]
    }
   ],
   "source": [
    "from sklearn.metrics import classification_report\n",
    "auc = roc_auc_score(y_test, y_pred_proba) \n",
    "y_pred_binary = (y_pred_proba > 0.5).astype(int)\n",
    "print(classification_report(y_test, y_pred_binary))\n",
    "print('AUC-ROC score: ', auc)"
   ]
  },
  {
   "cell_type": "code",
   "execution_count": 43,
   "id": "f8f65bf1",
   "metadata": {
    "scrolled": true
   },
   "outputs": [
    {
     "data": {
      "text/plain": [
       "0.483019"
      ]
     },
     "execution_count": 43,
     "metadata": {},
     "output_type": "execute_result"
    }
   ],
   "source": [
    "np.mean(y_pred_proba)"
   ]
  },
  {
   "cell_type": "code",
   "execution_count": 44,
   "id": "4897ec9a",
   "metadata": {},
   "outputs": [],
   "source": [
    "model.save('model3.h5')\n",
    "model.save_weights('my_model_weights3.h5')  # to store\n"
   ]
  },
  {
   "cell_type": "code",
   "execution_count": 25,
   "id": "450f5d2e",
   "metadata": {},
   "outputs": [
    {
     "data": {
      "text/plain": [
       "array([0.30769231, 0.5       , 0.5       , 0.2       , 0.66666667,\n",
       "       0.        , 0.13513514, 0.        , 0.        , 0.        ,\n",
       "       0.17391304, 0.        , 0.        , 0.        , 0.77380952,\n",
       "       0.0572479 , 0.71022727, 0.0538707 , 1.        , 0.078125  ,\n",
       "       0.6       , 0.03878083, 1.        , 0.05466752, 1.        ,\n",
       "       0.0285762 , 0.5       , 0.01110444, 1.        , 0.035359  ,\n",
       "       0.66666667, 0.06939338, 0.        , 0.28571429, 0.02065462,\n",
       "       0.85714286, 0.1520599 , 0.33333333, 0.11948529, 0.5       ,\n",
       "       0.01282011, 0.        , 0.        , 0.33333333, 0.03274357,\n",
       "       0.        , 0.        , 0.33333333, 0.04347426, 0.        ,\n",
       "       0.        , 0.        , 0.37916667, 0.06196703, 0.61983471,\n",
       "       0.18174992, 1.        , 0.04832291, 0.26923077, 0.04197766,\n",
       "       0.66666667, 0.02254245, 0.625     , 0.08837666, 0.24285714,\n",
       "       0.05838197, 0.5       , 0.04374143, 1.        , 0.02146106,\n",
       "       0.        , 0.47945205, 0.22357242, 0.55307263, 0.15518928,\n",
       "       0.33333333, 0.07390563, 0.40659341, 0.14669875, 0.42857143,\n",
       "       0.02242912, 0.625     , 0.30379477, 0.53012048, 0.16041723,\n",
       "       0.25      , 0.06050313, 0.62962963, 0.08974255])"
      ]
     },
     "execution_count": 25,
     "metadata": {},
     "output_type": "execute_result"
    }
   ],
   "source": [
    "new_data  =data_scaled[50,:]\n",
    "new_data = new_data[1:]\n",
    "new_data"
   ]
  },
  {
   "cell_type": "code",
   "execution_count": 26,
   "id": "2b919261",
   "metadata": {},
   "outputs": [
    {
     "data": {
      "text/plain": [
       "array([[[0.30769231, 0.5       , 0.5       , 0.2       , 0.66666667,\n",
       "         0.        , 0.13513514, 0.        , 0.        , 0.        ,\n",
       "         0.17391304, 0.        , 0.        , 0.        , 0.77380952,\n",
       "         0.0572479 , 0.71022727, 0.0538707 , 1.        , 0.078125  ,\n",
       "         0.6       , 0.03878083, 1.        , 0.05466752, 1.        ,\n",
       "         0.0285762 , 0.5       , 0.01110444, 1.        , 0.035359  ,\n",
       "         0.66666667, 0.06939338, 0.        , 0.28571429, 0.02065462,\n",
       "         0.85714286, 0.1520599 , 0.33333333, 0.11948529, 0.5       ,\n",
       "         0.01282011, 0.        , 0.        , 0.33333333, 0.03274357,\n",
       "         0.        , 0.        , 0.33333333, 0.04347426, 0.        ,\n",
       "         0.        , 0.        , 0.37916667, 0.06196703, 0.61983471,\n",
       "         0.18174992, 1.        , 0.04832291, 0.26923077, 0.04197766,\n",
       "         0.66666667, 0.02254245, 0.625     , 0.08837666, 0.24285714,\n",
       "         0.05838197, 0.5       , 0.04374143, 1.        , 0.02146106,\n",
       "         0.        , 0.47945205, 0.22357242, 0.55307263, 0.15518928,\n",
       "         0.33333333, 0.07390563, 0.40659341, 0.14669875, 0.42857143,\n",
       "         0.02242912, 0.625     , 0.30379477, 0.53012048, 0.16041723,\n",
       "         0.25      , 0.06050313, 0.62962963, 0.08974255]]])"
      ]
     },
     "execution_count": 26,
     "metadata": {},
     "output_type": "execute_result"
    }
   ],
   "source": [
    "\n",
    "new_data = np.reshape(new_data, (1,1,new_data.shape[0]))\n",
    "new_data"
   ]
  },
  {
   "cell_type": "code",
   "execution_count": 27,
   "id": "977d1f7a",
   "metadata": {
    "scrolled": true
   },
   "outputs": [
    {
     "name": "stdout",
     "output_type": "stream",
     "text": [
      "1/1 [==============================] - 0s 362ms/step\n"
     ]
    }
   ],
   "source": [
    "y_pred = model.predict(new_data)"
   ]
  },
  {
   "cell_type": "code",
   "execution_count": 28,
   "id": "1cc06bbf",
   "metadata": {},
   "outputs": [
    {
     "data": {
      "text/plain": [
       "array([[0.77386403]], dtype=float32)"
      ]
     },
     "execution_count": 28,
     "metadata": {},
     "output_type": "execute_result"
    }
   ],
   "source": [
    "y_pred"
   ]
  },
  {
   "cell_type": "code",
   "execution_count": 29,
   "id": "427be37d",
   "metadata": {},
   "outputs": [],
   "source": [
    "from datetime import date\n",
    "\n",
    "today = date.today()\n",
    "df_fighters_details['AGE'] = (pd.to_datetime(today) - pd.to_datetime(df_fighters_details['DOB'])).astype('<m8[Y]')"
   ]
  },
  {
   "cell_type": "code",
   "execution_count": 30,
   "id": "5975f89e",
   "metadata": {},
   "outputs": [],
   "source": [
    "fighter1 = \"Derrick Lewis\"\n",
    "fighter2= \"Serghei Spivac\"\n"
   ]
  },
  {
   "cell_type": "code",
   "execution_count": 31,
   "id": "cd180742",
   "metadata": {},
   "outputs": [],
   "source": [
    "f1_df = df_fighters.loc[df_fighters['FIGHTER']==fighter1]\n",
    "f2_df = df_fighters.loc[df_fighters['FIGHTER']==fighter2]"
   ]
  },
  {
   "cell_type": "code",
   "execution_count": 32,
   "id": "74302f5f",
   "metadata": {},
   "outputs": [
    {
     "data": {
      "text/html": [
       "<div>\n",
       "<style scoped>\n",
       "    .dataframe tbody tr th:only-of-type {\n",
       "        vertical-align: middle;\n",
       "    }\n",
       "\n",
       "    .dataframe tbody tr th {\n",
       "        vertical-align: top;\n",
       "    }\n",
       "\n",
       "    .dataframe thead th {\n",
       "        text-align: right;\n",
       "    }\n",
       "</style>\n",
       "<table border=\"1\" class=\"dataframe\">\n",
       "  <thead>\n",
       "    <tr style=\"text-align: right;\">\n",
       "      <th></th>\n",
       "      <th>FIGHTER</th>\n",
       "      <th>HEIGHT_fighter</th>\n",
       "      <th>WEIGHT_fighter</th>\n",
       "      <th>REACH_fighter</th>\n",
       "      <th>STANCE_fighter</th>\n",
       "      <th>Fights</th>\n",
       "      <th>Win</th>\n",
       "      <th>DRAW</th>\n",
       "      <th>Lost</th>\n",
       "      <th>No_contest</th>\n",
       "      <th>...</th>\n",
       "      <th>BODY_attemps_opponent</th>\n",
       "      <th>LEG_landed_opponent</th>\n",
       "      <th>LEG_attemps_opponent</th>\n",
       "      <th>DISTANCE_landed_opponent</th>\n",
       "      <th>DISTANCE_attemps_opponent</th>\n",
       "      <th>CLINCH_landed_opponent</th>\n",
       "      <th>CLINCH_attemps_opponent</th>\n",
       "      <th>GROUND_landed_opponent</th>\n",
       "      <th>GROUND_attemps_opponent</th>\n",
       "      <th>form_skore_fighter</th>\n",
       "    </tr>\n",
       "  </thead>\n",
       "  <tbody>\n",
       "    <tr>\n",
       "      <th>594</th>\n",
       "      <td>Derrick Lewis</td>\n",
       "      <td>75.0</td>\n",
       "      <td>260.0</td>\n",
       "      <td>79.0</td>\n",
       "      <td>Orthodox</td>\n",
       "      <td>25</td>\n",
       "      <td>17</td>\n",
       "      <td>0</td>\n",
       "      <td>8</td>\n",
       "      <td>0</td>\n",
       "      <td>...</td>\n",
       "      <td>179.0</td>\n",
       "      <td>115.0</td>\n",
       "      <td>130.0</td>\n",
       "      <td>365.0</td>\n",
       "      <td>694.0</td>\n",
       "      <td>105.0</td>\n",
       "      <td>148.0</td>\n",
       "      <td>110.0</td>\n",
       "      <td>146.0</td>\n",
       "      <td>-0.7</td>\n",
       "    </tr>\n",
       "  </tbody>\n",
       "</table>\n",
       "<p>1 rows × 56 columns</p>\n",
       "</div>"
      ],
      "text/plain": [
       "           FIGHTER  HEIGHT_fighter  WEIGHT_fighter  REACH_fighter  \\\n",
       "594  Derrick Lewis            75.0           260.0           79.0   \n",
       "\n",
       "    STANCE_fighter  Fights  Win  DRAW  Lost  No_contest  ...  \\\n",
       "594       Orthodox      25   17     0     8           0  ...   \n",
       "\n",
       "     BODY_attemps_opponent  LEG_landed_opponent  LEG_attemps_opponent  \\\n",
       "594                  179.0                115.0                 130.0   \n",
       "\n",
       "     DISTANCE_landed_opponent  DISTANCE_attemps_opponent  \\\n",
       "594                     365.0                      694.0   \n",
       "\n",
       "     CLINCH_landed_opponent  CLINCH_attemps_opponent  GROUND_landed_opponent  \\\n",
       "594                   105.0                    148.0                   110.0   \n",
       "\n",
       "     GROUND_attemps_opponent  form_skore_fighter  \n",
       "594                    146.0                -0.7  \n",
       "\n",
       "[1 rows x 56 columns]"
      ]
     },
     "execution_count": 32,
     "metadata": {},
     "output_type": "execute_result"
    }
   ],
   "source": [
    "f1_df"
   ]
  },
  {
   "cell_type": "code",
   "execution_count": 33,
   "id": "2b4a9810",
   "metadata": {},
   "outputs": [
    {
     "data": {
      "text/plain": [
       "Index(['Win', 'HEIGHT_diff', 'REACH_diff', 'AGE_diff', 'form_skore_fighter',\n",
       "       'form_skore_opponent', 'fightNo_fighter', 'fightNo_opponent',\n",
       "       'Win_tot_f1', 'DRAW_f1', 'No_contest_f1', 'Win_tot_f2', 'DRAW_f2',\n",
       "       'No_contest_f2', 'CTRL_pct_fighterf1', 'SIG.STR._acc_fighterf1',\n",
       "       'SIG.STR._perRound_fighterf1', 'TOTAL STR._acc_fighterf1',\n",
       "       'TOTAL STR._perRound_fighterf1', 'TD_acc_fighterf1',\n",
       "       'TD_perRound_fighterf1', 'HEAD_acc_fighterf1',\n",
       "       'HEAD_perRound_fighterf1', 'BODY_acc_fighterf1',\n",
       "       'BODY_perRound_fighterf1', 'LEG_acc_fighterf1',\n",
       "       'LEG_perRound_fighterf1', 'DISTANCE_acc_fighterf1',\n",
       "       'DISTANCE_perRound_fighterf1', 'CLINCH_acc_fighterf1',\n",
       "       'CLINCH_perRound_fighterf1', 'GROUND_acc_fighterf1',\n",
       "       'GROUND_perRound_fighterf1', 'CTRL_pct_opponentf1',\n",
       "       'SIG.STR._acc_opponentf1', 'SIG.STR._perRound_opponentf1',\n",
       "       'TOTAL STR._acc_opponentf1', 'TOTAL STR._perRound_opponentf1',\n",
       "       'TD_acc_opponentf1', 'TD_perRound_opponentf1', 'HEAD_acc_opponentf1',\n",
       "       'HEAD_perRound_opponentf1', 'BODY_acc_opponentf1',\n",
       "       'BODY_perRound_opponentf1', 'LEG_acc_opponentf1',\n",
       "       'LEG_perRound_opponentf1', 'DISTANCE_acc_opponentf1',\n",
       "       'DISTANCE_perRound_opponentf1', 'CLINCH_acc_opponentf1',\n",
       "       'CLINCH_perRound_opponentf1', 'GROUND_acc_opponentf1',\n",
       "       'GROUND_perRound_opponentf1', 'CTRL_pct_fighterf2',\n",
       "       'SIG.STR._acc_fighterf2', 'SIG.STR._perRound_fighterf2',\n",
       "       'TOTAL STR._acc_fighterf2', 'TOTAL STR._perRound_fighterf2',\n",
       "       'TD_acc_fighterf2', 'TD_perRound_fighterf2', 'HEAD_acc_fighterf2',\n",
       "       'HEAD_perRound_fighterf2', 'BODY_acc_fighterf2',\n",
       "       'BODY_perRound_fighterf2', 'LEG_acc_fighterf2',\n",
       "       'LEG_perRound_fighterf2', 'DISTANCE_acc_fighterf2',\n",
       "       'DISTANCE_perRound_fighterf2', 'CLINCH_acc_fighterf2',\n",
       "       'CLINCH_perRound_fighterf2', 'GROUND_acc_fighterf2',\n",
       "       'GROUND_perRound_fighterf2', 'CTRL_pct_opponentf2',\n",
       "       'SIG.STR._acc_opponentf2', 'SIG.STR._perRound_opponentf2',\n",
       "       'TOTAL STR._acc_opponentf2', 'TOTAL STR._perRound_opponentf2',\n",
       "       'TD_acc_opponentf2', 'TD_perRound_opponentf2', 'HEAD_acc_opponentf2',\n",
       "       'HEAD_perRound_opponentf2', 'BODY_acc_opponentf2',\n",
       "       'BODY_perRound_opponentf2', 'LEG_acc_opponentf2',\n",
       "       'LEG_perRound_opponentf2', 'DISTANCE_acc_opponentf2',\n",
       "       'DISTANCE_perRound_opponentf2', 'CLINCH_acc_opponentf2',\n",
       "       'CLINCH_perRound_opponentf2', 'GROUND_acc_opponentf2',\n",
       "       'GROUND_perRound_opponentf2'],\n",
       "      dtype='object')"
      ]
     },
     "execution_count": 33,
     "metadata": {},
     "output_type": "execute_result"
    }
   ],
   "source": [
    "df_model.columns"
   ]
  },
  {
   "cell_type": "code",
   "execution_count": 34,
   "id": "2f5a3e74",
   "metadata": {},
   "outputs": [],
   "source": [
    "agediff = df_fighters_details[df_fighters_details['FIGHTER']==fighter1]['AGE'].values[0] - df_fighters_details[df_fighters_details['FIGHTER']==fighter2]['AGE'].values[0]\n",
    "formy = [f1_df['form_skore_fighter'].values[0], f2_df['form_skore_fighter'].values[0]]\n",
    "no_of_fights = [f1_df['Fights'].values[0],f2_df['Fights'].values[0]]\n",
    "W_D_NC = f1_df[['Win','DRAW', 'No_contest']].values.tolist()[0] + f2_df[['Win','DRAW', 'No_contest']].values.tolist()[0]"
   ]
  },
  {
   "cell_type": "code",
   "execution_count": 35,
   "id": "5473bec1",
   "metadata": {},
   "outputs": [],
   "source": [
    "sloupce2 = df_fighters.columns.tolist()[10:]\n",
    "stats_f1 = []\n",
    "stats_f2 = []\n",
    "for sloupec in sloupce2:    \n",
    "    splited = sloupec.split('_')\n",
    "    if 'CTRL' in splited:\n",
    "        stats_f1.append((f1_df[sloupec]/f1_df['TotalTime']).values[0])\n",
    "        stats_f2.append((f2_df[sloupec]/f2_df['TotalTime']).values[0])\n",
    "    if 'attemps' in splited:\n",
    "        stats_f1.append((f1_df[sloupec.replace('attemps', 'landed')]/f1_df[sloupec]).values[0])\n",
    "        stats_f1.append((f1_df[sloupec.replace('attemps', 'landed')]/f1_df['TotalTime']).values[0]*300)\n",
    "        \n",
    "        stats_f2.append((f2_df[sloupec.replace('attemps', 'landed')]/f2_df[sloupec]).values[0])\n",
    "        stats_f2.append((f2_df[sloupec.replace('attemps', 'landed')]/f2_df['TotalTime']).values[0]*300)\n",
    "stats_list = stats_f1 + stats_f2"
   ]
  },
  {
   "cell_type": "code",
   "execution_count": 36,
   "id": "bdff40e4",
   "metadata": {},
   "outputs": [],
   "source": [
    "vstup = np.array([1]+[f1_df.iloc[0][col] - f2_df.iloc[0][col] for col in ['HEIGHT_fighter','REACH_fighter']] + [agediff] + formy + no_of_fights + W_D_NC + stats_list)"
   ]
  },
  {
   "cell_type": "code",
   "execution_count": 37,
   "id": "1fdd596e",
   "metadata": {},
   "outputs": [
    {
     "name": "stderr",
     "output_type": "stream",
     "text": [
      "C:\\Users\\spravce\\AppData\\Local\\Temp\\ipykernel_11120\\2024273010.py:2: FutureWarning: The frame.append method is deprecated and will be removed from pandas in a future version. Use pandas.concat instead.\n",
      "  vstup_scaled = scaler.fit_transform(df_model.append(pd.DataFrame(vstup.reshape(1,-1), columns=list(df_model)), ignore_index=True))[-200:,1:]\n"
     ]
    }
   ],
   "source": [
    "scaler = MinMaxScaler(feature_range=(0, 1))\n",
    "vstup_scaled = scaler.fit_transform(df_model.append(pd.DataFrame(vstup.reshape(1,-1), columns=list(df_model)), ignore_index=True))[-200:,1:]"
   ]
  },
  {
   "cell_type": "code",
   "execution_count": 38,
   "id": "1f3ec277",
   "metadata": {},
   "outputs": [
    {
     "data": {
      "text/plain": [
       "(200, 89)"
      ]
     },
     "execution_count": 38,
     "metadata": {},
     "output_type": "execute_result"
    }
   ],
   "source": [
    "vstup_scaled.shape"
   ]
  },
  {
   "cell_type": "code",
   "execution_count": 39,
   "id": "96eda032",
   "metadata": {},
   "outputs": [],
   "source": [
    "from numpy import *\n",
    "where_are_NaNs = isnan(vstup_scaled)\n",
    "vstup_scaled[where_are_NaNs] = 0"
   ]
  },
  {
   "cell_type": "code",
   "execution_count": 40,
   "id": "b4ed6497",
   "metadata": {},
   "outputs": [
    {
     "data": {
      "text/plain": [
       "array([], shape=(0, 2), dtype=int64)"
      ]
     },
     "execution_count": 40,
     "metadata": {},
     "output_type": "execute_result"
    }
   ],
   "source": [
    "np.argwhere(np.isnan(vstup_scaled))"
   ]
  },
  {
   "cell_type": "code",
   "execution_count": 41,
   "id": "a5702284",
   "metadata": {},
   "outputs": [],
   "source": [
    "new_data = np.reshape(vstup_scaled, (1,200,vstup_scaled.shape[1]))"
   ]
  },
  {
   "cell_type": "code",
   "execution_count": 42,
   "id": "ff2a2884",
   "metadata": {},
   "outputs": [
    {
     "data": {
      "text/plain": [
       "array([[[0.46153846, 0.375     , 0.47058824, ..., 0.        ,\n",
       "         0.        , 0.        ],\n",
       "        [0.73076923, 0.79166667, 0.41176471, ..., 0.05888578,\n",
       "         0.66153846, 0.06213597],\n",
       "        [0.26923077, 0.20833333, 0.58823529, ..., 0.02074561,\n",
       "         0.7826087 , 0.58646617],\n",
       "        ...,\n",
       "        [0.46153846, 0.5       , 0.5       , ..., 0.0670209 ,\n",
       "         0.25      , 0.00328931],\n",
       "        [0.53846154, 0.5       , 0.5       , ..., 0.01258648,\n",
       "         1.        , 0.01976735],\n",
       "        [0.5       , 0.54166667, 0.76470588, ..., 0.06904736,\n",
       "         0.63793103, 0.07430178]]])"
      ]
     },
     "execution_count": 42,
     "metadata": {},
     "output_type": "execute_result"
    }
   ],
   "source": [
    "new_data"
   ]
  },
  {
   "cell_type": "code",
   "execution_count": null,
   "id": "66110573",
   "metadata": {},
   "outputs": [],
   "source": [
    "\n"
   ]
  },
  {
   "cell_type": "code",
   "execution_count": null,
   "id": "b71d6fd0",
   "metadata": {},
   "outputs": [],
   "source": []
  },
  {
   "cell_type": "code",
   "execution_count": 43,
   "id": "23f96f1d",
   "metadata": {},
   "outputs": [],
   "source": [
    "from keras.models import load_model\n",
    "model = load_model('model.h5')\n",
    "model.load_weights('my_model_weights.h5')  # to load"
   ]
  },
  {
   "cell_type": "code",
   "execution_count": 44,
   "id": "7bc04b75",
   "metadata": {},
   "outputs": [
    {
     "name": "stdout",
     "output_type": "stream",
     "text": [
      "1/1 [==============================] - 0s 335ms/step\n"
     ]
    },
    {
     "data": {
      "text/plain": [
       "array([[0.9648369]], dtype=float32)"
      ]
     },
     "execution_count": 44,
     "metadata": {},
     "output_type": "execute_result"
    }
   ],
   "source": [
    "y_pred = model.predict(new_data)\n",
    "y_pred"
   ]
  },
  {
   "cell_type": "code",
   "execution_count": 69,
   "id": "348db2cf",
   "metadata": {},
   "outputs": [],
   "source": [
    "df_model.to_csv('df_model.csv',index=False)"
   ]
  },
  {
   "cell_type": "code",
   "execution_count": null,
   "id": "0a3db91c",
   "metadata": {},
   "outputs": [],
   "source": []
  },
  {
   "cell_type": "code",
   "execution_count": null,
   "id": "a60c443e",
   "metadata": {},
   "outputs": [],
   "source": []
  }
 ],
 "metadata": {
  "kernelspec": {
   "display_name": "Python 3 (ipykernel)",
   "language": "python",
   "name": "python3"
  },
  "language_info": {
   "codemirror_mode": {
    "name": "ipython",
    "version": 3
   },
   "file_extension": ".py",
   "mimetype": "text/x-python",
   "name": "python",
   "nbconvert_exporter": "python",
   "pygments_lexer": "ipython3",
   "version": "3.9.13"
  }
 },
 "nbformat": 4,
 "nbformat_minor": 5
}
