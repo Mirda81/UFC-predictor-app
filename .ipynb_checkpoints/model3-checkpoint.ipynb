{
 "cells": [
  {
   "cell_type": "code",
   "execution_count": 102,
   "id": "6eda130d",
   "metadata": {},
   "outputs": [],
   "source": [
    "import pandas as pd\n",
    "import numpy as np\n",
    "from sklearn.model_selection import GridSearchCV, train_test_split"
   ]
  },
  {
   "cell_type": "code",
   "execution_count": 103,
   "id": "64504238",
   "metadata": {},
   "outputs": [],
   "source": [
    "from keras.models import Sequential\n",
    "from keras.layers import Dense, Activation, Dropout\n",
    "\n",
    "from keras import layers\n",
    "from sklearn.neural_network import MLPClassifier\n",
    "from sklearn.metrics import accuracy_score, f1_score, auc, roc_curve, roc_auc_score\n",
    "from sklearn.preprocessing import StandardScaler\n",
    "from keras.layers import Dense, LSTM, Dropout, GRU, Bidirectional"
   ]
  },
  {
   "cell_type": "code",
   "execution_count": 104,
   "id": "1160a496",
   "metadata": {},
   "outputs": [],
   "source": [
    "df = pd.read_csv('fight_with_stats_precomp.csv')\n",
    "df_fighters = pd.read_csv('fighter_total_stats.csv')"
   ]
  },
  {
   "cell_type": "code",
   "execution_count": 105,
   "id": "1313842b",
   "metadata": {},
   "outputs": [],
   "source": [
    "df_fighters_details = pd.read_csv('fighter_details.csv', parse_dates=True)"
   ]
  },
  {
   "cell_type": "code",
   "execution_count": 106,
   "id": "cfad8be9",
   "metadata": {},
   "outputs": [],
   "source": [
    "df = df[(df['fightNo_fighter']>=3) & (df['fightNo_opponent']>=3) & (df['Women_fight']==0)]"
   ]
  },
  {
   "cell_type": "code",
   "execution_count": 107,
   "id": "6fbc9051",
   "metadata": {},
   "outputs": [],
   "source": [
    "df = df.fillna(0)\n"
   ]
  },
  {
   "cell_type": "code",
   "execution_count": 108,
   "id": "a380c164",
   "metadata": {},
   "outputs": [
    {
     "data": {
      "text/html": [
       "<div>\n",
       "<style scoped>\n",
       "    .dataframe tbody tr th:only-of-type {\n",
       "        vertical-align: middle;\n",
       "    }\n",
       "\n",
       "    .dataframe tbody tr th {\n",
       "        vertical-align: top;\n",
       "    }\n",
       "\n",
       "    .dataframe thead th {\n",
       "        text-align: right;\n",
       "    }\n",
       "</style>\n",
       "<table border=\"1\" class=\"dataframe\">\n",
       "  <thead>\n",
       "    <tr style=\"text-align: right;\">\n",
       "      <th></th>\n",
       "      <th>EVENT</th>\n",
       "      <th>BOUT</th>\n",
       "      <th>FIGHTER</th>\n",
       "      <th>OPPONENT</th>\n",
       "      <th>METHOD</th>\n",
       "      <th>Win</th>\n",
       "      <th>Women_fight</th>\n",
       "      <th>ROUND</th>\n",
       "      <th>HEIGHT_diff</th>\n",
       "      <th>REACH_diff</th>\n",
       "      <th>...</th>\n",
       "      <th>BODY_landed_opponent</th>\n",
       "      <th>BODY_attemps_opponent</th>\n",
       "      <th>LEG_landed_opponent</th>\n",
       "      <th>LEG_attemps_opponent</th>\n",
       "      <th>DISTANCE_landed_opponent</th>\n",
       "      <th>DISTANCE_attemps_opponent</th>\n",
       "      <th>CLINCH_landed_opponent</th>\n",
       "      <th>CLINCH_attemps_opponent</th>\n",
       "      <th>GROUND_landed_opponent</th>\n",
       "      <th>GROUND_attemps_opponent</th>\n",
       "    </tr>\n",
       "  </thead>\n",
       "  <tbody>\n",
       "    <tr>\n",
       "      <th>24</th>\n",
       "      <td>UFC 2: No Way Out</td>\n",
       "      <td>Royce Gracie vs. Patrick Smith</td>\n",
       "      <td>Patrick Smith</td>\n",
       "      <td>Royce Gracie</td>\n",
       "      <td>KO/TKO - ground</td>\n",
       "      <td>0</td>\n",
       "      <td>0</td>\n",
       "      <td>1</td>\n",
       "      <td>1.0</td>\n",
       "      <td>0.0</td>\n",
       "      <td>...</td>\n",
       "      <td>0.0</td>\n",
       "      <td>0.0</td>\n",
       "      <td>3.0</td>\n",
       "      <td>5.0</td>\n",
       "      <td>5.0</td>\n",
       "      <td>10.0</td>\n",
       "      <td>0.0</td>\n",
       "      <td>0.0</td>\n",
       "      <td>0.0</td>\n",
       "      <td>0.0</td>\n",
       "    </tr>\n",
       "    <tr>\n",
       "      <th>25</th>\n",
       "      <td>UFC 2: No Way Out</td>\n",
       "      <td>Royce Gracie vs. Patrick Smith</td>\n",
       "      <td>Royce Gracie</td>\n",
       "      <td>Patrick Smith</td>\n",
       "      <td>KO/TKO - ground</td>\n",
       "      <td>1</td>\n",
       "      <td>0</td>\n",
       "      <td>1</td>\n",
       "      <td>-1.0</td>\n",
       "      <td>0.0</td>\n",
       "      <td>...</td>\n",
       "      <td>0.0</td>\n",
       "      <td>0.0</td>\n",
       "      <td>0.0</td>\n",
       "      <td>1.0</td>\n",
       "      <td>0.0</td>\n",
       "      <td>2.0</td>\n",
       "      <td>0.0</td>\n",
       "      <td>0.0</td>\n",
       "      <td>3.0</td>\n",
       "      <td>5.0</td>\n",
       "    </tr>\n",
       "    <tr>\n",
       "      <th>26</th>\n",
       "      <td>UFC 2: No Way Out</td>\n",
       "      <td>Royce Gracie vs. Remco Pardoel</td>\n",
       "      <td>Remco Pardoel</td>\n",
       "      <td>Royce Gracie</td>\n",
       "      <td>Submission</td>\n",
       "      <td>0</td>\n",
       "      <td>0</td>\n",
       "      <td>1</td>\n",
       "      <td>2.0</td>\n",
       "      <td>0.0</td>\n",
       "      <td>...</td>\n",
       "      <td>0.0</td>\n",
       "      <td>0.0</td>\n",
       "      <td>1.0</td>\n",
       "      <td>1.0</td>\n",
       "      <td>2.0</td>\n",
       "      <td>3.0</td>\n",
       "      <td>0.0</td>\n",
       "      <td>0.0</td>\n",
       "      <td>0.0</td>\n",
       "      <td>2.0</td>\n",
       "    </tr>\n",
       "    <tr>\n",
       "      <th>27</th>\n",
       "      <td>UFC 2: No Way Out</td>\n",
       "      <td>Royce Gracie vs. Remco Pardoel</td>\n",
       "      <td>Royce Gracie</td>\n",
       "      <td>Remco Pardoel</td>\n",
       "      <td>Submission</td>\n",
       "      <td>1</td>\n",
       "      <td>0</td>\n",
       "      <td>1</td>\n",
       "      <td>-2.0</td>\n",
       "      <td>0.0</td>\n",
       "      <td>...</td>\n",
       "      <td>1.0</td>\n",
       "      <td>2.0</td>\n",
       "      <td>0.0</td>\n",
       "      <td>1.0</td>\n",
       "      <td>0.0</td>\n",
       "      <td>3.0</td>\n",
       "      <td>1.0</td>\n",
       "      <td>1.0</td>\n",
       "      <td>3.0</td>\n",
       "      <td>5.0</td>\n",
       "    </tr>\n",
       "    <tr>\n",
       "      <th>50</th>\n",
       "      <td>UFC 4: Revenge of the Warriors</td>\n",
       "      <td>Royce Gracie vs. Dan Severn</td>\n",
       "      <td>Dan Severn</td>\n",
       "      <td>Royce Gracie</td>\n",
       "      <td>Submission</td>\n",
       "      <td>0</td>\n",
       "      <td>0</td>\n",
       "      <td>1</td>\n",
       "      <td>1.0</td>\n",
       "      <td>0.0</td>\n",
       "      <td>...</td>\n",
       "      <td>3.0</td>\n",
       "      <td>4.0</td>\n",
       "      <td>2.0</td>\n",
       "      <td>3.0</td>\n",
       "      <td>3.0</td>\n",
       "      <td>5.0</td>\n",
       "      <td>3.0</td>\n",
       "      <td>3.0</td>\n",
       "      <td>3.0</td>\n",
       "      <td>3.0</td>\n",
       "    </tr>\n",
       "  </tbody>\n",
       "</table>\n",
       "<p>5 rows × 63 columns</p>\n",
       "</div>"
      ],
      "text/plain": [
       "                             EVENT                            BOUT  \\\n",
       "24               UFC 2: No Way Out  Royce Gracie vs. Patrick Smith   \n",
       "25               UFC 2: No Way Out  Royce Gracie vs. Patrick Smith   \n",
       "26               UFC 2: No Way Out  Royce Gracie vs. Remco Pardoel   \n",
       "27               UFC 2: No Way Out  Royce Gracie vs. Remco Pardoel   \n",
       "50  UFC 4: Revenge of the Warriors     Royce Gracie vs. Dan Severn   \n",
       "\n",
       "          FIGHTER       OPPONENT           METHOD  Win  Women_fight  ROUND  \\\n",
       "24  Patrick Smith   Royce Gracie  KO/TKO - ground    0            0      1   \n",
       "25   Royce Gracie  Patrick Smith  KO/TKO - ground    1            0      1   \n",
       "26  Remco Pardoel   Royce Gracie       Submission    0            0      1   \n",
       "27   Royce Gracie  Remco Pardoel       Submission    1            0      1   \n",
       "50     Dan Severn   Royce Gracie       Submission    0            0      1   \n",
       "\n",
       "    HEIGHT_diff  REACH_diff  ...  BODY_landed_opponent  BODY_attemps_opponent  \\\n",
       "24          1.0         0.0  ...                   0.0                    0.0   \n",
       "25         -1.0         0.0  ...                   0.0                    0.0   \n",
       "26          2.0         0.0  ...                   0.0                    0.0   \n",
       "27         -2.0         0.0  ...                   1.0                    2.0   \n",
       "50          1.0         0.0  ...                   3.0                    4.0   \n",
       "\n",
       "    LEG_landed_opponent  LEG_attemps_opponent  DISTANCE_landed_opponent  \\\n",
       "24                  3.0                   5.0                       5.0   \n",
       "25                  0.0                   1.0                       0.0   \n",
       "26                  1.0                   1.0                       2.0   \n",
       "27                  0.0                   1.0                       0.0   \n",
       "50                  2.0                   3.0                       3.0   \n",
       "\n",
       "    DISTANCE_attemps_opponent  CLINCH_landed_opponent  \\\n",
       "24                       10.0                     0.0   \n",
       "25                        2.0                     0.0   \n",
       "26                        3.0                     0.0   \n",
       "27                        3.0                     1.0   \n",
       "50                        5.0                     3.0   \n",
       "\n",
       "    CLINCH_attemps_opponent  GROUND_landed_opponent  GROUND_attemps_opponent  \n",
       "24                      0.0                     0.0                      0.0  \n",
       "25                      0.0                     3.0                      5.0  \n",
       "26                      0.0                     0.0                      2.0  \n",
       "27                      1.0                     3.0                      5.0  \n",
       "50                      3.0                     3.0                      3.0  \n",
       "\n",
       "[5 rows x 63 columns]"
      ]
     },
     "execution_count": 108,
     "metadata": {},
     "output_type": "execute_result"
    }
   ],
   "source": [
    "df.head()"
   ]
  },
  {
   "cell_type": "code",
   "execution_count": 109,
   "id": "3c83f881",
   "metadata": {},
   "outputs": [
    {
     "data": {
      "text/plain": [
       "(6817, 63)"
      ]
     },
     "execution_count": 109,
     "metadata": {},
     "output_type": "execute_result"
    }
   ],
   "source": [
    "df.shape"
   ]
  },
  {
   "cell_type": "code",
   "execution_count": 110,
   "id": "0b47cc75",
   "metadata": {
    "scrolled": true
   },
   "outputs": [
    {
     "data": {
      "text/plain": [
       "['KD_fighter',\n",
       " 'SUB.ATT_fighter',\n",
       " 'REV._fighter',\n",
       " 'CTRL_fighter',\n",
       " 'SIG.STR._landed_fighter',\n",
       " 'SIG.STR._attemps_fighter',\n",
       " 'TOTAL STR._landed_fighter',\n",
       " 'TOTAL STR._attemps_fighter',\n",
       " 'TD_landed_fighter',\n",
       " 'TD_attemps_fighter',\n",
       " 'HEAD_landed_fighter',\n",
       " 'HEAD_attemps_fighter',\n",
       " 'BODY_landed_fighter',\n",
       " 'BODY_attemps_fighter',\n",
       " 'LEG_landed_fighter',\n",
       " 'LEG_attemps_fighter',\n",
       " 'DISTANCE_landed_fighter',\n",
       " 'DISTANCE_attemps_fighter',\n",
       " 'CLINCH_landed_fighter',\n",
       " 'CLINCH_attemps_fighter',\n",
       " 'GROUND_landed_fighter',\n",
       " 'GROUND_attemps_fighter',\n",
       " 'KD_opponent',\n",
       " 'SUB.ATT_opponent',\n",
       " 'REV._opponent',\n",
       " 'CTRL_opponent',\n",
       " 'SIG.STR._landed_opponent',\n",
       " 'SIG.STR._attemps_opponent',\n",
       " 'TOTAL STR._landed_opponent',\n",
       " 'TOTAL STR._attemps_opponent',\n",
       " 'TD_landed_opponent',\n",
       " 'TD_attemps_opponent',\n",
       " 'HEAD_landed_opponent',\n",
       " 'HEAD_attemps_opponent',\n",
       " 'BODY_landed_opponent',\n",
       " 'BODY_attemps_opponent',\n",
       " 'LEG_landed_opponent',\n",
       " 'LEG_attemps_opponent',\n",
       " 'DISTANCE_landed_opponent',\n",
       " 'DISTANCE_attemps_opponent',\n",
       " 'CLINCH_landed_opponent',\n",
       " 'CLINCH_attemps_opponent',\n",
       " 'GROUND_landed_opponent',\n",
       " 'GROUND_attemps_opponent']"
      ]
     },
     "execution_count": 110,
     "metadata": {},
     "output_type": "execute_result"
    }
   ],
   "source": [
    "df.columns.tolist()[19:]"
   ]
  },
  {
   "cell_type": "code",
   "execution_count": 111,
   "id": "1bf9b2da",
   "metadata": {},
   "outputs": [],
   "source": [
    "df = df.merge(df[['EVENT', 'BOUT', 'FIGHTER']+df.columns.tolist()[15:]] ,how='left', left_on=['EVENT', 'BOUT', 'OPPONENT'], right_on=['EVENT', 'BOUT', 'FIGHTER'], suffixes=('_f1', '_f2'))"
   ]
  },
  {
   "cell_type": "code",
   "execution_count": 112,
   "id": "c8ce78f8",
   "metadata": {},
   "outputs": [
    {
     "name": "stdout",
     "output_type": "stream",
     "text": [
      "<class 'pandas.core.frame.DataFrame'>\n",
      "Int64Index: 6817 entries, 0 to 6816\n",
      "Data columns (total 112 columns):\n",
      " #    Column                          Non-Null Count  Dtype  \n",
      "---   ------                          --------------  -----  \n",
      " 0    EVENT                           6817 non-null   object \n",
      " 1    BOUT                            6817 non-null   object \n",
      " 2    FIGHTER_f1                      6817 non-null   object \n",
      " 3    OPPONENT                        6817 non-null   object \n",
      " 4    METHOD                          6817 non-null   object \n",
      " 5    Win                             6817 non-null   int64  \n",
      " 6    Women_fight                     6817 non-null   int64  \n",
      " 7    ROUND                           6817 non-null   int64  \n",
      " 8    HEIGHT_diff                     6817 non-null   float64\n",
      " 9    REACH_diff                      6817 non-null   float64\n",
      " 10   AGE_diff                        6817 non-null   float64\n",
      " 11   form_skore_fighter              6817 non-null   float64\n",
      " 12   form_skore_opponent             6817 non-null   float64\n",
      " 13   fightNo_fighter                 6817 non-null   int64  \n",
      " 14   fightNo_opponent                6817 non-null   float64\n",
      " 15   Win_tot_f1                      6817 non-null   float64\n",
      " 16   DRAW_f1                         6817 non-null   float64\n",
      " 17   No_contest_f1                   6817 non-null   float64\n",
      " 18   TotalTime_f1                    6817 non-null   float64\n",
      " 19   KD_fighter_f1                   6817 non-null   float64\n",
      " 20   SUB.ATT_fighter_f1              6817 non-null   float64\n",
      " 21   REV._fighter_f1                 6817 non-null   float64\n",
      " 22   CTRL_fighter_f1                 6817 non-null   float64\n",
      " 23   SIG.STR._landed_fighter_f1      6817 non-null   float64\n",
      " 24   SIG.STR._attemps_fighter_f1     6817 non-null   float64\n",
      " 25   TOTAL STR._landed_fighter_f1    6817 non-null   float64\n",
      " 26   TOTAL STR._attemps_fighter_f1   6817 non-null   float64\n",
      " 27   TD_landed_fighter_f1            6817 non-null   float64\n",
      " 28   TD_attemps_fighter_f1           6817 non-null   float64\n",
      " 29   HEAD_landed_fighter_f1          6817 non-null   float64\n",
      " 30   HEAD_attemps_fighter_f1         6817 non-null   float64\n",
      " 31   BODY_landed_fighter_f1          6817 non-null   float64\n",
      " 32   BODY_attemps_fighter_f1         6817 non-null   float64\n",
      " 33   LEG_landed_fighter_f1           6817 non-null   float64\n",
      " 34   LEG_attemps_fighter_f1          6817 non-null   float64\n",
      " 35   DISTANCE_landed_fighter_f1      6817 non-null   float64\n",
      " 36   DISTANCE_attemps_fighter_f1     6817 non-null   float64\n",
      " 37   CLINCH_landed_fighter_f1        6817 non-null   float64\n",
      " 38   CLINCH_attemps_fighter_f1       6817 non-null   float64\n",
      " 39   GROUND_landed_fighter_f1        6817 non-null   float64\n",
      " 40   GROUND_attemps_fighter_f1       6817 non-null   float64\n",
      " 41   KD_opponent_f1                  6817 non-null   float64\n",
      " 42   SUB.ATT_opponent_f1             6817 non-null   float64\n",
      " 43   REV._opponent_f1                6817 non-null   float64\n",
      " 44   CTRL_opponent_f1                6817 non-null   float64\n",
      " 45   SIG.STR._landed_opponent_f1     6817 non-null   float64\n",
      " 46   SIG.STR._attemps_opponent_f1    6817 non-null   float64\n",
      " 47   TOTAL STR._landed_opponent_f1   6817 non-null   float64\n",
      " 48   TOTAL STR._attemps_opponent_f1  6817 non-null   float64\n",
      " 49   TD_landed_opponent_f1           6817 non-null   float64\n",
      " 50   TD_attemps_opponent_f1          6817 non-null   float64\n",
      " 51   HEAD_landed_opponent_f1         6817 non-null   float64\n",
      " 52   HEAD_attemps_opponent_f1        6817 non-null   float64\n",
      " 53   BODY_landed_opponent_f1         6817 non-null   float64\n",
      " 54   BODY_attemps_opponent_f1        6817 non-null   float64\n",
      " 55   LEG_landed_opponent_f1          6817 non-null   float64\n",
      " 56   LEG_attemps_opponent_f1         6817 non-null   float64\n",
      " 57   DISTANCE_landed_opponent_f1     6817 non-null   float64\n",
      " 58   DISTANCE_attemps_opponent_f1    6817 non-null   float64\n",
      " 59   CLINCH_landed_opponent_f1       6817 non-null   float64\n",
      " 60   CLINCH_attemps_opponent_f1      6817 non-null   float64\n",
      " 61   GROUND_landed_opponent_f1       6817 non-null   float64\n",
      " 62   GROUND_attemps_opponent_f1      6817 non-null   float64\n",
      " 63   FIGHTER_f2                      6816 non-null   object \n",
      " 64   Win_tot_f2                      6816 non-null   float64\n",
      " 65   DRAW_f2                         6816 non-null   float64\n",
      " 66   No_contest_f2                   6816 non-null   float64\n",
      " 67   TotalTime_f2                    6816 non-null   float64\n",
      " 68   KD_fighter_f2                   6816 non-null   float64\n",
      " 69   SUB.ATT_fighter_f2              6816 non-null   float64\n",
      " 70   REV._fighter_f2                 6816 non-null   float64\n",
      " 71   CTRL_fighter_f2                 6816 non-null   float64\n",
      " 72   SIG.STR._landed_fighter_f2      6816 non-null   float64\n",
      " 73   SIG.STR._attemps_fighter_f2     6816 non-null   float64\n",
      " 74   TOTAL STR._landed_fighter_f2    6816 non-null   float64\n",
      " 75   TOTAL STR._attemps_fighter_f2   6816 non-null   float64\n",
      " 76   TD_landed_fighter_f2            6816 non-null   float64\n",
      " 77   TD_attemps_fighter_f2           6816 non-null   float64\n",
      " 78   HEAD_landed_fighter_f2          6816 non-null   float64\n",
      " 79   HEAD_attemps_fighter_f2         6816 non-null   float64\n",
      " 80   BODY_landed_fighter_f2          6816 non-null   float64\n",
      " 81   BODY_attemps_fighter_f2         6816 non-null   float64\n",
      " 82   LEG_landed_fighter_f2           6816 non-null   float64\n",
      " 83   LEG_attemps_fighter_f2          6816 non-null   float64\n",
      " 84   DISTANCE_landed_fighter_f2      6816 non-null   float64\n",
      " 85   DISTANCE_attemps_fighter_f2     6816 non-null   float64\n",
      " 86   CLINCH_landed_fighter_f2        6816 non-null   float64\n",
      " 87   CLINCH_attemps_fighter_f2       6816 non-null   float64\n",
      " 88   GROUND_landed_fighter_f2        6816 non-null   float64\n",
      " 89   GROUND_attemps_fighter_f2       6816 non-null   float64\n",
      " 90   KD_opponent_f2                  6816 non-null   float64\n",
      " 91   SUB.ATT_opponent_f2             6816 non-null   float64\n",
      " 92   REV._opponent_f2                6816 non-null   float64\n",
      " 93   CTRL_opponent_f2                6816 non-null   float64\n",
      " 94   SIG.STR._landed_opponent_f2     6816 non-null   float64\n",
      " 95   SIG.STR._attemps_opponent_f2    6816 non-null   float64\n",
      " 96   TOTAL STR._landed_opponent_f2   6816 non-null   float64\n",
      " 97   TOTAL STR._attemps_opponent_f2  6816 non-null   float64\n",
      " 98   TD_landed_opponent_f2           6816 non-null   float64\n",
      " 99   TD_attemps_opponent_f2          6816 non-null   float64\n",
      " 100  HEAD_landed_opponent_f2         6816 non-null   float64\n",
      " 101  HEAD_attemps_opponent_f2        6816 non-null   float64\n",
      " 102  BODY_landed_opponent_f2         6816 non-null   float64\n",
      " 103  BODY_attemps_opponent_f2        6816 non-null   float64\n",
      " 104  LEG_landed_opponent_f2          6816 non-null   float64\n",
      " 105  LEG_attemps_opponent_f2         6816 non-null   float64\n",
      " 106  DISTANCE_landed_opponent_f2     6816 non-null   float64\n",
      " 107  DISTANCE_attemps_opponent_f2    6816 non-null   float64\n",
      " 108  CLINCH_landed_opponent_f2       6816 non-null   float64\n",
      " 109  CLINCH_attemps_opponent_f2      6816 non-null   float64\n",
      " 110  GROUND_landed_opponent_f2       6816 non-null   float64\n",
      " 111  GROUND_attemps_opponent_f2      6816 non-null   float64\n",
      "dtypes: float64(102), int64(4), object(6)\n",
      "memory usage: 5.9+ MB\n"
     ]
    }
   ],
   "source": [
    "df.info(verbose=True, show_counts=True)"
   ]
  },
  {
   "cell_type": "code",
   "execution_count": 113,
   "id": "e911a19b",
   "metadata": {},
   "outputs": [],
   "source": [
    "df = df.drop('FIGHTER_f2',axis=1)"
   ]
  },
  {
   "cell_type": "code",
   "execution_count": 114,
   "id": "1458353b",
   "metadata": {},
   "outputs": [
    {
     "data": {
      "text/plain": [
       "['LEG', 'attemps', 'fighter', 'f1']"
      ]
     },
     "execution_count": 114,
     "metadata": {},
     "output_type": "execute_result"
    }
   ],
   "source": [
    "'LEG_attemps_fighter_f1'.split('_')"
   ]
  },
  {
   "cell_type": "code",
   "execution_count": 115,
   "id": "6ec0d15a",
   "metadata": {},
   "outputs": [],
   "source": [
    "sloupce1 = df.columns.tolist()[19:]\n",
    "vynechat = ['Win_tot_f2', 'DRAW_f2','No_contest_f2']\n",
    "sloupce = [x for x in sloupce1 if x not in vynechat]\n",
    "for sloupec in sloupce:    \n",
    "    splited = sloupec.split('_')\n",
    "    if 'CTRL' in splited:\n",
    "        df.loc[:,splited[0]+'_pct_'+splited[1]+splited[2]] = df[sloupec]/df['TotalTime'+'_'+splited[2]]\n",
    "    if 'attemps' in splited:\n",
    "        df.loc[:,splited[0]+'_acc_'+ splited[2] + splited[3]] = df[sloupec.replace('attemps', 'landed')]/df[sloupec]\n",
    "        df.loc[:,splited[0]+'_perRound_'+ splited[2] + splited[3]] = (df[sloupec.replace('attemps', 'landed')]/df['TotalTime'+'_'+splited[3]])*300\n",
    "        \n",
    "    "
   ]
  },
  {
   "cell_type": "code",
   "execution_count": 116,
   "id": "2417f114",
   "metadata": {},
   "outputs": [
    {
     "data": {
      "text/html": [
       "<div>\n",
       "<style scoped>\n",
       "    .dataframe tbody tr th:only-of-type {\n",
       "        vertical-align: middle;\n",
       "    }\n",
       "\n",
       "    .dataframe tbody tr th {\n",
       "        vertical-align: top;\n",
       "    }\n",
       "\n",
       "    .dataframe thead th {\n",
       "        text-align: right;\n",
       "    }\n",
       "</style>\n",
       "<table border=\"1\" class=\"dataframe\">\n",
       "  <thead>\n",
       "    <tr style=\"text-align: right;\">\n",
       "      <th></th>\n",
       "      <th>EVENT</th>\n",
       "      <th>BOUT</th>\n",
       "      <th>FIGHTER_f1</th>\n",
       "      <th>OPPONENT</th>\n",
       "      <th>METHOD</th>\n",
       "    </tr>\n",
       "  </thead>\n",
       "  <tbody>\n",
       "    <tr>\n",
       "      <th>0</th>\n",
       "      <td>UFC 2: No Way Out</td>\n",
       "      <td>Royce Gracie vs. Patrick Smith</td>\n",
       "      <td>Patrick Smith</td>\n",
       "      <td>Royce Gracie</td>\n",
       "      <td>KO/TKO - ground</td>\n",
       "    </tr>\n",
       "    <tr>\n",
       "      <th>1</th>\n",
       "      <td>UFC 2: No Way Out</td>\n",
       "      <td>Royce Gracie vs. Patrick Smith</td>\n",
       "      <td>Royce Gracie</td>\n",
       "      <td>Patrick Smith</td>\n",
       "      <td>KO/TKO - ground</td>\n",
       "    </tr>\n",
       "    <tr>\n",
       "      <th>2</th>\n",
       "      <td>UFC 2: No Way Out</td>\n",
       "      <td>Royce Gracie vs. Remco Pardoel</td>\n",
       "      <td>Remco Pardoel</td>\n",
       "      <td>Royce Gracie</td>\n",
       "      <td>Submission</td>\n",
       "    </tr>\n",
       "    <tr>\n",
       "      <th>3</th>\n",
       "      <td>UFC 2: No Way Out</td>\n",
       "      <td>Royce Gracie vs. Remco Pardoel</td>\n",
       "      <td>Royce Gracie</td>\n",
       "      <td>Remco Pardoel</td>\n",
       "      <td>Submission</td>\n",
       "    </tr>\n",
       "    <tr>\n",
       "      <th>4</th>\n",
       "      <td>UFC 4: Revenge of the Warriors</td>\n",
       "      <td>Royce Gracie vs. Dan Severn</td>\n",
       "      <td>Dan Severn</td>\n",
       "      <td>Royce Gracie</td>\n",
       "      <td>Submission</td>\n",
       "    </tr>\n",
       "    <tr>\n",
       "      <th>...</th>\n",
       "      <td>...</td>\n",
       "      <td>...</td>\n",
       "      <td>...</td>\n",
       "      <td>...</td>\n",
       "      <td>...</td>\n",
       "    </tr>\n",
       "    <tr>\n",
       "      <th>6812</th>\n",
       "      <td>UFC Fight Night: Cannonier vs. Strickland</td>\n",
       "      <td>Jared Cannonier vs. Sean Strickland</td>\n",
       "      <td>Sean Strickland</td>\n",
       "      <td>Jared Cannonier</td>\n",
       "      <td>Decision</td>\n",
       "    </tr>\n",
       "    <tr>\n",
       "      <th>6813</th>\n",
       "      <td>UFC Fight Night: Cannonier vs. Strickland</td>\n",
       "      <td>Said Nurmagomedov vs. Saidyokub Kakhramonov</td>\n",
       "      <td>Said Nurmagomedov</td>\n",
       "      <td>Saidyokub Kakhramonov</td>\n",
       "      <td>Submission</td>\n",
       "    </tr>\n",
       "    <tr>\n",
       "      <th>6814</th>\n",
       "      <td>UFC Fight Night: Cannonier vs. Strickland</td>\n",
       "      <td>Said Nurmagomedov vs. Saidyokub Kakhramonov</td>\n",
       "      <td>Saidyokub Kakhramonov</td>\n",
       "      <td>Said Nurmagomedov</td>\n",
       "      <td>Submission</td>\n",
       "    </tr>\n",
       "    <tr>\n",
       "      <th>6815</th>\n",
       "      <td>UFC Fight Night: Cannonier vs. Strickland</td>\n",
       "      <td>Sergey Morozov vs. Journey Newson</td>\n",
       "      <td>Journey Newson</td>\n",
       "      <td>Sergey Morozov</td>\n",
       "      <td>Decision</td>\n",
       "    </tr>\n",
       "    <tr>\n",
       "      <th>6816</th>\n",
       "      <td>UFC Fight Night: Cannonier vs. Strickland</td>\n",
       "      <td>Sergey Morozov vs. Journey Newson</td>\n",
       "      <td>Sergey Morozov</td>\n",
       "      <td>Journey Newson</td>\n",
       "      <td>Decision</td>\n",
       "    </tr>\n",
       "  </tbody>\n",
       "</table>\n",
       "<p>6817 rows × 5 columns</p>\n",
       "</div>"
      ],
      "text/plain": [
       "                                          EVENT  \\\n",
       "0                             UFC 2: No Way Out   \n",
       "1                             UFC 2: No Way Out   \n",
       "2                             UFC 2: No Way Out   \n",
       "3                             UFC 2: No Way Out   \n",
       "4                UFC 4: Revenge of the Warriors   \n",
       "...                                         ...   \n",
       "6812  UFC Fight Night: Cannonier vs. Strickland   \n",
       "6813  UFC Fight Night: Cannonier vs. Strickland   \n",
       "6814  UFC Fight Night: Cannonier vs. Strickland   \n",
       "6815  UFC Fight Night: Cannonier vs. Strickland   \n",
       "6816  UFC Fight Night: Cannonier vs. Strickland   \n",
       "\n",
       "                                             BOUT             FIGHTER_f1  \\\n",
       "0                  Royce Gracie vs. Patrick Smith          Patrick Smith   \n",
       "1                  Royce Gracie vs. Patrick Smith           Royce Gracie   \n",
       "2                  Royce Gracie vs. Remco Pardoel          Remco Pardoel   \n",
       "3                  Royce Gracie vs. Remco Pardoel           Royce Gracie   \n",
       "4                     Royce Gracie vs. Dan Severn             Dan Severn   \n",
       "...                                           ...                    ...   \n",
       "6812          Jared Cannonier vs. Sean Strickland        Sean Strickland   \n",
       "6813  Said Nurmagomedov vs. Saidyokub Kakhramonov      Said Nurmagomedov   \n",
       "6814  Said Nurmagomedov vs. Saidyokub Kakhramonov  Saidyokub Kakhramonov   \n",
       "6815            Sergey Morozov vs. Journey Newson         Journey Newson   \n",
       "6816            Sergey Morozov vs. Journey Newson         Sergey Morozov   \n",
       "\n",
       "                   OPPONENT           METHOD  \n",
       "0              Royce Gracie  KO/TKO - ground  \n",
       "1             Patrick Smith  KO/TKO - ground  \n",
       "2              Royce Gracie       Submission  \n",
       "3             Remco Pardoel       Submission  \n",
       "4              Royce Gracie       Submission  \n",
       "...                     ...              ...  \n",
       "6812        Jared Cannonier         Decision  \n",
       "6813  Saidyokub Kakhramonov       Submission  \n",
       "6814      Said Nurmagomedov       Submission  \n",
       "6815         Sergey Morozov         Decision  \n",
       "6816         Journey Newson         Decision  \n",
       "\n",
       "[6817 rows x 5 columns]"
      ]
     },
     "execution_count": 116,
     "metadata": {},
     "output_type": "execute_result"
    }
   ],
   "source": [
    "df.iloc[:,:5]"
   ]
  },
  {
   "cell_type": "code",
   "execution_count": 117,
   "id": "4e6956bf",
   "metadata": {},
   "outputs": [],
   "source": [
    "df = df.drop(sloupce, axis=1)"
   ]
  },
  {
   "cell_type": "code",
   "execution_count": 118,
   "id": "eefa5d15",
   "metadata": {},
   "outputs": [],
   "source": [
    "df_model = df.drop(['EVENT','BOUT','FIGHTER_f1','OPPONENT','METHOD','Women_fight','ROUND','TotalTime_f1'],axis=1)"
   ]
  },
  {
   "cell_type": "code",
   "execution_count": 119,
   "id": "9b03af1f",
   "metadata": {},
   "outputs": [
    {
     "name": "stdout",
     "output_type": "stream",
     "text": [
      "<class 'pandas.core.frame.DataFrame'>\n",
      "Int64Index: 6817 entries, 0 to 6816\n",
      "Data columns (total 90 columns):\n",
      " #   Column                          Non-Null Count  Dtype  \n",
      "---  ------                          --------------  -----  \n",
      " 0   Win                             6817 non-null   int64  \n",
      " 1   HEIGHT_diff                     6817 non-null   float64\n",
      " 2   REACH_diff                      6817 non-null   float64\n",
      " 3   AGE_diff                        6817 non-null   float64\n",
      " 4   form_skore_fighter              6817 non-null   float64\n",
      " 5   form_skore_opponent             6817 non-null   float64\n",
      " 6   fightNo_fighter                 6817 non-null   int64  \n",
      " 7   fightNo_opponent                6817 non-null   float64\n",
      " 8   Win_tot_f1                      6817 non-null   float64\n",
      " 9   DRAW_f1                         6817 non-null   float64\n",
      " 10  No_contest_f1                   6817 non-null   float64\n",
      " 11  Win_tot_f2                      6817 non-null   float64\n",
      " 12  DRAW_f2                         6817 non-null   float64\n",
      " 13  No_contest_f2                   6817 non-null   float64\n",
      " 14  CTRL_pct_fighterf1              6817 non-null   float64\n",
      " 15  SIG.STR._acc_fighterf1          6817 non-null   float64\n",
      " 16  SIG.STR._perRound_fighterf1     6817 non-null   float64\n",
      " 17  TOTAL STR._acc_fighterf1        6817 non-null   float64\n",
      " 18  TOTAL STR._perRound_fighterf1   6817 non-null   float64\n",
      " 19  TD_acc_fighterf1                6817 non-null   float64\n",
      " 20  TD_perRound_fighterf1           6817 non-null   float64\n",
      " 21  HEAD_acc_fighterf1              6817 non-null   float64\n",
      " 22  HEAD_perRound_fighterf1         6817 non-null   float64\n",
      " 23  BODY_acc_fighterf1              6817 non-null   float64\n",
      " 24  BODY_perRound_fighterf1         6817 non-null   float64\n",
      " 25  LEG_acc_fighterf1               6817 non-null   float64\n",
      " 26  LEG_perRound_fighterf1          6817 non-null   float64\n",
      " 27  DISTANCE_acc_fighterf1          6817 non-null   float64\n",
      " 28  DISTANCE_perRound_fighterf1     6817 non-null   float64\n",
      " 29  CLINCH_acc_fighterf1            6817 non-null   float64\n",
      " 30  CLINCH_perRound_fighterf1       6817 non-null   float64\n",
      " 31  GROUND_acc_fighterf1            6817 non-null   float64\n",
      " 32  GROUND_perRound_fighterf1       6817 non-null   float64\n",
      " 33  CTRL_pct_opponentf1             6817 non-null   float64\n",
      " 34  SIG.STR._acc_opponentf1         6817 non-null   float64\n",
      " 35  SIG.STR._perRound_opponentf1    6817 non-null   float64\n",
      " 36  TOTAL STR._acc_opponentf1       6817 non-null   float64\n",
      " 37  TOTAL STR._perRound_opponentf1  6817 non-null   float64\n",
      " 38  TD_acc_opponentf1               6817 non-null   float64\n",
      " 39  TD_perRound_opponentf1          6817 non-null   float64\n",
      " 40  HEAD_acc_opponentf1             6817 non-null   float64\n",
      " 41  HEAD_perRound_opponentf1        6817 non-null   float64\n",
      " 42  BODY_acc_opponentf1             6817 non-null   float64\n",
      " 43  BODY_perRound_opponentf1        6817 non-null   float64\n",
      " 44  LEG_acc_opponentf1              6817 non-null   float64\n",
      " 45  LEG_perRound_opponentf1         6817 non-null   float64\n",
      " 46  DISTANCE_acc_opponentf1         6817 non-null   float64\n",
      " 47  DISTANCE_perRound_opponentf1    6817 non-null   float64\n",
      " 48  CLINCH_acc_opponentf1           6817 non-null   float64\n",
      " 49  CLINCH_perRound_opponentf1      6817 non-null   float64\n",
      " 50  GROUND_acc_opponentf1           6817 non-null   float64\n",
      " 51  GROUND_perRound_opponentf1      6817 non-null   float64\n",
      " 52  CTRL_pct_fighterf2              6817 non-null   float64\n",
      " 53  SIG.STR._acc_fighterf2          6817 non-null   float64\n",
      " 54  SIG.STR._perRound_fighterf2     6817 non-null   float64\n",
      " 55  TOTAL STR._acc_fighterf2        6817 non-null   float64\n",
      " 56  TOTAL STR._perRound_fighterf2   6817 non-null   float64\n",
      " 57  TD_acc_fighterf2                6817 non-null   float64\n",
      " 58  TD_perRound_fighterf2           6817 non-null   float64\n",
      " 59  HEAD_acc_fighterf2              6817 non-null   float64\n",
      " 60  HEAD_perRound_fighterf2         6817 non-null   float64\n",
      " 61  BODY_acc_fighterf2              6817 non-null   float64\n",
      " 62  BODY_perRound_fighterf2         6817 non-null   float64\n",
      " 63  LEG_acc_fighterf2               6817 non-null   float64\n",
      " 64  LEG_perRound_fighterf2          6817 non-null   float64\n",
      " 65  DISTANCE_acc_fighterf2          6817 non-null   float64\n",
      " 66  DISTANCE_perRound_fighterf2     6817 non-null   float64\n",
      " 67  CLINCH_acc_fighterf2            6817 non-null   float64\n",
      " 68  CLINCH_perRound_fighterf2       6817 non-null   float64\n",
      " 69  GROUND_acc_fighterf2            6817 non-null   float64\n",
      " 70  GROUND_perRound_fighterf2       6817 non-null   float64\n",
      " 71  CTRL_pct_opponentf2             6817 non-null   float64\n",
      " 72  SIG.STR._acc_opponentf2         6817 non-null   float64\n",
      " 73  SIG.STR._perRound_opponentf2    6817 non-null   float64\n",
      " 74  TOTAL STR._acc_opponentf2       6817 non-null   float64\n",
      " 75  TOTAL STR._perRound_opponentf2  6817 non-null   float64\n",
      " 76  TD_acc_opponentf2               6817 non-null   float64\n",
      " 77  TD_perRound_opponentf2          6817 non-null   float64\n",
      " 78  HEAD_acc_opponentf2             6817 non-null   float64\n",
      " 79  HEAD_perRound_opponentf2        6817 non-null   float64\n",
      " 80  BODY_acc_opponentf2             6817 non-null   float64\n",
      " 81  BODY_perRound_opponentf2        6817 non-null   float64\n",
      " 82  LEG_acc_opponentf2              6817 non-null   float64\n",
      " 83  LEG_perRound_opponentf2         6817 non-null   float64\n",
      " 84  DISTANCE_acc_opponentf2         6817 non-null   float64\n",
      " 85  DISTANCE_perRound_opponentf2    6817 non-null   float64\n",
      " 86  CLINCH_acc_opponentf2           6817 non-null   float64\n",
      " 87  CLINCH_perRound_opponentf2      6817 non-null   float64\n",
      " 88  GROUND_acc_opponentf2           6817 non-null   float64\n",
      " 89  GROUND_perRound_opponentf2      6817 non-null   float64\n",
      "dtypes: float64(88), int64(2)\n",
      "memory usage: 4.7 MB\n"
     ]
    }
   ],
   "source": [
    "df_model = df_model.fillna(0)\n",
    "df_model.info()"
   ]
  },
  {
   "cell_type": "code",
   "execution_count": 47,
   "id": "f6fc0f16",
   "metadata": {},
   "outputs": [
    {
     "name": "stdout",
     "output_type": "stream",
     "text": [
      "(6617, 200, 89)\n",
      "Epoch 1/2\n",
      "166/166 [==============================] - 19s 100ms/step - loss: 0.7000 - accuracy: 0.5012 - val_loss: 0.6928 - val_accuracy: 0.5060\n",
      "Epoch 2/2\n",
      "166/166 [==============================] - 16s 96ms/step - loss: 0.6952 - accuracy: 0.5097 - val_loss: 0.6970 - val_accuracy: 0.4955\n",
      "42/42 [==============================] - 1s 34ms/step - loss: 0.6970 - accuracy: 0.4955\n",
      "Test accuracy: 0.49546828866004944\n"
     ]
    }
   ],
   "source": [
    "import pandas as pd\n",
    "from keras.layers import LSTM, Dense\n",
    "from keras.models import Sequential\n",
    "from sklearn.preprocessing import MinMaxScaler\n",
    "from sklearn.model_selection import train_test_split\n",
    "\n",
    "# načtení dat\n",
    "\n",
    "# definice lookback\n",
    "lookback = 200\n",
    "\n",
    "# převod dat na numpy array\n",
    "data = df_model.values\n",
    "scaler = MinMaxScaler(feature_range=(0, 1))\n",
    "data_scaled = scaler.fit_transform(data)\n",
    "\n",
    "# rozdělení dat na trénovací a testovací\n",
    "X = []\n",
    "y = []\n",
    "for i in range(lookback, len(data)):\n",
    "    X.append(data_scaled[i-lookback:i, 1:])\n",
    "    y.append(data_scaled[i, 0])\n",
    "X = np.array(X)\n",
    "y = np.array(y)\n",
    "print(X.shape)\n",
    "X_train, X_test, y_train, y_test = train_test_split(X, y, test_size=0.2)\n",
    "\n",
    "# vytvoření modelu\n",
    "model = Sequential()\n",
    "model.add(LSTM(units=100, input_shape=(lookback, data.shape[1]-1)))\n",
    "model.add(Dropout(0.3))\n",
    "model.add(Dense(1, activation='sigmoid'))\n",
    "model.compile(loss=\"binary_crossentropy\", optimizer=\"adam\", metrics=['accuracy'])\n",
    "\n",
    "# natrénování modelu na trénovacích datech\n",
    "model.fit(X_train, y_train, epochs=2, batch_size=32,validation_data=(X_test, y_test))\n",
    "\n",
    "# hodnocení modelu na testovacích datech\n",
    "test_loss, test_acc = model.evaluate(X_test, y_test)\n",
    "print('Test accuracy:', test_acc)\n"
   ]
  },
  {
   "cell_type": "code",
   "execution_count": 48,
   "id": "44f54321",
   "metadata": {},
   "outputs": [
    {
     "name": "stdout",
     "output_type": "stream",
     "text": [
      "42/42 [==============================] - 2s 35ms/step\n"
     ]
    },
    {
     "data": {
      "image/png": "[encoded data removed]",
      "text/plain": [
       "<Figure size 640x480 with 1 Axes>"
      ]
     },
     "metadata": {},
     "output_type": "display_data"
    }
   ],
   "source": [
    "from sklearn.metrics import roc_curve\n",
    "import matplotlib.pyplot as plt\n",
    "y_pred_proba =model.predict(X_test)\n",
    "fpr, tpr, _ = roc_curve(y_test,  y_pred_proba)\n",
    "auc = roc_auc_score(y_test, y_pred_proba)\n",
    "plt.plot(fpr,tpr,label=\"data 1, auc=\"+str(auc))\n",
    "plt.legend(loc=4)\n",
    "plt.title(\"AUC ROC Curve\")\n",
    "plt.show()"
   ]
  },
  {
   "cell_type": "code",
   "execution_count": 49,
   "id": "0c206b68",
   "metadata": {},
   "outputs": [
    {
     "name": "stdout",
     "output_type": "stream",
     "text": [
      "              precision    recall  f1-score   support\n",
      "\n",
      "         0.0       0.50      1.00      0.66       656\n",
      "         1.0       0.00      0.00      0.00       668\n",
      "\n",
      "    accuracy                           0.50      1324\n",
      "   macro avg       0.25      0.50      0.33      1324\n",
      "weighted avg       0.25      0.50      0.33      1324\n",
      "\n",
      "AUC-ROC score:  0.5401727033737402\n"
     ]
    },
    {
     "name": "stderr",
     "output_type": "stream",
     "text": [
      "D:\\anacinda\\lib\\site-packages\\sklearn\\metrics\\_classification.py:1318: UndefinedMetricWarning: Precision and F-score are ill-defined and being set to 0.0 in labels with no predicted samples. Use `zero_division` parameter to control this behavior.\n",
      "  _warn_prf(average, modifier, msg_start, len(result))\n",
      "D:\\anacinda\\lib\\site-packages\\sklearn\\metrics\\_classification.py:1318: UndefinedMetricWarning: Precision and F-score are ill-defined and being set to 0.0 in labels with no predicted samples. Use `zero_division` parameter to control this behavior.\n",
      "  _warn_prf(average, modifier, msg_start, len(result))\n",
      "D:\\anacinda\\lib\\site-packages\\sklearn\\metrics\\_classification.py:1318: UndefinedMetricWarning: Precision and F-score are ill-defined and being set to 0.0 in labels with no predicted samples. Use `zero_division` parameter to control this behavior.\n",
      "  _warn_prf(average, modifier, msg_start, len(result))\n"
     ]
    }
   ],
   "source": [
    "from sklearn.metrics import classification_report\n",
    "auc = roc_auc_score(y_test, y_pred_proba) \n",
    "y_pred_binary = (y_pred_proba > 0.5).astype(int)\n",
    "print(classification_report(y_test, y_pred_binary))\n",
    "print('AUC-ROC score: ', auc)"
   ]
  },
  {
   "cell_type": "code",
   "execution_count": 101,
   "id": "f8f65bf1",
   "metadata": {
    "scrolled": true
   },
   "outputs": [
    {
     "data": {
      "text/plain": [
       "0.42403284"
      ]
     },
     "execution_count": 101,
     "metadata": {},
     "output_type": "execute_result"
    }
   ],
   "source": [
    "np.min(y_pred_proba)"
   ]
  },
  {
   "cell_type": "code",
   "execution_count": 51,
   "id": "4897ec9a",
   "metadata": {},
   "outputs": [],
   "source": [
    "model.save('model.h5')\n",
    "model.save_weights('my_model_weights.h5')  # to store\n"
   ]
  },
  {
   "cell_type": "code",
   "execution_count": 24,
   "id": "450f5d2e",
   "metadata": {},
   "outputs": [
    {
     "data": {
      "text/plain": [
       "array([0.53846154, 0.5       , 0.20588235, 0.63333333, 0.2       ,\n",
       "       0.02702703, 0.        , 0.08695652, 0.        , 0.        ,\n",
       "       0.        , 0.        , 0.5       , 0.22091126, 0.50352113,\n",
       "       0.147237  , 0.58873189, 0.20229226, 1.        , 0.06088825,\n",
       "       0.34259259, 0.09319253, 0.78571429, 0.07811137, 0.9       ,\n",
       "       0.20044282, 0.36144578, 0.12981697, 0.53333333, 0.07348727,\n",
       "       0.68965517, 0.09013849, 0.38252811, 0.38888889, 0.16902459,\n",
       "       0.48091603, 0.12443641, 0.4       , 0.09312321, 0.31034483,\n",
       "       0.13488662, 1.        , 0.02826134, 0.66666667, 0.15311605,\n",
       "       0.33783784, 0.11484677, 0.58823529, 0.0847063 , 0.41176471,\n",
       "       0.0465616 , 0.46874317, 0.48507463, 0.08439799, 0.67340067,\n",
       "       0.21178436, 1.        , 0.1535682 , 0.25531915, 0.03811522,\n",
       "       0.9       , 0.1611877 , 0.        , 0.        , 0.        ,\n",
       "       0.        , 0.70588235, 0.13900845, 0.31578947, 0.03410117,\n",
       "       0.5189535 , 0.76785714, 0.21822619, 0.87      , 0.21670253,\n",
       "       0.        , 0.        , 0.61290323, 0.11970065, 1.        ,\n",
       "       0.24947589, 0.75      , 0.04827236, 0.75      , 0.01737952,\n",
       "       0.76923077, 0.42728094, 0.        , 0.        ])"
      ]
     },
     "execution_count": 24,
     "metadata": {},
     "output_type": "execute_result"
    }
   ],
   "source": [
    "new_data  =data_scaled[105,:]\n",
    "new_data = new_data[1:]\n",
    "new_data"
   ]
  },
  {
   "cell_type": "code",
   "execution_count": 25,
   "id": "2b919261",
   "metadata": {},
   "outputs": [
    {
     "data": {
      "text/plain": [
       "array([[[0.53846154, 0.5       , 0.20588235, 0.63333333, 0.2       ,\n",
       "         0.02702703, 0.        , 0.08695652, 0.        , 0.        ,\n",
       "         0.        , 0.        , 0.5       , 0.22091126, 0.50352113,\n",
       "         0.147237  , 0.58873189, 0.20229226, 1.        , 0.06088825,\n",
       "         0.34259259, 0.09319253, 0.78571429, 0.07811137, 0.9       ,\n",
       "         0.20044282, 0.36144578, 0.12981697, 0.53333333, 0.07348727,\n",
       "         0.68965517, 0.09013849, 0.38252811, 0.38888889, 0.16902459,\n",
       "         0.48091603, 0.12443641, 0.4       , 0.09312321, 0.31034483,\n",
       "         0.13488662, 1.        , 0.02826134, 0.66666667, 0.15311605,\n",
       "         0.33783784, 0.11484677, 0.58823529, 0.0847063 , 0.41176471,\n",
       "         0.0465616 , 0.46874317, 0.48507463, 0.08439799, 0.67340067,\n",
       "         0.21178436, 1.        , 0.1535682 , 0.25531915, 0.03811522,\n",
       "         0.9       , 0.1611877 , 0.        , 0.        , 0.        ,\n",
       "         0.        , 0.70588235, 0.13900845, 0.31578947, 0.03410117,\n",
       "         0.5189535 , 0.76785714, 0.21822619, 0.87      , 0.21670253,\n",
       "         0.        , 0.        , 0.61290323, 0.11970065, 1.        ,\n",
       "         0.24947589, 0.75      , 0.04827236, 0.75      , 0.01737952,\n",
       "         0.76923077, 0.42728094, 0.        , 0.        ]]])"
      ]
     },
     "execution_count": 25,
     "metadata": {},
     "output_type": "execute_result"
    }
   ],
   "source": [
    "\n",
    "new_data = np.reshape(new_data, (1,1,new_data.shape[0]))\n",
    "new_data"
   ]
  },
  {
   "cell_type": "code",
   "execution_count": 26,
   "id": "977d1f7a",
   "metadata": {
    "scrolled": true
   },
   "outputs": [
    {
     "name": "stdout",
     "output_type": "stream",
     "text": [
      "1/1 [==============================] - 0s 320ms/step\n"
     ]
    }
   ],
   "source": [
    "y_pred = model.predict(new_data)"
   ]
  },
  {
   "cell_type": "code",
   "execution_count": 27,
   "id": "1cc06bbf",
   "metadata": {},
   "outputs": [
    {
     "data": {
      "text/plain": [
       "array([[0.36116308]], dtype=float32)"
      ]
     },
     "execution_count": 27,
     "metadata": {},
     "output_type": "execute_result"
    }
   ],
   "source": [
    "y_pred"
   ]
  },
  {
   "cell_type": "code",
   "execution_count": 88,
   "id": "427be37d",
   "metadata": {},
   "outputs": [],
   "source": [
    "from datetime import date\n",
    "\n",
    "today = date.today()\n",
    "df_fighters_details['AGE'] = (pd.to_datetime(today) - pd.to_datetime(df_fighters_details['DOB'])).astype('<m8[Y]')"
   ]
  },
  {
   "cell_type": "code",
   "execution_count": 89,
   "id": "5975f89e",
   "metadata": {},
   "outputs": [],
   "source": [
    "fighter2 = \"Donald Cerrone\"\n",
    "fighter1= \"Nate Diaz\""
   ]
  },
  {
   "cell_type": "code",
   "execution_count": 90,
   "id": "cd180742",
   "metadata": {},
   "outputs": [],
   "source": [
    "f1_df = df_fighters.loc[df_fighters['FIGHTER']==fighter1]\n",
    "f2_df = df_fighters.loc[df_fighters['FIGHTER']==fighter2]"
   ]
  },
  {
   "cell_type": "code",
   "execution_count": 91,
   "id": "2b4a9810",
   "metadata": {},
   "outputs": [
    {
     "data": {
      "text/plain": [
       "Index(['Win', 'HEIGHT_diff', 'REACH_diff', 'AGE_diff', 'form_skore_fighter',\n",
       "       'form_skore_opponent', 'fightNo_fighter', 'fightNo_opponent',\n",
       "       'Win_tot_f1', 'DRAW_f1', 'No_contest_f1', 'Win_tot_f2', 'DRAW_f2',\n",
       "       'No_contest_f2', 'CTRL_pct_fighterf1', 'SIG.STR._acc_fighterf1',\n",
       "       'SIG.STR._perRound_fighterf1', 'TOTAL STR._acc_fighterf1',\n",
       "       'TOTAL STR._perRound_fighterf1', 'TD_acc_fighterf1',\n",
       "       'TD_perRound_fighterf1', 'HEAD_acc_fighterf1',\n",
       "       'HEAD_perRound_fighterf1', 'BODY_acc_fighterf1',\n",
       "       'BODY_perRound_fighterf1', 'LEG_acc_fighterf1',\n",
       "       'LEG_perRound_fighterf1', 'DISTANCE_acc_fighterf1',\n",
       "       'DISTANCE_perRound_fighterf1', 'CLINCH_acc_fighterf1',\n",
       "       'CLINCH_perRound_fighterf1', 'GROUND_acc_fighterf1',\n",
       "       'GROUND_perRound_fighterf1', 'CTRL_pct_opponentf1',\n",
       "       'SIG.STR._acc_opponentf1', 'SIG.STR._perRound_opponentf1',\n",
       "       'TOTAL STR._acc_opponentf1', 'TOTAL STR._perRound_opponentf1',\n",
       "       'TD_acc_opponentf1', 'TD_perRound_opponentf1', 'HEAD_acc_opponentf1',\n",
       "       'HEAD_perRound_opponentf1', 'BODY_acc_opponentf1',\n",
       "       'BODY_perRound_opponentf1', 'LEG_acc_opponentf1',\n",
       "       'LEG_perRound_opponentf1', 'DISTANCE_acc_opponentf1',\n",
       "       'DISTANCE_perRound_opponentf1', 'CLINCH_acc_opponentf1',\n",
       "       'CLINCH_perRound_opponentf1', 'GROUND_acc_opponentf1',\n",
       "       'GROUND_perRound_opponentf1', 'CTRL_pct_fighterf2',\n",
       "       'SIG.STR._acc_fighterf2', 'SIG.STR._perRound_fighterf2',\n",
       "       'TOTAL STR._acc_fighterf2', 'TOTAL STR._perRound_fighterf2',\n",
       "       'TD_acc_fighterf2', 'TD_perRound_fighterf2', 'HEAD_acc_fighterf2',\n",
       "       'HEAD_perRound_fighterf2', 'BODY_acc_fighterf2',\n",
       "       'BODY_perRound_fighterf2', 'LEG_acc_fighterf2',\n",
       "       'LEG_perRound_fighterf2', 'DISTANCE_acc_fighterf2',\n",
       "       'DISTANCE_perRound_fighterf2', 'CLINCH_acc_fighterf2',\n",
       "       'CLINCH_perRound_fighterf2', 'GROUND_acc_fighterf2',\n",
       "       'GROUND_perRound_fighterf2', 'CTRL_pct_opponentf2',\n",
       "       'SIG.STR._acc_opponentf2', 'SIG.STR._perRound_opponentf2',\n",
       "       'TOTAL STR._acc_opponentf2', 'TOTAL STR._perRound_opponentf2',\n",
       "       'TD_acc_opponentf2', 'TD_perRound_opponentf2', 'HEAD_acc_opponentf2',\n",
       "       'HEAD_perRound_opponentf2', 'BODY_acc_opponentf2',\n",
       "       'BODY_perRound_opponentf2', 'LEG_acc_opponentf2',\n",
       "       'LEG_perRound_opponentf2', 'DISTANCE_acc_opponentf2',\n",
       "       'DISTANCE_perRound_opponentf2', 'CLINCH_acc_opponentf2',\n",
       "       'CLINCH_perRound_opponentf2', 'GROUND_acc_opponentf2',\n",
       "       'GROUND_perRound_opponentf2'],\n",
       "      dtype='object')"
      ]
     },
     "execution_count": 91,
     "metadata": {},
     "output_type": "execute_result"
    }
   ],
   "source": [
    "df_model.columns"
   ]
  },
  {
   "cell_type": "code",
   "execution_count": 92,
   "id": "2f5a3e74",
   "metadata": {},
   "outputs": [],
   "source": [
    "agediff = df_fighters_details[df_fighters_details['FIGHTER']==fighter1]['AGE'].values[0] - df_fighters_details[df_fighters_details['FIGHTER']==fighter2]['AGE'].values[0]\n",
    "formy = [f1_df['form_skore_fighter'].values[0], f2_df['form_skore_fighter'].values[0]]\n",
    "no_of_fights = [f1_df['Fights'].values[0],f2_df['Fights'].values[0]]\n",
    "W_D_NC = f1_df[['Win','DRAW', 'No_contest']].values.tolist()[0] + f2_df[['Win','DRAW', 'No_contest']].values.tolist()[0]"
   ]
  },
  {
   "cell_type": "code",
   "execution_count": 93,
   "id": "5473bec1",
   "metadata": {},
   "outputs": [],
   "source": [
    "sloupce2 = df_fighters.columns.tolist()[10:]\n",
    "stats_f1 = []\n",
    "stats_f2 = []\n",
    "for sloupec in sloupce2:    \n",
    "    splited = sloupec.split('_')\n",
    "    if 'CTRL' in splited:\n",
    "        stats_f1.append((f1_df[sloupec]/f1_df['TotalTime']).values[0])\n",
    "        stats_f2.append((f2_df[sloupec]/f2_df['TotalTime']).values[0])\n",
    "    if 'attemps' in splited:\n",
    "        stats_f1.append((f1_df[sloupec.replace('attemps', 'landed')]/f1_df[sloupec]).values[0])\n",
    "        stats_f1.append((f1_df[sloupec.replace('attemps', 'landed')]/f1_df['TotalTime']).values[0]*300)\n",
    "        \n",
    "        stats_f2.append((f2_df[sloupec.replace('attemps', 'landed')]/f2_df[sloupec]).values[0])\n",
    "        stats_f2.append((f2_df[sloupec.replace('attemps', 'landed')]/f2_df['TotalTime']).values[0]*300)\n",
    "stats_list = stats_f1 + stats_f2"
   ]
  },
  {
   "cell_type": "code",
   "execution_count": 94,
   "id": "bdff40e4",
   "metadata": {},
   "outputs": [],
   "source": [
    "vstup = np.array([1]+[f1_df.iloc[0][col] - f2_df.iloc[0][col] for col in ['HEIGHT_fighter','REACH_fighter']] + [agediff] + formy + no_of_fights + W_D_NC + stats_list)"
   ]
  },
  {
   "cell_type": "code",
   "execution_count": 95,
   "id": "1fdd596e",
   "metadata": {},
   "outputs": [
    {
     "name": "stderr",
     "output_type": "stream",
     "text": [
      "C:\\Users\\spravce\\AppData\\Local\\Temp\\ipykernel_13632\\2424742869.py:2: FutureWarning: The frame.append method is deprecated and will be removed from pandas in a future version. Use pandas.concat instead.\n",
      "  vstup_scaled = scaler.fit_transform(df_model.append(pd.DataFrame(vstup.reshape(1,-1), columns=list(df_model)), ignore_index=True))[-1,:][1:]\n"
     ]
    }
   ],
   "source": [
    "scaler = MinMaxScaler(feature_range=(0, 1))\n",
    "vstup_scaled = scaler.fit_transform(df_model.append(pd.DataFrame(vstup.reshape(1,-1), columns=list(df_model)), ignore_index=True))[-1,:][1:]"
   ]
  },
  {
   "cell_type": "code",
   "execution_count": 96,
   "id": "1f3ec277",
   "metadata": {},
   "outputs": [
    {
     "data": {
      "text/plain": [
       "89"
      ]
     },
     "execution_count": 96,
     "metadata": {},
     "output_type": "execute_result"
    }
   ],
   "source": [
    "vstup_scaled.shape[0]"
   ]
  },
  {
   "cell_type": "code",
   "execution_count": 97,
   "id": "a5702284",
   "metadata": {},
   "outputs": [],
   "source": [
    "new_data = np.reshape(vstup_scaled, (1,1,vstup_scaled.shape[0]))"
   ]
  },
  {
   "cell_type": "code",
   "execution_count": 98,
   "id": "ff2a2884",
   "metadata": {},
   "outputs": [
    {
     "data": {
      "text/plain": [
       "array([[[0.46153846, 0.625     , 0.44117647, 0.46666667, 0.        ,\n",
       "         0.64864865, 0.94594595, 0.69565217, 0.        , 0.        ,\n",
       "         1.        , 0.        , 0.5       , 0.14748669, 0.48287144,\n",
       "         0.23758373, 0.56853615, 0.32737504, 0.26470588, 0.03779831,\n",
       "         0.39640263, 0.19909501, 0.66246851, 0.12881716, 0.76704545,\n",
       "         0.10369269, 0.39264655, 0.33787263, 0.71698113, 0.10834644,\n",
       "         0.67307692, 0.02176079, 0.32600947, 0.47149353, 0.37418543,\n",
       "         0.52354571, 0.23174353, 0.56122449, 0.17663916, 0.36832061,\n",
       "         0.26602275, 0.6739726 , 0.15984644, 0.82914573, 0.29043555,\n",
       "         0.41323877, 0.27694056, 0.66975309, 0.12678616, 0.61190476,\n",
       "         0.11791238, 0.11396539, 0.51304976, 0.25428678, 0.51110292,\n",
       "         0.24030622, 0.28915663, 0.04764574, 0.33954373, 0.14666962,\n",
       "         0.75042445, 0.20466953, 0.875     , 0.29990063, 0.44924012,\n",
       "         0.41705561, 0.65938865, 0.04522498, 0.69186047, 0.0349733 ,\n",
       "         0.06259726, 0.48434183, 0.47893084, 0.50762309, 0.26159304,\n",
       "         0.11428571, 0.02428999, 0.39287027, 0.34825082, 0.66467066,\n",
       "         0.27274939, 0.823219  , 0.25959922, 0.46162963, 0.46671906,\n",
       "         0.69180328, 0.11654872, 0.63636364, 0.02428999]]])"
      ]
     },
     "execution_count": 98,
     "metadata": {},
     "output_type": "execute_result"
    }
   ],
   "source": [
    "new_data"
   ]
  },
  {
   "cell_type": "code",
   "execution_count": 99,
   "id": "23f96f1d",
   "metadata": {},
   "outputs": [
    {
     "name": "stdout",
     "output_type": "stream",
     "text": [
      "1/1 [==============================] - 0s 19ms/step\n"
     ]
    },
    {
     "data": {
      "text/plain": [
       "array([[0.47329777]], dtype=float32)"
      ]
     },
     "execution_count": 99,
     "metadata": {},
     "output_type": "execute_result"
    }
   ],
   "source": [
    "from keras.models import load_model\n",
    "model.load_weights('my_model_weights.h5')  # to load\n",
    "y_pred = model.predict(new_data)\n",
    "y_pred"
   ]
  },
  {
   "cell_type": "code",
   "execution_count": null,
   "id": "7bc04b75",
   "metadata": {},
   "outputs": [],
   "source": []
  },
  {
   "cell_type": "code",
   "execution_count": null,
   "id": "0a3db91c",
   "metadata": {},
   "outputs": [],
   "source": []
  }
 ],
 "metadata": {
  "kernelspec": {
   "display_name": "Python 3 (ipykernel)",
   "language": "python",
   "name": "python3"
  },
  "language_info": {
   "codemirror_mode": {
    "name": "ipython",
    "version": 3
   },
   "file_extension": ".py",
   "mimetype": "text/x-python",
   "name": "python",
   "nbconvert_exporter": "python",
   "pygments_lexer": "ipython3",
   "version": "3.9.13"
  }
 },
 "nbformat": 4,
 "nbformat_minor": 5
}
