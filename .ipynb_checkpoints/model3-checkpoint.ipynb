{
 "cells": [
  {
   "cell_type": "code",
   "execution_count": 1,
   "id": "6eda130d",
   "metadata": {},
   "outputs": [],
   "source": [
    "import pandas as pd\n",
    "import numpy as np\n",
    "from sklearn.model_selection import GridSearchCV, train_test_split"
   ]
  },
  {
   "cell_type": "code",
   "execution_count": 2,
   "id": "64504238",
   "metadata": {},
   "outputs": [],
   "source": [
    "from keras.models import Sequential\n",
    "from keras.layers import Dense, Activation, Dropout\n",
    "\n",
    "from keras import layers\n",
    "from sklearn.neural_network import MLPClassifier\n",
    "from sklearn.metrics import accuracy_score, f1_score, auc, roc_curve, roc_auc_score\n",
    "from sklearn.preprocessing import StandardScaler\n",
    "from keras.layers import Dense, LSTM, Dropout, GRU, Bidirectional"
   ]
  },
  {
   "cell_type": "code",
   "execution_count": 3,
   "id": "1160a496",
   "metadata": {},
   "outputs": [],
   "source": [
    "df = pd.read_csv('fight_with_stats_precomp.csv')\n",
    "df_fighters = pd.read_csv('fighter_total_stats.csv')"
   ]
  },
  {
   "cell_type": "code",
   "execution_count": 4,
   "id": "1313842b",
   "metadata": {},
   "outputs": [],
   "source": [
    "df_fighters_details = pd.read_csv('fighter_details.csv', parse_dates=True)"
   ]
  },
  {
   "cell_type": "code",
   "execution_count": 5,
   "id": "cfad8be9",
   "metadata": {},
   "outputs": [],
   "source": [
    "df = df[(df['fightNo_fighter']>=3) & (df['fightNo_opponent']>=3) & (df['Women_fight']==0)]"
   ]
  },
  {
   "cell_type": "code",
   "execution_count": 6,
   "id": "6fbc9051",
   "metadata": {},
   "outputs": [],
   "source": [
    "df = df.fillna(0)\n"
   ]
  },
  {
   "cell_type": "code",
   "execution_count": 7,
   "id": "a380c164",
   "metadata": {},
   "outputs": [
    {
     "data": {
      "text/html": [
       "<div>\n",
       "<style scoped>\n",
       "    .dataframe tbody tr th:only-of-type {\n",
       "        vertical-align: middle;\n",
       "    }\n",
       "\n",
       "    .dataframe tbody tr th {\n",
       "        vertical-align: top;\n",
       "    }\n",
       "\n",
       "    .dataframe thead th {\n",
       "        text-align: right;\n",
       "    }\n",
       "</style>\n",
       "<table border=\"1\" class=\"dataframe\">\n",
       "  <thead>\n",
       "    <tr style=\"text-align: right;\">\n",
       "      <th></th>\n",
       "      <th>EVENT</th>\n",
       "      <th>BOUT</th>\n",
       "      <th>FIGHTER</th>\n",
       "      <th>OPPONENT</th>\n",
       "      <th>METHOD</th>\n",
       "      <th>Win</th>\n",
       "      <th>Women_fight</th>\n",
       "      <th>ROUND</th>\n",
       "      <th>HEIGHT_diff</th>\n",
       "      <th>REACH_diff</th>\n",
       "      <th>...</th>\n",
       "      <th>BODY_landed_opponent</th>\n",
       "      <th>BODY_attemps_opponent</th>\n",
       "      <th>LEG_landed_opponent</th>\n",
       "      <th>LEG_attemps_opponent</th>\n",
       "      <th>DISTANCE_landed_opponent</th>\n",
       "      <th>DISTANCE_attemps_opponent</th>\n",
       "      <th>CLINCH_landed_opponent</th>\n",
       "      <th>CLINCH_attemps_opponent</th>\n",
       "      <th>GROUND_landed_opponent</th>\n",
       "      <th>GROUND_attemps_opponent</th>\n",
       "    </tr>\n",
       "  </thead>\n",
       "  <tbody>\n",
       "    <tr>\n",
       "      <th>24</th>\n",
       "      <td>UFC 2: No Way Out</td>\n",
       "      <td>Royce Gracie vs. Patrick Smith</td>\n",
       "      <td>Patrick Smith</td>\n",
       "      <td>Royce Gracie</td>\n",
       "      <td>KO/TKO - ground</td>\n",
       "      <td>0</td>\n",
       "      <td>0</td>\n",
       "      <td>1</td>\n",
       "      <td>1.0</td>\n",
       "      <td>0.0</td>\n",
       "      <td>...</td>\n",
       "      <td>0.0</td>\n",
       "      <td>0.0</td>\n",
       "      <td>3.0</td>\n",
       "      <td>5.0</td>\n",
       "      <td>5.0</td>\n",
       "      <td>10.0</td>\n",
       "      <td>0.0</td>\n",
       "      <td>0.0</td>\n",
       "      <td>0.0</td>\n",
       "      <td>0.0</td>\n",
       "    </tr>\n",
       "    <tr>\n",
       "      <th>25</th>\n",
       "      <td>UFC 2: No Way Out</td>\n",
       "      <td>Royce Gracie vs. Patrick Smith</td>\n",
       "      <td>Royce Gracie</td>\n",
       "      <td>Patrick Smith</td>\n",
       "      <td>KO/TKO - ground</td>\n",
       "      <td>1</td>\n",
       "      <td>0</td>\n",
       "      <td>1</td>\n",
       "      <td>-1.0</td>\n",
       "      <td>0.0</td>\n",
       "      <td>...</td>\n",
       "      <td>0.0</td>\n",
       "      <td>0.0</td>\n",
       "      <td>0.0</td>\n",
       "      <td>1.0</td>\n",
       "      <td>0.0</td>\n",
       "      <td>2.0</td>\n",
       "      <td>0.0</td>\n",
       "      <td>0.0</td>\n",
       "      <td>3.0</td>\n",
       "      <td>5.0</td>\n",
       "    </tr>\n",
       "    <tr>\n",
       "      <th>26</th>\n",
       "      <td>UFC 2: No Way Out</td>\n",
       "      <td>Royce Gracie vs. Remco Pardoel</td>\n",
       "      <td>Remco Pardoel</td>\n",
       "      <td>Royce Gracie</td>\n",
       "      <td>Submission</td>\n",
       "      <td>0</td>\n",
       "      <td>0</td>\n",
       "      <td>1</td>\n",
       "      <td>2.0</td>\n",
       "      <td>0.0</td>\n",
       "      <td>...</td>\n",
       "      <td>0.0</td>\n",
       "      <td>0.0</td>\n",
       "      <td>1.0</td>\n",
       "      <td>1.0</td>\n",
       "      <td>2.0</td>\n",
       "      <td>3.0</td>\n",
       "      <td>0.0</td>\n",
       "      <td>0.0</td>\n",
       "      <td>0.0</td>\n",
       "      <td>2.0</td>\n",
       "    </tr>\n",
       "    <tr>\n",
       "      <th>27</th>\n",
       "      <td>UFC 2: No Way Out</td>\n",
       "      <td>Royce Gracie vs. Remco Pardoel</td>\n",
       "      <td>Royce Gracie</td>\n",
       "      <td>Remco Pardoel</td>\n",
       "      <td>Submission</td>\n",
       "      <td>1</td>\n",
       "      <td>0</td>\n",
       "      <td>1</td>\n",
       "      <td>-2.0</td>\n",
       "      <td>0.0</td>\n",
       "      <td>...</td>\n",
       "      <td>1.0</td>\n",
       "      <td>2.0</td>\n",
       "      <td>0.0</td>\n",
       "      <td>1.0</td>\n",
       "      <td>0.0</td>\n",
       "      <td>3.0</td>\n",
       "      <td>1.0</td>\n",
       "      <td>1.0</td>\n",
       "      <td>3.0</td>\n",
       "      <td>5.0</td>\n",
       "    </tr>\n",
       "    <tr>\n",
       "      <th>50</th>\n",
       "      <td>UFC 4: Revenge of the Warriors</td>\n",
       "      <td>Royce Gracie vs. Dan Severn</td>\n",
       "      <td>Dan Severn</td>\n",
       "      <td>Royce Gracie</td>\n",
       "      <td>Submission</td>\n",
       "      <td>0</td>\n",
       "      <td>0</td>\n",
       "      <td>1</td>\n",
       "      <td>1.0</td>\n",
       "      <td>0.0</td>\n",
       "      <td>...</td>\n",
       "      <td>3.0</td>\n",
       "      <td>4.0</td>\n",
       "      <td>2.0</td>\n",
       "      <td>3.0</td>\n",
       "      <td>3.0</td>\n",
       "      <td>5.0</td>\n",
       "      <td>3.0</td>\n",
       "      <td>3.0</td>\n",
       "      <td>3.0</td>\n",
       "      <td>3.0</td>\n",
       "    </tr>\n",
       "  </tbody>\n",
       "</table>\n",
       "<p>5 rows × 63 columns</p>\n",
       "</div>"
      ],
      "text/plain": [
       "                             EVENT                            BOUT  \\\n",
       "24               UFC 2: No Way Out  Royce Gracie vs. Patrick Smith   \n",
       "25               UFC 2: No Way Out  Royce Gracie vs. Patrick Smith   \n",
       "26               UFC 2: No Way Out  Royce Gracie vs. Remco Pardoel   \n",
       "27               UFC 2: No Way Out  Royce Gracie vs. Remco Pardoel   \n",
       "50  UFC 4: Revenge of the Warriors     Royce Gracie vs. Dan Severn   \n",
       "\n",
       "          FIGHTER       OPPONENT           METHOD  Win  Women_fight  ROUND  \\\n",
       "24  Patrick Smith   Royce Gracie  KO/TKO - ground    0            0      1   \n",
       "25   Royce Gracie  Patrick Smith  KO/TKO - ground    1            0      1   \n",
       "26  Remco Pardoel   Royce Gracie       Submission    0            0      1   \n",
       "27   Royce Gracie  Remco Pardoel       Submission    1            0      1   \n",
       "50     Dan Severn   Royce Gracie       Submission    0            0      1   \n",
       "\n",
       "    HEIGHT_diff  REACH_diff  ...  BODY_landed_opponent  BODY_attemps_opponent  \\\n",
       "24          1.0         0.0  ...                   0.0                    0.0   \n",
       "25         -1.0         0.0  ...                   0.0                    0.0   \n",
       "26          2.0         0.0  ...                   0.0                    0.0   \n",
       "27         -2.0         0.0  ...                   1.0                    2.0   \n",
       "50          1.0         0.0  ...                   3.0                    4.0   \n",
       "\n",
       "    LEG_landed_opponent  LEG_attemps_opponent  DISTANCE_landed_opponent  \\\n",
       "24                  3.0                   5.0                       5.0   \n",
       "25                  0.0                   1.0                       0.0   \n",
       "26                  1.0                   1.0                       2.0   \n",
       "27                  0.0                   1.0                       0.0   \n",
       "50                  2.0                   3.0                       3.0   \n",
       "\n",
       "    DISTANCE_attemps_opponent  CLINCH_landed_opponent  \\\n",
       "24                       10.0                     0.0   \n",
       "25                        2.0                     0.0   \n",
       "26                        3.0                     0.0   \n",
       "27                        3.0                     1.0   \n",
       "50                        5.0                     3.0   \n",
       "\n",
       "    CLINCH_attemps_opponent  GROUND_landed_opponent  GROUND_attemps_opponent  \n",
       "24                      0.0                     0.0                      0.0  \n",
       "25                      0.0                     3.0                      5.0  \n",
       "26                      0.0                     0.0                      2.0  \n",
       "27                      1.0                     3.0                      5.0  \n",
       "50                      3.0                     3.0                      3.0  \n",
       "\n",
       "[5 rows x 63 columns]"
      ]
     },
     "execution_count": 7,
     "metadata": {},
     "output_type": "execute_result"
    }
   ],
   "source": [
    "df.head()"
   ]
  },
  {
   "cell_type": "code",
   "execution_count": 8,
   "id": "3c83f881",
   "metadata": {},
   "outputs": [
    {
     "data": {
      "text/plain": [
       "(6817, 63)"
      ]
     },
     "execution_count": 8,
     "metadata": {},
     "output_type": "execute_result"
    }
   ],
   "source": [
    "df.shape"
   ]
  },
  {
   "cell_type": "code",
   "execution_count": 9,
   "id": "0b47cc75",
   "metadata": {
    "scrolled": true
   },
   "outputs": [
    {
     "data": {
      "text/plain": [
       "['KD_fighter',\n",
       " 'SUB.ATT_fighter',\n",
       " 'REV._fighter',\n",
       " 'CTRL_fighter',\n",
       " 'SIG.STR._landed_fighter',\n",
       " 'SIG.STR._attemps_fighter',\n",
       " 'TOTAL STR._landed_fighter',\n",
       " 'TOTAL STR._attemps_fighter',\n",
       " 'TD_landed_fighter',\n",
       " 'TD_attemps_fighter',\n",
       " 'HEAD_landed_fighter',\n",
       " 'HEAD_attemps_fighter',\n",
       " 'BODY_landed_fighter',\n",
       " 'BODY_attemps_fighter',\n",
       " 'LEG_landed_fighter',\n",
       " 'LEG_attemps_fighter',\n",
       " 'DISTANCE_landed_fighter',\n",
       " 'DISTANCE_attemps_fighter',\n",
       " 'CLINCH_landed_fighter',\n",
       " 'CLINCH_attemps_fighter',\n",
       " 'GROUND_landed_fighter',\n",
       " 'GROUND_attemps_fighter',\n",
       " 'KD_opponent',\n",
       " 'SUB.ATT_opponent',\n",
       " 'REV._opponent',\n",
       " 'CTRL_opponent',\n",
       " 'SIG.STR._landed_opponent',\n",
       " 'SIG.STR._attemps_opponent',\n",
       " 'TOTAL STR._landed_opponent',\n",
       " 'TOTAL STR._attemps_opponent',\n",
       " 'TD_landed_opponent',\n",
       " 'TD_attemps_opponent',\n",
       " 'HEAD_landed_opponent',\n",
       " 'HEAD_attemps_opponent',\n",
       " 'BODY_landed_opponent',\n",
       " 'BODY_attemps_opponent',\n",
       " 'LEG_landed_opponent',\n",
       " 'LEG_attemps_opponent',\n",
       " 'DISTANCE_landed_opponent',\n",
       " 'DISTANCE_attemps_opponent',\n",
       " 'CLINCH_landed_opponent',\n",
       " 'CLINCH_attemps_opponent',\n",
       " 'GROUND_landed_opponent',\n",
       " 'GROUND_attemps_opponent']"
      ]
     },
     "execution_count": 9,
     "metadata": {},
     "output_type": "execute_result"
    }
   ],
   "source": [
    "df.columns.tolist()[19:]"
   ]
  },
  {
   "cell_type": "code",
   "execution_count": 10,
   "id": "1bf9b2da",
   "metadata": {},
   "outputs": [],
   "source": [
    "df = df.merge(df[['EVENT', 'BOUT', 'FIGHTER']+df.columns.tolist()[15:]] ,how='left', left_on=['EVENT', 'BOUT', 'OPPONENT'], right_on=['EVENT', 'BOUT', 'FIGHTER'], suffixes=('_f1', '_f2'))"
   ]
  },
  {
   "cell_type": "code",
   "execution_count": 11,
   "id": "c8ce78f8",
   "metadata": {},
   "outputs": [
    {
     "name": "stdout",
     "output_type": "stream",
     "text": [
      "<class 'pandas.core.frame.DataFrame'>\n",
      "Int64Index: 6817 entries, 0 to 6816\n",
      "Data columns (total 112 columns):\n",
      " #    Column                          Non-Null Count  Dtype  \n",
      "---   ------                          --------------  -----  \n",
      " 0    EVENT                           6817 non-null   object \n",
      " 1    BOUT                            6817 non-null   object \n",
      " 2    FIGHTER_f1                      6817 non-null   object \n",
      " 3    OPPONENT                        6817 non-null   object \n",
      " 4    METHOD                          6817 non-null   object \n",
      " 5    Win                             6817 non-null   int64  \n",
      " 6    Women_fight                     6817 non-null   int64  \n",
      " 7    ROUND                           6817 non-null   int64  \n",
      " 8    HEIGHT_diff                     6817 non-null   float64\n",
      " 9    REACH_diff                      6817 non-null   float64\n",
      " 10   AGE_diff                        6817 non-null   float64\n",
      " 11   form_skore_fighter              6817 non-null   float64\n",
      " 12   form_skore_opponent             6817 non-null   float64\n",
      " 13   fightNo_fighter                 6817 non-null   int64  \n",
      " 14   fightNo_opponent                6817 non-null   float64\n",
      " 15   Win_tot_f1                      6817 non-null   float64\n",
      " 16   DRAW_f1                         6817 non-null   float64\n",
      " 17   No_contest_f1                   6817 non-null   float64\n",
      " 18   TotalTime_f1                    6817 non-null   float64\n",
      " 19   KD_fighter_f1                   6817 non-null   float64\n",
      " 20   SUB.ATT_fighter_f1              6817 non-null   float64\n",
      " 21   REV._fighter_f1                 6817 non-null   float64\n",
      " 22   CTRL_fighter_f1                 6817 non-null   float64\n",
      " 23   SIG.STR._landed_fighter_f1      6817 non-null   float64\n",
      " 24   SIG.STR._attemps_fighter_f1     6817 non-null   float64\n",
      " 25   TOTAL STR._landed_fighter_f1    6817 non-null   float64\n",
      " 26   TOTAL STR._attemps_fighter_f1   6817 non-null   float64\n",
      " 27   TD_landed_fighter_f1            6817 non-null   float64\n",
      " 28   TD_attemps_fighter_f1           6817 non-null   float64\n",
      " 29   HEAD_landed_fighter_f1          6817 non-null   float64\n",
      " 30   HEAD_attemps_fighter_f1         6817 non-null   float64\n",
      " 31   BODY_landed_fighter_f1          6817 non-null   float64\n",
      " 32   BODY_attemps_fighter_f1         6817 non-null   float64\n",
      " 33   LEG_landed_fighter_f1           6817 non-null   float64\n",
      " 34   LEG_attemps_fighter_f1          6817 non-null   float64\n",
      " 35   DISTANCE_landed_fighter_f1      6817 non-null   float64\n",
      " 36   DISTANCE_attemps_fighter_f1     6817 non-null   float64\n",
      " 37   CLINCH_landed_fighter_f1        6817 non-null   float64\n",
      " 38   CLINCH_attemps_fighter_f1       6817 non-null   float64\n",
      " 39   GROUND_landed_fighter_f1        6817 non-null   float64\n",
      " 40   GROUND_attemps_fighter_f1       6817 non-null   float64\n",
      " 41   KD_opponent_f1                  6817 non-null   float64\n",
      " 42   SUB.ATT_opponent_f1             6817 non-null   float64\n",
      " 43   REV._opponent_f1                6817 non-null   float64\n",
      " 44   CTRL_opponent_f1                6817 non-null   float64\n",
      " 45   SIG.STR._landed_opponent_f1     6817 non-null   float64\n",
      " 46   SIG.STR._attemps_opponent_f1    6817 non-null   float64\n",
      " 47   TOTAL STR._landed_opponent_f1   6817 non-null   float64\n",
      " 48   TOTAL STR._attemps_opponent_f1  6817 non-null   float64\n",
      " 49   TD_landed_opponent_f1           6817 non-null   float64\n",
      " 50   TD_attemps_opponent_f1          6817 non-null   float64\n",
      " 51   HEAD_landed_opponent_f1         6817 non-null   float64\n",
      " 52   HEAD_attemps_opponent_f1        6817 non-null   float64\n",
      " 53   BODY_landed_opponent_f1         6817 non-null   float64\n",
      " 54   BODY_attemps_opponent_f1        6817 non-null   float64\n",
      " 55   LEG_landed_opponent_f1          6817 non-null   float64\n",
      " 56   LEG_attemps_opponent_f1         6817 non-null   float64\n",
      " 57   DISTANCE_landed_opponent_f1     6817 non-null   float64\n",
      " 58   DISTANCE_attemps_opponent_f1    6817 non-null   float64\n",
      " 59   CLINCH_landed_opponent_f1       6817 non-null   float64\n",
      " 60   CLINCH_attemps_opponent_f1      6817 non-null   float64\n",
      " 61   GROUND_landed_opponent_f1       6817 non-null   float64\n",
      " 62   GROUND_attemps_opponent_f1      6817 non-null   float64\n",
      " 63   FIGHTER_f2                      6816 non-null   object \n",
      " 64   Win_tot_f2                      6816 non-null   float64\n",
      " 65   DRAW_f2                         6816 non-null   float64\n",
      " 66   No_contest_f2                   6816 non-null   float64\n",
      " 67   TotalTime_f2                    6816 non-null   float64\n",
      " 68   KD_fighter_f2                   6816 non-null   float64\n",
      " 69   SUB.ATT_fighter_f2              6816 non-null   float64\n",
      " 70   REV._fighter_f2                 6816 non-null   float64\n",
      " 71   CTRL_fighter_f2                 6816 non-null   float64\n",
      " 72   SIG.STR._landed_fighter_f2      6816 non-null   float64\n",
      " 73   SIG.STR._attemps_fighter_f2     6816 non-null   float64\n",
      " 74   TOTAL STR._landed_fighter_f2    6816 non-null   float64\n",
      " 75   TOTAL STR._attemps_fighter_f2   6816 non-null   float64\n",
      " 76   TD_landed_fighter_f2            6816 non-null   float64\n",
      " 77   TD_attemps_fighter_f2           6816 non-null   float64\n",
      " 78   HEAD_landed_fighter_f2          6816 non-null   float64\n",
      " 79   HEAD_attemps_fighter_f2         6816 non-null   float64\n",
      " 80   BODY_landed_fighter_f2          6816 non-null   float64\n",
      " 81   BODY_attemps_fighter_f2         6816 non-null   float64\n",
      " 82   LEG_landed_fighter_f2           6816 non-null   float64\n",
      " 83   LEG_attemps_fighter_f2          6816 non-null   float64\n",
      " 84   DISTANCE_landed_fighter_f2      6816 non-null   float64\n",
      " 85   DISTANCE_attemps_fighter_f2     6816 non-null   float64\n",
      " 86   CLINCH_landed_fighter_f2        6816 non-null   float64\n",
      " 87   CLINCH_attemps_fighter_f2       6816 non-null   float64\n",
      " 88   GROUND_landed_fighter_f2        6816 non-null   float64\n",
      " 89   GROUND_attemps_fighter_f2       6816 non-null   float64\n",
      " 90   KD_opponent_f2                  6816 non-null   float64\n",
      " 91   SUB.ATT_opponent_f2             6816 non-null   float64\n",
      " 92   REV._opponent_f2                6816 non-null   float64\n",
      " 93   CTRL_opponent_f2                6816 non-null   float64\n",
      " 94   SIG.STR._landed_opponent_f2     6816 non-null   float64\n",
      " 95   SIG.STR._attemps_opponent_f2    6816 non-null   float64\n",
      " 96   TOTAL STR._landed_opponent_f2   6816 non-null   float64\n",
      " 97   TOTAL STR._attemps_opponent_f2  6816 non-null   float64\n",
      " 98   TD_landed_opponent_f2           6816 non-null   float64\n",
      " 99   TD_attemps_opponent_f2          6816 non-null   float64\n",
      " 100  HEAD_landed_opponent_f2         6816 non-null   float64\n",
      " 101  HEAD_attemps_opponent_f2        6816 non-null   float64\n",
      " 102  BODY_landed_opponent_f2         6816 non-null   float64\n",
      " 103  BODY_attemps_opponent_f2        6816 non-null   float64\n",
      " 104  LEG_landed_opponent_f2          6816 non-null   float64\n",
      " 105  LEG_attemps_opponent_f2         6816 non-null   float64\n",
      " 106  DISTANCE_landed_opponent_f2     6816 non-null   float64\n",
      " 107  DISTANCE_attemps_opponent_f2    6816 non-null   float64\n",
      " 108  CLINCH_landed_opponent_f2       6816 non-null   float64\n",
      " 109  CLINCH_attemps_opponent_f2      6816 non-null   float64\n",
      " 110  GROUND_landed_opponent_f2       6816 non-null   float64\n",
      " 111  GROUND_attemps_opponent_f2      6816 non-null   float64\n",
      "dtypes: float64(102), int64(4), object(6)\n",
      "memory usage: 5.9+ MB\n"
     ]
    }
   ],
   "source": [
    "df.info(verbose=True, show_counts=True)"
   ]
  },
  {
   "cell_type": "code",
   "execution_count": 12,
   "id": "e911a19b",
   "metadata": {},
   "outputs": [],
   "source": [
    "df = df.drop('FIGHTER_f2',axis=1)"
   ]
  },
  {
   "cell_type": "code",
   "execution_count": 13,
   "id": "1458353b",
   "metadata": {},
   "outputs": [
    {
     "data": {
      "text/plain": [
       "['LEG', 'attemps', 'fighter', 'f1']"
      ]
     },
     "execution_count": 13,
     "metadata": {},
     "output_type": "execute_result"
    }
   ],
   "source": [
    "'LEG_attemps_fighter_f1'.split('_')"
   ]
  },
  {
   "cell_type": "code",
   "execution_count": 14,
   "id": "6ec0d15a",
   "metadata": {},
   "outputs": [],
   "source": [
    "sloupce1 = df.columns.tolist()[19:]\n",
    "vynechat = ['Win_tot_f2', 'DRAW_f2','No_contest_f2']\n",
    "sloupce = [x for x in sloupce1 if x not in vynechat]\n",
    "for sloupec in sloupce:    \n",
    "    splited = sloupec.split('_')\n",
    "    if 'CTRL' in splited:\n",
    "        df.loc[:,splited[0]+'_pct_'+splited[1]+splited[2]] = df[sloupec]/df['TotalTime'+'_'+splited[2]]\n",
    "    if 'attemps' in splited:\n",
    "        df.loc[:,splited[0]+'_acc_'+ splited[2] + splited[3]] = df[sloupec.replace('attemps', 'landed')]/df[sloupec]\n",
    "        df.loc[:,splited[0]+'_perRound_'+ splited[2] + splited[3]] = (df[sloupec.replace('attemps', 'landed')]/df['TotalTime'+'_'+splited[3]])*300\n",
    "        \n",
    "    "
   ]
  },
  {
   "cell_type": "code",
   "execution_count": 15,
   "id": "2417f114",
   "metadata": {},
   "outputs": [
    {
     "data": {
      "text/html": [
       "<div>\n",
       "<style scoped>\n",
       "    .dataframe tbody tr th:only-of-type {\n",
       "        vertical-align: middle;\n",
       "    }\n",
       "\n",
       "    .dataframe tbody tr th {\n",
       "        vertical-align: top;\n",
       "    }\n",
       "\n",
       "    .dataframe thead th {\n",
       "        text-align: right;\n",
       "    }\n",
       "</style>\n",
       "<table border=\"1\" class=\"dataframe\">\n",
       "  <thead>\n",
       "    <tr style=\"text-align: right;\">\n",
       "      <th></th>\n",
       "      <th>EVENT</th>\n",
       "      <th>BOUT</th>\n",
       "      <th>FIGHTER_f1</th>\n",
       "      <th>OPPONENT</th>\n",
       "      <th>METHOD</th>\n",
       "    </tr>\n",
       "  </thead>\n",
       "  <tbody>\n",
       "    <tr>\n",
       "      <th>0</th>\n",
       "      <td>UFC 2: No Way Out</td>\n",
       "      <td>Royce Gracie vs. Patrick Smith</td>\n",
       "      <td>Patrick Smith</td>\n",
       "      <td>Royce Gracie</td>\n",
       "      <td>KO/TKO - ground</td>\n",
       "    </tr>\n",
       "    <tr>\n",
       "      <th>1</th>\n",
       "      <td>UFC 2: No Way Out</td>\n",
       "      <td>Royce Gracie vs. Patrick Smith</td>\n",
       "      <td>Royce Gracie</td>\n",
       "      <td>Patrick Smith</td>\n",
       "      <td>KO/TKO - ground</td>\n",
       "    </tr>\n",
       "    <tr>\n",
       "      <th>2</th>\n",
       "      <td>UFC 2: No Way Out</td>\n",
       "      <td>Royce Gracie vs. Remco Pardoel</td>\n",
       "      <td>Remco Pardoel</td>\n",
       "      <td>Royce Gracie</td>\n",
       "      <td>Submission</td>\n",
       "    </tr>\n",
       "    <tr>\n",
       "      <th>3</th>\n",
       "      <td>UFC 2: No Way Out</td>\n",
       "      <td>Royce Gracie vs. Remco Pardoel</td>\n",
       "      <td>Royce Gracie</td>\n",
       "      <td>Remco Pardoel</td>\n",
       "      <td>Submission</td>\n",
       "    </tr>\n",
       "    <tr>\n",
       "      <th>4</th>\n",
       "      <td>UFC 4: Revenge of the Warriors</td>\n",
       "      <td>Royce Gracie vs. Dan Severn</td>\n",
       "      <td>Dan Severn</td>\n",
       "      <td>Royce Gracie</td>\n",
       "      <td>Submission</td>\n",
       "    </tr>\n",
       "    <tr>\n",
       "      <th>...</th>\n",
       "      <td>...</td>\n",
       "      <td>...</td>\n",
       "      <td>...</td>\n",
       "      <td>...</td>\n",
       "      <td>...</td>\n",
       "    </tr>\n",
       "    <tr>\n",
       "      <th>6812</th>\n",
       "      <td>UFC Fight Night: Cannonier vs. Strickland</td>\n",
       "      <td>Jared Cannonier vs. Sean Strickland</td>\n",
       "      <td>Sean Strickland</td>\n",
       "      <td>Jared Cannonier</td>\n",
       "      <td>Decision</td>\n",
       "    </tr>\n",
       "    <tr>\n",
       "      <th>6813</th>\n",
       "      <td>UFC Fight Night: Cannonier vs. Strickland</td>\n",
       "      <td>Said Nurmagomedov vs. Saidyokub Kakhramonov</td>\n",
       "      <td>Said Nurmagomedov</td>\n",
       "      <td>Saidyokub Kakhramonov</td>\n",
       "      <td>Submission</td>\n",
       "    </tr>\n",
       "    <tr>\n",
       "      <th>6814</th>\n",
       "      <td>UFC Fight Night: Cannonier vs. Strickland</td>\n",
       "      <td>Said Nurmagomedov vs. Saidyokub Kakhramonov</td>\n",
       "      <td>Saidyokub Kakhramonov</td>\n",
       "      <td>Said Nurmagomedov</td>\n",
       "      <td>Submission</td>\n",
       "    </tr>\n",
       "    <tr>\n",
       "      <th>6815</th>\n",
       "      <td>UFC Fight Night: Cannonier vs. Strickland</td>\n",
       "      <td>Sergey Morozov vs. Journey Newson</td>\n",
       "      <td>Journey Newson</td>\n",
       "      <td>Sergey Morozov</td>\n",
       "      <td>Decision</td>\n",
       "    </tr>\n",
       "    <tr>\n",
       "      <th>6816</th>\n",
       "      <td>UFC Fight Night: Cannonier vs. Strickland</td>\n",
       "      <td>Sergey Morozov vs. Journey Newson</td>\n",
       "      <td>Sergey Morozov</td>\n",
       "      <td>Journey Newson</td>\n",
       "      <td>Decision</td>\n",
       "    </tr>\n",
       "  </tbody>\n",
       "</table>\n",
       "<p>6817 rows × 5 columns</p>\n",
       "</div>"
      ],
      "text/plain": [
       "                                          EVENT  \\\n",
       "0                             UFC 2: No Way Out   \n",
       "1                             UFC 2: No Way Out   \n",
       "2                             UFC 2: No Way Out   \n",
       "3                             UFC 2: No Way Out   \n",
       "4                UFC 4: Revenge of the Warriors   \n",
       "...                                         ...   \n",
       "6812  UFC Fight Night: Cannonier vs. Strickland   \n",
       "6813  UFC Fight Night: Cannonier vs. Strickland   \n",
       "6814  UFC Fight Night: Cannonier vs. Strickland   \n",
       "6815  UFC Fight Night: Cannonier vs. Strickland   \n",
       "6816  UFC Fight Night: Cannonier vs. Strickland   \n",
       "\n",
       "                                             BOUT             FIGHTER_f1  \\\n",
       "0                  Royce Gracie vs. Patrick Smith          Patrick Smith   \n",
       "1                  Royce Gracie vs. Patrick Smith           Royce Gracie   \n",
       "2                  Royce Gracie vs. Remco Pardoel          Remco Pardoel   \n",
       "3                  Royce Gracie vs. Remco Pardoel           Royce Gracie   \n",
       "4                     Royce Gracie vs. Dan Severn             Dan Severn   \n",
       "...                                           ...                    ...   \n",
       "6812          Jared Cannonier vs. Sean Strickland        Sean Strickland   \n",
       "6813  Said Nurmagomedov vs. Saidyokub Kakhramonov      Said Nurmagomedov   \n",
       "6814  Said Nurmagomedov vs. Saidyokub Kakhramonov  Saidyokub Kakhramonov   \n",
       "6815            Sergey Morozov vs. Journey Newson         Journey Newson   \n",
       "6816            Sergey Morozov vs. Journey Newson         Sergey Morozov   \n",
       "\n",
       "                   OPPONENT           METHOD  \n",
       "0              Royce Gracie  KO/TKO - ground  \n",
       "1             Patrick Smith  KO/TKO - ground  \n",
       "2              Royce Gracie       Submission  \n",
       "3             Remco Pardoel       Submission  \n",
       "4              Royce Gracie       Submission  \n",
       "...                     ...              ...  \n",
       "6812        Jared Cannonier         Decision  \n",
       "6813  Saidyokub Kakhramonov       Submission  \n",
       "6814      Said Nurmagomedov       Submission  \n",
       "6815         Sergey Morozov         Decision  \n",
       "6816         Journey Newson         Decision  \n",
       "\n",
       "[6817 rows x 5 columns]"
      ]
     },
     "execution_count": 15,
     "metadata": {},
     "output_type": "execute_result"
    }
   ],
   "source": [
    "df.iloc[:,:5]"
   ]
  },
  {
   "cell_type": "code",
   "execution_count": 16,
   "id": "4e6956bf",
   "metadata": {},
   "outputs": [],
   "source": [
    "df = df.drop(sloupce, axis=1)"
   ]
  },
  {
   "cell_type": "code",
   "execution_count": 17,
   "id": "eefa5d15",
   "metadata": {},
   "outputs": [],
   "source": [
    "df_model = df.drop(['EVENT','BOUT','FIGHTER_f1','OPPONENT','METHOD','Women_fight','ROUND','TotalTime_f1'],axis=1)"
   ]
  },
  {
   "cell_type": "code",
   "execution_count": 18,
   "id": "9b03af1f",
   "metadata": {},
   "outputs": [
    {
     "name": "stdout",
     "output_type": "stream",
     "text": [
      "<class 'pandas.core.frame.DataFrame'>\n",
      "Int64Index: 6817 entries, 0 to 6816\n",
      "Data columns (total 90 columns):\n",
      " #   Column                          Non-Null Count  Dtype  \n",
      "---  ------                          --------------  -----  \n",
      " 0   Win                             6817 non-null   int64  \n",
      " 1   HEIGHT_diff                     6817 non-null   float64\n",
      " 2   REACH_diff                      6817 non-null   float64\n",
      " 3   AGE_diff                        6817 non-null   float64\n",
      " 4   form_skore_fighter              6817 non-null   float64\n",
      " 5   form_skore_opponent             6817 non-null   float64\n",
      " 6   fightNo_fighter                 6817 non-null   int64  \n",
      " 7   fightNo_opponent                6817 non-null   float64\n",
      " 8   Win_tot_f1                      6817 non-null   float64\n",
      " 9   DRAW_f1                         6817 non-null   float64\n",
      " 10  No_contest_f1                   6817 non-null   float64\n",
      " 11  Win_tot_f2                      6817 non-null   float64\n",
      " 12  DRAW_f2                         6817 non-null   float64\n",
      " 13  No_contest_f2                   6817 non-null   float64\n",
      " 14  CTRL_pct_fighterf1              6817 non-null   float64\n",
      " 15  SIG.STR._acc_fighterf1          6817 non-null   float64\n",
      " 16  SIG.STR._perRound_fighterf1     6817 non-null   float64\n",
      " 17  TOTAL STR._acc_fighterf1        6817 non-null   float64\n",
      " 18  TOTAL STR._perRound_fighterf1   6817 non-null   float64\n",
      " 19  TD_acc_fighterf1                6817 non-null   float64\n",
      " 20  TD_perRound_fighterf1           6817 non-null   float64\n",
      " 21  HEAD_acc_fighterf1              6817 non-null   float64\n",
      " 22  HEAD_perRound_fighterf1         6817 non-null   float64\n",
      " 23  BODY_acc_fighterf1              6817 non-null   float64\n",
      " 24  BODY_perRound_fighterf1         6817 non-null   float64\n",
      " 25  LEG_acc_fighterf1               6817 non-null   float64\n",
      " 26  LEG_perRound_fighterf1          6817 non-null   float64\n",
      " 27  DISTANCE_acc_fighterf1          6817 non-null   float64\n",
      " 28  DISTANCE_perRound_fighterf1     6817 non-null   float64\n",
      " 29  CLINCH_acc_fighterf1            6817 non-null   float64\n",
      " 30  CLINCH_perRound_fighterf1       6817 non-null   float64\n",
      " 31  GROUND_acc_fighterf1            6817 non-null   float64\n",
      " 32  GROUND_perRound_fighterf1       6817 non-null   float64\n",
      " 33  CTRL_pct_opponentf1             6817 non-null   float64\n",
      " 34  SIG.STR._acc_opponentf1         6817 non-null   float64\n",
      " 35  SIG.STR._perRound_opponentf1    6817 non-null   float64\n",
      " 36  TOTAL STR._acc_opponentf1       6817 non-null   float64\n",
      " 37  TOTAL STR._perRound_opponentf1  6817 non-null   float64\n",
      " 38  TD_acc_opponentf1               6817 non-null   float64\n",
      " 39  TD_perRound_opponentf1          6817 non-null   float64\n",
      " 40  HEAD_acc_opponentf1             6817 non-null   float64\n",
      " 41  HEAD_perRound_opponentf1        6817 non-null   float64\n",
      " 42  BODY_acc_opponentf1             6817 non-null   float64\n",
      " 43  BODY_perRound_opponentf1        6817 non-null   float64\n",
      " 44  LEG_acc_opponentf1              6817 non-null   float64\n",
      " 45  LEG_perRound_opponentf1         6817 non-null   float64\n",
      " 46  DISTANCE_acc_opponentf1         6817 non-null   float64\n",
      " 47  DISTANCE_perRound_opponentf1    6817 non-null   float64\n",
      " 48  CLINCH_acc_opponentf1           6817 non-null   float64\n",
      " 49  CLINCH_perRound_opponentf1      6817 non-null   float64\n",
      " 50  GROUND_acc_opponentf1           6817 non-null   float64\n",
      " 51  GROUND_perRound_opponentf1      6817 non-null   float64\n",
      " 52  CTRL_pct_fighterf2              6817 non-null   float64\n",
      " 53  SIG.STR._acc_fighterf2          6817 non-null   float64\n",
      " 54  SIG.STR._perRound_fighterf2     6817 non-null   float64\n",
      " 55  TOTAL STR._acc_fighterf2        6817 non-null   float64\n",
      " 56  TOTAL STR._perRound_fighterf2   6817 non-null   float64\n",
      " 57  TD_acc_fighterf2                6817 non-null   float64\n",
      " 58  TD_perRound_fighterf2           6817 non-null   float64\n",
      " 59  HEAD_acc_fighterf2              6817 non-null   float64\n",
      " 60  HEAD_perRound_fighterf2         6817 non-null   float64\n",
      " 61  BODY_acc_fighterf2              6817 non-null   float64\n",
      " 62  BODY_perRound_fighterf2         6817 non-null   float64\n",
      " 63  LEG_acc_fighterf2               6817 non-null   float64\n",
      " 64  LEG_perRound_fighterf2          6817 non-null   float64\n",
      " 65  DISTANCE_acc_fighterf2          6817 non-null   float64\n",
      " 66  DISTANCE_perRound_fighterf2     6817 non-null   float64\n",
      " 67  CLINCH_acc_fighterf2            6817 non-null   float64\n",
      " 68  CLINCH_perRound_fighterf2       6817 non-null   float64\n",
      " 69  GROUND_acc_fighterf2            6817 non-null   float64\n",
      " 70  GROUND_perRound_fighterf2       6817 non-null   float64\n",
      " 71  CTRL_pct_opponentf2             6817 non-null   float64\n",
      " 72  SIG.STR._acc_opponentf2         6817 non-null   float64\n",
      " 73  SIG.STR._perRound_opponentf2    6817 non-null   float64\n",
      " 74  TOTAL STR._acc_opponentf2       6817 non-null   float64\n",
      " 75  TOTAL STR._perRound_opponentf2  6817 non-null   float64\n",
      " 76  TD_acc_opponentf2               6817 non-null   float64\n",
      " 77  TD_perRound_opponentf2          6817 non-null   float64\n",
      " 78  HEAD_acc_opponentf2             6817 non-null   float64\n",
      " 79  HEAD_perRound_opponentf2        6817 non-null   float64\n",
      " 80  BODY_acc_opponentf2             6817 non-null   float64\n",
      " 81  BODY_perRound_opponentf2        6817 non-null   float64\n",
      " 82  LEG_acc_opponentf2              6817 non-null   float64\n",
      " 83  LEG_perRound_opponentf2         6817 non-null   float64\n",
      " 84  DISTANCE_acc_opponentf2         6817 non-null   float64\n",
      " 85  DISTANCE_perRound_opponentf2    6817 non-null   float64\n",
      " 86  CLINCH_acc_opponentf2           6817 non-null   float64\n",
      " 87  CLINCH_perRound_opponentf2      6817 non-null   float64\n",
      " 88  GROUND_acc_opponentf2           6817 non-null   float64\n",
      " 89  GROUND_perRound_opponentf2      6817 non-null   float64\n",
      "dtypes: float64(88), int64(2)\n",
      "memory usage: 4.7 MB\n"
     ]
    }
   ],
   "source": [
    "df_model = df_model.fillna(0)\n",
    "df_model.info()"
   ]
  },
  {
   "cell_type": "code",
   "execution_count": 19,
   "id": "f6fc0f16",
   "metadata": {},
   "outputs": [
    {
     "name": "stdout",
     "output_type": "stream",
     "text": [
      "(6617, 200, 89)\n",
      "Epoch 1/80\n",
      "187/187 [==============================] - 20s 98ms/step - loss: 0.6996 - accuracy: 0.5081 - val_loss: 0.6966 - val_accuracy: 0.5000\n",
      "Epoch 2/80\n",
      "187/187 [==============================] - 18s 95ms/step - loss: 0.6937 - accuracy: 0.5149 - val_loss: 0.6940 - val_accuracy: 0.4985\n",
      "Epoch 3/80\n",
      "187/187 [==============================] - 17s 91ms/step - loss: 0.6921 - accuracy: 0.5144 - val_loss: 0.6915 - val_accuracy: 0.5166\n",
      "Epoch 4/80\n",
      "187/187 [==============================] - 18s 95ms/step - loss: 0.6904 - accuracy: 0.5285 - val_loss: 0.6969 - val_accuracy: 0.4970\n",
      "Epoch 5/80\n",
      "187/187 [==============================] - 17s 91ms/step - loss: 0.6903 - accuracy: 0.5306 - val_loss: 0.6908 - val_accuracy: 0.5242\n",
      "Epoch 6/80\n",
      "187/187 [==============================] - 17s 93ms/step - loss: 0.6880 - accuracy: 0.5389 - val_loss: 0.6901 - val_accuracy: 0.5227\n",
      "Epoch 7/80\n",
      "187/187 [==============================] - 18s 96ms/step - loss: 0.6867 - accuracy: 0.5439 - val_loss: 0.6903 - val_accuracy: 0.5317\n",
      "Epoch 8/80\n",
      "187/187 [==============================] - 17s 89ms/step - loss: 0.6862 - accuracy: 0.5483 - val_loss: 0.6919 - val_accuracy: 0.5166\n",
      "Epoch 9/80\n",
      "187/187 [==============================] - 17s 91ms/step - loss: 0.6838 - accuracy: 0.5600 - val_loss: 0.6918 - val_accuracy: 0.5242\n",
      "Epoch 10/80\n",
      "187/187 [==============================] - 17s 92ms/step - loss: 0.6854 - accuracy: 0.5520 - val_loss: 0.6911 - val_accuracy: 0.5257\n",
      "Epoch 11/80\n",
      "187/187 [==============================] - 16s 87ms/step - loss: 0.6822 - accuracy: 0.5557 - val_loss: 0.6923 - val_accuracy: 0.5181\n",
      "Epoch 12/80\n",
      "187/187 [==============================] - 16s 87ms/step - loss: 0.6811 - accuracy: 0.5557 - val_loss: 0.6926 - val_accuracy: 0.5227\n",
      "Epoch 13/80\n",
      "187/187 [==============================] - 16s 88ms/step - loss: 0.6801 - accuracy: 0.5631 - val_loss: 0.6940 - val_accuracy: 0.5166\n",
      "Epoch 14/80\n",
      "187/187 [==============================] - 17s 89ms/step - loss: 0.6790 - accuracy: 0.5713 - val_loss: 0.6925 - val_accuracy: 0.5347\n",
      "Epoch 15/80\n",
      "187/187 [==============================] - 17s 90ms/step - loss: 0.6792 - accuracy: 0.5684 - val_loss: 0.6947 - val_accuracy: 0.5227\n",
      "Epoch 16/80\n",
      "187/187 [==============================] - 16s 88ms/step - loss: 0.6776 - accuracy: 0.5720 - val_loss: 0.7006 - val_accuracy: 0.5076\n",
      "Epoch 17/80\n",
      "187/187 [==============================] - 16s 88ms/step - loss: 0.6769 - accuracy: 0.5736 - val_loss: 0.6944 - val_accuracy: 0.5166\n",
      "Epoch 18/80\n",
      "187/187 [==============================] - 16s 87ms/step - loss: 0.6759 - accuracy: 0.5793 - val_loss: 0.6943 - val_accuracy: 0.5287\n",
      "Epoch 19/80\n",
      "187/187 [==============================] - 17s 88ms/step - loss: 0.6745 - accuracy: 0.5793 - val_loss: 0.6973 - val_accuracy: 0.5211\n",
      "Epoch 20/80\n",
      "187/187 [==============================] - 16s 88ms/step - loss: 0.6737 - accuracy: 0.5763 - val_loss: 0.6989 - val_accuracy: 0.5121\n",
      "Epoch 21/80\n",
      "187/187 [==============================] - 16s 88ms/step - loss: 0.6728 - accuracy: 0.5807 - val_loss: 0.6937 - val_accuracy: 0.5227\n",
      "Epoch 22/80\n",
      "187/187 [==============================] - 16s 88ms/step - loss: 0.6712 - accuracy: 0.5837 - val_loss: 0.6939 - val_accuracy: 0.5211\n",
      "Epoch 23/80\n",
      "187/187 [==============================] - 16s 88ms/step - loss: 0.6692 - accuracy: 0.5941 - val_loss: 0.7006 - val_accuracy: 0.5332\n",
      "Epoch 24/80\n",
      "187/187 [==============================] - 17s 89ms/step - loss: 0.6665 - accuracy: 0.5961 - val_loss: 0.6929 - val_accuracy: 0.5257\n",
      "Epoch 25/80\n",
      "187/187 [==============================] - 17s 92ms/step - loss: 0.6650 - accuracy: 0.5929 - val_loss: 0.6951 - val_accuracy: 0.5332\n",
      "Epoch 26/80\n",
      "187/187 [==============================] - 16s 88ms/step - loss: 0.6603 - accuracy: 0.6045 - val_loss: 0.7115 - val_accuracy: 0.5287\n",
      "Epoch 27/80\n",
      "187/187 [==============================] - 16s 88ms/step - loss: 0.6564 - accuracy: 0.6025 - val_loss: 0.6997 - val_accuracy: 0.5408\n",
      "Epoch 28/80\n",
      "187/187 [==============================] - 16s 88ms/step - loss: 0.6506 - accuracy: 0.6146 - val_loss: 0.6998 - val_accuracy: 0.5468\n",
      "Epoch 29/80\n",
      "187/187 [==============================] - 16s 88ms/step - loss: 0.6454 - accuracy: 0.6186 - val_loss: 0.7026 - val_accuracy: 0.5363\n",
      "Epoch 30/80\n",
      "187/187 [==============================] - 16s 88ms/step - loss: 0.6348 - accuracy: 0.6396 - val_loss: 0.7168 - val_accuracy: 0.5332\n",
      "Epoch 31/80\n",
      "187/187 [==============================] - 17s 92ms/step - loss: 0.6245 - accuracy: 0.6430 - val_loss: 0.6967 - val_accuracy: 0.5483\n",
      "Epoch 32/80\n",
      "187/187 [==============================] - 17s 88ms/step - loss: 0.6196 - accuracy: 0.6566 - val_loss: 0.7097 - val_accuracy: 0.5770\n",
      "Epoch 33/80\n",
      "187/187 [==============================] - 16s 88ms/step - loss: 0.6080 - accuracy: 0.6688 - val_loss: 0.6910 - val_accuracy: 0.5785\n",
      "Epoch 34/80\n",
      "187/187 [==============================] - 16s 88ms/step - loss: 0.5961 - accuracy: 0.6709 - val_loss: 0.6933 - val_accuracy: 0.5634\n",
      "Epoch 35/80\n",
      "187/187 [==============================] - 16s 88ms/step - loss: 0.5814 - accuracy: 0.6883 - val_loss: 0.7155 - val_accuracy: 0.5544\n",
      "Epoch 36/80\n",
      "187/187 [==============================] - 16s 87ms/step - loss: 0.5744 - accuracy: 0.6962 - val_loss: 0.7158 - val_accuracy: 0.5816\n",
      "Epoch 37/80\n",
      "187/187 [==============================] - 16s 88ms/step - loss: 0.5600 - accuracy: 0.7100 - val_loss: 0.7050 - val_accuracy: 0.5967\n",
      "Epoch 38/80\n",
      "187/187 [==============================] - 16s 88ms/step - loss: 0.5410 - accuracy: 0.7234 - val_loss: 0.7246 - val_accuracy: 0.5846\n",
      "Epoch 39/80\n",
      "187/187 [==============================] - 16s 88ms/step - loss: 0.5350 - accuracy: 0.7303 - val_loss: 0.6934 - val_accuracy: 0.6118\n",
      "Epoch 40/80\n",
      "187/187 [==============================] - 16s 88ms/step - loss: 0.5086 - accuracy: 0.7484 - val_loss: 0.7338 - val_accuracy: 0.5937\n",
      "Epoch 41/80\n",
      "187/187 [==============================] - 16s 88ms/step - loss: 0.5052 - accuracy: 0.7580 - val_loss: 0.6972 - val_accuracy: 0.6163\n",
      "Epoch 42/80\n",
      "187/187 [==============================] - 17s 88ms/step - loss: 0.4885 - accuracy: 0.7636 - val_loss: 0.6881 - val_accuracy: 0.6329\n",
      "Epoch 43/80\n",
      "187/187 [==============================] - 16s 87ms/step - loss: 0.4714 - accuracy: 0.7725 - val_loss: 0.7198 - val_accuracy: 0.6299\n",
      "Epoch 44/80\n",
      "187/187 [==============================] - 16s 87ms/step - loss: 0.4531 - accuracy: 0.7867 - val_loss: 0.7237 - val_accuracy: 0.6299\n",
      "Epoch 45/80\n",
      "187/187 [==============================] - 16s 87ms/step - loss: 0.4607 - accuracy: 0.7805 - val_loss: 0.7199 - val_accuracy: 0.6375\n",
      "Epoch 46/80\n",
      "187/187 [==============================] - 16s 88ms/step - loss: 0.4202 - accuracy: 0.8089 - val_loss: 0.6978 - val_accuracy: 0.6314\n",
      "Epoch 47/80\n",
      "187/187 [==============================] - 17s 89ms/step - loss: 0.4038 - accuracy: 0.8185 - val_loss: 0.6879 - val_accuracy: 0.6571\n",
      "Epoch 48/80\n",
      "187/187 [==============================] - 16s 88ms/step - loss: 0.3930 - accuracy: 0.8183 - val_loss: 0.7101 - val_accuracy: 0.6647\n",
      "Epoch 49/80\n",
      "187/187 [==============================] - 16s 88ms/step - loss: 0.3815 - accuracy: 0.8289 - val_loss: 0.7089 - val_accuracy: 0.6511\n",
      "Epoch 50/80\n",
      "187/187 [==============================] - 16s 88ms/step - loss: 0.3510 - accuracy: 0.8423 - val_loss: 0.7554 - val_accuracy: 0.6480\n",
      "Epoch 51/80\n",
      "187/187 [==============================] - 16s 88ms/step - loss: 0.3534 - accuracy: 0.8413 - val_loss: 0.7214 - val_accuracy: 0.6798\n",
      "Epoch 52/80\n",
      "187/187 [==============================] - 17s 89ms/step - loss: 0.3244 - accuracy: 0.8643 - val_loss: 0.7182 - val_accuracy: 0.6737\n",
      "Epoch 53/80\n",
      "187/187 [==============================] - 16s 88ms/step - loss: 0.3045 - accuracy: 0.8707 - val_loss: 0.7616 - val_accuracy: 0.6752\n",
      "Epoch 54/80\n",
      "187/187 [==============================] - 16s 87ms/step - loss: 0.2953 - accuracy: 0.8762 - val_loss: 0.7102 - val_accuracy: 0.6722\n",
      "Epoch 55/80\n",
      "187/187 [==============================] - 17s 93ms/step - loss: 0.2720 - accuracy: 0.8878 - val_loss: 0.6663 - val_accuracy: 0.7175\n",
      "Epoch 56/80\n",
      "187/187 [==============================] - 17s 92ms/step - loss: 0.2549 - accuracy: 0.8959 - val_loss: 0.7575 - val_accuracy: 0.6571\n",
      "Epoch 57/80\n"
     ]
    },
    {
     "name": "stdout",
     "output_type": "stream",
     "text": [
      "187/187 [==============================] - 17s 88ms/step - loss: 0.2436 - accuracy: 0.9011 - val_loss: 0.7122 - val_accuracy: 0.7009\n",
      "Epoch 58/80\n",
      "187/187 [==============================] - 16s 87ms/step - loss: 0.2351 - accuracy: 0.8991 - val_loss: 0.7445 - val_accuracy: 0.7009\n",
      "Epoch 59/80\n",
      "187/187 [==============================] - 16s 87ms/step - loss: 0.2126 - accuracy: 0.9142 - val_loss: 0.7174 - val_accuracy: 0.6934\n",
      "Epoch 60/80\n",
      "187/187 [==============================] - 16s 87ms/step - loss: 0.2102 - accuracy: 0.9182 - val_loss: 0.7282 - val_accuracy: 0.7251\n",
      "Epoch 61/80\n",
      "187/187 [==============================] - 16s 87ms/step - loss: 0.1719 - accuracy: 0.9306 - val_loss: 0.7408 - val_accuracy: 0.7251\n",
      "Epoch 62/80\n",
      "187/187 [==============================] - 16s 87ms/step - loss: 0.1711 - accuracy: 0.9315 - val_loss: 0.7166 - val_accuracy: 0.7205\n",
      "Epoch 63/80\n",
      "187/187 [==============================] - 16s 87ms/step - loss: 0.1580 - accuracy: 0.9402 - val_loss: 0.7687 - val_accuracy: 0.7236\n",
      "Epoch 64/80\n",
      "187/187 [==============================] - 16s 88ms/step - loss: 0.1436 - accuracy: 0.9456 - val_loss: 0.7753 - val_accuracy: 0.7236\n",
      "Epoch 65/80\n",
      "187/187 [==============================] - 16s 87ms/step - loss: 0.1533 - accuracy: 0.9387 - val_loss: 0.7574 - val_accuracy: 0.7069\n",
      "Epoch 66/80\n",
      "187/187 [==============================] - 16s 87ms/step - loss: 0.1210 - accuracy: 0.9547 - val_loss: 0.8265 - val_accuracy: 0.7205\n",
      "Epoch 67/80\n",
      "187/187 [==============================] - 16s 88ms/step - loss: 0.1216 - accuracy: 0.9550 - val_loss: 0.7842 - val_accuracy: 0.7432\n",
      "Epoch 68/80\n",
      "187/187 [==============================] - 17s 91ms/step - loss: 0.1468 - accuracy: 0.9439 - val_loss: 0.7232 - val_accuracy: 0.7704\n",
      "Epoch 69/80\n",
      "187/187 [==============================] - 16s 87ms/step - loss: 0.1038 - accuracy: 0.9609 - val_loss: 0.8347 - val_accuracy: 0.7251\n",
      "Epoch 70/80\n",
      "187/187 [==============================] - 16s 87ms/step - loss: 0.1173 - accuracy: 0.9552 - val_loss: 0.7433 - val_accuracy: 0.7477\n",
      "Epoch 71/80\n",
      "187/187 [==============================] - 16s 87ms/step - loss: 0.0909 - accuracy: 0.9696 - val_loss: 0.7192 - val_accuracy: 0.7568\n",
      "Epoch 72/80\n",
      "187/187 [==============================] - 17s 89ms/step - loss: 0.0856 - accuracy: 0.9694 - val_loss: 0.7364 - val_accuracy: 0.7583\n",
      "Epoch 73/80\n",
      "187/187 [==============================] - 16s 87ms/step - loss: 0.0770 - accuracy: 0.9731 - val_loss: 0.8014 - val_accuracy: 0.7613\n",
      "Epoch 74/80\n",
      "187/187 [==============================] - 16s 87ms/step - loss: 0.0707 - accuracy: 0.9760 - val_loss: 0.8218 - val_accuracy: 0.7749\n",
      "Epoch 75/80\n",
      "187/187 [==============================] - 16s 88ms/step - loss: 0.0819 - accuracy: 0.9698 - val_loss: 0.8231 - val_accuracy: 0.7568\n",
      "Epoch 76/80\n",
      "187/187 [==============================] - 16s 88ms/step - loss: 0.0821 - accuracy: 0.9686 - val_loss: 0.7726 - val_accuracy: 0.7644\n",
      "Epoch 77/80\n",
      "187/187 [==============================] - 16s 87ms/step - loss: 0.0669 - accuracy: 0.9743 - val_loss: 0.8161 - val_accuracy: 0.7704\n",
      "Epoch 78/80\n",
      "187/187 [==============================] - 16s 87ms/step - loss: 0.0684 - accuracy: 0.9765 - val_loss: 0.7435 - val_accuracy: 0.7855\n",
      "Epoch 79/80\n",
      "187/187 [==============================] - 16s 88ms/step - loss: 0.0636 - accuracy: 0.9783 - val_loss: 0.8096 - val_accuracy: 0.7946\n",
      "Epoch 80/80\n",
      "187/187 [==============================] - 17s 88ms/step - loss: 0.0559 - accuracy: 0.9819 - val_loss: 0.8254 - val_accuracy: 0.7915\n",
      "21/21 [==============================] - 1s 33ms/step - loss: 0.8254 - accuracy: 0.7915\n",
      "Test accuracy: 0.791540801525116\n"
     ]
    }
   ],
   "source": [
    "import pandas as pd\n",
    "from keras.layers import LSTM, Dense\n",
    "from keras.models import Sequential\n",
    "from sklearn.preprocessing import MinMaxScaler\n",
    "from sklearn.model_selection import train_test_split\n",
    "\n",
    "# načtení dat\n",
    "\n",
    "# definice lookback\n",
    "lookback = 200\n",
    "\n",
    "# převod dat na numpy array\n",
    "data = df_model.values\n",
    "scaler = MinMaxScaler(feature_range=(0, 1))\n",
    "data_scaled = scaler.fit_transform(data)\n",
    "\n",
    "# rozdělení dat na trénovací a testovací\n",
    "X = []\n",
    "y = []\n",
    "for i in range(lookback, len(data)):\n",
    "    X.append(data_scaled[i-lookback:i, 1:])\n",
    "    y.append(data_scaled[i, 0])\n",
    "X = np.array(X)\n",
    "y = np.array(y)\n",
    "print(X.shape)\n",
    "X_train, X_test, y_train, y_test = train_test_split(X, y, test_size=0.1)\n",
    "\n",
    "# vytvoření modelu\n",
    "model = Sequential()\n",
    "model.add(LSTM(units=100, input_shape=(lookback, data.shape[1]-1)))\n",
    "model.add(Dropout(0.3))\n",
    "model.add(Dense(1, activation='sigmoid'))\n",
    "model.compile(loss=\"binary_crossentropy\", optimizer=\"adam\", metrics=['accuracy'])\n",
    "\n",
    "# natrénování modelu na trénovacích datech\n",
    "model.fit(X_train, y_train, epochs=80, batch_size=32,validation_data=(X_test, y_test))\n",
    "\n",
    "# hodnocení modelu na testovacích datech\n",
    "test_loss, test_acc = model.evaluate(X_test, y_test)\n",
    "print('Test accuracy:', test_acc)\n"
   ]
  },
  {
   "cell_type": "code",
   "execution_count": 20,
   "id": "44f54321",
   "metadata": {},
   "outputs": [
    {
     "name": "stdout",
     "output_type": "stream",
     "text": [
      "21/21 [==============================] - 1s 33ms/step\n"
     ]
    },
    {
     "data": {
      "image/png": "[encoded data removed]",
      "text/plain": [
       "<Figure size 640x480 with 1 Axes>"
      ]
     },
     "metadata": {},
     "output_type": "display_data"
    }
   ],
   "source": [
    "from sklearn.metrics import roc_curve\n",
    "import matplotlib.pyplot as plt\n",
    "y_pred_proba =model.predict(X_test)\n",
    "fpr, tpr, _ = roc_curve(y_test,  y_pred_proba)\n",
    "auc = roc_auc_score(y_test, y_pred_proba)\n",
    "plt.plot(fpr,tpr,label=\"data 1, auc=\"+str(auc))\n",
    "plt.legend(loc=4)\n",
    "plt.title(\"AUC ROC Curve\")\n",
    "plt.show()"
   ]
  },
  {
   "cell_type": "code",
   "execution_count": 40,
   "id": "0c206b68",
   "metadata": {},
   "outputs": [
    {
     "name": "stdout",
     "output_type": "stream",
     "text": [
      "              precision    recall  f1-score   support\n",
      "\n",
      "         0.0       0.78      0.80      0.79       331\n",
      "         1.0       0.80      0.78      0.79       331\n",
      "\n",
      "    accuracy                           0.79       662\n",
      "   macro avg       0.79      0.79      0.79       662\n",
      "weighted avg       0.79      0.79      0.79       662\n",
      "\n",
      "AUC-ROC score:  0.8507133012659613\n"
     ]
    }
   ],
   "source": [
    "from sklearn.metrics import classification_report\n",
    "auc = roc_auc_score(y_test, y_pred_proba) \n",
    "y_pred_binary = (y_pred_proba > 0.5).astype(int)\n",
    "print(classification_report(y_test, y_pred_binary))\n",
    "print('AUC-ROC score: ', auc)"
   ]
  },
  {
   "cell_type": "code",
   "execution_count": 42,
   "id": "f8f65bf1",
   "metadata": {
    "scrolled": true
   },
   "outputs": [
    {
     "data": {
      "text/plain": [
       "0.4884707"
      ]
     },
     "execution_count": 42,
     "metadata": {},
     "output_type": "execute_result"
    }
   ],
   "source": [
    "np.mean(y_pred_proba)"
   ]
  },
  {
   "cell_type": "code",
   "execution_count": 43,
   "id": "4897ec9a",
   "metadata": {},
   "outputs": [],
   "source": [
    "model.save('model2.h5')\n",
    "model.save_weights('my_model_weights2.h5')  # to store\n"
   ]
  },
  {
   "cell_type": "code",
   "execution_count": 95,
   "id": "450f5d2e",
   "metadata": {},
   "outputs": [
    {
     "data": {
      "text/plain": [
       "array([0.30769231, 0.5       , 0.5       , 0.2       , 0.66666667,\n",
       "       0.        , 0.13513514, 0.        , 0.        , 0.        ,\n",
       "       0.17391304, 0.        , 0.        , 0.        , 0.77380952,\n",
       "       0.0572479 , 0.71022727, 0.0538707 , 1.        , 0.078125  ,\n",
       "       0.6       , 0.03878083, 1.        , 0.05466752, 1.        ,\n",
       "       0.0285762 , 0.5       , 0.01110444, 1.        , 0.035359  ,\n",
       "       0.66666667, 0.06939338, 0.        , 0.28571429, 0.02065462,\n",
       "       0.85714286, 0.1520599 , 0.33333333, 0.11948529, 0.5       ,\n",
       "       0.01282011, 0.        , 0.        , 0.33333333, 0.03274357,\n",
       "       0.        , 0.        , 0.33333333, 0.04347426, 0.        ,\n",
       "       0.        , 0.        , 0.37916667, 0.06196703, 0.61983471,\n",
       "       0.18174992, 1.        , 0.04832291, 0.26923077, 0.04197766,\n",
       "       0.66666667, 0.02254245, 0.625     , 0.08837666, 0.24285714,\n",
       "       0.05838197, 0.5       , 0.04374143, 1.        , 0.02146106,\n",
       "       0.        , 0.47945205, 0.22357242, 0.55307263, 0.15518928,\n",
       "       0.33333333, 0.07390563, 0.40659341, 0.14669875, 0.42857143,\n",
       "       0.02242912, 0.625     , 0.30379477, 0.53012048, 0.16041723,\n",
       "       0.25      , 0.06050313, 0.62962963, 0.08974255])"
      ]
     },
     "execution_count": 95,
     "metadata": {},
     "output_type": "execute_result"
    }
   ],
   "source": [
    "new_data  =data_scaled[50,:]\n",
    "new_data = new_data[1:]\n",
    "new_data"
   ]
  },
  {
   "cell_type": "code",
   "execution_count": 96,
   "id": "2b919261",
   "metadata": {},
   "outputs": [
    {
     "data": {
      "text/plain": [
       "array([[[0.30769231, 0.5       , 0.5       , 0.2       , 0.66666667,\n",
       "         0.        , 0.13513514, 0.        , 0.        , 0.        ,\n",
       "         0.17391304, 0.        , 0.        , 0.        , 0.77380952,\n",
       "         0.0572479 , 0.71022727, 0.0538707 , 1.        , 0.078125  ,\n",
       "         0.6       , 0.03878083, 1.        , 0.05466752, 1.        ,\n",
       "         0.0285762 , 0.5       , 0.01110444, 1.        , 0.035359  ,\n",
       "         0.66666667, 0.06939338, 0.        , 0.28571429, 0.02065462,\n",
       "         0.85714286, 0.1520599 , 0.33333333, 0.11948529, 0.5       ,\n",
       "         0.01282011, 0.        , 0.        , 0.33333333, 0.03274357,\n",
       "         0.        , 0.        , 0.33333333, 0.04347426, 0.        ,\n",
       "         0.        , 0.        , 0.37916667, 0.06196703, 0.61983471,\n",
       "         0.18174992, 1.        , 0.04832291, 0.26923077, 0.04197766,\n",
       "         0.66666667, 0.02254245, 0.625     , 0.08837666, 0.24285714,\n",
       "         0.05838197, 0.5       , 0.04374143, 1.        , 0.02146106,\n",
       "         0.        , 0.47945205, 0.22357242, 0.55307263, 0.15518928,\n",
       "         0.33333333, 0.07390563, 0.40659341, 0.14669875, 0.42857143,\n",
       "         0.02242912, 0.625     , 0.30379477, 0.53012048, 0.16041723,\n",
       "         0.25      , 0.06050313, 0.62962963, 0.08974255]]])"
      ]
     },
     "execution_count": 96,
     "metadata": {},
     "output_type": "execute_result"
    }
   ],
   "source": [
    "\n",
    "new_data = np.reshape(new_data, (1,1,new_data.shape[0]))\n",
    "new_data"
   ]
  },
  {
   "cell_type": "code",
   "execution_count": 97,
   "id": "977d1f7a",
   "metadata": {
    "scrolled": true
   },
   "outputs": [
    {
     "name": "stdout",
     "output_type": "stream",
     "text": [
      "1/1 [==============================] - 0s 19ms/step\n"
     ]
    }
   ],
   "source": [
    "y_pred = model.predict(new_data)"
   ]
  },
  {
   "cell_type": "code",
   "execution_count": 98,
   "id": "1cc06bbf",
   "metadata": {},
   "outputs": [
    {
     "data": {
      "text/plain": [
       "array([[0.3107903]], dtype=float32)"
      ]
     },
     "execution_count": 98,
     "metadata": {},
     "output_type": "execute_result"
    }
   ],
   "source": [
    "y_pred"
   ]
  },
  {
   "cell_type": "code",
   "execution_count": 99,
   "id": "427be37d",
   "metadata": {},
   "outputs": [],
   "source": [
    "from datetime import date\n",
    "\n",
    "today = date.today()\n",
    "df_fighters_details['AGE'] = (pd.to_datetime(today) - pd.to_datetime(df_fighters_details['DOB'])).astype('<m8[Y]')"
   ]
  },
  {
   "cell_type": "code",
   "execution_count": 146,
   "id": "5975f89e",
   "metadata": {},
   "outputs": [],
   "source": [
    "fighter1 = \"Conor McGregor\"\n",
    "fighter2= \"Khabib Nurmagomedov\"\n"
   ]
  },
  {
   "cell_type": "code",
   "execution_count": 147,
   "id": "cd180742",
   "metadata": {},
   "outputs": [],
   "source": [
    "f1_df = df_fighters.loc[df_fighters['FIGHTER']==fighter1]\n",
    "f2_df = df_fighters.loc[df_fighters['FIGHTER']==fighter2]"
   ]
  },
  {
   "cell_type": "code",
   "execution_count": 148,
   "id": "2b4a9810",
   "metadata": {},
   "outputs": [
    {
     "data": {
      "text/plain": [
       "Index(['Win', 'HEIGHT_diff', 'REACH_diff', 'AGE_diff', 'form_skore_fighter',\n",
       "       'form_skore_opponent', 'fightNo_fighter', 'fightNo_opponent',\n",
       "       'Win_tot_f1', 'DRAW_f1', 'No_contest_f1', 'Win_tot_f2', 'DRAW_f2',\n",
       "       'No_contest_f2', 'CTRL_pct_fighterf1', 'SIG.STR._acc_fighterf1',\n",
       "       'SIG.STR._perRound_fighterf1', 'TOTAL STR._acc_fighterf1',\n",
       "       'TOTAL STR._perRound_fighterf1', 'TD_acc_fighterf1',\n",
       "       'TD_perRound_fighterf1', 'HEAD_acc_fighterf1',\n",
       "       'HEAD_perRound_fighterf1', 'BODY_acc_fighterf1',\n",
       "       'BODY_perRound_fighterf1', 'LEG_acc_fighterf1',\n",
       "       'LEG_perRound_fighterf1', 'DISTANCE_acc_fighterf1',\n",
       "       'DISTANCE_perRound_fighterf1', 'CLINCH_acc_fighterf1',\n",
       "       'CLINCH_perRound_fighterf1', 'GROUND_acc_fighterf1',\n",
       "       'GROUND_perRound_fighterf1', 'CTRL_pct_opponentf1',\n",
       "       'SIG.STR._acc_opponentf1', 'SIG.STR._perRound_opponentf1',\n",
       "       'TOTAL STR._acc_opponentf1', 'TOTAL STR._perRound_opponentf1',\n",
       "       'TD_acc_opponentf1', 'TD_perRound_opponentf1', 'HEAD_acc_opponentf1',\n",
       "       'HEAD_perRound_opponentf1', 'BODY_acc_opponentf1',\n",
       "       'BODY_perRound_opponentf1', 'LEG_acc_opponentf1',\n",
       "       'LEG_perRound_opponentf1', 'DISTANCE_acc_opponentf1',\n",
       "       'DISTANCE_perRound_opponentf1', 'CLINCH_acc_opponentf1',\n",
       "       'CLINCH_perRound_opponentf1', 'GROUND_acc_opponentf1',\n",
       "       'GROUND_perRound_opponentf1', 'CTRL_pct_fighterf2',\n",
       "       'SIG.STR._acc_fighterf2', 'SIG.STR._perRound_fighterf2',\n",
       "       'TOTAL STR._acc_fighterf2', 'TOTAL STR._perRound_fighterf2',\n",
       "       'TD_acc_fighterf2', 'TD_perRound_fighterf2', 'HEAD_acc_fighterf2',\n",
       "       'HEAD_perRound_fighterf2', 'BODY_acc_fighterf2',\n",
       "       'BODY_perRound_fighterf2', 'LEG_acc_fighterf2',\n",
       "       'LEG_perRound_fighterf2', 'DISTANCE_acc_fighterf2',\n",
       "       'DISTANCE_perRound_fighterf2', 'CLINCH_acc_fighterf2',\n",
       "       'CLINCH_perRound_fighterf2', 'GROUND_acc_fighterf2',\n",
       "       'GROUND_perRound_fighterf2', 'CTRL_pct_opponentf2',\n",
       "       'SIG.STR._acc_opponentf2', 'SIG.STR._perRound_opponentf2',\n",
       "       'TOTAL STR._acc_opponentf2', 'TOTAL STR._perRound_opponentf2',\n",
       "       'TD_acc_opponentf2', 'TD_perRound_opponentf2', 'HEAD_acc_opponentf2',\n",
       "       'HEAD_perRound_opponentf2', 'BODY_acc_opponentf2',\n",
       "       'BODY_perRound_opponentf2', 'LEG_acc_opponentf2',\n",
       "       'LEG_perRound_opponentf2', 'DISTANCE_acc_opponentf2',\n",
       "       'DISTANCE_perRound_opponentf2', 'CLINCH_acc_opponentf2',\n",
       "       'CLINCH_perRound_opponentf2', 'GROUND_acc_opponentf2',\n",
       "       'GROUND_perRound_opponentf2'],\n",
       "      dtype='object')"
      ]
     },
     "execution_count": 148,
     "metadata": {},
     "output_type": "execute_result"
    }
   ],
   "source": [
    "df_model.columns"
   ]
  },
  {
   "cell_type": "code",
   "execution_count": 149,
   "id": "2f5a3e74",
   "metadata": {},
   "outputs": [],
   "source": [
    "agediff = df_fighters_details[df_fighters_details['FIGHTER']==fighter1]['AGE'].values[0] - df_fighters_details[df_fighters_details['FIGHTER']==fighter2]['AGE'].values[0]\n",
    "formy = [f1_df['form_skore_fighter'].values[0], f2_df['form_skore_fighter'].values[0]]\n",
    "no_of_fights = [f1_df['Fights'].values[0],f2_df['Fights'].values[0]]\n",
    "W_D_NC = f1_df[['Win','DRAW', 'No_contest']].values.tolist()[0] + f2_df[['Win','DRAW', 'No_contest']].values.tolist()[0]"
   ]
  },
  {
   "cell_type": "code",
   "execution_count": 150,
   "id": "5473bec1",
   "metadata": {},
   "outputs": [],
   "source": [
    "sloupce2 = df_fighters.columns.tolist()[10:]\n",
    "stats_f1 = []\n",
    "stats_f2 = []\n",
    "for sloupec in sloupce2:    \n",
    "    splited = sloupec.split('_')\n",
    "    if 'CTRL' in splited:\n",
    "        stats_f1.append((f1_df[sloupec]/f1_df['TotalTime']).values[0])\n",
    "        stats_f2.append((f2_df[sloupec]/f2_df['TotalTime']).values[0])\n",
    "    if 'attemps' in splited:\n",
    "        stats_f1.append((f1_df[sloupec.replace('attemps', 'landed')]/f1_df[sloupec]).values[0])\n",
    "        stats_f1.append((f1_df[sloupec.replace('attemps', 'landed')]/f1_df['TotalTime']).values[0]*300)\n",
    "        \n",
    "        stats_f2.append((f2_df[sloupec.replace('attemps', 'landed')]/f2_df[sloupec]).values[0])\n",
    "        stats_f2.append((f2_df[sloupec.replace('attemps', 'landed')]/f2_df['TotalTime']).values[0]*300)\n",
    "stats_list = stats_f1 + stats_f2"
   ]
  },
  {
   "cell_type": "code",
   "execution_count": 151,
   "id": "bdff40e4",
   "metadata": {},
   "outputs": [],
   "source": [
    "vstup = np.array([1]+[f1_df.iloc[0][col] - f2_df.iloc[0][col] for col in ['HEIGHT_fighter','REACH_fighter']] + [agediff] + formy + no_of_fights + W_D_NC + stats_list)"
   ]
  },
  {
   "cell_type": "code",
   "execution_count": 152,
   "id": "1fdd596e",
   "metadata": {},
   "outputs": [
    {
     "name": "stderr",
     "output_type": "stream",
     "text": [
      "C:\\Users\\spravce\\AppData\\Local\\Temp\\ipykernel_17040\\2424742869.py:2: FutureWarning: The frame.append method is deprecated and will be removed from pandas in a future version. Use pandas.concat instead.\n",
      "  vstup_scaled = scaler.fit_transform(df_model.append(pd.DataFrame(vstup.reshape(1,-1), columns=list(df_model)), ignore_index=True))[-1,:][1:]\n"
     ]
    }
   ],
   "source": [
    "scaler = MinMaxScaler(feature_range=(0, 1))\n",
    "vstup_scaled = scaler.fit_transform(df_model.append(pd.DataFrame(vstup.reshape(1,-1), columns=list(df_model)), ignore_index=True))[-1,:][1:]"
   ]
  },
  {
   "cell_type": "code",
   "execution_count": 153,
   "id": "1f3ec277",
   "metadata": {},
   "outputs": [
    {
     "data": {
      "text/plain": [
       "89"
      ]
     },
     "execution_count": 153,
     "metadata": {},
     "output_type": "execute_result"
    }
   ],
   "source": [
    "vstup_scaled.shape[0]"
   ]
  },
  {
   "cell_type": "code",
   "execution_count": 154,
   "id": "a5702284",
   "metadata": {},
   "outputs": [],
   "source": [
    "new_data = np.reshape(vstup_scaled, (1,1,vstup_scaled.shape[0]))"
   ]
  },
  {
   "cell_type": "code",
   "execution_count": 155,
   "id": "ff2a2884",
   "metadata": {},
   "outputs": [
    {
     "data": {
      "text/plain": [
       "array([[[0.46153846, 0.66666667, 0.5       , 0.26666667, 1.        ,\n",
       "         0.2972973 , 0.27027027, 0.43478261, 0.        , 0.        ,\n",
       "         0.56521739, 0.        , 0.        , 0.12983264, 0.53896733,\n",
       "         0.27624125, 0.58269434, 0.31442741, 0.55555556, 0.0314675 ,\n",
       "         0.44244984, 0.21816349, 0.64556962, 0.14973055, 0.78787879,\n",
       "         0.17955656, 0.453294  , 0.4123821 , 0.82432432, 0.05791761,\n",
       "         0.68141593, 0.07173972, 0.30865132, 0.45844269, 0.43593382,\n",
       "         0.51515152, 0.27765438, 0.33333333, 0.10587887, 0.40534521,\n",
       "         0.37591977, 0.64705882, 0.17137317, 0.66055046, 0.18991559,\n",
       "         0.38578089, 0.31433695, 0.67605634, 0.16810307, 0.67832168,\n",
       "         0.13337987, 0.5802961 , 0.52891274, 0.2128523 , 0.59864094,\n",
       "         0.27868336, 0.48031496, 0.25133301, 0.45827011, 0.2058887 ,\n",
       "         0.74712644, 0.06246707, 0.92307692, 0.05425462, 0.33748584,\n",
       "         0.17451898, 0.675     , 0.0167831 , 0.7293666 , 0.23178219,\n",
       "         0.01656645, 0.34597701, 0.16393938, 0.43307839, 0.12109364,\n",
       "         0.15384615, 0.01260301, 0.2526475 , 0.11291139, 0.56774194,\n",
       "         0.11219419, 0.85185185, 0.07943529, 0.3163017 , 0.16164724,\n",
       "         0.85714286, 0.03439166, 0.84615385, 0.00990236]]])"
      ]
     },
     "execution_count": 155,
     "metadata": {},
     "output_type": "execute_result"
    }
   ],
   "source": [
    "new_data"
   ]
  },
  {
   "cell_type": "code",
   "execution_count": 156,
   "id": "23f96f1d",
   "metadata": {},
   "outputs": [
    {
     "name": "stdout",
     "output_type": "stream",
     "text": [
      "1/1 [==============================] - 0s 25ms/step\n"
     ]
    },
    {
     "data": {
      "text/plain": [
       "array([[0.7572751]], dtype=float32)"
      ]
     },
     "execution_count": 156,
     "metadata": {},
     "output_type": "execute_result"
    }
   ],
   "source": [
    "from keras.models import load_model\n",
    "model.load_weights('my_model_weights.h5')  # to load\n",
    "y_pred = model.predict(new_data)\n",
    "y_pred"
   ]
  },
  {
   "cell_type": "code",
   "execution_count": null,
   "id": "7bc04b75",
   "metadata": {},
   "outputs": [],
   "source": []
  },
  {
   "cell_type": "code",
   "execution_count": null,
   "id": "0a3db91c",
   "metadata": {},
   "outputs": [],
   "source": []
  },
  {
   "cell_type": "code",
   "execution_count": null,
   "id": "a60c443e",
   "metadata": {},
   "outputs": [],
   "source": []
  }
 ],
 "metadata": {
  "kernelspec": {
   "display_name": "Python 3 (ipykernel)",
   "language": "python",
   "name": "python3"
  },
  "language_info": {
   "codemirror_mode": {
    "name": "ipython",
    "version": 3
   },
   "file_extension": ".py",
   "mimetype": "text/x-python",
   "name": "python",
   "nbconvert_exporter": "python",
   "pygments_lexer": "ipython3",
   "version": "3.9.13"
  }
 },
 "nbformat": 4,
 "nbformat_minor": 5
}
