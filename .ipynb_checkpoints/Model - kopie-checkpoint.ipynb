{
 "cells": [
  {
   "cell_type": "code",
   "execution_count": 470,
   "id": "6eda130d",
   "metadata": {},
   "outputs": [],
   "source": [
    "import pandas as pd\n",
    "import numpy as np\n",
    "from sklearn.model_selection import GridSearchCV, train_test_split"
   ]
  },
  {
   "cell_type": "code",
   "execution_count": 471,
   "id": "64504238",
   "metadata": {},
   "outputs": [],
   "source": [
    "from keras.models import Sequential\n",
    "from keras.layers import Dense, Activation, Dropout\n",
    "\n",
    "from keras import layers\n",
    "from sklearn.neural_network import MLPClassifier\n",
    "from sklearn.metrics import accuracy_score, f1_score, auc, roc_curve, roc_auc_score\n",
    "from sklearn.preprocessing import StandardScaler"
   ]
  },
  {
   "cell_type": "code",
   "execution_count": 472,
   "id": "1160a496",
   "metadata": {},
   "outputs": [],
   "source": [
    "df = pd.read_csv('fight_with_stats_precomp.csv')\n",
    "df_fighters = pd.read_csv('fighter_total_stats.csv')"
   ]
  },
  {
   "cell_type": "code",
   "execution_count": 473,
   "id": "cfad8be9",
   "metadata": {},
   "outputs": [],
   "source": [
    "df = df[(df['fightNo_fighter']>=5) & (df['fightNo_opponent']>=5) & (df['Women_fight']==0)]"
   ]
  },
  {
   "cell_type": "code",
   "execution_count": 474,
   "id": "6fbc9051",
   "metadata": {},
   "outputs": [],
   "source": [
    "df = df.fillna(0)\n"
   ]
  },
  {
   "cell_type": "code",
   "execution_count": 475,
   "id": "a380c164",
   "metadata": {},
   "outputs": [
    {
     "data": {
      "text/html": [
       "<div>\n",
       "<style scoped>\n",
       "    .dataframe tbody tr th:only-of-type {\n",
       "        vertical-align: middle;\n",
       "    }\n",
       "\n",
       "    .dataframe tbody tr th {\n",
       "        vertical-align: top;\n",
       "    }\n",
       "\n",
       "    .dataframe thead th {\n",
       "        text-align: right;\n",
       "    }\n",
       "</style>\n",
       "<table border=\"1\" class=\"dataframe\">\n",
       "  <thead>\n",
       "    <tr style=\"text-align: right;\">\n",
       "      <th></th>\n",
       "      <th>EVENT</th>\n",
       "      <th>BOUT</th>\n",
       "      <th>FIGHTER</th>\n",
       "      <th>OPPONENT</th>\n",
       "      <th>METHOD</th>\n",
       "      <th>Win</th>\n",
       "      <th>Women_fight</th>\n",
       "      <th>ROUND</th>\n",
       "      <th>HEIGHT_diff</th>\n",
       "      <th>REACH_diff</th>\n",
       "      <th>...</th>\n",
       "      <th>BODY_landed_opponent</th>\n",
       "      <th>BODY_attemps_opponent</th>\n",
       "      <th>LEG_landed_opponent</th>\n",
       "      <th>LEG_attemps_opponent</th>\n",
       "      <th>DISTANCE_landed_opponent</th>\n",
       "      <th>DISTANCE_attemps_opponent</th>\n",
       "      <th>CLINCH_landed_opponent</th>\n",
       "      <th>CLINCH_attemps_opponent</th>\n",
       "      <th>GROUND_landed_opponent</th>\n",
       "      <th>GROUND_attemps_opponent</th>\n",
       "    </tr>\n",
       "  </thead>\n",
       "  <tbody>\n",
       "    <tr>\n",
       "      <th>94</th>\n",
       "      <td>UFC 7: The Brawl in Buffalo</td>\n",
       "      <td>Ken Shamrock vs. Oleg Taktarov</td>\n",
       "      <td>Ken Shamrock</td>\n",
       "      <td>Oleg Taktarov</td>\n",
       "      <td>Other</td>\n",
       "      <td>0</td>\n",
       "      <td>0</td>\n",
       "      <td>2</td>\n",
       "      <td>1.0</td>\n",
       "      <td>0.0</td>\n",
       "      <td>...</td>\n",
       "      <td>1.0</td>\n",
       "      <td>3.0</td>\n",
       "      <td>4.0</td>\n",
       "      <td>8.0</td>\n",
       "      <td>3.0</td>\n",
       "      <td>12.0</td>\n",
       "      <td>4.0</td>\n",
       "      <td>4.0</td>\n",
       "      <td>2.0</td>\n",
       "      <td>3.0</td>\n",
       "    </tr>\n",
       "    <tr>\n",
       "      <th>95</th>\n",
       "      <td>UFC 7: The Brawl in Buffalo</td>\n",
       "      <td>Ken Shamrock vs. Oleg Taktarov</td>\n",
       "      <td>Oleg Taktarov</td>\n",
       "      <td>Ken Shamrock</td>\n",
       "      <td>Other</td>\n",
       "      <td>0</td>\n",
       "      <td>0</td>\n",
       "      <td>2</td>\n",
       "      <td>-1.0</td>\n",
       "      <td>0.0</td>\n",
       "      <td>...</td>\n",
       "      <td>1.0</td>\n",
       "      <td>1.0</td>\n",
       "      <td>0.0</td>\n",
       "      <td>0.0</td>\n",
       "      <td>8.0</td>\n",
       "      <td>29.0</td>\n",
       "      <td>7.0</td>\n",
       "      <td>18.0</td>\n",
       "      <td>18.0</td>\n",
       "      <td>34.0</td>\n",
       "    </tr>\n",
       "    <tr>\n",
       "      <th>114</th>\n",
       "      <td>UFC - Ultimate Ultimate '95</td>\n",
       "      <td>Dan Severn vs. Oleg Taktarov</td>\n",
       "      <td>Dan Severn</td>\n",
       "      <td>Oleg Taktarov</td>\n",
       "      <td>Decision</td>\n",
       "      <td>1</td>\n",
       "      <td>0</td>\n",
       "      <td>2</td>\n",
       "      <td>2.0</td>\n",
       "      <td>0.0</td>\n",
       "      <td>...</td>\n",
       "      <td>5.0</td>\n",
       "      <td>6.0</td>\n",
       "      <td>2.0</td>\n",
       "      <td>6.0</td>\n",
       "      <td>5.0</td>\n",
       "      <td>17.0</td>\n",
       "      <td>8.0</td>\n",
       "      <td>12.0</td>\n",
       "      <td>4.0</td>\n",
       "      <td>4.0</td>\n",
       "    </tr>\n",
       "    <tr>\n",
       "      <th>115</th>\n",
       "      <td>UFC - Ultimate Ultimate '95</td>\n",
       "      <td>Dan Severn vs. Oleg Taktarov</td>\n",
       "      <td>Oleg Taktarov</td>\n",
       "      <td>Dan Severn</td>\n",
       "      <td>Decision</td>\n",
       "      <td>0</td>\n",
       "      <td>0</td>\n",
       "      <td>2</td>\n",
       "      <td>-2.0</td>\n",
       "      <td>0.0</td>\n",
       "      <td>...</td>\n",
       "      <td>3.0</td>\n",
       "      <td>5.0</td>\n",
       "      <td>1.0</td>\n",
       "      <td>1.0</td>\n",
       "      <td>16.0</td>\n",
       "      <td>58.0</td>\n",
       "      <td>11.0</td>\n",
       "      <td>24.0</td>\n",
       "      <td>35.0</td>\n",
       "      <td>57.0</td>\n",
       "    </tr>\n",
       "    <tr>\n",
       "      <th>116</th>\n",
       "      <td>UFC - Ultimate Ultimate '95</td>\n",
       "      <td>Dan Severn vs. Paul Varelans</td>\n",
       "      <td>Dan Severn</td>\n",
       "      <td>Paul Varelans</td>\n",
       "      <td>Submission</td>\n",
       "      <td>1</td>\n",
       "      <td>0</td>\n",
       "      <td>1</td>\n",
       "      <td>-6.0</td>\n",
       "      <td>0.0</td>\n",
       "      <td>...</td>\n",
       "      <td>6.0</td>\n",
       "      <td>9.0</td>\n",
       "      <td>5.0</td>\n",
       "      <td>9.0</td>\n",
       "      <td>13.0</td>\n",
       "      <td>46.0</td>\n",
       "      <td>8.0</td>\n",
       "      <td>12.0</td>\n",
       "      <td>4.0</td>\n",
       "      <td>4.0</td>\n",
       "    </tr>\n",
       "  </tbody>\n",
       "</table>\n",
       "<p>5 rows × 63 columns</p>\n",
       "</div>"
      ],
      "text/plain": [
       "                           EVENT                            BOUT  \\\n",
       "94   UFC 7: The Brawl in Buffalo  Ken Shamrock vs. Oleg Taktarov   \n",
       "95   UFC 7: The Brawl in Buffalo  Ken Shamrock vs. Oleg Taktarov   \n",
       "114  UFC - Ultimate Ultimate '95    Dan Severn vs. Oleg Taktarov   \n",
       "115  UFC - Ultimate Ultimate '95    Dan Severn vs. Oleg Taktarov   \n",
       "116  UFC - Ultimate Ultimate '95    Dan Severn vs. Paul Varelans   \n",
       "\n",
       "           FIGHTER       OPPONENT      METHOD  Win  Women_fight  ROUND  \\\n",
       "94    Ken Shamrock  Oleg Taktarov       Other    0            0      2   \n",
       "95   Oleg Taktarov   Ken Shamrock       Other    0            0      2   \n",
       "114     Dan Severn  Oleg Taktarov    Decision    1            0      2   \n",
       "115  Oleg Taktarov     Dan Severn    Decision    0            0      2   \n",
       "116     Dan Severn  Paul Varelans  Submission    1            0      1   \n",
       "\n",
       "     HEIGHT_diff  REACH_diff  ...  BODY_landed_opponent  \\\n",
       "94           1.0         0.0  ...                   1.0   \n",
       "95          -1.0         0.0  ...                   1.0   \n",
       "114          2.0         0.0  ...                   5.0   \n",
       "115         -2.0         0.0  ...                   3.0   \n",
       "116         -6.0         0.0  ...                   6.0   \n",
       "\n",
       "     BODY_attemps_opponent  LEG_landed_opponent  LEG_attemps_opponent  \\\n",
       "94                     3.0                  4.0                   8.0   \n",
       "95                     1.0                  0.0                   0.0   \n",
       "114                    6.0                  2.0                   6.0   \n",
       "115                    5.0                  1.0                   1.0   \n",
       "116                    9.0                  5.0                   9.0   \n",
       "\n",
       "     DISTANCE_landed_opponent  DISTANCE_attemps_opponent  \\\n",
       "94                        3.0                       12.0   \n",
       "95                        8.0                       29.0   \n",
       "114                       5.0                       17.0   \n",
       "115                      16.0                       58.0   \n",
       "116                      13.0                       46.0   \n",
       "\n",
       "     CLINCH_landed_opponent  CLINCH_attemps_opponent  GROUND_landed_opponent  \\\n",
       "94                      4.0                      4.0                     2.0   \n",
       "95                      7.0                     18.0                    18.0   \n",
       "114                     8.0                     12.0                     4.0   \n",
       "115                    11.0                     24.0                    35.0   \n",
       "116                     8.0                     12.0                     4.0   \n",
       "\n",
       "     GROUND_attemps_opponent  \n",
       "94                       3.0  \n",
       "95                      34.0  \n",
       "114                      4.0  \n",
       "115                     57.0  \n",
       "116                      4.0  \n",
       "\n",
       "[5 rows x 63 columns]"
      ]
     },
     "execution_count": 475,
     "metadata": {},
     "output_type": "execute_result"
    }
   ],
   "source": [
    "df.head()"
   ]
  },
  {
   "cell_type": "code",
   "execution_count": 476,
   "id": "3c83f881",
   "metadata": {},
   "outputs": [
    {
     "data": {
      "text/plain": [
       "(4117, 63)"
      ]
     },
     "execution_count": 476,
     "metadata": {},
     "output_type": "execute_result"
    }
   ],
   "source": [
    "df.shape"
   ]
  },
  {
   "cell_type": "code",
   "execution_count": 477,
   "id": "0b47cc75",
   "metadata": {
    "scrolled": true
   },
   "outputs": [
    {
     "data": {
      "text/plain": [
       "['KD_fighter',\n",
       " 'SUB.ATT_fighter',\n",
       " 'REV._fighter',\n",
       " 'CTRL_fighter',\n",
       " 'SIG.STR._landed_fighter',\n",
       " 'SIG.STR._attemps_fighter',\n",
       " 'TOTAL STR._landed_fighter',\n",
       " 'TOTAL STR._attemps_fighter',\n",
       " 'TD_landed_fighter',\n",
       " 'TD_attemps_fighter',\n",
       " 'HEAD_landed_fighter',\n",
       " 'HEAD_attemps_fighter',\n",
       " 'BODY_landed_fighter',\n",
       " 'BODY_attemps_fighter',\n",
       " 'LEG_landed_fighter',\n",
       " 'LEG_attemps_fighter',\n",
       " 'DISTANCE_landed_fighter',\n",
       " 'DISTANCE_attemps_fighter',\n",
       " 'CLINCH_landed_fighter',\n",
       " 'CLINCH_attemps_fighter',\n",
       " 'GROUND_landed_fighter',\n",
       " 'GROUND_attemps_fighter',\n",
       " 'KD_opponent',\n",
       " 'SUB.ATT_opponent',\n",
       " 'REV._opponent',\n",
       " 'CTRL_opponent',\n",
       " 'SIG.STR._landed_opponent',\n",
       " 'SIG.STR._attemps_opponent',\n",
       " 'TOTAL STR._landed_opponent',\n",
       " 'TOTAL STR._attemps_opponent',\n",
       " 'TD_landed_opponent',\n",
       " 'TD_attemps_opponent',\n",
       " 'HEAD_landed_opponent',\n",
       " 'HEAD_attemps_opponent',\n",
       " 'BODY_landed_opponent',\n",
       " 'BODY_attemps_opponent',\n",
       " 'LEG_landed_opponent',\n",
       " 'LEG_attemps_opponent',\n",
       " 'DISTANCE_landed_opponent',\n",
       " 'DISTANCE_attemps_opponent',\n",
       " 'CLINCH_landed_opponent',\n",
       " 'CLINCH_attemps_opponent',\n",
       " 'GROUND_landed_opponent',\n",
       " 'GROUND_attemps_opponent']"
      ]
     },
     "execution_count": 477,
     "metadata": {},
     "output_type": "execute_result"
    }
   ],
   "source": [
    "df.columns.tolist()[19:]"
   ]
  },
  {
   "cell_type": "code",
   "execution_count": 478,
   "id": "1bf9b2da",
   "metadata": {},
   "outputs": [],
   "source": [
    "df = df.merge(df[['EVENT', 'BOUT', 'FIGHTER']+df.columns.tolist()[18:]] ,how='left', left_on=['EVENT', 'BOUT', 'OPPONENT'], right_on=['EVENT', 'BOUT', 'FIGHTER'], suffixes=('_f1', '_f2'))"
   ]
  },
  {
   "cell_type": "code",
   "execution_count": 479,
   "id": "c8ce78f8",
   "metadata": {},
   "outputs": [
    {
     "name": "stdout",
     "output_type": "stream",
     "text": [
      "<class 'pandas.core.frame.DataFrame'>\n",
      "Int64Index: 4117 entries, 0 to 4116\n",
      "Data columns (total 109 columns):\n",
      " #    Column                          Non-Null Count  Dtype  \n",
      "---   ------                          --------------  -----  \n",
      " 0    EVENT                           4117 non-null   object \n",
      " 1    BOUT                            4117 non-null   object \n",
      " 2    FIGHTER_f1                      4117 non-null   object \n",
      " 3    OPPONENT                        4117 non-null   object \n",
      " 4    METHOD                          4117 non-null   object \n",
      " 5    Win                             4117 non-null   int64  \n",
      " 6    Women_fight                     4117 non-null   int64  \n",
      " 7    ROUND                           4117 non-null   int64  \n",
      " 8    HEIGHT_diff                     4117 non-null   float64\n",
      " 9    REACH_diff                      4117 non-null   float64\n",
      " 10   AGE_diff                        4117 non-null   float64\n",
      " 11   form_skore_fighter              4117 non-null   float64\n",
      " 12   form_skore_opponent             4117 non-null   float64\n",
      " 13   fightNo_fighter                 4117 non-null   int64  \n",
      " 14   fightNo_opponent                4117 non-null   float64\n",
      " 15   Win_tot                         4117 non-null   float64\n",
      " 16   DRAW                            4117 non-null   float64\n",
      " 17   No_contest                      4117 non-null   float64\n",
      " 18   TotalTime_f1                    4117 non-null   float64\n",
      " 19   KD_fighter_f1                   4117 non-null   float64\n",
      " 20   SUB.ATT_fighter_f1              4117 non-null   float64\n",
      " 21   REV._fighter_f1                 4117 non-null   float64\n",
      " 22   CTRL_fighter_f1                 4117 non-null   float64\n",
      " 23   SIG.STR._landed_fighter_f1      4117 non-null   float64\n",
      " 24   SIG.STR._attemps_fighter_f1     4117 non-null   float64\n",
      " 25   TOTAL STR._landed_fighter_f1    4117 non-null   float64\n",
      " 26   TOTAL STR._attemps_fighter_f1   4117 non-null   float64\n",
      " 27   TD_landed_fighter_f1            4117 non-null   float64\n",
      " 28   TD_attemps_fighter_f1           4117 non-null   float64\n",
      " 29   HEAD_landed_fighter_f1          4117 non-null   float64\n",
      " 30   HEAD_attemps_fighter_f1         4117 non-null   float64\n",
      " 31   BODY_landed_fighter_f1          4117 non-null   float64\n",
      " 32   BODY_attemps_fighter_f1         4117 non-null   float64\n",
      " 33   LEG_landed_fighter_f1           4117 non-null   float64\n",
      " 34   LEG_attemps_fighter_f1          4117 non-null   float64\n",
      " 35   DISTANCE_landed_fighter_f1      4117 non-null   float64\n",
      " 36   DISTANCE_attemps_fighter_f1     4117 non-null   float64\n",
      " 37   CLINCH_landed_fighter_f1        4117 non-null   float64\n",
      " 38   CLINCH_attemps_fighter_f1       4117 non-null   float64\n",
      " 39   GROUND_landed_fighter_f1        4117 non-null   float64\n",
      " 40   GROUND_attemps_fighter_f1       4117 non-null   float64\n",
      " 41   KD_opponent_f1                  4117 non-null   float64\n",
      " 42   SUB.ATT_opponent_f1             4117 non-null   float64\n",
      " 43   REV._opponent_f1                4117 non-null   float64\n",
      " 44   CTRL_opponent_f1                4117 non-null   float64\n",
      " 45   SIG.STR._landed_opponent_f1     4117 non-null   float64\n",
      " 46   SIG.STR._attemps_opponent_f1    4117 non-null   float64\n",
      " 47   TOTAL STR._landed_opponent_f1   4117 non-null   float64\n",
      " 48   TOTAL STR._attemps_opponent_f1  4117 non-null   float64\n",
      " 49   TD_landed_opponent_f1           4117 non-null   float64\n",
      " 50   TD_attemps_opponent_f1          4117 non-null   float64\n",
      " 51   HEAD_landed_opponent_f1         4117 non-null   float64\n",
      " 52   HEAD_attemps_opponent_f1        4117 non-null   float64\n",
      " 53   BODY_landed_opponent_f1         4117 non-null   float64\n",
      " 54   BODY_attemps_opponent_f1        4117 non-null   float64\n",
      " 55   LEG_landed_opponent_f1          4117 non-null   float64\n",
      " 56   LEG_attemps_opponent_f1         4117 non-null   float64\n",
      " 57   DISTANCE_landed_opponent_f1     4117 non-null   float64\n",
      " 58   DISTANCE_attemps_opponent_f1    4117 non-null   float64\n",
      " 59   CLINCH_landed_opponent_f1       4117 non-null   float64\n",
      " 60   CLINCH_attemps_opponent_f1      4117 non-null   float64\n",
      " 61   GROUND_landed_opponent_f1       4117 non-null   float64\n",
      " 62   GROUND_attemps_opponent_f1      4117 non-null   float64\n",
      " 63   FIGHTER_f2                      4116 non-null   object \n",
      " 64   TotalTime_f2                    4116 non-null   float64\n",
      " 65   KD_fighter_f2                   4116 non-null   float64\n",
      " 66   SUB.ATT_fighter_f2              4116 non-null   float64\n",
      " 67   REV._fighter_f2                 4116 non-null   float64\n",
      " 68   CTRL_fighter_f2                 4116 non-null   float64\n",
      " 69   SIG.STR._landed_fighter_f2      4116 non-null   float64\n",
      " 70   SIG.STR._attemps_fighter_f2     4116 non-null   float64\n",
      " 71   TOTAL STR._landed_fighter_f2    4116 non-null   float64\n",
      " 72   TOTAL STR._attemps_fighter_f2   4116 non-null   float64\n",
      " 73   TD_landed_fighter_f2            4116 non-null   float64\n",
      " 74   TD_attemps_fighter_f2           4116 non-null   float64\n",
      " 75   HEAD_landed_fighter_f2          4116 non-null   float64\n",
      " 76   HEAD_attemps_fighter_f2         4116 non-null   float64\n",
      " 77   BODY_landed_fighter_f2          4116 non-null   float64\n",
      " 78   BODY_attemps_fighter_f2         4116 non-null   float64\n",
      " 79   LEG_landed_fighter_f2           4116 non-null   float64\n",
      " 80   LEG_attemps_fighter_f2          4116 non-null   float64\n",
      " 81   DISTANCE_landed_fighter_f2      4116 non-null   float64\n",
      " 82   DISTANCE_attemps_fighter_f2     4116 non-null   float64\n",
      " 83   CLINCH_landed_fighter_f2        4116 non-null   float64\n",
      " 84   CLINCH_attemps_fighter_f2       4116 non-null   float64\n",
      " 85   GROUND_landed_fighter_f2        4116 non-null   float64\n",
      " 86   GROUND_attemps_fighter_f2       4116 non-null   float64\n",
      " 87   KD_opponent_f2                  4116 non-null   float64\n",
      " 88   SUB.ATT_opponent_f2             4116 non-null   float64\n",
      " 89   REV._opponent_f2                4116 non-null   float64\n",
      " 90   CTRL_opponent_f2                4116 non-null   float64\n",
      " 91   SIG.STR._landed_opponent_f2     4116 non-null   float64\n",
      " 92   SIG.STR._attemps_opponent_f2    4116 non-null   float64\n",
      " 93   TOTAL STR._landed_opponent_f2   4116 non-null   float64\n",
      " 94   TOTAL STR._attemps_opponent_f2  4116 non-null   float64\n",
      " 95   TD_landed_opponent_f2           4116 non-null   float64\n",
      " 96   TD_attemps_opponent_f2          4116 non-null   float64\n",
      " 97   HEAD_landed_opponent_f2         4116 non-null   float64\n",
      " 98   HEAD_attemps_opponent_f2        4116 non-null   float64\n",
      " 99   BODY_landed_opponent_f2         4116 non-null   float64\n",
      " 100  BODY_attemps_opponent_f2        4116 non-null   float64\n",
      " 101  LEG_landed_opponent_f2          4116 non-null   float64\n",
      " 102  LEG_attemps_opponent_f2         4116 non-null   float64\n",
      " 103  DISTANCE_landed_opponent_f2     4116 non-null   float64\n",
      " 104  DISTANCE_attemps_opponent_f2    4116 non-null   float64\n",
      " 105  CLINCH_landed_opponent_f2       4116 non-null   float64\n",
      " 106  CLINCH_attemps_opponent_f2      4116 non-null   float64\n",
      " 107  GROUND_landed_opponent_f2       4116 non-null   float64\n",
      " 108  GROUND_attemps_opponent_f2      4116 non-null   float64\n",
      "dtypes: float64(99), int64(4), object(6)\n",
      "memory usage: 3.5+ MB\n"
     ]
    }
   ],
   "source": [
    "df.info(verbose=True, show_counts=True)"
   ]
  },
  {
   "cell_type": "code",
   "execution_count": 480,
   "id": "e911a19b",
   "metadata": {},
   "outputs": [],
   "source": [
    "df = df.drop('FIGHTER_f2',axis=1)"
   ]
  },
  {
   "cell_type": "code",
   "execution_count": 481,
   "id": "1458353b",
   "metadata": {},
   "outputs": [
    {
     "data": {
      "text/plain": [
       "['LEG', 'attemps', 'fighter', 'f1']"
      ]
     },
     "execution_count": 481,
     "metadata": {},
     "output_type": "execute_result"
    }
   ],
   "source": [
    "'LEG_attemps_fighter_f1'.split('_')"
   ]
  },
  {
   "cell_type": "code",
   "execution_count": 482,
   "id": "6ec0d15a",
   "metadata": {},
   "outputs": [],
   "source": [
    "sloupce = df.columns.tolist()[19:]\n",
    "\n",
    "for sloupec in sloupce:    \n",
    "    splited = sloupec.split('_')\n",
    "    if 'CTRL' in splited:\n",
    "        df.loc[:,splited[0]+'_pct_'+splited[1]+splited[2]] = df[sloupec]/df['TotalTime'+'_'+splited[2]]\n",
    "    if 'attemps' in splited:\n",
    "        df.loc[:,splited[0]+'_acc_'+ splited[2] + splited[3]] = df[sloupec.replace('attemps', 'landed')]/df[sloupec]\n",
    "        df.loc[:,splited[0]+'_perRound_'+ splited[2] + splited[3]] = (df[sloupec.replace('attemps', 'landed')]/df['TotalTime'+'_'+splited[3]])*300\n",
    "        \n",
    "    "
   ]
  },
  {
   "cell_type": "code",
   "execution_count": 483,
   "id": "4e6956bf",
   "metadata": {},
   "outputs": [],
   "source": [
    "df = df.drop(sloupce, axis=1)"
   ]
  },
  {
   "cell_type": "code",
   "execution_count": 484,
   "id": "eefa5d15",
   "metadata": {},
   "outputs": [],
   "source": [
    "df_model = df.drop(['EVENT','BOUT','FIGHTER_f1','OPPONENT','METHOD','Women_fight','ROUND','TotalTime_f1'],axis=1)"
   ]
  },
  {
   "cell_type": "code",
   "execution_count": 485,
   "id": "9b03af1f",
   "metadata": {},
   "outputs": [
    {
     "name": "stdout",
     "output_type": "stream",
     "text": [
      "<class 'pandas.core.frame.DataFrame'>\n",
      "Int64Index: 4117 entries, 0 to 4116\n",
      "Data columns (total 87 columns):\n",
      " #   Column                          Non-Null Count  Dtype  \n",
      "---  ------                          --------------  -----  \n",
      " 0   Win                             4117 non-null   int64  \n",
      " 1   HEIGHT_diff                     4117 non-null   float64\n",
      " 2   REACH_diff                      4117 non-null   float64\n",
      " 3   AGE_diff                        4117 non-null   float64\n",
      " 4   form_skore_fighter              4117 non-null   float64\n",
      " 5   form_skore_opponent             4117 non-null   float64\n",
      " 6   fightNo_fighter                 4117 non-null   int64  \n",
      " 7   fightNo_opponent                4117 non-null   float64\n",
      " 8   Win_tot                         4117 non-null   float64\n",
      " 9   DRAW                            4117 non-null   float64\n",
      " 10  No_contest                      4117 non-null   float64\n",
      " 11  CTRL_pct_fighterf1              4117 non-null   float64\n",
      " 12  SIG.STR._acc_fighterf1          4117 non-null   float64\n",
      " 13  SIG.STR._perRound_fighterf1     4117 non-null   float64\n",
      " 14  TOTAL STR._acc_fighterf1        4117 non-null   float64\n",
      " 15  TOTAL STR._perRound_fighterf1   4117 non-null   float64\n",
      " 16  TD_acc_fighterf1                4117 non-null   float64\n",
      " 17  TD_perRound_fighterf1           4117 non-null   float64\n",
      " 18  HEAD_acc_fighterf1              4117 non-null   float64\n",
      " 19  HEAD_perRound_fighterf1         4117 non-null   float64\n",
      " 20  BODY_acc_fighterf1              4117 non-null   float64\n",
      " 21  BODY_perRound_fighterf1         4117 non-null   float64\n",
      " 22  LEG_acc_fighterf1               4117 non-null   float64\n",
      " 23  LEG_perRound_fighterf1          4117 non-null   float64\n",
      " 24  DISTANCE_acc_fighterf1          4117 non-null   float64\n",
      " 25  DISTANCE_perRound_fighterf1     4117 non-null   float64\n",
      " 26  CLINCH_acc_fighterf1            4117 non-null   float64\n",
      " 27  CLINCH_perRound_fighterf1       4117 non-null   float64\n",
      " 28  GROUND_acc_fighterf1            4117 non-null   float64\n",
      " 29  GROUND_perRound_fighterf1       4117 non-null   float64\n",
      " 30  CTRL_pct_opponentf1             4117 non-null   float64\n",
      " 31  SIG.STR._acc_opponentf1         4117 non-null   float64\n",
      " 32  SIG.STR._perRound_opponentf1    4117 non-null   float64\n",
      " 33  TOTAL STR._acc_opponentf1       4117 non-null   float64\n",
      " 34  TOTAL STR._perRound_opponentf1  4117 non-null   float64\n",
      " 35  TD_acc_opponentf1               4117 non-null   float64\n",
      " 36  TD_perRound_opponentf1          4117 non-null   float64\n",
      " 37  HEAD_acc_opponentf1             4117 non-null   float64\n",
      " 38  HEAD_perRound_opponentf1        4117 non-null   float64\n",
      " 39  BODY_acc_opponentf1             4117 non-null   float64\n",
      " 40  BODY_perRound_opponentf1        4117 non-null   float64\n",
      " 41  LEG_acc_opponentf1              4117 non-null   float64\n",
      " 42  LEG_perRound_opponentf1         4117 non-null   float64\n",
      " 43  DISTANCE_acc_opponentf1         4117 non-null   float64\n",
      " 44  DISTANCE_perRound_opponentf1    4117 non-null   float64\n",
      " 45  CLINCH_acc_opponentf1           4117 non-null   float64\n",
      " 46  CLINCH_perRound_opponentf1      4117 non-null   float64\n",
      " 47  GROUND_acc_opponentf1           4117 non-null   float64\n",
      " 48  GROUND_perRound_opponentf1      4117 non-null   float64\n",
      " 49  CTRL_pct_fighterf2              4117 non-null   float64\n",
      " 50  SIG.STR._acc_fighterf2          4117 non-null   float64\n",
      " 51  SIG.STR._perRound_fighterf2     4117 non-null   float64\n",
      " 52  TOTAL STR._acc_fighterf2        4117 non-null   float64\n",
      " 53  TOTAL STR._perRound_fighterf2   4117 non-null   float64\n",
      " 54  TD_acc_fighterf2                4117 non-null   float64\n",
      " 55  TD_perRound_fighterf2           4117 non-null   float64\n",
      " 56  HEAD_acc_fighterf2              4117 non-null   float64\n",
      " 57  HEAD_perRound_fighterf2         4117 non-null   float64\n",
      " 58  BODY_acc_fighterf2              4117 non-null   float64\n",
      " 59  BODY_perRound_fighterf2         4117 non-null   float64\n",
      " 60  LEG_acc_fighterf2               4117 non-null   float64\n",
      " 61  LEG_perRound_fighterf2          4117 non-null   float64\n",
      " 62  DISTANCE_acc_fighterf2          4117 non-null   float64\n",
      " 63  DISTANCE_perRound_fighterf2     4117 non-null   float64\n",
      " 64  CLINCH_acc_fighterf2            4117 non-null   float64\n",
      " 65  CLINCH_perRound_fighterf2       4117 non-null   float64\n",
      " 66  GROUND_acc_fighterf2            4117 non-null   float64\n",
      " 67  GROUND_perRound_fighterf2       4117 non-null   float64\n",
      " 68  CTRL_pct_opponentf2             4117 non-null   float64\n",
      " 69  SIG.STR._acc_opponentf2         4117 non-null   float64\n",
      " 70  SIG.STR._perRound_opponentf2    4117 non-null   float64\n",
      " 71  TOTAL STR._acc_opponentf2       4117 non-null   float64\n",
      " 72  TOTAL STR._perRound_opponentf2  4117 non-null   float64\n",
      " 73  TD_acc_opponentf2               4117 non-null   float64\n",
      " 74  TD_perRound_opponentf2          4117 non-null   float64\n",
      " 75  HEAD_acc_opponentf2             4117 non-null   float64\n",
      " 76  HEAD_perRound_opponentf2        4117 non-null   float64\n",
      " 77  BODY_acc_opponentf2             4117 non-null   float64\n",
      " 78  BODY_perRound_opponentf2        4117 non-null   float64\n",
      " 79  LEG_acc_opponentf2              4117 non-null   float64\n",
      " 80  LEG_perRound_opponentf2         4117 non-null   float64\n",
      " 81  DISTANCE_acc_opponentf2         4117 non-null   float64\n",
      " 82  DISTANCE_perRound_opponentf2    4117 non-null   float64\n",
      " 83  CLINCH_acc_opponentf2           4117 non-null   float64\n",
      " 84  CLINCH_perRound_opponentf2      4117 non-null   float64\n",
      " 85  GROUND_acc_opponentf2           4117 non-null   float64\n",
      " 86  GROUND_perRound_opponentf2      4117 non-null   float64\n",
      "dtypes: float64(85), int64(2)\n",
      "memory usage: 2.8 MB\n"
     ]
    }
   ],
   "source": [
    "df_model = df_model.fillna(0)\n",
    "df_model.info()"
   ]
  },
  {
   "cell_type": "code",
   "execution_count": 486,
   "id": "a3834de4",
   "metadata": {},
   "outputs": [],
   "source": [
    "X=df_model.loc[3000:, ~df_model.columns.isin(['Win'])]\n",
    "y=df_model.loc[3000:,'Win']"
   ]
  },
  {
   "cell_type": "code",
   "execution_count": 487,
   "id": "47676207",
   "metadata": {},
   "outputs": [],
   "source": [
    "scaler = StandardScaler()\n",
    "X_scaled = scaler.fit_transform(X)"
   ]
  },
  {
   "cell_type": "code",
   "execution_count": 488,
   "id": "febc1098",
   "metadata": {},
   "outputs": [
    {
     "data": {
      "text/plain": [
       "3000    0\n",
       "3001    1\n",
       "3002    0\n",
       "3003    1\n",
       "3004    0\n",
       "       ..\n",
       "4112    1\n",
       "4113    1\n",
       "4114    0\n",
       "4115    0\n",
       "4116    1\n",
       "Name: Win, Length: 1117, dtype: int64"
      ]
     },
     "execution_count": 488,
     "metadata": {},
     "output_type": "execute_result"
    }
   ],
   "source": [
    "y"
   ]
  },
  {
   "cell_type": "code",
   "execution_count": 489,
   "id": "a06141ba",
   "metadata": {},
   "outputs": [],
   "source": [
    "X_train = X_scaled[:1000,:]\n",
    "X_test= X_scaled[1000:,:]\n",
    "y_train = y[:1000]\n",
    "y_test = y[1000:]"
   ]
  },
  {
   "cell_type": "code",
   "execution_count": 490,
   "id": "8c917231",
   "metadata": {},
   "outputs": [],
   "source": [
    "X_train, X_test, y_train, y_test = train_test_split(X_scaled, y, random_state = 0)"
   ]
  },
  {
   "cell_type": "code",
   "execution_count": 491,
   "id": "03d469b2",
   "metadata": {},
   "outputs": [
    {
     "data": {
      "text/plain": [
       "(1117, 86)"
      ]
     },
     "execution_count": 491,
     "metadata": {},
     "output_type": "execute_result"
    }
   ],
   "source": [
    "X.shape"
   ]
  },
  {
   "cell_type": "code",
   "execution_count": 492,
   "id": "982e16f1",
   "metadata": {},
   "outputs": [
    {
     "data": {
      "text/plain": [
       "(837,)"
      ]
     },
     "execution_count": 492,
     "metadata": {},
     "output_type": "execute_result"
    }
   ],
   "source": [
    "y_train.shape"
   ]
  },
  {
   "cell_type": "code",
   "execution_count": 493,
   "id": "c700838d",
   "metadata": {},
   "outputs": [
    {
     "name": "stdout",
     "output_type": "stream",
     "text": [
      "0.5857142857142857 0.5857142857142857\n"
     ]
    }
   ],
   "source": [
    "from sklearn.linear_model import LogisticRegression\n",
    "logreg=LogisticRegression(multi_class='ovr', max_iter=50000)\n",
    "logreg.fit(X_train,y_train)\n",
    "predictions = logreg.predict(X_test)\n",
    "acc = accuracy_score(y_test, predictions) \n",
    "f1 = f1_score(y_test, predictions,average='micro')\n",
    "print(f1, acc)"
   ]
  },
  {
   "cell_type": "code",
   "execution_count": 494,
   "id": "ee8538cd",
   "metadata": {},
   "outputs": [],
   "source": [
    "class_neur = MLPClassifier(random_state=1, max_iter=100)"
   ]
  },
  {
   "cell_type": "code",
   "execution_count": 495,
   "id": "2821fed3",
   "metadata": {},
   "outputs": [
    {
     "name": "stderr",
     "output_type": "stream",
     "text": [
      "D:\\anacinda\\lib\\site-packages\\keras\\optimizers\\optimizer_v2\\gradient_descent.py:114: UserWarning: The `lr` argument is deprecated, use `learning_rate` instead.\n",
      "  super().__init__(name, **kwargs)\n"
     ]
    }
   ],
   "source": [
    "from keras.optimizers import SGD\n",
    "\n",
    "opt = SGD(lr=0.01)"
   ]
  },
  {
   "cell_type": "code",
   "execution_count": 496,
   "id": "65b2955f",
   "metadata": {},
   "outputs": [],
   "source": [
    "model = Sequential()\n",
    "model.add(layers.Dense(16, activation='tanh', input_dim=X_train.shape[1]))\n",
    "model.add(Dropout(0.3))\n",
    "model.add(layers.Dense(8, activation='tanh'))\n",
    "model.add(Dropout(0.3))\n",
    "model.add(layers.Dense(4, activation='relu'))\n",
    "model.add(layers.Dense(1, activation='sigmoid'))\n",
    "model.compile(optimizer = opt,\n",
    "                loss='binary_crossentropy',\n",
    "                metrics=['accuracy'])  "
   ]
  },
  {
   "cell_type": "code",
   "execution_count": 497,
   "id": "481dcd60",
   "metadata": {},
   "outputs": [
    {
     "name": "stdout",
     "output_type": "stream",
     "text": [
      "Epoch 1/50\n",
      "140/140 [==============================] - 1s 2ms/step - loss: 0.7109 - accuracy: 0.5094 - val_loss: 0.7009 - val_accuracy: 0.4857\n",
      "Epoch 2/50\n",
      "140/140 [==============================] - 0s 1ms/step - loss: 0.6967 - accuracy: 0.5318 - val_loss: 0.6918 - val_accuracy: 0.5214\n",
      "Epoch 3/50\n",
      "140/140 [==============================] - 0s 1ms/step - loss: 0.6806 - accuracy: 0.5640 - val_loss: 0.6866 - val_accuracy: 0.5393\n",
      "Epoch 4/50\n",
      "140/140 [==============================] - 0s 1ms/step - loss: 0.6898 - accuracy: 0.5336 - val_loss: 0.6833 - val_accuracy: 0.5536\n",
      "Epoch 5/50\n",
      "140/140 [==============================] - 0s 1ms/step - loss: 0.6819 - accuracy: 0.5524 - val_loss: 0.6812 - val_accuracy: 0.5536\n",
      "Epoch 6/50\n",
      "140/140 [==============================] - 0s 1ms/step - loss: 0.6822 - accuracy: 0.5542 - val_loss: 0.6788 - val_accuracy: 0.5536\n",
      "Epoch 7/50\n",
      "140/140 [==============================] - 0s 1ms/step - loss: 0.6850 - accuracy: 0.5542 - val_loss: 0.6779 - val_accuracy: 0.5643\n",
      "Epoch 8/50\n",
      "140/140 [==============================] - 0s 1ms/step - loss: 0.6797 - accuracy: 0.5568 - val_loss: 0.6755 - val_accuracy: 0.5571\n",
      "Epoch 9/50\n",
      "140/140 [==============================] - 0s 1ms/step - loss: 0.6772 - accuracy: 0.5667 - val_loss: 0.6738 - val_accuracy: 0.5679\n",
      "Epoch 10/50\n",
      "140/140 [==============================] - 0s 1ms/step - loss: 0.6798 - accuracy: 0.5443 - val_loss: 0.6708 - val_accuracy: 0.5679\n",
      "Epoch 11/50\n",
      "140/140 [==============================] - 0s 1ms/step - loss: 0.6795 - accuracy: 0.5577 - val_loss: 0.6689 - val_accuracy: 0.5964\n",
      "Epoch 12/50\n",
      "140/140 [==============================] - 0s 1ms/step - loss: 0.6749 - accuracy: 0.5846 - val_loss: 0.6664 - val_accuracy: 0.6036\n",
      "Epoch 13/50\n",
      "140/140 [==============================] - 0s 1ms/step - loss: 0.6751 - accuracy: 0.5739 - val_loss: 0.6651 - val_accuracy: 0.6143\n",
      "Epoch 14/50\n",
      "140/140 [==============================] - 0s 2ms/step - loss: 0.6741 - accuracy: 0.5900 - val_loss: 0.6625 - val_accuracy: 0.6179\n",
      "Epoch 15/50\n",
      "140/140 [==============================] - 0s 2ms/step - loss: 0.6681 - accuracy: 0.5927 - val_loss: 0.6601 - val_accuracy: 0.6250\n",
      "Epoch 16/50\n",
      "140/140 [==============================] - 0s 1ms/step - loss: 0.6644 - accuracy: 0.5936 - val_loss: 0.6582 - val_accuracy: 0.6429\n",
      "Epoch 17/50\n",
      "140/140 [==============================] - 0s 1ms/step - loss: 0.6747 - accuracy: 0.5909 - val_loss: 0.6570 - val_accuracy: 0.6429\n",
      "Epoch 18/50\n",
      "140/140 [==============================] - 0s 2ms/step - loss: 0.6686 - accuracy: 0.5936 - val_loss: 0.6542 - val_accuracy: 0.6429\n",
      "Epoch 19/50\n",
      "140/140 [==============================] - 0s 2ms/step - loss: 0.6685 - accuracy: 0.6061 - val_loss: 0.6521 - val_accuracy: 0.6500\n",
      "Epoch 20/50\n",
      "140/140 [==============================] - 0s 1ms/step - loss: 0.6591 - accuracy: 0.6115 - val_loss: 0.6495 - val_accuracy: 0.6500\n",
      "Epoch 21/50\n",
      "140/140 [==============================] - 0s 1ms/step - loss: 0.6510 - accuracy: 0.6150 - val_loss: 0.6450 - val_accuracy: 0.6643\n",
      "Epoch 22/50\n",
      "140/140 [==============================] - 0s 1ms/step - loss: 0.6650 - accuracy: 0.5900 - val_loss: 0.6447 - val_accuracy: 0.6571\n",
      "Epoch 23/50\n",
      "140/140 [==============================] - 0s 1ms/step - loss: 0.6593 - accuracy: 0.6088 - val_loss: 0.6448 - val_accuracy: 0.6679\n",
      "Epoch 24/50\n",
      "140/140 [==============================] - 0s 1ms/step - loss: 0.6613 - accuracy: 0.6025 - val_loss: 0.6427 - val_accuracy: 0.6607\n",
      "Epoch 25/50\n",
      "140/140 [==============================] - 0s 1ms/step - loss: 0.6559 - accuracy: 0.5989 - val_loss: 0.6415 - val_accuracy: 0.6571\n",
      "Epoch 26/50\n",
      "140/140 [==============================] - 0s 1ms/step - loss: 0.6585 - accuracy: 0.6088 - val_loss: 0.6412 - val_accuracy: 0.6357\n",
      "Epoch 27/50\n",
      "140/140 [==============================] - 0s 1ms/step - loss: 0.6606 - accuracy: 0.6106 - val_loss: 0.6391 - val_accuracy: 0.6714\n",
      "Epoch 28/50\n",
      "140/140 [==============================] - 0s 1ms/step - loss: 0.6485 - accuracy: 0.6374 - val_loss: 0.6349 - val_accuracy: 0.6607\n",
      "Epoch 29/50\n",
      "140/140 [==============================] - 0s 1ms/step - loss: 0.6492 - accuracy: 0.6338 - val_loss: 0.6333 - val_accuracy: 0.6607\n",
      "Epoch 30/50\n",
      "140/140 [==============================] - 0s 1ms/step - loss: 0.6537 - accuracy: 0.6303 - val_loss: 0.6328 - val_accuracy: 0.6643\n",
      "Epoch 31/50\n",
      "140/140 [==============================] - 0s 1ms/step - loss: 0.6491 - accuracy: 0.6150 - val_loss: 0.6306 - val_accuracy: 0.6643\n",
      "Epoch 32/50\n",
      "140/140 [==============================] - 0s 1ms/step - loss: 0.6473 - accuracy: 0.6401 - val_loss: 0.6286 - val_accuracy: 0.6643\n",
      "Epoch 33/50\n",
      "140/140 [==============================] - 0s 1ms/step - loss: 0.6399 - accuracy: 0.6544 - val_loss: 0.6261 - val_accuracy: 0.6714\n",
      "Epoch 34/50\n",
      "140/140 [==============================] - 0s 1ms/step - loss: 0.6558 - accuracy: 0.6070 - val_loss: 0.6244 - val_accuracy: 0.6750\n",
      "Epoch 35/50\n",
      "140/140 [==============================] - 0s 1ms/step - loss: 0.6532 - accuracy: 0.6132 - val_loss: 0.6219 - val_accuracy: 0.6786\n",
      "Epoch 36/50\n",
      "140/140 [==============================] - 0s 1ms/step - loss: 0.6457 - accuracy: 0.6410 - val_loss: 0.6216 - val_accuracy: 0.6786\n",
      "Epoch 37/50\n",
      "140/140 [==============================] - 0s 1ms/step - loss: 0.6503 - accuracy: 0.6177 - val_loss: 0.6213 - val_accuracy: 0.6786\n",
      "Epoch 38/50\n",
      "140/140 [==============================] - 0s 1ms/step - loss: 0.6436 - accuracy: 0.6222 - val_loss: 0.6195 - val_accuracy: 0.6821\n",
      "Epoch 39/50\n",
      "140/140 [==============================] - 0s 1ms/step - loss: 0.6445 - accuracy: 0.6321 - val_loss: 0.6190 - val_accuracy: 0.6857\n",
      "Epoch 40/50\n",
      "140/140 [==============================] - 0s 1ms/step - loss: 0.6406 - accuracy: 0.6356 - val_loss: 0.6181 - val_accuracy: 0.6786\n",
      "Epoch 41/50\n",
      "140/140 [==============================] - 0s 1ms/step - loss: 0.6382 - accuracy: 0.6437 - val_loss: 0.6150 - val_accuracy: 0.6821\n",
      "Epoch 42/50\n",
      "140/140 [==============================] - 0s 1ms/step - loss: 0.6326 - accuracy: 0.6598 - val_loss: 0.6111 - val_accuracy: 0.6821\n",
      "Epoch 43/50\n",
      "140/140 [==============================] - 0s 1ms/step - loss: 0.6366 - accuracy: 0.6446 - val_loss: 0.6101 - val_accuracy: 0.6857\n",
      "Epoch 44/50\n",
      "140/140 [==============================] - 0s 1ms/step - loss: 0.6440 - accuracy: 0.6356 - val_loss: 0.6086 - val_accuracy: 0.6893\n",
      "Epoch 45/50\n",
      "140/140 [==============================] - 0s 1ms/step - loss: 0.6439 - accuracy: 0.6401 - val_loss: 0.6088 - val_accuracy: 0.6964\n",
      "Epoch 46/50\n",
      "140/140 [==============================] - 0s 1ms/step - loss: 0.6422 - accuracy: 0.6464 - val_loss: 0.6084 - val_accuracy: 0.6821\n",
      "Epoch 47/50\n",
      "140/140 [==============================] - 0s 1ms/step - loss: 0.6312 - accuracy: 0.6517 - val_loss: 0.6048 - val_accuracy: 0.6929\n",
      "Epoch 48/50\n",
      "140/140 [==============================] - 0s 1ms/step - loss: 0.6266 - accuracy: 0.6446 - val_loss: 0.6026 - val_accuracy: 0.6964\n",
      "Epoch 49/50\n",
      "140/140 [==============================] - 0s 1ms/step - loss: 0.6321 - accuracy: 0.6634 - val_loss: 0.6006 - val_accuracy: 0.6929\n",
      "Epoch 50/50\n",
      "140/140 [==============================] - 0s 1ms/step - loss: 0.6252 - accuracy: 0.6482 - val_loss: 0.5985 - val_accuracy: 0.7071\n"
     ]
    }
   ],
   "source": [
    "history =model.fit(X_scaled, y, epochs=50, batch_size = 8, verbose=1,validation_data=(X_test, y_test))"
   ]
  },
  {
   "cell_type": "code",
   "execution_count": 498,
   "id": "34988cae",
   "metadata": {},
   "outputs": [
    {
     "name": "stdout",
     "output_type": "stream",
     "text": [
      "9/9 [==============================] - 0s 1ms/step - loss: 0.5985 - accuracy: 0.7071\n"
     ]
    }
   ],
   "source": [
    "test_loss, test_acc = model.evaluate(X_test, y_test)"
   ]
  },
  {
   "cell_type": "code",
   "execution_count": 499,
   "id": "2de87605",
   "metadata": {
    "scrolled": true
   },
   "outputs": [
    {
     "name": "stdout",
     "output_type": "stream",
     "text": [
      "9/9 [==============================] - 0s 875us/step\n"
     ]
    },
    {
     "data": {
      "image/png": "[encoded data removed]",
      "text/plain": [
       "<Figure size 640x480 with 1 Axes>"
      ]
     },
     "metadata": {},
     "output_type": "display_data"
    }
   ],
   "source": [
    "from sklearn.metrics import roc_curve\n",
    "import matplotlib.pyplot as plt\n",
    "\n",
    "y_pred_proba =model.predict(X_test)\n",
    "fpr, tpr, _ = roc_curve(y_test,  y_pred_proba)\n",
    "auc = roc_auc_score(y_test, y_pred_proba)\n",
    "plt.plot(fpr,tpr,label=\"data 1, auc=\"+str(auc))\n",
    "plt.legend(loc=4)\n",
    "plt.title(\"AUC ROC Curve\")\n",
    "plt.show()"
   ]
  },
  {
   "cell_type": "code",
   "execution_count": 190,
   "id": "7a5e5dd2",
   "metadata": {},
   "outputs": [
    {
     "ename": "ValueError",
     "evalue": "cannot reshape array of size 422604 into shape (4311,100,86)",
     "output_type": "error",
     "traceback": [
      "\u001b[1;31m---------------------------------------------------------------------------\u001b[0m",
      "\u001b[1;31mValueError\u001b[0m                                Traceback (most recent call last)",
      "\u001b[1;32m~\\AppData\\Local\\Temp\\ipykernel_21572\\2113638829.py\u001b[0m in \u001b[0;36m<module>\u001b[1;34m\u001b[0m\n\u001b[0;32m      4\u001b[0m \u001b[1;33m\u001b[0m\u001b[0m\n\u001b[0;32m      5\u001b[0m \u001b[0mX_train\u001b[0m \u001b[1;33m=\u001b[0m \u001b[0mX_train_df\u001b[0m\u001b[1;33m.\u001b[0m\u001b[0mvalues\u001b[0m\u001b[1;33m\u001b[0m\u001b[1;33m\u001b[0m\u001b[0m\n\u001b[1;32m----> 6\u001b[1;33m \u001b[0mX_train\u001b[0m \u001b[1;33m=\u001b[0m \u001b[0mX_train\u001b[0m\u001b[1;33m.\u001b[0m\u001b[0mreshape\u001b[0m\u001b[1;33m(\u001b[0m\u001b[1;36m4311\u001b[0m\u001b[1;33m,\u001b[0m \u001b[1;36m100\u001b[0m\u001b[1;33m,\u001b[0m \u001b[1;36m86\u001b[0m\u001b[1;33m)\u001b[0m\u001b[1;33m\u001b[0m\u001b[1;33m\u001b[0m\u001b[0m\n\u001b[0m",
      "\u001b[1;31mValueError\u001b[0m: cannot reshape array of size 422604 into shape (4311,100,86)"
     ]
    }
   ],
   "source": [
    "X_train_df = pd.DataFrame(X_train)\n",
    "X_train_df = X_train_df.rolling(window=100).mean()\n",
    "X_train_df = X_train_df.dropna()\n",
    "\n",
    "X_train = X_train_df.values\n",
    "X_train = X_train.reshape(4311, 100, 86)"
   ]
  },
  {
   "cell_type": "code",
   "execution_count": 468,
   "id": "36b1cdc6",
   "metadata": {},
   "outputs": [
    {
     "ename": "ValueError",
     "evalue": "cannot reshape array of size 76798 into shape (5453,80,86)",
     "output_type": "error",
     "traceback": [
      "\u001b[1;31m---------------------------------------------------------------------------\u001b[0m",
      "\u001b[1;31mValueError\u001b[0m                                Traceback (most recent call last)",
      "\u001b[1;32m~\\AppData\\Local\\Temp\\ipykernel_21572\\240978869.py\u001b[0m in \u001b[0;36m<module>\u001b[1;34m\u001b[0m\n\u001b[0;32m     10\u001b[0m \u001b[0mX_train\u001b[0m \u001b[1;33m=\u001b[0m \u001b[0mX_train\u001b[0m\u001b[1;33m.\u001b[0m\u001b[0mvalues\u001b[0m\u001b[1;33m\u001b[0m\u001b[1;33m\u001b[0m\u001b[0m\n\u001b[0;32m     11\u001b[0m \u001b[0mX_test\u001b[0m \u001b[1;33m=\u001b[0m \u001b[0mX_test\u001b[0m\u001b[1;33m.\u001b[0m\u001b[0mvalues\u001b[0m\u001b[1;33m\u001b[0m\u001b[1;33m\u001b[0m\u001b[0m\n\u001b[1;32m---> 12\u001b[1;33m \u001b[0mX_train\u001b[0m \u001b[1;33m=\u001b[0m \u001b[0mX_train\u001b[0m\u001b[1;33m.\u001b[0m\u001b[0mreshape\u001b[0m\u001b[1;33m(\u001b[0m\u001b[1;36m5453\u001b[0m\u001b[1;33m,\u001b[0m \u001b[1;36m80\u001b[0m\u001b[1;33m,\u001b[0m \u001b[1;36m86\u001b[0m\u001b[1;33m)\u001b[0m\u001b[1;33m\u001b[0m\u001b[1;33m\u001b[0m\u001b[0m\n\u001b[0m\u001b[0;32m     13\u001b[0m \u001b[0mX_test\u001b[0m \u001b[1;33m=\u001b[0m \u001b[0mX_test\u001b[0m\u001b[1;33m.\u001b[0m\u001b[0mreshape\u001b[0m\u001b[1;33m(\u001b[0m\u001b[1;36m5453\u001b[0m\u001b[1;33m,\u001b[0m \u001b[1;36m80\u001b[0m\u001b[1;33m,\u001b[0m \u001b[1;36m86\u001b[0m\u001b[1;33m)\u001b[0m\u001b[1;33m\u001b[0m\u001b[1;33m\u001b[0m\u001b[0m\n\u001b[0;32m     14\u001b[0m \u001b[1;31m# Define the model\u001b[0m\u001b[1;33m\u001b[0m\u001b[1;33m\u001b[0m\u001b[0m\n",
      "\u001b[1;31mValueError\u001b[0m: cannot reshape array of size 76798 into shape (5453,80,86)"
     ]
    }
   ],
   "source": [
    "from keras.models import Sequential\n",
    "from keras.layers import GRU, Dense, Dropout\n",
    "from sklearn.model_selection import train_test_split\n",
    "\n",
    "# Split the data into training and test sets\n",
    "X_train, X_test, y_train, y_test = train_test_split(X, y, test_size=0.2, random_state=42)\n",
    "\n",
    "# Reshape the input data to have a 3D shape of (samples, lookback, features)\n",
    "# Here we use lookback = 100\n",
    "X_train = X_train.values\n",
    "X_test = X_test.values\n",
    "X_train = X_train.reshape(5453, 80, 86)\n",
    "X_test = X_test.reshape(5453, 80, 86)\n",
    "# Define the model\n",
    "model = Sequential()\n",
    "model.add(GRU(4, activation='tanh', input_shape=(100,X_train.shape[2]), return_sequences=True))\n",
    "model.add(Dropout(0.4))\n",
    "model.add(GRU(8, activation='tanh'))\n",
    "model.add(Dropout(0.4))\n",
    "model.add(Dense(1, activation='sigmoid'))\n",
    "\n",
    "# Compile the model\n",
    "model.compile(optimizer = opt, loss='binary_crossentropy', metrics=['accuracy'])\n",
    "\n",
    "# Fit the model to the training data\n",
    "history = model.fit(X_train, y_train, epochs=10, batch_size=32, validation_data=(X_test, y_test))\n"
   ]
  },
  {
   "cell_type": "code",
   "execution_count": null,
   "id": "dfb12560",
   "metadata": {},
   "outputs": [],
   "source": [
    "from sklearn.ensemble import RandomForestClassifier\n",
    "from sklearn.model_selection import RandomizedSearchCV\n",
    "from scipy.stats import randint\n",
    "\n",
    "# Define the parameter distribution\n",
    "param_dist = {\"n_estimators\": randint(10, 100),\n",
    "              \"max_depth\": randint(1, 10),\n",
    "              \"min_samples_split\": randint(2, 10),\n",
    "              \"min_samples_leaf\": randint(1, 10)}\n",
    "\n",
    "# Instantiate the random forest classifier\n",
    "rf = RandomForestClassifier()\n",
    "\n",
    "# Instantiate the randomized search\n",
    "random_search = RandomizedSearchCV(rf, param_distributions=param_dist,\n",
    "                                   n_iter=100, cv=5, random_state=42)\n",
    "\n",
    "# Fit the randomized search on the data\n",
    "random_search.fit(X_train, y_train)\n",
    "\n",
    "# Print the best hyperparameters\n",
    "print(random_search.best_score_)\n",
    "print(random_search.best_params_)"
   ]
  },
  {
   "cell_type": "code",
   "execution_count": 67,
   "id": "5975f89e",
   "metadata": {},
   "outputs": [],
   "source": [
    "fighter1 = \"Nate Diaz\"\n",
    "fighter2 = \"Conor McGregor\""
   ]
  },
  {
   "cell_type": "code",
   "execution_count": 42,
   "id": "322698fb",
   "metadata": {},
   "outputs": [],
   "source": [
    "df_fighters.loc[:,'pct_of_control_fighter'] = df_fighters['CTRL_fighter']/df_fighters['TotalTime']\n",
    "df_fighters.loc[:,'strikes_fighter_f'] = (df_fighters['SIG.STR._landed_fighter']/df_fighters['TotalTime'])*60\n"
   ]
  },
  {
   "cell_type": "code",
   "execution_count": 57,
   "id": "8387a763",
   "metadata": {},
   "outputs": [],
   "source": [
    "df_fighters[['form_skore_fighter','pct_of_control_fighter', 'strikes_fighter_f']] = scaler.fit_transform(df_fighters[['form_skore_fighter','pct_of_control_fighter', 'strikes_fighter_f']])"
   ]
  },
  {
   "cell_type": "code",
   "execution_count": 68,
   "id": "04e2b1e2",
   "metadata": {},
   "outputs": [],
   "source": [
    "f1 = df_fighters.loc[df_fighters[\"FIGHTER\"]==fighter1 ,['form_skore_fighter','pct_of_control_fighter', 'strikes_fighter_f']].values.flatten().tolist()"
   ]
  },
  {
   "cell_type": "code",
   "execution_count": 69,
   "id": "13ff45a1",
   "metadata": {},
   "outputs": [],
   "source": [
    "f2 = df_fighters.loc[df_fighters[\"FIGHTER\"]==fighter2 ,['form_skore_fighter','pct_of_control_fighter', 'strikes_fighter_f']].values.flatten().tolist()"
   ]
  },
  {
   "cell_type": "code",
   "execution_count": 70,
   "id": "634aabc7",
   "metadata": {},
   "outputs": [
    {
     "data": {
      "text/plain": [
       "[0.39875325803342343,\n",
       " -0.45128862367049577,\n",
       " 0.8860974239040257,\n",
       " -0.45686035044738443,\n",
       " -0.5655206746811349,\n",
       " 1.4218252543277097]"
      ]
     },
     "execution_count": 70,
     "metadata": {},
     "output_type": "execute_result"
    }
   ],
   "source": [
    "f1+f2"
   ]
  },
  {
   "cell_type": "code",
   "execution_count": 71,
   "id": "057c0f6e",
   "metadata": {},
   "outputs": [
    {
     "name": "stdout",
     "output_type": "stream",
     "text": [
      "1/1 [==============================] - 0s 45ms/step\n"
     ]
    },
    {
     "data": {
      "text/plain": [
       "0.5540724"
      ]
     },
     "execution_count": 71,
     "metadata": {},
     "output_type": "execute_result"
    }
   ],
   "source": [
    "predikce = model.predict([f1+f2])\n",
    "predikce[0][0]"
   ]
  },
  {
   "cell_type": "code",
   "execution_count": 72,
   "id": "281d546f",
   "metadata": {},
   "outputs": [
    {
     "name": "stdout",
     "output_type": "stream",
     "text": [
      "Nate Diaz: 55.41%  vs Conor McGregor: 44.59\n"
     ]
    }
   ],
   "source": [
    "print(f\"{fighter1}: {round(predikce[0][0]*100,2)}%  vs {fighter2}: {round((1-predikce[0][0])*100,2)}\")"
   ]
  },
  {
   "cell_type": "code",
   "execution_count": 73,
   "id": "3c1d0f82",
   "metadata": {},
   "outputs": [
    {
     "data": {
      "text/plain": [
       "False"
      ]
     },
     "execution_count": 73,
     "metadata": {},
     "output_type": "execute_result"
    }
   ],
   "source": [
    "'McGr' in df_fighters['FIGHTER'].tolist()"
   ]
  },
  {
   "cell_type": "code",
   "execution_count": null,
   "id": "7bc04b75",
   "metadata": {},
   "outputs": [],
   "source": []
  }
 ],
 "metadata": {
  "kernelspec": {
   "display_name": "Python 3 (ipykernel)",
   "language": "python",
   "name": "python3"
  },
  "language_info": {
   "codemirror_mode": {
    "name": "ipython",
    "version": 3
   },
   "file_extension": ".py",
   "mimetype": "text/x-python",
   "name": "python",
   "nbconvert_exporter": "python",
   "pygments_lexer": "ipython3",
   "version": "3.9.13"
  }
 },
 "nbformat": 4,
 "nbformat_minor": 5
}
